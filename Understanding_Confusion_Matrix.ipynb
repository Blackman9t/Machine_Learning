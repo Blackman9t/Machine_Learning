{
  "nbformat": 4,
  "nbformat_minor": 0,
  "metadata": {
    "colab": {
      "name": "Understanding_Confusion_Matrix.ipynb",
      "version": "0.3.2",
      "provenance": [],
      "collapsed_sections": [],
      "include_colab_link": true
    },
    "kernelspec": {
      "name": "python3",
      "display_name": "Python 3"
    },
    "accelerator": "GPU"
  },
  "cells": [
    {
      "cell_type": "markdown",
      "metadata": {
        "id": "view-in-github",
        "colab_type": "text"
      },
      "source": [
        "<a href=\"https://colab.research.google.com/github/Blackman9t/Machine_Learning/blob/master/Understanding_Confusion_Matrix.ipynb\" target=\"_parent\"><img src=\"https://colab.research.google.com/assets/colab-badge.svg\" alt=\"Open In Colab\"/></a>"
      ]
    },
    {
      "cell_type": "code",
      "metadata": {
        "id": "iDhT4fAxgOzZ",
        "colab_type": "code",
        "outputId": "a00a91d5-85e3-4fbb-d5a5-9c5500d6795d",
        "colab": {
          "base_uri": "https://localhost:8080/",
          "height": 34
        }
      },
      "source": [
        "print(__doc__)\n",
        "\n",
        "import numpy as np\n",
        "import matplotlib.pyplot as plt\n",
        "import seaborn as sns\n",
        "import pandas as pd\n",
        "import itertools\n",
        "from itertools import cycle\n",
        "\n",
        "from sklearn import svm, datasets\n",
        "from sklearn.metrics import roc_curve, auc\n",
        "from sklearn.model_selection import train_test_split\n",
        "from sklearn.preprocessing import label_binarize\n",
        "from sklearn.multiclass import OneVsRestClassifier\n",
        "from scipy import interp\n",
        "\n"
      ],
      "execution_count": 1,
      "outputs": [
        {
          "output_type": "stream",
          "text": [
            "Automatically created module for IPython interactive environment\n"
          ],
          "name": "stdout"
        }
      ]
    },
    {
      "cell_type": "markdown",
      "metadata": {
        "id": "K4MzCNjgh2W0",
        "colab_type": "text"
      },
      "source": [
        "Let's import our data set from github and read into a Pandas Data frame"
      ]
    },
    {
      "cell_type": "code",
      "metadata": {
        "id": "CuVVGqibiAwq",
        "colab_type": "code",
        "outputId": "f911c9b5-caeb-4e30-e7a1-3fa81f6f133c",
        "colab": {
          "base_uri": "https://localhost:8080/",
          "height": 195
        }
      },
      "source": [
        "data_link = 'https://raw.githubusercontent.com/Blackman9t/Machine_Learning/master/diabetes.csv'\n",
        "\n",
        "diabetes_df = pd.read_csv(data_link)\n",
        "\n",
        "diabetes_df.head()"
      ],
      "execution_count": 2,
      "outputs": [
        {
          "output_type": "execute_result",
          "data": {
            "text/html": [
              "<div>\n",
              "<style scoped>\n",
              "    .dataframe tbody tr th:only-of-type {\n",
              "        vertical-align: middle;\n",
              "    }\n",
              "\n",
              "    .dataframe tbody tr th {\n",
              "        vertical-align: top;\n",
              "    }\n",
              "\n",
              "    .dataframe thead th {\n",
              "        text-align: right;\n",
              "    }\n",
              "</style>\n",
              "<table border=\"1\" class=\"dataframe\">\n",
              "  <thead>\n",
              "    <tr style=\"text-align: right;\">\n",
              "      <th></th>\n",
              "      <th>PatientID</th>\n",
              "      <th>Pregnancies</th>\n",
              "      <th>PlasmaGlucose</th>\n",
              "      <th>DiastolicBloodPressure</th>\n",
              "      <th>TricepsThickness</th>\n",
              "      <th>SerumInsulin</th>\n",
              "      <th>BMI</th>\n",
              "      <th>DiabetesPedigree</th>\n",
              "      <th>Age</th>\n",
              "      <th>Diabetic</th>\n",
              "    </tr>\n",
              "  </thead>\n",
              "  <tbody>\n",
              "    <tr>\n",
              "      <th>0</th>\n",
              "      <td>1354778</td>\n",
              "      <td>0</td>\n",
              "      <td>171</td>\n",
              "      <td>80</td>\n",
              "      <td>34</td>\n",
              "      <td>23</td>\n",
              "      <td>43.509726</td>\n",
              "      <td>1.213191</td>\n",
              "      <td>21</td>\n",
              "      <td>0</td>\n",
              "    </tr>\n",
              "    <tr>\n",
              "      <th>1</th>\n",
              "      <td>1147438</td>\n",
              "      <td>8</td>\n",
              "      <td>92</td>\n",
              "      <td>93</td>\n",
              "      <td>47</td>\n",
              "      <td>36</td>\n",
              "      <td>21.240576</td>\n",
              "      <td>0.158365</td>\n",
              "      <td>23</td>\n",
              "      <td>0</td>\n",
              "    </tr>\n",
              "    <tr>\n",
              "      <th>2</th>\n",
              "      <td>1640031</td>\n",
              "      <td>7</td>\n",
              "      <td>115</td>\n",
              "      <td>47</td>\n",
              "      <td>52</td>\n",
              "      <td>35</td>\n",
              "      <td>41.511523</td>\n",
              "      <td>0.079019</td>\n",
              "      <td>23</td>\n",
              "      <td>0</td>\n",
              "    </tr>\n",
              "    <tr>\n",
              "      <th>3</th>\n",
              "      <td>1883350</td>\n",
              "      <td>9</td>\n",
              "      <td>103</td>\n",
              "      <td>78</td>\n",
              "      <td>25</td>\n",
              "      <td>304</td>\n",
              "      <td>29.582192</td>\n",
              "      <td>1.282870</td>\n",
              "      <td>43</td>\n",
              "      <td>1</td>\n",
              "    </tr>\n",
              "    <tr>\n",
              "      <th>4</th>\n",
              "      <td>1424119</td>\n",
              "      <td>1</td>\n",
              "      <td>85</td>\n",
              "      <td>59</td>\n",
              "      <td>27</td>\n",
              "      <td>35</td>\n",
              "      <td>42.604536</td>\n",
              "      <td>0.549542</td>\n",
              "      <td>22</td>\n",
              "      <td>0</td>\n",
              "    </tr>\n",
              "  </tbody>\n",
              "</table>\n",
              "</div>"
            ],
            "text/plain": [
              "   PatientID  Pregnancies  PlasmaGlucose  ...  DiabetesPedigree  Age  Diabetic\n",
              "0    1354778            0            171  ...          1.213191   21         0\n",
              "1    1147438            8             92  ...          0.158365   23         0\n",
              "2    1640031            7            115  ...          0.079019   23         0\n",
              "3    1883350            9            103  ...          1.282870   43         1\n",
              "4    1424119            1             85  ...          0.549542   22         0\n",
              "\n",
              "[5 rows x 10 columns]"
            ]
          },
          "metadata": {
            "tags": []
          },
          "execution_count": 2
        }
      ]
    },
    {
      "cell_type": "markdown",
      "metadata": {
        "id": "wy36kU00ijM8",
        "colab_type": "text"
      },
      "source": [
        "Let's check the shape and if any missing values exist"
      ]
    },
    {
      "cell_type": "code",
      "metadata": {
        "id": "fD2ShA1Qin4x",
        "colab_type": "code",
        "outputId": "ade66189-146b-4a88-a176-dc61d4809aaa",
        "colab": {
          "base_uri": "https://localhost:8080/",
          "height": 34
        }
      },
      "source": [
        "diabetes_df.shape"
      ],
      "execution_count": 3,
      "outputs": [
        {
          "output_type": "execute_result",
          "data": {
            "text/plain": [
              "(15000, 10)"
            ]
          },
          "metadata": {
            "tags": []
          },
          "execution_count": 3
        }
      ]
    },
    {
      "cell_type": "code",
      "metadata": {
        "id": "CrAm8bWLiqro",
        "colab_type": "code",
        "outputId": "1e68c3de-d76c-49ca-cc15-5003a7195844",
        "colab": {
          "base_uri": "https://localhost:8080/",
          "height": 202
        }
      },
      "source": [
        "diabetes_df.isna().any()"
      ],
      "execution_count": 4,
      "outputs": [
        {
          "output_type": "execute_result",
          "data": {
            "text/plain": [
              "PatientID                 False\n",
              "Pregnancies               False\n",
              "PlasmaGlucose             False\n",
              "DiastolicBloodPressure    False\n",
              "TricepsThickness          False\n",
              "SerumInsulin              False\n",
              "BMI                       False\n",
              "DiabetesPedigree          False\n",
              "Age                       False\n",
              "Diabetic                  False\n",
              "dtype: bool"
            ]
          },
          "metadata": {
            "tags": []
          },
          "execution_count": 4
        }
      ]
    },
    {
      "cell_type": "markdown",
      "metadata": {
        "id": "5PlahZq0mYx_",
        "colab_type": "text"
      },
      "source": [
        "Let's look at the distribution of each column, this would help us choose the most ideal feature normalization method.<br>\n",
        "First let's define a method that plots the distribution of each feature."
      ]
    },
    {
      "cell_type": "code",
      "metadata": {
        "id": "wVySOHK8msHN",
        "colab_type": "code",
        "colab": {}
      },
      "source": [
        "def plot_features(data):\n",
        "    plt.figure(figsize=(20, 10))\n",
        "    sns.set(font_scale=1.2)\n",
        "    sns.set_style('ticks') # change background to white background\n",
        "    plt.suptitle('Visualizing The Features Distribution', y=0.95)\n",
        "\n",
        "    # For The Bar chart\n",
        "    plt.subplot(241)\n",
        "    color_list = ['gold','purple','brown']\n",
        "    data.Age.plot(kind='hist', color='brown')\n",
        "    plt.xlabel('Age')\n",
        "    plt.ylabel('Frequency')\n",
        "\n",
        "    plt.subplot(242)\n",
        "    color_list = ['gold','purple','brown']\n",
        "    data.Pregnancies.plot(kind='hist', color='brown')\n",
        "    plt.xlabel('Pregnancies')\n",
        "    plt.ylabel('Frequency')\n",
        "\n",
        "    plt.subplot(243)\n",
        "    color_list = ['gold','purple','brown']\n",
        "    data.PlasmaGlucose.plot(kind='hist', color='brown')\n",
        "    plt.xlabel('PlasmaGlucose')\n",
        "    plt.ylabel('Frequency')\n",
        "\n",
        "    plt.subplot(244)\n",
        "    color_list = ['gold','purple','brown']\n",
        "    data.DiastolicBloodPressure.plot(kind='hist', color='brown')\n",
        "    plt.xlabel('DiastolicBP')\n",
        "    plt.ylabel('Frequency')\n",
        "\n",
        "    plt.subplot(245)\n",
        "    color_list = ['gold','purple','brown']\n",
        "    data.TricepsThickness.plot(kind='hist', color='brown')\n",
        "    plt.xlabel('TricepsThickness')\n",
        "    plt.ylabel('Frequency')\n",
        "\n",
        "    plt.subplot(246)\n",
        "    color_list = ['gold','purple','brown']\n",
        "    data.SerumInsulin.plot(kind='hist', color='brown')\n",
        "    plt.xlabel('SerumInsulin')\n",
        "    plt.ylabel('Frequency')\n",
        "\n",
        "\n",
        "    plt.subplot(247)\n",
        "    color_list = ['gold','purple','brown']\n",
        "    data.BMI.plot(kind='hist', color='brown')\n",
        "    plt.xlabel('BMI')\n",
        "    plt.ylabel('Frequency')\n",
        "\n",
        "    plt.subplot(248)\n",
        "    color_list = ['gold','purple','brown']\n",
        "    data.DiabetesPedigree.plot(kind='hist', color='brown')\n",
        "    plt.xlabel('DiabetesPedigree')\n",
        "    plt.ylabel('Frequency')\n",
        "\n",
        "    plt.show()"
      ],
      "execution_count": 0,
      "outputs": []
    },
    {
      "cell_type": "code",
      "metadata": {
        "id": "x4PlJMg7JAsP",
        "colab_type": "code",
        "outputId": "9240bb4c-e0fb-4455-fa39-b9a7d1fac49a",
        "colab": {
          "base_uri": "https://localhost:8080/",
          "height": 665
        }
      },
      "source": [
        "plot_features(diabetes_df)"
      ],
      "execution_count": 6,
      "outputs": [
        {
          "output_type": "display_data",
          "data": {
            "image/png": "[encoded data removed]",
            "text/plain": [
              "<Figure size 1440x720 with 8 Axes>"
            ]
          },
          "metadata": {
            "tags": []
          }
        }
      ]
    },
    {
      "cell_type": "markdown",
      "metadata": {
        "id": "eWkfoi6FF7AG",
        "colab_type": "text"
      },
      "source": [
        "We can see that features like Age, DiabetesPedigree, SerumInsulin and BMI seem to be skewed to the right.<br>\n",
        "This is due to a lot of smaller values and a progressive distribution of fewer large values.<br>\n",
        "Let's make the distribution better by using the log of the values, rather than actual values in these features.<br>\n",
        "This is a part of the  feature-engineering process in Machine Learning"
      ]
    },
    {
      "cell_type": "code",
      "metadata": {
        "id": "B1uy0emlF5kY",
        "colab_type": "code",
        "outputId": "3f05ca54-fda2-42e1-e626-f6b3ad0041b5",
        "colab": {
          "base_uri": "https://localhost:8080/",
          "height": 84
        }
      },
      "source": [
        "for i in diabetes_df.columns:\n",
        "    if i in ['Age', 'DiabetesPedigree', 'BMI', 'SerumInsulin']:\n",
        "        print(i)\n",
        "        diabetes_df[i] = diabetes_df[i].apply(np.log)\n"
      ],
      "execution_count": 7,
      "outputs": [
        {
          "output_type": "stream",
          "text": [
            "SerumInsulin\n",
            "BMI\n",
            "DiabetesPedigree\n",
            "Age\n"
          ],
          "name": "stdout"
        }
      ]
    },
    {
      "cell_type": "markdown",
      "metadata": {
        "id": "7wgOV2tyLJjQ",
        "colab_type": "text"
      },
      "source": [
        "Let's view the distribution again"
      ]
    },
    {
      "cell_type": "code",
      "metadata": {
        "id": "t4bVNsQRJjEz",
        "colab_type": "code",
        "outputId": "3e2f07f0-5c35-4821-882c-f7b36c114274",
        "colab": {
          "base_uri": "https://localhost:8080/",
          "height": 665
        }
      },
      "source": [
        "plot_features(diabetes_df)"
      ],
      "execution_count": 8,
      "outputs": [
        {
          "output_type": "display_data",
          "data": {
            "image/png": "[encoded data removed]",
            "text/plain": [
              "<Figure size 1440x720 with 8 Axes>"
            ]
          },
          "metadata": {
            "tags": []
          }
        }
      ]
    },
    {
      "cell_type": "markdown",
      "metadata": {
        "id": "qYiYg3NkLN3c",
        "colab_type": "text"
      },
      "source": [
        "From the above plots, we can see an improvement to the distribution of our features.<br>\n",
        "This would help us achieve a better result when we train the model"
      ]
    },
    {
      "cell_type": "markdown",
      "metadata": {
        "id": "7vXTDeo5mDGQ",
        "colab_type": "text"
      },
      "source": [
        "Okay so now, let's look at the dataset that contains the names of the doctors treating our respective patients.<br>\n",
        "The raw file is in Github, let's read it to a Dataframe."
      ]
    },
    {
      "cell_type": "code",
      "metadata": {
        "id": "K0J90XTBs0JW",
        "colab_type": "code",
        "outputId": "b16e3a67-2c91-4784-c900-8ab97296c70d",
        "colab": {
          "base_uri": "https://localhost:8080/",
          "height": 195
        }
      },
      "source": [
        "doctors_link = 'https://raw.githubusercontent.com/Blackman9t/Machine_Learning/master/doctors.csv'\n",
        "\n",
        "doctors_df = pd.read_csv(doctors_link, encoding='latin-1')\n",
        "# Note the above code line throws a UnicodeDecodeError except we encode the string in latin-1 as shown above.\n",
        "\n",
        "doctors_df.head()"
      ],
      "execution_count": 9,
      "outputs": [
        {
          "output_type": "execute_result",
          "data": {
            "text/html": [
              "<div>\n",
              "<style scoped>\n",
              "    .dataframe tbody tr th:only-of-type {\n",
              "        vertical-align: middle;\n",
              "    }\n",
              "\n",
              "    .dataframe tbody tr th {\n",
              "        vertical-align: top;\n",
              "    }\n",
              "\n",
              "    .dataframe thead th {\n",
              "        text-align: right;\n",
              "    }\n",
              "</style>\n",
              "<table border=\"1\" class=\"dataframe\">\n",
              "  <thead>\n",
              "    <tr style=\"text-align: right;\">\n",
              "      <th></th>\n",
              "      <th>PatientID</th>\n",
              "      <th>Physician</th>\n",
              "    </tr>\n",
              "  </thead>\n",
              "  <tbody>\n",
              "    <tr>\n",
              "      <th>0</th>\n",
              "      <td>1000038</td>\n",
              "      <td>Jeanne Vestergaard</td>\n",
              "    </tr>\n",
              "    <tr>\n",
              "      <th>1</th>\n",
              "      <td>1000069</td>\n",
              "      <td>Sheldon Comeaux</td>\n",
              "    </tr>\n",
              "    <tr>\n",
              "      <th>2</th>\n",
              "      <td>1000118</td>\n",
              "      <td>Brain Dulaney</td>\n",
              "    </tr>\n",
              "    <tr>\n",
              "      <th>3</th>\n",
              "      <td>1000183</td>\n",
              "      <td>Alaine Poisson</td>\n",
              "    </tr>\n",
              "    <tr>\n",
              "      <th>4</th>\n",
              "      <td>1000326</td>\n",
              "      <td>Erik Collado</td>\n",
              "    </tr>\n",
              "  </tbody>\n",
              "</table>\n",
              "</div>"
            ],
            "text/plain": [
              "   PatientID           Physician\n",
              "0    1000038  Jeanne Vestergaard\n",
              "1    1000069     Sheldon Comeaux\n",
              "2    1000118       Brain Dulaney\n",
              "3    1000183      Alaine Poisson\n",
              "4    1000326        Erik Collado"
            ]
          },
          "metadata": {
            "tags": []
          },
          "execution_count": 9
        }
      ]
    },
    {
      "cell_type": "code",
      "metadata": {
        "id": "RG01OWeTs_rr",
        "colab_type": "code",
        "outputId": "c6e2de99-a8f3-4fd5-c066-109d9de7da9a",
        "colab": {
          "base_uri": "https://localhost:8080/",
          "height": 34
        }
      },
      "source": [
        "doctors_df.shape"
      ],
      "execution_count": 10,
      "outputs": [
        {
          "output_type": "execute_result",
          "data": {
            "text/plain": [
              "(14895, 2)"
            ]
          },
          "metadata": {
            "tags": []
          },
          "execution_count": 10
        }
      ]
    },
    {
      "cell_type": "markdown",
      "metadata": {
        "id": "jPIhFJE-pU7C",
        "colab_type": "text"
      },
      "source": [
        "So we can see that the Doctor data is slightly smaller than the patients dataset.<br>\n",
        "This may be due to the fact that a few doctors saw more than one patient.<br>\n",
        "Let's left-join the diabetes_df and doctors_df data frames using the PatientID as the join key.<br>\n",
        "Left-join here is important so that we keep data for patients who may not have doctors names too."
      ]
    },
    {
      "cell_type": "code",
      "metadata": {
        "id": "lw7IvlJCpNxu",
        "colab_type": "code",
        "outputId": "89ec0347-8c11-4727-b086-8627f5dfe209",
        "colab": {
          "base_uri": "https://localhost:8080/",
          "height": 195
        }
      },
      "source": [
        "diabetes_doctor_df = pd.merge(diabetes_df, doctors_df, how='left', on='PatientID' )\n",
        "\n",
        "diabetes_doctor_df.head()"
      ],
      "execution_count": 11,
      "outputs": [
        {
          "output_type": "execute_result",
          "data": {
            "text/html": [
              "<div>\n",
              "<style scoped>\n",
              "    .dataframe tbody tr th:only-of-type {\n",
              "        vertical-align: middle;\n",
              "    }\n",
              "\n",
              "    .dataframe tbody tr th {\n",
              "        vertical-align: top;\n",
              "    }\n",
              "\n",
              "    .dataframe thead th {\n",
              "        text-align: right;\n",
              "    }\n",
              "</style>\n",
              "<table border=\"1\" class=\"dataframe\">\n",
              "  <thead>\n",
              "    <tr style=\"text-align: right;\">\n",
              "      <th></th>\n",
              "      <th>PatientID</th>\n",
              "      <th>Pregnancies</th>\n",
              "      <th>PlasmaGlucose</th>\n",
              "      <th>DiastolicBloodPressure</th>\n",
              "      <th>TricepsThickness</th>\n",
              "      <th>SerumInsulin</th>\n",
              "      <th>BMI</th>\n",
              "      <th>DiabetesPedigree</th>\n",
              "      <th>Age</th>\n",
              "      <th>Diabetic</th>\n",
              "      <th>Physician</th>\n",
              "    </tr>\n",
              "  </thead>\n",
              "  <tbody>\n",
              "    <tr>\n",
              "      <th>0</th>\n",
              "      <td>1354778</td>\n",
              "      <td>0</td>\n",
              "      <td>171</td>\n",
              "      <td>80</td>\n",
              "      <td>34</td>\n",
              "      <td>3.135494</td>\n",
              "      <td>3.772984</td>\n",
              "      <td>0.193254</td>\n",
              "      <td>3.044522</td>\n",
              "      <td>0</td>\n",
              "      <td>Dan Drayton</td>\n",
              "    </tr>\n",
              "    <tr>\n",
              "      <th>1</th>\n",
              "      <td>1147438</td>\n",
              "      <td>8</td>\n",
              "      <td>92</td>\n",
              "      <td>93</td>\n",
              "      <td>47</td>\n",
              "      <td>3.583519</td>\n",
              "      <td>3.055913</td>\n",
              "      <td>-1.842853</td>\n",
              "      <td>3.135494</td>\n",
              "      <td>0</td>\n",
              "      <td>Anthony Frizzell</td>\n",
              "    </tr>\n",
              "    <tr>\n",
              "      <th>2</th>\n",
              "      <td>1640031</td>\n",
              "      <td>7</td>\n",
              "      <td>115</td>\n",
              "      <td>47</td>\n",
              "      <td>52</td>\n",
              "      <td>3.555348</td>\n",
              "      <td>3.725971</td>\n",
              "      <td>-2.538072</td>\n",
              "      <td>3.135494</td>\n",
              "      <td>0</td>\n",
              "      <td>Gordon Fredrickson</td>\n",
              "    </tr>\n",
              "    <tr>\n",
              "      <th>3</th>\n",
              "      <td>1883350</td>\n",
              "      <td>9</td>\n",
              "      <td>103</td>\n",
              "      <td>78</td>\n",
              "      <td>25</td>\n",
              "      <td>5.717028</td>\n",
              "      <td>3.387173</td>\n",
              "      <td>0.249100</td>\n",
              "      <td>3.761200</td>\n",
              "      <td>1</td>\n",
              "      <td>Chad Corbitt</td>\n",
              "    </tr>\n",
              "    <tr>\n",
              "      <th>4</th>\n",
              "      <td>1424119</td>\n",
              "      <td>1</td>\n",
              "      <td>85</td>\n",
              "      <td>59</td>\n",
              "      <td>27</td>\n",
              "      <td>3.555348</td>\n",
              "      <td>3.751961</td>\n",
              "      <td>-0.598670</td>\n",
              "      <td>3.091042</td>\n",
              "      <td>0</td>\n",
              "      <td>Zachary Fellows</td>\n",
              "    </tr>\n",
              "  </tbody>\n",
              "</table>\n",
              "</div>"
            ],
            "text/plain": [
              "   PatientID  Pregnancies  ...  Diabetic           Physician\n",
              "0    1354778            0  ...         0         Dan Drayton\n",
              "1    1147438            8  ...         0    Anthony Frizzell\n",
              "2    1640031            7  ...         0  Gordon Fredrickson\n",
              "3    1883350            9  ...         1        Chad Corbitt\n",
              "4    1424119            1  ...         0     Zachary Fellows\n",
              "\n",
              "[5 rows x 11 columns]"
            ]
          },
          "metadata": {
            "tags": []
          },
          "execution_count": 11
        }
      ]
    },
    {
      "cell_type": "markdown",
      "metadata": {
        "id": "vKUdBM_wtMlE",
        "colab_type": "text"
      },
      "source": [
        "Now we can see the doctors column appended and can tell which doctor treated a patient.<br>\n",
        "Let's view the shape and also check the number and columns with null values"
      ]
    },
    {
      "cell_type": "code",
      "metadata": {
        "id": "DZoyhLr5tnCh",
        "colab_type": "code",
        "outputId": "c990043a-1b32-4945-c402-07b5916fd69a",
        "colab": {
          "base_uri": "https://localhost:8080/",
          "height": 34
        }
      },
      "source": [
        "diabetes_doctor_df.shape"
      ],
      "execution_count": 12,
      "outputs": [
        {
          "output_type": "execute_result",
          "data": {
            "text/plain": [
              "(15000, 11)"
            ]
          },
          "metadata": {
            "tags": []
          },
          "execution_count": 12
        }
      ]
    },
    {
      "cell_type": "code",
      "metadata": {
        "id": "LQ3LCTeHujMP",
        "colab_type": "code",
        "outputId": "a3372636-139b-47a4-aaae-566d0b363cc2",
        "colab": {
          "base_uri": "https://localhost:8080/",
          "height": 218
        }
      },
      "source": [
        "diabetes_doctor_df.isna().sum()"
      ],
      "execution_count": 13,
      "outputs": [
        {
          "output_type": "execute_result",
          "data": {
            "text/plain": [
              "PatientID                 0\n",
              "Pregnancies               0\n",
              "PlasmaGlucose             0\n",
              "DiastolicBloodPressure    0\n",
              "TricepsThickness          0\n",
              "SerumInsulin              0\n",
              "BMI                       0\n",
              "DiabetesPedigree          0\n",
              "Age                       0\n",
              "Diabetic                  0\n",
              "Physician                 0\n",
              "dtype: int64"
            ]
          },
          "metadata": {
            "tags": []
          },
          "execution_count": 13
        }
      ]
    },
    {
      "cell_type": "markdown",
      "metadata": {
        "id": "DqesEjlvwu7o",
        "colab_type": "text"
      },
      "source": [
        "### Preparing The Data"
      ]
    },
    {
      "cell_type": "markdown",
      "metadata": {
        "id": "fcBhfmN8w6Bf",
        "colab_type": "text"
      },
      "source": [
        "As is often the case with machine learning of any kind, some data preparation is required before you can\n",
        "use the data to train a model.<br>\n",
        "We shall normalize the features so that features that have large values do not dominate the training.<br>\n",
        "Looking at the shapes of the distribution of each feature, those with a roughly normal distribution bell-shape will be normalized using the Zscore method.<br>\n",
        "While those with varying large and low values will be normalized using the Min-Max method."
      ]
    },
    {
      "cell_type": "markdown",
      "metadata": {
        "id": "LRNm0Ccq3YKH",
        "colab_type": "text"
      },
      "source": [
        "**1. Z-Score or Standard Score**_  \n",
        "_For each value here, we subtract the average or mean..._  \n",
        "_And then divide by the Standard deviation._  \n",
        "_This gives a range between minus 3 and 3, but can be more or less_  \n",
        "\n",
        "$Xnew =$ $Xold - mean \\over STD(sigma)$"
      ]
    },
    {
      "cell_type": "markdown",
      "metadata": {
        "id": "bSw1UjuF3gEq",
        "colab_type": "text"
      },
      "source": [
        "_**2. Min-Max Method**_  \n",
        "_This method takes each value and subtracts the min and then divides by the range(max - min)..._  \n",
        "_The resultant values range between zero(0) and one(1)_\n",
        "\n",
        "$Xnew =$ $Xold - Xmin \\over Xmax - Xmin$"
      ]
    },
    {
      "cell_type": "markdown",
      "metadata": {
        "id": "aMfJe09V3a7e",
        "colab_type": "text"
      },
      "source": [
        ""
      ]
    },
    {
      "cell_type": "markdown",
      "metadata": {
        "id": "kokc-lzf4Lj2",
        "colab_type": "text"
      },
      "source": [
        "Now let's apply these methods to the selected columns using the apply method."
      ]
    },
    {
      "cell_type": "code",
      "metadata": {
        "id": "dH-o3IJ04bDf",
        "colab_type": "code",
        "colab": {}
      },
      "source": [
        "for i in diabetes_doctor_df.columns[:-2]:\n",
        "    mean = diabetes_doctor_df[i].mean()\n",
        "    std = diabetes_doctor_df[i].std()\n",
        "    mini = diabetes_doctor_df[i].min()\n",
        "    maxi = diabetes_doctor_df[i].max()\n",
        "    \n",
        "    # if columns are not Age or Pregnancies, apply the Z_score norm method\n",
        "    if i not in ['Age', 'Pregnancies']:\n",
        "        diabetes_doctor_df[i] = diabetes_doctor_df[i].apply(lambda x: (x - mean) / std)\n",
        "    \n",
        "    # Else if columns are either Age or Pregnancies, then apply the Min-Max norm method\n",
        "    else:\n",
        "        diabetes_doctor_df[i] = diabetes_doctor_df[i].apply(lambda x: (x - mini) / (maxi - mini))\n",
        "    "
      ],
      "execution_count": 0,
      "outputs": []
    },
    {
      "cell_type": "code",
      "metadata": {
        "id": "bYPtSab0OWPf",
        "colab_type": "code",
        "outputId": "465694e5-59ed-45d2-cfb1-8507f2d161c3",
        "colab": {
          "base_uri": "https://localhost:8080/",
          "height": 195
        }
      },
      "source": [
        "diabetes_doctor_df.head()"
      ],
      "execution_count": 15,
      "outputs": [
        {
          "output_type": "execute_result",
          "data": {
            "text/html": [
              "<div>\n",
              "<style scoped>\n",
              "    .dataframe tbody tr th:only-of-type {\n",
              "        vertical-align: middle;\n",
              "    }\n",
              "\n",
              "    .dataframe tbody tr th {\n",
              "        vertical-align: top;\n",
              "    }\n",
              "\n",
              "    .dataframe thead th {\n",
              "        text-align: right;\n",
              "    }\n",
              "</style>\n",
              "<table border=\"1\" class=\"dataframe\">\n",
              "  <thead>\n",
              "    <tr style=\"text-align: right;\">\n",
              "      <th></th>\n",
              "      <th>PatientID</th>\n",
              "      <th>Pregnancies</th>\n",
              "      <th>PlasmaGlucose</th>\n",
              "      <th>DiastolicBloodPressure</th>\n",
              "      <th>TricepsThickness</th>\n",
              "      <th>SerumInsulin</th>\n",
              "      <th>BMI</th>\n",
              "      <th>DiabetesPedigree</th>\n",
              "      <th>Age</th>\n",
              "      <th>Diabetic</th>\n",
              "      <th>Physician</th>\n",
              "    </tr>\n",
              "  </thead>\n",
              "  <tbody>\n",
              "    <tr>\n",
              "      <th>0</th>\n",
              "      <td>-0.512160</td>\n",
              "      <td>0.000000</td>\n",
              "      <td>1.974335</td>\n",
              "      <td>0.523867</td>\n",
              "      <td>0.356286</td>\n",
              "      <td>-1.364665</td>\n",
              "      <td>1.165284</td>\n",
              "      <td>1.755479</td>\n",
              "      <td>0.000000</td>\n",
              "      <td>0</td>\n",
              "      <td>Dan Drayton</td>\n",
              "    </tr>\n",
              "    <tr>\n",
              "      <th>1</th>\n",
              "      <td>-1.228971</td>\n",
              "      <td>0.571429</td>\n",
              "      <td>-0.495806</td>\n",
              "      <td>1.299582</td>\n",
              "      <td>1.249406</td>\n",
              "      <td>-0.908607</td>\n",
              "      <td>-1.076800</td>\n",
              "      <td>-0.637939</td>\n",
              "      <td>0.070017</td>\n",
              "      <td>0</td>\n",
              "      <td>Anthony Frizzell</td>\n",
              "    </tr>\n",
              "    <tr>\n",
              "      <th>2</th>\n",
              "      <td>0.474010</td>\n",
              "      <td>0.500000</td>\n",
              "      <td>0.223349</td>\n",
              "      <td>-1.445258</td>\n",
              "      <td>1.592914</td>\n",
              "      <td>-0.937283</td>\n",
              "      <td>1.018286</td>\n",
              "      <td>-1.455161</td>\n",
              "      <td>0.070017</td>\n",
              "      <td>0</td>\n",
              "      <td>Gordon Fredrickson</td>\n",
              "    </tr>\n",
              "    <tr>\n",
              "      <th>3</th>\n",
              "      <td>1.315206</td>\n",
              "      <td>0.642857</td>\n",
              "      <td>-0.151863</td>\n",
              "      <td>0.404526</td>\n",
              "      <td>-0.262028</td>\n",
              "      <td>1.263156</td>\n",
              "      <td>-0.041044</td>\n",
              "      <td>1.821124</td>\n",
              "      <td>0.551595</td>\n",
              "      <td>1</td>\n",
              "      <td>Chad Corbitt</td>\n",
              "    </tr>\n",
              "    <tr>\n",
              "      <th>4</th>\n",
              "      <td>-0.272436</td>\n",
              "      <td>0.071429</td>\n",
              "      <td>-0.714680</td>\n",
              "      <td>-0.729213</td>\n",
              "      <td>-0.124625</td>\n",
              "      <td>-0.937283</td>\n",
              "      <td>1.099549</td>\n",
              "      <td>0.824581</td>\n",
              "      <td>0.035804</td>\n",
              "      <td>0</td>\n",
              "      <td>Zachary Fellows</td>\n",
              "    </tr>\n",
              "  </tbody>\n",
              "</table>\n",
              "</div>"
            ],
            "text/plain": [
              "   PatientID  Pregnancies  ...  Diabetic           Physician\n",
              "0  -0.512160     0.000000  ...         0         Dan Drayton\n",
              "1  -1.228971     0.571429  ...         0    Anthony Frizzell\n",
              "2   0.474010     0.500000  ...         0  Gordon Fredrickson\n",
              "3   1.315206     0.642857  ...         1        Chad Corbitt\n",
              "4  -0.272436     0.071429  ...         0     Zachary Fellows\n",
              "\n",
              "[5 rows x 11 columns]"
            ]
          },
          "metadata": {
            "tags": []
          },
          "execution_count": 15
        }
      ]
    },
    {
      "cell_type": "markdown",
      "metadata": {
        "id": "glrVj-wWQ9Wk",
        "colab_type": "text"
      },
      "source": [
        "Now that we have prepared the data set, we will use it to train and evaluate a classifier machine\n",
        "learning model. Typically, when training a supervised learning model, in which the training data includes\n",
        "known label values, we split the data into a training set with which to train the model, and a test set\n",
        "with which to validate predictions generated by the trained model."
      ]
    },
    {
      "cell_type": "markdown",
      "metadata": {
        "id": "3SXwGGcBEJl8",
        "colab_type": "text"
      },
      "source": [
        "Before we go any furteher, let's check the number of observations each class of Diabetics or Non-Diabetics has<br>"
      ]
    },
    {
      "cell_type": "code",
      "metadata": {
        "id": "3TTEkwcmD48w",
        "colab_type": "code",
        "colab": {
          "base_uri": "https://localhost:8080/",
          "height": 67
        },
        "outputId": "9583bd52-e840-4af5-e336-919090f52f38"
      },
      "source": [
        "diabetes_doctor_df.Diabetic.value_counts()"
      ],
      "execution_count": 16,
      "outputs": [
        {
          "output_type": "execute_result",
          "data": {
            "text/plain": [
              "0    10000\n",
              "1     5000\n",
              "Name: Diabetic, dtype: int64"
            ]
          },
          "metadata": {
            "tags": []
          },
          "execution_count": 16
        }
      ]
    },
    {
      "cell_type": "markdown",
      "metadata": {
        "id": "2nkD1PnqFMTz",
        "colab_type": "text"
      },
      "source": [
        "Let's visualize this distribution"
      ]
    },
    {
      "cell_type": "code",
      "metadata": {
        "id": "u-xqbIxEFKI_",
        "colab_type": "code",
        "colab": {
          "base_uri": "https://localhost:8080/",
          "height": 523
        },
        "outputId": "29fe899a-bd63-4239-e4d6-d7254c63c2d8"
      },
      "source": [
        "plt.figure(figsize=(8, 8))\n",
        "\n",
        "x = diabetes_doctor_df.Diabetic.replace(to_replace=[0, 1], value=['Non-Diabetics','Diabetics'])\n",
        "sns.countplot(x)\n",
        "plt.title('Count of Diabetics and Non-Diabetics')\n",
        "plt.show()"
      ],
      "execution_count": 17,
      "outputs": [
        {
          "output_type": "display_data",
          "data": {
            "image/png": "[encoded data removed]",
            "text/plain": [
              "<Figure size 576x576 with 1 Axes>"
            ]
          },
          "metadata": {
            "tags": []
          }
        }
      ]
    },
    {
      "cell_type": "markdown",
      "metadata": {
        "id": "G6V6WZsYEfBN",
        "colab_type": "text"
      },
      "source": [
        "We can see that out of the 15,000 observations in our dataset, the Non-Diabetic class has 10,000 entries, while Diabetic class has only 5,000 entries.<br>\n",
        "This is an imbalanced Dataset and the risk involved is that our Model may learn one class features more than the other.<br>\n",
        "We need to find a way to balance the Dataset for a more unbiased and reliable classification"
      ]
    },
    {
      "cell_type": "markdown",
      "metadata": {
        "id": "6AJqd9wDTnjP",
        "colab_type": "text"
      },
      "source": [
        "To prove the point, let's go ahead to use this imbalanced data set to train a model and make predictions.<br>\n",
        "Then we would balance the data set and train a new model and see the difference."
      ]
    },
    {
      "cell_type": "markdown",
      "metadata": {
        "id": "8f6vQ7rDTjTx",
        "colab_type": "text"
      },
      "source": [
        "Before we do the split, let's select only columns that matter by deselecting PatientID and Physician columns"
      ]
    },
    {
      "cell_type": "code",
      "metadata": {
        "id": "Sbh6IhSqQ8IH",
        "colab_type": "code",
        "outputId": "70df557e-9018-40a3-be88-573c378b7e6a",
        "colab": {
          "base_uri": "https://localhost:8080/",
          "height": 195
        }
      },
      "source": [
        "feature_matrix = diabetes_doctor_df.iloc[:,1:-2]\n",
        "feature_matrix.head()"
      ],
      "execution_count": 18,
      "outputs": [
        {
          "output_type": "execute_result",
          "data": {
            "text/html": [
              "<div>\n",
              "<style scoped>\n",
              "    .dataframe tbody tr th:only-of-type {\n",
              "        vertical-align: middle;\n",
              "    }\n",
              "\n",
              "    .dataframe tbody tr th {\n",
              "        vertical-align: top;\n",
              "    }\n",
              "\n",
              "    .dataframe thead th {\n",
              "        text-align: right;\n",
              "    }\n",
              "</style>\n",
              "<table border=\"1\" class=\"dataframe\">\n",
              "  <thead>\n",
              "    <tr style=\"text-align: right;\">\n",
              "      <th></th>\n",
              "      <th>Pregnancies</th>\n",
              "      <th>PlasmaGlucose</th>\n",
              "      <th>DiastolicBloodPressure</th>\n",
              "      <th>TricepsThickness</th>\n",
              "      <th>SerumInsulin</th>\n",
              "      <th>BMI</th>\n",
              "      <th>DiabetesPedigree</th>\n",
              "      <th>Age</th>\n",
              "    </tr>\n",
              "  </thead>\n",
              "  <tbody>\n",
              "    <tr>\n",
              "      <th>0</th>\n",
              "      <td>0.000000</td>\n",
              "      <td>1.974335</td>\n",
              "      <td>0.523867</td>\n",
              "      <td>0.356286</td>\n",
              "      <td>-1.364665</td>\n",
              "      <td>1.165284</td>\n",
              "      <td>1.755479</td>\n",
              "      <td>0.000000</td>\n",
              "    </tr>\n",
              "    <tr>\n",
              "      <th>1</th>\n",
              "      <td>0.571429</td>\n",
              "      <td>-0.495806</td>\n",
              "      <td>1.299582</td>\n",
              "      <td>1.249406</td>\n",
              "      <td>-0.908607</td>\n",
              "      <td>-1.076800</td>\n",
              "      <td>-0.637939</td>\n",
              "      <td>0.070017</td>\n",
              "    </tr>\n",
              "    <tr>\n",
              "      <th>2</th>\n",
              "      <td>0.500000</td>\n",
              "      <td>0.223349</td>\n",
              "      <td>-1.445258</td>\n",
              "      <td>1.592914</td>\n",
              "      <td>-0.937283</td>\n",
              "      <td>1.018286</td>\n",
              "      <td>-1.455161</td>\n",
              "      <td>0.070017</td>\n",
              "    </tr>\n",
              "    <tr>\n",
              "      <th>3</th>\n",
              "      <td>0.642857</td>\n",
              "      <td>-0.151863</td>\n",
              "      <td>0.404526</td>\n",
              "      <td>-0.262028</td>\n",
              "      <td>1.263156</td>\n",
              "      <td>-0.041044</td>\n",
              "      <td>1.821124</td>\n",
              "      <td>0.551595</td>\n",
              "    </tr>\n",
              "    <tr>\n",
              "      <th>4</th>\n",
              "      <td>0.071429</td>\n",
              "      <td>-0.714680</td>\n",
              "      <td>-0.729213</td>\n",
              "      <td>-0.124625</td>\n",
              "      <td>-0.937283</td>\n",
              "      <td>1.099549</td>\n",
              "      <td>0.824581</td>\n",
              "      <td>0.035804</td>\n",
              "    </tr>\n",
              "  </tbody>\n",
              "</table>\n",
              "</div>"
            ],
            "text/plain": [
              "   Pregnancies  PlasmaGlucose  ...  DiabetesPedigree       Age\n",
              "0     0.000000       1.974335  ...          1.755479  0.000000\n",
              "1     0.571429      -0.495806  ...         -0.637939  0.070017\n",
              "2     0.500000       0.223349  ...         -1.455161  0.070017\n",
              "3     0.642857      -0.151863  ...          1.821124  0.551595\n",
              "4     0.071429      -0.714680  ...          0.824581  0.035804\n",
              "\n",
              "[5 rows x 8 columns]"
            ]
          },
          "metadata": {
            "tags": []
          },
          "execution_count": 18
        }
      ]
    },
    {
      "cell_type": "markdown",
      "metadata": {
        "id": "kAOjoX3rluz6",
        "colab_type": "text"
      },
      "source": [
        "let's also define our label variable "
      ]
    },
    {
      "cell_type": "code",
      "metadata": {
        "id": "ghv9W1Spl6hn",
        "colab_type": "code",
        "colab": {
          "base_uri": "https://localhost:8080/",
          "height": 118
        },
        "outputId": "3d741dec-ef8e-4476-e9e5-583bb4c404aa"
      },
      "source": [
        "label = diabetes_doctor_df.Diabetic\n",
        "\n",
        "label.head()"
      ],
      "execution_count": 19,
      "outputs": [
        {
          "output_type": "execute_result",
          "data": {
            "text/plain": [
              "0    0\n",
              "1    0\n",
              "2    0\n",
              "3    1\n",
              "4    0\n",
              "Name: Diabetic, dtype: int64"
            ]
          },
          "metadata": {
            "tags": []
          },
          "execution_count": 19
        }
      ]
    },
    {
      "cell_type": "code",
      "metadata": {
        "id": "lbi9YdKRTzjO",
        "colab_type": "code",
        "outputId": "e62fba82-809d-49b7-b41b-312cecec2520",
        "colab": {
          "base_uri": "https://localhost:8080/",
          "height": 34
        }
      },
      "source": [
        "feature_matrix.shape"
      ],
      "execution_count": 20,
      "outputs": [
        {
          "output_type": "execute_result",
          "data": {
            "text/plain": [
              "(15000, 8)"
            ]
          },
          "metadata": {
            "tags": []
          },
          "execution_count": 20
        }
      ]
    },
    {
      "cell_type": "code",
      "metadata": {
        "id": "0C42ux8TUKDG",
        "colab_type": "code",
        "colab": {
          "base_uri": "https://localhost:8080/",
          "height": 84
        },
        "outputId": "df1731b4-0cd9-41f0-fc72-599375de4b83"
      },
      "source": [
        "from sklearn.model_selection import train_test_split\n",
        "\n",
        "X_train, X_test, y_train, y_test = train_test_split(feature_matrix, label, test_size=0.3, random_state=1234)\n",
        "\n",
        "print('X_train shape is',X_train.shape)\n",
        "print('X_test shape is',X_test.shape)\n",
        "print('y_train shape is',y_train.shape)\n",
        "print('y_test shape is',y_test.shape)"
      ],
      "execution_count": 21,
      "outputs": [
        {
          "output_type": "stream",
          "text": [
            "X_train shape is (10500, 8)\n",
            "X_test shape is (4500, 8)\n",
            "y_train shape is (10500,)\n",
            "y_test shape is (4500,)\n"
          ],
          "name": "stdout"
        }
      ]
    },
    {
      "cell_type": "markdown",
      "metadata": {
        "id": "z1DZRrpgm-O1",
        "colab_type": "text"
      },
      "source": [
        "Let's build the Decision Tree Classifier"
      ]
    },
    {
      "cell_type": "code",
      "metadata": {
        "id": "Wt-xORLlpYHv",
        "colab_type": "code",
        "colab": {}
      },
      "source": [
        "from sklearn.tree import DecisionTreeClassifier\n",
        "from sklearn import metrics\n",
        "from sklearn.metrics import f1_score\n",
        "from sklearn.metrics import confusion_matrix\n",
        "from sklearn.metrics import log_loss"
      ],
      "execution_count": 0,
      "outputs": []
    },
    {
      "cell_type": "markdown",
      "metadata": {
        "id": "CoGU06nCqMGw",
        "colab_type": "text"
      },
      "source": [
        "Let's define a function that plots the Confusion-Matrix"
      ]
    },
    {
      "cell_type": "code",
      "metadata": {
        "id": "D_i2i663qSyn",
        "colab_type": "code",
        "colab": {}
      },
      "source": [
        "from sklearn.metrics import classification_report\n",
        "\n",
        "\n",
        "def plot_confusion_matrix(cm, classes,\n",
        "                          normalize=False,\n",
        "                          title='Confusion matrix',\n",
        "                          cmap=plt.cm.Blues):\n",
        "    \"\"\"\n",
        "    This function prints and plots the confusion matrix.\n",
        "    Normalization can be applied by setting `normalize=True`.\n",
        "    \"\"\"\n",
        "    if normalize:\n",
        "        cm = cm.astype('float') / cm.sum(axis=1)[:, np.newaxis]\n",
        "        print(\"Normalized confusion matrix\")\n",
        "    else:\n",
        "        print('Confusion matrix, without normalization')\n",
        "\n",
        "    print(cm)\n",
        "\n",
        "    plt.imshow(cm, interpolation='nearest', cmap=cmap)\n",
        "    plt.title(title)\n",
        "    plt.colorbar()\n",
        "    tick_marks = np.arange(len(classes))\n",
        "    plt.xticks(tick_marks, classes, rotation=45)\n",
        "    plt.yticks(tick_marks, classes)\n",
        "\n",
        "    fmt = '.2f' if normalize else 'd'\n",
        "    thresh = cm.max() / 2.\n",
        "    for i, j in itertools.product(range(cm.shape[0]), range(cm.shape[1])):\n",
        "        plt.text(j, i, format(cm[i, j], fmt),\n",
        "                 horizontalalignment=\"center\",\n",
        "                 color=\"white\" if cm[i, j] > thresh else \"black\")\n",
        "\n",
        "    plt.tight_layout()\n",
        "    plt.ylabel('True label')\n",
        "    plt.xlabel('Predicted label')"
      ],
      "execution_count": 0,
      "outputs": []
    },
    {
      "cell_type": "markdown",
      "metadata": {
        "id": "qSrj-S1Fqc-B",
        "colab_type": "text"
      },
      "source": [
        "Let's define a function that returns the best decison tree classifier model and outputs its parameters and a plot of the confusion matrix"
      ]
    },
    {
      "cell_type": "code",
      "metadata": {
        "id": "0BNHKkArm8Bp",
        "colab_type": "code",
        "colab": {}
      },
      "source": [
        "# set max depth range limit for DTree model to iterate through from 1 to 100 to find best parameters\n",
        "max_depth = 100\n",
        "\n",
        "def decision_tree_classifier(max_depth, X_train, y_train, X_test, y_test):\n",
        "    \"\"\"Method takes max_depth an int, and X_train and y_train 2D/1D arrays,\n",
        "    as well as test data x_test and y_test, also arrays, and returns,\n",
        "    The best max_depth value, from 1 to max_depth, and its best test_accuracy score\"\"\"\n",
        "    \n",
        "    accuracy_dict={'max_depth':0, 'val_acc':0, 'f1_Score':0, 'log_loss':0}\n",
        "\n",
        "    \n",
        "    for i in range(1, max_depth+1):\n",
        "        # Let's instantiate a model\n",
        "        decision_model = DecisionTreeClassifier(criterion='entropy', max_depth = i)\n",
        "        \n",
        "        # Let's train the model\n",
        "        decision_model.fit(X_train, y_train)\n",
        "        \n",
        "        # Let's make prediction on the test data\n",
        "        y_hat = decision_model.predict(X_test)\n",
        "        \n",
        "        # Let's measure accuracy of predictions on test data\n",
        "        val_accu = round(metrics.accuracy_score(y_test, y_hat),4)\n",
        "        \n",
        "        # Let's Measure the F1 Score\n",
        "        val_f1 = round(f1_score(y_test, y_hat, average='weighted'),4)\n",
        "        \n",
        "        # Let's Measure Logloss\n",
        "        logloss = round(log_loss(y_test, y_hat, normalize=True),4)\n",
        "        \n",
        "        #if accuracy_dict['val_acc'] < val_accu or accuracy_dict['f1_Score'] < val_f1:\n",
        "        if accuracy_dict['f1_Score'] < val_f1:\n",
        "            accuracy_dict['max_depth'] = i\n",
        "            accuracy_dict['val_acc'] = val_accu\n",
        "            accuracy_dict['f1_Score'] = val_f1\n",
        "            accuracy_dict['log_loss'] = logloss\n",
        "            decision_model2 = decision_model\n",
        "            \n",
        "    print('Model Evaluation:')\n",
        "    print(accuracy_dict)\n",
        "    \n",
        "    # Compute confusion matrix\n",
        "    Dtrees_cnf_matrix = confusion_matrix(y_test, y_hat, labels=[1,0])\n",
        "    np.set_printoptions(precision=2)\n",
        "\n",
        "\n",
        "    # Plot non-normalized confusion matrix\n",
        "    plt.figure(figsize=(10, 6))\n",
        "    sns.set(font_scale=1.3)\n",
        "    plot_confusion_matrix(Dtrees_cnf_matrix, \n",
        "                          classes=['Default=1','Non-Default=0'],\n",
        "                          normalize= False,  \n",
        "                          title='Confusion Matrix for Decision-Tree-Classifier')\n",
        "    #print(decision_model2.get_params(deep=True))\n",
        "\n",
        "    return decision_model2"
      ],
      "execution_count": 0,
      "outputs": []
    },
    {
      "cell_type": "code",
      "metadata": {
        "id": "PIAZPywQpDDV",
        "colab_type": "code",
        "colab": {
          "base_uri": "https://localhost:8080/",
          "height": 633
        },
        "outputId": "f7beca10-9189-460b-e9da-8b14cf8c2330"
      },
      "source": [
        "decision_tree_classifier(max_depth, X_train, y_train, X_test, y_test)"
      ],
      "execution_count": 25,
      "outputs": [
        {
          "output_type": "stream",
          "text": [
            "Model Evaluation:\n",
            "{'max_depth': 8, 'val_acc': 0.9089, 'f1_Score': 0.9092, 'log_loss': 3.1469}\n",
            "Confusion matrix, without normalization\n",
            "[[1329  213]\n",
            " [ 233 2725]]\n"
          ],
          "name": "stdout"
        },
        {
          "output_type": "execute_result",
          "data": {
            "text/plain": [
              "DecisionTreeClassifier(class_weight=None, criterion='entropy', max_depth=8,\n",
              "                       max_features=None, max_leaf_nodes=None,\n",
              "                       min_impurity_decrease=0.0, min_impurity_split=None,\n",
              "                       min_samples_leaf=1, min_samples_split=2,\n",
              "                       min_weight_fraction_leaf=0.0, presort=False,\n",
              "                       random_state=None, splitter='best')"
            ]
          },
          "metadata": {
            "tags": []
          },
          "execution_count": 25
        },
        {
          "output_type": "display_data",
          "data": {
            "image/png": "[encoded data removed]",
            "text/plain": [
              "<Figure size 720x432 with 2 Axes>"
            ]
          },
          "metadata": {
            "tags": []
          }
        }
      ]
    },
    {
      "cell_type": "code",
      "metadata": {
        "id": "0RLFougLc5YM",
        "colab_type": "code",
        "colab": {
          "base_uri": "https://localhost:8080/",
          "height": 67
        },
        "outputId": "d52f5f64-b658-41cc-80ef-37dad78d6c89"
      },
      "source": [
        "accuracy = (1329 + 2725) / (1329+213+233+2725)\n",
        "recall = 1329 / (1329 + 233)\n",
        "precision = 1329 / (1329 + 213)\n",
        "\n",
        "print('accuracy is:',round(accuracy,2))\n",
        "print('recall is:',round(recall,2))\n",
        "print('precision is:',round(precision,2))"
      ],
      "execution_count": 36,
      "outputs": [
        {
          "output_type": "stream",
          "text": [
            "accuracy is: 0.9\n",
            "recall is: 0.85\n",
            "precision is: 0.86\n"
          ],
          "name": "stdout"
        }
      ]
    },
    {
      "cell_type": "markdown",
      "metadata": {
        "id": "5e0gNw2ah8rz",
        "colab_type": "text"
      },
      "source": [
        "Notice the following about these metrics:<br>\n",
        "• The Confusion Matrix shows the number of True Positives and True Negatives (cases\n",
        "correctly classified) and False Negatives and False Positives (cases incorrectly classified).<br>\n",
        "• The AUC (Area Under the Curve) is the area under the ROC curve. A perfect classifier\n",
        "would have an AUC of 1.0, indicating no trade-off between True and False Positive Rates.<br>\n",
        "• Accuracy is the fraction of cases correctly classified.<br>\n",
        "• Recall, is the fraction of positive cases correctly classified. <br>\n",
        "• Precision is the fraction of negative cases correctly classified."
      ]
    },
    {
      "cell_type": "markdown",
      "metadata": {
        "id": "pdTXUr1sxvUJ",
        "colab_type": "text"
      },
      "source": [
        "Let's balance the dataset and train a new model"
      ]
    },
    {
      "cell_type": "markdown",
      "metadata": {
        "id": "KwSdHFGuUZPd",
        "colab_type": "text"
      },
      "source": [
        "We need to balance The Data set because in an imbalanced Data set Accuracy is not a reliable metric for the real performance of a classifier, because it will yield misleading results (that is, when the numbers of observations in different classes vary greatly).<br>\n",
        "For example, 70% non-defaulters and 30% defaulters, a particular classifier might classify all or most of the observations as Non-defaulters.<br> \n",
        "This is due to the classifier or model having a high recognition rate (sensitivity) for the dominant class.<br>\n",
        "[F1 score](https://scikit-learn.org/stable/modules/generated/sklearn.metrics.f1_score.html) too, would even be more unreliable in an imbalanced Data set.\n",
        "See [link](https://en.wikipedia.org/wiki/Confusion_matrix)"
      ]
    },
    {
      "cell_type": "markdown",
      "metadata": {
        "id": "9xkjzYL6U4lN",
        "colab_type": "text"
      },
      "source": [
        "SMOTE - Synthetic Minority Over-sampling Technique [link](https://imbalanced-learn.readthedocs.io/en/stable/generated/imblearn.over_sampling.SMOTE.html)"
      ]
    },
    {
      "cell_type": "code",
      "metadata": {
        "id": "E7Upg-LQUI-M",
        "colab_type": "code",
        "colab": {
          "base_uri": "https://localhost:8080/",
          "height": 70
        },
        "outputId": "3e91e3cd-196f-4bc2-868c-b103e7da9134"
      },
      "source": [
        "from imblearn.over_sampling import SMOTE\n",
        "sm = SMOTE(sampling_strategy='minority', random_state=19, k_neighbors=5)"
      ],
      "execution_count": 27,
      "outputs": [
        {
          "output_type": "stream",
          "text": [
            "/usr/local/lib/python3.6/dist-packages/sklearn/externals/six.py:31: DeprecationWarning: The module is deprecated in version 0.21 and will be removed in version 0.23 since we've dropped support for Python 2.7. Please rely on the official version of six (https://pypi.org/project/six/).\n",
            "  \"(https://pypi.org/project/six/).\", DeprecationWarning)\n"
          ],
          "name": "stderr"
        }
      ]
    },
    {
      "cell_type": "code",
      "metadata": {
        "id": "QoUQvT6bVdDW",
        "colab_type": "code",
        "colab": {}
      },
      "source": [
        "over_sampled_features, over_sampled_label = sm.fit_resample(feature_matrix, label)"
      ],
      "execution_count": 0,
      "outputs": []
    },
    {
      "cell_type": "code",
      "metadata": {
        "id": "X-G9_B5dVu0a",
        "colab_type": "code",
        "colab": {
          "base_uri": "https://localhost:8080/",
          "height": 50
        },
        "outputId": "1f2267a4-ada3-499d-9131-ce636570ef95"
      },
      "source": [
        "print('Shape of resampled feature set is:',over_sampled_features.shape)\n",
        "print('Shape of resampled target data is:',over_sampled_label.shape)"
      ],
      "execution_count": 29,
      "outputs": [
        {
          "output_type": "stream",
          "text": [
            "Shape of resampled feature set is: (20000, 8)\n",
            "Shape of resampled target data is: (20000,)\n"
          ],
          "name": "stdout"
        }
      ]
    },
    {
      "cell_type": "markdown",
      "metadata": {
        "id": "NYUGKtkCWFqg",
        "colab_type": "text"
      },
      "source": [
        "Let's concat the features and target back into one data frame"
      ]
    },
    {
      "cell_type": "code",
      "metadata": {
        "id": "nBvISEnpWHdF",
        "colab_type": "code",
        "colab": {
          "base_uri": "https://localhost:8080/",
          "height": 195
        },
        "outputId": "3b2b3c08-8ba5-441d-e8cf-dffc8daf175d"
      },
      "source": [
        "over_sampled_df = pd.DataFrame(over_sampled_features, columns=['Pregnancies','PlasmaGlucose','DiastolicBloodPressure','TricepsThickness','SerumInsulin','BMI','DiabetesPedigree','Age'])\n",
        "\n",
        "over_sampled_df['Diabetic'] = over_sampled_label\n",
        "\n",
        "over_sampled_df.head()"
      ],
      "execution_count": 30,
      "outputs": [
        {
          "output_type": "execute_result",
          "data": {
            "text/html": [
              "<div>\n",
              "<style scoped>\n",
              "    .dataframe tbody tr th:only-of-type {\n",
              "        vertical-align: middle;\n",
              "    }\n",
              "\n",
              "    .dataframe tbody tr th {\n",
              "        vertical-align: top;\n",
              "    }\n",
              "\n",
              "    .dataframe thead th {\n",
              "        text-align: right;\n",
              "    }\n",
              "</style>\n",
              "<table border=\"1\" class=\"dataframe\">\n",
              "  <thead>\n",
              "    <tr style=\"text-align: right;\">\n",
              "      <th></th>\n",
              "      <th>Pregnancies</th>\n",
              "      <th>PlasmaGlucose</th>\n",
              "      <th>DiastolicBloodPressure</th>\n",
              "      <th>TricepsThickness</th>\n",
              "      <th>SerumInsulin</th>\n",
              "      <th>BMI</th>\n",
              "      <th>DiabetesPedigree</th>\n",
              "      <th>Age</th>\n",
              "      <th>Diabetic</th>\n",
              "    </tr>\n",
              "  </thead>\n",
              "  <tbody>\n",
              "    <tr>\n",
              "      <th>0</th>\n",
              "      <td>0.000000</td>\n",
              "      <td>1.974335</td>\n",
              "      <td>0.523867</td>\n",
              "      <td>0.356286</td>\n",
              "      <td>-1.364665</td>\n",
              "      <td>1.165284</td>\n",
              "      <td>1.755479</td>\n",
              "      <td>0.000000</td>\n",
              "      <td>0</td>\n",
              "    </tr>\n",
              "    <tr>\n",
              "      <th>1</th>\n",
              "      <td>0.571429</td>\n",
              "      <td>-0.495806</td>\n",
              "      <td>1.299582</td>\n",
              "      <td>1.249406</td>\n",
              "      <td>-0.908607</td>\n",
              "      <td>-1.076800</td>\n",
              "      <td>-0.637939</td>\n",
              "      <td>0.070017</td>\n",
              "      <td>0</td>\n",
              "    </tr>\n",
              "    <tr>\n",
              "      <th>2</th>\n",
              "      <td>0.500000</td>\n",
              "      <td>0.223349</td>\n",
              "      <td>-1.445258</td>\n",
              "      <td>1.592914</td>\n",
              "      <td>-0.937283</td>\n",
              "      <td>1.018286</td>\n",
              "      <td>-1.455161</td>\n",
              "      <td>0.070017</td>\n",
              "      <td>0</td>\n",
              "    </tr>\n",
              "    <tr>\n",
              "      <th>3</th>\n",
              "      <td>0.642857</td>\n",
              "      <td>-0.151863</td>\n",
              "      <td>0.404526</td>\n",
              "      <td>-0.262028</td>\n",
              "      <td>1.263156</td>\n",
              "      <td>-0.041044</td>\n",
              "      <td>1.821124</td>\n",
              "      <td>0.551595</td>\n",
              "      <td>1</td>\n",
              "    </tr>\n",
              "    <tr>\n",
              "      <th>4</th>\n",
              "      <td>0.071429</td>\n",
              "      <td>-0.714680</td>\n",
              "      <td>-0.729213</td>\n",
              "      <td>-0.124625</td>\n",
              "      <td>-0.937283</td>\n",
              "      <td>1.099549</td>\n",
              "      <td>0.824581</td>\n",
              "      <td>0.035804</td>\n",
              "      <td>0</td>\n",
              "    </tr>\n",
              "  </tbody>\n",
              "</table>\n",
              "</div>"
            ],
            "text/plain": [
              "   Pregnancies  PlasmaGlucose  ...       Age  Diabetic\n",
              "0     0.000000       1.974335  ...  0.000000         0\n",
              "1     0.571429      -0.495806  ...  0.070017         0\n",
              "2     0.500000       0.223349  ...  0.070017         0\n",
              "3     0.642857      -0.151863  ...  0.551595         1\n",
              "4     0.071429      -0.714680  ...  0.035804         0\n",
              "\n",
              "[5 rows x 9 columns]"
            ]
          },
          "metadata": {
            "tags": []
          },
          "execution_count": 30
        }
      ]
    },
    {
      "cell_type": "code",
      "metadata": {
        "id": "F7BQ2FxAYVNI",
        "colab_type": "code",
        "colab": {
          "base_uri": "https://localhost:8080/",
          "height": 34
        },
        "outputId": "fc45bf8e-3225-40d6-f88c-08ee6774d165"
      },
      "source": [
        "over_sampled_df.shape"
      ],
      "execution_count": 31,
      "outputs": [
        {
          "output_type": "execute_result",
          "data": {
            "text/plain": [
              "(20000, 9)"
            ]
          },
          "metadata": {
            "tags": []
          },
          "execution_count": 31
        }
      ]
    },
    {
      "cell_type": "markdown",
      "metadata": {
        "id": "FtW0kwtuYoJD",
        "colab_type": "text"
      },
      "source": [
        "Let's visualize the new distribution "
      ]
    },
    {
      "cell_type": "code",
      "metadata": {
        "id": "aiOIseGZYmlW",
        "colab_type": "code",
        "colab": {
          "base_uri": "https://localhost:8080/",
          "height": 526
        },
        "outputId": "b2119632-fe50-402f-f186-deedd807fa49"
      },
      "source": [
        "plt.figure(figsize=(8, 8))\n",
        "\n",
        "x = over_sampled_df.Diabetic.replace(to_replace=[0, 1], value=['Non-Diabetics','Diabetics'])\n",
        "sns.countplot(x)\n",
        "plt.title('Count of Diabetics and Non-Diabetics')\n",
        "plt.show()"
      ],
      "execution_count": 32,
      "outputs": [
        {
          "output_type": "display_data",
          "data": {
            "image/png": "[encoded data removed]",
            "text/plain": [
              "<Figure size 576x576 with 1 Axes>"
            ]
          },
          "metadata": {
            "tags": []
          }
        }
      ]
    },
    {
      "cell_type": "markdown",
      "metadata": {
        "id": "c_T_DyGXY_X6",
        "colab_type": "text"
      },
      "source": [
        "Okay so the above is a well balanced dataset. let's go on to train the model by first splitting the dataset"
      ]
    },
    {
      "cell_type": "code",
      "metadata": {
        "id": "OO6-cjNtZE-T",
        "colab_type": "code",
        "colab": {
          "base_uri": "https://localhost:8080/",
          "height": 84
        },
        "outputId": "d5f55289-aa08-4848-a921-d887f5065199"
      },
      "source": [
        "X_train, X_test, y_train, y_test = train_test_split(over_sampled_df.iloc[:,:-1], over_sampled_df.Diabetic, test_size=0.3, random_state=1234)\n",
        "\n",
        "print('X_train shape is',X_train.shape)\n",
        "print('X_test shape is',X_test.shape)\n",
        "print('y_train shape is',y_train.shape)\n",
        "print('y_test shape is',y_test.shape)"
      ],
      "execution_count": 33,
      "outputs": [
        {
          "output_type": "stream",
          "text": [
            "X_train shape is (14000, 8)\n",
            "X_test shape is (6000, 8)\n",
            "y_train shape is (14000,)\n",
            "y_test shape is (6000,)\n"
          ],
          "name": "stdout"
        }
      ]
    },
    {
      "cell_type": "markdown",
      "metadata": {
        "id": "umwXSX5iakyc",
        "colab_type": "text"
      },
      "source": [
        "Let's call the DecisionTreeFunction to build and classify and evaluate our model prediction"
      ]
    },
    {
      "cell_type": "code",
      "metadata": {
        "id": "X4jBtofMaxcp",
        "colab_type": "code",
        "colab": {
          "base_uri": "https://localhost:8080/",
          "height": 633
        },
        "outputId": "f6658a2a-9667-48e7-b411-f56e99a93e80"
      },
      "source": [
        "decision_tree_classifier(max_depth, X_train, y_train, X_test, y_test)"
      ],
      "execution_count": 40,
      "outputs": [
        {
          "output_type": "stream",
          "text": [
            "Model Evaluation:\n",
            "{'max_depth': 10, 'val_acc': 0.9262, 'f1_Score': 0.9262, 'log_loss': 2.5501}\n",
            "Confusion matrix, without normalization\n",
            "[[2770  248]\n",
            " [ 232 2750]]\n"
          ],
          "name": "stdout"
        },
        {
          "output_type": "execute_result",
          "data": {
            "text/plain": [
              "DecisionTreeClassifier(class_weight=None, criterion='entropy', max_depth=10,\n",
              "                       max_features=None, max_leaf_nodes=None,\n",
              "                       min_impurity_decrease=0.0, min_impurity_split=None,\n",
              "                       min_samples_leaf=1, min_samples_split=2,\n",
              "                       min_weight_fraction_leaf=0.0, presort=False,\n",
              "                       random_state=None, splitter='best')"
            ]
          },
          "metadata": {
            "tags": []
          },
          "execution_count": 40
        },
        {
          "output_type": "display_data",
          "data": {
            "image/png": "[encoded data removed]",
            "text/plain": [
              "<Figure size 720x432 with 2 Axes>"
            ]
          },
          "metadata": {
            "tags": []
          }
        }
      ]
    },
    {
      "cell_type": "code",
      "metadata": {
        "id": "oo490IGecGDX",
        "colab_type": "code",
        "colab": {
          "base_uri": "https://localhost:8080/",
          "height": 67
        },
        "outputId": "2d367665-19be-4f90-8a2d-19b23e296980"
      },
      "source": [
        "accuracy = (2760 + 2754) / (2760 + 258 + 228 + 2754)\n",
        "recall = 2760 / (2760 + 228)\n",
        "precision = 2760 / (2760 + 258)\n",
        "\n",
        "print('accuracy is:',round(accuracy,2))\n",
        "print('recall is:',round(recall,2))\n",
        "print('precision is:',round(precision,2))"
      ],
      "execution_count": 38,
      "outputs": [
        {
          "output_type": "stream",
          "text": [
            "accuracy is: 0.92\n",
            "recall is: 0.92\n",
            "precision is: 0.91\n"
          ],
          "name": "stdout"
        }
      ]
    }
  ]
}