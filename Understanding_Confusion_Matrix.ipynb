{
  "nbformat": 4,
  "nbformat_minor": 0,
  "metadata": {
    "colab": {
      "name": "Understanding_Confusion_Matrix.ipynb",
      "version": "0.3.2",
      "provenance": [],
      "collapsed_sections": [],
      "include_colab_link": true
    },
    "kernelspec": {
      "name": "python3",
      "display_name": "Python 3"
    },
    "accelerator": "GPU"
  },
  "cells": [
    {
      "cell_type": "markdown",
      "metadata": {
        "id": "view-in-github",
        "colab_type": "text"
      },
      "source": [
        "<a href=\"https://colab.research.google.com/github/Blackman9t/Machine_Learning/blob/master/Understanding_Confusion_Matrix.ipynb\" target=\"_parent\"><img src=\"https://colab.research.google.com/assets/colab-badge.svg\" alt=\"Open In Colab\"/></a>"
      ]
    },
    {
      "cell_type": "code",
      "metadata": {
        "id": "iDhT4fAxgOzZ",
        "colab_type": "code",
        "outputId": "bc5ef3c6-4e57-4f8e-8afa-b58ec294e79a",
        "colab": {
          "base_uri": "https://localhost:8080/",
          "height": 34
        }
      },
      "source": [
        "print(__doc__)\n",
        "\n",
        "import numpy as np\n",
        "import matplotlib.pyplot as plt\n",
        "import seaborn as sns\n",
        "import pandas as pd\n",
        "import itertools\n",
        "from itertools import cycle\n",
        "\n",
        "from sklearn import svm, datasets\n",
        "from sklearn.metrics import roc_curve, auc\n",
        "from sklearn.model_selection import train_test_split\n",
        "from sklearn.preprocessing import label_binarize\n",
        "from sklearn.multiclass import OneVsRestClassifier\n",
        "from scipy import interp\n",
        "\n"
      ],
      "execution_count": 91,
      "outputs": [
        {
          "output_type": "stream",
          "text": [
            "Automatically created module for IPython interactive environment\n"
          ],
          "name": "stdout"
        }
      ]
    },
    {
      "cell_type": "markdown",
      "metadata": {
        "id": "K4MzCNjgh2W0",
        "colab_type": "text"
      },
      "source": [
        "Let's import our data set from github and read into a Pandas Data frame"
      ]
    },
    {
      "cell_type": "code",
      "metadata": {
        "id": "CuVVGqibiAwq",
        "colab_type": "code",
        "outputId": "4df442e2-2a75-4e1c-fb59-fbe1971894a1",
        "colab": {
          "base_uri": "https://localhost:8080/",
          "height": 195
        }
      },
      "source": [
        "data_link = 'https://raw.githubusercontent.com/Blackman9t/Machine_Learning/master/diabetes.csv'\n",
        "\n",
        "diabetes_df = pd.read_csv(data_link)\n",
        "\n",
        "diabetes_df.head()"
      ],
      "execution_count": 92,
      "outputs": [
        {
          "output_type": "execute_result",
          "data": {
            "text/html": [
              "<div>\n",
              "<style scoped>\n",
              "    .dataframe tbody tr th:only-of-type {\n",
              "        vertical-align: middle;\n",
              "    }\n",
              "\n",
              "    .dataframe tbody tr th {\n",
              "        vertical-align: top;\n",
              "    }\n",
              "\n",
              "    .dataframe thead th {\n",
              "        text-align: right;\n",
              "    }\n",
              "</style>\n",
              "<table border=\"1\" class=\"dataframe\">\n",
              "  <thead>\n",
              "    <tr style=\"text-align: right;\">\n",
              "      <th></th>\n",
              "      <th>PatientID</th>\n",
              "      <th>Pregnancies</th>\n",
              "      <th>PlasmaGlucose</th>\n",
              "      <th>DiastolicBloodPressure</th>\n",
              "      <th>TricepsThickness</th>\n",
              "      <th>SerumInsulin</th>\n",
              "      <th>BMI</th>\n",
              "      <th>DiabetesPedigree</th>\n",
              "      <th>Age</th>\n",
              "      <th>Diabetic</th>\n",
              "    </tr>\n",
              "  </thead>\n",
              "  <tbody>\n",
              "    <tr>\n",
              "      <th>0</th>\n",
              "      <td>1354778</td>\n",
              "      <td>0</td>\n",
              "      <td>171</td>\n",
              "      <td>80</td>\n",
              "      <td>34</td>\n",
              "      <td>23</td>\n",
              "      <td>43.509726</td>\n",
              "      <td>1.213191</td>\n",
              "      <td>21</td>\n",
              "      <td>0</td>\n",
              "    </tr>\n",
              "    <tr>\n",
              "      <th>1</th>\n",
              "      <td>1147438</td>\n",
              "      <td>8</td>\n",
              "      <td>92</td>\n",
              "      <td>93</td>\n",
              "      <td>47</td>\n",
              "      <td>36</td>\n",
              "      <td>21.240576</td>\n",
              "      <td>0.158365</td>\n",
              "      <td>23</td>\n",
              "      <td>0</td>\n",
              "    </tr>\n",
              "    <tr>\n",
              "      <th>2</th>\n",
              "      <td>1640031</td>\n",
              "      <td>7</td>\n",
              "      <td>115</td>\n",
              "      <td>47</td>\n",
              "      <td>52</td>\n",
              "      <td>35</td>\n",
              "      <td>41.511523</td>\n",
              "      <td>0.079019</td>\n",
              "      <td>23</td>\n",
              "      <td>0</td>\n",
              "    </tr>\n",
              "    <tr>\n",
              "      <th>3</th>\n",
              "      <td>1883350</td>\n",
              "      <td>9</td>\n",
              "      <td>103</td>\n",
              "      <td>78</td>\n",
              "      <td>25</td>\n",
              "      <td>304</td>\n",
              "      <td>29.582192</td>\n",
              "      <td>1.282870</td>\n",
              "      <td>43</td>\n",
              "      <td>1</td>\n",
              "    </tr>\n",
              "    <tr>\n",
              "      <th>4</th>\n",
              "      <td>1424119</td>\n",
              "      <td>1</td>\n",
              "      <td>85</td>\n",
              "      <td>59</td>\n",
              "      <td>27</td>\n",
              "      <td>35</td>\n",
              "      <td>42.604536</td>\n",
              "      <td>0.549542</td>\n",
              "      <td>22</td>\n",
              "      <td>0</td>\n",
              "    </tr>\n",
              "  </tbody>\n",
              "</table>\n",
              "</div>"
            ],
            "text/plain": [
              "   PatientID  Pregnancies  PlasmaGlucose  ...  DiabetesPedigree  Age  Diabetic\n",
              "0    1354778            0            171  ...          1.213191   21         0\n",
              "1    1147438            8             92  ...          0.158365   23         0\n",
              "2    1640031            7            115  ...          0.079019   23         0\n",
              "3    1883350            9            103  ...          1.282870   43         1\n",
              "4    1424119            1             85  ...          0.549542   22         0\n",
              "\n",
              "[5 rows x 10 columns]"
            ]
          },
          "metadata": {
            "tags": []
          },
          "execution_count": 92
        }
      ]
    },
    {
      "cell_type": "markdown",
      "metadata": {
        "id": "wy36kU00ijM8",
        "colab_type": "text"
      },
      "source": [
        "Let's check the shape and if any missing values exist"
      ]
    },
    {
      "cell_type": "code",
      "metadata": {
        "id": "fD2ShA1Qin4x",
        "colab_type": "code",
        "outputId": "f40ffe39-0190-4c51-ccc4-f598cf05714f",
        "colab": {
          "base_uri": "https://localhost:8080/",
          "height": 34
        }
      },
      "source": [
        "diabetes_df.shape"
      ],
      "execution_count": 93,
      "outputs": [
        {
          "output_type": "execute_result",
          "data": {
            "text/plain": [
              "(15000, 10)"
            ]
          },
          "metadata": {
            "tags": []
          },
          "execution_count": 93
        }
      ]
    },
    {
      "cell_type": "code",
      "metadata": {
        "id": "CrAm8bWLiqro",
        "colab_type": "code",
        "outputId": "29b0a586-0c1b-4cc0-92b8-d6cc451042f5",
        "colab": {
          "base_uri": "https://localhost:8080/",
          "height": 202
        }
      },
      "source": [
        "diabetes_df.isna().any()"
      ],
      "execution_count": 94,
      "outputs": [
        {
          "output_type": "execute_result",
          "data": {
            "text/plain": [
              "PatientID                 False\n",
              "Pregnancies               False\n",
              "PlasmaGlucose             False\n",
              "DiastolicBloodPressure    False\n",
              "TricepsThickness          False\n",
              "SerumInsulin              False\n",
              "BMI                       False\n",
              "DiabetesPedigree          False\n",
              "Age                       False\n",
              "Diabetic                  False\n",
              "dtype: bool"
            ]
          },
          "metadata": {
            "tags": []
          },
          "execution_count": 94
        }
      ]
    },
    {
      "cell_type": "markdown",
      "metadata": {
        "id": "5PlahZq0mYx_",
        "colab_type": "text"
      },
      "source": [
        "Let's look at the distribution of each column, this would help us choose the most ideal feature normalization method.<br>\n",
        "First let's define a method that plots the distribution of each feature."
      ]
    },
    {
      "cell_type": "code",
      "metadata": {
        "id": "wVySOHK8msHN",
        "colab_type": "code",
        "colab": {}
      },
      "source": [
        "def plot_features(data):\n",
        "    plt.figure(figsize=(20, 10))\n",
        "    sns.set(font_scale=1.2)\n",
        "    sns.set_style('ticks') # change background to white background\n",
        "    plt.suptitle('Visualizing The Features Distribution', y=0.95)\n",
        "\n",
        "    # For The Bar chart\n",
        "    plt.subplot(241)\n",
        "    color_list = ['gold','purple','brown']\n",
        "    data.Age.plot(kind='hist', color='brown')\n",
        "    plt.xlabel('Age')\n",
        "    plt.ylabel('Frequency')\n",
        "\n",
        "    plt.subplot(242)\n",
        "    color_list = ['gold','purple','brown']\n",
        "    data.Pregnancies.plot(kind='hist', color='brown')\n",
        "    plt.xlabel('Pregnancies')\n",
        "    plt.ylabel('Frequency')\n",
        "\n",
        "    plt.subplot(243)\n",
        "    color_list = ['gold','purple','brown']\n",
        "    data.PlasmaGlucose.plot(kind='hist', color='brown')\n",
        "    plt.xlabel('PlasmaGlucose')\n",
        "    plt.ylabel('Frequency')\n",
        "\n",
        "    plt.subplot(244)\n",
        "    color_list = ['gold','purple','brown']\n",
        "    data.DiastolicBloodPressure.plot(kind='hist', color='brown')\n",
        "    plt.xlabel('DiastolicBP')\n",
        "    plt.ylabel('Frequency')\n",
        "\n",
        "    plt.subplot(245)\n",
        "    color_list = ['gold','purple','brown']\n",
        "    data.TricepsThickness.plot(kind='hist', color='brown')\n",
        "    plt.xlabel('TricepsThickness')\n",
        "    plt.ylabel('Frequency')\n",
        "\n",
        "    plt.subplot(246)\n",
        "    color_list = ['gold','purple','brown']\n",
        "    data.SerumInsulin.plot(kind='hist', color='brown')\n",
        "    plt.xlabel('SerumInsulin')\n",
        "    plt.ylabel('Frequency')\n",
        "\n",
        "\n",
        "    plt.subplot(247)\n",
        "    color_list = ['gold','purple','brown']\n",
        "    data.BMI.plot(kind='hist', color='brown')\n",
        "    plt.xlabel('BMI')\n",
        "    plt.ylabel('Frequency')\n",
        "\n",
        "    plt.subplot(248)\n",
        "    color_list = ['gold','purple','brown']\n",
        "    data.DiabetesPedigree.plot(kind='hist', color='brown')\n",
        "    plt.xlabel('DiabetesPedigree')\n",
        "    plt.ylabel('Frequency')\n",
        "\n",
        "    plt.show()"
      ],
      "execution_count": 0,
      "outputs": []
    },
    {
      "cell_type": "code",
      "metadata": {
        "id": "x4PlJMg7JAsP",
        "colab_type": "code",
        "outputId": "855759ba-f0c5-475b-f6fa-b4a69080f817",
        "colab": {
          "base_uri": "https://localhost:8080/",
          "height": 665
        }
      },
      "source": [
        "plot_features(diabetes_df)"
      ],
      "execution_count": 96,
      "outputs": [
        {
          "output_type": "display_data",
          "data": {
            "image/png": "[encoded data removed]",
            "text/plain": [
              "<Figure size 1440x720 with 8 Axes>"
            ]
          },
          "metadata": {
            "tags": []
          }
        }
      ]
    },
    {
      "cell_type": "markdown",
      "metadata": {
        "id": "eWkfoi6FF7AG",
        "colab_type": "text"
      },
      "source": [
        "We can see that features like Age, DiabetesPedigree, SerumInsulin and BMI seem to be skewed to the right.<br>\n",
        "This is due to a lot of smaller values and a progressive distribution of fewer large values.<br>\n",
        "Let's make the distribution better by using the log of the values, rather than actual values in these features.<br>\n",
        "This is a part of the  feature-engineering process in Machine Learning"
      ]
    },
    {
      "cell_type": "code",
      "metadata": {
        "id": "B1uy0emlF5kY",
        "colab_type": "code",
        "outputId": "aa8c5b5d-e246-49bb-9164-39fb6352fa57",
        "colab": {
          "base_uri": "https://localhost:8080/",
          "height": 84
        }
      },
      "source": [
        "for i in diabetes_df.columns:\n",
        "    if i in ['Age', 'DiabetesPedigree', 'BMI', 'SerumInsulin']:\n",
        "        print(i)\n",
        "        diabetes_df[i] = diabetes_df[i].apply(np.log)\n"
      ],
      "execution_count": 97,
      "outputs": [
        {
          "output_type": "stream",
          "text": [
            "SerumInsulin\n",
            "BMI\n",
            "DiabetesPedigree\n",
            "Age\n"
          ],
          "name": "stdout"
        }
      ]
    },
    {
      "cell_type": "markdown",
      "metadata": {
        "id": "7wgOV2tyLJjQ",
        "colab_type": "text"
      },
      "source": [
        "Let's view the distribution again"
      ]
    },
    {
      "cell_type": "code",
      "metadata": {
        "id": "t4bVNsQRJjEz",
        "colab_type": "code",
        "outputId": "ce1edc57-b3a1-4001-c25e-f9b5720556a7",
        "colab": {
          "base_uri": "https://localhost:8080/",
          "height": 665
        }
      },
      "source": [
        "plot_features(diabetes_df)"
      ],
      "execution_count": 98,
      "outputs": [
        {
          "output_type": "display_data",
          "data": {
            "image/png": "[encoded data removed]",
            "text/plain": [
              "<Figure size 1440x720 with 8 Axes>"
            ]
          },
          "metadata": {
            "tags": []
          }
        }
      ]
    },
    {
      "cell_type": "markdown",
      "metadata": {
        "id": "qYiYg3NkLN3c",
        "colab_type": "text"
      },
      "source": [
        "From the above plots, we can see an improvement to the distribution of our features.<br>\n",
        "This would help us achieve a better result when we train the model"
      ]
    },
    {
      "cell_type": "markdown",
      "metadata": {
        "id": "7vXTDeo5mDGQ",
        "colab_type": "text"
      },
      "source": [
        "Okay so now, let's look at the dataset that contains the names of the doctors treating our respective patients.<br>\n",
        "The raw file is in Github, let's read it to a Dataframe."
      ]
    },
    {
      "cell_type": "code",
      "metadata": {
        "id": "K0J90XTBs0JW",
        "colab_type": "code",
        "outputId": "845f56c0-0502-44c7-8a9f-8d248d5b5048",
        "colab": {
          "base_uri": "https://localhost:8080/",
          "height": 195
        }
      },
      "source": [
        "doctors_link = 'https://raw.githubusercontent.com/Blackman9t/Machine_Learning/master/doctors.csv'\n",
        "\n",
        "doctors_df = pd.read_csv(doctors_link, encoding='latin-1')\n",
        "# Note the above code line throws a UnicodeDecodeError except we encode the string in latin-1 as shown above.\n",
        "\n",
        "doctors_df.head()"
      ],
      "execution_count": 99,
      "outputs": [
        {
          "output_type": "execute_result",
          "data": {
            "text/html": [
              "<div>\n",
              "<style scoped>\n",
              "    .dataframe tbody tr th:only-of-type {\n",
              "        vertical-align: middle;\n",
              "    }\n",
              "\n",
              "    .dataframe tbody tr th {\n",
              "        vertical-align: top;\n",
              "    }\n",
              "\n",
              "    .dataframe thead th {\n",
              "        text-align: right;\n",
              "    }\n",
              "</style>\n",
              "<table border=\"1\" class=\"dataframe\">\n",
              "  <thead>\n",
              "    <tr style=\"text-align: right;\">\n",
              "      <th></th>\n",
              "      <th>PatientID</th>\n",
              "      <th>Physician</th>\n",
              "    </tr>\n",
              "  </thead>\n",
              "  <tbody>\n",
              "    <tr>\n",
              "      <th>0</th>\n",
              "      <td>1000038</td>\n",
              "      <td>Jeanne Vestergaard</td>\n",
              "    </tr>\n",
              "    <tr>\n",
              "      <th>1</th>\n",
              "      <td>1000069</td>\n",
              "      <td>Sheldon Comeaux</td>\n",
              "    </tr>\n",
              "    <tr>\n",
              "      <th>2</th>\n",
              "      <td>1000118</td>\n",
              "      <td>Brain Dulaney</td>\n",
              "    </tr>\n",
              "    <tr>\n",
              "      <th>3</th>\n",
              "      <td>1000183</td>\n",
              "      <td>Alaine Poisson</td>\n",
              "    </tr>\n",
              "    <tr>\n",
              "      <th>4</th>\n",
              "      <td>1000326</td>\n",
              "      <td>Erik Collado</td>\n",
              "    </tr>\n",
              "  </tbody>\n",
              "</table>\n",
              "</div>"
            ],
            "text/plain": [
              "   PatientID           Physician\n",
              "0    1000038  Jeanne Vestergaard\n",
              "1    1000069     Sheldon Comeaux\n",
              "2    1000118       Brain Dulaney\n",
              "3    1000183      Alaine Poisson\n",
              "4    1000326        Erik Collado"
            ]
          },
          "metadata": {
            "tags": []
          },
          "execution_count": 99
        }
      ]
    },
    {
      "cell_type": "code",
      "metadata": {
        "id": "RG01OWeTs_rr",
        "colab_type": "code",
        "outputId": "481ce672-d9d2-4143-c1d8-39ee1d93624d",
        "colab": {
          "base_uri": "https://localhost:8080/",
          "height": 34
        }
      },
      "source": [
        "doctors_df.shape"
      ],
      "execution_count": 100,
      "outputs": [
        {
          "output_type": "execute_result",
          "data": {
            "text/plain": [
              "(14895, 2)"
            ]
          },
          "metadata": {
            "tags": []
          },
          "execution_count": 100
        }
      ]
    },
    {
      "cell_type": "markdown",
      "metadata": {
        "id": "jPIhFJE-pU7C",
        "colab_type": "text"
      },
      "source": [
        "So we can see that the Doctor data is slightly smaller than the patients dataset.<br>\n",
        "This may be due to the fact that a few doctors saw more than one patient.<br>\n",
        "Let's left-join the diabetes_df and doctors_df data frames using the PatientID as the join key.<br>\n",
        "Left-join here is important so that we keep data for patients who may not have doctors names too."
      ]
    },
    {
      "cell_type": "code",
      "metadata": {
        "id": "lw7IvlJCpNxu",
        "colab_type": "code",
        "outputId": "4c67e741-7db7-4ebb-a9f7-8ea64b313a6c",
        "colab": {
          "base_uri": "https://localhost:8080/",
          "height": 195
        }
      },
      "source": [
        "diabetes_doctor_df = pd.merge(diabetes_df, doctors_df, how='left', on='PatientID' )\n",
        "\n",
        "diabetes_doctor_df.head()"
      ],
      "execution_count": 101,
      "outputs": [
        {
          "output_type": "execute_result",
          "data": {
            "text/html": [
              "<div>\n",
              "<style scoped>\n",
              "    .dataframe tbody tr th:only-of-type {\n",
              "        vertical-align: middle;\n",
              "    }\n",
              "\n",
              "    .dataframe tbody tr th {\n",
              "        vertical-align: top;\n",
              "    }\n",
              "\n",
              "    .dataframe thead th {\n",
              "        text-align: right;\n",
              "    }\n",
              "</style>\n",
              "<table border=\"1\" class=\"dataframe\">\n",
              "  <thead>\n",
              "    <tr style=\"text-align: right;\">\n",
              "      <th></th>\n",
              "      <th>PatientID</th>\n",
              "      <th>Pregnancies</th>\n",
              "      <th>PlasmaGlucose</th>\n",
              "      <th>DiastolicBloodPressure</th>\n",
              "      <th>TricepsThickness</th>\n",
              "      <th>SerumInsulin</th>\n",
              "      <th>BMI</th>\n",
              "      <th>DiabetesPedigree</th>\n",
              "      <th>Age</th>\n",
              "      <th>Diabetic</th>\n",
              "      <th>Physician</th>\n",
              "    </tr>\n",
              "  </thead>\n",
              "  <tbody>\n",
              "    <tr>\n",
              "      <th>0</th>\n",
              "      <td>1354778</td>\n",
              "      <td>0</td>\n",
              "      <td>171</td>\n",
              "      <td>80</td>\n",
              "      <td>34</td>\n",
              "      <td>3.135494</td>\n",
              "      <td>3.772984</td>\n",
              "      <td>0.193254</td>\n",
              "      <td>3.044522</td>\n",
              "      <td>0</td>\n",
              "      <td>Dan Drayton</td>\n",
              "    </tr>\n",
              "    <tr>\n",
              "      <th>1</th>\n",
              "      <td>1147438</td>\n",
              "      <td>8</td>\n",
              "      <td>92</td>\n",
              "      <td>93</td>\n",
              "      <td>47</td>\n",
              "      <td>3.583519</td>\n",
              "      <td>3.055913</td>\n",
              "      <td>-1.842853</td>\n",
              "      <td>3.135494</td>\n",
              "      <td>0</td>\n",
              "      <td>Anthony Frizzell</td>\n",
              "    </tr>\n",
              "    <tr>\n",
              "      <th>2</th>\n",
              "      <td>1640031</td>\n",
              "      <td>7</td>\n",
              "      <td>115</td>\n",
              "      <td>47</td>\n",
              "      <td>52</td>\n",
              "      <td>3.555348</td>\n",
              "      <td>3.725971</td>\n",
              "      <td>-2.538072</td>\n",
              "      <td>3.135494</td>\n",
              "      <td>0</td>\n",
              "      <td>Gordon Fredrickson</td>\n",
              "    </tr>\n",
              "    <tr>\n",
              "      <th>3</th>\n",
              "      <td>1883350</td>\n",
              "      <td>9</td>\n",
              "      <td>103</td>\n",
              "      <td>78</td>\n",
              "      <td>25</td>\n",
              "      <td>5.717028</td>\n",
              "      <td>3.387173</td>\n",
              "      <td>0.249100</td>\n",
              "      <td>3.761200</td>\n",
              "      <td>1</td>\n",
              "      <td>Chad Corbitt</td>\n",
              "    </tr>\n",
              "    <tr>\n",
              "      <th>4</th>\n",
              "      <td>1424119</td>\n",
              "      <td>1</td>\n",
              "      <td>85</td>\n",
              "      <td>59</td>\n",
              "      <td>27</td>\n",
              "      <td>3.555348</td>\n",
              "      <td>3.751961</td>\n",
              "      <td>-0.598670</td>\n",
              "      <td>3.091042</td>\n",
              "      <td>0</td>\n",
              "      <td>Zachary Fellows</td>\n",
              "    </tr>\n",
              "  </tbody>\n",
              "</table>\n",
              "</div>"
            ],
            "text/plain": [
              "   PatientID  Pregnancies  ...  Diabetic           Physician\n",
              "0    1354778            0  ...         0         Dan Drayton\n",
              "1    1147438            8  ...         0    Anthony Frizzell\n",
              "2    1640031            7  ...         0  Gordon Fredrickson\n",
              "3    1883350            9  ...         1        Chad Corbitt\n",
              "4    1424119            1  ...         0     Zachary Fellows\n",
              "\n",
              "[5 rows x 11 columns]"
            ]
          },
          "metadata": {
            "tags": []
          },
          "execution_count": 101
        }
      ]
    },
    {
      "cell_type": "markdown",
      "metadata": {
        "id": "vKUdBM_wtMlE",
        "colab_type": "text"
      },
      "source": [
        "Now we can see the doctors column appended and can tell which doctor treated a patient.<br>\n",
        "Let's view the shape and also check the number and columns with null values"
      ]
    },
    {
      "cell_type": "code",
      "metadata": {
        "id": "DZoyhLr5tnCh",
        "colab_type": "code",
        "outputId": "7d570d49-262a-4734-95a8-78d372e075e4",
        "colab": {
          "base_uri": "https://localhost:8080/",
          "height": 34
        }
      },
      "source": [
        "diabetes_doctor_df.shape"
      ],
      "execution_count": 102,
      "outputs": [
        {
          "output_type": "execute_result",
          "data": {
            "text/plain": [
              "(15000, 11)"
            ]
          },
          "metadata": {
            "tags": []
          },
          "execution_count": 102
        }
      ]
    },
    {
      "cell_type": "code",
      "metadata": {
        "id": "LQ3LCTeHujMP",
        "colab_type": "code",
        "outputId": "8961573f-ef28-4ad4-8a09-022243fafcf1",
        "colab": {
          "base_uri": "https://localhost:8080/",
          "height": 218
        }
      },
      "source": [
        "diabetes_doctor_df.isna().sum()"
      ],
      "execution_count": 103,
      "outputs": [
        {
          "output_type": "execute_result",
          "data": {
            "text/plain": [
              "PatientID                 0\n",
              "Pregnancies               0\n",
              "PlasmaGlucose             0\n",
              "DiastolicBloodPressure    0\n",
              "TricepsThickness          0\n",
              "SerumInsulin              0\n",
              "BMI                       0\n",
              "DiabetesPedigree          0\n",
              "Age                       0\n",
              "Diabetic                  0\n",
              "Physician                 0\n",
              "dtype: int64"
            ]
          },
          "metadata": {
            "tags": []
          },
          "execution_count": 103
        }
      ]
    },
    {
      "cell_type": "markdown",
      "metadata": {
        "id": "DqesEjlvwu7o",
        "colab_type": "text"
      },
      "source": [
        "### Preparing The Data"
      ]
    },
    {
      "cell_type": "markdown",
      "metadata": {
        "id": "fcBhfmN8w6Bf",
        "colab_type": "text"
      },
      "source": [
        "As is often the case with machine learning of any kind, some data preparation is required before you can\n",
        "use the data to train a model.<br>\n",
        "We shall normalize the features so that features that have large values do not dominate the training.<br>\n",
        "Looking at the shapes of the distribution of each feature, those with a roughly normal distribution bell-shape will be normalized using the Zscore method.<br>\n",
        "While those with varying large and low values will be normalized using the Min-Max method."
      ]
    },
    {
      "cell_type": "markdown",
      "metadata": {
        "id": "LRNm0Ccq3YKH",
        "colab_type": "text"
      },
      "source": [
        "**1. Z-Score or Standard Score**_  \n",
        "_For each value here, we subtract the average or mean..._  \n",
        "_And then divide by the Standard deviation._  \n",
        "_This gives a range between minus 3 and 3, but can be more or less_  \n",
        "\n",
        "$Xnew =$ $Xold - mean \\over STD(sigma)$"
      ]
    },
    {
      "cell_type": "markdown",
      "metadata": {
        "id": "bSw1UjuF3gEq",
        "colab_type": "text"
      },
      "source": [
        "_**2. Min-Max Method**_  \n",
        "_This method takes each value and subtracts the min and then divides by the range(max - min)..._  \n",
        "_The resultant values range between zero(0) and one(1)_\n",
        "\n",
        "$Xnew =$ $Xold - Xmin \\over Xmax - Xmin$"
      ]
    },
    {
      "cell_type": "markdown",
      "metadata": {
        "id": "aMfJe09V3a7e",
        "colab_type": "text"
      },
      "source": [
        ""
      ]
    },
    {
      "cell_type": "markdown",
      "metadata": {
        "id": "kokc-lzf4Lj2",
        "colab_type": "text"
      },
      "source": [
        "Now let's apply these methods to the selected columns using the apply method."
      ]
    },
    {
      "cell_type": "code",
      "metadata": {
        "id": "dH-o3IJ04bDf",
        "colab_type": "code",
        "colab": {}
      },
      "source": [
        "for i in diabetes_doctor_df.columns[:-2]:\n",
        "    mean = diabetes_doctor_df[i].mean()\n",
        "    std = diabetes_doctor_df[i].std()\n",
        "    mini = diabetes_doctor_df[i].min()\n",
        "    maxi = diabetes_doctor_df[i].max()\n",
        "    \n",
        "    # if columns are not Age or Pregnancies, apply the Z_score norm method\n",
        "    if i not in ['Age', 'Pregnancies']:\n",
        "        diabetes_doctor_df[i] = diabetes_doctor_df[i].apply(lambda x: (x - mean) / std)\n",
        "    \n",
        "    # Else if columns are either Age or Pregnancies, then apply the Min-Max norm method\n",
        "    else:\n",
        "        diabetes_doctor_df[i] = diabetes_doctor_df[i].apply(lambda x: (x - mini) / (maxi - mini))\n",
        "    "
      ],
      "execution_count": 0,
      "outputs": []
    },
    {
      "cell_type": "code",
      "metadata": {
        "id": "bYPtSab0OWPf",
        "colab_type": "code",
        "outputId": "cb8e4dd0-3470-47dd-9ec8-603f565780fe",
        "colab": {
          "base_uri": "https://localhost:8080/",
          "height": 195
        }
      },
      "source": [
        "diabetes_doctor_df.head()"
      ],
      "execution_count": 105,
      "outputs": [
        {
          "output_type": "execute_result",
          "data": {
            "text/html": [
              "<div>\n",
              "<style scoped>\n",
              "    .dataframe tbody tr th:only-of-type {\n",
              "        vertical-align: middle;\n",
              "    }\n",
              "\n",
              "    .dataframe tbody tr th {\n",
              "        vertical-align: top;\n",
              "    }\n",
              "\n",
              "    .dataframe thead th {\n",
              "        text-align: right;\n",
              "    }\n",
              "</style>\n",
              "<table border=\"1\" class=\"dataframe\">\n",
              "  <thead>\n",
              "    <tr style=\"text-align: right;\">\n",
              "      <th></th>\n",
              "      <th>PatientID</th>\n",
              "      <th>Pregnancies</th>\n",
              "      <th>PlasmaGlucose</th>\n",
              "      <th>DiastolicBloodPressure</th>\n",
              "      <th>TricepsThickness</th>\n",
              "      <th>SerumInsulin</th>\n",
              "      <th>BMI</th>\n",
              "      <th>DiabetesPedigree</th>\n",
              "      <th>Age</th>\n",
              "      <th>Diabetic</th>\n",
              "      <th>Physician</th>\n",
              "    </tr>\n",
              "  </thead>\n",
              "  <tbody>\n",
              "    <tr>\n",
              "      <th>0</th>\n",
              "      <td>-0.512160</td>\n",
              "      <td>0.000000</td>\n",
              "      <td>1.974335</td>\n",
              "      <td>0.523867</td>\n",
              "      <td>0.356286</td>\n",
              "      <td>-1.364665</td>\n",
              "      <td>1.165284</td>\n",
              "      <td>1.755479</td>\n",
              "      <td>0.000000</td>\n",
              "      <td>0</td>\n",
              "      <td>Dan Drayton</td>\n",
              "    </tr>\n",
              "    <tr>\n",
              "      <th>1</th>\n",
              "      <td>-1.228971</td>\n",
              "      <td>0.571429</td>\n",
              "      <td>-0.495806</td>\n",
              "      <td>1.299582</td>\n",
              "      <td>1.249406</td>\n",
              "      <td>-0.908607</td>\n",
              "      <td>-1.076800</td>\n",
              "      <td>-0.637939</td>\n",
              "      <td>0.070017</td>\n",
              "      <td>0</td>\n",
              "      <td>Anthony Frizzell</td>\n",
              "    </tr>\n",
              "    <tr>\n",
              "      <th>2</th>\n",
              "      <td>0.474010</td>\n",
              "      <td>0.500000</td>\n",
              "      <td>0.223349</td>\n",
              "      <td>-1.445258</td>\n",
              "      <td>1.592914</td>\n",
              "      <td>-0.937283</td>\n",
              "      <td>1.018286</td>\n",
              "      <td>-1.455161</td>\n",
              "      <td>0.070017</td>\n",
              "      <td>0</td>\n",
              "      <td>Gordon Fredrickson</td>\n",
              "    </tr>\n",
              "    <tr>\n",
              "      <th>3</th>\n",
              "      <td>1.315206</td>\n",
              "      <td>0.642857</td>\n",
              "      <td>-0.151863</td>\n",
              "      <td>0.404526</td>\n",
              "      <td>-0.262028</td>\n",
              "      <td>1.263156</td>\n",
              "      <td>-0.041044</td>\n",
              "      <td>1.821124</td>\n",
              "      <td>0.551595</td>\n",
              "      <td>1</td>\n",
              "      <td>Chad Corbitt</td>\n",
              "    </tr>\n",
              "    <tr>\n",
              "      <th>4</th>\n",
              "      <td>-0.272436</td>\n",
              "      <td>0.071429</td>\n",
              "      <td>-0.714680</td>\n",
              "      <td>-0.729213</td>\n",
              "      <td>-0.124625</td>\n",
              "      <td>-0.937283</td>\n",
              "      <td>1.099549</td>\n",
              "      <td>0.824581</td>\n",
              "      <td>0.035804</td>\n",
              "      <td>0</td>\n",
              "      <td>Zachary Fellows</td>\n",
              "    </tr>\n",
              "  </tbody>\n",
              "</table>\n",
              "</div>"
            ],
            "text/plain": [
              "   PatientID  Pregnancies  ...  Diabetic           Physician\n",
              "0  -0.512160     0.000000  ...         0         Dan Drayton\n",
              "1  -1.228971     0.571429  ...         0    Anthony Frizzell\n",
              "2   0.474010     0.500000  ...         0  Gordon Fredrickson\n",
              "3   1.315206     0.642857  ...         1        Chad Corbitt\n",
              "4  -0.272436     0.071429  ...         0     Zachary Fellows\n",
              "\n",
              "[5 rows x 11 columns]"
            ]
          },
          "metadata": {
            "tags": []
          },
          "execution_count": 105
        }
      ]
    },
    {
      "cell_type": "markdown",
      "metadata": {
        "id": "glrVj-wWQ9Wk",
        "colab_type": "text"
      },
      "source": [
        "Now that we have prepared the data set, we will use it to train and evaluate a classifier machine\n",
        "learning model. Typically, when training a supervised learning model, in which the training data includes\n",
        "known label values, we split the data into a training set with which to train the model, and a test set\n",
        "with which to validate predictions generated by the trained model."
      ]
    },
    {
      "cell_type": "markdown",
      "metadata": {
        "id": "3SXwGGcBEJl8",
        "colab_type": "text"
      },
      "source": [
        "Before we go any furteher, let's check the number of observations each class of Diabetics or Non-Diabetics has<br>"
      ]
    },
    {
      "cell_type": "code",
      "metadata": {
        "id": "3TTEkwcmD48w",
        "colab_type": "code",
        "colab": {
          "base_uri": "https://localhost:8080/",
          "height": 67
        },
        "outputId": "d58796d4-f209-482b-99f3-080de8c46143"
      },
      "source": [
        "diabetes_doctor_df.Diabetic.value_counts()"
      ],
      "execution_count": 106,
      "outputs": [
        {
          "output_type": "execute_result",
          "data": {
            "text/plain": [
              "0    10000\n",
              "1     5000\n",
              "Name: Diabetic, dtype: int64"
            ]
          },
          "metadata": {
            "tags": []
          },
          "execution_count": 106
        }
      ]
    },
    {
      "cell_type": "markdown",
      "metadata": {
        "id": "2nkD1PnqFMTz",
        "colab_type": "text"
      },
      "source": [
        "Let's visualize this distribution"
      ]
    },
    {
      "cell_type": "code",
      "metadata": {
        "id": "u-xqbIxEFKI_",
        "colab_type": "code",
        "colab": {
          "base_uri": "https://localhost:8080/",
          "height": 523
        },
        "outputId": "c19b92ed-8b03-4974-bc14-11766d149d5b"
      },
      "source": [
        "plt.figure(figsize=(8, 8))\n",
        "\n",
        "x = diabetes_doctor_df.Diabetic.replace(to_replace=[0, 1], value=['Non-Diabetics','Diabetics'])\n",
        "sns.countplot(x)\n",
        "plt.title('Count of Diabetics and Non-Diabetics')\n",
        "plt.show()"
      ],
      "execution_count": 107,
      "outputs": [
        {
          "output_type": "display_data",
          "data": {
            "image/png": "[encoded data removed]",
            "text/plain": [
              "<Figure size 576x576 with 1 Axes>"
            ]
          },
          "metadata": {
            "tags": []
          }
        }
      ]
    },
    {
      "cell_type": "markdown",
      "metadata": {
        "id": "G6V6WZsYEfBN",
        "colab_type": "text"
      },
      "source": [
        "We can see that out of the 15,000 observations in our dataset, the Non-Diabetic class has 10,000 entries, while Diabetic class has only 5,000 entries.<br>\n",
        "This is an imbalanced Dataset and the risk involved is that our Model may learn one class features more than the other.<br>\n",
        "We need to find a way to balance the Dataset for a more unbiased and reliable classification"
      ]
    },
    {
      "cell_type": "code",
      "metadata": {
        "id": "3HU9iRaCF3bI",
        "colab_type": "code",
        "colab": {
          "base_uri": "https://localhost:8080/",
          "height": 128
        },
        "outputId": "62628bc1-c614-46d6-bef3-63b450a53ef7"
      },
      "source": [
        "work from here"
      ],
      "execution_count": 108,
      "outputs": [
        {
          "output_type": "error",
          "ename": "SyntaxError",
          "evalue": "ignored",
          "traceback": [
            "\u001b[0;36m  File \u001b[0;32m\"<ipython-input-108-fa655ccfd636>\"\u001b[0;36m, line \u001b[0;32m1\u001b[0m\n\u001b[0;31m    work from here\u001b[0m\n\u001b[0m            ^\u001b[0m\n\u001b[0;31mSyntaxError\u001b[0m\u001b[0;31m:\u001b[0m invalid syntax\n"
          ]
        }
      ]
    },
    {
      "cell_type": "markdown",
      "metadata": {
        "id": "8f6vQ7rDTjTx",
        "colab_type": "text"
      },
      "source": [
        "Before we do the split, let's select only columns that matter by deselecting PatientID and Physician columns"
      ]
    },
    {
      "cell_type": "code",
      "metadata": {
        "id": "Sbh6IhSqQ8IH",
        "colab_type": "code",
        "colab": {}
      },
      "source": [
        "feature_matrix = diabetes_doctor_df.iloc[:,1:-2]\n",
        "feature_matrix.head()"
      ],
      "execution_count": 0,
      "outputs": []
    },
    {
      "cell_type": "markdown",
      "metadata": {
        "id": "kAOjoX3rluz6",
        "colab_type": "text"
      },
      "source": [
        "let's also define our label variable "
      ]
    },
    {
      "cell_type": "code",
      "metadata": {
        "id": "ghv9W1Spl6hn",
        "colab_type": "code",
        "colab": {}
      },
      "source": [
        "label = diabetes_doctor_df.Diabetic\n",
        "\n",
        "label.head()"
      ],
      "execution_count": 0,
      "outputs": []
    },
    {
      "cell_type": "code",
      "metadata": {
        "id": "lbi9YdKRTzjO",
        "colab_type": "code",
        "colab": {}
      },
      "source": [
        "feature_matrix.shape"
      ],
      "execution_count": 0,
      "outputs": []
    },
    {
      "cell_type": "code",
      "metadata": {
        "id": "0C42ux8TUKDG",
        "colab_type": "code",
        "colab": {}
      },
      "source": [
        "from sklearn.model_selection import train_test_split\n",
        "\n",
        "X_train, X_test, y_train, y_test = train_test_split(feature_matrix, label, test_size=0.3, random_state=1234)\n",
        "\n",
        "print('X_train shape is',X_train.shape)\n",
        "print('X_test shape is',X_test.shape)\n",
        "print('y_train shape is',y_train.shape)\n",
        "print('y_test shape is',y_test.shape)"
      ],
      "execution_count": 0,
      "outputs": []
    },
    {
      "cell_type": "markdown",
      "metadata": {
        "id": "z1DZRrpgm-O1",
        "colab_type": "text"
      },
      "source": [
        "Let's build the Decision Tree Classifier"
      ]
    },
    {
      "cell_type": "code",
      "metadata": {
        "id": "Wt-xORLlpYHv",
        "colab_type": "code",
        "colab": {}
      },
      "source": [
        "from sklearn.tree import DecisionTreeClassifier\n",
        "from sklearn import metrics\n",
        "from sklearn.metrics import f1_score\n",
        "from sklearn.metrics import confusion_matrix\n",
        "from sklearn.metrics import log_loss"
      ],
      "execution_count": 0,
      "outputs": []
    },
    {
      "cell_type": "markdown",
      "metadata": {
        "id": "CoGU06nCqMGw",
        "colab_type": "text"
      },
      "source": [
        "Let's define a function that plots the Confusion-Matrix"
      ]
    },
    {
      "cell_type": "code",
      "metadata": {
        "id": "D_i2i663qSyn",
        "colab_type": "code",
        "colab": {}
      },
      "source": [
        "from sklearn.metrics import classification_report\n",
        "\n",
        "\n",
        "def plot_confusion_matrix(cm, classes,\n",
        "                          normalize=False,\n",
        "                          title='Confusion matrix',\n",
        "                          cmap=plt.cm.Blues):\n",
        "    \"\"\"\n",
        "    This function prints and plots the confusion matrix.\n",
        "    Normalization can be applied by setting `normalize=True`.\n",
        "    \"\"\"\n",
        "    if normalize:\n",
        "        cm = cm.astype('float') / cm.sum(axis=1)[:, np.newaxis]\n",
        "        print(\"Normalized confusion matrix\")\n",
        "    else:\n",
        "        print('Confusion matrix, without normalization')\n",
        "\n",
        "    print(cm)\n",
        "\n",
        "    plt.imshow(cm, interpolation='nearest', cmap=cmap)\n",
        "    plt.title(title)\n",
        "    plt.colorbar()\n",
        "    tick_marks = np.arange(len(classes))\n",
        "    plt.xticks(tick_marks, classes, rotation=45)\n",
        "    plt.yticks(tick_marks, classes)\n",
        "\n",
        "    fmt = '.2f' if normalize else 'd'\n",
        "    thresh = cm.max() / 2.\n",
        "    for i, j in itertools.product(range(cm.shape[0]), range(cm.shape[1])):\n",
        "        plt.text(j, i, format(cm[i, j], fmt),\n",
        "                 horizontalalignment=\"center\",\n",
        "                 color=\"white\" if cm[i, j] > thresh else \"black\")\n",
        "\n",
        "    plt.tight_layout()\n",
        "    plt.ylabel('True label')\n",
        "    plt.xlabel('Predicted label')"
      ],
      "execution_count": 0,
      "outputs": []
    },
    {
      "cell_type": "markdown",
      "metadata": {
        "id": "qSrj-S1Fqc-B",
        "colab_type": "text"
      },
      "source": [
        "Let's define a function that returns the best decison tree classifier model and outputs its parameters and a plot of the confusion matrix"
      ]
    },
    {
      "cell_type": "code",
      "metadata": {
        "id": "0BNHKkArm8Bp",
        "colab_type": "code",
        "colab": {}
      },
      "source": [
        "# set max depth range limit for DTree model to iterate through from 1 to 100 to find best parameters\n",
        "max_depth = 100\n",
        "\n",
        "def decision_tree_classifier(max_depth, X_train, y_train, X_test, y_test):\n",
        "    \"\"\"Method takes max_depth an int, and X_train and y_train 2D/1D arrays,\n",
        "    as well as test data x_test and y_test, also arrays, and returns,\n",
        "    The best max_depth value, from 1 to max_depth, and its best test_accuracy score\"\"\"\n",
        "    \n",
        "    accuracy_dict={'max_depth':0, 'val_acc':0, 'f1_Score':0, 'log_loss':0}\n",
        "\n",
        "    \n",
        "    for i in range(1, max_depth+1):\n",
        "        # Let's instantiate a model\n",
        "        decision_model = DecisionTreeClassifier(criterion='entropy', max_depth = i)\n",
        "        \n",
        "        # Let's train the model\n",
        "        decision_model.fit(X_train, y_train)\n",
        "        \n",
        "        # Let's make prediction on the test data\n",
        "        y_hat = decision_model.predict(X_test)\n",
        "        \n",
        "        # Let's measure accuracy of predictions on test data\n",
        "        val_accu = round(metrics.accuracy_score(y_test, y_hat),4)\n",
        "        \n",
        "        # Let's Measure the F1 Score\n",
        "        val_f1 = round(f1_score(y_test, y_hat, average='weighted'),4)\n",
        "        \n",
        "        # Let's Measure Logloss\n",
        "        logloss = round(log_loss(y_test, y_hat, normalize=True),4)\n",
        "        \n",
        "        if accuracy_dict['val_acc'] < val_accu or accuracy_dict['f1_Score'] < val_f1:\n",
        "            accuracy_dict['max_depth'] = i\n",
        "            accuracy_dict['val_acc'] = val_accu\n",
        "            accuracy_dict['f1_Score'] = val_f1\n",
        "            accuracy_dict['log_loss'] = logloss\n",
        "            decision_model2 = decision_model\n",
        "            \n",
        "    print('Model Evaluation:')\n",
        "    print(accuracy_dict)\n",
        "    \n",
        "    # Compute confusion matrix\n",
        "    Dtrees_cnf_matrix = confusion_matrix(y_test, y_hat, labels=[1,0])\n",
        "    np.set_printoptions(precision=2)\n",
        "\n",
        "\n",
        "    # Plot non-normalized confusion matrix\n",
        "    plt.figure(figsize=(10, 6))\n",
        "    sns.set(font_scale=1.3)\n",
        "    plot_confusion_matrix(Dtrees_cnf_matrix, \n",
        "                          classes=['Default=1','Non-Default=0'],\n",
        "                          normalize= False,  \n",
        "                          title='Confusion Matrix for Decision-Tree-Classifier')\n",
        "    #print(decision_model2.get_params(deep=True))\n",
        "\n",
        "    return decision_model2"
      ],
      "execution_count": 0,
      "outputs": []
    },
    {
      "cell_type": "code",
      "metadata": {
        "id": "PIAZPywQpDDV",
        "colab_type": "code",
        "colab": {}
      },
      "source": [
        "decision_tree_classifier(max_depth, X_train, y_train, X_test, y_test)"
      ],
      "execution_count": 0,
      "outputs": []
    },
    {
      "cell_type": "markdown",
      "metadata": {
        "id": "pdTXUr1sxvUJ",
        "colab_type": "text"
      },
      "source": [
        "Let's calculate the Precision and Recall"
      ]
    },
    {
      "cell_type": "code",
      "metadata": {
        "id": "UfQRBoBmxsR_",
        "colab_type": "code",
        "colab": {}
      },
      "source": [
        "# Precision is TP / (TP + FP)\n",
        "Precision = 2720 / (2720 + 238)\n",
        "\n",
        "# Recall is TP / (TP + FN)\n",
        "Recall = 2720 / (2720 + 224)\n",
        "\n",
        "print('Precision is:',Precision,'Recall is:',Recall)"
      ],
      "execution_count": 0,
      "outputs": []
    },
    {
      "cell_type": "code",
      "metadata": {
        "id": "GbcJyu1o2RMQ",
        "colab_type": "code",
        "colab": {}
      },
      "source": [
        "F1_score = 2 * (Precision * Recall) / (Precision + Recall)\n",
        "F1_score"
      ],
      "execution_count": 0,
      "outputs": []
    },
    {
      "cell_type": "code",
      "metadata": {
        "id": "vxlfuH1R5PZo",
        "colab_type": "code",
        "colab": {}
      },
      "source": [
        "y_test.value_counts()"
      ],
      "execution_count": 0,
      "outputs": []
    },
    {
      "cell_type": "code",
      "metadata": {
        "id": "6q_8sWQA_D1U",
        "colab_type": "code",
        "colab": {}
      },
      "source": [
        "import tensorflow as tf"
      ],
      "execution_count": 0,
      "outputs": []
    },
    {
      "cell_type": "code",
      "metadata": {
        "id": "_WFuxVOw_LY-",
        "colab_type": "code",
        "colab": {}
      },
      "source": [
        "tf.estimator.BoostedTreesClassifier"
      ],
      "execution_count": 0,
      "outputs": []
    }
  ]
}