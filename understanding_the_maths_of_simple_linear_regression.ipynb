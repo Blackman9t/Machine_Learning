{
  "nbformat": 4,
  "nbformat_minor": 0,
  "metadata": {
    "colab": {
      "name": "understanding_the_maths_of_simple_linear_regression.ipynb",
      "version": "0.3.2",
      "provenance": [],
      "collapsed_sections": [],
      "include_colab_link": true
    },
    "kernelspec": {
      "name": "python3",
      "display_name": "Python 3"
    },
    "accelerator": "GPU"
  },
  "cells": [
    {
      "cell_type": "markdown",
      "metadata": {
        "id": "view-in-github",
        "colab_type": "text"
      },
      "source": [
        "<a href=\"https://colab.research.google.com/github/Blackman9t/Machine_Learning/blob/master/understanding_the_maths_of_simple_linear_regression.ipynb\" target=\"_parent\"><img src=\"https://colab.research.google.com/assets/colab-badge.svg\" alt=\"Open In Colab\"/></a>"
      ]
    },
    {
      "cell_type": "markdown",
      "metadata": {
        "id": "XA0kX4NRnTH7",
        "colab_type": "text"
      },
      "source": [
        "<h3>This project explains in concrete terms how Simple Linear Regression really works.<br>\n",
        "    It creates a better intuition for understanding  the Maths and inner workings of The Simple Linear Regression Algorithm.</h3>"
      ]
    },
    {
      "cell_type": "markdown",
      "metadata": {
        "id": "VIniyPGeosdZ",
        "colab_type": "text"
      },
      "source": [
        "<font color='khaki'>This Notebook provides the actual codes for the following medium post written by Lawrence Krukrubo.</font><br>\n",
        "See link to the post published in [TowardsAI](https://medium.com/towards-artificial-intelligence/understanding-the-simple-maths-behind-simple-linear-regression-3ce4a30e7602) in medium\n",
        "\n",
        "Kindly go through the article [here](https://medium.com/towards-artificial-intelligence/understanding-the-simple-maths-behind-simple-linear-regression-3ce4a30e7602) as you explore this notebook"
      ]
    },
    {
      "cell_type": "markdown",
      "metadata": {
        "id": "r_2Fz87upkWR",
        "colab_type": "text"
      },
      "source": [
        "We shall use the Fuel consumption ratings data set for car sales in Canada.<br>\n",
        "[(Original Fuel Consumption Ratings 2000–2014)](https://open.canada.ca/data/en/dataset/98f1a129-f628-4ce4-b24d-6f16bf24dd64).\n",
        "\n",
        "See direct [link](https://drive.google.com/file/d/1Apxb-KxuagxhryXmT4UJA0U-2PgvdRer/view?usp=sharing) to the Data set\n",
        "\n",
        "Or download it from the git repository"
      ]
    },
    {
      "cell_type": "markdown",
      "metadata": {
        "id": "fkRhYDixWOxx",
        "colab_type": "text"
      },
      "source": [
        "## Understanding the Data\n",
        "\n",
        "### `FuelConsumption.csv`:\n",
        "We have downloaded a fuel consumption dataset, **`FuelConsumption.csv`**, which contains model-specific fuel consumption ratings and estimated carbon dioxide emissions for new light-duty vehicles for retail sale in Canada. [Dataset source](http://open.canada.ca/data/en/dataset/98f1a129-f628-4ce4-b24d-6f16bf24dd64)\n",
        "\n",
        "- **MODELYEAR** e.g. 2014\n",
        "- **MAKE** e.g. Acura\n",
        "- **MODEL** e.g. ILX\n",
        "- **VEHICLE CLASS** e.g. SUV\n",
        "- **ENGINE SIZE** e.g. 4.7\n",
        "- **CYLINDERS** e.g 6\n",
        "- **TRANSMISSION** e.g. A6\n",
        "- **FUEL CONSUMPTION in CITY(L/100 km)** e.g. 9.9\n",
        "- **FUEL CONSUMPTION in HWY (L/100 km)** e.g. 8.9\n",
        "- **FUEL CONSUMPTION COMB (L/100 km)** e.g. 9.2\n",
        "- **CO2 EMISSIONS (g/km)** e.g. 182   --> low --> 0"
      ]
    },
    {
      "cell_type": "markdown",
      "metadata": {
        "id": "9gt93JpUV9y6",
        "colab_type": "text"
      },
      "source": [
        "**Double-Click** here for more info.\n",
        "\n",
        "<!-- \n",
        "\n",
        "Understanding the Table\t\t\t\t\t\t\t\t\t\t\n",
        "Model\t4WD/4X4 = Four-wheel drive\t\t\t\t\t\t\t\t\t\n",
        "\tAWD = All-wheel drive\t\t\t\t\t\t\t\t\t\n",
        "\tCNG = Compressed natural gas\t\t\t\t\t\t\t\t\t\n",
        "\tFFV = Flexible-fuel vehicle\t\t\t\t\t\t\t\t\t\n",
        "\tNGV = Natural gas vehicle\t\t\t\t\t\t\t\t\t\n",
        "\t# = High output engine that provides more power than the standard engine of the same size\t\t\t\t\t\t\t\t\t\n",
        "Transmission\tA = Automatic\t\t\t\t\t\t\t\t\t\n",
        "\tAM = Automated manual\t\t\t\t\t\t\t\t\t\n",
        "\tAS = Automatic with select shift\t\t\t\t\t\t\t\t\t\n",
        "\tAV = Continuously variable\t\t\t\t\t\t\t\t\t\n",
        "\tM = Manual\t\t\t\t\t\t\t\t\t\n",
        "\t3 – 10 = Number of gears\t\t\t\t\t\t\t\t\t\n",
        "Fuel Type\tX = Regular gasoline\t\t\t\t\t\t\t\t\t\n",
        "\tZ = Premium gasoline\t\t\t\t\t\t\t\t\t\n",
        "\tD = Diesel\t\t\t\t\t\t\t\t\t\n",
        "\tE = Ethanol (E85)\t\t\t\t\t\t\t\t\t\n",
        "\tN = Natural Gas\t\t\t\t\t\t\t\t\t\n",
        "Fuel Consumption\tCity and highway fuel consumption ratings are shown in litres per 100 kilometres (L/100 km) - combined rating (55% city, 45% hwy) is shown in L/100 km and in miles per imperial gallon (mpg)\t\t\t\t\t\t\t\t\t\n",
        "CO2 Emissions (g/km)\tEstimated tailpipe carbon dioxide emissions (in grams per kilometre) are based on fuel type and the combined fuel consumption rating.\n",
        "\n",
        "-->\n",
        "\t\t\t\t\t\t\t\t\t\t\n"
      ]
    },
    {
      "cell_type": "markdown",
      "metadata": {
        "id": "Z5wJinZPWsdL",
        "colab_type": "text"
      },
      "source": [
        "## 1. Importing Needed Packages"
      ]
    },
    {
      "cell_type": "code",
      "metadata": {
        "id": "3qbXYOlcWqdy",
        "colab_type": "code",
        "outputId": "c1ee5cbc-16cb-4af7-ff6f-c9fb66545c73",
        "colab": {
          "base_uri": "https://localhost:8080/",
          "height": 34
        }
      },
      "source": [
        "import matplotlib.pyplot as plt\n",
        "import pandas as pd\n",
        "import pylab as pl\n",
        "import numpy as np\n",
        "import seaborn as sns\n",
        "%matplotlib inline\n",
        "print('imports all done')"
      ],
      "execution_count": 0,
      "outputs": [
        {
          "output_type": "stream",
          "text": [
            "imports all done\n"
          ],
          "name": "stdout"
        }
      ]
    },
    {
      "cell_type": "markdown",
      "metadata": {
        "id": "La7bJMt6Ze0Z",
        "colab_type": "text"
      },
      "source": [
        "## 2. Let's mount gdrive in Colab."
      ]
    },
    {
      "cell_type": "code",
      "metadata": {
        "id": "VRdyLwQzZmMV",
        "colab_type": "code",
        "outputId": "f5e4e352-c63c-48e6-c90a-59d4f8061078",
        "colab": {
          "base_uri": "https://localhost:8080/",
          "height": 121
        }
      },
      "source": [
        "from google.colab import drive\n",
        "drive.mount('/content/gdrive')"
      ],
      "execution_count": 0,
      "outputs": [
        {
          "output_type": "stream",
          "text": [
            "Go to this URL in a browser: https://accounts.google.com/o/oauth2/auth?client_id=947318989803-6bn6qk8qdgf4n4g3pfee6491hc0brc4i.apps.googleusercontent.com&redirect_uri=urn%3Aietf%3Awg%3Aoauth%3A2.0%3Aoob&scope=email%20https%3A%2F%2Fwww.googleapis.com%2Fauth%2Fdocs.test%20https%3A%2F%2Fwww.googleapis.com%2Fauth%2Fdrive%20https%3A%2F%2Fwww.googleapis.com%2Fauth%2Fdrive.photos.readonly%20https%3A%2F%2Fwww.googleapis.com%2Fauth%2Fpeopleapi.readonly&response_type=code\n",
            "\n",
            "Enter your authorization code:\n",
            "··········\n",
            "Mounted at /content/gdrive\n"
          ],
          "name": "stdout"
        }
      ]
    },
    {
      "cell_type": "markdown",
      "metadata": {
        "id": "P8HEfbGefZpP",
        "colab_type": "text"
      },
      "source": [
        "## 3. Let's load the data set as a file and read in pandas Data frame... We can see the first 5 rows printed out."
      ]
    },
    {
      "cell_type": "code",
      "metadata": {
        "id": "XM1gp4QwcDPG",
        "colab_type": "code",
        "outputId": "283613d9-f04a-4efa-a3eb-0fed9d2ad1f6",
        "colab": {
          "base_uri": "https://localhost:8080/",
          "height": 215
        }
      },
      "source": [
        "file = ''\n",
        "with open('/content/gdrive/My Drive/Colab_Notebooks/IBM_cognitive_class_learning/Original_2000_2014_Fuel_Consumption_Ratings.csv') as f:\n",
        "    file = f.read()\n",
        "    \n",
        "import sys\n",
        "if sys.version_info[0] < 3: \n",
        "    from StringIO import StringIO\n",
        "else:\n",
        "    from io import StringIO\n",
        "\n",
        "Data = StringIO(file)\n",
        "\n",
        "fuel_consumption_df = pd.read_csv(Data, sep=\",\")\n",
        "\n",
        "fuel_consumption_df.head()"
      ],
      "execution_count": 0,
      "outputs": [
        {
          "output_type": "execute_result",
          "data": {
            "text/html": [
              "<div>\n",
              "<style scoped>\n",
              "    .dataframe tbody tr th:only-of-type {\n",
              "        vertical-align: middle;\n",
              "    }\n",
              "\n",
              "    .dataframe tbody tr th {\n",
              "        vertical-align: top;\n",
              "    }\n",
              "\n",
              "    .dataframe thead th {\n",
              "        text-align: right;\n",
              "    }\n",
              "</style>\n",
              "<table border=\"1\" class=\"dataframe\">\n",
              "  <thead>\n",
              "    <tr style=\"text-align: right;\">\n",
              "      <th></th>\n",
              "      <th>MODEL_YEAR</th>\n",
              "      <th>MAKE</th>\n",
              "      <th>MODEL</th>\n",
              "      <th>VEHICLE_CLASS</th>\n",
              "      <th>ENGINE_SIZE(L)</th>\n",
              "      <th>CYLINDERS</th>\n",
              "      <th>TRANSMISSION</th>\n",
              "      <th>FUEL_TYPE</th>\n",
              "      <th>FUEL_CONSUMPTION_CITY(L/100km)</th>\n",
              "      <th>HWY_(L/100km)</th>\n",
              "      <th>COMB_(L/100km)</th>\n",
              "      <th>COMB_(mpg)</th>\n",
              "      <th>CO2_EMISSIONS(g/km)</th>\n",
              "    </tr>\n",
              "  </thead>\n",
              "  <tbody>\n",
              "    <tr>\n",
              "      <th>0</th>\n",
              "      <td>2000</td>\n",
              "      <td>ACURA</td>\n",
              "      <td>1.6EL</td>\n",
              "      <td>COMPACT</td>\n",
              "      <td>1.6</td>\n",
              "      <td>4</td>\n",
              "      <td>A4</td>\n",
              "      <td>X</td>\n",
              "      <td>9.2</td>\n",
              "      <td>6.7</td>\n",
              "      <td>8.1</td>\n",
              "      <td>35</td>\n",
              "      <td>186</td>\n",
              "    </tr>\n",
              "    <tr>\n",
              "      <th>1</th>\n",
              "      <td>2000</td>\n",
              "      <td>ACURA</td>\n",
              "      <td>1.6EL</td>\n",
              "      <td>COMPACT</td>\n",
              "      <td>1.6</td>\n",
              "      <td>4</td>\n",
              "      <td>M5</td>\n",
              "      <td>X</td>\n",
              "      <td>8.5</td>\n",
              "      <td>6.5</td>\n",
              "      <td>7.6</td>\n",
              "      <td>37</td>\n",
              "      <td>175</td>\n",
              "    </tr>\n",
              "    <tr>\n",
              "      <th>2</th>\n",
              "      <td>2000</td>\n",
              "      <td>ACURA</td>\n",
              "      <td>3.2TL</td>\n",
              "      <td>MID-SIZE</td>\n",
              "      <td>3.2</td>\n",
              "      <td>6</td>\n",
              "      <td>AS5</td>\n",
              "      <td>Z</td>\n",
              "      <td>12.2</td>\n",
              "      <td>7.4</td>\n",
              "      <td>10.0</td>\n",
              "      <td>28</td>\n",
              "      <td>230</td>\n",
              "    </tr>\n",
              "    <tr>\n",
              "      <th>3</th>\n",
              "      <td>2000</td>\n",
              "      <td>ACURA</td>\n",
              "      <td>3.5RL</td>\n",
              "      <td>MID-SIZE</td>\n",
              "      <td>3.5</td>\n",
              "      <td>6</td>\n",
              "      <td>A4</td>\n",
              "      <td>Z</td>\n",
              "      <td>13.4</td>\n",
              "      <td>9.2</td>\n",
              "      <td>11.5</td>\n",
              "      <td>25</td>\n",
              "      <td>264</td>\n",
              "    </tr>\n",
              "    <tr>\n",
              "      <th>4</th>\n",
              "      <td>2000</td>\n",
              "      <td>ACURA</td>\n",
              "      <td>INTEGRA</td>\n",
              "      <td>SUBCOMPACT</td>\n",
              "      <td>1.8</td>\n",
              "      <td>4</td>\n",
              "      <td>A4</td>\n",
              "      <td>X</td>\n",
              "      <td>10.0</td>\n",
              "      <td>7.0</td>\n",
              "      <td>8.6</td>\n",
              "      <td>33</td>\n",
              "      <td>198</td>\n",
              "    </tr>\n",
              "  </tbody>\n",
              "</table>\n",
              "</div>"
            ],
            "text/plain": [
              "   MODEL_YEAR   MAKE    MODEL  ... COMB_(L/100km)  COMB_(mpg)  CO2_EMISSIONS(g/km)\n",
              "0        2000  ACURA    1.6EL  ...            8.1          35                  186\n",
              "1        2000  ACURA    1.6EL  ...            7.6          37                  175\n",
              "2        2000  ACURA    3.2TL  ...           10.0          28                  230\n",
              "3        2000  ACURA    3.5RL  ...           11.5          25                  264\n",
              "4        2000  ACURA  INTEGRA  ...            8.6          33                  198\n",
              "\n",
              "[5 rows x 13 columns]"
            ]
          },
          "metadata": {
            "tags": []
          },
          "execution_count": 3
        }
      ]
    },
    {
      "cell_type": "markdown",
      "metadata": {
        "id": "_xNrHdGCjbIh",
        "colab_type": "text"
      },
      "source": [
        "### Let's rename a few column headers that seem too long"
      ]
    },
    {
      "cell_type": "code",
      "metadata": {
        "id": "nNvXDsyLji97",
        "colab_type": "code",
        "colab": {}
      },
      "source": [
        "fuel_consumption_df.rename(columns={'FUEL_CONSUMPTION_CITY(L/100km)': 'FUEL_CONS_CITY(L/100km)', 'CO2_EMISSIONS(g/km)':'CO2_EMISSIONS'}, inplace=True)"
      ],
      "execution_count": 0,
      "outputs": []
    },
    {
      "cell_type": "markdown",
      "metadata": {
        "id": "SlBH0m10eLTa",
        "colab_type": "text"
      },
      "source": [
        "## 4. Let's check the number of rows and cols"
      ]
    },
    {
      "cell_type": "code",
      "metadata": {
        "id": "dNCIKLAMdQHs",
        "colab_type": "code",
        "outputId": "adb4f279-5b63-44ec-fd51-801c96ce10eb",
        "colab": {
          "base_uri": "https://localhost:8080/",
          "height": 34
        }
      },
      "source": [
        "fuel_consumption_df.shape"
      ],
      "execution_count": 0,
      "outputs": [
        {
          "output_type": "execute_result",
          "data": {
            "text/plain": [
              "(14343, 13)"
            ]
          },
          "metadata": {
            "tags": []
          },
          "execution_count": 5
        }
      ]
    },
    {
      "cell_type": "markdown",
      "metadata": {
        "id": "Kge7ARmRgd2E",
        "colab_type": "text"
      },
      "source": [
        "## 5. Let's confirm our data set columns have the right data types"
      ]
    },
    {
      "cell_type": "code",
      "metadata": {
        "id": "st8phWoDgrxk",
        "colab_type": "code",
        "outputId": "dd6f8c3f-a0d6-4f2f-e025-cdd0e03fb06d",
        "colab": {
          "base_uri": "https://localhost:8080/",
          "height": 252
        }
      },
      "source": [
        "fuel_consumption_df.dtypes"
      ],
      "execution_count": 0,
      "outputs": [
        {
          "output_type": "execute_result",
          "data": {
            "text/plain": [
              "MODEL_YEAR                   int64\n",
              "MAKE                        object\n",
              "MODEL                       object\n",
              "VEHICLE_CLASS               object\n",
              "ENGINE_SIZE(L)             float64\n",
              "CYLINDERS                    int64\n",
              "TRANSMISSION                object\n",
              "FUEL_TYPE                   object\n",
              "FUEL_CONS_CITY(L/100km)    float64\n",
              "HWY_(L/100km)              float64\n",
              "COMB_(L/100km)             float64\n",
              "COMB_(mpg)                   int64\n",
              "CO2_EMISSIONS                int64\n",
              "dtype: object"
            ]
          },
          "metadata": {
            "tags": []
          },
          "execution_count": 44
        }
      ]
    },
    {
      "cell_type": "markdown",
      "metadata": {
        "id": "wsNU4qaZhj_3",
        "colab_type": "text"
      },
      "source": [
        "## 6. Let's check for NaN Values"
      ]
    },
    {
      "cell_type": "code",
      "metadata": {
        "id": "5I3Qb4ovF_iy",
        "colab_type": "code",
        "outputId": "533994a6-c0b5-4857-98cc-52f90660e7b0",
        "colab": {
          "base_uri": "https://localhost:8080/",
          "height": 252
        }
      },
      "source": [
        "fuel_consumption_df.isna().sum()"
      ],
      "execution_count": 0,
      "outputs": [
        {
          "output_type": "execute_result",
          "data": {
            "text/plain": [
              "MODEL_YEAR                 0\n",
              "MAKE                       0\n",
              "MODEL                      0\n",
              "VEHICLE_CLASS              0\n",
              "ENGINE_SIZE(L)             0\n",
              "CYLINDERS                  0\n",
              "TRANSMISSION               0\n",
              "FUEL_TYPE                  0\n",
              "FUEL_CONS_CITY(L/100km)    0\n",
              "HWY_(L/100km)              0\n",
              "COMB_(L/100km)             0\n",
              "COMB_(mpg)                 0\n",
              "CO2_EMISSIONS              0\n",
              "dtype: int64"
            ]
          },
          "metadata": {
            "tags": []
          },
          "execution_count": 7
        }
      ]
    },
    {
      "cell_type": "markdown",
      "metadata": {
        "id": "-20T4TzviPhC",
        "colab_type": "text"
      },
      "source": [
        "## 7. Let's plot the Correlation Using a Heat map from seaborn library"
      ]
    },
    {
      "cell_type": "code",
      "metadata": {
        "id": "uxZhMjSRiZHo",
        "colab_type": "code",
        "outputId": "ad885dbd-7250-4817-8c2f-7d764e56d8f1",
        "colab": {
          "base_uri": "https://localhost:8080/",
          "height": 407
        }
      },
      "source": [
        "corr_data = fuel_consumption_df.corr()\n",
        "\n",
        "plt.figure(figsize=(10,4))\n",
        "sns.set_style('ticks')\n",
        "sns.heatmap(corr_data, annot=True)\n",
        "plt.title('Correlation of variables in fuel_consumption_df Data set')\n",
        "plt.show()"
      ],
      "execution_count": 0,
      "outputs": [
        {
          "output_type": "display_data",
          "data": {
            "image/png": "[encoded data removed]",
            "text/plain": [
              "<Figure size 720x288 with 2 Axes>"
            ]
          },
          "metadata": {
            "tags": []
          }
        }
      ]
    },
    {
      "cell_type": "markdown",
      "metadata": {
        "id": "4OHyCCmMoVtj",
        "colab_type": "text"
      },
      "source": [
        "## Plotting 3 Scatter Plots of Top Correlated Variables"
      ]
    },
    {
      "cell_type": "code",
      "metadata": {
        "id": "ZosOnroVjTds",
        "colab_type": "code",
        "outputId": "8912dae2-c440-4733-dcb5-2a6f3ac0292a",
        "colab": {
          "base_uri": "https://localhost:8080/",
          "height": 396
        }
      },
      "source": [
        "fig = plt.figure(figsize=(20, 5))\n",
        "plt.suptitle('Scatter plots showing correlation between Top-Correlated-Variables and CO2_EMISSIONS', y=1.05, fontsize=16)\n",
        "\n",
        "ax = fig.add_subplot(131)\n",
        "ax1 = fig.add_subplot(132)\n",
        "ax2 = fig.add_subplot(133)\n",
        "\n",
        "# Subplot 1 scatter plot of ENGINE_SIZE and Co2_EMISSIONS\n",
        "fuel_consumption_df.plot(kind='scatter', x='ENGINE_SIZE(L)', y='CO2_EMISSIONS', color='red', ax=ax)\n",
        "ax.set_title('ENGINE_SIZE(L) and CO2_EMISSIONS')\n",
        "ax.set_xlabel('ENGINE_SIZE(L)')\n",
        "ax.set_ylabel('CO2_EMISSIONS')\n",
        "\n",
        "# Subplot 2 scatter plot of FUEL_CONS_CITY(L/100km) and Co2_EMISSIONS\n",
        "fuel_consumption_df.plot(kind='scatter', x='FUEL_CONS_CITY(L/100km)', y='CO2_EMISSIONS', color='navy', ax=ax1)\n",
        "ax1.set_title('FUEL_CONS_CITY(L/100km) and CO2_EMISSIONS')\n",
        "ax1.set_xlabel('FUEL_CONS_CITY(L/100km)')\n",
        "ax1.set_ylabel('CO2_EMISSIONS')\n",
        "\n",
        "# Subplot 3 scatter plot of COMB_(L/100km) and Co2_EMISSIONS\n",
        "fuel_consumption_df.plot(kind='scatter', x='COMB_(L/100km)', y='CO2_EMISSIONS', color='green', ax=ax2)\n",
        "ax2.set_title('COMB_(L/100km) and CO2_EMISSIONS')\n",
        "ax2.set_xlabel('COMB_(L/100km)')\n",
        "ax2.set_ylabel('CO2_EMISSIONS')\n",
        "\n",
        "plt.show()"
      ],
      "execution_count": 0,
      "outputs": [
        {
          "output_type": "display_data",
          "data": {
            "image/png": "[encoded data removed]",
            "text/plain": [
              "<Figure size 1440x360 with 3 Axes>"
            ]
          },
          "metadata": {
            "tags": []
          }
        }
      ]
    },
    {
      "cell_type": "markdown",
      "metadata": {
        "id": "QdcxGuzWoaZO",
        "colab_type": "text"
      },
      "source": [
        "## The Slope Formula for Simple Linear Regression"
      ]
    },
    {
      "cell_type": "markdown",
      "metadata": {
        "id": "BTMKrYf3of8l",
        "colab_type": "text"
      },
      "source": [
        "#<font color='khaki'>$b_1$ = $\\frac{Σ^n_{i=1}(x_i-\\:\\bar{x}) (y_i-\\:\\bar{y})}{Σ^n_{i=1}\\:{(x_i-\\:\\bar{x})}^2 }$</font>"
      ]
    },
    {
      "cell_type": "markdown",
      "metadata": {
        "id": "gvTxZ9n6o_GI",
        "colab_type": "text"
      },
      "source": [
        "## let's define our $x, x_{bar}, y\\:$and $\\:y_{bar}$ variables"
      ]
    },
    {
      "cell_type": "code",
      "metadata": {
        "id": "knnGPqT4oe8o",
        "colab_type": "code",
        "colab": {}
      },
      "source": [
        "# The predictor or independent variable x is Engine_Size\n",
        "x = fuel_consumption_df['ENGINE_SIZE(L)']\n",
        "\n",
        "# The mean or average of x is x_bar\n",
        "x_bar = x.mean()\n",
        "\n",
        "# The target or dependent variable y is Co2_Emissions\n",
        "y = fuel_consumption_df['CO2_EMISSIONS']\n",
        "\n",
        "# The mean or average of y is y_bar\n",
        "y_bar = y.mean()\n"
      ],
      "execution_count": 0,
      "outputs": []
    },
    {
      "cell_type": "code",
      "metadata": {
        "id": "WW730oLpqxaV",
        "colab_type": "code",
        "outputId": "af790f6a-d777-4bb0-de87-792540d93a15",
        "colab": {
          "base_uri": "https://localhost:8080/",
          "height": 50
        }
      },
      "source": [
        "print('x_bar or average of x is',x_bar,'\\ny_bar or average of y is',y_bar)\n"
      ],
      "execution_count": 0,
      "outputs": [
        {
          "output_type": "stream",
          "text": [
            "x_bar or average of x is 3.4743080248204476 \n",
            "y_bar or average of y is 248.53078156592065\n"
          ],
          "name": "stdout"
        }
      ]
    },
    {
      "cell_type": "markdown",
      "metadata": {
        "id": "wAxBxIydrLZN",
        "colab_type": "text"
      },
      "source": [
        "## Let's define a simple method that calculates b1 or slope."
      ]
    },
    {
      "cell_type": "code",
      "metadata": {
        "id": "IyUdJQa8rXpE",
        "colab_type": "code",
        "colab": {}
      },
      "source": [
        "def calc_slope(feature, target, x_bar, y_bar):\n",
        "    \"\"\" takes two series objects- feature and target and their averages x_bar and y_bar\n",
        "    performs the slope equation on each combine variables of feature and target,\n",
        "    then finally returns a floating point number as theta one or b_one,\n",
        "    Which is also known as the gradient or slope of the linear regression\"\"\"\n",
        "\n",
        "    numerator = 0\n",
        "    denominator = 0\n",
        "    for i, j in zip(feature, target):\n",
        "        numerator+= (i - x_bar) * (j - y_bar)\n",
        "        denominator+= (i - x_bar)**2\n",
        "    return round((numerator / denominator),8)\n"
      ],
      "execution_count": 0,
      "outputs": []
    },
    {
      "cell_type": "code",
      "metadata": {
        "id": "hZ2QKXopuXDh",
        "colab_type": "code",
        "outputId": "a9815b05-8454-4308-83b6-b4dc95f53e26",
        "colab": {
          "base_uri": "https://localhost:8080/",
          "height": 34
        }
      },
      "source": [
        "b1 = calc_slope(x, y, x_bar, y_bar)\n",
        "b1"
      ],
      "execution_count": 0,
      "outputs": [
        {
          "output_type": "execute_result",
          "data": {
            "text/plain": [
              "37.28016592"
            ]
          },
          "metadata": {
            "tags": []
          },
          "execution_count": 13
        }
      ]
    },
    {
      "cell_type": "markdown",
      "metadata": {
        "id": "-wAc006zumob",
        "colab_type": "text"
      },
      "source": [
        "## Let's substitute value of b1 into the SLR equation:-  y =b0 + bixi, inorder to find b0."
      ]
    },
    {
      "cell_type": "markdown",
      "metadata": {
        "id": "g2aSoY6ovFrN",
        "colab_type": "text"
      },
      "source": [
        "Remember that this SLR equation (y = b0 + bixi) is identical to the slope intercept equation (y = b + mx). <br>Therefore we can use any given value of y and x that we know and substitute the slope (b1) into the equation, to get the y_intercept or b0\n",
        "\n",
        "### Let's use the average value of y as our y value and average value of x as our x value for the equation\n",
        "\n",
        "<h2>\n",
        "$y = b0 + b1x1$<br>\n",
        "Therefore:<br>\n",
        "$y_{bar} = b0 + b1x_{bar}$<br>\n",
        "\n",
        "Let's solve for $b0$<br>\n",
        "\n",
        "Therefore:<br>\n",
        "$b0 + b1x_{bar} = y_{bar}$<br>\n",
        "\n",
        "Which is same as:<br>\n",
        "$b0 = y_{bar} - b1x_{bar}$</h2>\n",
        "\n",
        "### Let's input the values of <h2>$y_{bar},b1\\:and\\:x_{bar}$</h2> to get the value of </h2>$b0$"
      ]
    },
    {
      "cell_type": "markdown",
      "metadata": {
        "id": "EesrhsMmBsj6",
        "colab_type": "text"
      },
      "source": [
        "## Solving for $b0$ by substituting $b1$ in the equation. given $x_{bar}\\:and\\:y_{bar}$"
      ]
    },
    {
      "cell_type": "code",
      "metadata": {
        "id": "pRyI2jysu_28",
        "colab_type": "code",
        "outputId": "761f31f1-4d07-4cf5-e3e8-09e541ce896c",
        "colab": {
          "base_uri": "https://localhost:8080/",
          "height": 34
        }
      },
      "source": [
        "b0 = y_bar - (b1 * x_bar)\n",
        "\n",
        "# Lets round b0 to 8 D.P as is the corm\n",
        "b0 = round(b0, 8)\n",
        "\n",
        "b0"
      ],
      "execution_count": 0,
      "outputs": [
        {
          "output_type": "execute_result",
          "data": {
            "text/plain": [
              "119.00800194"
            ]
          },
          "metadata": {
            "tags": []
          },
          "execution_count": 14
        }
      ]
    },
    {
      "cell_type": "markdown",
      "metadata": {
        "id": "srN7Jb0wyp7w",
        "colab_type": "text"
      },
      "source": [
        "## Therefore our ideal values of b0 and b1 for the best SLR model are:\n",
        "\n",
        "### $b0$ = 119.00800194\n",
        "\n",
        "### $b1$ = 37.28016592\n",
        "\n",
        "\n",
        "### Remember a model is a mathematical equation used to Predict a value, given one or more other values.\n",
        "### This means the Simple Linear Regression model for Engine_Size and Co2_Emissions is:-<br>\n",
        "\n",
        "##$y = b0 + bixi$\n",
        "\n",
        "###which we can write as the following, by substituting values for our model\n",
        "\n",
        "##<font color='khaki'>$y_{hat} = 119.00800194 + (37.28016592)x1$</font>\n"
      ]
    },
    {
      "cell_type": "markdown",
      "metadata": {
        "id": "xdQaztLB4JAU",
        "colab_type": "text"
      },
      "source": [
        "<h3>So if we want to predict the Co2_Emission of a car with engine size 13.5 Litres for example<br>\n",
        "All we need to do is plug in 13.5 as value for $x1$ in our SLR equation."
      ]
    },
    {
      "cell_type": "code",
      "metadata": {
        "id": "GpwP97kO8Tvu",
        "colab_type": "code",
        "outputId": "a5fbf3c0-fee4-469e-b04f-e7b9939b2b64",
        "colab": {
          "base_uri": "https://localhost:8080/",
          "height": 34
        }
      },
      "source": [
        "co2_13_point_5_litre_engine = round(b0 + (b1*13.5))  # rounding the prediction to a whole number like in the data set\n",
        "\n",
        "co2_13_point_5_litre_engine"
      ],
      "execution_count": 0,
      "outputs": [
        {
          "output_type": "execute_result",
          "data": {
            "text/plain": [
              "622"
            ]
          },
          "metadata": {
            "tags": []
          },
          "execution_count": 15
        }
      ]
    },
    {
      "cell_type": "markdown",
      "metadata": {
        "id": "ajAZ96cSzsPU",
        "colab_type": "text"
      },
      "source": [
        "## let's plot our line or best fit, aka our SLR model below"
      ]
    },
    {
      "cell_type": "code",
      "metadata": {
        "id": "S2Ar974J0EZl",
        "colab_type": "code",
        "outputId": "e9609068-5eb5-47bb-d9ed-06b7f48744ec",
        "colab": {
          "base_uri": "https://localhost:8080/",
          "height": 410
        }
      },
      "source": [
        "plt.figure(figsize=(10,6))\n",
        "\n",
        "plt.scatter(x, y,  color='skyblue')\n",
        "plt.plot(x, b1*x + b0, '-r', linewidth=3)\n",
        "plt.annotate(\"y_hat = {} + {}x\".format(round(b0), round(b1)), xy=(6.9,415),rotation=20, fontsize=12)\n",
        "plt.title('S.L.R Model using Engine-Size to Predict Co2-Emssions', fontsize=16)\n",
        "plt.xlabel(\"Engine size\", fontsize=14)\n",
        "plt.ylabel(\"Emission\", fontsize=14)\n",
        "plt.show()"
      ],
      "execution_count": 0,
      "outputs": [
        {
          "output_type": "display_data",
          "data": {
            "image/png": "[encoded data removed]",
            "text/plain": [
              "<Figure size 720x432 with 1 Axes>"
            ]
          },
          "metadata": {
            "tags": []
          }
        }
      ]
    },
    {
      "cell_type": "markdown",
      "metadata": {
        "id": "eZp98qNZrcmP",
        "colab_type": "text"
      },
      "source": [
        "### Let's make a prediction with our Mathematics Model"
      ]
    },
    {
      "cell_type": "code",
      "metadata": {
        "id": "CWEHAvx236ly",
        "colab_type": "code",
        "outputId": "6d915f4e-2170-4734-c0cf-3fe0fa919937",
        "colab": {
          "base_uri": "https://localhost:8080/",
          "height": 118
        }
      },
      "source": [
        "y_hat = round(x * b1 + b0)  # substituting the values of b0 and b1 to perform Model prediction\n",
        "\n",
        "y_hat[:5]"
      ],
      "execution_count": 0,
      "outputs": [
        {
          "output_type": "execute_result",
          "data": {
            "text/plain": [
              "0    179.0\n",
              "1    179.0\n",
              "2    238.0\n",
              "3    249.0\n",
              "4    186.0\n",
              "Name: ENGINE_SIZE(L), dtype: float64"
            ]
          },
          "metadata": {
            "tags": []
          },
          "execution_count": 17
        }
      ]
    },
    {
      "cell_type": "markdown",
      "metadata": {
        "id": "sbhV28Q8rwBm",
        "colab_type": "text"
      },
      "source": [
        "### Let's define a simple method that can calculate The MSE of our model"
      ]
    },
    {
      "cell_type": "code",
      "metadata": {
        "id": "M7_YxlumstkK",
        "colab_type": "code",
        "colab": {}
      },
      "source": [
        "def calc_MSE(y_hat, y):\n",
        "    \"\"\" takes two series objects- y_hat and y and computes the sum of\n",
        "    squared differences between each corresponding value of y_hat and y,\n",
        "    and divides this sum by total number of observations in y.\"\"\"\n",
        "\n",
        "    numerator = 0\n",
        "    denominator = len(y)\n",
        "    for i, j in zip(y_hat, y):\n",
        "        numerator+= (i - j)**2\n",
        "    return (numerator / denominator)"
      ],
      "execution_count": 0,
      "outputs": []
    },
    {
      "cell_type": "markdown",
      "metadata": {
        "id": "L13nporNr6Hw",
        "colab_type": "text"
      },
      "source": [
        "### let's compute the MSE"
      ]
    },
    {
      "cell_type": "code",
      "metadata": {
        "id": "tPNb5rGpKUXd",
        "colab_type": "code",
        "outputId": "095ab45c-5ba3-426e-c282-41dcfadb47ca",
        "colab": {
          "base_uri": "https://localhost:8080/",
          "height": 34
        }
      },
      "source": [
        "MSE = calc_MSE(y_hat, y)\n",
        "MSE"
      ],
      "execution_count": 0,
      "outputs": [
        {
          "output_type": "execute_result",
          "data": {
            "text/plain": [
              "1110.043854144879"
            ]
          },
          "metadata": {
            "tags": []
          },
          "execution_count": 19
        }
      ]
    },
    {
      "cell_type": "markdown",
      "metadata": {
        "id": "uD5NvrIGr_hK",
        "colab_type": "text"
      },
      "source": [
        "### Let's also compute the RMSE which is the square root of The MSE"
      ]
    },
    {
      "cell_type": "code",
      "metadata": {
        "id": "NlsEcO7rKkwQ",
        "colab_type": "code",
        "outputId": "b725aaf7-9e83-46c7-9a59-ff67bde0a18b",
        "colab": {
          "base_uri": "https://localhost:8080/",
          "height": 34
        }
      },
      "source": [
        "RMSE = MSE**0.5\n",
        "RMSE"
      ],
      "execution_count": 0,
      "outputs": [
        {
          "output_type": "execute_result",
          "data": {
            "text/plain": [
              "33.31732063274115"
            ]
          },
          "metadata": {
            "tags": []
          },
          "execution_count": 20
        }
      ]
    },
    {
      "cell_type": "markdown",
      "metadata": {
        "id": "z5ydmtfKLVnn",
        "colab_type": "text"
      },
      "source": [
        "## Using Scikit Learn library to verify the values of $b1, b0$ and  MSE "
      ]
    },
    {
      "cell_type": "markdown",
      "metadata": {
        "id": "qyVVuHrzMlJA",
        "colab_type": "text"
      },
      "source": [
        "### first we import linearRegresion from sklearn linear_model"
      ]
    },
    {
      "cell_type": "code",
      "metadata": {
        "id": "GdS33Yj7L9R2",
        "colab_type": "code",
        "colab": {}
      },
      "source": [
        "# first we import Linear regression model from sklearn\n",
        "\n",
        "from sklearn.linear_model import LinearRegression\n",
        "from sklearn.metrics import mean_squared_error"
      ],
      "execution_count": 0,
      "outputs": []
    },
    {
      "cell_type": "markdown",
      "metadata": {
        "id": "abqZ8ajjMvAw",
        "colab_type": "text"
      },
      "source": [
        "### Next we instantiate a linear regression model using the constructor"
      ]
    },
    {
      "cell_type": "code",
      "metadata": {
        "id": "tkt4KkpHMbYU",
        "colab_type": "code",
        "colab": {}
      },
      "source": [
        "model = LinearRegression()"
      ],
      "execution_count": 0,
      "outputs": []
    },
    {
      "cell_type": "markdown",
      "metadata": {
        "id": "vy7RZedOM_AM",
        "colab_type": "text"
      },
      "source": [
        "### next we  define the feature and target variables, converting $x$ and $y$ into a 2D array"
      ]
    },
    {
      "cell_type": "code",
      "metadata": {
        "id": "yVcZ-f1yNEZX",
        "colab_type": "code",
        "colab": {}
      },
      "source": [
        "X = fuel_consumption_df[['ENGINE_SIZE(L)']].values\n",
        "\n",
        "Y = fuel_consumption_df[['CO2_EMISSIONS']].values"
      ],
      "execution_count": 0,
      "outputs": []
    },
    {
      "cell_type": "markdown",
      "metadata": {
        "id": "GrLoy0GqQLL6",
        "colab_type": "text"
      },
      "source": [
        "### Next we train the model using the fit function"
      ]
    },
    {
      "cell_type": "code",
      "metadata": {
        "id": "b-5LRBK4NsaQ",
        "colab_type": "code",
        "outputId": "72224cf9-2d6e-41ac-c4d1-d2c467165e1c",
        "colab": {
          "base_uri": "https://localhost:8080/",
          "height": 50
        }
      },
      "source": [
        "model.fit(X,Y)"
      ],
      "execution_count": 0,
      "outputs": [
        {
          "output_type": "execute_result",
          "data": {
            "text/plain": [
              "LinearRegression(copy_X=True, fit_intercept=True, n_jobs=None,\n",
              "         normalize=False)"
            ]
          },
          "metadata": {
            "tags": []
          },
          "execution_count": 24
        }
      ]
    },
    {
      "cell_type": "markdown",
      "metadata": {
        "id": "VTMcRToyQWlZ",
        "colab_type": "text"
      },
      "source": [
        "### Let's print out the $b0\\:and\\:b1$ values from our model"
      ]
    },
    {
      "cell_type": "code",
      "metadata": {
        "id": "6xrdToyCQVf3",
        "colab_type": "code",
        "outputId": "552a933e-be31-4518-d968-72df1782d98a",
        "colab": {
          "base_uri": "https://localhost:8080/",
          "height": 34
        }
      },
      "source": [
        "slope = model.coef_\n",
        "\n",
        "slope"
      ],
      "execution_count": 0,
      "outputs": [
        {
          "output_type": "execute_result",
          "data": {
            "text/plain": [
              "array([[37.28016592]])"
            ]
          },
          "metadata": {
            "tags": []
          },
          "execution_count": 25
        }
      ]
    },
    {
      "cell_type": "code",
      "metadata": {
        "id": "97llMkS7TD81",
        "colab_type": "code",
        "outputId": "f256fec6-522a-4743-ca29-a44d743cb345",
        "colab": {
          "base_uri": "https://localhost:8080/",
          "height": 34
        }
      },
      "source": [
        "intercept = model.intercept_\n",
        "\n",
        "intercept"
      ],
      "execution_count": 0,
      "outputs": [
        {
          "output_type": "execute_result",
          "data": {
            "text/plain": [
              "array([119.00800194])"
            ]
          },
          "metadata": {
            "tags": []
          },
          "execution_count": 26
        }
      ]
    },
    {
      "cell_type": "markdown",
      "metadata": {
        "id": "wI-SgqCBsuV0",
        "colab_type": "text"
      },
      "source": [
        "### we can see that The Maths Model and Sklearn Model have the exact same value for b0 and b1"
      ]
    },
    {
      "cell_type": "code",
      "metadata": {
        "id": "mrNKaUzrS-ib",
        "colab_type": "code",
        "outputId": "1b68f5b8-3989-407f-ee4f-02e070d00d75",
        "colab": {
          "base_uri": "https://localhost:8080/",
          "height": 84
        }
      },
      "source": [
        "print('The Mathematical Slope is:', b1)\n",
        "print('The Scikit Learn Slope is:', slope)\n",
        "print('The Mathematical Intercept is:', b0)\n",
        "print('The Scikit Learn Intercept is:', intercept)\n",
        "\n"
      ],
      "execution_count": 0,
      "outputs": [
        {
          "output_type": "stream",
          "text": [
            "The Mathematical Slope is: 37.28016592\n",
            "The Scikit Learn Slope is: [[37.28016592]]\n",
            "The Mathematical Intercept is: 119.00800194\n",
            "The Scikit Learn Intercept is: [119.00800194]\n"
          ],
          "name": "stdout"
        }
      ]
    },
    {
      "cell_type": "markdown",
      "metadata": {
        "id": "9dKC6a0HU0Cd",
        "colab_type": "text"
      },
      "source": [
        "### let's use our Sklearn model to once again predict a car's Co2 Emission with engine size 13.5 litres"
      ]
    },
    {
      "cell_type": "code",
      "metadata": {
        "id": "nvPQrze1VOfF",
        "colab_type": "code",
        "colab": {}
      },
      "source": [
        "new_car_engine = [[13.5]]"
      ],
      "execution_count": 0,
      "outputs": []
    },
    {
      "cell_type": "code",
      "metadata": {
        "id": "n4OaV6JtVRd6",
        "colab_type": "code",
        "outputId": "ecd36121-8ea2-4fd5-e187-4bfdf39b2177",
        "colab": {
          "base_uri": "https://localhost:8080/",
          "height": 34
        }
      },
      "source": [
        "new_car_co2 = np.round(model.predict(new_car_engine))\n",
        "\n",
        "new_car_co2"
      ],
      "execution_count": 0,
      "outputs": [
        {
          "output_type": "execute_result",
          "data": {
            "text/plain": [
              "array([[622.]])"
            ]
          },
          "metadata": {
            "tags": []
          },
          "execution_count": 29
        }
      ]
    },
    {
      "cell_type": "markdown",
      "metadata": {
        "id": "sg9ggyFFtACy",
        "colab_type": "text"
      },
      "source": [
        "### Let's predict the dependent variable X, with the new Model"
      ]
    },
    {
      "cell_type": "code",
      "metadata": {
        "id": "HhQNn-kyV82G",
        "colab_type": "code",
        "colab": {}
      },
      "source": [
        "predict = model.predict(X)"
      ],
      "execution_count": 0,
      "outputs": []
    },
    {
      "cell_type": "markdown",
      "metadata": {
        "id": "ItCCNhF0tdnv",
        "colab_type": "text"
      },
      "source": [
        "### Let's find The MSE and RMSE of The new Model"
      ]
    },
    {
      "cell_type": "code",
      "metadata": {
        "id": "UV9z7n2gTUJV",
        "colab_type": "code",
        "outputId": "ac8cde47-1728-46be-961f-032762cd68b6",
        "colab": {
          "base_uri": "https://localhost:8080/",
          "height": 34
        }
      },
      "source": [
        "model_MSE = mean_squared_error(predict, Y)\n",
        "\n",
        "model_MSE"
      ],
      "execution_count": 0,
      "outputs": [
        {
          "output_type": "execute_result",
          "data": {
            "text/plain": [
              "1109.707317631954"
            ]
          },
          "metadata": {
            "tags": []
          },
          "execution_count": 31
        }
      ]
    },
    {
      "cell_type": "code",
      "metadata": {
        "id": "ibNzDmIoWNHI",
        "colab_type": "code",
        "outputId": "39e7e30b-40b0-4238-e290-9163e33d13e8",
        "colab": {
          "base_uri": "https://localhost:8080/",
          "height": 34
        }
      },
      "source": [
        "model_RMSE = model_MSE**0.5\n",
        "\n",
        "model_RMSE"
      ],
      "execution_count": 0,
      "outputs": [
        {
          "output_type": "execute_result",
          "data": {
            "text/plain": [
              "33.312269776044296"
            ]
          },
          "metadata": {
            "tags": []
          },
          "execution_count": 32
        }
      ]
    },
    {
      "cell_type": "markdown",
      "metadata": {
        "id": "YD5A5rcntMPe",
        "colab_type": "text"
      },
      "source": [
        "### onece again both models have the same MSE and RMSE"
      ]
    },
    {
      "cell_type": "code",
      "metadata": {
        "id": "uZaDjrOwYWdh",
        "colab_type": "code",
        "outputId": "78099873-32f6-4413-f437-49634a1a5c8d",
        "colab": {
          "base_uri": "https://localhost:8080/",
          "height": 84
        }
      },
      "source": [
        "print('The Mathematical MSE is:', round(MSE))\n",
        "print('The Scikit Learn MSE is:', np.round(model_MSE))\n",
        "print('The Mathematical RMSE is:', round(RMSE))\n",
        "print('The Scikit Learn RMSE is:', np.round(model_RMSE))\n",
        "\n"
      ],
      "execution_count": 0,
      "outputs": [
        {
          "output_type": "stream",
          "text": [
            "The Mathematical MSE is: 1110\n",
            "The Scikit Learn MSE is: 1110.0\n",
            "The Mathematical RMSE is: 33\n",
            "The Scikit Learn RMSE is: 33.0\n"
          ],
          "name": "stdout"
        }
      ]
    },
    {
      "cell_type": "markdown",
      "metadata": {
        "id": "VS4yQGq52Lcv",
        "colab_type": "text"
      },
      "source": [
        "## let's plot our line or best fit, aka our SLR models for both Maths and Sklearn Library"
      ]
    },
    {
      "cell_type": "code",
      "metadata": {
        "id": "WZHcLSk3tvO-",
        "colab_type": "code",
        "outputId": "e2b1f73b-6fda-4f64-8fd6-ee3ede2b21d7",
        "colab": {
          "base_uri": "https://localhost:8080/",
          "height": 398
        }
      },
      "source": [
        "fig = plt.figure(figsize=(20, 5))\n",
        "plt.suptitle('Regplots showing SLR models using Maths and Sklearn Library', y=1.05, fontsize=18)\n",
        "\n",
        "ax = fig.add_subplot(121)\n",
        "ax1 = fig.add_subplot(122)\n",
        "\n",
        "# Subplot 1 scatter plot of ENGINE_SIZE and Co2_EMISSIONS\n",
        "ax.scatter(x= x, y=y, color='gold', data=fuel_consumption_df)\n",
        "ax.plot(x, b1*x + b0, '-r', linewidth=3, color='red')\n",
        "ax.annotate(\"y_hat = {} + {}x\".format(round(b0), round(b1)), xy=(6.9,420),rotation=19, fontsize=12)\n",
        "ax.set_title('SLR model using Maths', fontsize=14)\n",
        "ax.set_xlabel('ENGINE_SIZE(L)', fontsize=12)\n",
        "ax.set_ylabel('CO2_EMISSIONS', fontsize=12)\n",
        "\n",
        "# Subplot 2 scatter plot of FUEL_CONS_CITY(L/100km) and Co2_EMISSIONS\n",
        "ax1.scatter(x= x, y=y, color='skyblue', data=fuel_consumption_df)\n",
        "ax1.plot(x, slope[0]*x + intercept, '-r', linewidth=3, color='red')\n",
        "ax1.annotate(\"y_hat = {} + {}x\".format(np.round(intercept), np.round(slope)), xy=(6.77,440),rotation=19, fontsize=12)\n",
        "ax1.set_title('SLR model using Sklearn Library', fontsize=14)\n",
        "ax1.set_xlabel('ENGINE_SIZE(L)', fontsize=12)\n",
        "ax1.set_ylabel('CO2_EMISSIONS', fontsize=12)\n",
        "\n",
        "plt.show()"
      ],
      "execution_count": 0,
      "outputs": [
        {
          "output_type": "display_data",
          "data": {
            "image/png": "[encoded data removed]",
            "text/plain": [
              "<Figure size 1440x360 with 2 Axes>"
            ]
          },
          "metadata": {
            "tags": []
          }
        }
      ]
    },
    {
      "cell_type": "markdown",
      "metadata": {
        "id": "eyw4TTbUV4w5",
        "colab_type": "text"
      },
      "source": [
        "## Determining the implication of the RMSE "
      ]
    },
    {
      "cell_type": "markdown",
      "metadata": {
        "id": "3VKMlLKHWs9R",
        "colab_type": "text"
      },
      "source": [
        "###  First we find the range of the dependent variable(C02_Emissions)"
      ]
    },
    {
      "cell_type": "code",
      "metadata": {
        "id": "TGeDsf6jV2Gp",
        "colab_type": "code",
        "outputId": "20d0de64-e1b8-4187-8771-96b110e73e77",
        "colab": {
          "base_uri": "https://localhost:8080/",
          "height": 34
        }
      },
      "source": [
        "\n",
        "y_range = fuel_consumption_df['CO2_EMISSIONS'].max() - fuel_consumption_df['CO2_EMISSIONS'].min() \n",
        "\n",
        "y_range\n"
      ],
      "execution_count": 0,
      "outputs": [
        {
          "output_type": "execute_result",
          "data": {
            "text/plain": [
              "487"
            ]
          },
          "metadata": {
            "tags": []
          },
          "execution_count": 35
        }
      ]
    },
    {
      "cell_type": "markdown",
      "metadata": {
        "id": "6328-rOtWz5q",
        "colab_type": "text"
      },
      "source": [
        "### Next we compute RMSE as a percentage of the range"
      ]
    },
    {
      "cell_type": "code",
      "metadata": {
        "id": "UNuYcjywXAoQ",
        "colab_type": "code",
        "outputId": "17703699-6b85-44e3-f3d1-d48fe0efd504",
        "colab": {
          "base_uri": "https://localhost:8080/",
          "height": 34
        }
      },
      "source": [
        "error_margin = (RMSE / y_range) * 100\n",
        "\n",
        "error_margin\n"
      ],
      "execution_count": 0,
      "outputs": [
        {
          "output_type": "execute_result",
          "data": {
            "text/plain": [
              "6.841338938961222"
            ]
          },
          "metadata": {
            "tags": []
          },
          "execution_count": 37
        }
      ]
    },
    {
      "cell_type": "markdown",
      "metadata": {
        "id": "JG1CRGO2t4OB",
        "colab_type": "text"
      },
      "source": [
        "<h3>Therefore, with an RMSE of 33, our model error margin is just within 6.84% of the range(487) of the dependent variable(CO2_Emissions)… <br>\n",
        "    Which means our SLR Model as simple as it is, is doing pretty good."
      ]
    },
    {
      "cell_type": "markdown",
      "metadata": {
        "id": "hGboAMDGXLvl",
        "colab_type": "text"
      },
      "source": [
        "### Let's see how confident our model is on each prediction"
      ]
    },
    {
      "cell_type": "code",
      "metadata": {
        "id": "jNCdKeaYuDb7",
        "colab_type": "code",
        "outputId": "0e86a719-07e1-4dda-8b97-17b365f77426",
        "colab": {
          "base_uri": "https://localhost:8080/",
          "height": 34
        }
      },
      "source": [
        "from sklearn.metrics import r2_score\n",
        "\n",
        "r2_score(Y, predict)"
      ],
      "execution_count": 0,
      "outputs": [
        {
          "output_type": "execute_result",
          "data": {
            "text/plain": [
              "0.682739618739501"
            ]
          },
          "metadata": {
            "tags": []
          },
          "execution_count": 43
        }
      ]
    }
  ]
}