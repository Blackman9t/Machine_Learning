{
  "nbformat": 4,
  "nbformat_minor": 0,
  "metadata": {
    "colab": {
      "name": "coefficients_of_multiple_linear_regression.ipynb",
      "version": "0.3.2",
      "provenance": [],
      "collapsed_sections": [],
      "include_colab_link": true
    },
    "kernelspec": {
      "name": "python3",
      "display_name": "Python 3"
    }
  },
  "cells": [
    {
      "cell_type": "markdown",
      "metadata": {
        "id": "view-in-github",
        "colab_type": "text"
      },
      "source": [
        "<a href=\"https://colab.research.google.com/github/Blackman9t/Machine_Learning/blob/master/coefficients_of_multiple_linear_regression.ipynb\" target=\"_parent\"><img src=\"https://colab.research.google.com/assets/colab-badge.svg\" alt=\"Open In Colab\"/></a>"
      ]
    },
    {
      "cell_type": "markdown",
      "metadata": {
        "id": "lghukHiPLn4E",
        "colab_type": "text"
      },
      "source": [
        "### <font color='khaki'>Getting to understand Multiple Linear Regression better by walking through it's internal workings and computation.\n",
        "\n",
        "[stattrek.com](https://stattrek.com/multiple-regression/regression-coefficients.aspx?Tutorial=reg)"
      ]
    },
    {
      "cell_type": "code",
      "metadata": {
        "id": "QsSWslxGGGxn",
        "colab_type": "code",
        "colab": {}
      },
      "source": [
        "import numpy as np\n",
        "import pandas as pd\n",
        "import matplotlib.pyplot as plt\n",
        "import seaborn as sns"
      ],
      "execution_count": 0,
      "outputs": []
    },
    {
      "cell_type": "markdown",
      "metadata": {
        "id": "B-Eo1ihpHJ8O",
        "colab_type": "text"
      },
      "source": [
        "## Defining the scores table  like on the website"
      ]
    },
    {
      "cell_type": "code",
      "metadata": {
        "id": "9PsvB8kOFRBB",
        "colab_type": "code",
        "outputId": "d28801e4-5def-4735-c501-f7b2e54811b9",
        "colab": {
          "base_uri": "https://localhost:8080/",
          "height": 225
        }
      },
      "source": [
        "student_scores = pd.DataFrame({'Score':[100, 90, 80, 70, 60], 'IQ':[110, 120, 100, 90, 80,], 'Study_hours':[40, 30, 20, 0, 10]})\n",
        "\n",
        "student_scores.index.name='Student'\n",
        "\n",
        "student_scores.head()"
      ],
      "execution_count": 2,
      "outputs": [
        {
          "output_type": "execute_result",
          "data": {
            "text/html": [
              "<div>\n",
              "<style scoped>\n",
              "    .dataframe tbody tr th:only-of-type {\n",
              "        vertical-align: middle;\n",
              "    }\n",
              "\n",
              "    .dataframe tbody tr th {\n",
              "        vertical-align: top;\n",
              "    }\n",
              "\n",
              "    .dataframe thead th {\n",
              "        text-align: right;\n",
              "    }\n",
              "</style>\n",
              "<table border=\"1\" class=\"dataframe\">\n",
              "  <thead>\n",
              "    <tr style=\"text-align: right;\">\n",
              "      <th></th>\n",
              "      <th>Score</th>\n",
              "      <th>IQ</th>\n",
              "      <th>Study_hours</th>\n",
              "    </tr>\n",
              "    <tr>\n",
              "      <th>Student</th>\n",
              "      <th></th>\n",
              "      <th></th>\n",
              "      <th></th>\n",
              "    </tr>\n",
              "  </thead>\n",
              "  <tbody>\n",
              "    <tr>\n",
              "      <th>0</th>\n",
              "      <td>100</td>\n",
              "      <td>110</td>\n",
              "      <td>40</td>\n",
              "    </tr>\n",
              "    <tr>\n",
              "      <th>1</th>\n",
              "      <td>90</td>\n",
              "      <td>120</td>\n",
              "      <td>30</td>\n",
              "    </tr>\n",
              "    <tr>\n",
              "      <th>2</th>\n",
              "      <td>80</td>\n",
              "      <td>100</td>\n",
              "      <td>20</td>\n",
              "    </tr>\n",
              "    <tr>\n",
              "      <th>3</th>\n",
              "      <td>70</td>\n",
              "      <td>90</td>\n",
              "      <td>0</td>\n",
              "    </tr>\n",
              "    <tr>\n",
              "      <th>4</th>\n",
              "      <td>60</td>\n",
              "      <td>80</td>\n",
              "      <td>10</td>\n",
              "    </tr>\n",
              "  </tbody>\n",
              "</table>\n",
              "</div>"
            ],
            "text/plain": [
              "         Score   IQ  Study_hours\n",
              "Student                         \n",
              "0          100  110           40\n",
              "1           90  120           30\n",
              "2           80  100           20\n",
              "3           70   90            0\n",
              "4           60   80           10"
            ]
          },
          "metadata": {
            "tags": []
          },
          "execution_count": 2
        }
      ]
    },
    {
      "cell_type": "markdown",
      "metadata": {
        "id": "_G1CDfReHVk7",
        "colab_type": "text"
      },
      "source": [
        "## Defining Matrix $X$"
      ]
    },
    {
      "cell_type": "code",
      "metadata": {
        "id": "8TzsNfgwHx6f",
        "colab_type": "code",
        "outputId": "9db1b639-026a-4b54-abb5-d29aabeec022",
        "colab": {
          "base_uri": "https://localhost:8080/",
          "height": 225
        }
      },
      "source": [
        "X = student_scores.loc[:, ['IQ',\"Study_hours\"]]\n",
        "\n",
        "ones = np.ones(len(student_scores), dtype=int)\n",
        "\n",
        "X.insert(0, 'ones', ones)\n",
        "\n",
        "X.head()"
      ],
      "execution_count": 3,
      "outputs": [
        {
          "output_type": "execute_result",
          "data": {
            "text/html": [
              "<div>\n",
              "<style scoped>\n",
              "    .dataframe tbody tr th:only-of-type {\n",
              "        vertical-align: middle;\n",
              "    }\n",
              "\n",
              "    .dataframe tbody tr th {\n",
              "        vertical-align: top;\n",
              "    }\n",
              "\n",
              "    .dataframe thead th {\n",
              "        text-align: right;\n",
              "    }\n",
              "</style>\n",
              "<table border=\"1\" class=\"dataframe\">\n",
              "  <thead>\n",
              "    <tr style=\"text-align: right;\">\n",
              "      <th></th>\n",
              "      <th>ones</th>\n",
              "      <th>IQ</th>\n",
              "      <th>Study_hours</th>\n",
              "    </tr>\n",
              "    <tr>\n",
              "      <th>Student</th>\n",
              "      <th></th>\n",
              "      <th></th>\n",
              "      <th></th>\n",
              "    </tr>\n",
              "  </thead>\n",
              "  <tbody>\n",
              "    <tr>\n",
              "      <th>0</th>\n",
              "      <td>1</td>\n",
              "      <td>110</td>\n",
              "      <td>40</td>\n",
              "    </tr>\n",
              "    <tr>\n",
              "      <th>1</th>\n",
              "      <td>1</td>\n",
              "      <td>120</td>\n",
              "      <td>30</td>\n",
              "    </tr>\n",
              "    <tr>\n",
              "      <th>2</th>\n",
              "      <td>1</td>\n",
              "      <td>100</td>\n",
              "      <td>20</td>\n",
              "    </tr>\n",
              "    <tr>\n",
              "      <th>3</th>\n",
              "      <td>1</td>\n",
              "      <td>90</td>\n",
              "      <td>0</td>\n",
              "    </tr>\n",
              "    <tr>\n",
              "      <th>4</th>\n",
              "      <td>1</td>\n",
              "      <td>80</td>\n",
              "      <td>10</td>\n",
              "    </tr>\n",
              "  </tbody>\n",
              "</table>\n",
              "</div>"
            ],
            "text/plain": [
              "         ones   IQ  Study_hours\n",
              "Student                        \n",
              "0           1  110           40\n",
              "1           1  120           30\n",
              "2           1  100           20\n",
              "3           1   90            0\n",
              "4           1   80           10"
            ]
          },
          "metadata": {
            "tags": []
          },
          "execution_count": 3
        }
      ]
    },
    {
      "cell_type": "code",
      "metadata": {
        "id": "Tmo8PzCuKfM0",
        "colab_type": "code",
        "outputId": "04aeb5f0-d44e-4ea4-8c58-7cffa62cd71d",
        "colab": {
          "base_uri": "https://localhost:8080/",
          "height": 101
        }
      },
      "source": [
        "# Next we convert X to a Numpy array from a Data frame\n",
        "\n",
        "X = X.values\n",
        "\n",
        "X"
      ],
      "execution_count": 4,
      "outputs": [
        {
          "output_type": "execute_result",
          "data": {
            "text/plain": [
              "array([[  1, 110,  40],\n",
              "       [  1, 120,  30],\n",
              "       [  1, 100,  20],\n",
              "       [  1,  90,   0],\n",
              "       [  1,  80,  10]])"
            ]
          },
          "metadata": {
            "tags": []
          },
          "execution_count": 4
        }
      ]
    },
    {
      "cell_type": "markdown",
      "metadata": {
        "id": "zmj2SJbRILRl",
        "colab_type": "text"
      },
      "source": [
        "## Defining $X'$ or X Transpose"
      ]
    },
    {
      "cell_type": "code",
      "metadata": {
        "id": "xV2mf89zIScK",
        "colab_type": "code",
        "outputId": "27acc684-9446-4fea-e934-17b4041f32b6",
        "colab": {
          "base_uri": "https://localhost:8080/",
          "height": 67
        }
      },
      "source": [
        "X_tp = X.transpose()\n",
        "\n",
        "X_tp"
      ],
      "execution_count": 5,
      "outputs": [
        {
          "output_type": "execute_result",
          "data": {
            "text/plain": [
              "array([[  1,   1,   1,   1,   1],\n",
              "       [110, 120, 100,  90,  80],\n",
              "       [ 40,  30,  20,   0,  10]])"
            ]
          },
          "metadata": {
            "tags": []
          },
          "execution_count": 5
        }
      ]
    },
    {
      "cell_type": "markdown",
      "metadata": {
        "id": "4goHC6OtIj8B",
        "colab_type": "text"
      },
      "source": [
        "#### Print out the shape of X and X'."
      ]
    },
    {
      "cell_type": "code",
      "metadata": {
        "id": "1xAUFA3XItcL",
        "colab_type": "code",
        "outputId": "49d5d4c0-fb0e-4b06-9db1-35c20ce986f2",
        "colab": {
          "base_uri": "https://localhost:8080/",
          "height": 50
        }
      },
      "source": [
        "print('X shape is',X.shape,'\\nX-transpose shape is',X_tp.shape)"
      ],
      "execution_count": 6,
      "outputs": [
        {
          "output_type": "stream",
          "text": [
            "X shape is (5, 3) \n",
            "X-transpose shape is (3, 5)\n"
          ],
          "name": "stdout"
        }
      ]
    },
    {
      "cell_type": "markdown",
      "metadata": {
        "id": "dCjaoHp3JFr7",
        "colab_type": "text"
      },
      "source": [
        "## Post-multiply $X'$ by $X$... using matrix multiplication"
      ]
    },
    {
      "cell_type": "code",
      "metadata": {
        "id": "DJzEcJ0nJE8Q",
        "colab_type": "code",
        "outputId": "6f9507d1-f631-4ffb-b189-30a07c9b368b",
        "colab": {
          "base_uri": "https://localhost:8080/",
          "height": 67
        }
      },
      "source": [
        "X_tp_X = np.matmul(X_tp, X)\n",
        "\n",
        "X_tp_X"
      ],
      "execution_count": 7,
      "outputs": [
        {
          "output_type": "execute_result",
          "data": {
            "text/plain": [
              "array([[    5,   500,   100],\n",
              "       [  500, 51000, 10800],\n",
              "       [  100, 10800,  3000]])"
            ]
          },
          "metadata": {
            "tags": []
          },
          "execution_count": 7
        }
      ]
    },
    {
      "cell_type": "markdown",
      "metadata": {
        "id": "bMi346K1LKoU",
        "colab_type": "text"
      },
      "source": [
        "Notice,  that so far we are getting exactly the same result as on the website [stattrek.com](https://stattrek.com/multiple-regression/regression-coefficients.aspx?Tutorial=reg)"
      ]
    },
    {
      "cell_type": "markdown",
      "metadata": {
        "id": "RDBp4eGnMKsZ",
        "colab_type": "text"
      },
      "source": [
        "## Next we define the inverse of $X'X$, just like in the website"
      ]
    },
    {
      "cell_type": "code",
      "metadata": {
        "id": "4G8S-KPyJBeT",
        "colab_type": "code",
        "outputId": "d296535f-3663-4d49-eb34-ceeef126cd7e",
        "colab": {
          "base_uri": "https://localhost:8080/",
          "height": 67
        }
      },
      "source": [
        "from numpy.linalg import inv\n",
        "\n",
        "inverse = inv(X_tp_X)\n",
        "\n",
        "inverse"
      ],
      "execution_count": 8,
      "outputs": [
        {
          "output_type": "execute_result",
          "data": {
            "text/plain": [
              "array([[ 2.02000000e+01, -2.33333333e-01,  1.66666667e-01],\n",
              "       [-2.33333333e-01,  2.77777778e-03, -2.22222222e-03],\n",
              "       [ 1.66666667e-01, -2.22222222e-03,  2.77777778e-03]])"
            ]
          },
          "metadata": {
            "tags": []
          },
          "execution_count": 8
        }
      ]
    },
    {
      "cell_type": "code",
      "metadata": {
        "id": "RMfqQHFYMfod",
        "colab_type": "code",
        "outputId": "56af743b-4c81-459f-db65-bb3e4ff68016",
        "colab": {
          "base_uri": "https://localhost:8080/",
          "height": 67
        }
      },
      "source": [
        "# checking to make sure the same values as the website\n",
        "\n",
        "print(inverse[0,:])\n",
        "print(inverse[1,:])\n",
        "print(inverse[2,:])"
      ],
      "execution_count": 9,
      "outputs": [
        {
          "output_type": "stream",
          "text": [
            "[20.2        -0.23333333  0.16666667]\n",
            "[-0.23333333  0.00277778 -0.00222222]\n",
            "[ 0.16666667 -0.00222222  0.00277778]\n"
          ],
          "name": "stdout"
        }
      ]
    },
    {
      "cell_type": "markdown",
      "metadata": {
        "id": "DM4J6tTeNKSt",
        "colab_type": "text"
      },
      "source": [
        "everything is perfect up to this point"
      ]
    },
    {
      "cell_type": "code",
      "metadata": {
        "id": "dki3abPhnDDz",
        "colab_type": "code",
        "outputId": "77d6cf65-d2ec-4a5f-f817-bafd19e6bd94",
        "colab": {
          "base_uri": "https://localhost:8080/",
          "height": 34
        }
      },
      "source": [
        "X_tp.shape"
      ],
      "execution_count": 10,
      "outputs": [
        {
          "output_type": "execute_result",
          "data": {
            "text/plain": [
              "(3, 5)"
            ]
          },
          "metadata": {
            "tags": []
          },
          "execution_count": 10
        }
      ]
    },
    {
      "cell_type": "code",
      "metadata": {
        "id": "dLniC5yGnIep",
        "colab_type": "code",
        "outputId": "164ffc1a-2849-49cf-aa49-df19f16562ed",
        "colab": {
          "base_uri": "https://localhost:8080/",
          "height": 34
        }
      },
      "source": [
        "inverse.shape"
      ],
      "execution_count": 11,
      "outputs": [
        {
          "output_type": "execute_result",
          "data": {
            "text/plain": [
              "(3, 3)"
            ]
          },
          "metadata": {
            "tags": []
          },
          "execution_count": 11
        }
      ]
    },
    {
      "cell_type": "markdown",
      "metadata": {
        "id": "MRVwhb4LsPSs",
        "colab_type": "text"
      },
      "source": [
        "## Next we post-multiply $(X'X)^{-1}$ by $X'$ "
      ]
    },
    {
      "cell_type": "code",
      "metadata": {
        "id": "RdLDdJ_ZltZG",
        "colab_type": "code",
        "outputId": "07cfecf1-c81a-4fa1-c77b-79059fe446f3",
        "colab": {
          "base_uri": "https://localhost:8080/",
          "height": 118
        }
      },
      "source": [
        "X_tp_inverse = np.matmul(inverse, X_tp)\n",
        "\n",
        "X_tp_inverse"
      ],
      "execution_count": 12,
      "outputs": [
        {
          "output_type": "execute_result",
          "data": {
            "text/plain": [
              "array([[ 1.20000000e+00, -2.80000000e+00,  2.00000000e-01,\n",
              "        -8.00000000e-01,  3.20000000e+00],\n",
              "       [-1.66666667e-02,  3.33333333e-02,  1.73472348e-17,\n",
              "         1.66666667e-02, -3.33333333e-02],\n",
              "       [ 3.33333333e-02, -1.66666667e-02, -1.73472348e-17,\n",
              "        -3.33333333e-02,  1.66666667e-02]])"
            ]
          },
          "metadata": {
            "tags": []
          },
          "execution_count": 12
        }
      ]
    },
    {
      "cell_type": "code",
      "metadata": {
        "id": "EFPSxUQpnhqz",
        "colab_type": "code",
        "outputId": "b1615cf3-6c2c-4c24-d10a-df42ab3231a3",
        "colab": {
          "base_uri": "https://localhost:8080/",
          "height": 34
        }
      },
      "source": [
        "X_tp_inverse.shape"
      ],
      "execution_count": 13,
      "outputs": [
        {
          "output_type": "execute_result",
          "data": {
            "text/plain": [
              "(3, 5)"
            ]
          },
          "metadata": {
            "tags": []
          },
          "execution_count": 13
        }
      ]
    },
    {
      "cell_type": "markdown",
      "metadata": {
        "id": "fnJ1bgmLNVpR",
        "colab_type": "text"
      },
      "source": [
        "## Next we define the $Y$ variable"
      ]
    },
    {
      "cell_type": "code",
      "metadata": {
        "id": "vtdORPdkNPAQ",
        "colab_type": "code",
        "outputId": "76a063ef-c1ca-4d92-a31e-b7828d8eee8c",
        "colab": {
          "base_uri": "https://localhost:8080/",
          "height": 34
        }
      },
      "source": [
        "Y = student_scores.Score.values\n",
        "\n",
        "Y"
      ],
      "execution_count": 14,
      "outputs": [
        {
          "output_type": "execute_result",
          "data": {
            "text/plain": [
              "array([100,  90,  80,  70,  60])"
            ]
          },
          "metadata": {
            "tags": []
          },
          "execution_count": 14
        }
      ]
    },
    {
      "cell_type": "code",
      "metadata": {
        "id": "jZ57MBUNphKD",
        "colab_type": "code",
        "outputId": "a48b4ccb-abe3-4f81-c1f8-d82048bfb337",
        "colab": {
          "base_uri": "https://localhost:8080/",
          "height": 34
        }
      },
      "source": [
        "Y.shape"
      ],
      "execution_count": 15,
      "outputs": [
        {
          "output_type": "execute_result",
          "data": {
            "text/plain": [
              "(5,)"
            ]
          },
          "metadata": {
            "tags": []
          },
          "execution_count": 15
        }
      ]
    },
    {
      "cell_type": "markdown",
      "metadata": {
        "id": "rB5Waw2DOHpm",
        "colab_type": "text"
      },
      "source": [
        "## Calculating the slope or coefficients"
      ]
    },
    {
      "cell_type": "markdown",
      "metadata": {
        "id": "_V0F5xHONnFw",
        "colab_type": "text"
      },
      "source": [
        "<h2><font color='khaki'>$ b = (X'X)^{-1}X'Y $</h2>"
      ]
    },
    {
      "cell_type": "markdown",
      "metadata": {
        "id": "9gdsAfBFPHoG",
        "colab_type": "text"
      },
      "source": [
        "## Finally we Post-multiply $(X'X)^{-1}X'$ by $Y$ to get the coefficients of the MLR model"
      ]
    },
    {
      "cell_type": "code",
      "metadata": {
        "id": "H-BpaLZBptV9",
        "colab_type": "code",
        "outputId": "e47607dc-ba1a-4611-c084-440b2de7aedf",
        "colab": {
          "base_uri": "https://localhost:8080/",
          "height": 34
        }
      },
      "source": [
        "coefficients = np.matmul(X_tp_inverse, Y)\n",
        "\n",
        "coefficients"
      ],
      "execution_count": 16,
      "outputs": [
        {
          "output_type": "execute_result",
          "data": {
            "text/plain": [
              "array([20. ,  0.5,  0.5])"
            ]
          },
          "metadata": {
            "tags": []
          },
          "execution_count": 16
        }
      ]
    },
    {
      "cell_type": "markdown",
      "metadata": {
        "id": "Uw-32wc6tddp",
        "colab_type": "text"
      },
      "source": [
        "## $y_{hat} = b0 + b1x1 + b2x2$"
      ]
    },
    {
      "cell_type": "markdown",
      "metadata": {
        "id": "W6M9mh_4t096",
        "colab_type": "text"
      },
      "source": [
        "which now means"
      ]
    },
    {
      "cell_type": "markdown",
      "metadata": {
        "id": "J3NB9GMwt6DQ",
        "colab_type": "text"
      },
      "source": [
        "## $y_{hat} = 20 + 0.5x1 + 0.5x2$"
      ]
    },
    {
      "cell_type": "markdown",
      "metadata": {
        "id": "bq0M3aONvoyi",
        "colab_type": "text"
      },
      "source": [
        "which now means"
      ]
    },
    {
      "cell_type": "markdown",
      "metadata": {
        "id": "IAMd0zRCvub_",
        "colab_type": "text"
      },
      "source": [
        "## $y_{hat} = 20 + 0.5(IQ) + 0.5(Study-hours)$"
      ]
    },
    {
      "cell_type": "markdown",
      "metadata": {
        "id": "d0w_im23eRwU",
        "colab_type": "text"
      },
      "source": [
        "# <font color='khaki'>Part Two\n",
        "\n",
        "# Real World Data"
      ]
    },
    {
      "cell_type": "markdown",
      "metadata": {
        "id": "6Wt-8B-dfTJz",
        "colab_type": "text"
      },
      "source": [
        "### Let's extrapolate on our learnings and apply these concepts to real live data"
      ]
    },
    {
      "cell_type": "markdown",
      "metadata": {
        "id": "IRPSJQxZgXRl",
        "colab_type": "text"
      },
      "source": [
        "Let's download the data set from Git-hub"
      ]
    },
    {
      "cell_type": "code",
      "metadata": {
        "id": "dI8g447-tZ5K",
        "colab_type": "code",
        "colab": {}
      },
      "source": [
        "# Let's import our Data set\n",
        "data = \"https://raw.githubusercontent.com/Blackman9t/Machine_Learning/master/Original_2000_2014_Fuel_Consumption_Ratings.csv\"\n",
        "\n",
        "# Next let's define additional usual representation of null values to help us select and deal with null data\n",
        "missing_data = ['n/a','na','--','?']"
      ],
      "execution_count": 0,
      "outputs": []
    },
    {
      "cell_type": "code",
      "metadata": {
        "id": "qG40elHRgh_o",
        "colab_type": "code",
        "outputId": "779f4c2b-6bc8-4919-ee2d-b57215318be2",
        "colab": {
          "base_uri": "https://localhost:8080/",
          "height": 215
        }
      },
      "source": [
        "fuel_df = pd.read_csv(data, na_values=missing_data)\n",
        "\n",
        "fuel_df.head()"
      ],
      "execution_count": 18,
      "outputs": [
        {
          "output_type": "execute_result",
          "data": {
            "text/html": [
              "<div>\n",
              "<style scoped>\n",
              "    .dataframe tbody tr th:only-of-type {\n",
              "        vertical-align: middle;\n",
              "    }\n",
              "\n",
              "    .dataframe tbody tr th {\n",
              "        vertical-align: top;\n",
              "    }\n",
              "\n",
              "    .dataframe thead th {\n",
              "        text-align: right;\n",
              "    }\n",
              "</style>\n",
              "<table border=\"1\" class=\"dataframe\">\n",
              "  <thead>\n",
              "    <tr style=\"text-align: right;\">\n",
              "      <th></th>\n",
              "      <th>MODEL_YEAR</th>\n",
              "      <th>MAKE</th>\n",
              "      <th>MODEL</th>\n",
              "      <th>VEHICLE_CLASS</th>\n",
              "      <th>ENGINE_SIZE(L)</th>\n",
              "      <th>CYLINDERS</th>\n",
              "      <th>TRANSMISSION</th>\n",
              "      <th>FUEL_TYPE</th>\n",
              "      <th>FUEL_CONSUMPTION_CITY(L/100km)</th>\n",
              "      <th>HWY_(L/100km)</th>\n",
              "      <th>COMB_(L/100km)</th>\n",
              "      <th>COMB_(mpg)</th>\n",
              "      <th>CO2_EMISSIONS(g/km)</th>\n",
              "    </tr>\n",
              "  </thead>\n",
              "  <tbody>\n",
              "    <tr>\n",
              "      <th>0</th>\n",
              "      <td>2000</td>\n",
              "      <td>ACURA</td>\n",
              "      <td>1.6EL</td>\n",
              "      <td>COMPACT</td>\n",
              "      <td>1.6</td>\n",
              "      <td>4</td>\n",
              "      <td>A4</td>\n",
              "      <td>X</td>\n",
              "      <td>9.2</td>\n",
              "      <td>6.7</td>\n",
              "      <td>8.1</td>\n",
              "      <td>35</td>\n",
              "      <td>186</td>\n",
              "    </tr>\n",
              "    <tr>\n",
              "      <th>1</th>\n",
              "      <td>2000</td>\n",
              "      <td>ACURA</td>\n",
              "      <td>1.6EL</td>\n",
              "      <td>COMPACT</td>\n",
              "      <td>1.6</td>\n",
              "      <td>4</td>\n",
              "      <td>M5</td>\n",
              "      <td>X</td>\n",
              "      <td>8.5</td>\n",
              "      <td>6.5</td>\n",
              "      <td>7.6</td>\n",
              "      <td>37</td>\n",
              "      <td>175</td>\n",
              "    </tr>\n",
              "    <tr>\n",
              "      <th>2</th>\n",
              "      <td>2000</td>\n",
              "      <td>ACURA</td>\n",
              "      <td>3.2TL</td>\n",
              "      <td>MID-SIZE</td>\n",
              "      <td>3.2</td>\n",
              "      <td>6</td>\n",
              "      <td>AS5</td>\n",
              "      <td>Z</td>\n",
              "      <td>12.2</td>\n",
              "      <td>7.4</td>\n",
              "      <td>10.0</td>\n",
              "      <td>28</td>\n",
              "      <td>230</td>\n",
              "    </tr>\n",
              "    <tr>\n",
              "      <th>3</th>\n",
              "      <td>2000</td>\n",
              "      <td>ACURA</td>\n",
              "      <td>3.5RL</td>\n",
              "      <td>MID-SIZE</td>\n",
              "      <td>3.5</td>\n",
              "      <td>6</td>\n",
              "      <td>A4</td>\n",
              "      <td>Z</td>\n",
              "      <td>13.4</td>\n",
              "      <td>9.2</td>\n",
              "      <td>11.5</td>\n",
              "      <td>25</td>\n",
              "      <td>264</td>\n",
              "    </tr>\n",
              "    <tr>\n",
              "      <th>4</th>\n",
              "      <td>2000</td>\n",
              "      <td>ACURA</td>\n",
              "      <td>INTEGRA</td>\n",
              "      <td>SUBCOMPACT</td>\n",
              "      <td>1.8</td>\n",
              "      <td>4</td>\n",
              "      <td>A4</td>\n",
              "      <td>X</td>\n",
              "      <td>10.0</td>\n",
              "      <td>7.0</td>\n",
              "      <td>8.6</td>\n",
              "      <td>33</td>\n",
              "      <td>198</td>\n",
              "    </tr>\n",
              "  </tbody>\n",
              "</table>\n",
              "</div>"
            ],
            "text/plain": [
              "   MODEL_YEAR   MAKE    MODEL  ... COMB_(L/100km)  COMB_(mpg)  CO2_EMISSIONS(g/km)\n",
              "0        2000  ACURA    1.6EL  ...            8.1          35                  186\n",
              "1        2000  ACURA    1.6EL  ...            7.6          37                  175\n",
              "2        2000  ACURA    3.2TL  ...           10.0          28                  230\n",
              "3        2000  ACURA    3.5RL  ...           11.5          25                  264\n",
              "4        2000  ACURA  INTEGRA  ...            8.6          33                  198\n",
              "\n",
              "[5 rows x 13 columns]"
            ]
          },
          "metadata": {
            "tags": []
          },
          "execution_count": 18
        }
      ]
    },
    {
      "cell_type": "markdown",
      "metadata": {
        "id": "qPWfIua8io4w",
        "colab_type": "text"
      },
      "source": [
        "let's explore the data "
      ]
    },
    {
      "cell_type": "code",
      "metadata": {
        "id": "3oNKBXJji4xW",
        "colab_type": "code",
        "outputId": "52c30d2b-116b-4718-ee7d-5cbdf965565e",
        "colab": {
          "base_uri": "https://localhost:8080/",
          "height": 252
        }
      },
      "source": [
        "# let's check the data types per column or attribute are correct\n",
        "fuel_df.dtypes"
      ],
      "execution_count": 19,
      "outputs": [
        {
          "output_type": "execute_result",
          "data": {
            "text/plain": [
              "MODEL_YEAR                          int64\n",
              "MAKE                               object\n",
              "MODEL                              object\n",
              "VEHICLE_CLASS                      object\n",
              "ENGINE_SIZE(L)                    float64\n",
              "CYLINDERS                           int64\n",
              "TRANSMISSION                       object\n",
              "FUEL_TYPE                          object\n",
              "FUEL_CONSUMPTION_CITY(L/100km)    float64\n",
              "HWY_(L/100km)                     float64\n",
              "COMB_(L/100km)                    float64\n",
              "COMB_(mpg)                          int64\n",
              "CO2_EMISSIONS(g/km)                 int64\n",
              "dtype: object"
            ]
          },
          "metadata": {
            "tags": []
          },
          "execution_count": 19
        }
      ]
    },
    {
      "cell_type": "code",
      "metadata": {
        "id": "tL3TR8yDi8tz",
        "colab_type": "code",
        "outputId": "10877806-d6a7-4705-c83c-1ce5722ce04b",
        "colab": {
          "base_uri": "https://localhost:8080/",
          "height": 34
        }
      },
      "source": [
        "# Let's confirm the shape of the data type\n",
        "fuel_df.shape"
      ],
      "execution_count": 20,
      "outputs": [
        {
          "output_type": "execute_result",
          "data": {
            "text/plain": [
              "(14343, 13)"
            ]
          },
          "metadata": {
            "tags": []
          },
          "execution_count": 20
        }
      ]
    },
    {
      "cell_type": "code",
      "metadata": {
        "id": "Crfle784j0zo",
        "colab_type": "code",
        "outputId": "8c670875-e165-4d3c-8742-d59829fdd80f",
        "colab": {
          "base_uri": "https://localhost:8080/",
          "height": 34
        }
      },
      "source": [
        "# Let's check for missing values\n",
        "fuel_df.isna().any().all()"
      ],
      "execution_count": 21,
      "outputs": [
        {
          "output_type": "execute_result",
          "data": {
            "text/plain": [
              "False"
            ]
          },
          "metadata": {
            "tags": []
          },
          "execution_count": 21
        }
      ]
    },
    {
      "cell_type": "code",
      "metadata": {
        "id": "veTRNCs1k9h5",
        "colab_type": "code",
        "colab": {}
      },
      "source": [
        "# Let's rename some column names for brevity\n",
        "fuel_df.rename(columns={'FUEL_CONSUMPTION_CITY(L/100km)':'FUEL_CONS_CITY', \n",
        "                        'ENGINE_SIZE(L)':'ENGINE_SIZE',\n",
        "                       'HWY_(L/100km)':'HWY_L100km',\n",
        "                       'COMB_(L/100km)':'COMB_L100km',\n",
        "                       'COMB_(mpg)':'COMB_MPG',\n",
        "                       'CO2_EMISSIONS(g/km)':'CO2_EMISSIONS'},\n",
        "                       inplace=True)"
      ],
      "execution_count": 0,
      "outputs": []
    },
    {
      "cell_type": "code",
      "metadata": {
        "id": "Uodvyz1AmUpU",
        "colab_type": "code",
        "outputId": "e30f0387-6f63-44ba-a34f-ce9cfff516dd",
        "colab": {
          "base_uri": "https://localhost:8080/",
          "height": 195
        }
      },
      "source": [
        "# Let's display the renamed data set\n",
        "fuel_df.head()"
      ],
      "execution_count": 23,
      "outputs": [
        {
          "output_type": "execute_result",
          "data": {
            "text/html": [
              "<div>\n",
              "<style scoped>\n",
              "    .dataframe tbody tr th:only-of-type {\n",
              "        vertical-align: middle;\n",
              "    }\n",
              "\n",
              "    .dataframe tbody tr th {\n",
              "        vertical-align: top;\n",
              "    }\n",
              "\n",
              "    .dataframe thead th {\n",
              "        text-align: right;\n",
              "    }\n",
              "</style>\n",
              "<table border=\"1\" class=\"dataframe\">\n",
              "  <thead>\n",
              "    <tr style=\"text-align: right;\">\n",
              "      <th></th>\n",
              "      <th>MODEL_YEAR</th>\n",
              "      <th>MAKE</th>\n",
              "      <th>MODEL</th>\n",
              "      <th>VEHICLE_CLASS</th>\n",
              "      <th>ENGINE_SIZE</th>\n",
              "      <th>CYLINDERS</th>\n",
              "      <th>TRANSMISSION</th>\n",
              "      <th>FUEL_TYPE</th>\n",
              "      <th>FUEL_CONS_CITY</th>\n",
              "      <th>HWY_L100km</th>\n",
              "      <th>COMB_L100km</th>\n",
              "      <th>COMB_MPG</th>\n",
              "      <th>CO2_EMISSIONS</th>\n",
              "    </tr>\n",
              "  </thead>\n",
              "  <tbody>\n",
              "    <tr>\n",
              "      <th>0</th>\n",
              "      <td>2000</td>\n",
              "      <td>ACURA</td>\n",
              "      <td>1.6EL</td>\n",
              "      <td>COMPACT</td>\n",
              "      <td>1.6</td>\n",
              "      <td>4</td>\n",
              "      <td>A4</td>\n",
              "      <td>X</td>\n",
              "      <td>9.2</td>\n",
              "      <td>6.7</td>\n",
              "      <td>8.1</td>\n",
              "      <td>35</td>\n",
              "      <td>186</td>\n",
              "    </tr>\n",
              "    <tr>\n",
              "      <th>1</th>\n",
              "      <td>2000</td>\n",
              "      <td>ACURA</td>\n",
              "      <td>1.6EL</td>\n",
              "      <td>COMPACT</td>\n",
              "      <td>1.6</td>\n",
              "      <td>4</td>\n",
              "      <td>M5</td>\n",
              "      <td>X</td>\n",
              "      <td>8.5</td>\n",
              "      <td>6.5</td>\n",
              "      <td>7.6</td>\n",
              "      <td>37</td>\n",
              "      <td>175</td>\n",
              "    </tr>\n",
              "    <tr>\n",
              "      <th>2</th>\n",
              "      <td>2000</td>\n",
              "      <td>ACURA</td>\n",
              "      <td>3.2TL</td>\n",
              "      <td>MID-SIZE</td>\n",
              "      <td>3.2</td>\n",
              "      <td>6</td>\n",
              "      <td>AS5</td>\n",
              "      <td>Z</td>\n",
              "      <td>12.2</td>\n",
              "      <td>7.4</td>\n",
              "      <td>10.0</td>\n",
              "      <td>28</td>\n",
              "      <td>230</td>\n",
              "    </tr>\n",
              "    <tr>\n",
              "      <th>3</th>\n",
              "      <td>2000</td>\n",
              "      <td>ACURA</td>\n",
              "      <td>3.5RL</td>\n",
              "      <td>MID-SIZE</td>\n",
              "      <td>3.5</td>\n",
              "      <td>6</td>\n",
              "      <td>A4</td>\n",
              "      <td>Z</td>\n",
              "      <td>13.4</td>\n",
              "      <td>9.2</td>\n",
              "      <td>11.5</td>\n",
              "      <td>25</td>\n",
              "      <td>264</td>\n",
              "    </tr>\n",
              "    <tr>\n",
              "      <th>4</th>\n",
              "      <td>2000</td>\n",
              "      <td>ACURA</td>\n",
              "      <td>INTEGRA</td>\n",
              "      <td>SUBCOMPACT</td>\n",
              "      <td>1.8</td>\n",
              "      <td>4</td>\n",
              "      <td>A4</td>\n",
              "      <td>X</td>\n",
              "      <td>10.0</td>\n",
              "      <td>7.0</td>\n",
              "      <td>8.6</td>\n",
              "      <td>33</td>\n",
              "      <td>198</td>\n",
              "    </tr>\n",
              "  </tbody>\n",
              "</table>\n",
              "</div>"
            ],
            "text/plain": [
              "   MODEL_YEAR   MAKE    MODEL  ... COMB_L100km  COMB_MPG  CO2_EMISSIONS\n",
              "0        2000  ACURA    1.6EL  ...         8.1        35            186\n",
              "1        2000  ACURA    1.6EL  ...         7.6        37            175\n",
              "2        2000  ACURA    3.2TL  ...        10.0        28            230\n",
              "3        2000  ACURA    3.5RL  ...        11.5        25            264\n",
              "4        2000  ACURA  INTEGRA  ...         8.6        33            198\n",
              "\n",
              "[5 rows x 13 columns]"
            ]
          },
          "metadata": {
            "tags": []
          },
          "execution_count": 23
        }
      ]
    },
    {
      "cell_type": "code",
      "metadata": {
        "id": "CcAJmL6Tj7Mx",
        "colab_type": "code",
        "outputId": "c17a07a4-efcb-4971-c65d-79a615d284fb",
        "colab": {
          "base_uri": "https://localhost:8080/",
          "height": 453
        }
      },
      "source": [
        "# Let's plot the correlation of the data set using a heatmap from seaborn library\n",
        "corr_data = fuel_df.corr()\n",
        "\n",
        "plt.figure(figsize=(10, 6))\n",
        "sns.set_style('ticks')\n",
        "\n",
        "sns.heatmap(corr_data, annot=True)\n",
        "\n",
        "plt.show()"
      ],
      "execution_count": 24,
      "outputs": [
        {
          "output_type": "display_data",
          "data": {
            "image/png": "[encoded data removed]",
            "text/plain": [
              "<Figure size 720x432 with 2 Axes>"
            ]
          },
          "metadata": {
            "tags": []
          }
        }
      ]
    },
    {
      "cell_type": "markdown",
      "metadata": {
        "id": "xGbt0H4cEhWc",
        "colab_type": "text"
      },
      "source": [
        "The Top correlated variables with CO2_EMISSIONS"
      ]
    },
    {
      "cell_type": "code",
      "metadata": {
        "id": "YmOOLn3J_TTb",
        "colab_type": "code",
        "outputId": "f120617c-b2f1-4c8b-f196-056e986a3fa8",
        "colab": {
          "base_uri": "https://localhost:8080/",
          "height": 235
        }
      },
      "source": [
        "corrs = {'Variable_Name':['Engine_Size','Cylinders','Fuel_Cons_City','Hwy_L/100','Comb_L/100','Comb_mpg'],\n",
        "                'Corr_Amount':[round(fuel_df['ENGINE_SIZE'].corr(fuel_df.CO2_EMISSIONS),2),\n",
        "                               round(fuel_df['CYLINDERS'].corr(fuel_df.CO2_EMISSIONS),2),\n",
        "                               round(fuel_df['FUEL_CONS_CITY'].corr(fuel_df.CO2_EMISSIONS),2),\n",
        "                               round(fuel_df['HWY_L100km'].corr(fuel_df.CO2_EMISSIONS),2),\n",
        "                               round(fuel_df['COMB_L100km'].corr(fuel_df.CO2_EMISSIONS),2),\n",
        "                               round(fuel_df['COMB_MPG'].corr(fuel_df.CO2_EMISSIONS),2)],\n",
        "               'Description':['Strong Positive Correlation',\n",
        "                              'Strong Positive Correlation',\n",
        "                              'Strong Positive Correlation',\n",
        "                              'Strong Positive Correlation',\n",
        "                              'Strong Positive Correlation',\n",
        "                              'Strong Negative Correlation']}\n",
        "\n",
        "# highest_corr = pd.DataFrame(highest_corr, index=[1,2,3,4,5,6])\n",
        "\n",
        "# highest_corr\n",
        "\n",
        "corrs"
      ],
      "execution_count": 25,
      "outputs": [
        {
          "output_type": "execute_result",
          "data": {
            "text/plain": [
              "{'Corr_Amount': [0.83, 0.8, 0.92, 0.89, 0.92, -0.9],\n",
              " 'Description': ['Strong Positive Correlation',\n",
              "  'Strong Positive Correlation',\n",
              "  'Strong Positive Correlation',\n",
              "  'Strong Positive Correlation',\n",
              "  'Strong Positive Correlation',\n",
              "  'Strong Negative Correlation'],\n",
              " 'Variable_Name': ['Engine_Size',\n",
              "  'Cylinders',\n",
              "  'Fuel_Cons_City',\n",
              "  'Hwy_L/100',\n",
              "  'Comb_L/100',\n",
              "  'Comb_mpg']}"
            ]
          },
          "metadata": {
            "tags": []
          },
          "execution_count": 25
        }
      ]
    },
    {
      "cell_type": "markdown",
      "metadata": {
        "id": "OOctzl-KwCmr",
        "colab_type": "text"
      },
      "source": [
        "### To calculate multicolinearity using VIF"
      ]
    },
    {
      "cell_type": "code",
      "metadata": {
        "id": "gFYLy2lY9BOw",
        "colab_type": "code",
        "outputId": "d0d96a47-dc38-435e-fb94-d6bb6b443aec",
        "colab": {
          "base_uri": "https://localhost:8080/",
          "height": 195
        }
      },
      "source": [
        "data = fuel_df[['ENGINE_SIZE','CYLINDERS','FUEL_CONS_CITY','COMB_MPG', 'HWY_L100km', 'COMB_L100km']]\n",
        "\n",
        "data.head()"
      ],
      "execution_count": 26,
      "outputs": [
        {
          "output_type": "execute_result",
          "data": {
            "text/html": [
              "<div>\n",
              "<style scoped>\n",
              "    .dataframe tbody tr th:only-of-type {\n",
              "        vertical-align: middle;\n",
              "    }\n",
              "\n",
              "    .dataframe tbody tr th {\n",
              "        vertical-align: top;\n",
              "    }\n",
              "\n",
              "    .dataframe thead th {\n",
              "        text-align: right;\n",
              "    }\n",
              "</style>\n",
              "<table border=\"1\" class=\"dataframe\">\n",
              "  <thead>\n",
              "    <tr style=\"text-align: right;\">\n",
              "      <th></th>\n",
              "      <th>ENGINE_SIZE</th>\n",
              "      <th>CYLINDERS</th>\n",
              "      <th>FUEL_CONS_CITY</th>\n",
              "      <th>COMB_MPG</th>\n",
              "      <th>HWY_L100km</th>\n",
              "      <th>COMB_L100km</th>\n",
              "    </tr>\n",
              "  </thead>\n",
              "  <tbody>\n",
              "    <tr>\n",
              "      <th>0</th>\n",
              "      <td>1.6</td>\n",
              "      <td>4</td>\n",
              "      <td>9.2</td>\n",
              "      <td>35</td>\n",
              "      <td>6.7</td>\n",
              "      <td>8.1</td>\n",
              "    </tr>\n",
              "    <tr>\n",
              "      <th>1</th>\n",
              "      <td>1.6</td>\n",
              "      <td>4</td>\n",
              "      <td>8.5</td>\n",
              "      <td>37</td>\n",
              "      <td>6.5</td>\n",
              "      <td>7.6</td>\n",
              "    </tr>\n",
              "    <tr>\n",
              "      <th>2</th>\n",
              "      <td>3.2</td>\n",
              "      <td>6</td>\n",
              "      <td>12.2</td>\n",
              "      <td>28</td>\n",
              "      <td>7.4</td>\n",
              "      <td>10.0</td>\n",
              "    </tr>\n",
              "    <tr>\n",
              "      <th>3</th>\n",
              "      <td>3.5</td>\n",
              "      <td>6</td>\n",
              "      <td>13.4</td>\n",
              "      <td>25</td>\n",
              "      <td>9.2</td>\n",
              "      <td>11.5</td>\n",
              "    </tr>\n",
              "    <tr>\n",
              "      <th>4</th>\n",
              "      <td>1.8</td>\n",
              "      <td>4</td>\n",
              "      <td>10.0</td>\n",
              "      <td>33</td>\n",
              "      <td>7.0</td>\n",
              "      <td>8.6</td>\n",
              "    </tr>\n",
              "  </tbody>\n",
              "</table>\n",
              "</div>"
            ],
            "text/plain": [
              "   ENGINE_SIZE  CYLINDERS  FUEL_CONS_CITY  COMB_MPG  HWY_L100km  COMB_L100km\n",
              "0          1.6          4             9.2        35         6.7          8.1\n",
              "1          1.6          4             8.5        37         6.5          7.6\n",
              "2          3.2          6            12.2        28         7.4         10.0\n",
              "3          3.5          6            13.4        25         9.2         11.5\n",
              "4          1.8          4            10.0        33         7.0          8.6"
            ]
          },
          "metadata": {
            "tags": []
          },
          "execution_count": 26
        }
      ]
    },
    {
      "cell_type": "code",
      "metadata": {
        "id": "wPtpBzZGDnjr",
        "colab_type": "code",
        "colab": {}
      },
      "source": [
        "def standardize(data_features):\n",
        "    data_features = (data_features - data_features.mean()) / data_features.std()\n",
        "    return data_features"
      ],
      "execution_count": 0,
      "outputs": []
    },
    {
      "cell_type": "code",
      "metadata": {
        "id": "L9B0e6_vTfSC",
        "colab_type": "code",
        "outputId": "330b81c0-01d5-4a2d-b72d-6985bc9f9720",
        "colab": {
          "base_uri": "https://localhost:8080/",
          "height": 195
        }
      },
      "source": [
        "std_data = data.apply(standardize, axis=0)\n",
        "std_data.head()"
      ],
      "execution_count": 28,
      "outputs": [
        {
          "output_type": "execute_result",
          "data": {
            "text/html": [
              "<div>\n",
              "<style scoped>\n",
              "    .dataframe tbody tr th:only-of-type {\n",
              "        vertical-align: middle;\n",
              "    }\n",
              "\n",
              "    .dataframe tbody tr th {\n",
              "        vertical-align: top;\n",
              "    }\n",
              "\n",
              "    .dataframe thead th {\n",
              "        text-align: right;\n",
              "    }\n",
              "</style>\n",
              "<table border=\"1\" class=\"dataframe\">\n",
              "  <thead>\n",
              "    <tr style=\"text-align: right;\">\n",
              "      <th></th>\n",
              "      <th>ENGINE_SIZE</th>\n",
              "      <th>CYLINDERS</th>\n",
              "      <th>FUEL_CONS_CITY</th>\n",
              "      <th>COMB_MPG</th>\n",
              "      <th>HWY_L100km</th>\n",
              "      <th>COMB_L100km</th>\n",
              "    </tr>\n",
              "  </thead>\n",
              "  <tbody>\n",
              "    <tr>\n",
              "      <th>0</th>\n",
              "      <td>-1.429815</td>\n",
              "      <td>-1.119788</td>\n",
              "      <td>-1.046373</td>\n",
              "      <td>1.019024</td>\n",
              "      <td>-0.902562</td>\n",
              "      <td>-0.998244</td>\n",
              "    </tr>\n",
              "    <tr>\n",
              "      <th>1</th>\n",
              "      <td>-1.429815</td>\n",
              "      <td>-1.119788</td>\n",
              "      <td>-1.243575</td>\n",
              "      <td>1.285557</td>\n",
              "      <td>-0.987882</td>\n",
              "      <td>-1.166213</td>\n",
              "    </tr>\n",
              "    <tr>\n",
              "      <th>2</th>\n",
              "      <td>-0.209256</td>\n",
              "      <td>0.006162</td>\n",
              "      <td>-0.201224</td>\n",
              "      <td>0.086159</td>\n",
              "      <td>-0.603942</td>\n",
              "      <td>-0.359962</td>\n",
              "    </tr>\n",
              "    <tr>\n",
              "      <th>3</th>\n",
              "      <td>0.019599</td>\n",
              "      <td>0.006162</td>\n",
              "      <td>0.136836</td>\n",
              "      <td>-0.313640</td>\n",
              "      <td>0.163939</td>\n",
              "      <td>0.143945</td>\n",
              "    </tr>\n",
              "    <tr>\n",
              "      <th>4</th>\n",
              "      <td>-1.277245</td>\n",
              "      <td>-1.119788</td>\n",
              "      <td>-0.821000</td>\n",
              "      <td>0.752491</td>\n",
              "      <td>-0.774582</td>\n",
              "      <td>-0.830275</td>\n",
              "    </tr>\n",
              "  </tbody>\n",
              "</table>\n",
              "</div>"
            ],
            "text/plain": [
              "   ENGINE_SIZE  CYLINDERS  FUEL_CONS_CITY  COMB_MPG  HWY_L100km  COMB_L100km\n",
              "0    -1.429815  -1.119788       -1.046373  1.019024   -0.902562    -0.998244\n",
              "1    -1.429815  -1.119788       -1.243575  1.285557   -0.987882    -1.166213\n",
              "2    -0.209256   0.006162       -0.201224  0.086159   -0.603942    -0.359962\n",
              "3     0.019599   0.006162        0.136836 -0.313640    0.163939     0.143945\n",
              "4    -1.277245  -1.119788       -0.821000  0.752491   -0.774582    -0.830275"
            ]
          },
          "metadata": {
            "tags": []
          },
          "execution_count": 28
        }
      ]
    },
    {
      "cell_type": "code",
      "metadata": {
        "id": "YDmFFNKfAmVr",
        "colab_type": "code",
        "outputId": "04757e39-2042-4edd-973b-17b740c842c8",
        "colab": {
          "base_uri": "https://localhost:8080/",
          "height": 225
        }
      },
      "source": [
        "from statsmodels.stats.outliers_influence import variance_inflation_factor\n",
        "\n",
        "\n",
        "vif = pd.DataFrame()\n",
        "vif[\"VIF_Factor\"] = [variance_inflation_factor(std_data.values, i) for i in range(std_data.shape[1])]\n",
        "vif[\"features\"] = std_data.columns\n",
        "\n",
        "vif"
      ],
      "execution_count": 29,
      "outputs": [
        {
          "output_type": "execute_result",
          "data": {
            "text/html": [
              "<div>\n",
              "<style scoped>\n",
              "    .dataframe tbody tr th:only-of-type {\n",
              "        vertical-align: middle;\n",
              "    }\n",
              "\n",
              "    .dataframe tbody tr th {\n",
              "        vertical-align: top;\n",
              "    }\n",
              "\n",
              "    .dataframe thead th {\n",
              "        text-align: right;\n",
              "    }\n",
              "</style>\n",
              "<table border=\"1\" class=\"dataframe\">\n",
              "  <thead>\n",
              "    <tr style=\"text-align: right;\">\n",
              "      <th></th>\n",
              "      <th>VIF_Factor</th>\n",
              "      <th>features</th>\n",
              "    </tr>\n",
              "  </thead>\n",
              "  <tbody>\n",
              "    <tr>\n",
              "      <th>0</th>\n",
              "      <td>6.947478</td>\n",
              "      <td>ENGINE_SIZE</td>\n",
              "    </tr>\n",
              "    <tr>\n",
              "      <th>1</th>\n",
              "      <td>6.338015</td>\n",
              "      <td>CYLINDERS</td>\n",
              "    </tr>\n",
              "    <tr>\n",
              "      <th>2</th>\n",
              "      <td>1818.224119</td>\n",
              "      <td>FUEL_CONS_CITY</td>\n",
              "    </tr>\n",
              "    <tr>\n",
              "      <th>3</th>\n",
              "      <td>6.832871</td>\n",
              "      <td>COMB_MPG</td>\n",
              "    </tr>\n",
              "    <tr>\n",
              "      <th>4</th>\n",
              "      <td>533.988354</td>\n",
              "      <td>HWY_L100km</td>\n",
              "    </tr>\n",
              "    <tr>\n",
              "      <th>5</th>\n",
              "      <td>4184.504559</td>\n",
              "      <td>COMB_L100km</td>\n",
              "    </tr>\n",
              "  </tbody>\n",
              "</table>\n",
              "</div>"
            ],
            "text/plain": [
              "    VIF_Factor        features\n",
              "0     6.947478     ENGINE_SIZE\n",
              "1     6.338015       CYLINDERS\n",
              "2  1818.224119  FUEL_CONS_CITY\n",
              "3     6.832871        COMB_MPG\n",
              "4   533.988354      HWY_L100km\n",
              "5  4184.504559     COMB_L100km"
            ]
          },
          "metadata": {
            "tags": []
          },
          "execution_count": 29
        }
      ]
    },
    {
      "cell_type": "code",
      "metadata": {
        "id": "CA4iiBzooJ3l",
        "colab_type": "code",
        "colab": {}
      },
      "source": [
        "std_data.drop(['COMB_L100km','HWY_L100km','FUEL_CONS_CITY'], axis=1, inplace=True)"
      ],
      "execution_count": 0,
      "outputs": []
    },
    {
      "cell_type": "code",
      "metadata": {
        "id": "IlmjDJkXom1x",
        "colab_type": "code",
        "outputId": "d4773c6d-4e27-46e6-fb4e-8c3e47949d7c",
        "colab": {
          "base_uri": "https://localhost:8080/",
          "height": 136
        }
      },
      "source": [
        "vif = pd.DataFrame()\n",
        "vif[\"VIF_Factor\"] = [variance_inflation_factor(std_data.values, i) for i in range(std_data.shape[1])]\n",
        "vif[\"features\"] = std_data.columns\n",
        "\n",
        "vif"
      ],
      "execution_count": 31,
      "outputs": [
        {
          "output_type": "execute_result",
          "data": {
            "text/html": [
              "<div>\n",
              "<style scoped>\n",
              "    .dataframe tbody tr th:only-of-type {\n",
              "        vertical-align: middle;\n",
              "    }\n",
              "\n",
              "    .dataframe tbody tr th {\n",
              "        vertical-align: top;\n",
              "    }\n",
              "\n",
              "    .dataframe thead th {\n",
              "        text-align: right;\n",
              "    }\n",
              "</style>\n",
              "<table border=\"1\" class=\"dataframe\">\n",
              "  <thead>\n",
              "    <tr style=\"text-align: right;\">\n",
              "      <th></th>\n",
              "      <th>VIF_Factor</th>\n",
              "      <th>features</th>\n",
              "    </tr>\n",
              "  </thead>\n",
              "  <tbody>\n",
              "    <tr>\n",
              "      <th>0</th>\n",
              "      <td>6.566240</td>\n",
              "      <td>ENGINE_SIZE</td>\n",
              "    </tr>\n",
              "    <tr>\n",
              "      <th>1</th>\n",
              "      <td>5.570778</td>\n",
              "      <td>CYLINDERS</td>\n",
              "    </tr>\n",
              "    <tr>\n",
              "      <th>2</th>\n",
              "      <td>2.474966</td>\n",
              "      <td>COMB_MPG</td>\n",
              "    </tr>\n",
              "  </tbody>\n",
              "</table>\n",
              "</div>"
            ],
            "text/plain": [
              "   VIF_Factor     features\n",
              "0    6.566240  ENGINE_SIZE\n",
              "1    5.570778    CYLINDERS\n",
              "2    2.474966     COMB_MPG"
            ]
          },
          "metadata": {
            "tags": []
          },
          "execution_count": 31
        }
      ]
    },
    {
      "cell_type": "markdown",
      "metadata": {
        "id": "DhQKczFocYp2",
        "colab_type": "text"
      },
      "source": [
        "From The VIF analysis, our predictor variables with lowest VIF values are CYLINDERS and COMB_MPG.<br>\n",
        "These shall be our features or independent variables, let's split the data to train and test"
      ]
    },
    {
      "cell_type": "code",
      "metadata": {
        "id": "hbY6E_Nzg8Hw",
        "colab_type": "code",
        "outputId": "29344d33-02fd-47b6-e712-da0db2c19f4c",
        "colab": {
          "base_uri": "https://localhost:8080/",
          "height": 195
        }
      },
      "source": [
        "std_data.head()"
      ],
      "execution_count": 32,
      "outputs": [
        {
          "output_type": "execute_result",
          "data": {
            "text/html": [
              "<div>\n",
              "<style scoped>\n",
              "    .dataframe tbody tr th:only-of-type {\n",
              "        vertical-align: middle;\n",
              "    }\n",
              "\n",
              "    .dataframe tbody tr th {\n",
              "        vertical-align: top;\n",
              "    }\n",
              "\n",
              "    .dataframe thead th {\n",
              "        text-align: right;\n",
              "    }\n",
              "</style>\n",
              "<table border=\"1\" class=\"dataframe\">\n",
              "  <thead>\n",
              "    <tr style=\"text-align: right;\">\n",
              "      <th></th>\n",
              "      <th>ENGINE_SIZE</th>\n",
              "      <th>CYLINDERS</th>\n",
              "      <th>COMB_MPG</th>\n",
              "    </tr>\n",
              "  </thead>\n",
              "  <tbody>\n",
              "    <tr>\n",
              "      <th>0</th>\n",
              "      <td>-1.429815</td>\n",
              "      <td>-1.119788</td>\n",
              "      <td>1.019024</td>\n",
              "    </tr>\n",
              "    <tr>\n",
              "      <th>1</th>\n",
              "      <td>-1.429815</td>\n",
              "      <td>-1.119788</td>\n",
              "      <td>1.285557</td>\n",
              "    </tr>\n",
              "    <tr>\n",
              "      <th>2</th>\n",
              "      <td>-0.209256</td>\n",
              "      <td>0.006162</td>\n",
              "      <td>0.086159</td>\n",
              "    </tr>\n",
              "    <tr>\n",
              "      <th>3</th>\n",
              "      <td>0.019599</td>\n",
              "      <td>0.006162</td>\n",
              "      <td>-0.313640</td>\n",
              "    </tr>\n",
              "    <tr>\n",
              "      <th>4</th>\n",
              "      <td>-1.277245</td>\n",
              "      <td>-1.119788</td>\n",
              "      <td>0.752491</td>\n",
              "    </tr>\n",
              "  </tbody>\n",
              "</table>\n",
              "</div>"
            ],
            "text/plain": [
              "   ENGINE_SIZE  CYLINDERS  COMB_MPG\n",
              "0    -1.429815  -1.119788  1.019024\n",
              "1    -1.429815  -1.119788  1.285557\n",
              "2    -0.209256   0.006162  0.086159\n",
              "3     0.019599   0.006162 -0.313640\n",
              "4    -1.277245  -1.119788  0.752491"
            ]
          },
          "metadata": {
            "tags": []
          },
          "execution_count": 32
        }
      ]
    },
    {
      "cell_type": "markdown",
      "metadata": {
        "id": "a8v4-1E42jQa",
        "colab_type": "text"
      },
      "source": [
        "#### Let's first compile the data into training and testing data"
      ]
    },
    {
      "cell_type": "markdown",
      "metadata": {
        "id": "WPfArGhi3f_n",
        "colab_type": "text"
      },
      "source": [
        "next we define the training data by making it 75% of the data selected at random "
      ]
    },
    {
      "cell_type": "code",
      "metadata": {
        "id": "a8JBt-Y9i9Oi",
        "colab_type": "code",
        "outputId": "e2d87470-b980-4324-f07e-9502b09074a1",
        "colab": {
          "base_uri": "https://localhost:8080/",
          "height": 195
        }
      },
      "source": [
        "# Save the standardized data with moderate VIF values as X\n",
        "X = data[['ENGINE_SIZE','CYLINDERS','COMB_MPG']]\n",
        "\n",
        "# Define a column of ones, the length of X\n",
        "ones = np.ones(len(X), dtype= 'int8')\n",
        "\n",
        "# Insert The column of ones to the first position of X\n",
        "X.insert(0, 'Ones', ones)\n",
        "\n",
        "# Display first 5 rows of X\n",
        "X.head()"
      ],
      "execution_count": 33,
      "outputs": [
        {
          "output_type": "execute_result",
          "data": {
            "text/html": [
              "<div>\n",
              "<style scoped>\n",
              "    .dataframe tbody tr th:only-of-type {\n",
              "        vertical-align: middle;\n",
              "    }\n",
              "\n",
              "    .dataframe tbody tr th {\n",
              "        vertical-align: top;\n",
              "    }\n",
              "\n",
              "    .dataframe thead th {\n",
              "        text-align: right;\n",
              "    }\n",
              "</style>\n",
              "<table border=\"1\" class=\"dataframe\">\n",
              "  <thead>\n",
              "    <tr style=\"text-align: right;\">\n",
              "      <th></th>\n",
              "      <th>Ones</th>\n",
              "      <th>ENGINE_SIZE</th>\n",
              "      <th>CYLINDERS</th>\n",
              "      <th>COMB_MPG</th>\n",
              "    </tr>\n",
              "  </thead>\n",
              "  <tbody>\n",
              "    <tr>\n",
              "      <th>0</th>\n",
              "      <td>1</td>\n",
              "      <td>1.6</td>\n",
              "      <td>4</td>\n",
              "      <td>35</td>\n",
              "    </tr>\n",
              "    <tr>\n",
              "      <th>1</th>\n",
              "      <td>1</td>\n",
              "      <td>1.6</td>\n",
              "      <td>4</td>\n",
              "      <td>37</td>\n",
              "    </tr>\n",
              "    <tr>\n",
              "      <th>2</th>\n",
              "      <td>1</td>\n",
              "      <td>3.2</td>\n",
              "      <td>6</td>\n",
              "      <td>28</td>\n",
              "    </tr>\n",
              "    <tr>\n",
              "      <th>3</th>\n",
              "      <td>1</td>\n",
              "      <td>3.5</td>\n",
              "      <td>6</td>\n",
              "      <td>25</td>\n",
              "    </tr>\n",
              "    <tr>\n",
              "      <th>4</th>\n",
              "      <td>1</td>\n",
              "      <td>1.8</td>\n",
              "      <td>4</td>\n",
              "      <td>33</td>\n",
              "    </tr>\n",
              "  </tbody>\n",
              "</table>\n",
              "</div>"
            ],
            "text/plain": [
              "   Ones  ENGINE_SIZE  CYLINDERS  COMB_MPG\n",
              "0     1          1.6          4        35\n",
              "1     1          1.6          4        37\n",
              "2     1          3.2          6        28\n",
              "3     1          3.5          6        25\n",
              "4     1          1.8          4        33"
            ]
          },
          "metadata": {
            "tags": []
          },
          "execution_count": 33
        }
      ]
    },
    {
      "cell_type": "code",
      "metadata": {
        "id": "7Rc6FS7AjCSU",
        "colab_type": "code",
        "outputId": "f4505cd9-3dd0-4b2d-865e-f128e6de65a6",
        "colab": {
          "base_uri": "https://localhost:8080/",
          "height": 118
        }
      },
      "source": [
        "y = fuel_df.CO2_EMISSIONS\n",
        "y.head()"
      ],
      "execution_count": 34,
      "outputs": [
        {
          "output_type": "execute_result",
          "data": {
            "text/plain": [
              "0    186\n",
              "1    175\n",
              "2    230\n",
              "3    264\n",
              "4    198\n",
              "Name: CO2_EMISSIONS, dtype: int64"
            ]
          },
          "metadata": {
            "tags": []
          },
          "execution_count": 34
        }
      ]
    },
    {
      "cell_type": "code",
      "metadata": {
        "id": "ATQv-lDO25CR",
        "colab_type": "code",
        "outputId": "59980b9c-6284-4d26-8572-23884e8bd55f",
        "colab": {
          "base_uri": "https://localhost:8080/",
          "height": 84
        }
      },
      "source": [
        "# Import train_test_split for splitting the data set\n",
        "from sklearn.model_selection import train_test_split\n",
        "\n",
        "# split the data set into training and testing sets.\n",
        "X, X_test, y, y_test = train_test_split(X, y, test_size=0.25, shuffle=True)\n",
        "\n",
        "# Display the shapes of each split\n",
        "print('X shape is:',X.shape)\n",
        "print('y shape is:',y.shape)\n",
        "print('X_test shape is:',X_test.shape)\n",
        "print('y_test shape is:',y_test.shape)"
      ],
      "execution_count": 35,
      "outputs": [
        {
          "output_type": "stream",
          "text": [
            "X shape is: (10757, 4)\n",
            "y shape is: (10757,)\n",
            "X_test shape is: (3586, 4)\n",
            "y_test shape is: (3586,)\n"
          ],
          "name": "stdout"
        }
      ]
    },
    {
      "cell_type": "markdown",
      "metadata": {
        "id": "BXbmZjVlqUPe",
        "colab_type": "text"
      },
      "source": [
        "## The LSE formula for $b$ coefficients matrix is defned as:-\n",
        "\n",
        "<h1>$b=(X^{'}X)^{-1}X^{'}Y$<h1>"
      ]
    },
    {
      "cell_type": "markdown",
      "metadata": {
        "id": "441iD5Ljelko",
        "colab_type": "text"
      },
      "source": [
        "## Model Development or Compiling-The-Model"
      ]
    },
    {
      "cell_type": "markdown",
      "metadata": {
        "id": "3BTb0yHbqlZQ",
        "colab_type": "text"
      },
      "source": [
        "next define $X'$ or $X$ transpose"
      ]
    },
    {
      "cell_type": "code",
      "metadata": {
        "id": "lwGrIQ2WxCI6",
        "colab_type": "code",
        "outputId": "adff1b48-b90b-487c-9d4e-3d2606d3ca7c",
        "colab": {
          "base_uri": "https://localhost:8080/",
          "height": 101
        }
      },
      "source": [
        "# First we convert X and X_test y, y_test to Numpy arrays for ease of computing\n",
        "X = X.values\n",
        "X_test = X_test.values\n",
        "y = y.values\n",
        "y_test = y_test.values\n",
        "\n",
        "# Next we define X_trans, the Transpose of X matrix\n",
        "X_trans = X.transpose()\n",
        "\n",
        "print('X-Trans shape:',X_trans.shape)\n",
        "X_trans"
      ],
      "execution_count": 36,
      "outputs": [
        {
          "output_type": "stream",
          "text": [
            "X-Trans shape: (4, 10757)\n"
          ],
          "name": "stdout"
        },
        {
          "output_type": "execute_result",
          "data": {
            "text/plain": [
              "array([[ 1. ,  1. ,  1. , ...,  1. ,  1. ,  1. ],\n",
              "       [ 2.2,  3.5,  4.8, ...,  1.6,  2.7,  2.5],\n",
              "       [ 4. ,  6. ,  8. , ...,  4. ,  4. ,  6. ],\n",
              "       [34. , 27. , 19. , ..., 39. , 31. , 27. ]])"
            ]
          },
          "metadata": {
            "tags": []
          },
          "execution_count": 36
        }
      ]
    },
    {
      "cell_type": "markdown",
      "metadata": {
        "id": "XrnXO9SorElL",
        "colab_type": "text"
      },
      "source": [
        "Next post-multiply $X'$ by $X$"
      ]
    },
    {
      "cell_type": "code",
      "metadata": {
        "id": "DfEMVpUYrMOi",
        "colab_type": "code",
        "outputId": "77dba3a0-16c6-4ef7-b8fd-01c71a820abb",
        "colab": {
          "base_uri": "https://localhost:8080/",
          "height": 101
        }
      },
      "source": [
        "# Post-multiply X_trans by X\n",
        "X_trans_X = np.matmul(X_trans, X)\n",
        "\n",
        "# Print out the shape of X_trans_X\n",
        "print('X_Trans_X shape:',X_trans_X.shape)\n",
        "X_trans_X"
      ],
      "execution_count": 37,
      "outputs": [
        {
          "output_type": "stream",
          "text": [
            "X_Trans_X shape: (4, 4)\n"
          ],
          "name": "stdout"
        },
        {
          "output_type": "execute_result",
          "data": {
            "text/plain": [
              "array([[  10757.  ,   37355.6 ,   64373.  ,  294657.  ],\n",
              "       [  37355.6 ,  148350.44,  246276.8 ,  941359.7 ],\n",
              "       [  64373.  ,  246276.8 ,  418991.  , 1659658.  ],\n",
              "       [ 294657.  ,  941359.7 , 1659658.  , 8681631.  ]])"
            ]
          },
          "metadata": {
            "tags": []
          },
          "execution_count": 37
        }
      ]
    },
    {
      "cell_type": "markdown",
      "metadata": {
        "id": "IT2qrHGmsPMd",
        "colab_type": "text"
      },
      "source": [
        "Next we define the inverse of $X'X$ written as $(X'X)^{-1}$ using the linear algebra library(linalg) from numpy"
      ]
    },
    {
      "cell_type": "code",
      "metadata": {
        "id": "mrlbFG7csWkQ",
        "colab_type": "code",
        "outputId": "2e70c6ad-bd49-4523-b3b3-8fa9490203af",
        "colab": {
          "base_uri": "https://localhost:8080/",
          "height": 168
        }
      },
      "source": [
        "# Import inv from numpy.linear algebra\n",
        "from numpy.linalg import inv\n",
        "\n",
        "# define X_trans_X_inv\n",
        "X_trans_X_inv = inv(X_trans_X)\n",
        "\n",
        "# Print the shape of X_trans_X_inv\n",
        "print(\"Shape of X_trans_X_inv is\",X_trans_X_inv.shape)\n",
        "X_trans_X_inv"
      ],
      "execution_count": 38,
      "outputs": [
        {
          "output_type": "stream",
          "text": [
            "Shape of X_trans_X_inv is (4, 4)\n"
          ],
          "name": "stdout"
        },
        {
          "output_type": "execute_result",
          "data": {
            "text/plain": [
              "array([[ 8.95954717e-03, -4.75067404e-04, -3.98784058e-04,\n",
              "        -1.76342306e-04],\n",
              "       [-4.75067404e-04,  3.54271378e-04, -1.93413869e-04,\n",
              "         1.46845694e-05],\n",
              "       [-3.98784058e-04, -1.93413869e-04,  1.67471752e-04,\n",
              "         2.49154828e-06],\n",
              "       [-1.76342306e-04,  1.46845694e-05,  2.49154828e-06,\n",
              "         4.03172110e-06]])"
            ]
          },
          "metadata": {
            "tags": []
          },
          "execution_count": 38
        }
      ]
    },
    {
      "cell_type": "markdown",
      "metadata": {
        "id": "QGKgCwf3uzzv",
        "colab_type": "text"
      },
      "source": [
        "Next we post-multiply  $(X'X)^{-1}$ by $X'$ "
      ]
    },
    {
      "cell_type": "code",
      "metadata": {
        "id": "X1L-n92vv80N",
        "colab_type": "code",
        "outputId": "1db97bae-2d2c-4533-840c-9dbf3a3d4d7e",
        "colab": {
          "base_uri": "https://localhost:8080/",
          "height": 34
        }
      },
      "source": [
        "# Let's Post-multiply X_trans_X_inv by X_trans\n",
        "X_trans_X_inv_X_trans = np.matmul(X_trans_X_inv, X_trans)\n",
        "\n",
        "# Let's print the shape\n",
        "print(\"Shape of X_trans_X_inv_X_trans is\",X_trans_X_inv_X_trans.shape)"
      ],
      "execution_count": 39,
      "outputs": [
        {
          "output_type": "stream",
          "text": [
            "Shape of X_trans_X_inv_X_trans is (4, 10757)\n"
          ],
          "name": "stdout"
        }
      ]
    },
    {
      "cell_type": "markdown",
      "metadata": {
        "id": "PU2uEAFESMrW",
        "colab_type": "text"
      },
      "source": [
        "Next we post-multiply  $(X'X)^{-1}X'$ by $y$ "
      ]
    },
    {
      "cell_type": "code",
      "metadata": {
        "id": "lekMkToiSIiv",
        "colab_type": "code",
        "outputId": "e1a6462d-1bfd-41a2-eb12-254dc7013f1d",
        "colab": {
          "base_uri": "https://localhost:8080/",
          "height": 50
        }
      },
      "source": [
        "# Matrix b or coefficients defined as:\n",
        "b = np.matmul(X_trans_X_inv_X_trans, y)\n",
        "\n",
        "# Let's print the shape of b\n",
        "print('Shape of matrix b or coefficients is:', b.shape)\n",
        "\n",
        "# Print the values of b\n",
        "print(b)"
      ],
      "execution_count": 40,
      "outputs": [
        {
          "output_type": "stream",
          "text": [
            "Shape of matrix b or coefficients is: (4,)\n",
            "[322.5539238    7.9148692    5.89255091  -5.00194268]\n"
          ],
          "name": "stdout"
        }
      ]
    },
    {
      "cell_type": "markdown",
      "metadata": {
        "id": "4SnTNH_ufBT8",
        "colab_type": "text"
      },
      "source": [
        "## Model Training or Fitting-The-Model"
      ]
    },
    {
      "cell_type": "markdown",
      "metadata": {
        "id": "ucr6b14wyNob",
        "colab_type": "text"
      },
      "source": [
        "Finally we find our coefficients by post-multiplying $(X'X)^{-1}X'$ by $y-train$"
      ]
    },
    {
      "cell_type": "markdown",
      "metadata": {
        "id": "q6acDCYay8oJ",
        "colab_type": "text"
      },
      "source": [
        "### Thus our Multiple Linear Regression Model Ideal Parameters are:- "
      ]
    },
    {
      "cell_type": "code",
      "metadata": {
        "id": "hCU4smeuC4QH",
        "colab_type": "code",
        "outputId": "dce32b22-2f05-43cf-8d9f-0b6d7a13584d",
        "colab": {
          "base_uri": "https://localhost:8080/",
          "height": 84
        }
      },
      "source": [
        "intercept = b[0]\n",
        "\n",
        "b1 = b[1]\n",
        "\n",
        "b2 = b[2]\n",
        "\n",
        "b3 = b[3]\n",
        "\n",
        "\n",
        "print('Intercept or bias unit is:',intercept)\n",
        "print('b1 or slope for ENGINE_SIZE variable is:',b1)\n",
        "print('b2 or slope for CYLINDERS variable is:',b2)\n",
        "print('b3 or slope for COMB_MPG variable is:',b3)"
      ],
      "execution_count": 41,
      "outputs": [
        {
          "output_type": "stream",
          "text": [
            "Intercept or bias unit is: 322.5539237961792\n",
            "b1 or slope for ENGINE_SIZE variable is: 7.914869196847668\n",
            "b2 or slope for CYLINDERS variable is: 5.892550907326874\n",
            "b3 or slope for COMB_MPG variable is: -5.001942684553934\n"
          ],
          "name": "stdout"
        }
      ]
    },
    {
      "cell_type": "markdown",
      "metadata": {
        "id": "mxHbzurmQBeh",
        "colab_type": "text"
      },
      "source": [
        "## Model Evaluation"
      ]
    },
    {
      "cell_type": "markdown",
      "metadata": {
        "id": "M77oKO7pQGgQ",
        "colab_type": "text"
      },
      "source": [
        "#### Let's define a simple method for prediction"
      ]
    },
    {
      "cell_type": "code",
      "metadata": {
        "id": "c3ydmbaSGKnm",
        "colab_type": "code",
        "colab": {}
      },
      "source": [
        "def predict(x):\n",
        "    \"\"\" takes a row of test data and predicts it\n",
        "    and returns the summed value of the observation\"\"\"\n",
        "    x = list(x)\n",
        "    \n",
        "    x = x[0]*intercept + x[1]*b1 + x[2]*b2 + x[3]*b3\n",
        "    \n",
        "    return x"
      ],
      "execution_count": 0,
      "outputs": []
    },
    {
      "cell_type": "markdown",
      "metadata": {
        "id": "ihljpoLLQoto",
        "colab_type": "text"
      },
      "source": [
        "Next let's convert the test data to a Data frame so we can apply the predict method on it"
      ]
    },
    {
      "cell_type": "code",
      "metadata": {
        "id": "7gZDiu7wIaBU",
        "colab_type": "code",
        "outputId": "a7c0d6b7-ce51-4d75-95b7-36068a03fabe",
        "colab": {
          "base_uri": "https://localhost:8080/",
          "height": 195
        }
      },
      "source": [
        "X_eval = pd.DataFrame(X_test)\n",
        "\n",
        "X_eval.head()"
      ],
      "execution_count": 43,
      "outputs": [
        {
          "output_type": "execute_result",
          "data": {
            "text/html": [
              "<div>\n",
              "<style scoped>\n",
              "    .dataframe tbody tr th:only-of-type {\n",
              "        vertical-align: middle;\n",
              "    }\n",
              "\n",
              "    .dataframe tbody tr th {\n",
              "        vertical-align: top;\n",
              "    }\n",
              "\n",
              "    .dataframe thead th {\n",
              "        text-align: right;\n",
              "    }\n",
              "</style>\n",
              "<table border=\"1\" class=\"dataframe\">\n",
              "  <thead>\n",
              "    <tr style=\"text-align: right;\">\n",
              "      <th></th>\n",
              "      <th>0</th>\n",
              "      <th>1</th>\n",
              "      <th>2</th>\n",
              "      <th>3</th>\n",
              "    </tr>\n",
              "  </thead>\n",
              "  <tbody>\n",
              "    <tr>\n",
              "      <th>0</th>\n",
              "      <td>1.0</td>\n",
              "      <td>5.9</td>\n",
              "      <td>8.0</td>\n",
              "      <td>17.0</td>\n",
              "    </tr>\n",
              "    <tr>\n",
              "      <th>1</th>\n",
              "      <td>1.0</td>\n",
              "      <td>2.5</td>\n",
              "      <td>4.0</td>\n",
              "      <td>26.0</td>\n",
              "    </tr>\n",
              "    <tr>\n",
              "      <th>2</th>\n",
              "      <td>1.0</td>\n",
              "      <td>4.6</td>\n",
              "      <td>8.0</td>\n",
              "      <td>25.0</td>\n",
              "    </tr>\n",
              "    <tr>\n",
              "      <th>3</th>\n",
              "      <td>1.0</td>\n",
              "      <td>5.5</td>\n",
              "      <td>8.0</td>\n",
              "      <td>22.0</td>\n",
              "    </tr>\n",
              "    <tr>\n",
              "      <th>4</th>\n",
              "      <td>1.0</td>\n",
              "      <td>4.7</td>\n",
              "      <td>8.0</td>\n",
              "      <td>20.0</td>\n",
              "    </tr>\n",
              "  </tbody>\n",
              "</table>\n",
              "</div>"
            ],
            "text/plain": [
              "     0    1    2     3\n",
              "0  1.0  5.9  8.0  17.0\n",
              "1  1.0  2.5  4.0  26.0\n",
              "2  1.0  4.6  8.0  25.0\n",
              "3  1.0  5.5  8.0  22.0\n",
              "4  1.0  4.7  8.0  20.0"
            ]
          },
          "metadata": {
            "tags": []
          },
          "execution_count": 43
        }
      ]
    },
    {
      "cell_type": "markdown",
      "metadata": {
        "id": "mKndu5mMQzSm",
        "colab_type": "text"
      },
      "source": [
        "Next let's apply the predict method and pass axis=1 so it's done along the columns<br>\n",
        "Then we convert it to a numpy ID array using the .values and assign it all to y_hat.<br>\n",
        "y_hat is then our model's prediction on the out-of-sample or test data set"
      ]
    },
    {
      "cell_type": "code",
      "metadata": {
        "id": "5d6OJXMALHxl",
        "colab_type": "code",
        "outputId": "6d4432f6-8e4d-479b-8a59-c2f0f677a13b",
        "colab": {
          "base_uri": "https://localhost:8080/",
          "height": 34
        }
      },
      "source": [
        "y_hat = np.ceil(X_eval.apply(predict, axis=1).values)\n",
        "y_hat"
      ],
      "execution_count": 44,
      "outputs": [
        {
          "output_type": "execute_result",
          "data": {
            "text/plain": [
              "array([332., 236., 282., ..., 197., 246., 220.])"
            ]
          },
          "metadata": {
            "tags": []
          },
          "execution_count": 44
        }
      ]
    },
    {
      "cell_type": "markdown",
      "metadata": {
        "id": "qwtwwNQNgGPE",
        "colab_type": "text"
      },
      "source": [
        "y_hat or our model prediction is now a numpy 1D array. This will be useful for plotting"
      ]
    },
    {
      "cell_type": "code",
      "metadata": {
        "id": "ME9eGBJYLPJV",
        "colab_type": "code",
        "outputId": "35e677b1-e267-449c-b5cb-1cce9fe38405",
        "colab": {
          "base_uri": "https://localhost:8080/",
          "height": 34
        }
      },
      "source": [
        "type(y_hat)"
      ],
      "execution_count": 45,
      "outputs": [
        {
          "output_type": "execute_result",
          "data": {
            "text/plain": [
              "numpy.ndarray"
            ]
          },
          "metadata": {
            "tags": []
          },
          "execution_count": 45
        }
      ]
    },
    {
      "cell_type": "markdown",
      "metadata": {
        "id": "hdO73AdjgCTN",
        "colab_type": "text"
      },
      "source": [
        "## Importing Metrics from Sklearn to evaluate the model"
      ]
    },
    {
      "cell_type": "code",
      "metadata": {
        "id": "Wstoq2SDEw4Y",
        "colab_type": "code",
        "colab": {}
      },
      "source": [
        "from sklearn.metrics import mean_squared_error, r2_score"
      ],
      "execution_count": 0,
      "outputs": []
    },
    {
      "cell_type": "markdown",
      "metadata": {
        "id": "WxixHWidTvQw",
        "colab_type": "text"
      },
      "source": [
        "Let's compute the Mean Squared Error (y_true, y_pred)"
      ]
    },
    {
      "cell_type": "code",
      "metadata": {
        "id": "GZJ3LkNNRMXT",
        "colab_type": "code",
        "outputId": "d16da24e-4ebb-4ca2-8438-15f24baa56be",
        "colab": {
          "base_uri": "https://localhost:8080/",
          "height": 34
        }
      },
      "source": [
        "MSE = mean_squared_error(y_test, y_hat)\n",
        "MSE"
      ],
      "execution_count": 47,
      "outputs": [
        {
          "output_type": "execute_result",
          "data": {
            "text/plain": [
              "516.9428332403793"
            ]
          },
          "metadata": {
            "tags": []
          },
          "execution_count": 47
        }
      ]
    },
    {
      "cell_type": "markdown",
      "metadata": {
        "id": "hfGlx_UwT2k1",
        "colab_type": "text"
      },
      "source": [
        "Lets find the RMSE which is the square root of the MSE"
      ]
    },
    {
      "cell_type": "code",
      "metadata": {
        "id": "J9cg-EZQT4cT",
        "colab_type": "code",
        "outputId": "e4007da4-a12c-4fa7-8e49-87e4d2550d66",
        "colab": {
          "base_uri": "https://localhost:8080/",
          "height": 34
        }
      },
      "source": [
        "RMSE = MSE**0.5\n",
        "\n",
        "RMSE"
      ],
      "execution_count": 48,
      "outputs": [
        {
          "output_type": "execute_result",
          "data": {
            "text/plain": [
              "22.736376871445003"
            ]
          },
          "metadata": {
            "tags": []
          },
          "execution_count": 48
        }
      ]
    },
    {
      "cell_type": "markdown",
      "metadata": {
        "id": "7NnaePlVUI_K",
        "colab_type": "text"
      },
      "source": [
        "**Finding the RMSE as a percentage of the range of the target variable.\n",
        "The lower the percentage the better the model**\n",
        "\n",
        "First we find the range of the target variable"
      ]
    },
    {
      "cell_type": "code",
      "metadata": {
        "id": "xlNmV1DMUIA3",
        "colab_type": "code",
        "outputId": "781144f0-6182-4fcd-f981-3ddf94b2346b",
        "colab": {
          "base_uri": "https://localhost:8080/",
          "height": 34
        }
      },
      "source": [
        "y_range = y_test.max() - y_test.min()\n",
        "y_range"
      ],
      "execution_count": 49,
      "outputs": [
        {
          "output_type": "execute_result",
          "data": {
            "text/plain": [
              "430"
            ]
          },
          "metadata": {
            "tags": []
          },
          "execution_count": 49
        }
      ]
    },
    {
      "cell_type": "markdown",
      "metadata": {
        "id": "1lvurG8HVUM1",
        "colab_type": "text"
      },
      "source": [
        "Next we compute the RMSE as a percent of the range, the lower the error percent, the better the model"
      ]
    },
    {
      "cell_type": "code",
      "metadata": {
        "id": "aVlbNnqCVGvd",
        "colab_type": "code",
        "outputId": "58e5655a-42a3-4eff-ebf6-0fb517423928",
        "colab": {
          "base_uri": "https://localhost:8080/",
          "height": 34
        }
      },
      "source": [
        "error_margin = (RMSE / y_range) * 100\n",
        "\n",
        "error_margin"
      ],
      "execution_count": 50,
      "outputs": [
        {
          "output_type": "execute_result",
          "data": {
            "text/plain": [
              "5.28752950498721"
            ]
          },
          "metadata": {
            "tags": []
          },
          "execution_count": 50
        }
      ]
    },
    {
      "cell_type": "markdown",
      "metadata": {
        "id": "KdgcrIA9VkHA",
        "colab_type": "text"
      },
      "source": [
        "Finally let's compute the  R2  score or coefficient of determination of our model prediction.<br>\n",
        "This tells us how confident the model is on each prediction<br>\n",
        "The highest value is 1... So the closer to 1, the better the score"
      ]
    },
    {
      "cell_type": "code",
      "metadata": {
        "id": "Os1khJsSVk-H",
        "colab_type": "code",
        "outputId": "725511e6-acd7-45fb-f0da-67790ba86f4b",
        "colab": {
          "base_uri": "https://localhost:8080/",
          "height": 34
        }
      },
      "source": [
        "matrix_r2_score = r2_score(y_test, y_hat)  # pass in the true values first, then the predicted values.\n",
        "matrix_r2_score"
      ],
      "execution_count": 51,
      "outputs": [
        {
          "output_type": "execute_result",
          "data": {
            "text/plain": [
              "0.8529960960921926"
            ]
          },
          "metadata": {
            "tags": []
          },
          "execution_count": 51
        }
      ]
    },
    {
      "cell_type": "markdown",
      "metadata": {
        "id": "x2jPJtaDWnM1",
        "colab_type": "text"
      },
      "source": [
        "## Visualization"
      ]
    },
    {
      "cell_type": "code",
      "metadata": {
        "id": "zXUpdaDCWqln",
        "colab_type": "code",
        "outputId": "1392d258-7dda-4ec8-edc9-d2536a0f3de4",
        "colab": {
          "base_uri": "https://localhost:8080/",
          "height": 497
        }
      },
      "source": [
        "fig = plt.figure(figsize=(20, 7))\n",
        "plt.suptitle('Distplot and Regplot for Predictions of Matrix-Algebra model on Test data set', fontsize=16)\n",
        "\n",
        "ax = fig.add_subplot(121)\n",
        "ax1 = fig.add_subplot(122)\n",
        "\n",
        "# plotting the Distplot\n",
        "sns.distplot(y_test.squeeze(), hist=False, label='Target', color='navy', ax=ax)\n",
        "sns.distplot(y_hat.squeeze(), hist=False, label='Prediction', color='red', ax=ax)\n",
        "ax.set_xlabel('CO2_EMISSIONS', fontsize=14)\n",
        "ax.set_title('Distplot showing Prediction VS Actual for our matrix-Algebra Model')\n",
        "\n",
        "# plotting the Regplot\n",
        "sns.regplot(y_test.squeeze(), y_hat, scatter_kws={\"color\": \"navy\"}, line_kws={\"color\": \"red\" ,'linewidth':3}, ax=ax1)\n",
        "ax1.annotate('y_hat = {} + {}(Engine_Size) + {}(Cylinders) + {}(Comb_MPG)'.format(np.round(intercept), \n",
        "                                                             np.round(b1), \n",
        "                                                             np.round(b2), \n",
        "                                                             np.round(b3)), \n",
        "                                                             xy=(140,420), \n",
        "                                                             rotation=32, \n",
        "                                                             fontsize=11.5, color='black')\n",
        "ax1.set_xlabel('CO2_EMISSIONS', fontsize=14)\n",
        "ax1.set_title('Regplot showing Prediction for our Matrix-Algebra Model')\n",
        "\n",
        "\n",
        "\n",
        "plt.show()"
      ],
      "execution_count": 52,
      "outputs": [
        {
          "output_type": "display_data",
          "data": {
            "image/png": "[encoded data removed]",
            "text/plain": [
              "<Figure size 1440x504 with 2 Axes>"
            ]
          },
          "metadata": {
            "tags": []
          }
        }
      ]
    },
    {
      "cell_type": "markdown",
      "metadata": {
        "id": "95yiMo-LNDbq",
        "colab_type": "text"
      },
      "source": [
        "## Sklearn Model"
      ]
    },
    {
      "cell_type": "markdown",
      "metadata": {
        "id": "ORbwWoH8dww0",
        "colab_type": "text"
      },
      "source": [
        "Let's compare our model to a default model from SKlearn Library"
      ]
    },
    {
      "cell_type": "code",
      "metadata": {
        "id": "X9IRbOW9dWpQ",
        "colab_type": "code",
        "colab": {}
      },
      "source": [
        "# first import sklearn linear regression\n",
        "from sklearn.linear_model import LinearRegression\n",
        "\n",
        "# Instantiate a Linear regression model\n",
        "model = LinearRegression()"
      ],
      "execution_count": 0,
      "outputs": []
    },
    {
      "cell_type": "markdown",
      "metadata": {
        "id": "Ix3HBduIeA4h",
        "colab_type": "text"
      },
      "source": [
        "Next train the model"
      ]
    },
    {
      "cell_type": "code",
      "metadata": {
        "id": "E46N0WLfdoZl",
        "colab_type": "code",
        "outputId": "2476baed-5b87-4127-9d98-c5f2c091fb85",
        "colab": {
          "base_uri": "https://localhost:8080/",
          "height": 34
        }
      },
      "source": [
        "model.fit(X,y)"
      ],
      "execution_count": 54,
      "outputs": [
        {
          "output_type": "execute_result",
          "data": {
            "text/plain": [
              "LinearRegression(copy_X=True, fit_intercept=True, n_jobs=None, normalize=False)"
            ]
          },
          "metadata": {
            "tags": []
          },
          "execution_count": 54
        }
      ]
    },
    {
      "cell_type": "markdown",
      "metadata": {
        "id": "xwo9WIPOeN1J",
        "colab_type": "text"
      },
      "source": [
        "print the coefficients of the model parameters"
      ]
    },
    {
      "cell_type": "code",
      "metadata": {
        "id": "r1vqT0XKeTbM",
        "colab_type": "code",
        "outputId": "b6135c79-4532-4878-a40d-fd419a991534",
        "colab": {
          "base_uri": "https://localhost:8080/",
          "height": 50
        }
      },
      "source": [
        "# The Slope or gradient\n",
        "model_slope = model.coef_\n",
        "\n",
        "# the intercept or bias unit\n",
        "model_intercept = model.intercept_\n",
        "\n",
        "print('Slope =', model_slope,'\\nIntercept = ',model_intercept)"
      ],
      "execution_count": 56,
      "outputs": [
        {
          "output_type": "stream",
          "text": [
            "Slope = [ 0.          7.9148692   5.89255091 -5.00194268] \n",
            "Intercept =  322.5539237961783\n"
          ],
          "name": "stdout"
        }
      ]
    },
    {
      "cell_type": "markdown",
      "metadata": {
        "id": "-bZUB07XepTQ",
        "colab_type": "text"
      },
      "source": [
        "Let's predict the test data set using the sklearn model"
      ]
    },
    {
      "cell_type": "code",
      "metadata": {
        "id": "DNrPcjfZe2_q",
        "colab_type": "code",
        "colab": {}
      },
      "source": [
        "y_pred = model.predict(X_test)"
      ],
      "execution_count": 0,
      "outputs": []
    },
    {
      "cell_type": "markdown",
      "metadata": {
        "id": "F8I3LkJ2e9xd",
        "colab_type": "text"
      },
      "source": [
        "Let's evaluate performance of sklearn model"
      ]
    },
    {
      "cell_type": "code",
      "metadata": {
        "id": "8i-8mVXPfO3P",
        "colab_type": "code",
        "colab": {}
      },
      "source": [
        "model_mse = mean_squared_error(y_test, y_pred)\n",
        "model_mse"
      ],
      "execution_count": 0,
      "outputs": []
    },
    {
      "cell_type": "code",
      "metadata": {
        "id": "E9JIm7MUfeEH",
        "colab_type": "code",
        "colab": {}
      },
      "source": [
        "model_rmse = model_mse ** 0.5\n",
        "model_rmse"
      ],
      "execution_count": 0,
      "outputs": []
    },
    {
      "cell_type": "code",
      "metadata": {
        "id": "bQpsXwOkhH-Z",
        "colab_type": "code",
        "colab": {}
      },
      "source": [
        "model_error_margin = (model_rmse / y_range) * 100\n",
        "model_error_margin"
      ],
      "execution_count": 0,
      "outputs": []
    },
    {
      "cell_type": "code",
      "metadata": {
        "id": "ObzlxntZfr-l",
        "colab_type": "code",
        "colab": {}
      },
      "source": [
        "model_r2_score = r2_score(y_test, y_pred)\n",
        "model_r2_score"
      ],
      "execution_count": 0,
      "outputs": []
    },
    {
      "cell_type": "code",
      "metadata": {
        "id": "iE2gAU8xf-1j",
        "colab_type": "code",
        "colab": {}
      },
      "source": [
        "summary_dict = {'algebra_model':[intercept, b1, b2, b3, MSE, RMSE, error_margin, matrix_r2_score],\n",
        "               'sklearn_model':[model_intercept, model_slope[1], model_slope[2], model_slope[3], model_mse, model_rmse, model_error_margin, model_r2_score]}\n",
        "\n",
        "summary_df = pd.DataFrame(summary_dict, index=['Intercept','b1','b2','b3','MSE','RMSE','Error_margin','R2_score'])\n",
        "summary_df"
      ],
      "execution_count": 0,
      "outputs": []
    },
    {
      "cell_type": "markdown",
      "metadata": {
        "id": "uPylRXoq3TBm",
        "colab_type": "text"
      },
      "source": [
        "Let's plot the sklearn modelpredictions"
      ]
    },
    {
      "cell_type": "code",
      "metadata": {
        "id": "DmCtI5c23XSx",
        "colab_type": "code",
        "colab": {}
      },
      "source": [
        "fig = plt.figure(figsize=(20, 7))\n",
        "plt.suptitle('Distplot and Regplot for Predictions of Sklearn model on Test data set', fontsize=16)\n",
        "\n",
        "ax = fig.add_subplot(121)\n",
        "ax1 = fig.add_subplot(122)\n",
        "\n",
        "# plotting the Distplot\n",
        "sns.distplot(y_test.squeeze(), hist=False, label='Target', color='green', ax=ax)\n",
        "sns.distplot(y_hat.squeeze(), hist=False, label='Prediction', color='red', ax=ax)\n",
        "ax.set_xlabel('CO2_EMISSIONS', fontsize=14)\n",
        "ax.set_title('Distplot showing Prediction VS Actual for our Sklearn Model')\n",
        "\n",
        "# plotting the Regplot\n",
        "sns.regplot(y_test.squeeze(), y_hat, scatter_kws={\"color\": \"green\"}, line_kws={\"color\": \"red\" ,'linewidth':3}, ax=ax1)\n",
        "ax1.annotate('y_hat = {} + {}(Engine_Size) + {}(Cylinders) + {}(Comb_MPG)'.format(np.round(model_intercept), \n",
        "                                                             np.round(model_slope[0]), \n",
        "                                                             np.round(model_slope[1]), \n",
        "                                                             np.round(model_slope[2])), \n",
        "                                                             xy=(140,420), \n",
        "                                                             rotation=32, \n",
        "                                                             fontsize=11.5, color='black')\n",
        "ax1.set_xlabel('CO2_EMISSIONS', fontsize=14)\n",
        "ax1.set_title('Regplot showing Prediction for our Sklearn Model')\n",
        "\n",
        "\n",
        "\n",
        "plt.show()"
      ],
      "execution_count": 0,
      "outputs": []
    },
    {
      "cell_type": "markdown",
      "metadata": {
        "id": "WSTzP3dQoM10",
        "colab_type": "text"
      },
      "source": [
        "## Summary"
      ]
    },
    {
      "cell_type": "markdown",
      "metadata": {
        "id": "CsyePOwxoNiX",
        "colab_type": "text"
      },
      "source": [
        "We have seen how multiple linear regression(MLR) works step by step using matrix algebra.\n",
        "We built a MLR Model from scratch by first determining correlated variables, determining multicolinearity and selecting 3 moderately linear-independent variables.\n",
        "Then we trained the model with the training data set using matrix multiplication in line with the least squares estimate formula and used the model to make predictions on the test data set that is not yet known to the model(out of sample data set).\n",
        "Then we evaluated the model using MSE, RMSE and r2_score and compared it to a model from sklearn library."
      ]
    },
    {
      "cell_type": "markdown",
      "metadata": {
        "id": "MqrtOXHzo9QH",
        "colab_type": "text"
      },
      "source": [
        "Our Model performed quite good on the out-of-sample data set.<br>\n",
        "With an error_margin of only 4.6% of the target variable range and a coefficient of determination of 0.85 out of 1.0"
      ]
    }
  ]
}