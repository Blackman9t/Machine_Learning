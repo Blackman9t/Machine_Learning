{
  "nbformat": 4,
  "nbformat_minor": 0,
  "metadata": {
    "colab": {
      "name": "coefficients_of_multiple_linear_regression.ipynb",
      "version": "0.3.2",
      "provenance": [],
      "collapsed_sections": [],
      "include_colab_link": true
    },
    "kernelspec": {
      "name": "python3",
      "display_name": "Python 3"
    }
  },
  "cells": [
    {
      "cell_type": "markdown",
      "metadata": {
        "id": "view-in-github",
        "colab_type": "text"
      },
      "source": [
        "<a href=\"https://colab.research.google.com/github/Blackman9t/Machine_Learning/blob/master/coefficients_of_multiple_linear_regression.ipynb\" target=\"_parent\"><img src=\"https://colab.research.google.com/assets/colab-badge.svg\" alt=\"Open In Colab\"/></a>"
      ]
    },
    {
      "cell_type": "markdown",
      "metadata": {
        "id": "lghukHiPLn4E",
        "colab_type": "text"
      },
      "source": [
        "### <font color='khaki'>Getting to understand Multiple Linear Regression better by walking through it's internal workings and computation.\n",
        "\n",
        "[stattrek.com](https://stattrek.com/multiple-regression/regression-coefficients.aspx?Tutorial=reg)"
      ]
    },
    {
      "cell_type": "code",
      "metadata": {
        "id": "QsSWslxGGGxn",
        "colab_type": "code",
        "colab": {}
      },
      "source": [
        "import numpy as np\n",
        "import pandas as pd\n",
        "import matplotlib.pyplot as plt\n",
        "import seaborn as sns"
      ],
      "execution_count": 0,
      "outputs": []
    },
    {
      "cell_type": "markdown",
      "metadata": {
        "id": "B-Eo1ihpHJ8O",
        "colab_type": "text"
      },
      "source": [
        "## Defining the scores table  like on the website"
      ]
    },
    {
      "cell_type": "code",
      "metadata": {
        "id": "9PsvB8kOFRBB",
        "colab_type": "code",
        "outputId": "26125352-7242-416d-9332-b24a3ed708a1",
        "colab": {
          "base_uri": "https://localhost:8080/",
          "height": 225
        }
      },
      "source": [
        "student_scores = pd.DataFrame({'Score':[100, 90, 80, 70, 60], 'IQ':[110, 120, 100, 90, 80,], 'Study_hours':[40, 30, 20, 0, 10]})\n",
        "\n",
        "student_scores.index.name='Student'\n",
        "\n",
        "student_scores.head()"
      ],
      "execution_count": 2,
      "outputs": [
        {
          "output_type": "execute_result",
          "data": {
            "text/html": [
              "<div>\n",
              "<style scoped>\n",
              "    .dataframe tbody tr th:only-of-type {\n",
              "        vertical-align: middle;\n",
              "    }\n",
              "\n",
              "    .dataframe tbody tr th {\n",
              "        vertical-align: top;\n",
              "    }\n",
              "\n",
              "    .dataframe thead th {\n",
              "        text-align: right;\n",
              "    }\n",
              "</style>\n",
              "<table border=\"1\" class=\"dataframe\">\n",
              "  <thead>\n",
              "    <tr style=\"text-align: right;\">\n",
              "      <th></th>\n",
              "      <th>Score</th>\n",
              "      <th>IQ</th>\n",
              "      <th>Study_hours</th>\n",
              "    </tr>\n",
              "    <tr>\n",
              "      <th>Student</th>\n",
              "      <th></th>\n",
              "      <th></th>\n",
              "      <th></th>\n",
              "    </tr>\n",
              "  </thead>\n",
              "  <tbody>\n",
              "    <tr>\n",
              "      <th>0</th>\n",
              "      <td>100</td>\n",
              "      <td>110</td>\n",
              "      <td>40</td>\n",
              "    </tr>\n",
              "    <tr>\n",
              "      <th>1</th>\n",
              "      <td>90</td>\n",
              "      <td>120</td>\n",
              "      <td>30</td>\n",
              "    </tr>\n",
              "    <tr>\n",
              "      <th>2</th>\n",
              "      <td>80</td>\n",
              "      <td>100</td>\n",
              "      <td>20</td>\n",
              "    </tr>\n",
              "    <tr>\n",
              "      <th>3</th>\n",
              "      <td>70</td>\n",
              "      <td>90</td>\n",
              "      <td>0</td>\n",
              "    </tr>\n",
              "    <tr>\n",
              "      <th>4</th>\n",
              "      <td>60</td>\n",
              "      <td>80</td>\n",
              "      <td>10</td>\n",
              "    </tr>\n",
              "  </tbody>\n",
              "</table>\n",
              "</div>"
            ],
            "text/plain": [
              "         Score   IQ  Study_hours\n",
              "Student                         \n",
              "0          100  110           40\n",
              "1           90  120           30\n",
              "2           80  100           20\n",
              "3           70   90            0\n",
              "4           60   80           10"
            ]
          },
          "metadata": {
            "tags": []
          },
          "execution_count": 2
        }
      ]
    },
    {
      "cell_type": "markdown",
      "metadata": {
        "id": "_G1CDfReHVk7",
        "colab_type": "text"
      },
      "source": [
        "## Defining Matrix $X$"
      ]
    },
    {
      "cell_type": "code",
      "metadata": {
        "id": "8TzsNfgwHx6f",
        "colab_type": "code",
        "outputId": "c68fc9f8-1252-4d03-b924-ba6db9e58534",
        "colab": {
          "base_uri": "https://localhost:8080/",
          "height": 225
        }
      },
      "source": [
        "X = student_scores.loc[:, ['IQ',\"Study_hours\"]]\n",
        "\n",
        "ones = np.ones(len(student_scores), dtype=int)\n",
        "\n",
        "X.insert(0, 'ones', ones)\n",
        "\n",
        "X.head()"
      ],
      "execution_count": 3,
      "outputs": [
        {
          "output_type": "execute_result",
          "data": {
            "text/html": [
              "<div>\n",
              "<style scoped>\n",
              "    .dataframe tbody tr th:only-of-type {\n",
              "        vertical-align: middle;\n",
              "    }\n",
              "\n",
              "    .dataframe tbody tr th {\n",
              "        vertical-align: top;\n",
              "    }\n",
              "\n",
              "    .dataframe thead th {\n",
              "        text-align: right;\n",
              "    }\n",
              "</style>\n",
              "<table border=\"1\" class=\"dataframe\">\n",
              "  <thead>\n",
              "    <tr style=\"text-align: right;\">\n",
              "      <th></th>\n",
              "      <th>ones</th>\n",
              "      <th>IQ</th>\n",
              "      <th>Study_hours</th>\n",
              "    </tr>\n",
              "    <tr>\n",
              "      <th>Student</th>\n",
              "      <th></th>\n",
              "      <th></th>\n",
              "      <th></th>\n",
              "    </tr>\n",
              "  </thead>\n",
              "  <tbody>\n",
              "    <tr>\n",
              "      <th>0</th>\n",
              "      <td>1</td>\n",
              "      <td>110</td>\n",
              "      <td>40</td>\n",
              "    </tr>\n",
              "    <tr>\n",
              "      <th>1</th>\n",
              "      <td>1</td>\n",
              "      <td>120</td>\n",
              "      <td>30</td>\n",
              "    </tr>\n",
              "    <tr>\n",
              "      <th>2</th>\n",
              "      <td>1</td>\n",
              "      <td>100</td>\n",
              "      <td>20</td>\n",
              "    </tr>\n",
              "    <tr>\n",
              "      <th>3</th>\n",
              "      <td>1</td>\n",
              "      <td>90</td>\n",
              "      <td>0</td>\n",
              "    </tr>\n",
              "    <tr>\n",
              "      <th>4</th>\n",
              "      <td>1</td>\n",
              "      <td>80</td>\n",
              "      <td>10</td>\n",
              "    </tr>\n",
              "  </tbody>\n",
              "</table>\n",
              "</div>"
            ],
            "text/plain": [
              "         ones   IQ  Study_hours\n",
              "Student                        \n",
              "0           1  110           40\n",
              "1           1  120           30\n",
              "2           1  100           20\n",
              "3           1   90            0\n",
              "4           1   80           10"
            ]
          },
          "metadata": {
            "tags": []
          },
          "execution_count": 3
        }
      ]
    },
    {
      "cell_type": "code",
      "metadata": {
        "id": "Tmo8PzCuKfM0",
        "colab_type": "code",
        "outputId": "93b0f214-f719-4d99-a6ef-8b690716226e",
        "colab": {
          "base_uri": "https://localhost:8080/",
          "height": 101
        }
      },
      "source": [
        "# Next we convert X to a Numpy array from a Data frame\n",
        "\n",
        "X = X.values\n",
        "\n",
        "X"
      ],
      "execution_count": 4,
      "outputs": [
        {
          "output_type": "execute_result",
          "data": {
            "text/plain": [
              "array([[  1, 110,  40],\n",
              "       [  1, 120,  30],\n",
              "       [  1, 100,  20],\n",
              "       [  1,  90,   0],\n",
              "       [  1,  80,  10]])"
            ]
          },
          "metadata": {
            "tags": []
          },
          "execution_count": 4
        }
      ]
    },
    {
      "cell_type": "markdown",
      "metadata": {
        "id": "zmj2SJbRILRl",
        "colab_type": "text"
      },
      "source": [
        "## Defining $X'$ or X Transpose"
      ]
    },
    {
      "cell_type": "code",
      "metadata": {
        "id": "xV2mf89zIScK",
        "colab_type": "code",
        "outputId": "c21af384-155a-46ef-8c01-5124b032f326",
        "colab": {
          "base_uri": "https://localhost:8080/",
          "height": 67
        }
      },
      "source": [
        "X_tp = X.transpose()\n",
        "\n",
        "X_tp"
      ],
      "execution_count": 5,
      "outputs": [
        {
          "output_type": "execute_result",
          "data": {
            "text/plain": [
              "array([[  1,   1,   1,   1,   1],\n",
              "       [110, 120, 100,  90,  80],\n",
              "       [ 40,  30,  20,   0,  10]])"
            ]
          },
          "metadata": {
            "tags": []
          },
          "execution_count": 5
        }
      ]
    },
    {
      "cell_type": "markdown",
      "metadata": {
        "id": "4goHC6OtIj8B",
        "colab_type": "text"
      },
      "source": [
        "#### Print out the shape of X and X'."
      ]
    },
    {
      "cell_type": "code",
      "metadata": {
        "id": "1xAUFA3XItcL",
        "colab_type": "code",
        "outputId": "1441afa5-471c-48fe-92cf-d522e5596e56",
        "colab": {
          "base_uri": "https://localhost:8080/",
          "height": 50
        }
      },
      "source": [
        "print('X shape is',X.shape,'\\nX-tanspose shape is',X_tp.shape)"
      ],
      "execution_count": 6,
      "outputs": [
        {
          "output_type": "stream",
          "text": [
            "X shape is (5, 3) \n",
            "X-tanspose shape is (3, 5)\n"
          ],
          "name": "stdout"
        }
      ]
    },
    {
      "cell_type": "markdown",
      "metadata": {
        "id": "dCjaoHp3JFr7",
        "colab_type": "text"
      },
      "source": [
        "## Post-multiply $X'$ by $X$... using matrix multiplication"
      ]
    },
    {
      "cell_type": "code",
      "metadata": {
        "id": "DJzEcJ0nJE8Q",
        "colab_type": "code",
        "outputId": "7bab47d5-391a-466b-e8db-2c7fc2941cdb",
        "colab": {
          "base_uri": "https://localhost:8080/",
          "height": 67
        }
      },
      "source": [
        "X_tp_X = np.matmul(X_tp, X)\n",
        "\n",
        "X_tp_X"
      ],
      "execution_count": 7,
      "outputs": [
        {
          "output_type": "execute_result",
          "data": {
            "text/plain": [
              "array([[    5,   500,   100],\n",
              "       [  500, 51000, 10800],\n",
              "       [  100, 10800,  3000]])"
            ]
          },
          "metadata": {
            "tags": []
          },
          "execution_count": 7
        }
      ]
    },
    {
      "cell_type": "markdown",
      "metadata": {
        "id": "bMi346K1LKoU",
        "colab_type": "text"
      },
      "source": [
        "Notice,  that so far we are getting exactly the same result as on the website [stattrek.com](https://stattrek.com/multiple-regression/regression-coefficients.aspx?Tutorial=reg)"
      ]
    },
    {
      "cell_type": "markdown",
      "metadata": {
        "id": "RDBp4eGnMKsZ",
        "colab_type": "text"
      },
      "source": [
        "## Next we define the inverse of $X'X$, just like in the website"
      ]
    },
    {
      "cell_type": "code",
      "metadata": {
        "id": "4G8S-KPyJBeT",
        "colab_type": "code",
        "outputId": "1fa999ae-1321-4940-8984-c75dbbd6d232",
        "colab": {
          "base_uri": "https://localhost:8080/",
          "height": 67
        }
      },
      "source": [
        "from numpy.linalg import inv\n",
        "\n",
        "inverse = inv(X_tp_X)\n",
        "\n",
        "inverse"
      ],
      "execution_count": 8,
      "outputs": [
        {
          "output_type": "execute_result",
          "data": {
            "text/plain": [
              "array([[ 2.02000000e+01, -2.33333333e-01,  1.66666667e-01],\n",
              "       [-2.33333333e-01,  2.77777778e-03, -2.22222222e-03],\n",
              "       [ 1.66666667e-01, -2.22222222e-03,  2.77777778e-03]])"
            ]
          },
          "metadata": {
            "tags": []
          },
          "execution_count": 8
        }
      ]
    },
    {
      "cell_type": "code",
      "metadata": {
        "id": "RMfqQHFYMfod",
        "colab_type": "code",
        "outputId": "52cd23aa-ecf0-4c6b-f62e-2ae173bc4fc7",
        "colab": {
          "base_uri": "https://localhost:8080/",
          "height": 67
        }
      },
      "source": [
        "# checking to make sure the same values as the website\n",
        "\n",
        "print(inverse[0,:])\n",
        "print(inverse[1,:])\n",
        "print(inverse[2,:])"
      ],
      "execution_count": 9,
      "outputs": [
        {
          "output_type": "stream",
          "text": [
            "[20.2        -0.23333333  0.16666667]\n",
            "[-0.23333333  0.00277778 -0.00222222]\n",
            "[ 0.16666667 -0.00222222  0.00277778]\n"
          ],
          "name": "stdout"
        }
      ]
    },
    {
      "cell_type": "markdown",
      "metadata": {
        "id": "DM4J6tTeNKSt",
        "colab_type": "text"
      },
      "source": [
        "everything is perfect up to this point"
      ]
    },
    {
      "cell_type": "code",
      "metadata": {
        "id": "dki3abPhnDDz",
        "colab_type": "code",
        "outputId": "d165151f-3ce7-4a95-f0ef-4f077e09eb65",
        "colab": {
          "base_uri": "https://localhost:8080/",
          "height": 34
        }
      },
      "source": [
        "X_tp.shape"
      ],
      "execution_count": 10,
      "outputs": [
        {
          "output_type": "execute_result",
          "data": {
            "text/plain": [
              "(3, 5)"
            ]
          },
          "metadata": {
            "tags": []
          },
          "execution_count": 10
        }
      ]
    },
    {
      "cell_type": "code",
      "metadata": {
        "id": "dLniC5yGnIep",
        "colab_type": "code",
        "outputId": "0b1cab35-6dbf-4d4d-bd55-5ae9b9a879ad",
        "colab": {
          "base_uri": "https://localhost:8080/",
          "height": 34
        }
      },
      "source": [
        "inverse.shape"
      ],
      "execution_count": 11,
      "outputs": [
        {
          "output_type": "execute_result",
          "data": {
            "text/plain": [
              "(3, 3)"
            ]
          },
          "metadata": {
            "tags": []
          },
          "execution_count": 11
        }
      ]
    },
    {
      "cell_type": "markdown",
      "metadata": {
        "id": "MRVwhb4LsPSs",
        "colab_type": "text"
      },
      "source": [
        "## Next we post-multiply $(X'X)^{-1}$ by $X'$ "
      ]
    },
    {
      "cell_type": "code",
      "metadata": {
        "id": "RdLDdJ_ZltZG",
        "colab_type": "code",
        "outputId": "00675953-46cc-4873-e9ce-98b13dc60873",
        "colab": {
          "base_uri": "https://localhost:8080/",
          "height": 118
        }
      },
      "source": [
        "X_tp_inverse = np.matmul(inverse, X_tp)\n",
        "\n",
        "X_tp_inverse"
      ],
      "execution_count": 12,
      "outputs": [
        {
          "output_type": "execute_result",
          "data": {
            "text/plain": [
              "array([[ 1.20000000e+00, -2.80000000e+00,  2.00000000e-01,\n",
              "        -8.00000000e-01,  3.20000000e+00],\n",
              "       [-1.66666667e-02,  3.33333333e-02,  1.73472348e-17,\n",
              "         1.66666667e-02, -3.33333333e-02],\n",
              "       [ 3.33333333e-02, -1.66666667e-02, -1.73472348e-17,\n",
              "        -3.33333333e-02,  1.66666667e-02]])"
            ]
          },
          "metadata": {
            "tags": []
          },
          "execution_count": 12
        }
      ]
    },
    {
      "cell_type": "code",
      "metadata": {
        "id": "EFPSxUQpnhqz",
        "colab_type": "code",
        "outputId": "9a1a3ec7-ecde-40f9-a69c-0c2d9e8b587a",
        "colab": {
          "base_uri": "https://localhost:8080/",
          "height": 34
        }
      },
      "source": [
        "X_tp_inverse.shape"
      ],
      "execution_count": 13,
      "outputs": [
        {
          "output_type": "execute_result",
          "data": {
            "text/plain": [
              "(3, 5)"
            ]
          },
          "metadata": {
            "tags": []
          },
          "execution_count": 13
        }
      ]
    },
    {
      "cell_type": "markdown",
      "metadata": {
        "id": "fnJ1bgmLNVpR",
        "colab_type": "text"
      },
      "source": [
        "## Next we define the $Y$ variable"
      ]
    },
    {
      "cell_type": "code",
      "metadata": {
        "id": "vtdORPdkNPAQ",
        "colab_type": "code",
        "outputId": "15bd7191-abcd-4b77-ac7a-75e030a10209",
        "colab": {
          "base_uri": "https://localhost:8080/",
          "height": 34
        }
      },
      "source": [
        "Y = student_scores.Score.values\n",
        "\n",
        "Y"
      ],
      "execution_count": 14,
      "outputs": [
        {
          "output_type": "execute_result",
          "data": {
            "text/plain": [
              "array([100,  90,  80,  70,  60])"
            ]
          },
          "metadata": {
            "tags": []
          },
          "execution_count": 14
        }
      ]
    },
    {
      "cell_type": "code",
      "metadata": {
        "id": "jZ57MBUNphKD",
        "colab_type": "code",
        "outputId": "23589382-1baa-4aae-80ef-fdecc3cbfad5",
        "colab": {
          "base_uri": "https://localhost:8080/",
          "height": 34
        }
      },
      "source": [
        "Y.shape"
      ],
      "execution_count": 15,
      "outputs": [
        {
          "output_type": "execute_result",
          "data": {
            "text/plain": [
              "(5,)"
            ]
          },
          "metadata": {
            "tags": []
          },
          "execution_count": 15
        }
      ]
    },
    {
      "cell_type": "markdown",
      "metadata": {
        "id": "rB5Waw2DOHpm",
        "colab_type": "text"
      },
      "source": [
        "## Calculating the slope or coefficients"
      ]
    },
    {
      "cell_type": "markdown",
      "metadata": {
        "id": "_V0F5xHONnFw",
        "colab_type": "text"
      },
      "source": [
        "<h2><font color='khaki'>$ b = (X'X)^{-1}X'Y $</h2>"
      ]
    },
    {
      "cell_type": "markdown",
      "metadata": {
        "id": "9gdsAfBFPHoG",
        "colab_type": "text"
      },
      "source": [
        "## Finally we Post-multiply $(X'X)^{-1}X'$ by $Y$ to get the coefficients of the MLR model"
      ]
    },
    {
      "cell_type": "code",
      "metadata": {
        "id": "H-BpaLZBptV9",
        "colab_type": "code",
        "outputId": "523f5f38-034d-418d-e2b3-1c0e768ef28b",
        "colab": {
          "base_uri": "https://localhost:8080/",
          "height": 34
        }
      },
      "source": [
        "coefficients = np.matmul(X_tp_inverse, Y)\n",
        "\n",
        "coefficients"
      ],
      "execution_count": 16,
      "outputs": [
        {
          "output_type": "execute_result",
          "data": {
            "text/plain": [
              "array([20. ,  0.5,  0.5])"
            ]
          },
          "metadata": {
            "tags": []
          },
          "execution_count": 16
        }
      ]
    },
    {
      "cell_type": "markdown",
      "metadata": {
        "id": "Uw-32wc6tddp",
        "colab_type": "text"
      },
      "source": [
        "## $y_{hat} = b0 + b1x1 + b2x2$"
      ]
    },
    {
      "cell_type": "markdown",
      "metadata": {
        "id": "W6M9mh_4t096",
        "colab_type": "text"
      },
      "source": [
        "which now means"
      ]
    },
    {
      "cell_type": "markdown",
      "metadata": {
        "id": "J3NB9GMwt6DQ",
        "colab_type": "text"
      },
      "source": [
        "## $y_{hat} = 20 + 0.5x1 + 0.5x2$"
      ]
    },
    {
      "cell_type": "markdown",
      "metadata": {
        "id": "bq0M3aONvoyi",
        "colab_type": "text"
      },
      "source": [
        "which now means"
      ]
    },
    {
      "cell_type": "markdown",
      "metadata": {
        "id": "IAMd0zRCvub_",
        "colab_type": "text"
      },
      "source": [
        "## $y_{hat} = 20 + 0.5(IQ) + 0.5(Study-hours)$"
      ]
    },
    {
      "cell_type": "markdown",
      "metadata": {
        "id": "d0w_im23eRwU",
        "colab_type": "text"
      },
      "source": [
        "# <font color='khaki'>Part Two\n",
        "\n",
        "# Real World Data"
      ]
    },
    {
      "cell_type": "markdown",
      "metadata": {
        "id": "6Wt-8B-dfTJz",
        "colab_type": "text"
      },
      "source": [
        "### Let's extrapolate on our learnings and apply these concepts to real live data"
      ]
    },
    {
      "cell_type": "markdown",
      "metadata": {
        "id": "IRPSJQxZgXRl",
        "colab_type": "text"
      },
      "source": [
        "Let's download the data set from Git-hub"
      ]
    },
    {
      "cell_type": "code",
      "metadata": {
        "id": "dI8g447-tZ5K",
        "colab_type": "code",
        "colab": {}
      },
      "source": [
        "# Let's import our Data set\n",
        "data = \"https://raw.githubusercontent.com/Blackman9t/Machine_Learning/master/Original_2000_2014_Fuel_Consumption_Ratings.csv\"\n",
        "\n",
        "# Next let's define additional usual representation of null values to help us select and deal with null data\n",
        "missing_data = ['n/a','na','--','?']"
      ],
      "execution_count": 0,
      "outputs": []
    },
    {
      "cell_type": "code",
      "metadata": {
        "id": "qG40elHRgh_o",
        "colab_type": "code",
        "outputId": "70fd30b3-2fe5-453f-f265-3136c711450a",
        "colab": {
          "base_uri": "https://localhost:8080/",
          "height": 215
        }
      },
      "source": [
        "fuel_df = pd.read_csv(data, na_values=missing_data)\n",
        "\n",
        "fuel_df.head()"
      ],
      "execution_count": 18,
      "outputs": [
        {
          "output_type": "execute_result",
          "data": {
            "text/html": [
              "<div>\n",
              "<style scoped>\n",
              "    .dataframe tbody tr th:only-of-type {\n",
              "        vertical-align: middle;\n",
              "    }\n",
              "\n",
              "    .dataframe tbody tr th {\n",
              "        vertical-align: top;\n",
              "    }\n",
              "\n",
              "    .dataframe thead th {\n",
              "        text-align: right;\n",
              "    }\n",
              "</style>\n",
              "<table border=\"1\" class=\"dataframe\">\n",
              "  <thead>\n",
              "    <tr style=\"text-align: right;\">\n",
              "      <th></th>\n",
              "      <th>MODEL_YEAR</th>\n",
              "      <th>MAKE</th>\n",
              "      <th>MODEL</th>\n",
              "      <th>VEHICLE_CLASS</th>\n",
              "      <th>ENGINE_SIZE(L)</th>\n",
              "      <th>CYLINDERS</th>\n",
              "      <th>TRANSMISSION</th>\n",
              "      <th>FUEL_TYPE</th>\n",
              "      <th>FUEL_CONSUMPTION_CITY(L/100km)</th>\n",
              "      <th>HWY_(L/100km)</th>\n",
              "      <th>COMB_(L/100km)</th>\n",
              "      <th>COMB_(mpg)</th>\n",
              "      <th>CO2_EMISSIONS(g/km)</th>\n",
              "    </tr>\n",
              "  </thead>\n",
              "  <tbody>\n",
              "    <tr>\n",
              "      <th>0</th>\n",
              "      <td>2000</td>\n",
              "      <td>ACURA</td>\n",
              "      <td>1.6EL</td>\n",
              "      <td>COMPACT</td>\n",
              "      <td>1.6</td>\n",
              "      <td>4</td>\n",
              "      <td>A4</td>\n",
              "      <td>X</td>\n",
              "      <td>9.2</td>\n",
              "      <td>6.7</td>\n",
              "      <td>8.1</td>\n",
              "      <td>35</td>\n",
              "      <td>186</td>\n",
              "    </tr>\n",
              "    <tr>\n",
              "      <th>1</th>\n",
              "      <td>2000</td>\n",
              "      <td>ACURA</td>\n",
              "      <td>1.6EL</td>\n",
              "      <td>COMPACT</td>\n",
              "      <td>1.6</td>\n",
              "      <td>4</td>\n",
              "      <td>M5</td>\n",
              "      <td>X</td>\n",
              "      <td>8.5</td>\n",
              "      <td>6.5</td>\n",
              "      <td>7.6</td>\n",
              "      <td>37</td>\n",
              "      <td>175</td>\n",
              "    </tr>\n",
              "    <tr>\n",
              "      <th>2</th>\n",
              "      <td>2000</td>\n",
              "      <td>ACURA</td>\n",
              "      <td>3.2TL</td>\n",
              "      <td>MID-SIZE</td>\n",
              "      <td>3.2</td>\n",
              "      <td>6</td>\n",
              "      <td>AS5</td>\n",
              "      <td>Z</td>\n",
              "      <td>12.2</td>\n",
              "      <td>7.4</td>\n",
              "      <td>10.0</td>\n",
              "      <td>28</td>\n",
              "      <td>230</td>\n",
              "    </tr>\n",
              "    <tr>\n",
              "      <th>3</th>\n",
              "      <td>2000</td>\n",
              "      <td>ACURA</td>\n",
              "      <td>3.5RL</td>\n",
              "      <td>MID-SIZE</td>\n",
              "      <td>3.5</td>\n",
              "      <td>6</td>\n",
              "      <td>A4</td>\n",
              "      <td>Z</td>\n",
              "      <td>13.4</td>\n",
              "      <td>9.2</td>\n",
              "      <td>11.5</td>\n",
              "      <td>25</td>\n",
              "      <td>264</td>\n",
              "    </tr>\n",
              "    <tr>\n",
              "      <th>4</th>\n",
              "      <td>2000</td>\n",
              "      <td>ACURA</td>\n",
              "      <td>INTEGRA</td>\n",
              "      <td>SUBCOMPACT</td>\n",
              "      <td>1.8</td>\n",
              "      <td>4</td>\n",
              "      <td>A4</td>\n",
              "      <td>X</td>\n",
              "      <td>10.0</td>\n",
              "      <td>7.0</td>\n",
              "      <td>8.6</td>\n",
              "      <td>33</td>\n",
              "      <td>198</td>\n",
              "    </tr>\n",
              "  </tbody>\n",
              "</table>\n",
              "</div>"
            ],
            "text/plain": [
              "   MODEL_YEAR   MAKE    MODEL  ... COMB_(L/100km)  COMB_(mpg)  CO2_EMISSIONS(g/km)\n",
              "0        2000  ACURA    1.6EL  ...            8.1          35                  186\n",
              "1        2000  ACURA    1.6EL  ...            7.6          37                  175\n",
              "2        2000  ACURA    3.2TL  ...           10.0          28                  230\n",
              "3        2000  ACURA    3.5RL  ...           11.5          25                  264\n",
              "4        2000  ACURA  INTEGRA  ...            8.6          33                  198\n",
              "\n",
              "[5 rows x 13 columns]"
            ]
          },
          "metadata": {
            "tags": []
          },
          "execution_count": 18
        }
      ]
    },
    {
      "cell_type": "markdown",
      "metadata": {
        "id": "qPWfIua8io4w",
        "colab_type": "text"
      },
      "source": [
        "let's explore the data "
      ]
    },
    {
      "cell_type": "code",
      "metadata": {
        "id": "3oNKBXJji4xW",
        "colab_type": "code",
        "outputId": "75e412a6-7841-445e-d70c-d1455d11d5dc",
        "colab": {
          "base_uri": "https://localhost:8080/",
          "height": 252
        }
      },
      "source": [
        "# let's check the data types per column or attribute are correct\n",
        "fuel_df.dtypes"
      ],
      "execution_count": 19,
      "outputs": [
        {
          "output_type": "execute_result",
          "data": {
            "text/plain": [
              "MODEL_YEAR                          int64\n",
              "MAKE                               object\n",
              "MODEL                              object\n",
              "VEHICLE_CLASS                      object\n",
              "ENGINE_SIZE(L)                    float64\n",
              "CYLINDERS                           int64\n",
              "TRANSMISSION                       object\n",
              "FUEL_TYPE                          object\n",
              "FUEL_CONSUMPTION_CITY(L/100km)    float64\n",
              "HWY_(L/100km)                     float64\n",
              "COMB_(L/100km)                    float64\n",
              "COMB_(mpg)                          int64\n",
              "CO2_EMISSIONS(g/km)                 int64\n",
              "dtype: object"
            ]
          },
          "metadata": {
            "tags": []
          },
          "execution_count": 19
        }
      ]
    },
    {
      "cell_type": "code",
      "metadata": {
        "id": "tL3TR8yDi8tz",
        "colab_type": "code",
        "outputId": "771d60dc-d1f8-4713-cb9f-23a515abb2bc",
        "colab": {
          "base_uri": "https://localhost:8080/",
          "height": 34
        }
      },
      "source": [
        "# Let's confirm the shape of the data type\n",
        "fuel_df.shape"
      ],
      "execution_count": 20,
      "outputs": [
        {
          "output_type": "execute_result",
          "data": {
            "text/plain": [
              "(14343, 13)"
            ]
          },
          "metadata": {
            "tags": []
          },
          "execution_count": 20
        }
      ]
    },
    {
      "cell_type": "code",
      "metadata": {
        "id": "Crfle784j0zo",
        "colab_type": "code",
        "outputId": "bf98548b-6f95-4379-e366-4394935b60b3",
        "colab": {
          "base_uri": "https://localhost:8080/",
          "height": 252
        }
      },
      "source": [
        "# Let's check for missing values\n",
        "fuel_df.isna().sum()"
      ],
      "execution_count": 21,
      "outputs": [
        {
          "output_type": "execute_result",
          "data": {
            "text/plain": [
              "MODEL_YEAR                        0\n",
              "MAKE                              0\n",
              "MODEL                             0\n",
              "VEHICLE_CLASS                     0\n",
              "ENGINE_SIZE(L)                    0\n",
              "CYLINDERS                         0\n",
              "TRANSMISSION                      0\n",
              "FUEL_TYPE                         0\n",
              "FUEL_CONSUMPTION_CITY(L/100km)    0\n",
              "HWY_(L/100km)                     0\n",
              "COMB_(L/100km)                    0\n",
              "COMB_(mpg)                        0\n",
              "CO2_EMISSIONS(g/km)               0\n",
              "dtype: int64"
            ]
          },
          "metadata": {
            "tags": []
          },
          "execution_count": 21
        }
      ]
    },
    {
      "cell_type": "code",
      "metadata": {
        "id": "veTRNCs1k9h5",
        "colab_type": "code",
        "colab": {}
      },
      "source": [
        "# Let's rename some column names for brevity\n",
        "fuel_df.rename(columns={'FUEL_CONSUMPTION_CITY(L/100km)':'FUEL_CONS_CITY', \n",
        "                        'ENGINE_SIZE(L)':'ENGINE_SIZE',\n",
        "                       'HWY_(L/100km)':'HWY_L100km',\n",
        "                       'COMB_(L/100km)':'COMB_L100km',\n",
        "                       'COMB_(mpg)':'COMB_MPG',\n",
        "                       'CO2_EMISSIONS(g/km)':'CO2_EMISSIONS'},\n",
        "                       inplace=True)"
      ],
      "execution_count": 0,
      "outputs": []
    },
    {
      "cell_type": "code",
      "metadata": {
        "id": "Uodvyz1AmUpU",
        "colab_type": "code",
        "outputId": "80406601-b4c6-43b4-ff80-48d6aa894427",
        "colab": {
          "base_uri": "https://localhost:8080/",
          "height": 195
        }
      },
      "source": [
        "# Let's display the renamed data set\n",
        "fuel_df.head()"
      ],
      "execution_count": 23,
      "outputs": [
        {
          "output_type": "execute_result",
          "data": {
            "text/html": [
              "<div>\n",
              "<style scoped>\n",
              "    .dataframe tbody tr th:only-of-type {\n",
              "        vertical-align: middle;\n",
              "    }\n",
              "\n",
              "    .dataframe tbody tr th {\n",
              "        vertical-align: top;\n",
              "    }\n",
              "\n",
              "    .dataframe thead th {\n",
              "        text-align: right;\n",
              "    }\n",
              "</style>\n",
              "<table border=\"1\" class=\"dataframe\">\n",
              "  <thead>\n",
              "    <tr style=\"text-align: right;\">\n",
              "      <th></th>\n",
              "      <th>MODEL_YEAR</th>\n",
              "      <th>MAKE</th>\n",
              "      <th>MODEL</th>\n",
              "      <th>VEHICLE_CLASS</th>\n",
              "      <th>ENGINE_SIZE</th>\n",
              "      <th>CYLINDERS</th>\n",
              "      <th>TRANSMISSION</th>\n",
              "      <th>FUEL_TYPE</th>\n",
              "      <th>FUEL_CONS_CITY</th>\n",
              "      <th>HWY_L100km</th>\n",
              "      <th>COMB_L100km</th>\n",
              "      <th>COMB_MPG</th>\n",
              "      <th>CO2_EMISSIONS</th>\n",
              "    </tr>\n",
              "  </thead>\n",
              "  <tbody>\n",
              "    <tr>\n",
              "      <th>0</th>\n",
              "      <td>2000</td>\n",
              "      <td>ACURA</td>\n",
              "      <td>1.6EL</td>\n",
              "      <td>COMPACT</td>\n",
              "      <td>1.6</td>\n",
              "      <td>4</td>\n",
              "      <td>A4</td>\n",
              "      <td>X</td>\n",
              "      <td>9.2</td>\n",
              "      <td>6.7</td>\n",
              "      <td>8.1</td>\n",
              "      <td>35</td>\n",
              "      <td>186</td>\n",
              "    </tr>\n",
              "    <tr>\n",
              "      <th>1</th>\n",
              "      <td>2000</td>\n",
              "      <td>ACURA</td>\n",
              "      <td>1.6EL</td>\n",
              "      <td>COMPACT</td>\n",
              "      <td>1.6</td>\n",
              "      <td>4</td>\n",
              "      <td>M5</td>\n",
              "      <td>X</td>\n",
              "      <td>8.5</td>\n",
              "      <td>6.5</td>\n",
              "      <td>7.6</td>\n",
              "      <td>37</td>\n",
              "      <td>175</td>\n",
              "    </tr>\n",
              "    <tr>\n",
              "      <th>2</th>\n",
              "      <td>2000</td>\n",
              "      <td>ACURA</td>\n",
              "      <td>3.2TL</td>\n",
              "      <td>MID-SIZE</td>\n",
              "      <td>3.2</td>\n",
              "      <td>6</td>\n",
              "      <td>AS5</td>\n",
              "      <td>Z</td>\n",
              "      <td>12.2</td>\n",
              "      <td>7.4</td>\n",
              "      <td>10.0</td>\n",
              "      <td>28</td>\n",
              "      <td>230</td>\n",
              "    </tr>\n",
              "    <tr>\n",
              "      <th>3</th>\n",
              "      <td>2000</td>\n",
              "      <td>ACURA</td>\n",
              "      <td>3.5RL</td>\n",
              "      <td>MID-SIZE</td>\n",
              "      <td>3.5</td>\n",
              "      <td>6</td>\n",
              "      <td>A4</td>\n",
              "      <td>Z</td>\n",
              "      <td>13.4</td>\n",
              "      <td>9.2</td>\n",
              "      <td>11.5</td>\n",
              "      <td>25</td>\n",
              "      <td>264</td>\n",
              "    </tr>\n",
              "    <tr>\n",
              "      <th>4</th>\n",
              "      <td>2000</td>\n",
              "      <td>ACURA</td>\n",
              "      <td>INTEGRA</td>\n",
              "      <td>SUBCOMPACT</td>\n",
              "      <td>1.8</td>\n",
              "      <td>4</td>\n",
              "      <td>A4</td>\n",
              "      <td>X</td>\n",
              "      <td>10.0</td>\n",
              "      <td>7.0</td>\n",
              "      <td>8.6</td>\n",
              "      <td>33</td>\n",
              "      <td>198</td>\n",
              "    </tr>\n",
              "  </tbody>\n",
              "</table>\n",
              "</div>"
            ],
            "text/plain": [
              "   MODEL_YEAR   MAKE    MODEL  ... COMB_L100km  COMB_MPG  CO2_EMISSIONS\n",
              "0        2000  ACURA    1.6EL  ...         8.1        35            186\n",
              "1        2000  ACURA    1.6EL  ...         7.6        37            175\n",
              "2        2000  ACURA    3.2TL  ...        10.0        28            230\n",
              "3        2000  ACURA    3.5RL  ...        11.5        25            264\n",
              "4        2000  ACURA  INTEGRA  ...         8.6        33            198\n",
              "\n",
              "[5 rows x 13 columns]"
            ]
          },
          "metadata": {
            "tags": []
          },
          "execution_count": 23
        }
      ]
    },
    {
      "cell_type": "code",
      "metadata": {
        "id": "CcAJmL6Tj7Mx",
        "colab_type": "code",
        "outputId": "0803d980-2a17-49cf-d64b-32026a341c80",
        "colab": {
          "base_uri": "https://localhost:8080/",
          "height": 453
        }
      },
      "source": [
        "# Let's plot the correlation of the data set using a heatmap from seaborn library\n",
        "corr_data = fuel_df.corr()\n",
        "\n",
        "plt.figure(figsize=(10, 6))\n",
        "sns.set_style('ticks')\n",
        "\n",
        "sns.heatmap(corr_data, annot=True)\n",
        "\n",
        "plt.show()"
      ],
      "execution_count": 56,
      "outputs": [
        {
          "output_type": "display_data",
          "data": {
            "image/png": "[encoded data removed]",
            "text/plain": [
              "<Figure size 720x432 with 2 Axes>"
            ]
          },
          "metadata": {
            "tags": []
          }
        }
      ]
    },
    {
      "cell_type": "markdown",
      "metadata": {
        "id": "xGbt0H4cEhWc",
        "colab_type": "text"
      },
      "source": [
        "The Top correlated variables with CO2_EMISSIONS"
      ]
    },
    {
      "cell_type": "code",
      "metadata": {
        "id": "YmOOLn3J_TTb",
        "colab_type": "code",
        "colab": {
          "base_uri": "https://localhost:8080/",
          "height": 225
        },
        "outputId": "f4055c47-e8d9-4734-9f9a-3d930727d56d"
      },
      "source": [
        "corrs = {'Variable_Name':['Engine_Size','Cylinders','Fuel_Cons_City','Hwy_L/100','Comb_L/100','Comb_mpg'],\n",
        "                'Corr_Amount':[round(fuel_df['ENGINE_SIZE'].corr(fuel_df.CO2_EMISSIONS),2),\n",
        "                               round(fuel_df['CYLINDERS'].corr(fuel_df.CO2_EMISSIONS),2),\n",
        "                               round(fuel_df['FUEL_CONS_CITY'].corr(fuel_df.CO2_EMISSIONS),2),\n",
        "                               round(fuel_df['HWY_L100km'].corr(fuel_df.CO2_EMISSIONS),2),\n",
        "                               round(fuel_df['COMB_L100km'].corr(fuel_df.CO2_EMISSIONS),2),\n",
        "                               round(fuel_df['COMB_MPG'].corr(fuel_df.CO2_EMISSIONS),2)],\n",
        "               'Description':['Strong Positive Correlation',\n",
        "                              'Strong Positive Correlation',\n",
        "                              'Strong Positive Correlation',\n",
        "                              'Strong Positive Correlation',\n",
        "                              'Strong Positive Correlation',\n",
        "                              'Strong Negative Correlation']}\n",
        "\n",
        "highest_corr = pd.DataFrame(highest_corr, index=[1,2,3,4,5,6])\n",
        "\n",
        "highest_corr"
      ],
      "execution_count": 65,
      "outputs": [
        {
          "output_type": "execute_result",
          "data": {
            "text/html": [
              "<div>\n",
              "<style scoped>\n",
              "    .dataframe tbody tr th:only-of-type {\n",
              "        vertical-align: middle;\n",
              "    }\n",
              "\n",
              "    .dataframe tbody tr th {\n",
              "        vertical-align: top;\n",
              "    }\n",
              "\n",
              "    .dataframe thead th {\n",
              "        text-align: right;\n",
              "    }\n",
              "</style>\n",
              "<table border=\"1\" class=\"dataframe\">\n",
              "  <thead>\n",
              "    <tr style=\"text-align: right;\">\n",
              "      <th></th>\n",
              "      <th>Variable_Name</th>\n",
              "      <th>Corr_Amount</th>\n",
              "      <th>Description</th>\n",
              "    </tr>\n",
              "  </thead>\n",
              "  <tbody>\n",
              "    <tr>\n",
              "      <th>1</th>\n",
              "      <td>Engine_Size</td>\n",
              "      <td>0.83</td>\n",
              "      <td>Strong Positive Correlation</td>\n",
              "    </tr>\n",
              "    <tr>\n",
              "      <th>2</th>\n",
              "      <td>Cylinders</td>\n",
              "      <td>0.80</td>\n",
              "      <td>Strong Positive Correlation</td>\n",
              "    </tr>\n",
              "    <tr>\n",
              "      <th>3</th>\n",
              "      <td>Fuel_Cons_City</td>\n",
              "      <td>0.92</td>\n",
              "      <td>Strong Positive Correlation</td>\n",
              "    </tr>\n",
              "    <tr>\n",
              "      <th>4</th>\n",
              "      <td>Hwy_L/100</td>\n",
              "      <td>0.89</td>\n",
              "      <td>Strong Positive Correlation</td>\n",
              "    </tr>\n",
              "    <tr>\n",
              "      <th>5</th>\n",
              "      <td>Comb_L/100</td>\n",
              "      <td>0.92</td>\n",
              "      <td>Strong Positive Correlation</td>\n",
              "    </tr>\n",
              "    <tr>\n",
              "      <th>6</th>\n",
              "      <td>Comb_mpg</td>\n",
              "      <td>-0.90</td>\n",
              "      <td>Strong Negative Correlation</td>\n",
              "    </tr>\n",
              "  </tbody>\n",
              "</table>\n",
              "</div>"
            ],
            "text/plain": [
              "    Variable_Name  Corr_Amount                  Description\n",
              "1     Engine_Size         0.83  Strong Positive Correlation\n",
              "2       Cylinders         0.80  Strong Positive Correlation\n",
              "3  Fuel_Cons_City         0.92  Strong Positive Correlation\n",
              "4       Hwy_L/100         0.89  Strong Positive Correlation\n",
              "5      Comb_L/100         0.92  Strong Positive Correlation\n",
              "6        Comb_mpg        -0.90  Strong Negative Correlation"
            ]
          },
          "metadata": {
            "tags": []
          },
          "execution_count": 65
        }
      ]
    },
    {
      "cell_type": "code",
      "metadata": {
        "id": "lNxz2XDHBloA",
        "colab_type": "code",
        "colab": {}
      },
      "source": [
        ""
      ],
      "execution_count": 0,
      "outputs": []
    },
    {
      "cell_type": "markdown",
      "metadata": {
        "id": "4lG6nEjKm6c4",
        "colab_type": "text"
      },
      "source": [
        "### Selecting our independent variables ($X$), an $m * n$ matrix and our dependent variable ($y$), a $m * 1$ vector"
      ]
    },
    {
      "cell_type": "markdown",
      "metadata": {
        "id": "a8v4-1E42jQa",
        "colab_type": "text"
      },
      "source": [
        "#### Let's first compile the data into training and testing data"
      ]
    },
    {
      "cell_type": "code",
      "metadata": {
        "id": "qJqP8jlWndXM",
        "colab_type": "code",
        "outputId": "fa2d0329-6369-4ea2-e0a6-349f8595433b",
        "colab": {
          "base_uri": "https://localhost:8080/",
          "height": 195
        }
      },
      "source": [
        "data = fuel_df[['ENGINE_SIZE','CYLINDERS','FUEL_CONS_CITY','COMB_MPG', 'CO2_EMISSIONS']]\n",
        "\n",
        "data.head()"
      ],
      "execution_count": 25,
      "outputs": [
        {
          "output_type": "execute_result",
          "data": {
            "text/html": [
              "<div>\n",
              "<style scoped>\n",
              "    .dataframe tbody tr th:only-of-type {\n",
              "        vertical-align: middle;\n",
              "    }\n",
              "\n",
              "    .dataframe tbody tr th {\n",
              "        vertical-align: top;\n",
              "    }\n",
              "\n",
              "    .dataframe thead th {\n",
              "        text-align: right;\n",
              "    }\n",
              "</style>\n",
              "<table border=\"1\" class=\"dataframe\">\n",
              "  <thead>\n",
              "    <tr style=\"text-align: right;\">\n",
              "      <th></th>\n",
              "      <th>ENGINE_SIZE</th>\n",
              "      <th>CYLINDERS</th>\n",
              "      <th>FUEL_CONS_CITY</th>\n",
              "      <th>COMB_MPG</th>\n",
              "      <th>CO2_EMISSIONS</th>\n",
              "    </tr>\n",
              "  </thead>\n",
              "  <tbody>\n",
              "    <tr>\n",
              "      <th>0</th>\n",
              "      <td>1.6</td>\n",
              "      <td>4</td>\n",
              "      <td>9.2</td>\n",
              "      <td>35</td>\n",
              "      <td>186</td>\n",
              "    </tr>\n",
              "    <tr>\n",
              "      <th>1</th>\n",
              "      <td>1.6</td>\n",
              "      <td>4</td>\n",
              "      <td>8.5</td>\n",
              "      <td>37</td>\n",
              "      <td>175</td>\n",
              "    </tr>\n",
              "    <tr>\n",
              "      <th>2</th>\n",
              "      <td>3.2</td>\n",
              "      <td>6</td>\n",
              "      <td>12.2</td>\n",
              "      <td>28</td>\n",
              "      <td>230</td>\n",
              "    </tr>\n",
              "    <tr>\n",
              "      <th>3</th>\n",
              "      <td>3.5</td>\n",
              "      <td>6</td>\n",
              "      <td>13.4</td>\n",
              "      <td>25</td>\n",
              "      <td>264</td>\n",
              "    </tr>\n",
              "    <tr>\n",
              "      <th>4</th>\n",
              "      <td>1.8</td>\n",
              "      <td>4</td>\n",
              "      <td>10.0</td>\n",
              "      <td>33</td>\n",
              "      <td>198</td>\n",
              "    </tr>\n",
              "  </tbody>\n",
              "</table>\n",
              "</div>"
            ],
            "text/plain": [
              "   ENGINE_SIZE  CYLINDERS  FUEL_CONS_CITY  COMB_MPG  CO2_EMISSIONS\n",
              "0          1.6          4             9.2        35            186\n",
              "1          1.6          4             8.5        37            175\n",
              "2          3.2          6            12.2        28            230\n",
              "3          3.5          6            13.4        25            264\n",
              "4          1.8          4            10.0        33            198"
            ]
          },
          "metadata": {
            "tags": []
          },
          "execution_count": 25
        }
      ]
    },
    {
      "cell_type": "markdown",
      "metadata": {
        "id": "WPfArGhi3f_n",
        "colab_type": "text"
      },
      "source": [
        "next we define the training data by making it 73% of the data selected at random "
      ]
    },
    {
      "cell_type": "code",
      "metadata": {
        "id": "ATQv-lDO25CR",
        "colab_type": "code",
        "outputId": "456524b3-67b6-4d15-937c-ba58449f1699",
        "colab": {
          "base_uri": "https://localhost:8080/",
          "height": 136
        }
      },
      "source": [
        "training_data = data.sample(frac=0.73, random_state=47)\n",
        "\n",
        "training_data.head(3)"
      ],
      "execution_count": 26,
      "outputs": [
        {
          "output_type": "execute_result",
          "data": {
            "text/html": [
              "<div>\n",
              "<style scoped>\n",
              "    .dataframe tbody tr th:only-of-type {\n",
              "        vertical-align: middle;\n",
              "    }\n",
              "\n",
              "    .dataframe tbody tr th {\n",
              "        vertical-align: top;\n",
              "    }\n",
              "\n",
              "    .dataframe thead th {\n",
              "        text-align: right;\n",
              "    }\n",
              "</style>\n",
              "<table border=\"1\" class=\"dataframe\">\n",
              "  <thead>\n",
              "    <tr style=\"text-align: right;\">\n",
              "      <th></th>\n",
              "      <th>ENGINE_SIZE</th>\n",
              "      <th>CYLINDERS</th>\n",
              "      <th>FUEL_CONS_CITY</th>\n",
              "      <th>COMB_MPG</th>\n",
              "      <th>CO2_EMISSIONS</th>\n",
              "    </tr>\n",
              "  </thead>\n",
              "  <tbody>\n",
              "    <tr>\n",
              "      <th>9054</th>\n",
              "      <td>3.0</td>\n",
              "      <td>6</td>\n",
              "      <td>11.9</td>\n",
              "      <td>28</td>\n",
              "      <td>232</td>\n",
              "    </tr>\n",
              "    <tr>\n",
              "      <th>14088</th>\n",
              "      <td>1.6</td>\n",
              "      <td>4</td>\n",
              "      <td>8.7</td>\n",
              "      <td>37</td>\n",
              "      <td>177</td>\n",
              "    </tr>\n",
              "    <tr>\n",
              "      <th>7891</th>\n",
              "      <td>3.5</td>\n",
              "      <td>6</td>\n",
              "      <td>11.6</td>\n",
              "      <td>29</td>\n",
              "      <td>223</td>\n",
              "    </tr>\n",
              "  </tbody>\n",
              "</table>\n",
              "</div>"
            ],
            "text/plain": [
              "       ENGINE_SIZE  CYLINDERS  FUEL_CONS_CITY  COMB_MPG  CO2_EMISSIONS\n",
              "9054           3.0          6            11.9        28            232\n",
              "14088          1.6          4             8.7        37            177\n",
              "7891           3.5          6            11.6        29            223"
            ]
          },
          "metadata": {
            "tags": []
          },
          "execution_count": 26
        }
      ]
    },
    {
      "cell_type": "markdown",
      "metadata": {
        "id": "u2yVTc0S3t7g",
        "colab_type": "text"
      },
      "source": [
        "next we define the remaining 27% of the data as testing data"
      ]
    },
    {
      "cell_type": "code",
      "metadata": {
        "id": "bMpkCG1F38tt",
        "colab_type": "code",
        "colab": {}
      },
      "source": [
        "# Now to find the index of the remaining 20% of the data to use as our random test data,\n",
        "# we do the following to extract and cast it to a list:-\n",
        "# convert the entire index to a set and convert the training data index to a set too, \n",
        "# find the diff between the two and cast that difference to a list. \n",
        "\n",
        "testing_index = list(set(data.index.values).difference(set(training_data.index.values)))"
      ],
      "execution_count": 0,
      "outputs": []
    },
    {
      "cell_type": "code",
      "metadata": {
        "id": "cqncHW6_49lr",
        "colab_type": "code",
        "outputId": "db9aa5b2-f21e-4637-e56b-de30eaab9a9c",
        "colab": {
          "base_uri": "https://localhost:8080/",
          "height": 136
        }
      },
      "source": [
        "# And now we simply create a testing data set with only the index not in the training data set\n",
        "\n",
        "testing_data = data.iloc[testing_index, :]\n",
        "\n",
        "testing_data.head(3)"
      ],
      "execution_count": 28,
      "outputs": [
        {
          "output_type": "execute_result",
          "data": {
            "text/html": [
              "<div>\n",
              "<style scoped>\n",
              "    .dataframe tbody tr th:only-of-type {\n",
              "        vertical-align: middle;\n",
              "    }\n",
              "\n",
              "    .dataframe tbody tr th {\n",
              "        vertical-align: top;\n",
              "    }\n",
              "\n",
              "    .dataframe thead th {\n",
              "        text-align: right;\n",
              "    }\n",
              "</style>\n",
              "<table border=\"1\" class=\"dataframe\">\n",
              "  <thead>\n",
              "    <tr style=\"text-align: right;\">\n",
              "      <th></th>\n",
              "      <th>ENGINE_SIZE</th>\n",
              "      <th>CYLINDERS</th>\n",
              "      <th>FUEL_CONS_CITY</th>\n",
              "      <th>COMB_MPG</th>\n",
              "      <th>CO2_EMISSIONS</th>\n",
              "    </tr>\n",
              "  </thead>\n",
              "  <tbody>\n",
              "    <tr>\n",
              "      <th>3</th>\n",
              "      <td>3.5</td>\n",
              "      <td>6</td>\n",
              "      <td>13.4</td>\n",
              "      <td>25</td>\n",
              "      <td>264</td>\n",
              "    </tr>\n",
              "    <tr>\n",
              "      <th>8195</th>\n",
              "      <td>2.0</td>\n",
              "      <td>4</td>\n",
              "      <td>9.0</td>\n",
              "      <td>34</td>\n",
              "      <td>191</td>\n",
              "    </tr>\n",
              "    <tr>\n",
              "      <th>8197</th>\n",
              "      <td>3.5</td>\n",
              "      <td>6</td>\n",
              "      <td>12.2</td>\n",
              "      <td>27</td>\n",
              "      <td>237</td>\n",
              "    </tr>\n",
              "  </tbody>\n",
              "</table>\n",
              "</div>"
            ],
            "text/plain": [
              "      ENGINE_SIZE  CYLINDERS  FUEL_CONS_CITY  COMB_MPG  CO2_EMISSIONS\n",
              "3             3.5          6            13.4        25            264\n",
              "8195          2.0          4             9.0        34            191\n",
              "8197          3.5          6            12.2        27            237"
            ]
          },
          "metadata": {
            "tags": []
          },
          "execution_count": 28
        }
      ]
    },
    {
      "cell_type": "markdown",
      "metadata": {
        "id": "dIn1vtu35WuW",
        "colab_type": "text"
      },
      "source": [
        "Let's confirm the shapes of both training and testing data sets"
      ]
    },
    {
      "cell_type": "code",
      "metadata": {
        "id": "laDpirzb5edh",
        "colab_type": "code",
        "outputId": "abdfd7c1-05ab-4eb1-8bcb-d5d8dc541c8e",
        "colab": {
          "base_uri": "https://localhost:8080/",
          "height": 50
        }
      },
      "source": [
        "print('Training data shape is',training_data.shape)\n",
        "print('Testing data shape is',testing_data.shape)"
      ],
      "execution_count": 29,
      "outputs": [
        {
          "output_type": "stream",
          "text": [
            "Training data shape is (10470, 5)\n",
            "Testing data shape is (3873, 5)\n"
          ],
          "name": "stdout"
        }
      ]
    },
    {
      "cell_type": "markdown",
      "metadata": {
        "id": "N68vwtHn57_Q",
        "colab_type": "text"
      },
      "source": [
        "### Now let's define $X$ our $m * n$ matrix of the independent variables or features"
      ]
    },
    {
      "cell_type": "markdown",
      "metadata": {
        "id": "IHtpa7c17Q_n",
        "colab_type": "text"
      },
      "source": [
        "#### First the training data $X-train$"
      ]
    },
    {
      "cell_type": "code",
      "metadata": {
        "id": "p68LmnXD6SYb",
        "colab_type": "code",
        "outputId": "f8d1ed6a-b723-46db-8f60-fa6287ea3867",
        "colab": {
          "base_uri": "https://localhost:8080/",
          "height": 136
        }
      },
      "source": [
        "# The training data for our model\n",
        "\n",
        "X_train = training_data.iloc[:, :-1]\n",
        "X_train.head(3)"
      ],
      "execution_count": 30,
      "outputs": [
        {
          "output_type": "execute_result",
          "data": {
            "text/html": [
              "<div>\n",
              "<style scoped>\n",
              "    .dataframe tbody tr th:only-of-type {\n",
              "        vertical-align: middle;\n",
              "    }\n",
              "\n",
              "    .dataframe tbody tr th {\n",
              "        vertical-align: top;\n",
              "    }\n",
              "\n",
              "    .dataframe thead th {\n",
              "        text-align: right;\n",
              "    }\n",
              "</style>\n",
              "<table border=\"1\" class=\"dataframe\">\n",
              "  <thead>\n",
              "    <tr style=\"text-align: right;\">\n",
              "      <th></th>\n",
              "      <th>ENGINE_SIZE</th>\n",
              "      <th>CYLINDERS</th>\n",
              "      <th>FUEL_CONS_CITY</th>\n",
              "      <th>COMB_MPG</th>\n",
              "    </tr>\n",
              "  </thead>\n",
              "  <tbody>\n",
              "    <tr>\n",
              "      <th>9054</th>\n",
              "      <td>3.0</td>\n",
              "      <td>6</td>\n",
              "      <td>11.9</td>\n",
              "      <td>28</td>\n",
              "    </tr>\n",
              "    <tr>\n",
              "      <th>14088</th>\n",
              "      <td>1.6</td>\n",
              "      <td>4</td>\n",
              "      <td>8.7</td>\n",
              "      <td>37</td>\n",
              "    </tr>\n",
              "    <tr>\n",
              "      <th>7891</th>\n",
              "      <td>3.5</td>\n",
              "      <td>6</td>\n",
              "      <td>11.6</td>\n",
              "      <td>29</td>\n",
              "    </tr>\n",
              "  </tbody>\n",
              "</table>\n",
              "</div>"
            ],
            "text/plain": [
              "       ENGINE_SIZE  CYLINDERS  FUEL_CONS_CITY  COMB_MPG\n",
              "9054           3.0          6            11.9        28\n",
              "14088          1.6          4             8.7        37\n",
              "7891           3.5          6            11.6        29"
            ]
          },
          "metadata": {
            "tags": []
          },
          "execution_count": 30
        }
      ]
    },
    {
      "cell_type": "markdown",
      "metadata": {
        "id": "zEPDbawOosG-",
        "colab_type": "text"
      },
      "source": [
        "next, adding a column of 1's as bias unit or intercept to $X-train$ to make $X-train$ a:  $1 + m * n$ matrix"
      ]
    },
    {
      "cell_type": "code",
      "metadata": {
        "id": "UmhjCI9EqErZ",
        "colab_type": "code",
        "outputId": "ffdbd31a-9d6b-45c0-d6a7-091ca75e9ba6",
        "colab": {
          "base_uri": "https://localhost:8080/",
          "height": 136
        }
      },
      "source": [
        "ones = np.ones(len(X_train), dtype='int')\n",
        "\n",
        "X_train.insert(0, 'ones', ones)\n",
        "\n",
        "X_train.head(3)"
      ],
      "execution_count": 31,
      "outputs": [
        {
          "output_type": "execute_result",
          "data": {
            "text/html": [
              "<div>\n",
              "<style scoped>\n",
              "    .dataframe tbody tr th:only-of-type {\n",
              "        vertical-align: middle;\n",
              "    }\n",
              "\n",
              "    .dataframe tbody tr th {\n",
              "        vertical-align: top;\n",
              "    }\n",
              "\n",
              "    .dataframe thead th {\n",
              "        text-align: right;\n",
              "    }\n",
              "</style>\n",
              "<table border=\"1\" class=\"dataframe\">\n",
              "  <thead>\n",
              "    <tr style=\"text-align: right;\">\n",
              "      <th></th>\n",
              "      <th>ones</th>\n",
              "      <th>ENGINE_SIZE</th>\n",
              "      <th>CYLINDERS</th>\n",
              "      <th>FUEL_CONS_CITY</th>\n",
              "      <th>COMB_MPG</th>\n",
              "    </tr>\n",
              "  </thead>\n",
              "  <tbody>\n",
              "    <tr>\n",
              "      <th>9054</th>\n",
              "      <td>1</td>\n",
              "      <td>3.0</td>\n",
              "      <td>6</td>\n",
              "      <td>11.9</td>\n",
              "      <td>28</td>\n",
              "    </tr>\n",
              "    <tr>\n",
              "      <th>14088</th>\n",
              "      <td>1</td>\n",
              "      <td>1.6</td>\n",
              "      <td>4</td>\n",
              "      <td>8.7</td>\n",
              "      <td>37</td>\n",
              "    </tr>\n",
              "    <tr>\n",
              "      <th>7891</th>\n",
              "      <td>1</td>\n",
              "      <td>3.5</td>\n",
              "      <td>6</td>\n",
              "      <td>11.6</td>\n",
              "      <td>29</td>\n",
              "    </tr>\n",
              "  </tbody>\n",
              "</table>\n",
              "</div>"
            ],
            "text/plain": [
              "       ones  ENGINE_SIZE  CYLINDERS  FUEL_CONS_CITY  COMB_MPG\n",
              "9054      1          3.0          6            11.9        28\n",
              "14088     1          1.6          4             8.7        37\n",
              "7891      1          3.5          6            11.6        29"
            ]
          },
          "metadata": {
            "tags": []
          },
          "execution_count": 31
        }
      ]
    },
    {
      "cell_type": "markdown",
      "metadata": {
        "id": "BXbmZjVlqUPe",
        "colab_type": "text"
      },
      "source": [
        "next convert $X-train$ to a numpy array"
      ]
    },
    {
      "cell_type": "code",
      "metadata": {
        "id": "tCkwgsyEqTFU",
        "colab_type": "code",
        "outputId": "3769f591-cb0c-4ed2-cd75-4024bac7f855",
        "colab": {
          "base_uri": "https://localhost:8080/",
          "height": 134
        }
      },
      "source": [
        "X_train = X_train.values\n",
        "\n",
        "X_train"
      ],
      "execution_count": 32,
      "outputs": [
        {
          "output_type": "execute_result",
          "data": {
            "text/plain": [
              "array([[ 1. ,  3. ,  6. , 11.9, 28. ],\n",
              "       [ 1. ,  1.6,  4. ,  8.7, 37. ],\n",
              "       [ 1. ,  3.5,  6. , 11.6, 29. ],\n",
              "       ...,\n",
              "       [ 1. ,  2.3,  6. , 12.2, 27. ],\n",
              "       [ 1. ,  1.8,  4. , 10.1, 31. ],\n",
              "       [ 1. ,  1.6,  4. ,  9.5, 34. ]])"
            ]
          },
          "metadata": {
            "tags": []
          },
          "execution_count": 32
        }
      ]
    },
    {
      "cell_type": "markdown",
      "metadata": {
        "id": "lffs4wtA8K0r",
        "colab_type": "text"
      },
      "source": [
        "#### Next we do the above steps to define the $X-test$ data we would use to test the model"
      ]
    },
    {
      "cell_type": "code",
      "metadata": {
        "id": "5hmoCr9N-7mj",
        "colab_type": "code",
        "outputId": "43d4963d-7b05-4910-f456-0810acfe2f45",
        "colab": {
          "base_uri": "https://localhost:8080/",
          "height": 136
        }
      },
      "source": [
        "X_test = testing_data.iloc[:, :-1]\n",
        "X_test.head(3)"
      ],
      "execution_count": 33,
      "outputs": [
        {
          "output_type": "execute_result",
          "data": {
            "text/html": [
              "<div>\n",
              "<style scoped>\n",
              "    .dataframe tbody tr th:only-of-type {\n",
              "        vertical-align: middle;\n",
              "    }\n",
              "\n",
              "    .dataframe tbody tr th {\n",
              "        vertical-align: top;\n",
              "    }\n",
              "\n",
              "    .dataframe thead th {\n",
              "        text-align: right;\n",
              "    }\n",
              "</style>\n",
              "<table border=\"1\" class=\"dataframe\">\n",
              "  <thead>\n",
              "    <tr style=\"text-align: right;\">\n",
              "      <th></th>\n",
              "      <th>ENGINE_SIZE</th>\n",
              "      <th>CYLINDERS</th>\n",
              "      <th>FUEL_CONS_CITY</th>\n",
              "      <th>COMB_MPG</th>\n",
              "    </tr>\n",
              "  </thead>\n",
              "  <tbody>\n",
              "    <tr>\n",
              "      <th>3</th>\n",
              "      <td>3.5</td>\n",
              "      <td>6</td>\n",
              "      <td>13.4</td>\n",
              "      <td>25</td>\n",
              "    </tr>\n",
              "    <tr>\n",
              "      <th>8195</th>\n",
              "      <td>2.0</td>\n",
              "      <td>4</td>\n",
              "      <td>9.0</td>\n",
              "      <td>34</td>\n",
              "    </tr>\n",
              "    <tr>\n",
              "      <th>8197</th>\n",
              "      <td>3.5</td>\n",
              "      <td>6</td>\n",
              "      <td>12.2</td>\n",
              "      <td>27</td>\n",
              "    </tr>\n",
              "  </tbody>\n",
              "</table>\n",
              "</div>"
            ],
            "text/plain": [
              "      ENGINE_SIZE  CYLINDERS  FUEL_CONS_CITY  COMB_MPG\n",
              "3             3.5          6            13.4        25\n",
              "8195          2.0          4             9.0        34\n",
              "8197          3.5          6            12.2        27"
            ]
          },
          "metadata": {
            "tags": []
          },
          "execution_count": 33
        }
      ]
    },
    {
      "cell_type": "code",
      "metadata": {
        "id": "H4gOANPe_L1n",
        "colab_type": "code",
        "outputId": "b5f4feb4-a80c-49f0-9e3f-6decdd7c048b",
        "colab": {
          "base_uri": "https://localhost:8080/",
          "height": 136
        }
      },
      "source": [
        "# Adding a column of 1's as bias unit\n",
        "\n",
        "ones = np.ones(len(X_test), dtype='int')\n",
        "\n",
        "X_test.insert(0, 'ones', ones)\n",
        "\n",
        "X_test.head(3)"
      ],
      "execution_count": 34,
      "outputs": [
        {
          "output_type": "execute_result",
          "data": {
            "text/html": [
              "<div>\n",
              "<style scoped>\n",
              "    .dataframe tbody tr th:only-of-type {\n",
              "        vertical-align: middle;\n",
              "    }\n",
              "\n",
              "    .dataframe tbody tr th {\n",
              "        vertical-align: top;\n",
              "    }\n",
              "\n",
              "    .dataframe thead th {\n",
              "        text-align: right;\n",
              "    }\n",
              "</style>\n",
              "<table border=\"1\" class=\"dataframe\">\n",
              "  <thead>\n",
              "    <tr style=\"text-align: right;\">\n",
              "      <th></th>\n",
              "      <th>ones</th>\n",
              "      <th>ENGINE_SIZE</th>\n",
              "      <th>CYLINDERS</th>\n",
              "      <th>FUEL_CONS_CITY</th>\n",
              "      <th>COMB_MPG</th>\n",
              "    </tr>\n",
              "  </thead>\n",
              "  <tbody>\n",
              "    <tr>\n",
              "      <th>3</th>\n",
              "      <td>1</td>\n",
              "      <td>3.5</td>\n",
              "      <td>6</td>\n",
              "      <td>13.4</td>\n",
              "      <td>25</td>\n",
              "    </tr>\n",
              "    <tr>\n",
              "      <th>8195</th>\n",
              "      <td>1</td>\n",
              "      <td>2.0</td>\n",
              "      <td>4</td>\n",
              "      <td>9.0</td>\n",
              "      <td>34</td>\n",
              "    </tr>\n",
              "    <tr>\n",
              "      <th>8197</th>\n",
              "      <td>1</td>\n",
              "      <td>3.5</td>\n",
              "      <td>6</td>\n",
              "      <td>12.2</td>\n",
              "      <td>27</td>\n",
              "    </tr>\n",
              "  </tbody>\n",
              "</table>\n",
              "</div>"
            ],
            "text/plain": [
              "      ones  ENGINE_SIZE  CYLINDERS  FUEL_CONS_CITY  COMB_MPG\n",
              "3        1          3.5          6            13.4        25\n",
              "8195     1          2.0          4             9.0        34\n",
              "8197     1          3.5          6            12.2        27"
            ]
          },
          "metadata": {
            "tags": []
          },
          "execution_count": 34
        }
      ]
    },
    {
      "cell_type": "code",
      "metadata": {
        "id": "YuJmBnDw_had",
        "colab_type": "code",
        "outputId": "40fe46f6-afeb-4b10-ab94-dd150ae9b6e9",
        "colab": {
          "base_uri": "https://localhost:8080/",
          "height": 134
        }
      },
      "source": [
        "# Now we convert X_test to an array\n",
        "\n",
        "X_test = X_test.values\n",
        "\n",
        "X_test"
      ],
      "execution_count": 35,
      "outputs": [
        {
          "output_type": "execute_result",
          "data": {
            "text/plain": [
              "array([[ 1. ,  3.5,  6. , 13.4, 25. ],\n",
              "       [ 1. ,  2. ,  4. ,  9. , 34. ],\n",
              "       [ 1. ,  3.5,  6. , 12.2, 27. ],\n",
              "       ...,\n",
              "       [ 1. ,  2.4,  4. ,  9.8, 32. ],\n",
              "       [ 1. ,  2.4,  4. , 10.3, 32. ],\n",
              "       [ 1. ,  2.4,  4. ,  9.7, 34. ]])"
            ]
          },
          "metadata": {
            "tags": []
          },
          "execution_count": 35
        }
      ]
    },
    {
      "cell_type": "markdown",
      "metadata": {
        "id": "_VxMkKTS_1gx",
        "colab_type": "text"
      },
      "source": [
        "### Now let's define $y$ our $m * 1$ column vector of the dependent variable or target"
      ]
    },
    {
      "cell_type": "code",
      "metadata": {
        "id": "IYwrYmRo_zpk",
        "colab_type": "code",
        "outputId": "d0ffb4ef-f698-448a-d5ed-e58493ea5fec",
        "colab": {
          "base_uri": "https://localhost:8080/",
          "height": 134
        }
      },
      "source": [
        "# first we define y_train\n",
        "\n",
        "y_train = training_data.iloc[:, -1:].values\n",
        "\n",
        "y_train"
      ],
      "execution_count": 36,
      "outputs": [
        {
          "output_type": "execute_result",
          "data": {
            "text/plain": [
              "array([[232],\n",
              "       [177],\n",
              "       [223],\n",
              "       ...,\n",
              "       [237],\n",
              "       [207],\n",
              "       [189]])"
            ]
          },
          "metadata": {
            "tags": []
          },
          "execution_count": 36
        }
      ]
    },
    {
      "cell_type": "code",
      "metadata": {
        "id": "1U7jwoArAj9P",
        "colab_type": "code",
        "outputId": "fabd3e60-0c37-4bbb-fbe3-1dd3178f8b17",
        "colab": {
          "base_uri": "https://localhost:8080/",
          "height": 134
        }
      },
      "source": [
        "# next we define y_test\n",
        "\n",
        "y_test = testing_data.iloc[:, -1:].values\n",
        "\n",
        "y_test"
      ],
      "execution_count": 37,
      "outputs": [
        {
          "output_type": "execute_result",
          "data": {
            "text/plain": [
              "array([[264],\n",
              "       [191],\n",
              "       [237],\n",
              "       ...,\n",
              "       [202],\n",
              "       [202],\n",
              "       [191]])"
            ]
          },
          "metadata": {
            "tags": []
          },
          "execution_count": 37
        }
      ]
    },
    {
      "cell_type": "markdown",
      "metadata": {
        "id": "441iD5Ljelko",
        "colab_type": "text"
      },
      "source": [
        "## Model Development or Compiling-The-Model"
      ]
    },
    {
      "cell_type": "markdown",
      "metadata": {
        "id": "3BTb0yHbqlZQ",
        "colab_type": "text"
      },
      "source": [
        "next define $X'$ or $X$ transpose"
      ]
    },
    {
      "cell_type": "code",
      "metadata": {
        "id": "wTn7EemmpFkc",
        "colab_type": "code",
        "outputId": "941cb4b4-029c-4a33-cf46-6a6c6fdae11d",
        "colab": {
          "base_uri": "https://localhost:8080/",
          "height": 101
        }
      },
      "source": [
        "X_trans = X_train.transpose()\n",
        "\n",
        "X_trans"
      ],
      "execution_count": 38,
      "outputs": [
        {
          "output_type": "execute_result",
          "data": {
            "text/plain": [
              "array([[ 1. ,  1. ,  1. , ...,  1. ,  1. ,  1. ],\n",
              "       [ 3. ,  1.6,  3.5, ...,  2.3,  1.8,  1.6],\n",
              "       [ 6. ,  4. ,  6. , ...,  6. ,  4. ,  4. ],\n",
              "       [11.9,  8.7, 11.6, ..., 12.2, 10.1,  9.5],\n",
              "       [28. , 37. , 29. , ..., 27. , 31. , 34. ]])"
            ]
          },
          "metadata": {
            "tags": []
          },
          "execution_count": 38
        }
      ]
    },
    {
      "cell_type": "markdown",
      "metadata": {
        "id": "XrnXO9SorElL",
        "colab_type": "text"
      },
      "source": [
        "Next post-multiply $X'$ by $X$"
      ]
    },
    {
      "cell_type": "code",
      "metadata": {
        "id": "DfEMVpUYrMOi",
        "colab_type": "code",
        "outputId": "624f6cb4-28de-4cbc-ea1c-68991de159e7",
        "colab": {
          "base_uri": "https://localhost:8080/",
          "height": 101
        }
      },
      "source": [
        "X_trans_X = np.matmul(X_trans, X_train)\n",
        "\n",
        "X_trans_X"
      ],
      "execution_count": 39,
      "outputs": [
        {
          "output_type": "execute_result",
          "data": {
            "text/plain": [
              "array([[  10470.  ,   36336.7 ,   62725.  ,  135052.8 ,  286522.  ],\n",
              "       [  36336.7 ,  143975.85,  239737.3 ,  508132.51,  915467.6 ],\n",
              "       [  62725.  ,  239737.3 ,  409039.  ,  860567.7 , 1616006.  ],\n",
              "       [ 135052.8 ,  508132.51,  860567.7 , 1871908.76, 3440852.4 ],\n",
              "       [ 286522.  ,  915467.6 , 1616006.  , 3440852.4 , 8427362.  ]])"
            ]
          },
          "metadata": {
            "tags": []
          },
          "execution_count": 39
        }
      ]
    },
    {
      "cell_type": "markdown",
      "metadata": {
        "id": "BhBC9pHUrmRG",
        "colab_type": "text"
      },
      "source": [
        "Let's print out their corresponding shapes"
      ]
    },
    {
      "cell_type": "code",
      "metadata": {
        "id": "ni6plMgprqlK",
        "colab_type": "code",
        "outputId": "17ba75a9-b228-4be7-91bb-b7b0f2b823e3",
        "colab": {
          "base_uri": "https://localhost:8080/",
          "height": 67
        }
      },
      "source": [
        "print('Shape of X is',X_train.shape)\n",
        "print('Shape of X transpose is',X_trans.shape)\n",
        "print('Shape of X transpose X is',X_trans_X.shape)"
      ],
      "execution_count": 40,
      "outputs": [
        {
          "output_type": "stream",
          "text": [
            "Shape of X is (10470, 5)\n",
            "Shape of X transpose is (5, 10470)\n",
            "Shape of X transpose X is (5, 5)\n"
          ],
          "name": "stdout"
        }
      ]
    },
    {
      "cell_type": "markdown",
      "metadata": {
        "id": "IT2qrHGmsPMd",
        "colab_type": "text"
      },
      "source": [
        "Next we define the inverse of $X'X$ written as $(X'X)^{-1}$ using the linear algebra library(linalg) from numpy"
      ]
    },
    {
      "cell_type": "code",
      "metadata": {
        "id": "mrlbFG7csWkQ",
        "colab_type": "code",
        "outputId": "167491c8-726a-479c-adac-abd2d7ea849b",
        "colab": {
          "base_uri": "https://localhost:8080/",
          "height": 202
        }
      },
      "source": [
        "from numpy.linalg import inv\n",
        "\n",
        "X_trans_X_inv = inv(X_trans_X)\n",
        "\n",
        "print(\"Shape of inverse of X'X is\",X_trans_X_inv.shape)\n",
        "X_trans_X_inv"
      ],
      "execution_count": 41,
      "outputs": [
        {
          "output_type": "stream",
          "text": [
            "Shape of inverse of X'X is (5, 5)\n"
          ],
          "name": "stdout"
        },
        {
          "output_type": "execute_result",
          "data": {
            "text/plain": [
              "array([[ 3.38337058e-02, -8.01293531e-05, -1.55797930e-06,\n",
              "        -1.28516162e-03, -6.16583945e-04],\n",
              "       [-8.01293531e-05,  3.76575963e-04, -1.88406928e-04,\n",
              "        -2.42411229e-05,  7.84261804e-06],\n",
              "       [-1.55797930e-06, -1.88406928e-04,  1.72088451e-04,\n",
              "        -1.97154444e-05, -4.42976118e-06],\n",
              "       [-1.28516162e-03, -2.42411229e-05, -1.97154444e-05,\n",
              "         6.73073105e-05,  2.26268665e-05],\n",
              "       [-6.16583945e-04,  7.84261804e-06, -4.42976118e-06,\n",
              "         2.26268665e-05,  1.18409551e-05]])"
            ]
          },
          "metadata": {
            "tags": []
          },
          "execution_count": 41
        }
      ]
    },
    {
      "cell_type": "markdown",
      "metadata": {
        "id": "QGKgCwf3uzzv",
        "colab_type": "text"
      },
      "source": [
        "Next we post-multiply  $(X'X)^{-1}$ by $X'$ "
      ]
    },
    {
      "cell_type": "code",
      "metadata": {
        "id": "X1L-n92vv80N",
        "colab_type": "code",
        "outputId": "2baf1960-0e51-47c0-e4dd-b0fdf02b31b8",
        "colab": {
          "base_uri": "https://localhost:8080/",
          "height": 202
        }
      },
      "source": [
        "X_trans_X_inv_X_trans = np.matmul(X_trans_X_inv, X_trans)\n",
        "\n",
        "print(\"Shape of inverse of X'X by X' is\",X_trans_X_inv_X_trans.shape)\n",
        "X_trans_X_inv_X_trans"
      ],
      "execution_count": 42,
      "outputs": [
        {
          "output_type": "stream",
          "text": [
            "Shape of inverse of X'X by X' is (5, 10470)\n"
          ],
          "name": "stdout"
        },
        {
          "output_type": "execute_result",
          "data": {
            "text/plain": [
              "array([[ 1.02619623e-03, -2.95245047e-04,  7.55096093e-04, ...,\n",
              "         1.31332224e-03,  1.58900649e-03,  5.26377494e-04],\n",
              "       [-1.49719089e-04, -1.51956426e-04,  5.36838477e-05, ...,\n",
              "        -4.28437218e-04, -1.57634514e-04, -1.94877178e-04],\n",
              "       [ 1.07104839e-04,  4.99192086e-05,  1.43862472e-05, ...,\n",
              "         2.37504817e-04,  1.12147679e-05,  4.74361366e-05],\n",
              "       [-4.16683948e-05,  1.99584706e-05, -5.13542830e-05, ...,\n",
              "        -2.71342821e-05, -2.64207181e-05,  5.92371961e-06],\n",
              "       [-1.88282036e-05,  1.32142768e-05, -9.85399940e-06, ...,\n",
              "        -2.93709314e-05, -2.45853172e-05, -4.20709539e-06]])"
            ]
          },
          "metadata": {
            "tags": []
          },
          "execution_count": 42
        }
      ]
    },
    {
      "cell_type": "markdown",
      "metadata": {
        "id": "4SnTNH_ufBT8",
        "colab_type": "text"
      },
      "source": [
        "## Model Training or Fitting-The-Model"
      ]
    },
    {
      "cell_type": "markdown",
      "metadata": {
        "id": "ucr6b14wyNob",
        "colab_type": "text"
      },
      "source": [
        "Finally we find our coefficients by post-multiplying $(X'X)^{-1}X'$ by $y-train$"
      ]
    },
    {
      "cell_type": "code",
      "metadata": {
        "id": "YQQB_aLuyAy4",
        "colab_type": "code",
        "outputId": "466a0438-3f73-4707-e218-eb0ad451fd9c",
        "colab": {
          "base_uri": "https://localhost:8080/",
          "height": 118
        }
      },
      "source": [
        "coefficients = np.matmul(X_trans_X_inv_X_trans, y_train)\n",
        "\n",
        "print('Final shape of coefficients is',coefficients.shape)\n",
        "coefficients"
      ],
      "execution_count": 43,
      "outputs": [
        {
          "output_type": "stream",
          "text": [
            "Final shape of coefficients is (5, 1)\n"
          ],
          "name": "stdout"
        },
        {
          "output_type": "execute_result",
          "data": {
            "text/plain": [
              "array([[188.52046097],\n",
              "       [  5.33277744],\n",
              "       [  3.85299841],\n",
              "       [  7.08266566],\n",
              "       [ -2.66311109]])"
            ]
          },
          "metadata": {
            "tags": []
          },
          "execution_count": 43
        }
      ]
    },
    {
      "cell_type": "markdown",
      "metadata": {
        "id": "q6acDCYay8oJ",
        "colab_type": "text"
      },
      "source": [
        "### Thus our Multiple Linear Regression Model Ideal Parameters are:- "
      ]
    },
    {
      "cell_type": "code",
      "metadata": {
        "id": "hCU4smeuC4QH",
        "colab_type": "code",
        "outputId": "b48af5cd-4562-4d2d-c8c7-e4e6d823da7d",
        "colab": {
          "base_uri": "https://localhost:8080/",
          "height": 101
        }
      },
      "source": [
        "intercept = coefficients[0]\n",
        "\n",
        "b1 = coefficients[1]\n",
        "\n",
        "b2 = coefficients[2]\n",
        "\n",
        "b3 = coefficients[3]\n",
        "\n",
        "b4 = coefficients[4]\n",
        "\n",
        "print('Intercept or bias unit is:',intercept)\n",
        "print('b1 or slope for ENGINE_SIZE variable is:',b1)\n",
        "print('b2 or slope for CYLINDERS variable is:',b2)\n",
        "print('b3 or slope for FUEL_CONS_CITY variable is:',b3)\n",
        "print('b4 or slope for COMB_MPG variable is:',b4)"
      ],
      "execution_count": 44,
      "outputs": [
        {
          "output_type": "stream",
          "text": [
            "Intercept or bias unit is: [188.52046097]\n",
            "b1 or slope for ENGINE_SIZE variable is: [5.33277744]\n",
            "b2 or slope for CYLINDERS variable is: [3.85299841]\n",
            "b3 or slope for FUEL_CONS_CITY variable is: [7.08266566]\n",
            "b4 or slope for COMB_MPG variable is: [-2.66311109]\n"
          ],
          "name": "stdout"
        }
      ]
    },
    {
      "cell_type": "markdown",
      "metadata": {
        "id": "mxHbzurmQBeh",
        "colab_type": "text"
      },
      "source": [
        "## Model Evaluation"
      ]
    },
    {
      "cell_type": "markdown",
      "metadata": {
        "id": "M77oKO7pQGgQ",
        "colab_type": "text"
      },
      "source": [
        "#### Let's define a simple method for prediction"
      ]
    },
    {
      "cell_type": "code",
      "metadata": {
        "id": "c3ydmbaSGKnm",
        "colab_type": "code",
        "colab": {}
      },
      "source": [
        "def predict(x):\n",
        "    \"\"\" takes a row of test data and predicts it\n",
        "    and returns only the float value of the observation\"\"\"\n",
        "    x = list(x)\n",
        "    \n",
        "    x = x[0]*intercept + x[1]*b1 + x[2]*b2 + x[3]*b3 + x[4]*b4\n",
        "    \n",
        "    return x[0]  # returns the float of value of x"
      ],
      "execution_count": 0,
      "outputs": []
    },
    {
      "cell_type": "markdown",
      "metadata": {
        "id": "ihljpoLLQoto",
        "colab_type": "text"
      },
      "source": [
        "Next let's convert the test data to a Data frame so we can apply the predict method on it"
      ]
    },
    {
      "cell_type": "code",
      "metadata": {
        "id": "7gZDiu7wIaBU",
        "colab_type": "code",
        "outputId": "cacc91a7-d59e-44e6-a7dc-c60cd3d4509c",
        "colab": {
          "base_uri": "https://localhost:8080/",
          "height": 195
        }
      },
      "source": [
        "X_eval = pd.DataFrame(X_test)\n",
        "\n",
        "X_eval.head()"
      ],
      "execution_count": 46,
      "outputs": [
        {
          "output_type": "execute_result",
          "data": {
            "text/html": [
              "<div>\n",
              "<style scoped>\n",
              "    .dataframe tbody tr th:only-of-type {\n",
              "        vertical-align: middle;\n",
              "    }\n",
              "\n",
              "    .dataframe tbody tr th {\n",
              "        vertical-align: top;\n",
              "    }\n",
              "\n",
              "    .dataframe thead th {\n",
              "        text-align: right;\n",
              "    }\n",
              "</style>\n",
              "<table border=\"1\" class=\"dataframe\">\n",
              "  <thead>\n",
              "    <tr style=\"text-align: right;\">\n",
              "      <th></th>\n",
              "      <th>0</th>\n",
              "      <th>1</th>\n",
              "      <th>2</th>\n",
              "      <th>3</th>\n",
              "      <th>4</th>\n",
              "    </tr>\n",
              "  </thead>\n",
              "  <tbody>\n",
              "    <tr>\n",
              "      <th>0</th>\n",
              "      <td>1.0</td>\n",
              "      <td>3.5</td>\n",
              "      <td>6.0</td>\n",
              "      <td>13.4</td>\n",
              "      <td>25.0</td>\n",
              "    </tr>\n",
              "    <tr>\n",
              "      <th>1</th>\n",
              "      <td>1.0</td>\n",
              "      <td>2.0</td>\n",
              "      <td>4.0</td>\n",
              "      <td>9.0</td>\n",
              "      <td>34.0</td>\n",
              "    </tr>\n",
              "    <tr>\n",
              "      <th>2</th>\n",
              "      <td>1.0</td>\n",
              "      <td>3.5</td>\n",
              "      <td>6.0</td>\n",
              "      <td>12.2</td>\n",
              "      <td>27.0</td>\n",
              "    </tr>\n",
              "    <tr>\n",
              "      <th>3</th>\n",
              "      <td>1.0</td>\n",
              "      <td>1.8</td>\n",
              "      <td>4.0</td>\n",
              "      <td>9.4</td>\n",
              "      <td>34.0</td>\n",
              "    </tr>\n",
              "    <tr>\n",
              "      <th>4</th>\n",
              "      <td>1.0</td>\n",
              "      <td>6.1</td>\n",
              "      <td>8.0</td>\n",
              "      <td>16.0</td>\n",
              "      <td>21.0</td>\n",
              "    </tr>\n",
              "  </tbody>\n",
              "</table>\n",
              "</div>"
            ],
            "text/plain": [
              "     0    1    2     3     4\n",
              "0  1.0  3.5  6.0  13.4  25.0\n",
              "1  1.0  2.0  4.0   9.0  34.0\n",
              "2  1.0  3.5  6.0  12.2  27.0\n",
              "3  1.0  1.8  4.0   9.4  34.0\n",
              "4  1.0  6.1  8.0  16.0  21.0"
            ]
          },
          "metadata": {
            "tags": []
          },
          "execution_count": 46
        }
      ]
    },
    {
      "cell_type": "markdown",
      "metadata": {
        "id": "mKndu5mMQzSm",
        "colab_type": "text"
      },
      "source": [
        "Next let's apply the predict method and pass axis=1 so it's done along the columns<br>\n",
        "Then we convert it to a numpy ID array using the .values and assign it all to y_hat.<br>\n",
        "y_hat is then our model's prediction on the out-of-sample or test data set"
      ]
    },
    {
      "cell_type": "code",
      "metadata": {
        "id": "5d6OJXMALHxl",
        "colab_type": "code",
        "colab": {}
      },
      "source": [
        "y_hat = X_eval.apply(predict, axis=1).values"
      ],
      "execution_count": 0,
      "outputs": []
    },
    {
      "cell_type": "markdown",
      "metadata": {
        "id": "qwtwwNQNgGPE",
        "colab_type": "text"
      },
      "source": [
        "y_hat or our model prediction is now a numpy 1D array. This will be useful for plotting"
      ]
    },
    {
      "cell_type": "code",
      "metadata": {
        "id": "ME9eGBJYLPJV",
        "colab_type": "code",
        "outputId": "1fe97666-eac1-42dc-9c24-4d5ec62ea23f",
        "colab": {
          "base_uri": "https://localhost:8080/",
          "height": 50
        }
      },
      "source": [
        "y_hat"
      ],
      "execution_count": 48,
      "outputs": [
        {
          "output_type": "execute_result",
          "data": {
            "text/plain": [
              "array([258.63311518, 187.79622351, 244.80769421, ..., 200.92168918,\n",
              "       204.46302201, 194.88720045])"
            ]
          },
          "metadata": {
            "tags": []
          },
          "execution_count": 48
        }
      ]
    },
    {
      "cell_type": "markdown",
      "metadata": {
        "id": "hdO73AdjgCTN",
        "colab_type": "text"
      },
      "source": [
        "## Importing Metrics from Sklearn to evaluate the model"
      ]
    },
    {
      "cell_type": "code",
      "metadata": {
        "id": "Wstoq2SDEw4Y",
        "colab_type": "code",
        "colab": {}
      },
      "source": [
        "from sklearn.metrics import mean_squared_error, r2_score"
      ],
      "execution_count": 0,
      "outputs": []
    },
    {
      "cell_type": "markdown",
      "metadata": {
        "id": "WxixHWidTvQw",
        "colab_type": "text"
      },
      "source": [
        "Let's compute the Mean Squared Error"
      ]
    },
    {
      "cell_type": "code",
      "metadata": {
        "id": "GZJ3LkNNRMXT",
        "colab_type": "code",
        "outputId": "8720c1fb-eac2-4bbb-b2a9-90cebb767024",
        "colab": {
          "base_uri": "https://localhost:8080/",
          "height": 34
        }
      },
      "source": [
        "MSE = mean_squared_error(y_hat, y_test)\n",
        "MSE"
      ],
      "execution_count": 50,
      "outputs": [
        {
          "output_type": "execute_result",
          "data": {
            "text/plain": [
              "444.1983754997918"
            ]
          },
          "metadata": {
            "tags": []
          },
          "execution_count": 50
        }
      ]
    },
    {
      "cell_type": "markdown",
      "metadata": {
        "id": "hfGlx_UwT2k1",
        "colab_type": "text"
      },
      "source": [
        "Lets find the RMSE which is the square root of the MSE"
      ]
    },
    {
      "cell_type": "code",
      "metadata": {
        "id": "J9cg-EZQT4cT",
        "colab_type": "code",
        "outputId": "0c85bb28-464a-4650-abaf-654a91e5d365",
        "colab": {
          "base_uri": "https://localhost:8080/",
          "height": 34
        }
      },
      "source": [
        "RMSE = MSE**0.5\n",
        "\n",
        "RMSE"
      ],
      "execution_count": 51,
      "outputs": [
        {
          "output_type": "execute_result",
          "data": {
            "text/plain": [
              "21.076014222328467"
            ]
          },
          "metadata": {
            "tags": []
          },
          "execution_count": 51
        }
      ]
    },
    {
      "cell_type": "markdown",
      "metadata": {
        "id": "7NnaePlVUI_K",
        "colab_type": "text"
      },
      "source": [
        "**Finding the RMSE as a percentage of the range of the target variable.\n",
        "The lower the percentage the better the model**\n",
        "\n",
        "First we find the range of the target variable"
      ]
    },
    {
      "cell_type": "code",
      "metadata": {
        "id": "xlNmV1DMUIA3",
        "colab_type": "code",
        "outputId": "2d063ca1-4a9e-4423-8da9-545df3e8bd7d",
        "colab": {
          "base_uri": "https://localhost:8080/",
          "height": 34
        }
      },
      "source": [
        "y_range = y_test.max() - y_test.min()\n",
        "y_range"
      ],
      "execution_count": 52,
      "outputs": [
        {
          "output_type": "execute_result",
          "data": {
            "text/plain": [
              "439"
            ]
          },
          "metadata": {
            "tags": []
          },
          "execution_count": 52
        }
      ]
    },
    {
      "cell_type": "markdown",
      "metadata": {
        "id": "1lvurG8HVUM1",
        "colab_type": "text"
      },
      "source": [
        "Next we compute the RMSE as a percent of the range, the lower the error percent, the better the model"
      ]
    },
    {
      "cell_type": "code",
      "metadata": {
        "id": "aVlbNnqCVGvd",
        "colab_type": "code",
        "outputId": "49616307-b961-44fb-a042-36d219c4e0c7",
        "colab": {
          "base_uri": "https://localhost:8080/",
          "height": 34
        }
      },
      "source": [
        "error_margin = (RMSE / y_range) * 100\n",
        "\n",
        "error_margin"
      ],
      "execution_count": 53,
      "outputs": [
        {
          "output_type": "execute_result",
          "data": {
            "text/plain": [
              "4.800914401441565"
            ]
          },
          "metadata": {
            "tags": []
          },
          "execution_count": 53
        }
      ]
    },
    {
      "cell_type": "markdown",
      "metadata": {
        "id": "KdgcrIA9VkHA",
        "colab_type": "text"
      },
      "source": [
        "Finally let's compute the  R2  score or coefficient of determination of our model prediction.<br>\n",
        "This tells us how confident the model is on each prediction<br>\n",
        "The highest value is 1... So the closer to 1, the better the score"
      ]
    },
    {
      "cell_type": "code",
      "metadata": {
        "id": "Os1khJsSVk-H",
        "colab_type": "code",
        "outputId": "6622ee0a-f2eb-4390-d43a-f2e46204269b",
        "colab": {
          "base_uri": "https://localhost:8080/",
          "height": 34
        }
      },
      "source": [
        "r2_score(y_test, y_hat)  # pass in the true values first, then the predicted values."
      ],
      "execution_count": 54,
      "outputs": [
        {
          "output_type": "execute_result",
          "data": {
            "text/plain": [
              "0.8724117885849141"
            ]
          },
          "metadata": {
            "tags": []
          },
          "execution_count": 54
        }
      ]
    },
    {
      "cell_type": "markdown",
      "metadata": {
        "id": "x2jPJtaDWnM1",
        "colab_type": "text"
      },
      "source": [
        "## Visualization"
      ]
    },
    {
      "cell_type": "code",
      "metadata": {
        "id": "zXUpdaDCWqln",
        "colab_type": "code",
        "outputId": "4e9ae2dc-e4c6-4d50-b224-b2e0689c7bca",
        "colab": {
          "base_uri": "https://localhost:8080/",
          "height": 497
        }
      },
      "source": [
        "fig = plt.figure(figsize=(20, 7))\n",
        "plt.suptitle('Distplot and Regplot for Predictions of MLR Linear Algebra Model on Test data set', fontsize=16)\n",
        "\n",
        "ax = fig.add_subplot(121)\n",
        "ax1 = fig.add_subplot(122)\n",
        "\n",
        "# plotting the Distplot\n",
        "sns.distplot(y_test.squeeze(), hist=False, label='Target', color='navy', ax=ax)\n",
        "sns.distplot(y_hat.squeeze(), hist=False, label='Prediction', color='red', ax=ax)\n",
        "ax.set_xlabel('CO2_EMISSIONS', fontsize=14)\n",
        "ax.set_title('Distplot showing Prediction VS Actual for our Linear Algebra Model')\n",
        "\n",
        "# plotting the Regplot\n",
        "sns.regplot(y_test.squeeze(), y_hat, scatter_kws={\"color\": \"navy\"}, line_kws={\"color\": \"red\" ,'linewidth':3}, ax=ax1)\n",
        "ax1.annotate('y_hat = {} + {}(Engine_Size) + {}(Cylinders) + {}(Fuel_Cons) + {}(Comb_L)'.format(np.round(intercept), \n",
        "                                                             np.round(b1[0]), \n",
        "                                                             np.round(b2[0]), \n",
        "                                                             np.round(b3[0]),\n",
        "                                                             np.round(b4[0])), \n",
        "                                                             xy=(140,420), \n",
        "                                                             rotation=32, \n",
        "                                                             fontsize=11.5, color='black')\n",
        "ax1.set_xlabel('CO2_EMISSIONS', fontsize=14)\n",
        "ax1.set_title('Regplot showing Prediction for our MLR Model')\n",
        "\n",
        "\n",
        "\n",
        "plt.show()"
      ],
      "execution_count": 55,
      "outputs": [
        {
          "output_type": "display_data",
          "data": {
            "image/png": "[encoded data removed]",
            "text/plain": [
              "<Figure size 1440x504 with 2 Axes>"
            ]
          },
          "metadata": {
            "tags": []
          }
        }
      ]
    },
    {
      "cell_type": "markdown",
      "metadata": {
        "id": "WSTzP3dQoM10",
        "colab_type": "text"
      },
      "source": [
        "## Summary"
      ]
    },
    {
      "cell_type": "markdown",
      "metadata": {
        "id": "CsyePOwxoNiX",
        "colab_type": "text"
      },
      "source": [
        "We have seen how Multiple Linear regression works step by step using Simple Linear Algebra.<br>\n",
        "\n",
        "We built a MLR Model from scratch by first determining correlated variables, selecting four of them  and shaping them into a 2D array.<br>\n",
        "Then using pandas library to split the data into training and testing sets.<br>\n",
        "Then training the model with the tarining data set using the Matrix Multiplication,<br>\n",
        "And using the model to make predictions on the test data set that is not yet known to the model(out of sample data set)<br>\n",
        "Finally evaluating the model using MSE, RMSE and $R^2$ score."
      ]
    },
    {
      "cell_type": "markdown",
      "metadata": {
        "id": "MqrtOXHzo9QH",
        "colab_type": "text"
      },
      "source": [
        "Our Model performed quite good on the out-of-sample data set.<br>\n",
        "With an error_margin of only 4.8% of the target variable range and a coefficient of determination of 0.87 out of 1.0"
      ]
    }
  ]
}