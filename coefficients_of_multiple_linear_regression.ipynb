{
  "nbformat": 4,
  "nbformat_minor": 0,
  "metadata": {
    "colab": {
      "name": "coefficients_of_multiple_linear_regression.ipynb",
      "version": "0.3.2",
      "provenance": [],
      "collapsed_sections": [],
      "include_colab_link": true
    },
    "kernelspec": {
      "name": "python3",
      "display_name": "Python 3"
    }
  },
  "cells": [
    {
      "cell_type": "markdown",
      "metadata": {
        "id": "view-in-github",
        "colab_type": "text"
      },
      "source": [
        "<a href=\"https://colab.research.google.com/github/Blackman9t/Machine_Learning/blob/master/coefficients_of_multiple_linear_regression.ipynb\" target=\"_parent\"><img src=\"https://colab.research.google.com/assets/colab-badge.svg\" alt=\"Open In Colab\"/></a>"
      ]
    },
    {
      "cell_type": "markdown",
      "metadata": {
        "id": "lghukHiPLn4E",
        "colab_type": "text"
      },
      "source": [
        "### <font color='khaki'>Getting to understand Multiple Linear Regression better by walking through it's internal workings and computation.\n",
        "\n",
        "[stattrek.com](https://stattrek.com/multiple-regression/regression-coefficients.aspx?Tutorial=reg)"
      ]
    },
    {
      "cell_type": "code",
      "metadata": {
        "id": "QsSWslxGGGxn",
        "colab_type": "code",
        "colab": {}
      },
      "source": [
        "import numpy as np\n",
        "import pandas as pd\n",
        "import matplotlib.pyplot as plt"
      ],
      "execution_count": 0,
      "outputs": []
    },
    {
      "cell_type": "markdown",
      "metadata": {
        "id": "B-Eo1ihpHJ8O",
        "colab_type": "text"
      },
      "source": [
        "## Defining the scores table  like on the website"
      ]
    },
    {
      "cell_type": "code",
      "metadata": {
        "id": "9PsvB8kOFRBB",
        "colab_type": "code",
        "outputId": "03b296ca-991e-43f4-b47e-895070a39a98",
        "colab": {
          "base_uri": "https://localhost:8080/",
          "height": 225
        }
      },
      "source": [
        "student_scores = pd.DataFrame({'Score':[100, 90, 80, 70, 60], 'IQ':[110, 120, 100, 90, 80,], 'Study_hours':[40, 30, 20, 0, 10]})\n",
        "\n",
        "student_scores.index.name='Student'\n",
        "\n",
        "student_scores.head()"
      ],
      "execution_count": 0,
      "outputs": [
        {
          "output_type": "execute_result",
          "data": {
            "text/html": [
              "<div>\n",
              "<style scoped>\n",
              "    .dataframe tbody tr th:only-of-type {\n",
              "        vertical-align: middle;\n",
              "    }\n",
              "\n",
              "    .dataframe tbody tr th {\n",
              "        vertical-align: top;\n",
              "    }\n",
              "\n",
              "    .dataframe thead th {\n",
              "        text-align: right;\n",
              "    }\n",
              "</style>\n",
              "<table border=\"1\" class=\"dataframe\">\n",
              "  <thead>\n",
              "    <tr style=\"text-align: right;\">\n",
              "      <th></th>\n",
              "      <th>Score</th>\n",
              "      <th>IQ</th>\n",
              "      <th>Study_hours</th>\n",
              "    </tr>\n",
              "    <tr>\n",
              "      <th>Student</th>\n",
              "      <th></th>\n",
              "      <th></th>\n",
              "      <th></th>\n",
              "    </tr>\n",
              "  </thead>\n",
              "  <tbody>\n",
              "    <tr>\n",
              "      <th>0</th>\n",
              "      <td>100</td>\n",
              "      <td>110</td>\n",
              "      <td>40</td>\n",
              "    </tr>\n",
              "    <tr>\n",
              "      <th>1</th>\n",
              "      <td>90</td>\n",
              "      <td>120</td>\n",
              "      <td>30</td>\n",
              "    </tr>\n",
              "    <tr>\n",
              "      <th>2</th>\n",
              "      <td>80</td>\n",
              "      <td>100</td>\n",
              "      <td>20</td>\n",
              "    </tr>\n",
              "    <tr>\n",
              "      <th>3</th>\n",
              "      <td>70</td>\n",
              "      <td>90</td>\n",
              "      <td>0</td>\n",
              "    </tr>\n",
              "    <tr>\n",
              "      <th>4</th>\n",
              "      <td>60</td>\n",
              "      <td>80</td>\n",
              "      <td>10</td>\n",
              "    </tr>\n",
              "  </tbody>\n",
              "</table>\n",
              "</div>"
            ],
            "text/plain": [
              "         Score   IQ  Study_hours\n",
              "Student                         \n",
              "0          100  110           40\n",
              "1           90  120           30\n",
              "2           80  100           20\n",
              "3           70   90            0\n",
              "4           60   80           10"
            ]
          },
          "metadata": {
            "tags": []
          },
          "execution_count": 36
        }
      ]
    },
    {
      "cell_type": "markdown",
      "metadata": {
        "id": "_G1CDfReHVk7",
        "colab_type": "text"
      },
      "source": [
        "## Defining Matrix $X$"
      ]
    },
    {
      "cell_type": "code",
      "metadata": {
        "id": "8TzsNfgwHx6f",
        "colab_type": "code",
        "outputId": "18d6f2ce-46c5-4e86-cbf6-bb020a6b8e79",
        "colab": {
          "base_uri": "https://localhost:8080/",
          "height": 225
        }
      },
      "source": [
        "X = student_scores.loc[:, ['IQ',\"Study_hours\"]]\n",
        "\n",
        "ones = np.ones(len(student_scores), dtype=int)\n",
        "\n",
        "X.insert(0, 'ones', ones)\n",
        "\n",
        "X.head()"
      ],
      "execution_count": 0,
      "outputs": [
        {
          "output_type": "execute_result",
          "data": {
            "text/html": [
              "<div>\n",
              "<style scoped>\n",
              "    .dataframe tbody tr th:only-of-type {\n",
              "        vertical-align: middle;\n",
              "    }\n",
              "\n",
              "    .dataframe tbody tr th {\n",
              "        vertical-align: top;\n",
              "    }\n",
              "\n",
              "    .dataframe thead th {\n",
              "        text-align: right;\n",
              "    }\n",
              "</style>\n",
              "<table border=\"1\" class=\"dataframe\">\n",
              "  <thead>\n",
              "    <tr style=\"text-align: right;\">\n",
              "      <th></th>\n",
              "      <th>ones</th>\n",
              "      <th>IQ</th>\n",
              "      <th>Study_hours</th>\n",
              "    </tr>\n",
              "    <tr>\n",
              "      <th>Student</th>\n",
              "      <th></th>\n",
              "      <th></th>\n",
              "      <th></th>\n",
              "    </tr>\n",
              "  </thead>\n",
              "  <tbody>\n",
              "    <tr>\n",
              "      <th>0</th>\n",
              "      <td>1</td>\n",
              "      <td>110</td>\n",
              "      <td>40</td>\n",
              "    </tr>\n",
              "    <tr>\n",
              "      <th>1</th>\n",
              "      <td>1</td>\n",
              "      <td>120</td>\n",
              "      <td>30</td>\n",
              "    </tr>\n",
              "    <tr>\n",
              "      <th>2</th>\n",
              "      <td>1</td>\n",
              "      <td>100</td>\n",
              "      <td>20</td>\n",
              "    </tr>\n",
              "    <tr>\n",
              "      <th>3</th>\n",
              "      <td>1</td>\n",
              "      <td>90</td>\n",
              "      <td>0</td>\n",
              "    </tr>\n",
              "    <tr>\n",
              "      <th>4</th>\n",
              "      <td>1</td>\n",
              "      <td>80</td>\n",
              "      <td>10</td>\n",
              "    </tr>\n",
              "  </tbody>\n",
              "</table>\n",
              "</div>"
            ],
            "text/plain": [
              "         ones   IQ  Study_hours\n",
              "Student                        \n",
              "0           1  110           40\n",
              "1           1  120           30\n",
              "2           1  100           20\n",
              "3           1   90            0\n",
              "4           1   80           10"
            ]
          },
          "metadata": {
            "tags": []
          },
          "execution_count": 37
        }
      ]
    },
    {
      "cell_type": "code",
      "metadata": {
        "id": "Tmo8PzCuKfM0",
        "colab_type": "code",
        "outputId": "95ac2d7c-b6a0-485d-cc9c-0fa0cd4001d3",
        "colab": {
          "base_uri": "https://localhost:8080/",
          "height": 101
        }
      },
      "source": [
        "# Next we convert X to a Numpy array from a Data frame\n",
        "\n",
        "X = X.values\n",
        "\n",
        "X"
      ],
      "execution_count": 0,
      "outputs": [
        {
          "output_type": "execute_result",
          "data": {
            "text/plain": [
              "array([[  1, 110,  40],\n",
              "       [  1, 120,  30],\n",
              "       [  1, 100,  20],\n",
              "       [  1,  90,   0],\n",
              "       [  1,  80,  10]])"
            ]
          },
          "metadata": {
            "tags": []
          },
          "execution_count": 38
        }
      ]
    },
    {
      "cell_type": "markdown",
      "metadata": {
        "id": "zmj2SJbRILRl",
        "colab_type": "text"
      },
      "source": [
        "## Defining $X'$ or X Transpose"
      ]
    },
    {
      "cell_type": "code",
      "metadata": {
        "id": "xV2mf89zIScK",
        "colab_type": "code",
        "outputId": "ef7c6299-2e1f-4aba-91a7-30cdfb71e55d",
        "colab": {
          "base_uri": "https://localhost:8080/",
          "height": 67
        }
      },
      "source": [
        "X_tp = X.transpose()\n",
        "\n",
        "X_tp"
      ],
      "execution_count": 0,
      "outputs": [
        {
          "output_type": "execute_result",
          "data": {
            "text/plain": [
              "array([[  1,   1,   1,   1,   1],\n",
              "       [110, 120, 100,  90,  80],\n",
              "       [ 40,  30,  20,   0,  10]])"
            ]
          },
          "metadata": {
            "tags": []
          },
          "execution_count": 39
        }
      ]
    },
    {
      "cell_type": "markdown",
      "metadata": {
        "id": "4goHC6OtIj8B",
        "colab_type": "text"
      },
      "source": [
        "#### Print out the shape of X and X'."
      ]
    },
    {
      "cell_type": "code",
      "metadata": {
        "id": "1xAUFA3XItcL",
        "colab_type": "code",
        "outputId": "7d4ab95d-148f-49f6-9469-da431285ca1d",
        "colab": {
          "base_uri": "https://localhost:8080/",
          "height": 50
        }
      },
      "source": [
        "print('X shape is',X.shape,'\\nX-tanspose shape is',X_tp.shape)"
      ],
      "execution_count": 0,
      "outputs": [
        {
          "output_type": "stream",
          "text": [
            "X shape is (5, 3) \n",
            "X-tanspose shape is (3, 5)\n"
          ],
          "name": "stdout"
        }
      ]
    },
    {
      "cell_type": "markdown",
      "metadata": {
        "id": "dCjaoHp3JFr7",
        "colab_type": "text"
      },
      "source": [
        "## Premultiply $X'$ by $X$... using matrix multiplication"
      ]
    },
    {
      "cell_type": "code",
      "metadata": {
        "id": "DJzEcJ0nJE8Q",
        "colab_type": "code",
        "outputId": "e54521bb-b3ff-4375-87bd-da8c8eaec0f4",
        "colab": {
          "base_uri": "https://localhost:8080/",
          "height": 67
        }
      },
      "source": [
        "X_tp_X = np.matmul(X_tp, X)\n",
        "\n",
        "X_tp_X"
      ],
      "execution_count": 0,
      "outputs": [
        {
          "output_type": "execute_result",
          "data": {
            "text/plain": [
              "array([[    5,   500,   100],\n",
              "       [  500, 51000, 10800],\n",
              "       [  100, 10800,  3000]])"
            ]
          },
          "metadata": {
            "tags": []
          },
          "execution_count": 41
        }
      ]
    },
    {
      "cell_type": "markdown",
      "metadata": {
        "id": "bMi346K1LKoU",
        "colab_type": "text"
      },
      "source": [
        "Notice,  that so far we are getting exactly the same result as on the website [stattrek.com](https://stattrek.com/multiple-regression/regression-coefficients.aspx?Tutorial=reg)"
      ]
    },
    {
      "cell_type": "markdown",
      "metadata": {
        "id": "RDBp4eGnMKsZ",
        "colab_type": "text"
      },
      "source": [
        "## Next we define the inverse of $X'X$, just like in the website"
      ]
    },
    {
      "cell_type": "code",
      "metadata": {
        "id": "4G8S-KPyJBeT",
        "colab_type": "code",
        "outputId": "a53004eb-8d84-47ba-b465-a2e013efa660",
        "colab": {
          "base_uri": "https://localhost:8080/",
          "height": 67
        }
      },
      "source": [
        "from numpy.linalg import inv\n",
        "\n",
        "inverse = inv(X_tp_X)\n",
        "\n",
        "inverse"
      ],
      "execution_count": 0,
      "outputs": [
        {
          "output_type": "execute_result",
          "data": {
            "text/plain": [
              "array([[ 2.02000000e+01, -2.33333333e-01,  1.66666667e-01],\n",
              "       [-2.33333333e-01,  2.77777778e-03, -2.22222222e-03],\n",
              "       [ 1.66666667e-01, -2.22222222e-03,  2.77777778e-03]])"
            ]
          },
          "metadata": {
            "tags": []
          },
          "execution_count": 42
        }
      ]
    },
    {
      "cell_type": "code",
      "metadata": {
        "id": "RMfqQHFYMfod",
        "colab_type": "code",
        "outputId": "f5ab4f47-8ee6-4e54-c3d1-af9b11b83f4c",
        "colab": {
          "base_uri": "https://localhost:8080/",
          "height": 67
        }
      },
      "source": [
        "# checking to make sure the same values as the website\n",
        "\n",
        "print(inverse[0,:])\n",
        "print(inverse[1,:])\n",
        "print(inverse[2,:])"
      ],
      "execution_count": 0,
      "outputs": [
        {
          "output_type": "stream",
          "text": [
            "[20.2        -0.23333333  0.16666667]\n",
            "[-0.23333333  0.00277778 -0.00222222]\n",
            "[ 0.16666667 -0.00222222  0.00277778]\n"
          ],
          "name": "stdout"
        }
      ]
    },
    {
      "cell_type": "markdown",
      "metadata": {
        "id": "DM4J6tTeNKSt",
        "colab_type": "text"
      },
      "source": [
        "everything is perfect up to this point"
      ]
    },
    {
      "cell_type": "code",
      "metadata": {
        "id": "dki3abPhnDDz",
        "colab_type": "code",
        "outputId": "62c9cae9-c04d-4a3e-e30f-1b052f8316e8",
        "colab": {
          "base_uri": "https://localhost:8080/",
          "height": 34
        }
      },
      "source": [
        "X_tp.shape"
      ],
      "execution_count": 0,
      "outputs": [
        {
          "output_type": "execute_result",
          "data": {
            "text/plain": [
              "(3, 5)"
            ]
          },
          "metadata": {
            "tags": []
          },
          "execution_count": 44
        }
      ]
    },
    {
      "cell_type": "code",
      "metadata": {
        "id": "dLniC5yGnIep",
        "colab_type": "code",
        "outputId": "5a9d60a2-282b-43ac-8d04-f5f6cd66bbbb",
        "colab": {
          "base_uri": "https://localhost:8080/",
          "height": 34
        }
      },
      "source": [
        "inverse.shape"
      ],
      "execution_count": 0,
      "outputs": [
        {
          "output_type": "execute_result",
          "data": {
            "text/plain": [
              "(3, 3)"
            ]
          },
          "metadata": {
            "tags": []
          },
          "execution_count": 45
        }
      ]
    },
    {
      "cell_type": "markdown",
      "metadata": {
        "id": "MRVwhb4LsPSs",
        "colab_type": "text"
      },
      "source": [
        "## Next we pre-multiply the inverse of $X'X$ by $X'$ "
      ]
    },
    {
      "cell_type": "code",
      "metadata": {
        "id": "RdLDdJ_ZltZG",
        "colab_type": "code",
        "outputId": "c6131219-33c0-4a3c-8d0b-a228bba00a2b",
        "colab": {
          "base_uri": "https://localhost:8080/",
          "height": 118
        }
      },
      "source": [
        "X_tp_inverse = np.matmul(inverse, X_tp)\n",
        "\n",
        "X_tp_inverse"
      ],
      "execution_count": 0,
      "outputs": [
        {
          "output_type": "execute_result",
          "data": {
            "text/plain": [
              "array([[ 1.20000000e+00, -2.80000000e+00,  2.00000000e-01,\n",
              "        -8.00000000e-01,  3.20000000e+00],\n",
              "       [-1.66666667e-02,  3.33333333e-02,  1.73472348e-17,\n",
              "         1.66666667e-02, -3.33333333e-02],\n",
              "       [ 3.33333333e-02, -1.66666667e-02, -1.73472348e-17,\n",
              "        -3.33333333e-02,  1.66666667e-02]])"
            ]
          },
          "metadata": {
            "tags": []
          },
          "execution_count": 46
        }
      ]
    },
    {
      "cell_type": "code",
      "metadata": {
        "id": "EFPSxUQpnhqz",
        "colab_type": "code",
        "outputId": "f40a40ef-d948-4a52-8ef7-103a07e88eaf",
        "colab": {
          "base_uri": "https://localhost:8080/",
          "height": 34
        }
      },
      "source": [
        "X_tp_inverse.shape"
      ],
      "execution_count": 0,
      "outputs": [
        {
          "output_type": "execute_result",
          "data": {
            "text/plain": [
              "(3, 5)"
            ]
          },
          "metadata": {
            "tags": []
          },
          "execution_count": 47
        }
      ]
    },
    {
      "cell_type": "markdown",
      "metadata": {
        "id": "fnJ1bgmLNVpR",
        "colab_type": "text"
      },
      "source": [
        "## Next we define the $Y$ variable"
      ]
    },
    {
      "cell_type": "code",
      "metadata": {
        "id": "vtdORPdkNPAQ",
        "colab_type": "code",
        "outputId": "40684b7a-dc1d-45d3-b8cb-267720ed2725",
        "colab": {
          "base_uri": "https://localhost:8080/",
          "height": 34
        }
      },
      "source": [
        "Y = student_scores.Score.values\n",
        "\n",
        "Y"
      ],
      "execution_count": 0,
      "outputs": [
        {
          "output_type": "execute_result",
          "data": {
            "text/plain": [
              "array([100,  90,  80,  70,  60])"
            ]
          },
          "metadata": {
            "tags": []
          },
          "execution_count": 48
        }
      ]
    },
    {
      "cell_type": "code",
      "metadata": {
        "id": "jZ57MBUNphKD",
        "colab_type": "code",
        "outputId": "ca8c8ff4-3937-4b09-e5c5-e1304295dfac",
        "colab": {
          "base_uri": "https://localhost:8080/",
          "height": 34
        }
      },
      "source": [
        "Y.shape"
      ],
      "execution_count": 0,
      "outputs": [
        {
          "output_type": "execute_result",
          "data": {
            "text/plain": [
              "(5,)"
            ]
          },
          "metadata": {
            "tags": []
          },
          "execution_count": 49
        }
      ]
    },
    {
      "cell_type": "markdown",
      "metadata": {
        "id": "rB5Waw2DOHpm",
        "colab_type": "text"
      },
      "source": [
        "## Calculating the slope or coefficients"
      ]
    },
    {
      "cell_type": "markdown",
      "metadata": {
        "id": "_V0F5xHONnFw",
        "colab_type": "text"
      },
      "source": [
        "<h2><font color='khaki'>$ b = (X'X)^{-1}X'Y $</h2>"
      ]
    },
    {
      "cell_type": "markdown",
      "metadata": {
        "id": "9gdsAfBFPHoG",
        "colab_type": "text"
      },
      "source": [
        "## Finally we Pre-multiply $(X'X)^{-1}$ by $Y$ to get the coefficients of the MLR model"
      ]
    },
    {
      "cell_type": "code",
      "metadata": {
        "id": "H-BpaLZBptV9",
        "colab_type": "code",
        "outputId": "487f24b3-33ec-41a2-f6cf-b3124272c7a3",
        "colab": {
          "base_uri": "https://localhost:8080/",
          "height": 34
        }
      },
      "source": [
        "coefficients = np.matmul(X_tp_inverse, Y)\n",
        "\n",
        "coefficients"
      ],
      "execution_count": 0,
      "outputs": [
        {
          "output_type": "execute_result",
          "data": {
            "text/plain": [
              "array([20. ,  0.5,  0.5])"
            ]
          },
          "metadata": {
            "tags": []
          },
          "execution_count": 50
        }
      ]
    },
    {
      "cell_type": "markdown",
      "metadata": {
        "id": "Uw-32wc6tddp",
        "colab_type": "text"
      },
      "source": [
        "## $y_{hat} = b0 + b1x1 + b2x2$"
      ]
    },
    {
      "cell_type": "markdown",
      "metadata": {
        "id": "W6M9mh_4t096",
        "colab_type": "text"
      },
      "source": [
        "which now means"
      ]
    },
    {
      "cell_type": "markdown",
      "metadata": {
        "id": "J3NB9GMwt6DQ",
        "colab_type": "text"
      },
      "source": [
        "## $y_{hat} = 20 + 0.5x1 + 0.5x2$"
      ]
    },
    {
      "cell_type": "markdown",
      "metadata": {
        "id": "bq0M3aONvoyi",
        "colab_type": "text"
      },
      "source": [
        "which now means"
      ]
    },
    {
      "cell_type": "markdown",
      "metadata": {
        "id": "B67VtOtOvrAU",
        "colab_type": "text"
      },
      "source": [
        ""
      ]
    },
    {
      "cell_type": "markdown",
      "metadata": {
        "id": "IAMd0zRCvub_",
        "colab_type": "text"
      },
      "source": [
        "## $y_{hat} = 20 + 0.5(IQ) + 0.5(Study-hours)$"
      ]
    },
    {
      "cell_type": "code",
      "metadata": {
        "id": "dI8g447-tZ5K",
        "colab_type": "code",
        "colab": {}
      },
      "source": [
        ""
      ],
      "execution_count": 0,
      "outputs": []
    }
  ]
}