{
  "nbformat": 4,
  "nbformat_minor": 0,
  "metadata": {
    "colab": {
      "name": "coefficients_of_multiple_linear_regression.ipynb",
      "version": "0.3.2",
      "provenance": [],
      "include_colab_link": true
    },
    "kernelspec": {
      "name": "python3",
      "display_name": "Python 3"
    }
  },
  "cells": [
    {
      "cell_type": "markdown",
      "metadata": {
        "id": "view-in-github",
        "colab_type": "text"
      },
      "source": [
        "<a href=\"https://colab.research.google.com/github/Blackman9t/Machine_Learning/blob/master/coefficients_of_multiple_linear_regression.ipynb\" target=\"_parent\"><img src=\"https://colab.research.google.com/assets/colab-badge.svg\" alt=\"Open In Colab\"/></a>"
      ]
    },
    {
      "cell_type": "markdown",
      "metadata": {
        "id": "lghukHiPLn4E",
        "colab_type": "text"
      },
      "source": [
        "### <font color='khaki'>Getting to understand Multiple Linear Regression better by walking through it's internal workings and computation"
      ]
    },
    {
      "cell_type": "code",
      "metadata": {
        "id": "QsSWslxGGGxn",
        "colab_type": "code",
        "colab": {}
      },
      "source": [
        "import numpy as np\n",
        "import pandas as pd\n",
        "import matplotlib.pyplot as plt"
      ],
      "execution_count": 0,
      "outputs": []
    },
    {
      "cell_type": "markdown",
      "metadata": {
        "id": "B-Eo1ihpHJ8O",
        "colab_type": "text"
      },
      "source": [
        "## Defining the scores table  like on the website"
      ]
    },
    {
      "cell_type": "code",
      "metadata": {
        "id": "9PsvB8kOFRBB",
        "colab_type": "code",
        "colab": {
          "base_uri": "https://localhost:8080/",
          "height": 225
        },
        "outputId": "995ef368-53fa-4a93-b1b4-ef6efcc1c764"
      },
      "source": [
        "student_scores = pd.DataFrame({'Score':[100, 90, 80, 70, 60], 'IQ':[110, 120, 100, 90, 80,], 'Study_hours':[40, 30, 20, 0, 10]})\n",
        "\n",
        "student_scores.index.name='Student'\n",
        "\n",
        "student_scores.head()"
      ],
      "execution_count": 22,
      "outputs": [
        {
          "output_type": "execute_result",
          "data": {
            "text/html": [
              "<div>\n",
              "<style scoped>\n",
              "    .dataframe tbody tr th:only-of-type {\n",
              "        vertical-align: middle;\n",
              "    }\n",
              "\n",
              "    .dataframe tbody tr th {\n",
              "        vertical-align: top;\n",
              "    }\n",
              "\n",
              "    .dataframe thead th {\n",
              "        text-align: right;\n",
              "    }\n",
              "</style>\n",
              "<table border=\"1\" class=\"dataframe\">\n",
              "  <thead>\n",
              "    <tr style=\"text-align: right;\">\n",
              "      <th></th>\n",
              "      <th>Score</th>\n",
              "      <th>IQ</th>\n",
              "      <th>Study_hours</th>\n",
              "    </tr>\n",
              "    <tr>\n",
              "      <th>Student</th>\n",
              "      <th></th>\n",
              "      <th></th>\n",
              "      <th></th>\n",
              "    </tr>\n",
              "  </thead>\n",
              "  <tbody>\n",
              "    <tr>\n",
              "      <th>0</th>\n",
              "      <td>100</td>\n",
              "      <td>110</td>\n",
              "      <td>40</td>\n",
              "    </tr>\n",
              "    <tr>\n",
              "      <th>1</th>\n",
              "      <td>90</td>\n",
              "      <td>120</td>\n",
              "      <td>30</td>\n",
              "    </tr>\n",
              "    <tr>\n",
              "      <th>2</th>\n",
              "      <td>80</td>\n",
              "      <td>100</td>\n",
              "      <td>20</td>\n",
              "    </tr>\n",
              "    <tr>\n",
              "      <th>3</th>\n",
              "      <td>70</td>\n",
              "      <td>90</td>\n",
              "      <td>0</td>\n",
              "    </tr>\n",
              "    <tr>\n",
              "      <th>4</th>\n",
              "      <td>60</td>\n",
              "      <td>80</td>\n",
              "      <td>10</td>\n",
              "    </tr>\n",
              "  </tbody>\n",
              "</table>\n",
              "</div>"
            ],
            "text/plain": [
              "         Score   IQ  Study_hours\n",
              "Student                         \n",
              "0          100  110           40\n",
              "1           90  120           30\n",
              "2           80  100           20\n",
              "3           70   90            0\n",
              "4           60   80           10"
            ]
          },
          "metadata": {
            "tags": []
          },
          "execution_count": 22
        }
      ]
    },
    {
      "cell_type": "markdown",
      "metadata": {
        "id": "_G1CDfReHVk7",
        "colab_type": "text"
      },
      "source": [
        "## Defining Matrix X"
      ]
    },
    {
      "cell_type": "code",
      "metadata": {
        "id": "8TzsNfgwHx6f",
        "colab_type": "code",
        "colab": {
          "base_uri": "https://localhost:8080/",
          "height": 225
        },
        "outputId": "51aba905-16ae-4f2f-fac2-f4fdf4c9702d"
      },
      "source": [
        "X = student_scores.loc[:, ['IQ',\"Study_hours\"]]\n",
        "\n",
        "ones = np.ones(len(student_scores), dtype=int)\n",
        "\n",
        "X.insert(0, 'ones', ones)\n",
        "\n",
        "X.head()"
      ],
      "execution_count": 23,
      "outputs": [
        {
          "output_type": "execute_result",
          "data": {
            "text/html": [
              "<div>\n",
              "<style scoped>\n",
              "    .dataframe tbody tr th:only-of-type {\n",
              "        vertical-align: middle;\n",
              "    }\n",
              "\n",
              "    .dataframe tbody tr th {\n",
              "        vertical-align: top;\n",
              "    }\n",
              "\n",
              "    .dataframe thead th {\n",
              "        text-align: right;\n",
              "    }\n",
              "</style>\n",
              "<table border=\"1\" class=\"dataframe\">\n",
              "  <thead>\n",
              "    <tr style=\"text-align: right;\">\n",
              "      <th></th>\n",
              "      <th>ones</th>\n",
              "      <th>IQ</th>\n",
              "      <th>Study_hours</th>\n",
              "    </tr>\n",
              "    <tr>\n",
              "      <th>Student</th>\n",
              "      <th></th>\n",
              "      <th></th>\n",
              "      <th></th>\n",
              "    </tr>\n",
              "  </thead>\n",
              "  <tbody>\n",
              "    <tr>\n",
              "      <th>0</th>\n",
              "      <td>1</td>\n",
              "      <td>110</td>\n",
              "      <td>40</td>\n",
              "    </tr>\n",
              "    <tr>\n",
              "      <th>1</th>\n",
              "      <td>1</td>\n",
              "      <td>120</td>\n",
              "      <td>30</td>\n",
              "    </tr>\n",
              "    <tr>\n",
              "      <th>2</th>\n",
              "      <td>1</td>\n",
              "      <td>100</td>\n",
              "      <td>20</td>\n",
              "    </tr>\n",
              "    <tr>\n",
              "      <th>3</th>\n",
              "      <td>1</td>\n",
              "      <td>90</td>\n",
              "      <td>0</td>\n",
              "    </tr>\n",
              "    <tr>\n",
              "      <th>4</th>\n",
              "      <td>1</td>\n",
              "      <td>80</td>\n",
              "      <td>10</td>\n",
              "    </tr>\n",
              "  </tbody>\n",
              "</table>\n",
              "</div>"
            ],
            "text/plain": [
              "         ones   IQ  Study_hours\n",
              "Student                        \n",
              "0           1  110           40\n",
              "1           1  120           30\n",
              "2           1  100           20\n",
              "3           1   90            0\n",
              "4           1   80           10"
            ]
          },
          "metadata": {
            "tags": []
          },
          "execution_count": 23
        }
      ]
    },
    {
      "cell_type": "code",
      "metadata": {
        "id": "Tmo8PzCuKfM0",
        "colab_type": "code",
        "colab": {
          "base_uri": "https://localhost:8080/",
          "height": 101
        },
        "outputId": "3f89aec2-b4dc-4928-d946-fa8282a39d39"
      },
      "source": [
        "# Next we convert X to a Numpy array from a Data frame\n",
        "\n",
        "X = X.values\n",
        "\n",
        "X"
      ],
      "execution_count": 24,
      "outputs": [
        {
          "output_type": "execute_result",
          "data": {
            "text/plain": [
              "array([[  1, 110,  40],\n",
              "       [  1, 120,  30],\n",
              "       [  1, 100,  20],\n",
              "       [  1,  90,   0],\n",
              "       [  1,  80,  10]])"
            ]
          },
          "metadata": {
            "tags": []
          },
          "execution_count": 24
        }
      ]
    },
    {
      "cell_type": "markdown",
      "metadata": {
        "id": "zmj2SJbRILRl",
        "colab_type": "text"
      },
      "source": [
        "## Defining X' or X Transpose"
      ]
    },
    {
      "cell_type": "code",
      "metadata": {
        "id": "xV2mf89zIScK",
        "colab_type": "code",
        "colab": {
          "base_uri": "https://localhost:8080/",
          "height": 67
        },
        "outputId": "c40c8c7d-c36d-4756-dd02-4db9f8f121c3"
      },
      "source": [
        "X_tp = X.transpose()\n",
        "\n",
        "X_tp"
      ],
      "execution_count": 25,
      "outputs": [
        {
          "output_type": "execute_result",
          "data": {
            "text/plain": [
              "array([[  1,   1,   1,   1,   1],\n",
              "       [110, 120, 100,  90,  80],\n",
              "       [ 40,  30,  20,   0,  10]])"
            ]
          },
          "metadata": {
            "tags": []
          },
          "execution_count": 25
        }
      ]
    },
    {
      "cell_type": "markdown",
      "metadata": {
        "id": "4goHC6OtIj8B",
        "colab_type": "text"
      },
      "source": [
        "#### Print out the shape of X and X'."
      ]
    },
    {
      "cell_type": "code",
      "metadata": {
        "id": "1xAUFA3XItcL",
        "colab_type": "code",
        "colab": {
          "base_uri": "https://localhost:8080/",
          "height": 50
        },
        "outputId": "7daee461-f318-4a81-90fa-32b970744c22"
      },
      "source": [
        "print('X shape is',X.shape,'\\nX-tanspose shape is',X_tp.shape)"
      ],
      "execution_count": 26,
      "outputs": [
        {
          "output_type": "stream",
          "text": [
            "X shape is (5, 3) \n",
            "X-tanspose shape is (3, 5)\n"
          ],
          "name": "stdout"
        }
      ]
    },
    {
      "cell_type": "markdown",
      "metadata": {
        "id": "dCjaoHp3JFr7",
        "colab_type": "text"
      },
      "source": [
        "## Define X' by X... using matrix multiplication"
      ]
    },
    {
      "cell_type": "code",
      "metadata": {
        "id": "DJzEcJ0nJE8Q",
        "colab_type": "code",
        "colab": {
          "base_uri": "https://localhost:8080/",
          "height": 67
        },
        "outputId": "0989abfc-ff16-4456-84f6-1f2bda266160"
      },
      "source": [
        "X_tp_X = np.matmul(X_tp, X)\n",
        "\n",
        "X_tp_X"
      ],
      "execution_count": 27,
      "outputs": [
        {
          "output_type": "execute_result",
          "data": {
            "text/plain": [
              "array([[    5,   500,   100],\n",
              "       [  500, 51000, 10800],\n",
              "       [  100, 10800,  3000]])"
            ]
          },
          "metadata": {
            "tags": []
          },
          "execution_count": 27
        }
      ]
    },
    {
      "cell_type": "markdown",
      "metadata": {
        "id": "bMi346K1LKoU",
        "colab_type": "text"
      },
      "source": [
        "Notice,  that so far we are getting exactly the same result as on the website [stattrek.com](https://stattrek.com/multiple-regression/regression-coefficients.aspx?Tutorial=reg)"
      ]
    },
    {
      "cell_type": "markdown",
      "metadata": {
        "id": "RDBp4eGnMKsZ",
        "colab_type": "text"
      },
      "source": [
        "## Next we define the inverse of X'X, just like in the website"
      ]
    },
    {
      "cell_type": "code",
      "metadata": {
        "id": "4G8S-KPyJBeT",
        "colab_type": "code",
        "colab": {
          "base_uri": "https://localhost:8080/",
          "height": 67
        },
        "outputId": "f208df9f-2ba7-486b-978c-49d8c16f2368"
      },
      "source": [
        "from numpy.linalg import inv\n",
        "\n",
        "inverse = inv(X_tp_X)\n",
        "\n",
        "inverse"
      ],
      "execution_count": 29,
      "outputs": [
        {
          "output_type": "execute_result",
          "data": {
            "text/plain": [
              "array([[ 2.02000000e+01, -2.33333333e-01,  1.66666667e-01],\n",
              "       [-2.33333333e-01,  2.77777778e-03, -2.22222222e-03],\n",
              "       [ 1.66666667e-01, -2.22222222e-03,  2.77777778e-03]])"
            ]
          },
          "metadata": {
            "tags": []
          },
          "execution_count": 29
        }
      ]
    },
    {
      "cell_type": "code",
      "metadata": {
        "id": "RMfqQHFYMfod",
        "colab_type": "code",
        "colab": {
          "base_uri": "https://localhost:8080/",
          "height": 67
        },
        "outputId": "e04d1335-68af-4e4c-a422-a29d0aa134a3"
      },
      "source": [
        "# checking to make sure the same values as the website\n",
        "\n",
        "print(inverse[0,:])\n",
        "print(inverse[1,:])\n",
        "print(inverse[2,:])"
      ],
      "execution_count": 31,
      "outputs": [
        {
          "output_type": "stream",
          "text": [
            "[20.2        -0.23333333  0.16666667]\n",
            "[-0.23333333  0.00277778 -0.00222222]\n",
            "[ 0.16666667 -0.00222222  0.00277778]\n"
          ],
          "name": "stdout"
        }
      ]
    },
    {
      "cell_type": "markdown",
      "metadata": {
        "id": "DM4J6tTeNKSt",
        "colab_type": "text"
      },
      "source": [
        "everything is perfect up to this point"
      ]
    },
    {
      "cell_type": "markdown",
      "metadata": {
        "id": "fnJ1bgmLNVpR",
        "colab_type": "text"
      },
      "source": [
        "## Next we define the Y variable"
      ]
    },
    {
      "cell_type": "code",
      "metadata": {
        "id": "vtdORPdkNPAQ",
        "colab_type": "code",
        "colab": {
          "base_uri": "https://localhost:8080/",
          "height": 34
        },
        "outputId": "679d0a10-123e-4a9d-d655-f0e4c6ae70ef"
      },
      "source": [
        "Y = student_scores.Score\n",
        "\n",
        "Y.values"
      ],
      "execution_count": 33,
      "outputs": [
        {
          "output_type": "execute_result",
          "data": {
            "text/plain": [
              "array([100,  90,  80,  70,  60])"
            ]
          },
          "metadata": {
            "tags": []
          },
          "execution_count": 33
        }
      ]
    },
    {
      "cell_type": "markdown",
      "metadata": {
        "id": "rB5Waw2DOHpm",
        "colab_type": "text"
      },
      "source": [
        "## Calculating the slope or coefficients"
      ]
    },
    {
      "cell_type": "markdown",
      "metadata": {
        "id": "_V0F5xHONnFw",
        "colab_type": "text"
      },
      "source": [
        "<h2><font color='khaki'>$ b = (X'X)^{-1}X'Y $</h2>"
      ]
    },
    {
      "cell_type": "markdown",
      "metadata": {
        "id": "9gdsAfBFPHoG",
        "colab_type": "text"
      },
      "source": [
        "How do you compute this equation using matrix multiplication?\n",
        "\n",
        "Please fill in the right code below or be nice to share your screen shot in any python terminal"
      ]
    },
    {
      "cell_type": "code",
      "metadata": {
        "id": "FRMOAillOSeo",
        "colab_type": "code",
        "colab": {
          "base_uri": "https://localhost:8080/",
          "height": 320
        },
        "outputId": "211b13b3-5eba-4e7f-f535-eb38e2a09fb9"
      },
      "source": [
        "b = np.matmul(inverse, X_tp)\n",
        "z = np.matmul(b, Y)"
      ],
      "execution_count": 37,
      "outputs": [
        {
          "output_type": "error",
          "ename": "ValueError",
          "evalue": "ignored",
          "traceback": [
            "\u001b[0;31m---------------------------------------------------------------------------\u001b[0m",
            "\u001b[0;31mValueError\u001b[0m                                Traceback (most recent call last)",
            "\u001b[0;32m<ipython-input-37-23386ba1ea76>\u001b[0m in \u001b[0;36m<module>\u001b[0;34m()\u001b[0m\n\u001b[1;32m      1\u001b[0m \u001b[0mb\u001b[0m \u001b[0;34m=\u001b[0m \u001b[0mnp\u001b[0m\u001b[0;34m.\u001b[0m\u001b[0mmatmul\u001b[0m\u001b[0;34m(\u001b[0m\u001b[0minverse\u001b[0m\u001b[0;34m,\u001b[0m \u001b[0mX_tp\u001b[0m\u001b[0;34m)\u001b[0m\u001b[0;34m\u001b[0m\u001b[0;34m\u001b[0m\u001b[0m\n\u001b[0;32m----> 2\u001b[0;31m \u001b[0mz\u001b[0m \u001b[0;34m=\u001b[0m \u001b[0mnp\u001b[0m\u001b[0;34m.\u001b[0m\u001b[0mmatmul\u001b[0m\u001b[0;34m(\u001b[0m\u001b[0mb\u001b[0m\u001b[0;34m,\u001b[0m \u001b[0mY\u001b[0m\u001b[0;34m)\u001b[0m\u001b[0;34m\u001b[0m\u001b[0;34m\u001b[0m\u001b[0m\n\u001b[0m",
            "\u001b[0;32m/usr/local/lib/python3.6/dist-packages/pandas/core/series.py\u001b[0m in \u001b[0;36m__array_wrap__\u001b[0;34m(self, result, context)\u001b[0m\n\u001b[1;32m    733\u001b[0m         \"\"\"\n\u001b[1;32m    734\u001b[0m         return self._constructor(result, index=self.index,\n\u001b[0;32m--> 735\u001b[0;31m                                  copy=False).__finalize__(self)\n\u001b[0m\u001b[1;32m    736\u001b[0m \u001b[0;34m\u001b[0m\u001b[0m\n\u001b[1;32m    737\u001b[0m     \u001b[0;32mdef\u001b[0m \u001b[0m__array_prepare__\u001b[0m\u001b[0;34m(\u001b[0m\u001b[0mself\u001b[0m\u001b[0;34m,\u001b[0m \u001b[0mresult\u001b[0m\u001b[0;34m,\u001b[0m \u001b[0mcontext\u001b[0m\u001b[0;34m=\u001b[0m\u001b[0;32mNone\u001b[0m\u001b[0;34m)\u001b[0m\u001b[0;34m:\u001b[0m\u001b[0;34m\u001b[0m\u001b[0;34m\u001b[0m\u001b[0m\n",
            "\u001b[0;32m/usr/local/lib/python3.6/dist-packages/pandas/core/series.py\u001b[0m in \u001b[0;36m__init__\u001b[0;34m(self, data, index, dtype, name, copy, fastpath)\u001b[0m\n\u001b[1;32m    247\u001b[0m                             \u001b[0;34m'Length of passed values is {val}, '\u001b[0m\u001b[0;34m\u001b[0m\u001b[0;34m\u001b[0m\u001b[0m\n\u001b[1;32m    248\u001b[0m                             \u001b[0;34m'index implies {ind}'\u001b[0m\u001b[0;34m\u001b[0m\u001b[0;34m\u001b[0m\u001b[0m\n\u001b[0;32m--> 249\u001b[0;31m                             .format(val=len(data), ind=len(index)))\n\u001b[0m\u001b[1;32m    250\u001b[0m                 \u001b[0;32mexcept\u001b[0m \u001b[0mTypeError\u001b[0m\u001b[0;34m:\u001b[0m\u001b[0;34m\u001b[0m\u001b[0;34m\u001b[0m\u001b[0m\n\u001b[1;32m    251\u001b[0m                     \u001b[0;32mpass\u001b[0m\u001b[0;34m\u001b[0m\u001b[0;34m\u001b[0m\u001b[0m\n",
            "\u001b[0;31mValueError\u001b[0m: Length of passed values is 3, index implies 5"
          ]
        }
      ]
    }
  ]
}