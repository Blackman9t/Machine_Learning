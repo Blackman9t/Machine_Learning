{
  "nbformat": 4,
  "nbformat_minor": 0,
  "metadata": {
    "colab": {
      "name": "coefficients_of_multiple_linear_regression.ipynb",
      "version": "0.3.2",
      "provenance": [],
      "collapsed_sections": [],
      "include_colab_link": true
    },
    "kernelspec": {
      "name": "python3",
      "display_name": "Python 3"
    }
  },
  "cells": [
    {
      "cell_type": "markdown",
      "metadata": {
        "id": "view-in-github",
        "colab_type": "text"
      },
      "source": [
        "<a href=\"https://colab.research.google.com/github/Blackman9t/Machine_Learning/blob/master/coefficients_of_multiple_linear_regression.ipynb\" target=\"_parent\"><img src=\"https://colab.research.google.com/assets/colab-badge.svg\" alt=\"Open In Colab\"/></a>"
      ]
    },
    {
      "cell_type": "markdown",
      "metadata": {
        "id": "lghukHiPLn4E",
        "colab_type": "text"
      },
      "source": [
        "### <font color='khaki'>Getting to understand Multiple Linear Regression better by walking through it's internal workings and computation.\n",
        "\n",
        "[stattrek.com](https://stattrek.com/multiple-regression/regression-coefficients.aspx?Tutorial=reg)"
      ]
    },
    {
      "cell_type": "code",
      "metadata": {
        "id": "QsSWslxGGGxn",
        "colab_type": "code",
        "colab": {}
      },
      "source": [
        "import numpy as np\n",
        "import pandas as pd\n",
        "import matplotlib.pyplot as plt\n",
        "import seaborn as sns"
      ],
      "execution_count": 0,
      "outputs": []
    },
    {
      "cell_type": "markdown",
      "metadata": {
        "id": "B-Eo1ihpHJ8O",
        "colab_type": "text"
      },
      "source": [
        "## Defining the scores table  like on the website"
      ]
    },
    {
      "cell_type": "code",
      "metadata": {
        "id": "9PsvB8kOFRBB",
        "colab_type": "code",
        "outputId": "51e584ff-6485-4986-f5e0-1d290a9aaf95",
        "colab": {
          "base_uri": "https://localhost:8080/",
          "height": 225
        }
      },
      "source": [
        "student_scores = pd.DataFrame({'Score':[100, 90, 80, 70, 60], 'IQ':[110, 120, 100, 90, 80,], 'Study_hours':[40, 30, 20, 0, 10]})\n",
        "\n",
        "student_scores.index.name='Student'\n",
        "\n",
        "student_scores.head()"
      ],
      "execution_count": 60,
      "outputs": [
        {
          "output_type": "execute_result",
          "data": {
            "text/html": [
              "<div>\n",
              "<style scoped>\n",
              "    .dataframe tbody tr th:only-of-type {\n",
              "        vertical-align: middle;\n",
              "    }\n",
              "\n",
              "    .dataframe tbody tr th {\n",
              "        vertical-align: top;\n",
              "    }\n",
              "\n",
              "    .dataframe thead th {\n",
              "        text-align: right;\n",
              "    }\n",
              "</style>\n",
              "<table border=\"1\" class=\"dataframe\">\n",
              "  <thead>\n",
              "    <tr style=\"text-align: right;\">\n",
              "      <th></th>\n",
              "      <th>Score</th>\n",
              "      <th>IQ</th>\n",
              "      <th>Study_hours</th>\n",
              "    </tr>\n",
              "    <tr>\n",
              "      <th>Student</th>\n",
              "      <th></th>\n",
              "      <th></th>\n",
              "      <th></th>\n",
              "    </tr>\n",
              "  </thead>\n",
              "  <tbody>\n",
              "    <tr>\n",
              "      <th>0</th>\n",
              "      <td>100</td>\n",
              "      <td>110</td>\n",
              "      <td>40</td>\n",
              "    </tr>\n",
              "    <tr>\n",
              "      <th>1</th>\n",
              "      <td>90</td>\n",
              "      <td>120</td>\n",
              "      <td>30</td>\n",
              "    </tr>\n",
              "    <tr>\n",
              "      <th>2</th>\n",
              "      <td>80</td>\n",
              "      <td>100</td>\n",
              "      <td>20</td>\n",
              "    </tr>\n",
              "    <tr>\n",
              "      <th>3</th>\n",
              "      <td>70</td>\n",
              "      <td>90</td>\n",
              "      <td>0</td>\n",
              "    </tr>\n",
              "    <tr>\n",
              "      <th>4</th>\n",
              "      <td>60</td>\n",
              "      <td>80</td>\n",
              "      <td>10</td>\n",
              "    </tr>\n",
              "  </tbody>\n",
              "</table>\n",
              "</div>"
            ],
            "text/plain": [
              "         Score   IQ  Study_hours\n",
              "Student                         \n",
              "0          100  110           40\n",
              "1           90  120           30\n",
              "2           80  100           20\n",
              "3           70   90            0\n",
              "4           60   80           10"
            ]
          },
          "metadata": {
            "tags": []
          },
          "execution_count": 60
        }
      ]
    },
    {
      "cell_type": "markdown",
      "metadata": {
        "id": "_G1CDfReHVk7",
        "colab_type": "text"
      },
      "source": [
        "## Defining Matrix $X$"
      ]
    },
    {
      "cell_type": "code",
      "metadata": {
        "id": "8TzsNfgwHx6f",
        "colab_type": "code",
        "outputId": "62474a97-333d-4666-d16a-7ba60631c09b",
        "colab": {
          "base_uri": "https://localhost:8080/",
          "height": 225
        }
      },
      "source": [
        "X = student_scores.loc[:, ['IQ',\"Study_hours\"]]\n",
        "\n",
        "ones = np.ones(len(student_scores), dtype=int)\n",
        "\n",
        "X.insert(0, 'ones', ones)\n",
        "\n",
        "X.head()"
      ],
      "execution_count": 61,
      "outputs": [
        {
          "output_type": "execute_result",
          "data": {
            "text/html": [
              "<div>\n",
              "<style scoped>\n",
              "    .dataframe tbody tr th:only-of-type {\n",
              "        vertical-align: middle;\n",
              "    }\n",
              "\n",
              "    .dataframe tbody tr th {\n",
              "        vertical-align: top;\n",
              "    }\n",
              "\n",
              "    .dataframe thead th {\n",
              "        text-align: right;\n",
              "    }\n",
              "</style>\n",
              "<table border=\"1\" class=\"dataframe\">\n",
              "  <thead>\n",
              "    <tr style=\"text-align: right;\">\n",
              "      <th></th>\n",
              "      <th>ones</th>\n",
              "      <th>IQ</th>\n",
              "      <th>Study_hours</th>\n",
              "    </tr>\n",
              "    <tr>\n",
              "      <th>Student</th>\n",
              "      <th></th>\n",
              "      <th></th>\n",
              "      <th></th>\n",
              "    </tr>\n",
              "  </thead>\n",
              "  <tbody>\n",
              "    <tr>\n",
              "      <th>0</th>\n",
              "      <td>1</td>\n",
              "      <td>110</td>\n",
              "      <td>40</td>\n",
              "    </tr>\n",
              "    <tr>\n",
              "      <th>1</th>\n",
              "      <td>1</td>\n",
              "      <td>120</td>\n",
              "      <td>30</td>\n",
              "    </tr>\n",
              "    <tr>\n",
              "      <th>2</th>\n",
              "      <td>1</td>\n",
              "      <td>100</td>\n",
              "      <td>20</td>\n",
              "    </tr>\n",
              "    <tr>\n",
              "      <th>3</th>\n",
              "      <td>1</td>\n",
              "      <td>90</td>\n",
              "      <td>0</td>\n",
              "    </tr>\n",
              "    <tr>\n",
              "      <th>4</th>\n",
              "      <td>1</td>\n",
              "      <td>80</td>\n",
              "      <td>10</td>\n",
              "    </tr>\n",
              "  </tbody>\n",
              "</table>\n",
              "</div>"
            ],
            "text/plain": [
              "         ones   IQ  Study_hours\n",
              "Student                        \n",
              "0           1  110           40\n",
              "1           1  120           30\n",
              "2           1  100           20\n",
              "3           1   90            0\n",
              "4           1   80           10"
            ]
          },
          "metadata": {
            "tags": []
          },
          "execution_count": 61
        }
      ]
    },
    {
      "cell_type": "code",
      "metadata": {
        "id": "Tmo8PzCuKfM0",
        "colab_type": "code",
        "outputId": "1c313aa7-bb32-48bd-b1b8-7d188f0847f8",
        "colab": {
          "base_uri": "https://localhost:8080/",
          "height": 101
        }
      },
      "source": [
        "# Next we convert X to a Numpy array from a Data frame\n",
        "\n",
        "X = X.values\n",
        "\n",
        "X"
      ],
      "execution_count": 62,
      "outputs": [
        {
          "output_type": "execute_result",
          "data": {
            "text/plain": [
              "array([[  1, 110,  40],\n",
              "       [  1, 120,  30],\n",
              "       [  1, 100,  20],\n",
              "       [  1,  90,   0],\n",
              "       [  1,  80,  10]])"
            ]
          },
          "metadata": {
            "tags": []
          },
          "execution_count": 62
        }
      ]
    },
    {
      "cell_type": "markdown",
      "metadata": {
        "id": "zmj2SJbRILRl",
        "colab_type": "text"
      },
      "source": [
        "## Defining $X'$ or X Transpose"
      ]
    },
    {
      "cell_type": "code",
      "metadata": {
        "id": "xV2mf89zIScK",
        "colab_type": "code",
        "outputId": "c1e6c22a-dd78-4d0a-a094-0421c93ee575",
        "colab": {
          "base_uri": "https://localhost:8080/",
          "height": 67
        }
      },
      "source": [
        "X_tp = X.transpose()\n",
        "\n",
        "X_tp"
      ],
      "execution_count": 63,
      "outputs": [
        {
          "output_type": "execute_result",
          "data": {
            "text/plain": [
              "array([[  1,   1,   1,   1,   1],\n",
              "       [110, 120, 100,  90,  80],\n",
              "       [ 40,  30,  20,   0,  10]])"
            ]
          },
          "metadata": {
            "tags": []
          },
          "execution_count": 63
        }
      ]
    },
    {
      "cell_type": "markdown",
      "metadata": {
        "id": "4goHC6OtIj8B",
        "colab_type": "text"
      },
      "source": [
        "#### Print out the shape of X and X'."
      ]
    },
    {
      "cell_type": "code",
      "metadata": {
        "id": "1xAUFA3XItcL",
        "colab_type": "code",
        "outputId": "e12bc017-55c9-4281-855d-a8ab4f7ee4da",
        "colab": {
          "base_uri": "https://localhost:8080/",
          "height": 50
        }
      },
      "source": [
        "print('X shape is',X.shape,'\\nX-tanspose shape is',X_tp.shape)"
      ],
      "execution_count": 64,
      "outputs": [
        {
          "output_type": "stream",
          "text": [
            "X shape is (5, 3) \n",
            "X-tanspose shape is (3, 5)\n"
          ],
          "name": "stdout"
        }
      ]
    },
    {
      "cell_type": "markdown",
      "metadata": {
        "id": "dCjaoHp3JFr7",
        "colab_type": "text"
      },
      "source": [
        "## Premultiply $X'$ by $X$... using matrix multiplication"
      ]
    },
    {
      "cell_type": "code",
      "metadata": {
        "id": "DJzEcJ0nJE8Q",
        "colab_type": "code",
        "outputId": "93b1ee85-b2ed-4cdb-aab2-d7ebebf9c055",
        "colab": {
          "base_uri": "https://localhost:8080/",
          "height": 67
        }
      },
      "source": [
        "X_tp_X = np.matmul(X_tp, X)\n",
        "\n",
        "X_tp_X"
      ],
      "execution_count": 65,
      "outputs": [
        {
          "output_type": "execute_result",
          "data": {
            "text/plain": [
              "array([[    5,   500,   100],\n",
              "       [  500, 51000, 10800],\n",
              "       [  100, 10800,  3000]])"
            ]
          },
          "metadata": {
            "tags": []
          },
          "execution_count": 65
        }
      ]
    },
    {
      "cell_type": "markdown",
      "metadata": {
        "id": "bMi346K1LKoU",
        "colab_type": "text"
      },
      "source": [
        "Notice,  that so far we are getting exactly the same result as on the website [stattrek.com](https://stattrek.com/multiple-regression/regression-coefficients.aspx?Tutorial=reg)"
      ]
    },
    {
      "cell_type": "markdown",
      "metadata": {
        "id": "RDBp4eGnMKsZ",
        "colab_type": "text"
      },
      "source": [
        "## Next we define the inverse of $X'X$, just like in the website"
      ]
    },
    {
      "cell_type": "code",
      "metadata": {
        "id": "4G8S-KPyJBeT",
        "colab_type": "code",
        "outputId": "496bb331-e497-4234-9e8a-453a23fb459e",
        "colab": {
          "base_uri": "https://localhost:8080/",
          "height": 67
        }
      },
      "source": [
        "from numpy.linalg import inv\n",
        "\n",
        "inverse = inv(X_tp_X)\n",
        "\n",
        "inverse"
      ],
      "execution_count": 66,
      "outputs": [
        {
          "output_type": "execute_result",
          "data": {
            "text/plain": [
              "array([[ 2.02000000e+01, -2.33333333e-01,  1.66666667e-01],\n",
              "       [-2.33333333e-01,  2.77777778e-03, -2.22222222e-03],\n",
              "       [ 1.66666667e-01, -2.22222222e-03,  2.77777778e-03]])"
            ]
          },
          "metadata": {
            "tags": []
          },
          "execution_count": 66
        }
      ]
    },
    {
      "cell_type": "code",
      "metadata": {
        "id": "RMfqQHFYMfod",
        "colab_type": "code",
        "outputId": "23716d74-4941-4c92-84ea-5cdb17567ce9",
        "colab": {
          "base_uri": "https://localhost:8080/",
          "height": 67
        }
      },
      "source": [
        "# checking to make sure the same values as the website\n",
        "\n",
        "print(inverse[0,:])\n",
        "print(inverse[1,:])\n",
        "print(inverse[2,:])"
      ],
      "execution_count": 67,
      "outputs": [
        {
          "output_type": "stream",
          "text": [
            "[20.2        -0.23333333  0.16666667]\n",
            "[-0.23333333  0.00277778 -0.00222222]\n",
            "[ 0.16666667 -0.00222222  0.00277778]\n"
          ],
          "name": "stdout"
        }
      ]
    },
    {
      "cell_type": "markdown",
      "metadata": {
        "id": "DM4J6tTeNKSt",
        "colab_type": "text"
      },
      "source": [
        "everything is perfect up to this point"
      ]
    },
    {
      "cell_type": "code",
      "metadata": {
        "id": "dki3abPhnDDz",
        "colab_type": "code",
        "outputId": "811febf1-f54d-480a-e536-6ee158b4495c",
        "colab": {
          "base_uri": "https://localhost:8080/",
          "height": 34
        }
      },
      "source": [
        "X_tp.shape"
      ],
      "execution_count": 68,
      "outputs": [
        {
          "output_type": "execute_result",
          "data": {
            "text/plain": [
              "(3, 5)"
            ]
          },
          "metadata": {
            "tags": []
          },
          "execution_count": 68
        }
      ]
    },
    {
      "cell_type": "code",
      "metadata": {
        "id": "dLniC5yGnIep",
        "colab_type": "code",
        "outputId": "24f5edaa-aa07-46f4-9f66-d8c9db7b1dfb",
        "colab": {
          "base_uri": "https://localhost:8080/",
          "height": 34
        }
      },
      "source": [
        "inverse.shape"
      ],
      "execution_count": 69,
      "outputs": [
        {
          "output_type": "execute_result",
          "data": {
            "text/plain": [
              "(3, 3)"
            ]
          },
          "metadata": {
            "tags": []
          },
          "execution_count": 69
        }
      ]
    },
    {
      "cell_type": "markdown",
      "metadata": {
        "id": "MRVwhb4LsPSs",
        "colab_type": "text"
      },
      "source": [
        "## Next we pre-multiply the inverse of $X'X$ by $X'$ "
      ]
    },
    {
      "cell_type": "code",
      "metadata": {
        "id": "RdLDdJ_ZltZG",
        "colab_type": "code",
        "outputId": "f4456966-2ed0-4679-89fb-bbdbb84b56eb",
        "colab": {
          "base_uri": "https://localhost:8080/",
          "height": 118
        }
      },
      "source": [
        "X_tp_inverse = np.matmul(inverse, X_tp)\n",
        "\n",
        "X_tp_inverse"
      ],
      "execution_count": 70,
      "outputs": [
        {
          "output_type": "execute_result",
          "data": {
            "text/plain": [
              "array([[ 1.20000000e+00, -2.80000000e+00,  2.00000000e-01,\n",
              "        -8.00000000e-01,  3.20000000e+00],\n",
              "       [-1.66666667e-02,  3.33333333e-02,  1.73472348e-17,\n",
              "         1.66666667e-02, -3.33333333e-02],\n",
              "       [ 3.33333333e-02, -1.66666667e-02, -1.73472348e-17,\n",
              "        -3.33333333e-02,  1.66666667e-02]])"
            ]
          },
          "metadata": {
            "tags": []
          },
          "execution_count": 70
        }
      ]
    },
    {
      "cell_type": "code",
      "metadata": {
        "id": "EFPSxUQpnhqz",
        "colab_type": "code",
        "outputId": "b7cfad7b-caac-41d2-e120-3794448980e3",
        "colab": {
          "base_uri": "https://localhost:8080/",
          "height": 34
        }
      },
      "source": [
        "X_tp_inverse.shape"
      ],
      "execution_count": 71,
      "outputs": [
        {
          "output_type": "execute_result",
          "data": {
            "text/plain": [
              "(3, 5)"
            ]
          },
          "metadata": {
            "tags": []
          },
          "execution_count": 71
        }
      ]
    },
    {
      "cell_type": "markdown",
      "metadata": {
        "id": "fnJ1bgmLNVpR",
        "colab_type": "text"
      },
      "source": [
        "## Next we define the $Y$ variable"
      ]
    },
    {
      "cell_type": "code",
      "metadata": {
        "id": "vtdORPdkNPAQ",
        "colab_type": "code",
        "outputId": "d12d90d3-4851-477d-e915-224f06b3939a",
        "colab": {
          "base_uri": "https://localhost:8080/",
          "height": 34
        }
      },
      "source": [
        "Y = student_scores.Score.values\n",
        "\n",
        "Y"
      ],
      "execution_count": 72,
      "outputs": [
        {
          "output_type": "execute_result",
          "data": {
            "text/plain": [
              "array([100,  90,  80,  70,  60])"
            ]
          },
          "metadata": {
            "tags": []
          },
          "execution_count": 72
        }
      ]
    },
    {
      "cell_type": "code",
      "metadata": {
        "id": "jZ57MBUNphKD",
        "colab_type": "code",
        "outputId": "5076530d-5d7b-4e05-a290-9a11a1d58554",
        "colab": {
          "base_uri": "https://localhost:8080/",
          "height": 34
        }
      },
      "source": [
        "Y.shape"
      ],
      "execution_count": 73,
      "outputs": [
        {
          "output_type": "execute_result",
          "data": {
            "text/plain": [
              "(5,)"
            ]
          },
          "metadata": {
            "tags": []
          },
          "execution_count": 73
        }
      ]
    },
    {
      "cell_type": "markdown",
      "metadata": {
        "id": "rB5Waw2DOHpm",
        "colab_type": "text"
      },
      "source": [
        "## Calculating the slope or coefficients"
      ]
    },
    {
      "cell_type": "markdown",
      "metadata": {
        "id": "_V0F5xHONnFw",
        "colab_type": "text"
      },
      "source": [
        "<h2><font color='khaki'>$ b = (X'X)^{-1}X'Y $</h2>"
      ]
    },
    {
      "cell_type": "markdown",
      "metadata": {
        "id": "9gdsAfBFPHoG",
        "colab_type": "text"
      },
      "source": [
        "## Finally we Pre-multiply $(X'X)^{-1}$ by $Y$ to get the coefficients of the MLR model"
      ]
    },
    {
      "cell_type": "code",
      "metadata": {
        "id": "H-BpaLZBptV9",
        "colab_type": "code",
        "outputId": "5d59f1da-3064-44c3-a2c2-6a96199f9c51",
        "colab": {
          "base_uri": "https://localhost:8080/",
          "height": 34
        }
      },
      "source": [
        "coefficients = np.matmul(X_tp_inverse, Y)\n",
        "\n",
        "coefficients"
      ],
      "execution_count": 74,
      "outputs": [
        {
          "output_type": "execute_result",
          "data": {
            "text/plain": [
              "array([20. ,  0.5,  0.5])"
            ]
          },
          "metadata": {
            "tags": []
          },
          "execution_count": 74
        }
      ]
    },
    {
      "cell_type": "markdown",
      "metadata": {
        "id": "Uw-32wc6tddp",
        "colab_type": "text"
      },
      "source": [
        "## $y_{hat} = b0 + b1x1 + b2x2$"
      ]
    },
    {
      "cell_type": "markdown",
      "metadata": {
        "id": "W6M9mh_4t096",
        "colab_type": "text"
      },
      "source": [
        "which now means"
      ]
    },
    {
      "cell_type": "markdown",
      "metadata": {
        "id": "J3NB9GMwt6DQ",
        "colab_type": "text"
      },
      "source": [
        "## $y_{hat} = 20 + 0.5x1 + 0.5x2$"
      ]
    },
    {
      "cell_type": "markdown",
      "metadata": {
        "id": "bq0M3aONvoyi",
        "colab_type": "text"
      },
      "source": [
        "which now means"
      ]
    },
    {
      "cell_type": "markdown",
      "metadata": {
        "id": "IAMd0zRCvub_",
        "colab_type": "text"
      },
      "source": [
        "## $y_{hat} = 20 + 0.5(IQ) + 0.5(Study-hours)$"
      ]
    },
    {
      "cell_type": "markdown",
      "metadata": {
        "id": "d0w_im23eRwU",
        "colab_type": "text"
      },
      "source": [
        "# <font color='khaki'>Part Two\n",
        "\n",
        "# Real World Data"
      ]
    },
    {
      "cell_type": "markdown",
      "metadata": {
        "id": "6Wt-8B-dfTJz",
        "colab_type": "text"
      },
      "source": [
        "### Let's extrapolate on our learnings and apply these concepts to real live data"
      ]
    },
    {
      "cell_type": "markdown",
      "metadata": {
        "id": "IRPSJQxZgXRl",
        "colab_type": "text"
      },
      "source": [
        "Let's download the data set from Git-hub"
      ]
    },
    {
      "cell_type": "code",
      "metadata": {
        "id": "dI8g447-tZ5K",
        "colab_type": "code",
        "colab": {}
      },
      "source": [
        "# Let's import our Data set\n",
        "data = \"https://raw.githubusercontent.com/Blackman9t/Machine_Learning/master/Original_2000_2014_Fuel_Consumption_Ratings.csv\"\n",
        "\n",
        "# Next let's define additional usual representation of null values to help us select and deal with null data\n",
        "missing_data = ['n/a','na','--','?']"
      ],
      "execution_count": 0,
      "outputs": []
    },
    {
      "cell_type": "code",
      "metadata": {
        "id": "qG40elHRgh_o",
        "colab_type": "code",
        "colab": {
          "base_uri": "https://localhost:8080/",
          "height": 215
        },
        "outputId": "24aa7038-5276-4bc6-932c-42cbe8d34625"
      },
      "source": [
        "fuel_df = pd.read_csv(data, na_values=missing_data)\n",
        "\n",
        "fuel_df.head()"
      ],
      "execution_count": 76,
      "outputs": [
        {
          "output_type": "execute_result",
          "data": {
            "text/html": [
              "<div>\n",
              "<style scoped>\n",
              "    .dataframe tbody tr th:only-of-type {\n",
              "        vertical-align: middle;\n",
              "    }\n",
              "\n",
              "    .dataframe tbody tr th {\n",
              "        vertical-align: top;\n",
              "    }\n",
              "\n",
              "    .dataframe thead th {\n",
              "        text-align: right;\n",
              "    }\n",
              "</style>\n",
              "<table border=\"1\" class=\"dataframe\">\n",
              "  <thead>\n",
              "    <tr style=\"text-align: right;\">\n",
              "      <th></th>\n",
              "      <th>MODEL_YEAR</th>\n",
              "      <th>MAKE</th>\n",
              "      <th>MODEL</th>\n",
              "      <th>VEHICLE_CLASS</th>\n",
              "      <th>ENGINE_SIZE(L)</th>\n",
              "      <th>CYLINDERS</th>\n",
              "      <th>TRANSMISSION</th>\n",
              "      <th>FUEL_TYPE</th>\n",
              "      <th>FUEL_CONSUMPTION_CITY(L/100km)</th>\n",
              "      <th>HWY_(L/100km)</th>\n",
              "      <th>COMB_(L/100km)</th>\n",
              "      <th>COMB_(mpg)</th>\n",
              "      <th>CO2_EMISSIONS(g/km)</th>\n",
              "    </tr>\n",
              "  </thead>\n",
              "  <tbody>\n",
              "    <tr>\n",
              "      <th>0</th>\n",
              "      <td>2000</td>\n",
              "      <td>ACURA</td>\n",
              "      <td>1.6EL</td>\n",
              "      <td>COMPACT</td>\n",
              "      <td>1.6</td>\n",
              "      <td>4</td>\n",
              "      <td>A4</td>\n",
              "      <td>X</td>\n",
              "      <td>9.2</td>\n",
              "      <td>6.7</td>\n",
              "      <td>8.1</td>\n",
              "      <td>35</td>\n",
              "      <td>186</td>\n",
              "    </tr>\n",
              "    <tr>\n",
              "      <th>1</th>\n",
              "      <td>2000</td>\n",
              "      <td>ACURA</td>\n",
              "      <td>1.6EL</td>\n",
              "      <td>COMPACT</td>\n",
              "      <td>1.6</td>\n",
              "      <td>4</td>\n",
              "      <td>M5</td>\n",
              "      <td>X</td>\n",
              "      <td>8.5</td>\n",
              "      <td>6.5</td>\n",
              "      <td>7.6</td>\n",
              "      <td>37</td>\n",
              "      <td>175</td>\n",
              "    </tr>\n",
              "    <tr>\n",
              "      <th>2</th>\n",
              "      <td>2000</td>\n",
              "      <td>ACURA</td>\n",
              "      <td>3.2TL</td>\n",
              "      <td>MID-SIZE</td>\n",
              "      <td>3.2</td>\n",
              "      <td>6</td>\n",
              "      <td>AS5</td>\n",
              "      <td>Z</td>\n",
              "      <td>12.2</td>\n",
              "      <td>7.4</td>\n",
              "      <td>10.0</td>\n",
              "      <td>28</td>\n",
              "      <td>230</td>\n",
              "    </tr>\n",
              "    <tr>\n",
              "      <th>3</th>\n",
              "      <td>2000</td>\n",
              "      <td>ACURA</td>\n",
              "      <td>3.5RL</td>\n",
              "      <td>MID-SIZE</td>\n",
              "      <td>3.5</td>\n",
              "      <td>6</td>\n",
              "      <td>A4</td>\n",
              "      <td>Z</td>\n",
              "      <td>13.4</td>\n",
              "      <td>9.2</td>\n",
              "      <td>11.5</td>\n",
              "      <td>25</td>\n",
              "      <td>264</td>\n",
              "    </tr>\n",
              "    <tr>\n",
              "      <th>4</th>\n",
              "      <td>2000</td>\n",
              "      <td>ACURA</td>\n",
              "      <td>INTEGRA</td>\n",
              "      <td>SUBCOMPACT</td>\n",
              "      <td>1.8</td>\n",
              "      <td>4</td>\n",
              "      <td>A4</td>\n",
              "      <td>X</td>\n",
              "      <td>10.0</td>\n",
              "      <td>7.0</td>\n",
              "      <td>8.6</td>\n",
              "      <td>33</td>\n",
              "      <td>198</td>\n",
              "    </tr>\n",
              "  </tbody>\n",
              "</table>\n",
              "</div>"
            ],
            "text/plain": [
              "   MODEL_YEAR   MAKE    MODEL  ... COMB_(L/100km)  COMB_(mpg)  CO2_EMISSIONS(g/km)\n",
              "0        2000  ACURA    1.6EL  ...            8.1          35                  186\n",
              "1        2000  ACURA    1.6EL  ...            7.6          37                  175\n",
              "2        2000  ACURA    3.2TL  ...           10.0          28                  230\n",
              "3        2000  ACURA    3.5RL  ...           11.5          25                  264\n",
              "4        2000  ACURA  INTEGRA  ...            8.6          33                  198\n",
              "\n",
              "[5 rows x 13 columns]"
            ]
          },
          "metadata": {
            "tags": []
          },
          "execution_count": 76
        }
      ]
    },
    {
      "cell_type": "markdown",
      "metadata": {
        "id": "qPWfIua8io4w",
        "colab_type": "text"
      },
      "source": [
        "let's explore the data "
      ]
    },
    {
      "cell_type": "code",
      "metadata": {
        "id": "3oNKBXJji4xW",
        "colab_type": "code",
        "colab": {
          "base_uri": "https://localhost:8080/",
          "height": 252
        },
        "outputId": "84cbcdb9-b43d-4859-c205-81934a97098b"
      },
      "source": [
        "# let's check the data types per column or attribute are correct\n",
        "fuel_df.dtypes"
      ],
      "execution_count": 77,
      "outputs": [
        {
          "output_type": "execute_result",
          "data": {
            "text/plain": [
              "MODEL_YEAR                          int64\n",
              "MAKE                               object\n",
              "MODEL                              object\n",
              "VEHICLE_CLASS                      object\n",
              "ENGINE_SIZE(L)                    float64\n",
              "CYLINDERS                           int64\n",
              "TRANSMISSION                       object\n",
              "FUEL_TYPE                          object\n",
              "FUEL_CONSUMPTION_CITY(L/100km)    float64\n",
              "HWY_(L/100km)                     float64\n",
              "COMB_(L/100km)                    float64\n",
              "COMB_(mpg)                          int64\n",
              "CO2_EMISSIONS(g/km)                 int64\n",
              "dtype: object"
            ]
          },
          "metadata": {
            "tags": []
          },
          "execution_count": 77
        }
      ]
    },
    {
      "cell_type": "code",
      "metadata": {
        "id": "tL3TR8yDi8tz",
        "colab_type": "code",
        "colab": {
          "base_uri": "https://localhost:8080/",
          "height": 34
        },
        "outputId": "b8118b80-732a-4a5a-f3ac-614915882004"
      },
      "source": [
        "# Let's confirm the shape of the data type\n",
        "fuel_df.shape"
      ],
      "execution_count": 78,
      "outputs": [
        {
          "output_type": "execute_result",
          "data": {
            "text/plain": [
              "(14343, 13)"
            ]
          },
          "metadata": {
            "tags": []
          },
          "execution_count": 78
        }
      ]
    },
    {
      "cell_type": "code",
      "metadata": {
        "id": "Crfle784j0zo",
        "colab_type": "code",
        "colab": {
          "base_uri": "https://localhost:8080/",
          "height": 252
        },
        "outputId": "1a6630b6-83fc-4a81-80cc-844db986f2e5"
      },
      "source": [
        "# Let's check for missing values\n",
        "fuel_df.isna().sum()"
      ],
      "execution_count": 79,
      "outputs": [
        {
          "output_type": "execute_result",
          "data": {
            "text/plain": [
              "MODEL_YEAR                        0\n",
              "MAKE                              0\n",
              "MODEL                             0\n",
              "VEHICLE_CLASS                     0\n",
              "ENGINE_SIZE(L)                    0\n",
              "CYLINDERS                         0\n",
              "TRANSMISSION                      0\n",
              "FUEL_TYPE                         0\n",
              "FUEL_CONSUMPTION_CITY(L/100km)    0\n",
              "HWY_(L/100km)                     0\n",
              "COMB_(L/100km)                    0\n",
              "COMB_(mpg)                        0\n",
              "CO2_EMISSIONS(g/km)               0\n",
              "dtype: int64"
            ]
          },
          "metadata": {
            "tags": []
          },
          "execution_count": 79
        }
      ]
    },
    {
      "cell_type": "code",
      "metadata": {
        "id": "veTRNCs1k9h5",
        "colab_type": "code",
        "colab": {}
      },
      "source": [
        "# Let's rename some column names for brevity\n",
        "fuel_df.rename(columns={'FUEL_CONSUMPTION_CITY(L/100km)':'FUEL_CONS_CITY', \n",
        "                        'ENGINE_SIZE(L)':'ENGINE_SIZE',\n",
        "                       'HWY_(L/100km)':'HWY_L100km',\n",
        "                       'COMB_(L/100km)':'COMB_L100km',\n",
        "                       'COMB_(mpg)':'COMB_MPG',\n",
        "                       'CO2_EMISSIONS(g/km)':'CO2_EMISSIONS'},\n",
        "                       inplace=True)"
      ],
      "execution_count": 0,
      "outputs": []
    },
    {
      "cell_type": "code",
      "metadata": {
        "id": "Uodvyz1AmUpU",
        "colab_type": "code",
        "colab": {
          "base_uri": "https://localhost:8080/",
          "height": 195
        },
        "outputId": "15ee1263-b3a9-4dd8-f3f0-75330a90acc9"
      },
      "source": [
        "# Let's display the renamed data set\n",
        "fuel_df.head()"
      ],
      "execution_count": 81,
      "outputs": [
        {
          "output_type": "execute_result",
          "data": {
            "text/html": [
              "<div>\n",
              "<style scoped>\n",
              "    .dataframe tbody tr th:only-of-type {\n",
              "        vertical-align: middle;\n",
              "    }\n",
              "\n",
              "    .dataframe tbody tr th {\n",
              "        vertical-align: top;\n",
              "    }\n",
              "\n",
              "    .dataframe thead th {\n",
              "        text-align: right;\n",
              "    }\n",
              "</style>\n",
              "<table border=\"1\" class=\"dataframe\">\n",
              "  <thead>\n",
              "    <tr style=\"text-align: right;\">\n",
              "      <th></th>\n",
              "      <th>MODEL_YEAR</th>\n",
              "      <th>MAKE</th>\n",
              "      <th>MODEL</th>\n",
              "      <th>VEHICLE_CLASS</th>\n",
              "      <th>ENGINE_SIZE</th>\n",
              "      <th>CYLINDERS</th>\n",
              "      <th>TRANSMISSION</th>\n",
              "      <th>FUEL_TYPE</th>\n",
              "      <th>FUEL_CONS_CITY</th>\n",
              "      <th>HWY_L100km</th>\n",
              "      <th>COMB_L100km</th>\n",
              "      <th>COMB_MPG</th>\n",
              "      <th>CO2_EMISSIONS</th>\n",
              "    </tr>\n",
              "  </thead>\n",
              "  <tbody>\n",
              "    <tr>\n",
              "      <th>0</th>\n",
              "      <td>2000</td>\n",
              "      <td>ACURA</td>\n",
              "      <td>1.6EL</td>\n",
              "      <td>COMPACT</td>\n",
              "      <td>1.6</td>\n",
              "      <td>4</td>\n",
              "      <td>A4</td>\n",
              "      <td>X</td>\n",
              "      <td>9.2</td>\n",
              "      <td>6.7</td>\n",
              "      <td>8.1</td>\n",
              "      <td>35</td>\n",
              "      <td>186</td>\n",
              "    </tr>\n",
              "    <tr>\n",
              "      <th>1</th>\n",
              "      <td>2000</td>\n",
              "      <td>ACURA</td>\n",
              "      <td>1.6EL</td>\n",
              "      <td>COMPACT</td>\n",
              "      <td>1.6</td>\n",
              "      <td>4</td>\n",
              "      <td>M5</td>\n",
              "      <td>X</td>\n",
              "      <td>8.5</td>\n",
              "      <td>6.5</td>\n",
              "      <td>7.6</td>\n",
              "      <td>37</td>\n",
              "      <td>175</td>\n",
              "    </tr>\n",
              "    <tr>\n",
              "      <th>2</th>\n",
              "      <td>2000</td>\n",
              "      <td>ACURA</td>\n",
              "      <td>3.2TL</td>\n",
              "      <td>MID-SIZE</td>\n",
              "      <td>3.2</td>\n",
              "      <td>6</td>\n",
              "      <td>AS5</td>\n",
              "      <td>Z</td>\n",
              "      <td>12.2</td>\n",
              "      <td>7.4</td>\n",
              "      <td>10.0</td>\n",
              "      <td>28</td>\n",
              "      <td>230</td>\n",
              "    </tr>\n",
              "    <tr>\n",
              "      <th>3</th>\n",
              "      <td>2000</td>\n",
              "      <td>ACURA</td>\n",
              "      <td>3.5RL</td>\n",
              "      <td>MID-SIZE</td>\n",
              "      <td>3.5</td>\n",
              "      <td>6</td>\n",
              "      <td>A4</td>\n",
              "      <td>Z</td>\n",
              "      <td>13.4</td>\n",
              "      <td>9.2</td>\n",
              "      <td>11.5</td>\n",
              "      <td>25</td>\n",
              "      <td>264</td>\n",
              "    </tr>\n",
              "    <tr>\n",
              "      <th>4</th>\n",
              "      <td>2000</td>\n",
              "      <td>ACURA</td>\n",
              "      <td>INTEGRA</td>\n",
              "      <td>SUBCOMPACT</td>\n",
              "      <td>1.8</td>\n",
              "      <td>4</td>\n",
              "      <td>A4</td>\n",
              "      <td>X</td>\n",
              "      <td>10.0</td>\n",
              "      <td>7.0</td>\n",
              "      <td>8.6</td>\n",
              "      <td>33</td>\n",
              "      <td>198</td>\n",
              "    </tr>\n",
              "  </tbody>\n",
              "</table>\n",
              "</div>"
            ],
            "text/plain": [
              "   MODEL_YEAR   MAKE    MODEL  ... COMB_L100km  COMB_MPG  CO2_EMISSIONS\n",
              "0        2000  ACURA    1.6EL  ...         8.1        35            186\n",
              "1        2000  ACURA    1.6EL  ...         7.6        37            175\n",
              "2        2000  ACURA    3.2TL  ...        10.0        28            230\n",
              "3        2000  ACURA    3.5RL  ...        11.5        25            264\n",
              "4        2000  ACURA  INTEGRA  ...         8.6        33            198\n",
              "\n",
              "[5 rows x 13 columns]"
            ]
          },
          "metadata": {
            "tags": []
          },
          "execution_count": 81
        }
      ]
    },
    {
      "cell_type": "code",
      "metadata": {
        "id": "CcAJmL6Tj7Mx",
        "colab_type": "code",
        "colab": {
          "base_uri": "https://localhost:8080/",
          "height": 453
        },
        "outputId": "1de75236-90a9-4709-9099-4140a2acf06e"
      },
      "source": [
        "# Let's plot the correlation of the data set using a heatmap from seaborn library\n",
        "corr_data = fuel_df.corr()\n",
        "\n",
        "plt.figure(figsize=(10, 6))\n",
        "sns.set_style('ticks')\n",
        "\n",
        "sns.heatmap(corr_data, annot=True)\n",
        "\n",
        "plt.show()"
      ],
      "execution_count": 82,
      "outputs": [
        {
          "output_type": "display_data",
          "data": {
            "image/png": "[encoded data removed]",
            "text/plain": [
              "<Figure size 720x432 with 2 Axes>"
            ]
          },
          "metadata": {
            "tags": []
          }
        }
      ]
    },
    {
      "cell_type": "markdown",
      "metadata": {
        "id": "4lG6nEjKm6c4",
        "colab_type": "text"
      },
      "source": [
        "### Selecting our independent variables ($X$), an $m * n$ matrix and our dependent variable ($y$), a $m * 1$ vector"
      ]
    },
    {
      "cell_type": "markdown",
      "metadata": {
        "id": "a8v4-1E42jQa",
        "colab_type": "text"
      },
      "source": [
        "#### Let's first compile the data into training and testing data"
      ]
    },
    {
      "cell_type": "code",
      "metadata": {
        "id": "qJqP8jlWndXM",
        "colab_type": "code",
        "colab": {
          "base_uri": "https://localhost:8080/",
          "height": 195
        },
        "outputId": "df85ebff-6666-4274-fafb-9dbc00f245dc"
      },
      "source": [
        "data = fuel_df[['ENGINE_SIZE','CYLINDERS','FUEL_CONS_CITY','COMB_MPG', 'CO2_EMISSIONS']]\n",
        "\n",
        "data.head()"
      ],
      "execution_count": 100,
      "outputs": [
        {
          "output_type": "execute_result",
          "data": {
            "text/html": [
              "<div>\n",
              "<style scoped>\n",
              "    .dataframe tbody tr th:only-of-type {\n",
              "        vertical-align: middle;\n",
              "    }\n",
              "\n",
              "    .dataframe tbody tr th {\n",
              "        vertical-align: top;\n",
              "    }\n",
              "\n",
              "    .dataframe thead th {\n",
              "        text-align: right;\n",
              "    }\n",
              "</style>\n",
              "<table border=\"1\" class=\"dataframe\">\n",
              "  <thead>\n",
              "    <tr style=\"text-align: right;\">\n",
              "      <th></th>\n",
              "      <th>ENGINE_SIZE</th>\n",
              "      <th>CYLINDERS</th>\n",
              "      <th>FUEL_CONS_CITY</th>\n",
              "      <th>COMB_MPG</th>\n",
              "      <th>CO2_EMISSIONS</th>\n",
              "    </tr>\n",
              "  </thead>\n",
              "  <tbody>\n",
              "    <tr>\n",
              "      <th>0</th>\n",
              "      <td>1.6</td>\n",
              "      <td>4</td>\n",
              "      <td>9.2</td>\n",
              "      <td>35</td>\n",
              "      <td>186</td>\n",
              "    </tr>\n",
              "    <tr>\n",
              "      <th>1</th>\n",
              "      <td>1.6</td>\n",
              "      <td>4</td>\n",
              "      <td>8.5</td>\n",
              "      <td>37</td>\n",
              "      <td>175</td>\n",
              "    </tr>\n",
              "    <tr>\n",
              "      <th>2</th>\n",
              "      <td>3.2</td>\n",
              "      <td>6</td>\n",
              "      <td>12.2</td>\n",
              "      <td>28</td>\n",
              "      <td>230</td>\n",
              "    </tr>\n",
              "    <tr>\n",
              "      <th>3</th>\n",
              "      <td>3.5</td>\n",
              "      <td>6</td>\n",
              "      <td>13.4</td>\n",
              "      <td>25</td>\n",
              "      <td>264</td>\n",
              "    </tr>\n",
              "    <tr>\n",
              "      <th>4</th>\n",
              "      <td>1.8</td>\n",
              "      <td>4</td>\n",
              "      <td>10.0</td>\n",
              "      <td>33</td>\n",
              "      <td>198</td>\n",
              "    </tr>\n",
              "  </tbody>\n",
              "</table>\n",
              "</div>"
            ],
            "text/plain": [
              "   ENGINE_SIZE  CYLINDERS  FUEL_CONS_CITY  COMB_MPG  CO2_EMISSIONS\n",
              "0          1.6          4             9.2        35            186\n",
              "1          1.6          4             8.5        37            175\n",
              "2          3.2          6            12.2        28            230\n",
              "3          3.5          6            13.4        25            264\n",
              "4          1.8          4            10.0        33            198"
            ]
          },
          "metadata": {
            "tags": []
          },
          "execution_count": 100
        }
      ]
    },
    {
      "cell_type": "markdown",
      "metadata": {
        "id": "WPfArGhi3f_n",
        "colab_type": "text"
      },
      "source": [
        "next we define the training data by making it 73% of the data selected at random "
      ]
    },
    {
      "cell_type": "code",
      "metadata": {
        "id": "ATQv-lDO25CR",
        "colab_type": "code",
        "colab": {
          "base_uri": "https://localhost:8080/",
          "height": 136
        },
        "outputId": "6e9a7e43-4599-4593-da60-36f768bc9e89"
      },
      "source": [
        "training_data = data.sample(frac=0.73, random_state=47)\n",
        "\n",
        "training_data.head(3)"
      ],
      "execution_count": 102,
      "outputs": [
        {
          "output_type": "execute_result",
          "data": {
            "text/html": [
              "<div>\n",
              "<style scoped>\n",
              "    .dataframe tbody tr th:only-of-type {\n",
              "        vertical-align: middle;\n",
              "    }\n",
              "\n",
              "    .dataframe tbody tr th {\n",
              "        vertical-align: top;\n",
              "    }\n",
              "\n",
              "    .dataframe thead th {\n",
              "        text-align: right;\n",
              "    }\n",
              "</style>\n",
              "<table border=\"1\" class=\"dataframe\">\n",
              "  <thead>\n",
              "    <tr style=\"text-align: right;\">\n",
              "      <th></th>\n",
              "      <th>ENGINE_SIZE</th>\n",
              "      <th>CYLINDERS</th>\n",
              "      <th>FUEL_CONS_CITY</th>\n",
              "      <th>COMB_MPG</th>\n",
              "      <th>CO2_EMISSIONS</th>\n",
              "    </tr>\n",
              "  </thead>\n",
              "  <tbody>\n",
              "    <tr>\n",
              "      <th>9054</th>\n",
              "      <td>3.0</td>\n",
              "      <td>6</td>\n",
              "      <td>11.9</td>\n",
              "      <td>28</td>\n",
              "      <td>232</td>\n",
              "    </tr>\n",
              "    <tr>\n",
              "      <th>14088</th>\n",
              "      <td>1.6</td>\n",
              "      <td>4</td>\n",
              "      <td>8.7</td>\n",
              "      <td>37</td>\n",
              "      <td>177</td>\n",
              "    </tr>\n",
              "    <tr>\n",
              "      <th>7891</th>\n",
              "      <td>3.5</td>\n",
              "      <td>6</td>\n",
              "      <td>11.6</td>\n",
              "      <td>29</td>\n",
              "      <td>223</td>\n",
              "    </tr>\n",
              "  </tbody>\n",
              "</table>\n",
              "</div>"
            ],
            "text/plain": [
              "       ENGINE_SIZE  CYLINDERS  FUEL_CONS_CITY  COMB_MPG  CO2_EMISSIONS\n",
              "9054           3.0          6            11.9        28            232\n",
              "14088          1.6          4             8.7        37            177\n",
              "7891           3.5          6            11.6        29            223"
            ]
          },
          "metadata": {
            "tags": []
          },
          "execution_count": 102
        }
      ]
    },
    {
      "cell_type": "markdown",
      "metadata": {
        "id": "u2yVTc0S3t7g",
        "colab_type": "text"
      },
      "source": [
        "next we define the remaining 27% of the data as testing data"
      ]
    },
    {
      "cell_type": "code",
      "metadata": {
        "id": "bMpkCG1F38tt",
        "colab_type": "code",
        "colab": {}
      },
      "source": [
        "# Now to find the index of the remaining 20% of the data to use as our random test data,\n",
        "# we do the following to extract and cast it to a list:-\n",
        "# convert the entire index to a set and convert the training data index to a set too, \n",
        "# find the diff between the two and cast that difference to a list. \n",
        "\n",
        "testing_index = list(set(data.index.values).difference(set(training_data.index.values)))"
      ],
      "execution_count": 0,
      "outputs": []
    },
    {
      "cell_type": "code",
      "metadata": {
        "id": "cqncHW6_49lr",
        "colab_type": "code",
        "colab": {
          "base_uri": "https://localhost:8080/",
          "height": 136
        },
        "outputId": "9938811d-6085-4c28-943d-ac07ee2eed33"
      },
      "source": [
        "# And now we simply create a testing data set with only the index not in the training data set\n",
        "\n",
        "testing_data = data.iloc[testing_index, :]\n",
        "\n",
        "testing_data.head(3)"
      ],
      "execution_count": 104,
      "outputs": [
        {
          "output_type": "execute_result",
          "data": {
            "text/html": [
              "<div>\n",
              "<style scoped>\n",
              "    .dataframe tbody tr th:only-of-type {\n",
              "        vertical-align: middle;\n",
              "    }\n",
              "\n",
              "    .dataframe tbody tr th {\n",
              "        vertical-align: top;\n",
              "    }\n",
              "\n",
              "    .dataframe thead th {\n",
              "        text-align: right;\n",
              "    }\n",
              "</style>\n",
              "<table border=\"1\" class=\"dataframe\">\n",
              "  <thead>\n",
              "    <tr style=\"text-align: right;\">\n",
              "      <th></th>\n",
              "      <th>ENGINE_SIZE</th>\n",
              "      <th>CYLINDERS</th>\n",
              "      <th>FUEL_CONS_CITY</th>\n",
              "      <th>COMB_MPG</th>\n",
              "      <th>CO2_EMISSIONS</th>\n",
              "    </tr>\n",
              "  </thead>\n",
              "  <tbody>\n",
              "    <tr>\n",
              "      <th>3</th>\n",
              "      <td>3.5</td>\n",
              "      <td>6</td>\n",
              "      <td>13.4</td>\n",
              "      <td>25</td>\n",
              "      <td>264</td>\n",
              "    </tr>\n",
              "    <tr>\n",
              "      <th>8195</th>\n",
              "      <td>2.0</td>\n",
              "      <td>4</td>\n",
              "      <td>9.0</td>\n",
              "      <td>34</td>\n",
              "      <td>191</td>\n",
              "    </tr>\n",
              "    <tr>\n",
              "      <th>8197</th>\n",
              "      <td>3.5</td>\n",
              "      <td>6</td>\n",
              "      <td>12.2</td>\n",
              "      <td>27</td>\n",
              "      <td>237</td>\n",
              "    </tr>\n",
              "  </tbody>\n",
              "</table>\n",
              "</div>"
            ],
            "text/plain": [
              "      ENGINE_SIZE  CYLINDERS  FUEL_CONS_CITY  COMB_MPG  CO2_EMISSIONS\n",
              "3             3.5          6            13.4        25            264\n",
              "8195          2.0          4             9.0        34            191\n",
              "8197          3.5          6            12.2        27            237"
            ]
          },
          "metadata": {
            "tags": []
          },
          "execution_count": 104
        }
      ]
    },
    {
      "cell_type": "markdown",
      "metadata": {
        "id": "dIn1vtu35WuW",
        "colab_type": "text"
      },
      "source": [
        "Let's confirm the shapes of both training and testing data sets"
      ]
    },
    {
      "cell_type": "code",
      "metadata": {
        "id": "laDpirzb5edh",
        "colab_type": "code",
        "colab": {
          "base_uri": "https://localhost:8080/",
          "height": 50
        },
        "outputId": "47865c95-010a-48d9-c157-99b5398af116"
      },
      "source": [
        "print('Training data shape is',training_data.shape)\n",
        "print('Testing data shape is',testing_data.shape)"
      ],
      "execution_count": 105,
      "outputs": [
        {
          "output_type": "stream",
          "text": [
            "Training data shape is (10470, 5)\n",
            "Testing data shape is (3873, 5)\n"
          ],
          "name": "stdout"
        }
      ]
    },
    {
      "cell_type": "markdown",
      "metadata": {
        "id": "N68vwtHn57_Q",
        "colab_type": "text"
      },
      "source": [
        "### Now let's define $X$ our $m * n$ matrix of the independent variables or features"
      ]
    },
    {
      "cell_type": "markdown",
      "metadata": {
        "id": "IHtpa7c17Q_n",
        "colab_type": "text"
      },
      "source": [
        "#### First the training data $X-train$"
      ]
    },
    {
      "cell_type": "code",
      "metadata": {
        "id": "p68LmnXD6SYb",
        "colab_type": "code",
        "colab": {
          "base_uri": "https://localhost:8080/",
          "height": 136
        },
        "outputId": "16fa166f-4d87-495a-f6a8-04f606468a72"
      },
      "source": [
        "# The training data for our model\n",
        "\n",
        "X_train = training_data.iloc[:, :-1]\n",
        "X_train.head(3)"
      ],
      "execution_count": 106,
      "outputs": [
        {
          "output_type": "execute_result",
          "data": {
            "text/html": [
              "<div>\n",
              "<style scoped>\n",
              "    .dataframe tbody tr th:only-of-type {\n",
              "        vertical-align: middle;\n",
              "    }\n",
              "\n",
              "    .dataframe tbody tr th {\n",
              "        vertical-align: top;\n",
              "    }\n",
              "\n",
              "    .dataframe thead th {\n",
              "        text-align: right;\n",
              "    }\n",
              "</style>\n",
              "<table border=\"1\" class=\"dataframe\">\n",
              "  <thead>\n",
              "    <tr style=\"text-align: right;\">\n",
              "      <th></th>\n",
              "      <th>ENGINE_SIZE</th>\n",
              "      <th>CYLINDERS</th>\n",
              "      <th>FUEL_CONS_CITY</th>\n",
              "      <th>COMB_MPG</th>\n",
              "    </tr>\n",
              "  </thead>\n",
              "  <tbody>\n",
              "    <tr>\n",
              "      <th>9054</th>\n",
              "      <td>3.0</td>\n",
              "      <td>6</td>\n",
              "      <td>11.9</td>\n",
              "      <td>28</td>\n",
              "    </tr>\n",
              "    <tr>\n",
              "      <th>14088</th>\n",
              "      <td>1.6</td>\n",
              "      <td>4</td>\n",
              "      <td>8.7</td>\n",
              "      <td>37</td>\n",
              "    </tr>\n",
              "    <tr>\n",
              "      <th>7891</th>\n",
              "      <td>3.5</td>\n",
              "      <td>6</td>\n",
              "      <td>11.6</td>\n",
              "      <td>29</td>\n",
              "    </tr>\n",
              "  </tbody>\n",
              "</table>\n",
              "</div>"
            ],
            "text/plain": [
              "       ENGINE_SIZE  CYLINDERS  FUEL_CONS_CITY  COMB_MPG\n",
              "9054           3.0          6            11.9        28\n",
              "14088          1.6          4             8.7        37\n",
              "7891           3.5          6            11.6        29"
            ]
          },
          "metadata": {
            "tags": []
          },
          "execution_count": 106
        }
      ]
    },
    {
      "cell_type": "markdown",
      "metadata": {
        "id": "zEPDbawOosG-",
        "colab_type": "text"
      },
      "source": [
        "next, adding a column of 1's as bias unit or intercept to $X-train$ to make $X$ a:  $1 + m * n$ matrix"
      ]
    },
    {
      "cell_type": "code",
      "metadata": {
        "id": "UmhjCI9EqErZ",
        "colab_type": "code",
        "colab": {
          "base_uri": "https://localhost:8080/",
          "height": 136
        },
        "outputId": "4681a7b6-9704-48d0-aee6-49205a33958b"
      },
      "source": [
        "ones = np.ones(len(X_train), dtype='int')\n",
        "\n",
        "X_train.insert(0, 'ones', ones)\n",
        "\n",
        "X_train.head(3)"
      ],
      "execution_count": 108,
      "outputs": [
        {
          "output_type": "execute_result",
          "data": {
            "text/html": [
              "<div>\n",
              "<style scoped>\n",
              "    .dataframe tbody tr th:only-of-type {\n",
              "        vertical-align: middle;\n",
              "    }\n",
              "\n",
              "    .dataframe tbody tr th {\n",
              "        vertical-align: top;\n",
              "    }\n",
              "\n",
              "    .dataframe thead th {\n",
              "        text-align: right;\n",
              "    }\n",
              "</style>\n",
              "<table border=\"1\" class=\"dataframe\">\n",
              "  <thead>\n",
              "    <tr style=\"text-align: right;\">\n",
              "      <th></th>\n",
              "      <th>ones</th>\n",
              "      <th>ENGINE_SIZE</th>\n",
              "      <th>CYLINDERS</th>\n",
              "      <th>FUEL_CONS_CITY</th>\n",
              "      <th>COMB_MPG</th>\n",
              "    </tr>\n",
              "  </thead>\n",
              "  <tbody>\n",
              "    <tr>\n",
              "      <th>9054</th>\n",
              "      <td>1</td>\n",
              "      <td>3.0</td>\n",
              "      <td>6</td>\n",
              "      <td>11.9</td>\n",
              "      <td>28</td>\n",
              "    </tr>\n",
              "    <tr>\n",
              "      <th>14088</th>\n",
              "      <td>1</td>\n",
              "      <td>1.6</td>\n",
              "      <td>4</td>\n",
              "      <td>8.7</td>\n",
              "      <td>37</td>\n",
              "    </tr>\n",
              "    <tr>\n",
              "      <th>7891</th>\n",
              "      <td>1</td>\n",
              "      <td>3.5</td>\n",
              "      <td>6</td>\n",
              "      <td>11.6</td>\n",
              "      <td>29</td>\n",
              "    </tr>\n",
              "  </tbody>\n",
              "</table>\n",
              "</div>"
            ],
            "text/plain": [
              "       ones  ENGINE_SIZE  CYLINDERS  FUEL_CONS_CITY  COMB_MPG\n",
              "9054      1          3.0          6            11.9        28\n",
              "14088     1          1.6          4             8.7        37\n",
              "7891      1          3.5          6            11.6        29"
            ]
          },
          "metadata": {
            "tags": []
          },
          "execution_count": 108
        }
      ]
    },
    {
      "cell_type": "markdown",
      "metadata": {
        "id": "BXbmZjVlqUPe",
        "colab_type": "text"
      },
      "source": [
        "next convert $X-train$ to a numpy array"
      ]
    },
    {
      "cell_type": "code",
      "metadata": {
        "id": "tCkwgsyEqTFU",
        "colab_type": "code",
        "colab": {
          "base_uri": "https://localhost:8080/",
          "height": 134
        },
        "outputId": "a7bb703b-ffb7-4473-d28c-12681f3bd059"
      },
      "source": [
        "X_train = X_train.values\n",
        "\n",
        "X_train"
      ],
      "execution_count": 109,
      "outputs": [
        {
          "output_type": "execute_result",
          "data": {
            "text/plain": [
              "array([[ 1. ,  3. ,  6. , 11.9, 28. ],\n",
              "       [ 1. ,  1.6,  4. ,  8.7, 37. ],\n",
              "       [ 1. ,  3.5,  6. , 11.6, 29. ],\n",
              "       ...,\n",
              "       [ 1. ,  2.3,  6. , 12.2, 27. ],\n",
              "       [ 1. ,  1.8,  4. , 10.1, 31. ],\n",
              "       [ 1. ,  1.6,  4. ,  9.5, 34. ]])"
            ]
          },
          "metadata": {
            "tags": []
          },
          "execution_count": 109
        }
      ]
    },
    {
      "cell_type": "markdown",
      "metadata": {
        "id": "lffs4wtA8K0r",
        "colab_type": "text"
      },
      "source": [
        "#### Next we do the above steps to define the $X-test$ data we would use to test the model"
      ]
    },
    {
      "cell_type": "code",
      "metadata": {
        "id": "5hmoCr9N-7mj",
        "colab_type": "code",
        "colab": {
          "base_uri": "https://localhost:8080/",
          "height": 136
        },
        "outputId": "cd36ef1e-3dd0-41db-ff09-f8a5450200a0"
      },
      "source": [
        "X_test = testing_data.iloc[:, :-1]\n",
        "X_test.head(3)"
      ],
      "execution_count": 110,
      "outputs": [
        {
          "output_type": "execute_result",
          "data": {
            "text/html": [
              "<div>\n",
              "<style scoped>\n",
              "    .dataframe tbody tr th:only-of-type {\n",
              "        vertical-align: middle;\n",
              "    }\n",
              "\n",
              "    .dataframe tbody tr th {\n",
              "        vertical-align: top;\n",
              "    }\n",
              "\n",
              "    .dataframe thead th {\n",
              "        text-align: right;\n",
              "    }\n",
              "</style>\n",
              "<table border=\"1\" class=\"dataframe\">\n",
              "  <thead>\n",
              "    <tr style=\"text-align: right;\">\n",
              "      <th></th>\n",
              "      <th>ENGINE_SIZE</th>\n",
              "      <th>CYLINDERS</th>\n",
              "      <th>FUEL_CONS_CITY</th>\n",
              "      <th>COMB_MPG</th>\n",
              "    </tr>\n",
              "  </thead>\n",
              "  <tbody>\n",
              "    <tr>\n",
              "      <th>3</th>\n",
              "      <td>3.5</td>\n",
              "      <td>6</td>\n",
              "      <td>13.4</td>\n",
              "      <td>25</td>\n",
              "    </tr>\n",
              "    <tr>\n",
              "      <th>8195</th>\n",
              "      <td>2.0</td>\n",
              "      <td>4</td>\n",
              "      <td>9.0</td>\n",
              "      <td>34</td>\n",
              "    </tr>\n",
              "    <tr>\n",
              "      <th>8197</th>\n",
              "      <td>3.5</td>\n",
              "      <td>6</td>\n",
              "      <td>12.2</td>\n",
              "      <td>27</td>\n",
              "    </tr>\n",
              "  </tbody>\n",
              "</table>\n",
              "</div>"
            ],
            "text/plain": [
              "      ENGINE_SIZE  CYLINDERS  FUEL_CONS_CITY  COMB_MPG\n",
              "3             3.5          6            13.4        25\n",
              "8195          2.0          4             9.0        34\n",
              "8197          3.5          6            12.2        27"
            ]
          },
          "metadata": {
            "tags": []
          },
          "execution_count": 110
        }
      ]
    },
    {
      "cell_type": "code",
      "metadata": {
        "id": "H4gOANPe_L1n",
        "colab_type": "code",
        "colab": {
          "base_uri": "https://localhost:8080/",
          "height": 136
        },
        "outputId": "2f1079bd-67b1-4e84-fbda-ddc32342efd5"
      },
      "source": [
        "# Adding a column of 1's as bias unit\n",
        "\n",
        "ones = np.ones(len(X_test), dtype='int')\n",
        "\n",
        "X_test.insert(0, 'ones', ones)\n",
        "\n",
        "X_test.head(3)"
      ],
      "execution_count": 111,
      "outputs": [
        {
          "output_type": "execute_result",
          "data": {
            "text/html": [
              "<div>\n",
              "<style scoped>\n",
              "    .dataframe tbody tr th:only-of-type {\n",
              "        vertical-align: middle;\n",
              "    }\n",
              "\n",
              "    .dataframe tbody tr th {\n",
              "        vertical-align: top;\n",
              "    }\n",
              "\n",
              "    .dataframe thead th {\n",
              "        text-align: right;\n",
              "    }\n",
              "</style>\n",
              "<table border=\"1\" class=\"dataframe\">\n",
              "  <thead>\n",
              "    <tr style=\"text-align: right;\">\n",
              "      <th></th>\n",
              "      <th>ones</th>\n",
              "      <th>ENGINE_SIZE</th>\n",
              "      <th>CYLINDERS</th>\n",
              "      <th>FUEL_CONS_CITY</th>\n",
              "      <th>COMB_MPG</th>\n",
              "    </tr>\n",
              "  </thead>\n",
              "  <tbody>\n",
              "    <tr>\n",
              "      <th>3</th>\n",
              "      <td>1</td>\n",
              "      <td>3.5</td>\n",
              "      <td>6</td>\n",
              "      <td>13.4</td>\n",
              "      <td>25</td>\n",
              "    </tr>\n",
              "    <tr>\n",
              "      <th>8195</th>\n",
              "      <td>1</td>\n",
              "      <td>2.0</td>\n",
              "      <td>4</td>\n",
              "      <td>9.0</td>\n",
              "      <td>34</td>\n",
              "    </tr>\n",
              "    <tr>\n",
              "      <th>8197</th>\n",
              "      <td>1</td>\n",
              "      <td>3.5</td>\n",
              "      <td>6</td>\n",
              "      <td>12.2</td>\n",
              "      <td>27</td>\n",
              "    </tr>\n",
              "  </tbody>\n",
              "</table>\n",
              "</div>"
            ],
            "text/plain": [
              "      ones  ENGINE_SIZE  CYLINDERS  FUEL_CONS_CITY  COMB_MPG\n",
              "3        1          3.5          6            13.4        25\n",
              "8195     1          2.0          4             9.0        34\n",
              "8197     1          3.5          6            12.2        27"
            ]
          },
          "metadata": {
            "tags": []
          },
          "execution_count": 111
        }
      ]
    },
    {
      "cell_type": "code",
      "metadata": {
        "id": "YuJmBnDw_had",
        "colab_type": "code",
        "colab": {
          "base_uri": "https://localhost:8080/",
          "height": 134
        },
        "outputId": "0ce62e31-782a-4518-c185-5a18911d7de4"
      },
      "source": [
        "# Now we convert X_test to an array\n",
        "\n",
        "X_test = X_test.values\n",
        "\n",
        "X_test"
      ],
      "execution_count": 112,
      "outputs": [
        {
          "output_type": "execute_result",
          "data": {
            "text/plain": [
              "array([[ 1. ,  3.5,  6. , 13.4, 25. ],\n",
              "       [ 1. ,  2. ,  4. ,  9. , 34. ],\n",
              "       [ 1. ,  3.5,  6. , 12.2, 27. ],\n",
              "       ...,\n",
              "       [ 1. ,  2.4,  4. ,  9.8, 32. ],\n",
              "       [ 1. ,  2.4,  4. , 10.3, 32. ],\n",
              "       [ 1. ,  2.4,  4. ,  9.7, 34. ]])"
            ]
          },
          "metadata": {
            "tags": []
          },
          "execution_count": 112
        }
      ]
    },
    {
      "cell_type": "markdown",
      "metadata": {
        "id": "_VxMkKTS_1gx",
        "colab_type": "text"
      },
      "source": [
        "### Now let's define $y$ our $m * 1$ column vector of the dependent variable or target"
      ]
    },
    {
      "cell_type": "code",
      "metadata": {
        "id": "IYwrYmRo_zpk",
        "colab_type": "code",
        "colab": {
          "base_uri": "https://localhost:8080/",
          "height": 134
        },
        "outputId": "a2d0f3fc-a96a-462f-a26e-130542fa4d5f"
      },
      "source": [
        "# first we define y_train\n",
        "\n",
        "y_train = training_data.iloc[:, -1:].values\n",
        "\n",
        "y_train"
      ],
      "execution_count": 114,
      "outputs": [
        {
          "output_type": "execute_result",
          "data": {
            "text/plain": [
              "array([[232],\n",
              "       [177],\n",
              "       [223],\n",
              "       ...,\n",
              "       [237],\n",
              "       [207],\n",
              "       [189]])"
            ]
          },
          "metadata": {
            "tags": []
          },
          "execution_count": 114
        }
      ]
    },
    {
      "cell_type": "code",
      "metadata": {
        "id": "1U7jwoArAj9P",
        "colab_type": "code",
        "colab": {
          "base_uri": "https://localhost:8080/",
          "height": 134
        },
        "outputId": "47523cce-e03b-4015-8030-7b77ff146f5c"
      },
      "source": [
        "# next we define y_test\n",
        "\n",
        "y_test = testing_data.iloc[:, -1:].values\n",
        "\n",
        "y_test"
      ],
      "execution_count": 115,
      "outputs": [
        {
          "output_type": "execute_result",
          "data": {
            "text/plain": [
              "array([[264],\n",
              "       [191],\n",
              "       [237],\n",
              "       ...,\n",
              "       [202],\n",
              "       [202],\n",
              "       [191]])"
            ]
          },
          "metadata": {
            "tags": []
          },
          "execution_count": 115
        }
      ]
    },
    {
      "cell_type": "markdown",
      "metadata": {
        "id": "3BTb0yHbqlZQ",
        "colab_type": "text"
      },
      "source": [
        "next define $X'$ or $X$ transpose"
      ]
    },
    {
      "cell_type": "code",
      "metadata": {
        "id": "wTn7EemmpFkc",
        "colab_type": "code",
        "colab": {
          "base_uri": "https://localhost:8080/",
          "height": 101
        },
        "outputId": "f7184676-dcff-4a0d-8b54-b6cc745fbe51"
      },
      "source": [
        "X_trans = X_train.transpose()\n",
        "\n",
        "X_trans"
      ],
      "execution_count": 118,
      "outputs": [
        {
          "output_type": "execute_result",
          "data": {
            "text/plain": [
              "array([[ 1. ,  1. ,  1. , ...,  1. ,  1. ,  1. ],\n",
              "       [ 3. ,  1.6,  3.5, ...,  2.3,  1.8,  1.6],\n",
              "       [ 6. ,  4. ,  6. , ...,  6. ,  4. ,  4. ],\n",
              "       [11.9,  8.7, 11.6, ..., 12.2, 10.1,  9.5],\n",
              "       [28. , 37. , 29. , ..., 27. , 31. , 34. ]])"
            ]
          },
          "metadata": {
            "tags": []
          },
          "execution_count": 118
        }
      ]
    },
    {
      "cell_type": "markdown",
      "metadata": {
        "id": "XrnXO9SorElL",
        "colab_type": "text"
      },
      "source": [
        "Next pre-multiply $X'$ by $X$"
      ]
    },
    {
      "cell_type": "code",
      "metadata": {
        "id": "DfEMVpUYrMOi",
        "colab_type": "code",
        "colab": {
          "base_uri": "https://localhost:8080/",
          "height": 101
        },
        "outputId": "c98dceab-c24c-4871-b0c0-752ca26c2cfe"
      },
      "source": [
        "X_trans_X = np.matmul(X_trans, X_train)\n",
        "\n",
        "X_trans_X"
      ],
      "execution_count": 119,
      "outputs": [
        {
          "output_type": "execute_result",
          "data": {
            "text/plain": [
              "array([[  10470.  ,   36336.7 ,   62725.  ,  135052.8 ,  286522.  ],\n",
              "       [  36336.7 ,  143975.85,  239737.3 ,  508132.51,  915467.6 ],\n",
              "       [  62725.  ,  239737.3 ,  409039.  ,  860567.7 , 1616006.  ],\n",
              "       [ 135052.8 ,  508132.51,  860567.7 , 1871908.76, 3440852.4 ],\n",
              "       [ 286522.  ,  915467.6 , 1616006.  , 3440852.4 , 8427362.  ]])"
            ]
          },
          "metadata": {
            "tags": []
          },
          "execution_count": 119
        }
      ]
    },
    {
      "cell_type": "markdown",
      "metadata": {
        "id": "BhBC9pHUrmRG",
        "colab_type": "text"
      },
      "source": [
        "Let's print out their corresponding shapes"
      ]
    },
    {
      "cell_type": "code",
      "metadata": {
        "id": "ni6plMgprqlK",
        "colab_type": "code",
        "colab": {
          "base_uri": "https://localhost:8080/",
          "height": 67
        },
        "outputId": "ce360dd7-8d56-4b48-8a42-67f80639a7be"
      },
      "source": [
        "print('Shape of X is',X_train.shape)\n",
        "print('Shape of X transpose is',X_trans.shape)\n",
        "print('Shape of X transpose X is',X_trans_X.shape)"
      ],
      "execution_count": 120,
      "outputs": [
        {
          "output_type": "stream",
          "text": [
            "Shape of X is (10470, 5)\n",
            "Shape of X transpose is (5, 10470)\n",
            "Shape of X transpose X is (5, 5)\n"
          ],
          "name": "stdout"
        }
      ]
    },
    {
      "cell_type": "markdown",
      "metadata": {
        "id": "IT2qrHGmsPMd",
        "colab_type": "text"
      },
      "source": [
        "Next we define the inverse of $X'X$ written as $(X'X)^{-1}$ using the linear algebra library(linalg) from numpy"
      ]
    },
    {
      "cell_type": "code",
      "metadata": {
        "id": "mrlbFG7csWkQ",
        "colab_type": "code",
        "colab": {
          "base_uri": "https://localhost:8080/",
          "height": 202
        },
        "outputId": "788a9198-d968-4ba4-89f9-50be0eaee4fd"
      },
      "source": [
        "from numpy.linalg import inv\n",
        "\n",
        "X_trans_X_inv = inv(X_trans_X)\n",
        "\n",
        "print(\"Shape of inverse of X'X is\",X_trans_X_inv.shape)\n",
        "X_trans_X_inv"
      ],
      "execution_count": 121,
      "outputs": [
        {
          "output_type": "stream",
          "text": [
            "Shape of inverse of X'X is (5, 5)\n"
          ],
          "name": "stdout"
        },
        {
          "output_type": "execute_result",
          "data": {
            "text/plain": [
              "array([[ 3.38337058e-02, -8.01293531e-05, -1.55797930e-06,\n",
              "        -1.28516162e-03, -6.16583945e-04],\n",
              "       [-8.01293531e-05,  3.76575963e-04, -1.88406928e-04,\n",
              "        -2.42411229e-05,  7.84261804e-06],\n",
              "       [-1.55797930e-06, -1.88406928e-04,  1.72088451e-04,\n",
              "        -1.97154444e-05, -4.42976118e-06],\n",
              "       [-1.28516162e-03, -2.42411229e-05, -1.97154444e-05,\n",
              "         6.73073105e-05,  2.26268665e-05],\n",
              "       [-6.16583945e-04,  7.84261804e-06, -4.42976118e-06,\n",
              "         2.26268665e-05,  1.18409551e-05]])"
            ]
          },
          "metadata": {
            "tags": []
          },
          "execution_count": 121
        }
      ]
    },
    {
      "cell_type": "markdown",
      "metadata": {
        "id": "QGKgCwf3uzzv",
        "colab_type": "text"
      },
      "source": [
        "Next we pre-multiply  $(X'X)^{-1}$ by $X'$ "
      ]
    },
    {
      "cell_type": "code",
      "metadata": {
        "id": "X1L-n92vv80N",
        "colab_type": "code",
        "colab": {
          "base_uri": "https://localhost:8080/",
          "height": 202
        },
        "outputId": "23733f99-104f-4bbd-a1b5-176f2bffe803"
      },
      "source": [
        "X_trans_X_inv_X_trans = np.matmul(X_trans_X_inv, X_trans)\n",
        "\n",
        "print(\"Shape of inverse of X'X by X' is\",X_trans_X_inv_X_trans.shape)\n",
        "X_trans_X_inv_X_trans"
      ],
      "execution_count": 122,
      "outputs": [
        {
          "output_type": "stream",
          "text": [
            "Shape of inverse of X'X by X' is (5, 10470)\n"
          ],
          "name": "stdout"
        },
        {
          "output_type": "execute_result",
          "data": {
            "text/plain": [
              "array([[ 1.02619623e-03, -2.95245047e-04,  7.55096093e-04, ...,\n",
              "         1.31332224e-03,  1.58900649e-03,  5.26377494e-04],\n",
              "       [-1.49719089e-04, -1.51956426e-04,  5.36838477e-05, ...,\n",
              "        -4.28437218e-04, -1.57634514e-04, -1.94877178e-04],\n",
              "       [ 1.07104839e-04,  4.99192086e-05,  1.43862472e-05, ...,\n",
              "         2.37504817e-04,  1.12147679e-05,  4.74361366e-05],\n",
              "       [-4.16683948e-05,  1.99584706e-05, -5.13542830e-05, ...,\n",
              "        -2.71342821e-05, -2.64207181e-05,  5.92371961e-06],\n",
              "       [-1.88282036e-05,  1.32142768e-05, -9.85399940e-06, ...,\n",
              "        -2.93709314e-05, -2.45853172e-05, -4.20709539e-06]])"
            ]
          },
          "metadata": {
            "tags": []
          },
          "execution_count": 122
        }
      ]
    },
    {
      "cell_type": "markdown",
      "metadata": {
        "id": "ucr6b14wyNob",
        "colab_type": "text"
      },
      "source": [
        "Finally we find our coefficients by multiplying $(X'X)^{-1}X'$ by $y-train$"
      ]
    },
    {
      "cell_type": "code",
      "metadata": {
        "id": "YQQB_aLuyAy4",
        "colab_type": "code",
        "colab": {
          "base_uri": "https://localhost:8080/",
          "height": 118
        },
        "outputId": "246db1f3-4e27-441e-f568-3c338fedc644"
      },
      "source": [
        "coefficients = np.matmul(X_trans_X_inv_X_trans, y_train)\n",
        "\n",
        "print('Final shape of coefficients is',coefficients.shape)\n",
        "coefficients"
      ],
      "execution_count": 203,
      "outputs": [
        {
          "output_type": "stream",
          "text": [
            "Final shape of coefficients is (5, 1)\n"
          ],
          "name": "stdout"
        },
        {
          "output_type": "execute_result",
          "data": {
            "text/plain": [
              "array([[188.52046097],\n",
              "       [  5.33277744],\n",
              "       [  3.85299841],\n",
              "       [  7.08266566],\n",
              "       [ -2.66311109]])"
            ]
          },
          "metadata": {
            "tags": []
          },
          "execution_count": 203
        }
      ]
    },
    {
      "cell_type": "markdown",
      "metadata": {
        "id": "q6acDCYay8oJ",
        "colab_type": "text"
      },
      "source": [
        "### Thus our Multiple Linear Regression Ideal Parameters are:- "
      ]
    },
    {
      "cell_type": "code",
      "metadata": {
        "id": "hCU4smeuC4QH",
        "colab_type": "code",
        "colab": {
          "base_uri": "https://localhost:8080/",
          "height": 101
        },
        "outputId": "ed45b5e0-4dca-43a0-da61-fd66d9825224"
      },
      "source": [
        "intercept = coefficients[0]\n",
        "\n",
        "b1 = coefficients[1]\n",
        "\n",
        "b2 = coefficients[2]\n",
        "\n",
        "b3 = coefficients[3]\n",
        "\n",
        "b4 = coefficients[4]\n",
        "\n",
        "print('Intercept or bias unit is:',intercept)\n",
        "print('b1 or slope for ENGINE_SIZE variable is:',b1)\n",
        "print('b2 or slope for CYLINDERS variable is:',b2)\n",
        "print('b3 or slope for FUEL_CONS_CITY variable is:',b3)\n",
        "print('b4 or slope for COMB_MPG variable is:',b4)"
      ],
      "execution_count": 204,
      "outputs": [
        {
          "output_type": "stream",
          "text": [
            "Intercept or bias unit is: [188.52046097]\n",
            "b1 or slope for ENGINE_SIZE variable is: [5.33277744]\n",
            "b2 or slope for CYLINDERS variable is: [3.85299841]\n",
            "b3 or slope for FUEL_CONS_CITY variable is: [7.08266566]\n",
            "b4 or slope for COMB_MPG variable is: [-2.66311109]\n"
          ],
          "name": "stdout"
        }
      ]
    },
    {
      "cell_type": "markdown",
      "metadata": {
        "id": "mxHbzurmQBeh",
        "colab_type": "text"
      },
      "source": [
        "## Model Evaluation"
      ]
    },
    {
      "cell_type": "markdown",
      "metadata": {
        "id": "M77oKO7pQGgQ",
        "colab_type": "text"
      },
      "source": [
        "#### Let's define a simple method for prediction"
      ]
    },
    {
      "cell_type": "code",
      "metadata": {
        "id": "c3ydmbaSGKnm",
        "colab_type": "code",
        "colab": {}
      },
      "source": [
        "def predict(x):\n",
        "    \"\"\" takes a row of test data and predicts it\n",
        "    and returns the float value only of the observation\"\"\"\n",
        "    x = list(x)\n",
        "    \n",
        "    x = x[0]*intercept + x[1]*b1 + x[2]*b2 + x[3]*b3 + x[4]*b4\n",
        "    \n",
        "    return x[0]  # returns the float of value of x"
      ],
      "execution_count": 0,
      "outputs": []
    },
    {
      "cell_type": "markdown",
      "metadata": {
        "id": "ihljpoLLQoto",
        "colab_type": "text"
      },
      "source": [
        "Next let's convert the test data to a Data frame so we can apply the predict method on it"
      ]
    },
    {
      "cell_type": "code",
      "metadata": {
        "id": "7gZDiu7wIaBU",
        "colab_type": "code",
        "colab": {
          "base_uri": "https://localhost:8080/",
          "height": 195
        },
        "outputId": "6f5462c6-890c-46e5-e6bd-e69766b86267"
      },
      "source": [
        "X_eval = pd.DataFrame(X_test)\n",
        "\n",
        "X_eval.head()"
      ],
      "execution_count": 280,
      "outputs": [
        {
          "output_type": "execute_result",
          "data": {
            "text/html": [
              "<div>\n",
              "<style scoped>\n",
              "    .dataframe tbody tr th:only-of-type {\n",
              "        vertical-align: middle;\n",
              "    }\n",
              "\n",
              "    .dataframe tbody tr th {\n",
              "        vertical-align: top;\n",
              "    }\n",
              "\n",
              "    .dataframe thead th {\n",
              "        text-align: right;\n",
              "    }\n",
              "</style>\n",
              "<table border=\"1\" class=\"dataframe\">\n",
              "  <thead>\n",
              "    <tr style=\"text-align: right;\">\n",
              "      <th></th>\n",
              "      <th>0</th>\n",
              "      <th>1</th>\n",
              "      <th>2</th>\n",
              "      <th>3</th>\n",
              "      <th>4</th>\n",
              "    </tr>\n",
              "  </thead>\n",
              "  <tbody>\n",
              "    <tr>\n",
              "      <th>0</th>\n",
              "      <td>1.0</td>\n",
              "      <td>3.5</td>\n",
              "      <td>6.0</td>\n",
              "      <td>13.4</td>\n",
              "      <td>25.0</td>\n",
              "    </tr>\n",
              "    <tr>\n",
              "      <th>1</th>\n",
              "      <td>1.0</td>\n",
              "      <td>2.0</td>\n",
              "      <td>4.0</td>\n",
              "      <td>9.0</td>\n",
              "      <td>34.0</td>\n",
              "    </tr>\n",
              "    <tr>\n",
              "      <th>2</th>\n",
              "      <td>1.0</td>\n",
              "      <td>3.5</td>\n",
              "      <td>6.0</td>\n",
              "      <td>12.2</td>\n",
              "      <td>27.0</td>\n",
              "    </tr>\n",
              "    <tr>\n",
              "      <th>3</th>\n",
              "      <td>1.0</td>\n",
              "      <td>1.8</td>\n",
              "      <td>4.0</td>\n",
              "      <td>9.4</td>\n",
              "      <td>34.0</td>\n",
              "    </tr>\n",
              "    <tr>\n",
              "      <th>4</th>\n",
              "      <td>1.0</td>\n",
              "      <td>6.1</td>\n",
              "      <td>8.0</td>\n",
              "      <td>16.0</td>\n",
              "      <td>21.0</td>\n",
              "    </tr>\n",
              "  </tbody>\n",
              "</table>\n",
              "</div>"
            ],
            "text/plain": [
              "     0    1    2     3     4\n",
              "0  1.0  3.5  6.0  13.4  25.0\n",
              "1  1.0  2.0  4.0   9.0  34.0\n",
              "2  1.0  3.5  6.0  12.2  27.0\n",
              "3  1.0  1.8  4.0   9.4  34.0\n",
              "4  1.0  6.1  8.0  16.0  21.0"
            ]
          },
          "metadata": {
            "tags": []
          },
          "execution_count": 280
        }
      ]
    },
    {
      "cell_type": "markdown",
      "metadata": {
        "id": "mKndu5mMQzSm",
        "colab_type": "text"
      },
      "source": [
        "Next let's apply the predict method and pass axis=1 so it's done along the columns<br>\n",
        "Then we convert it to a numpy ID array using the .values"
      ]
    },
    {
      "cell_type": "code",
      "metadata": {
        "id": "5d6OJXMALHxl",
        "colab_type": "code",
        "colab": {}
      },
      "source": [
        "y_hat = X_eval.apply(predict, axis=1).values"
      ],
      "execution_count": 0,
      "outputs": []
    },
    {
      "cell_type": "markdown",
      "metadata": {
        "id": "qwtwwNQNgGPE",
        "colab_type": "text"
      },
      "source": [
        "y_hat or our model prediction is now a numpy 1D array. This will be useful for plotting"
      ]
    },
    {
      "cell_type": "code",
      "metadata": {
        "id": "ME9eGBJYLPJV",
        "colab_type": "code",
        "colab": {
          "base_uri": "https://localhost:8080/",
          "height": 50
        },
        "outputId": "db3593f5-88f7-4303-f1c0-fda31d5264e8"
      },
      "source": [
        "y_hat"
      ],
      "execution_count": 293,
      "outputs": [
        {
          "output_type": "execute_result",
          "data": {
            "text/plain": [
              "array([258.63311518, 187.79622351, 244.80769421, ..., 200.92168918,\n",
              "       204.46302201, 194.88720045])"
            ]
          },
          "metadata": {
            "tags": []
          },
          "execution_count": 293
        }
      ]
    },
    {
      "cell_type": "code",
      "metadata": {
        "id": "Wstoq2SDEw4Y",
        "colab_type": "code",
        "colab": {}
      },
      "source": [
        "from sklearn.metrics import mean_squared_error, r2_score"
      ],
      "execution_count": 0,
      "outputs": []
    },
    {
      "cell_type": "markdown",
      "metadata": {
        "id": "WxixHWidTvQw",
        "colab_type": "text"
      },
      "source": [
        "Let's compute the Mean Squared Error"
      ]
    },
    {
      "cell_type": "code",
      "metadata": {
        "id": "GZJ3LkNNRMXT",
        "colab_type": "code",
        "colab": {
          "base_uri": "https://localhost:8080/",
          "height": 34
        },
        "outputId": "9372f131-d0eb-4a64-8c2a-c14a9a0a1177"
      },
      "source": [
        "MSE = mean_squared_error(y_hat, y_test)\n",
        "MSE"
      ],
      "execution_count": 236,
      "outputs": [
        {
          "output_type": "execute_result",
          "data": {
            "text/plain": [
              "444.1983754997918"
            ]
          },
          "metadata": {
            "tags": []
          },
          "execution_count": 236
        }
      ]
    },
    {
      "cell_type": "markdown",
      "metadata": {
        "id": "hfGlx_UwT2k1",
        "colab_type": "text"
      },
      "source": [
        "Lets find the RMSE which is the square root of the MSE"
      ]
    },
    {
      "cell_type": "code",
      "metadata": {
        "id": "J9cg-EZQT4cT",
        "colab_type": "code",
        "colab": {
          "base_uri": "https://localhost:8080/",
          "height": 34
        },
        "outputId": "233c8a27-3697-49b3-9aed-ed6b127acdd9"
      },
      "source": [
        "RMSE = MSE**0.5\n",
        "\n",
        "RMSE"
      ],
      "execution_count": 249,
      "outputs": [
        {
          "output_type": "execute_result",
          "data": {
            "text/plain": [
              "21.076014222328467"
            ]
          },
          "metadata": {
            "tags": []
          },
          "execution_count": 249
        }
      ]
    },
    {
      "cell_type": "markdown",
      "metadata": {
        "id": "7NnaePlVUI_K",
        "colab_type": "text"
      },
      "source": [
        "**Finding the RMSE as a percentage of the range of the target variable.\n",
        "The lower the percentage the better the model**\n",
        "\n",
        "First we find the range of the target variable"
      ]
    },
    {
      "cell_type": "code",
      "metadata": {
        "id": "xlNmV1DMUIA3",
        "colab_type": "code",
        "colab": {
          "base_uri": "https://localhost:8080/",
          "height": 34
        },
        "outputId": "377970d1-b47f-4ab5-f502-48689fc06b85"
      },
      "source": [
        "y_range = y_test.max() - y_test.min()\n",
        "y_range"
      ],
      "execution_count": 238,
      "outputs": [
        {
          "output_type": "execute_result",
          "data": {
            "text/plain": [
              "439"
            ]
          },
          "metadata": {
            "tags": []
          },
          "execution_count": 238
        }
      ]
    },
    {
      "cell_type": "markdown",
      "metadata": {
        "id": "1lvurG8HVUM1",
        "colab_type": "text"
      },
      "source": [
        "Next we compute the RMSE as a percent of the range, the lower the error percent, the better the model"
      ]
    },
    {
      "cell_type": "code",
      "metadata": {
        "id": "aVlbNnqCVGvd",
        "colab_type": "code",
        "colab": {
          "base_uri": "https://localhost:8080/",
          "height": 34
        },
        "outputId": "6de5383e-d09e-4ed3-d09e-e2538af0eb15"
      },
      "source": [
        "error_range = (RMSE / y_range) * 100\n",
        "\n",
        "error_range"
      ],
      "execution_count": 239,
      "outputs": [
        {
          "output_type": "execute_result",
          "data": {
            "text/plain": [
              "4.800914401441565"
            ]
          },
          "metadata": {
            "tags": []
          },
          "execution_count": 239
        }
      ]
    },
    {
      "cell_type": "markdown",
      "metadata": {
        "id": "KdgcrIA9VkHA",
        "colab_type": "text"
      },
      "source": [
        "Finally let's compute the  R2  score or coefficient of determination of our model prediction.<br>\n",
        "This tells us how confident the model is on each prediction<br>\n",
        "The highest value is 1... So the closer to 1, the better the score"
      ]
    },
    {
      "cell_type": "code",
      "metadata": {
        "id": "Os1khJsSVk-H",
        "colab_type": "code",
        "colab": {
          "base_uri": "https://localhost:8080/",
          "height": 34
        },
        "outputId": "5ee9bdd9-ae22-4b48-dbfb-9d29977244ac"
      },
      "source": [
        "r2_score(y_test, y_hat)  # pass in the true values first, then the predicted values."
      ],
      "execution_count": 240,
      "outputs": [
        {
          "output_type": "execute_result",
          "data": {
            "text/plain": [
              "0.8724117885849141"
            ]
          },
          "metadata": {
            "tags": []
          },
          "execution_count": 240
        }
      ]
    },
    {
      "cell_type": "code",
      "metadata": {
        "id": "r4D0BoI4dm4w",
        "colab_type": "code",
        "colab": {
          "base_uri": "https://localhost:8080/",
          "height": 67
        },
        "outputId": "8967ec4e-7e49-4a1e-f860-27858f9134b3"
      },
      "source": [
        "y_hat.squeeze()"
      ],
      "execution_count": 257,
      "outputs": [
        {
          "output_type": "execute_result",
          "data": {
            "text/plain": [
              "array([array([258.63311518]), array([187.79622351]),\n",
              "       array([244.80769421]), ..., array([200.92168918]),\n",
              "       array([204.46302201]), array([194.88720045])], dtype=object)"
            ]
          },
          "metadata": {
            "tags": []
          },
          "execution_count": 257
        }
      ]
    },
    {
      "cell_type": "markdown",
      "metadata": {
        "id": "x2jPJtaDWnM1",
        "colab_type": "text"
      },
      "source": [
        "## Visualization"
      ]
    },
    {
      "cell_type": "code",
      "metadata": {
        "id": "zXUpdaDCWqln",
        "colab_type": "code",
        "colab": {
          "base_uri": "https://localhost:8080/",
          "height": 497
        },
        "outputId": "9bbd9340-0d75-49a5-b675-8776c8dcb492"
      },
      "source": [
        "fig = plt.figure(figsize=(20, 7))\n",
        "plt.suptitle('Distplot and Regplot for Predictions of MLR Linear Algebra Model on Test data set', fontsize=16)\n",
        "\n",
        "ax = fig.add_subplot(121)\n",
        "ax1 = fig.add_subplot(122)\n",
        "\n",
        "# plotting the Distplot\n",
        "sns.distplot(y_test.squeeze(), hist=False, label='Target', color='navy', ax=ax)\n",
        "sns.distplot(y_hat.squeeze(), hist=False, label='Prediction', color='red', ax=ax)\n",
        "ax.set_xlabel('CO2_EMISSIONS', fontsize=14)\n",
        "ax.set_title('Distplot showing Prediction VS Actual for our Linear Algebra Model')\n",
        "\n",
        "# plotting the Regplot\n",
        "sns.regplot(y_test.squeeze(), y_hat, scatter_kws={\"color\": \"navy\"}, line_kws={\"color\": \"red\" ,'linewidth':3}, ax=ax1)\n",
        "ax1.annotate('y_hat = {} + {}(Engine_Size) + {}(Cylinders) + {}(Fuel_Cons) + {}(Comb_L)'.format(np.round(intercept), \n",
        "                                                             np.round(b1[0]), \n",
        "                                                             np.round(b2[0]), \n",
        "                                                             np.round(b3[0]),\n",
        "                                                             np.round(b4[0])), \n",
        "                                                             xy=(140,420), \n",
        "                                                             rotation=32, \n",
        "                                                             fontsize=11.5, color='black')\n",
        "ax1.set_xlabel('CO2_EMISSIONS', fontsize=14)\n",
        "ax1.set_title('Regplot showing Prediction for our MLR Model')\n",
        "\n",
        "\n",
        "\n",
        "plt.show()"
      ],
      "execution_count": 298,
      "outputs": [
        {
          "output_type": "display_data",
          "data": {
            "image/png": "[encoded data removed]",
            "text/plain": [
              "<Figure size 1440x504 with 2 Axes>"
            ]
          },
          "metadata": {
            "tags": []
          }
        }
      ]
    }
  ]
}