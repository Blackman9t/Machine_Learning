{
  "nbformat": 4,
  "nbformat_minor": 0,
  "metadata": {
    "colab": {
      "name": "understanding_multiple_linear_regression_with_sklearn.ipynb",
      "version": "0.3.2",
      "provenance": [],
      "collapsed_sections": [
        "RNtUjRx3jhsU"
      ],
      "include_colab_link": true
    },
    "kernelspec": {
      "name": "python3",
      "display_name": "Python 3"
    },
    "accelerator": "GPU"
  },
  "cells": [
    {
      "cell_type": "markdown",
      "metadata": {
        "id": "view-in-github",
        "colab_type": "text"
      },
      "source": [
        "<a href=\"https://colab.research.google.com/github/Blackman9t/Machine_Learning/blob/master/understanding_multiple_linear_regression_with_sklearn.ipynb\" target=\"_parent\"><img src=\"https://colab.research.google.com/assets/colab-badge.svg\" alt=\"Open In Colab\"/></a>"
      ]
    },
    {
      "cell_type": "markdown",
      "metadata": {
        "id": "FIO_M4xh1pt3",
        "colab_type": "text"
      },
      "source": [
        "\n",
        "<h3>About this Notebook</h3>\n",
        "In this notebook, we learn how to use scikit-learn to implement Multiple linear regression. <br>\n",
        "Multiple Linear Regression involves two or more independent variables and one dependent variable.<br>\n",
        "The key point in Linear Regression is that the dependent variable must be continous and cannot be a categorical variable. However the independent variables can be categorical or continous.<br>\n",
        "We shall download a dataset that is related to fuel consumption and Carbon dioxide emission of cars. <br>\n",
        "Then, we split our data into training and test sets, create a model using training set, <br>\n",
        "Evaluate your model using test set, and finally use model to predict unknown value\n"
      ]
    },
    {
      "cell_type": "markdown",
      "metadata": {
        "id": "ua2bm1Uj0L7R",
        "colab_type": "text"
      },
      "source": [
        "See Direct [link](https://drive.google.com/file/d/1Apxb-KxuagxhryXmT4UJA0U-2PgvdRer/view?usp=sharing) to The Data."
      ]
    },
    {
      "cell_type": "code",
      "metadata": {
        "id": "W3YnQAq75x5Q",
        "colab_type": "code",
        "colab": {}
      },
      "source": [
        "# importing required libraries\n",
        "\n",
        "import matplotlib.pyplot as plt\n",
        "import pandas as pd\n",
        "import seaborn as sns\n",
        "import pylab as pl\n",
        "import numpy as np"
      ],
      "execution_count": 0,
      "outputs": []
    },
    {
      "cell_type": "markdown",
      "metadata": {
        "id": "NXKMe5IS2tPt",
        "colab_type": "text"
      },
      "source": [
        "<h2 id=\"understanding_data\">Understanding the Data</h2>\n",
        "\n",
        "### `FuelConsumption.csv`:\n",
        "We have downloaded a fuel consumption dataset, **`FuelConsumption.csv`**, which contains model-specific fuel consumption ratings and estimated carbon dioxide emissions for new light-duty vehicles for retail sale in Canada. [Dataset source](http://open.canada.ca/data/en/dataset/98f1a129-f628-4ce4-b24d-6f16bf24dd64)\n",
        "\n",
        "- **MODELYEAR** e.g. 2014\n",
        "- **MAKE** e.g. Acura\n",
        "- **MODEL** e.g. ILX\n",
        "- **VEHICLE CLASS** e.g. SUV\n",
        "- **ENGINE SIZE** e.g. 4.7\n",
        "- **CYLINDERS** e.g 6\n",
        "- **TRANSMISSION** e.g. A6\n",
        "- **FUELTYPE** e.g. z\n",
        "- **FUEL CONSUMPTION in CITY(L/100 km)** e.g. 9.9\n",
        "- **FUEL CONSUMPTION in HWY (L/100 km)** e.g. 8.9\n",
        "- **FUEL CONSUMPTION COMB (L/100 km)** e.g. 9.2\n",
        "- **CO2 EMISSIONS (g/km)** e.g. 182   --> low --> 0\n"
      ]
    },
    {
      "cell_type": "markdown",
      "metadata": {
        "id": "OS0F3_fT3TWO",
        "colab_type": "text"
      },
      "source": [
        "Let's import the data set from Github using the !wget command"
      ]
    },
    {
      "cell_type": "code",
      "metadata": {
        "id": "7c6OXcK89oaZ",
        "colab_type": "code",
        "colab": {
          "base_uri": "https://localhost:8080/",
          "height": 202
        },
        "outputId": "29a5f03c-f5f3-4cf7-90a0-8c762495c486"
      },
      "source": [
        "!wget -O fuel_data.csv https://raw.githubusercontent.com/Blackman9t/Machine_Learning/master/Original_2000_2014_Fuel_Consumption_Ratings.csv"
      ],
      "execution_count": 40,
      "outputs": [
        {
          "output_type": "stream",
          "text": [
            "--2019-05-09 23:07:50--  https://raw.githubusercontent.com/Blackman9t/Machine_Learning/master/Original_2000_2014_Fuel_Consumption_Ratings.csv\n",
            "Resolving raw.githubusercontent.com (raw.githubusercontent.com)... 151.101.0.133, 151.101.64.133, 151.101.128.133, ...\n",
            "Connecting to raw.githubusercontent.com (raw.githubusercontent.com)|151.101.0.133|:443... connected.\n",
            "HTTP request sent, awaiting response... 200 OK\n",
            "Length: 966474 (944K) [text/plain]\n",
            "Saving to: ‘fuel_data.csv’\n",
            "\n",
            "\rfuel_data.csv         0%[                    ]       0  --.-KB/s               \rfuel_data.csv       100%[===================>] 943.82K  --.-KB/s    in 0.06s   \n",
            "\n",
            "2019-05-09 23:07:50 (15.2 MB/s) - ‘fuel_data.csv’ saved [966474/966474]\n",
            "\n"
          ],
          "name": "stdout"
        }
      ]
    },
    {
      "cell_type": "markdown",
      "metadata": {
        "id": "LMcAATSM5pB4",
        "colab_type": "text"
      },
      "source": [
        "### let's read the file into pandas dataframe"
      ]
    },
    {
      "cell_type": "code",
      "metadata": {
        "id": "TsVH5tjz-232",
        "colab_type": "code",
        "colab": {
          "base_uri": "https://localhost:8080/",
          "height": 215
        },
        "outputId": "108637ac-008d-4e3d-d48e-62e112f8c264"
      },
      "source": [
        "df = pd.read_csv('fuel_data.csv')\n",
        "\n",
        "df.head()"
      ],
      "execution_count": 41,
      "outputs": [
        {
          "output_type": "execute_result",
          "data": {
            "text/html": [
              "<div>\n",
              "<style scoped>\n",
              "    .dataframe tbody tr th:only-of-type {\n",
              "        vertical-align: middle;\n",
              "    }\n",
              "\n",
              "    .dataframe tbody tr th {\n",
              "        vertical-align: top;\n",
              "    }\n",
              "\n",
              "    .dataframe thead th {\n",
              "        text-align: right;\n",
              "    }\n",
              "</style>\n",
              "<table border=\"1\" class=\"dataframe\">\n",
              "  <thead>\n",
              "    <tr style=\"text-align: right;\">\n",
              "      <th></th>\n",
              "      <th>MODEL_YEAR</th>\n",
              "      <th>MAKE</th>\n",
              "      <th>MODEL</th>\n",
              "      <th>VEHICLE_CLASS</th>\n",
              "      <th>ENGINE_SIZE(L)</th>\n",
              "      <th>CYLINDERS</th>\n",
              "      <th>TRANSMISSION</th>\n",
              "      <th>FUEL_TYPE</th>\n",
              "      <th>FUEL_CONSUMPTION_CITY(L/100km)</th>\n",
              "      <th>HWY_(L/100km)</th>\n",
              "      <th>COMB_(L/100km)</th>\n",
              "      <th>COMB_(mpg)</th>\n",
              "      <th>CO2_EMISSIONS(g/km)</th>\n",
              "    </tr>\n",
              "  </thead>\n",
              "  <tbody>\n",
              "    <tr>\n",
              "      <th>0</th>\n",
              "      <td>2000</td>\n",
              "      <td>ACURA</td>\n",
              "      <td>1.6EL</td>\n",
              "      <td>COMPACT</td>\n",
              "      <td>1.6</td>\n",
              "      <td>4</td>\n",
              "      <td>A4</td>\n",
              "      <td>X</td>\n",
              "      <td>9.2</td>\n",
              "      <td>6.7</td>\n",
              "      <td>8.1</td>\n",
              "      <td>35</td>\n",
              "      <td>186</td>\n",
              "    </tr>\n",
              "    <tr>\n",
              "      <th>1</th>\n",
              "      <td>2000</td>\n",
              "      <td>ACURA</td>\n",
              "      <td>1.6EL</td>\n",
              "      <td>COMPACT</td>\n",
              "      <td>1.6</td>\n",
              "      <td>4</td>\n",
              "      <td>M5</td>\n",
              "      <td>X</td>\n",
              "      <td>8.5</td>\n",
              "      <td>6.5</td>\n",
              "      <td>7.6</td>\n",
              "      <td>37</td>\n",
              "      <td>175</td>\n",
              "    </tr>\n",
              "    <tr>\n",
              "      <th>2</th>\n",
              "      <td>2000</td>\n",
              "      <td>ACURA</td>\n",
              "      <td>3.2TL</td>\n",
              "      <td>MID-SIZE</td>\n",
              "      <td>3.2</td>\n",
              "      <td>6</td>\n",
              "      <td>AS5</td>\n",
              "      <td>Z</td>\n",
              "      <td>12.2</td>\n",
              "      <td>7.4</td>\n",
              "      <td>10.0</td>\n",
              "      <td>28</td>\n",
              "      <td>230</td>\n",
              "    </tr>\n",
              "    <tr>\n",
              "      <th>3</th>\n",
              "      <td>2000</td>\n",
              "      <td>ACURA</td>\n",
              "      <td>3.5RL</td>\n",
              "      <td>MID-SIZE</td>\n",
              "      <td>3.5</td>\n",
              "      <td>6</td>\n",
              "      <td>A4</td>\n",
              "      <td>Z</td>\n",
              "      <td>13.4</td>\n",
              "      <td>9.2</td>\n",
              "      <td>11.5</td>\n",
              "      <td>25</td>\n",
              "      <td>264</td>\n",
              "    </tr>\n",
              "    <tr>\n",
              "      <th>4</th>\n",
              "      <td>2000</td>\n",
              "      <td>ACURA</td>\n",
              "      <td>INTEGRA</td>\n",
              "      <td>SUBCOMPACT</td>\n",
              "      <td>1.8</td>\n",
              "      <td>4</td>\n",
              "      <td>A4</td>\n",
              "      <td>X</td>\n",
              "      <td>10.0</td>\n",
              "      <td>7.0</td>\n",
              "      <td>8.6</td>\n",
              "      <td>33</td>\n",
              "      <td>198</td>\n",
              "    </tr>\n",
              "  </tbody>\n",
              "</table>\n",
              "</div>"
            ],
            "text/plain": [
              "   MODEL_YEAR   MAKE    MODEL VEHICLE_CLASS  ENGINE_SIZE(L)  CYLINDERS  \\\n",
              "0        2000  ACURA    1.6EL       COMPACT             1.6          4   \n",
              "1        2000  ACURA    1.6EL       COMPACT             1.6          4   \n",
              "2        2000  ACURA    3.2TL      MID-SIZE             3.2          6   \n",
              "3        2000  ACURA    3.5RL      MID-SIZE             3.5          6   \n",
              "4        2000  ACURA  INTEGRA    SUBCOMPACT             1.8          4   \n",
              "\n",
              "  TRANSMISSION FUEL_TYPE  FUEL_CONSUMPTION_CITY(L/100km)  HWY_(L/100km)  \\\n",
              "0           A4         X                             9.2            6.7   \n",
              "1           M5         X                             8.5            6.5   \n",
              "2          AS5         Z                            12.2            7.4   \n",
              "3           A4         Z                            13.4            9.2   \n",
              "4           A4         X                            10.0            7.0   \n",
              "\n",
              "   COMB_(L/100km)  COMB_(mpg)  CO2_EMISSIONS(g/km)  \n",
              "0             8.1          35                  186  \n",
              "1             7.6          37                  175  \n",
              "2            10.0          28                  230  \n",
              "3            11.5          25                  264  \n",
              "4             8.6          33                  198  "
            ]
          },
          "metadata": {
            "tags": []
          },
          "execution_count": 41
        }
      ]
    },
    {
      "cell_type": "markdown",
      "metadata": {
        "id": "dKKSXGgHJDYz",
        "colab_type": "text"
      },
      "source": [
        "Let's confirm the shape"
      ]
    },
    {
      "cell_type": "code",
      "metadata": {
        "id": "9NSVg_kJJHA8",
        "colab_type": "code",
        "colab": {
          "base_uri": "https://localhost:8080/",
          "height": 34
        },
        "outputId": "bed6deeb-2750-4d4c-d614-961d6956ddb8"
      },
      "source": [
        "df.shape"
      ],
      "execution_count": 42,
      "outputs": [
        {
          "output_type": "execute_result",
          "data": {
            "text/plain": [
              "(14343, 13)"
            ]
          },
          "metadata": {
            "tags": []
          },
          "execution_count": 42
        }
      ]
    },
    {
      "cell_type": "markdown",
      "metadata": {
        "id": "tf5w4NAEJKx8",
        "colab_type": "text"
      },
      "source": [
        "Let's confirm the right data types exist per column"
      ]
    },
    {
      "cell_type": "code",
      "metadata": {
        "id": "ZAqpsAIGJRA0",
        "colab_type": "code",
        "colab": {
          "base_uri": "https://localhost:8080/",
          "height": 252
        },
        "outputId": "4463bd22-34fa-436c-c234-6a48c7f4e521"
      },
      "source": [
        "df.dtypes"
      ],
      "execution_count": 43,
      "outputs": [
        {
          "output_type": "execute_result",
          "data": {
            "text/plain": [
              "MODEL_YEAR                          int64\n",
              "MAKE                               object\n",
              "MODEL                              object\n",
              "VEHICLE_CLASS                      object\n",
              "ENGINE_SIZE(L)                    float64\n",
              "CYLINDERS                           int64\n",
              "TRANSMISSION                       object\n",
              "FUEL_TYPE                          object\n",
              "FUEL_CONSUMPTION_CITY(L/100km)    float64\n",
              "HWY_(L/100km)                     float64\n",
              "COMB_(L/100km)                    float64\n",
              "COMB_(mpg)                          int64\n",
              "CO2_EMISSIONS(g/km)                 int64\n",
              "dtype: object"
            ]
          },
          "metadata": {
            "tags": []
          },
          "execution_count": 43
        }
      ]
    },
    {
      "cell_type": "markdown",
      "metadata": {
        "id": "oJR5vzMQJsU3",
        "colab_type": "text"
      },
      "source": [
        "Let's rename some columns for brevity"
      ]
    },
    {
      "cell_type": "code",
      "metadata": {
        "id": "_fSiSJY2Jwot",
        "colab_type": "code",
        "colab": {}
      },
      "source": [
        "df.rename(columns={'FUEL_CONSUMPTION_CITY(L/100km)':'FUEL_CONS_CITY(L/100km)','CO2_EMISSIONS(g/km)':'CO2_EMISSIONS'}, inplace=True)"
      ],
      "execution_count": 0,
      "outputs": []
    },
    {
      "cell_type": "code",
      "metadata": {
        "id": "FrC_u4blM5WZ",
        "colab_type": "code",
        "colab": {
          "base_uri": "https://localhost:8080/",
          "height": 215
        },
        "outputId": "0dc29b96-4d6f-4978-9b28-acbd7059885a"
      },
      "source": [
        "df.head()"
      ],
      "execution_count": 45,
      "outputs": [
        {
          "output_type": "execute_result",
          "data": {
            "text/html": [
              "<div>\n",
              "<style scoped>\n",
              "    .dataframe tbody tr th:only-of-type {\n",
              "        vertical-align: middle;\n",
              "    }\n",
              "\n",
              "    .dataframe tbody tr th {\n",
              "        vertical-align: top;\n",
              "    }\n",
              "\n",
              "    .dataframe thead th {\n",
              "        text-align: right;\n",
              "    }\n",
              "</style>\n",
              "<table border=\"1\" class=\"dataframe\">\n",
              "  <thead>\n",
              "    <tr style=\"text-align: right;\">\n",
              "      <th></th>\n",
              "      <th>MODEL_YEAR</th>\n",
              "      <th>MAKE</th>\n",
              "      <th>MODEL</th>\n",
              "      <th>VEHICLE_CLASS</th>\n",
              "      <th>ENGINE_SIZE(L)</th>\n",
              "      <th>CYLINDERS</th>\n",
              "      <th>TRANSMISSION</th>\n",
              "      <th>FUEL_TYPE</th>\n",
              "      <th>FUEL_CONS_CITY(L/100km)</th>\n",
              "      <th>HWY_(L/100km)</th>\n",
              "      <th>COMB_(L/100km)</th>\n",
              "      <th>COMB_(mpg)</th>\n",
              "      <th>CO2_EMISSIONS</th>\n",
              "    </tr>\n",
              "  </thead>\n",
              "  <tbody>\n",
              "    <tr>\n",
              "      <th>0</th>\n",
              "      <td>2000</td>\n",
              "      <td>ACURA</td>\n",
              "      <td>1.6EL</td>\n",
              "      <td>COMPACT</td>\n",
              "      <td>1.6</td>\n",
              "      <td>4</td>\n",
              "      <td>A4</td>\n",
              "      <td>X</td>\n",
              "      <td>9.2</td>\n",
              "      <td>6.7</td>\n",
              "      <td>8.1</td>\n",
              "      <td>35</td>\n",
              "      <td>186</td>\n",
              "    </tr>\n",
              "    <tr>\n",
              "      <th>1</th>\n",
              "      <td>2000</td>\n",
              "      <td>ACURA</td>\n",
              "      <td>1.6EL</td>\n",
              "      <td>COMPACT</td>\n",
              "      <td>1.6</td>\n",
              "      <td>4</td>\n",
              "      <td>M5</td>\n",
              "      <td>X</td>\n",
              "      <td>8.5</td>\n",
              "      <td>6.5</td>\n",
              "      <td>7.6</td>\n",
              "      <td>37</td>\n",
              "      <td>175</td>\n",
              "    </tr>\n",
              "    <tr>\n",
              "      <th>2</th>\n",
              "      <td>2000</td>\n",
              "      <td>ACURA</td>\n",
              "      <td>3.2TL</td>\n",
              "      <td>MID-SIZE</td>\n",
              "      <td>3.2</td>\n",
              "      <td>6</td>\n",
              "      <td>AS5</td>\n",
              "      <td>Z</td>\n",
              "      <td>12.2</td>\n",
              "      <td>7.4</td>\n",
              "      <td>10.0</td>\n",
              "      <td>28</td>\n",
              "      <td>230</td>\n",
              "    </tr>\n",
              "    <tr>\n",
              "      <th>3</th>\n",
              "      <td>2000</td>\n",
              "      <td>ACURA</td>\n",
              "      <td>3.5RL</td>\n",
              "      <td>MID-SIZE</td>\n",
              "      <td>3.5</td>\n",
              "      <td>6</td>\n",
              "      <td>A4</td>\n",
              "      <td>Z</td>\n",
              "      <td>13.4</td>\n",
              "      <td>9.2</td>\n",
              "      <td>11.5</td>\n",
              "      <td>25</td>\n",
              "      <td>264</td>\n",
              "    </tr>\n",
              "    <tr>\n",
              "      <th>4</th>\n",
              "      <td>2000</td>\n",
              "      <td>ACURA</td>\n",
              "      <td>INTEGRA</td>\n",
              "      <td>SUBCOMPACT</td>\n",
              "      <td>1.8</td>\n",
              "      <td>4</td>\n",
              "      <td>A4</td>\n",
              "      <td>X</td>\n",
              "      <td>10.0</td>\n",
              "      <td>7.0</td>\n",
              "      <td>8.6</td>\n",
              "      <td>33</td>\n",
              "      <td>198</td>\n",
              "    </tr>\n",
              "  </tbody>\n",
              "</table>\n",
              "</div>"
            ],
            "text/plain": [
              "   MODEL_YEAR   MAKE    MODEL VEHICLE_CLASS  ENGINE_SIZE(L)  CYLINDERS  \\\n",
              "0        2000  ACURA    1.6EL       COMPACT             1.6          4   \n",
              "1        2000  ACURA    1.6EL       COMPACT             1.6          4   \n",
              "2        2000  ACURA    3.2TL      MID-SIZE             3.2          6   \n",
              "3        2000  ACURA    3.5RL      MID-SIZE             3.5          6   \n",
              "4        2000  ACURA  INTEGRA    SUBCOMPACT             1.8          4   \n",
              "\n",
              "  TRANSMISSION FUEL_TYPE  FUEL_CONS_CITY(L/100km)  HWY_(L/100km)  \\\n",
              "0           A4         X                      9.2            6.7   \n",
              "1           M5         X                      8.5            6.5   \n",
              "2          AS5         Z                     12.2            7.4   \n",
              "3           A4         Z                     13.4            9.2   \n",
              "4           A4         X                     10.0            7.0   \n",
              "\n",
              "   COMB_(L/100km)  COMB_(mpg)  CO2_EMISSIONS  \n",
              "0             8.1          35            186  \n",
              "1             7.6          37            175  \n",
              "2            10.0          28            230  \n",
              "3            11.5          25            264  \n",
              "4             8.6          33            198  "
            ]
          },
          "metadata": {
            "tags": []
          },
          "execution_count": 45
        }
      ]
    },
    {
      "cell_type": "markdown",
      "metadata": {
        "id": "dJKqAnfiKTZv",
        "colab_type": "text"
      },
      "source": [
        "Let's select some features for MLR prediction. But first lets plot the correlation of variables in the data set\n"
      ]
    },
    {
      "cell_type": "code",
      "metadata": {
        "id": "-w8eq5K2KhVc",
        "colab_type": "code",
        "colab": {
          "base_uri": "https://localhost:8080/",
          "height": 518
        },
        "outputId": "12952956-509c-4115-eb92-ff44ea13e521"
      },
      "source": [
        "corr_data = df.corr()\n",
        "\n",
        "sns.set_style('ticks')\n",
        "plt.figure(figsize=(10,6))\n",
        "plt.title('Variables correlation figures in data set', fontsize=16)\n",
        "\n",
        "sns.heatmap(corr_data, annot=True)\n",
        "\n",
        "plt.show()"
      ],
      "execution_count": 46,
      "outputs": [
        {
          "output_type": "display_data",
          "data": {
            "image/png": "[encoded data removed]",
            "text/plain": [
              "<Figure size 720x432 with 2 Axes>"
            ]
          },
          "metadata": {
            "tags": []
          }
        }
      ]
    },
    {
      "cell_type": "markdown",
      "metadata": {
        "id": "iShuP1wtMC1A",
        "colab_type": "text"
      },
      "source": [
        "Let's select the following four variables as our independent variables"
      ]
    },
    {
      "cell_type": "code",
      "metadata": {
        "id": "FD5EGQepMLZJ",
        "colab_type": "code",
        "colab": {
          "base_uri": "https://localhost:8080/",
          "height": 195
        },
        "outputId": "5f6bbc8c-2d7a-4cdf-ae32-00cbc1ea17a3"
      },
      "source": [
        "independent = df[['ENGINE_SIZE(L)','CYLINDERS','FUEL_CONS_CITY(L/100km)','COMB_(L/100km)']]\n",
        "\n",
        "independent.head()"
      ],
      "execution_count": 47,
      "outputs": [
        {
          "output_type": "execute_result",
          "data": {
            "text/html": [
              "<div>\n",
              "<style scoped>\n",
              "    .dataframe tbody tr th:only-of-type {\n",
              "        vertical-align: middle;\n",
              "    }\n",
              "\n",
              "    .dataframe tbody tr th {\n",
              "        vertical-align: top;\n",
              "    }\n",
              "\n",
              "    .dataframe thead th {\n",
              "        text-align: right;\n",
              "    }\n",
              "</style>\n",
              "<table border=\"1\" class=\"dataframe\">\n",
              "  <thead>\n",
              "    <tr style=\"text-align: right;\">\n",
              "      <th></th>\n",
              "      <th>ENGINE_SIZE(L)</th>\n",
              "      <th>CYLINDERS</th>\n",
              "      <th>FUEL_CONS_CITY(L/100km)</th>\n",
              "      <th>COMB_(L/100km)</th>\n",
              "    </tr>\n",
              "  </thead>\n",
              "  <tbody>\n",
              "    <tr>\n",
              "      <th>0</th>\n",
              "      <td>1.6</td>\n",
              "      <td>4</td>\n",
              "      <td>9.2</td>\n",
              "      <td>8.1</td>\n",
              "    </tr>\n",
              "    <tr>\n",
              "      <th>1</th>\n",
              "      <td>1.6</td>\n",
              "      <td>4</td>\n",
              "      <td>8.5</td>\n",
              "      <td>7.6</td>\n",
              "    </tr>\n",
              "    <tr>\n",
              "      <th>2</th>\n",
              "      <td>3.2</td>\n",
              "      <td>6</td>\n",
              "      <td>12.2</td>\n",
              "      <td>10.0</td>\n",
              "    </tr>\n",
              "    <tr>\n",
              "      <th>3</th>\n",
              "      <td>3.5</td>\n",
              "      <td>6</td>\n",
              "      <td>13.4</td>\n",
              "      <td>11.5</td>\n",
              "    </tr>\n",
              "    <tr>\n",
              "      <th>4</th>\n",
              "      <td>1.8</td>\n",
              "      <td>4</td>\n",
              "      <td>10.0</td>\n",
              "      <td>8.6</td>\n",
              "    </tr>\n",
              "  </tbody>\n",
              "</table>\n",
              "</div>"
            ],
            "text/plain": [
              "   ENGINE_SIZE(L)  CYLINDERS  FUEL_CONS_CITY(L/100km)  COMB_(L/100km)\n",
              "0             1.6          4                      9.2             8.1\n",
              "1             1.6          4                      8.5             7.6\n",
              "2             3.2          6                     12.2            10.0\n",
              "3             3.5          6                     13.4            11.5\n",
              "4             1.8          4                     10.0             8.6"
            ]
          },
          "metadata": {
            "tags": []
          },
          "execution_count": 47
        }
      ]
    },
    {
      "cell_type": "markdown",
      "metadata": {
        "id": "hicHkEWsZorD",
        "colab_type": "text"
      },
      "source": [
        "Let's visualize the relationship between each independent variable and the dependent variable"
      ]
    },
    {
      "cell_type": "code",
      "metadata": {
        "id": "2xko4SHCZxeV",
        "colab_type": "code",
        "colab": {
          "base_uri": "https://localhost:8080/",
          "height": 794
        },
        "outputId": "6faaf0b8-12b8-4122-bf02-7df05cace60b"
      },
      "source": [
        "fig = plt.figure(figsize=(20,12))\n",
        "\n",
        "plt.suptitle('Correlation of Independent Variables and The Dependent Variable', fontsize=16, y=0.95)\n",
        "ax = fig.add_subplot(221)\n",
        "ax1 = fig.add_subplot(222)\n",
        "ax2 = fig.add_subplot(223)\n",
        "ax3 = fig.add_subplot(224)\n",
        "\n",
        "# Plotting Engine_Size and Co2_emissions\n",
        "ax.scatter(x=independent['ENGINE_SIZE(L)'],y= df['CO2_EMISSIONS'], color='navy')\n",
        "ax.set_title('Engine_Size and CO2_Emissions', fontsize=14)\n",
        "ax.set_xlabel('Engine_Size', fontsize=12)\n",
        "ax.set_ylabel('CO2_Emissions', fontsize=12)\n",
        "\n",
        "# Plotting Cylinders and Co2_emissions\n",
        "ax1.scatter(x=independent['CYLINDERS'],y= df['CO2_EMISSIONS'], color='green')\n",
        "ax1.set_title('Cylinders and CO2_Emissions', fontsize=14)\n",
        "ax1.set_xlabel('Cylinders', fontsize=12)\n",
        "ax1.set_ylabel('CO2_Emissions', fontsize=12)\n",
        "\n",
        "# Plotting FUEL_CONS_CITY(L/100km) and Co2_emissions\n",
        "ax2.scatter(x=independent['FUEL_CONS_CITY(L/100km)'],y= df['CO2_EMISSIONS'], color='red')\n",
        "ax2.set_title('FUEL_CONS_CITY(L/100km) and CO2_Emissions', fontsize=14)\n",
        "ax2.set_xlabel('FUEL_CONS_CITY(L/100km)', fontsize=12)\n",
        "ax2.set_ylabel('CO2_Emissions', fontsize=12)\n",
        "\n",
        "# Plotting COMB_(L/100km) and Co2_emissions\n",
        "ax3.scatter(x=independent['COMB_(L/100km)'],y= df['CO2_EMISSIONS'], color='skyblue')\n",
        "ax3.set_title('COMB_(L/100km) and CO2_Emissions', fontsize=14)\n",
        "ax3.set_xlabel('COMB_(L/100km)', fontsize=12)\n",
        "ax3.set_ylabel('CO2_Emissions', fontsize=12)"
      ],
      "execution_count": 48,
      "outputs": [
        {
          "output_type": "execute_result",
          "data": {
            "text/plain": [
              "Text(0, 0.5, 'CO2_Emissions')"
            ]
          },
          "metadata": {
            "tags": []
          },
          "execution_count": 48
        },
        {
          "output_type": "display_data",
          "data": {
            "image/png": "[encoded data removed]",
            "text/plain": [
              "<Figure size 1440x864 with 4 Axes>"
            ]
          },
          "metadata": {
            "tags": []
          }
        }
      ]
    },
    {
      "cell_type": "markdown",
      "metadata": {
        "id": "YipMOJJdNcTE",
        "colab_type": "text"
      },
      "source": [
        "Next lets normalize the independent variable. first let's define a normalize method"
      ]
    },
    {
      "cell_type": "code",
      "metadata": {
        "id": "AN6EPhEIQhdB",
        "colab_type": "code",
        "colab": {}
      },
      "source": [
        "def normalize(independent):\n",
        "    \"\"\"Takes a data frame and normalizes each column\n",
        "    using the simple feature scaling method\"\"\"\n",
        "    lent = independent.shape[1]\n",
        "    \n",
        "    for i in range(lent):\n",
        "        independent.iloc[:,i] = independent.iloc[:, i] / max(independent.iloc[:,i])\n",
        "        \n",
        "    return independent"
      ],
      "execution_count": 0,
      "outputs": []
    },
    {
      "cell_type": "markdown",
      "metadata": {
        "id": "igeVq6XNU01E",
        "colab_type": "text"
      },
      "source": [
        "Let's normalize the predictor or independent variables and convert them to a 2D array"
      ]
    },
    {
      "cell_type": "code",
      "metadata": {
        "id": "xg_MZ_waQyUf",
        "colab_type": "code",
        "colab": {
          "base_uri": "https://localhost:8080/",
          "height": 218
        },
        "outputId": "58cb107d-4f6f-4f41-fee1-2af6d72854c6"
      },
      "source": [
        "X = normalize(independent).values"
      ],
      "execution_count": 50,
      "outputs": [
        {
          "output_type": "stream",
          "text": [
            "/usr/local/lib/python3.6/dist-packages/pandas/core/indexing.py:543: SettingWithCopyWarning: \n",
            "A value is trying to be set on a copy of a slice from a DataFrame.\n",
            "Try using .loc[row_indexer,col_indexer] = value instead\n",
            "\n",
            "See the caveats in the documentation: http://pandas.pydata.org/pandas-docs/stable/indexing.html#indexing-view-versus-copy\n",
            "  self.obj[item] = s\n",
            "/usr/local/lib/python3.6/dist-packages/pandas/core/indexing.py:635: SettingWithCopyWarning: \n",
            "A value is trying to be set on a copy of a slice from a DataFrame.\n",
            "Try using .loc[row_indexer,col_indexer] = value instead\n",
            "\n",
            "See the caveats in the documentation: http://pandas.pydata.org/pandas-docs/stable/indexing.html#indexing-view-versus-copy\n",
            "  self.obj[item_labels[indexer[info_axis]]] = value\n"
          ],
          "name": "stderr"
        }
      ]
    },
    {
      "cell_type": "code",
      "metadata": {
        "id": "2wqIQDgAS8Lf",
        "colab_type": "code",
        "colab": {
          "base_uri": "https://localhost:8080/",
          "height": 134
        },
        "outputId": "bbc4f30c-646d-4089-cfd8-c27944b5b46b"
      },
      "source": [
        "X"
      ],
      "execution_count": 51,
      "outputs": [
        {
          "output_type": "execute_result",
          "data": {
            "text/plain": [
              "array([[0.19047619, 0.25      , 0.30065359, 0.3266129 ],\n",
              "       [0.19047619, 0.25      , 0.27777778, 0.30645161],\n",
              "       [0.38095238, 0.375     , 0.39869281, 0.40322581],\n",
              "       ...,\n",
              "       [0.35714286, 0.375     , 0.38888889, 0.41532258],\n",
              "       [0.38095238, 0.375     , 0.37254902, 0.39516129],\n",
              "       [0.38095238, 0.375     , 0.43464052, 0.4516129 ]])"
            ]
          },
          "metadata": {
            "tags": []
          },
          "execution_count": 51
        }
      ]
    },
    {
      "cell_type": "markdown",
      "metadata": {
        "id": "IwdG8MXvXYu4",
        "colab_type": "text"
      },
      "source": [
        "Define the target variable"
      ]
    },
    {
      "cell_type": "code",
      "metadata": {
        "id": "5t1B6F7IXXoa",
        "colab_type": "code",
        "colab": {
          "base_uri": "https://localhost:8080/",
          "height": 134
        },
        "outputId": "ccf77c31-e09d-4ff8-8181-6a4a25e5e6dc"
      },
      "source": [
        "Y = df[['CO2_EMISSIONS']].values\n",
        "\n",
        "Y"
      ],
      "execution_count": 52,
      "outputs": [
        {
          "output_type": "execute_result",
          "data": {
            "text/plain": [
              "array([[186],\n",
              "       [175],\n",
              "       [230],\n",
              "       ...,\n",
              "       [237],\n",
              "       [225],\n",
              "       [258]])"
            ]
          },
          "metadata": {
            "tags": []
          },
          "execution_count": 52
        }
      ]
    },
    {
      "cell_type": "markdown",
      "metadata": {
        "id": "BXjnA5UJWcyd",
        "colab_type": "text"
      },
      "source": [
        "### Creating train and test dataset\n",
        "Train/Test Split involves splitting the dataset into training and testing sets respectively, which are mutually exclusive. After which, you train with the training set and test with the testing set. \n",
        "This will provide a more accurate evaluation on out-of-sample accuracy because the testing dataset is not part of the dataset that have been used to train the data. It is more realistic for real world problems.\n",
        "\n",
        "This means that we know the outcome of each data point in this dataset, making it great to test with! And since this data has not been used to train the model, the model has no knowledge of the outcome of these data points. So, in essence, it’s truly an out-of-sample testing.\n",
        "\n"
      ]
    },
    {
      "cell_type": "code",
      "metadata": {
        "id": "ToYfx_KWTlhd",
        "colab_type": "code",
        "colab": {}
      },
      "source": [
        "from sklearn.model_selection import train_test_split  # The function to split the data set into training and testing sets"
      ],
      "execution_count": 0,
      "outputs": []
    },
    {
      "cell_type": "code",
      "metadata": {
        "id": "uLTM-TiJXEP1",
        "colab_type": "code",
        "colab": {}
      },
      "source": [
        "train_x, test_x, train_y, test_y = train_test_split(X,Y, test_size=0.27, shuffle=True, random_state=47)"
      ],
      "execution_count": 0,
      "outputs": []
    },
    {
      "cell_type": "code",
      "metadata": {
        "id": "UMLHPo5Hgeg9",
        "colab_type": "code",
        "colab": {
          "base_uri": "https://localhost:8080/",
          "height": 84
        },
        "outputId": "f1174749-dd83-4940-8058-be32758cc2cb"
      },
      "source": [
        "print('train_x length is',len(train_x),'\\ntest_x length is',len(test_x),'\\ntrain_y length is',len(train_y),'\\ntest_y length is',len(test_y))"
      ],
      "execution_count": 55,
      "outputs": [
        {
          "output_type": "stream",
          "text": [
            "train_x length is 10470 \n",
            "test_x length is 3873 \n",
            "train_y length is 10470 \n",
            "test_y length is 3873\n"
          ],
          "name": "stdout"
        }
      ]
    },
    {
      "cell_type": "markdown",
      "metadata": {
        "id": "-z4f6y4Kin9M",
        "colab_type": "text"
      },
      "source": [
        "### Multiple Regression Model\n",
        "\n",
        "In reality, there are multiple variables that predict the Co2emission. When more than one independent variable is present, the process is called multiple linear regression. For example, predicting co2emission using FUELCONSUMPTION_COMB, EngineSize and Cylinders of cars. The good thing here is that Multiple linear regression is the extension of simple linear regression model."
      ]
    },
    {
      "cell_type": "code",
      "metadata": {
        "id": "lYSu1yQpitQQ",
        "colab_type": "code",
        "colab": {}
      },
      "source": [
        "from sklearn.linear_model import LinearRegression\n",
        "\n",
        "mlr = LinearRegression()"
      ],
      "execution_count": 0,
      "outputs": []
    },
    {
      "cell_type": "markdown",
      "metadata": {
        "id": "xqYvgsWPjUdg",
        "colab_type": "text"
      },
      "source": [
        "### Train the model"
      ]
    },
    {
      "cell_type": "code",
      "metadata": {
        "id": "kCMUAv-MjWMI",
        "colab_type": "code",
        "colab": {
          "base_uri": "https://localhost:8080/",
          "height": 50
        },
        "outputId": "866e3139-9fb8-4a8a-aefc-35607bba5a56"
      },
      "source": [
        "mlr.fit(X,Y)"
      ],
      "execution_count": 57,
      "outputs": [
        {
          "output_type": "execute_result",
          "data": {
            "text/plain": [
              "LinearRegression(copy_X=True, fit_intercept=True, n_jobs=None,\n",
              "         normalize=False)"
            ]
          },
          "metadata": {
            "tags": []
          },
          "execution_count": 57
        }
      ]
    },
    {
      "cell_type": "markdown",
      "metadata": {
        "id": "RNtUjRx3jhsU",
        "colab_type": "text"
      },
      "source": [
        "### print the coefficients of the model parameters"
      ]
    },
    {
      "cell_type": "code",
      "metadata": {
        "id": "aerQt_lAjlD3",
        "colab_type": "code",
        "colab": {
          "base_uri": "https://localhost:8080/",
          "height": 50
        },
        "outputId": "0547cca5-5f55-4199-a04e-2fdeef49a6fb"
      },
      "source": [
        "# The Slope or gradient\n",
        "slope = mlr.coef_\n",
        "\n",
        "# the intercept or bias unit\n",
        "intercept = mlr.intercept_\n",
        "\n",
        "print('Slope =', slope,'\\nIntercept = ',intercept)"
      ],
      "execution_count": 58,
      "outputs": [
        {
          "output_type": "stream",
          "text": [
            "Slope = [[ 46.31822662  80.808098   -44.07389711 389.07600461]] \n",
            "Intercept =  [44.0302154]\n"
          ],
          "name": "stdout"
        }
      ]
    },
    {
      "cell_type": "markdown",
      "metadata": {
        "id": "U4nZck9xD-Bz",
        "colab_type": "text"
      },
      "source": [
        "Therefore our MLR model equation is \n",
        "\n",
        "### $y_{hat} = b0 + b1x1 + b2x2 + b3x3 + b4x4$<br>\n",
        "<br>\n",
        "which means given our model parameters above, we can make predictions by substituting the slope and intercept values like this:-\n",
        "<br>\n",
        "\n",
        "### $y_{hat} = 44.0302154 + 46.31822662(x1) + 80.808098(x2) + -44.07389711(x3) + 389.07600461(x4)$<br>\n",
        "\n",
        "\n",
        "where:<br>\n",
        "\n",
        "$x1$ = Engine_Size<br>\n",
        "$x2$ = Cylinders<br>\n",
        "$x3$ = Fuel_Cons_City(L/100km)<br>\n",
        "$x4$ = Comb_(L/100km)"
      ]
    },
    {
      "cell_type": "markdown",
      "metadata": {
        "id": "26p2Y8vIF-Uq",
        "colab_type": "text"
      },
      "source": [
        "So if we have the following details,  for an audi_car for example, we can easily predict CO2 emissions for the car below\n",
        "\n",
        "\n",
        "ENGINE_SIZE(L) = 3.2<br>\n",
        "CYLINDERS = 6<br>\n",
        "FUEL_CONS_CITY(L/100km) = 12.2<br>\n",
        "COMB_(L/100km) = 10.0"
      ]
    },
    {
      "cell_type": "code",
      "metadata": {
        "id": "tvRDVxuEHyvk",
        "colab_type": "code",
        "colab": {}
      },
      "source": [
        "ENGINE_SIZE = 3.2\n",
        "CYLINDERS = 6\n",
        "FUEL_CONS_CITY = 12.2\n",
        "COMB_L = 10.0"
      ],
      "execution_count": 0,
      "outputs": []
    },
    {
      "cell_type": "code",
      "metadata": {
        "id": "CL8FCjE2MD8_",
        "colab_type": "code",
        "colab": {}
      },
      "source": [
        "# First we normalize the variables\n",
        "\n",
        "ENGINE_SIZE = (3.2 - 3.2) / (12.2 - 3.2)\n",
        "CYLINDERS = (6 - 3.2) / (12.2 - 3.2)\n",
        "FUEL_CONS_CITY = (12.2 - 3.2) / (12.2 - 3.2)\n",
        "COMB_L = (10.0 - 3.2) / (12.2 - 3.2)"
      ],
      "execution_count": 0,
      "outputs": []
    },
    {
      "cell_type": "code",
      "metadata": {
        "id": "SIGDyMZxMIY3",
        "colab_type": "code",
        "colab": {
          "base_uri": "https://localhost:8080/",
          "height": 34
        },
        "outputId": "d1cacc86-28ce-4e00-f84b-6c738334ec92"
      },
      "source": [
        "# next we substitute the variables in the MLR equation\n",
        "\n",
        "audi_car_CO2 = intercept + (slope[0][0]*ENGINE_SIZE + slope[0][1]*CYLINDERS + slope[0][2]*FUEL_CONS_CITY + slope[0][3]*COMB_L)\n",
        "\n",
        "print('CO2_Emissions for audi_car =',audi_car_CO2)"
      ],
      "execution_count": 156,
      "outputs": [
        {
          "output_type": "stream",
          "text": [
            "CO2_Emissions for audi_car = [319.06515226]\n"
          ],
          "name": "stdout"
        }
      ]
    },
    {
      "cell_type": "markdown",
      "metadata": {
        "id": "slNMXBqLmKls",
        "colab_type": "text"
      },
      "source": [
        "## Model Evaluation"
      ]
    },
    {
      "cell_type": "markdown",
      "metadata": {
        "id": "rHvTjChkolaa",
        "colab_type": "text"
      },
      "source": [
        "**Ordinary Least Squares (OLS)**\n",
        "\n",
        "OLS is a method for estimating the unknown parameters in a linear regression model. OLS chooses the parameters of a linear function of a set of explanatory variables by minimizing the sum of the squares of the differences between the target dependent variable and those predicted by the linear function. In other words, it tries to minimizes the sum of squared errors (SSE) or mean squared error (MSE) between the target variable (y) and our predicted output ( y^ ) over all samples in the dataset.\n",
        "\n",
        "OLS can find the best parameters using of the following methods: - Solving the model parameters analytically using closed-form equations - Using an optimization algorithm (Gradient Descent, Stochastic Gradient Descent, Newton’s Method, etc.)"
      ]
    },
    {
      "cell_type": "markdown",
      "metadata": {
        "id": "ZDS2QQbCpjRT",
        "colab_type": "text"
      },
      "source": [
        "### Prediction"
      ]
    },
    {
      "cell_type": "code",
      "metadata": {
        "id": "xo6hRycJpmG8",
        "colab_type": "code",
        "colab": {}
      },
      "source": [
        "y_hat = mlr.predict(test_x)"
      ],
      "execution_count": 0,
      "outputs": []
    },
    {
      "cell_type": "markdown",
      "metadata": {
        "id": "T86xXgkWmSCr",
        "colab_type": "text"
      },
      "source": [
        "**$R^2$ or Coefficient of determination**\n",
        "\n",
        "Returns the coefficient of determination R^2 of the prediction.\n",
        "\n",
        "**sklearn.metrics.r2_score(y_true, y_pred, sample_weight=None, multioutput=’uniform_average’)**\n",
        "\n",
        "The coefficient R^2 is defined as (1 - u/v), where u is the residual\n",
        "sum of squares ((y_true - y_pred) ** 2).sum() and v is the total\n",
        "sum of squares ((y_true - y_true.mean()) ** 2).sum().\n",
        "The best possible score is 1.0 and it can be negative (because the\n",
        "model can be arbitrarily worse). A constant model that always\n",
        "predicts the expected value of y, disregarding the input features,\n",
        "would get a R^2 score of 0.0.\n",
        "\n",
        "To find the $R^2$ we use the .score() function on our model\n"
      ]
    },
    {
      "cell_type": "markdown",
      "metadata": {
        "id": "R6SuhNIPrE2B",
        "colab_type": "text"
      },
      "source": [
        "Finding the MSE, the lower the better"
      ]
    },
    {
      "cell_type": "code",
      "metadata": {
        "id": "klljEtnevekD",
        "colab_type": "code",
        "colab": {}
      },
      "source": [
        "from sklearn.metrics import mean_squared_error, r2_score"
      ],
      "execution_count": 0,
      "outputs": []
    },
    {
      "cell_type": "code",
      "metadata": {
        "id": "CLl6Jp0VvEtA",
        "colab_type": "code",
        "colab": {
          "base_uri": "https://localhost:8080/",
          "height": 34
        },
        "outputId": "3f40b11f-02c8-4cb4-881e-9f4019a332d7"
      },
      "source": [
        "MSE = mean_squared_error(y_hat, test_y)\n",
        "\n",
        "print('Residual sum of squares or MSE: %.2f' % MSE)"
      ],
      "execution_count": 86,
      "outputs": [
        {
          "output_type": "stream",
          "text": [
            "Residual sum of squares or MSE: 490.70\n"
          ],
          "name": "stdout"
        }
      ]
    },
    {
      "cell_type": "markdown",
      "metadata": {
        "id": "d0TzHcNU565V",
        "colab_type": "text"
      },
      "source": [
        "Finding the RMSE, which is the square root of the MSE"
      ]
    },
    {
      "cell_type": "code",
      "metadata": {
        "id": "K0YLxkiTvzG9",
        "colab_type": "code",
        "colab": {
          "base_uri": "https://localhost:8080/",
          "height": 34
        },
        "outputId": "52de2fa7-2203-4173-ebe3-3d46c9ecb0d5"
      },
      "source": [
        "RMSE = MSE**0.5\n",
        "\n",
        "RMSE"
      ],
      "execution_count": 87,
      "outputs": [
        {
          "output_type": "execute_result",
          "data": {
            "text/plain": [
              "22.151636734256364"
            ]
          },
          "metadata": {
            "tags": []
          },
          "execution_count": 87
        }
      ]
    },
    {
      "cell_type": "markdown",
      "metadata": {
        "id": "--Ed4r2Z6FWH",
        "colab_type": "text"
      },
      "source": [
        "**Finding the RMSE as a percentage of the range of the target variable.\n",
        "The lower the percentage the better the model**\n",
        "\n",
        "First we find the range of the target variable"
      ]
    },
    {
      "cell_type": "code",
      "metadata": {
        "id": "1A73oV8Xv-u_",
        "colab_type": "code",
        "colab": {
          "base_uri": "https://localhost:8080/",
          "height": 34
        },
        "outputId": "2cf404be-c21b-48f9-9b0e-b545e5b2f0b0"
      },
      "source": [
        "y_range = test_y.max() - test_y.min()\n",
        "y_range"
      ],
      "execution_count": 88,
      "outputs": [
        {
          "output_type": "execute_result",
          "data": {
            "text/plain": [
              "430"
            ]
          },
          "metadata": {
            "tags": []
          },
          "execution_count": 88
        }
      ]
    },
    {
      "cell_type": "markdown",
      "metadata": {
        "id": "eHT40k0F600N",
        "colab_type": "text"
      },
      "source": [
        "Next we compute the RMSE as a percent of the range"
      ]
    },
    {
      "cell_type": "code",
      "metadata": {
        "id": "-pCZQo_xlb1P",
        "colab_type": "code",
        "colab": {
          "base_uri": "https://localhost:8080/",
          "height": 34
        },
        "outputId": "374824ea-dad6-4771-b145-c07e5cec5709"
      },
      "source": [
        "error_range = (RMSE / y_range) * 100\n",
        "\n",
        "error_range"
      ],
      "execution_count": 89,
      "outputs": [
        {
          "output_type": "execute_result",
          "data": {
            "text/plain": [
              "5.151543426571247"
            ]
          },
          "metadata": {
            "tags": []
          },
          "execution_count": 89
        }
      ]
    },
    {
      "cell_type": "markdown",
      "metadata": {
        "id": "WGBcCTFi7O_4",
        "colab_type": "text"
      },
      "source": [
        "Finally let's compute the $R^2$ score or coefficient of determination of our model prediction.<br>\n",
        "The highest value is 1... So the closer to 1, the better the score"
      ]
    },
    {
      "cell_type": "code",
      "metadata": {
        "id": "up_ZeLfb5RUQ",
        "colab_type": "code",
        "colab": {
          "base_uri": "https://localhost:8080/",
          "height": 34
        },
        "outputId": "7db0f70f-a0f5-4f73-e88f-6af0dfe63c99"
      },
      "source": [
        "r2_score(test_y, y_hat)  # pass in the true values first, then the predicted values."
      ],
      "execution_count": 91,
      "outputs": [
        {
          "output_type": "execute_result",
          "data": {
            "text/plain": [
              "0.8601623559586588"
            ]
          },
          "metadata": {
            "tags": []
          },
          "execution_count": 91
        }
      ]
    },
    {
      "cell_type": "markdown",
      "metadata": {
        "id": "S_jKMtqe8U59",
        "colab_type": "text"
      },
      "source": [
        "## Summary"
      ]
    },
    {
      "cell_type": "markdown",
      "metadata": {
        "id": "WbPTF6zJ8pTM",
        "colab_type": "text"
      },
      "source": [
        "We have seen how Multiple Linear regression works step by step using Scikit Learn Library.<br>\n",
        "\n",
        "We built a MLR Model from scratch by first determining correlated variables, selecting four of them  and shaping them into a 2D array.<br>\n",
        "Then using sklearn library to split the data into training and testing sets.<br>\n",
        "Then training the model with the tarining data set using the  fit() function,<br>\n",
        "And using the model to make predictions on the test data set that is not yet known to the model(out of sample data set)<br>\n",
        "Finally evaluating the model using MSE, RMSE and $R^2$ score."
      ]
    },
    {
      "cell_type": "markdown",
      "metadata": {
        "id": "xnKQ3Lvf-ASK",
        "colab_type": "text"
      },
      "source": [
        "Our Model performed quite good on the out-of-sample data set.<br>\n",
        "With an error_range of only 5% of the target variable range and a coefficient of determination of 0.86 out of 1.0"
      ]
    },
    {
      "cell_type": "markdown",
      "metadata": {
        "id": "aCsUI9Hv-Y-U",
        "colab_type": "text"
      },
      "source": [
        "### let's plot the model performance on the Test data set using a Histplot and Regplot."
      ]
    },
    {
      "cell_type": "code",
      "metadata": {
        "id": "0oCAX0eH8iv9",
        "colab_type": "code",
        "colab": {
          "base_uri": "https://localhost:8080/",
          "height": 435
        },
        "outputId": "5d3e8715-dc4c-488e-e3fd-63d3a210e868"
      },
      "source": [
        "fig = plt.figure(figsize=(18, 6))\n",
        "plt.suptitle('Distplot and Regplot for Predictions of MLR Model on Test data set', fontsize=16)\n",
        "\n",
        "ax = fig.add_subplot(121)\n",
        "ax1 = fig.add_subplot(122)\n",
        "\n",
        "# plotting the Distplot\n",
        "sns.distplot(test_y, hist=False, label='Target', color='navy', ax=ax)\n",
        "sns.distplot(y_hat, hist=False, label='Prediction', color='red', ax=ax)\n",
        "ax.set_xlabel('CO2_EMISSIONS', fontsize=14)\n",
        "ax.set_title('Distplot showing Prediction VS Actual for our MLR Model')\n",
        "\n",
        "# plotting the Regplot\n",
        "sns.regplot(test_y.squeeze(), y_hat.squeeze(), color='skyblue', ax=ax1)\n",
        "ax1.set_xlabel('CO2_EMISSIONS', fontsize=14)\n",
        "ax1.set_title('Regplot showing Prediction for our MLR Model')\n",
        "\n",
        "plt.show()"
      ],
      "execution_count": 101,
      "outputs": [
        {
          "output_type": "display_data",
          "data": {
            "image/png": "[encoded data removed]",
            "text/plain": [
              "<Figure size 1296x432 with 2 Axes>"
            ]
          },
          "metadata": {
            "tags": []
          }
        }
      ]
    },
    {
      "cell_type": "code",
      "metadata": {
        "id": "DNGPntvmCkXk",
        "colab_type": "code",
        "colab": {}
      },
      "source": [
        ""
      ],
      "execution_count": 0,
      "outputs": []
    }
  ]
}