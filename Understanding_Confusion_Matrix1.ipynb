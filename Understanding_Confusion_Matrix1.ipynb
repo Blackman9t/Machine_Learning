{
  "nbformat": 4,
  "nbformat_minor": 0,
  "metadata": {
    "colab": {
      "name": "Understanding_Confusion_Matrix1.ipynb",
      "version": "0.3.2",
      "provenance": [],
      "collapsed_sections": [],
      "include_colab_link": true
    },
    "kernelspec": {
      "name": "python3",
      "display_name": "Python 3"
    },
    "accelerator": "GPU"
  },
  "cells": [
    {
      "cell_type": "markdown",
      "metadata": {
        "id": "view-in-github",
        "colab_type": "text"
      },
      "source": [
        "<a href=\"https://colab.research.google.com/github/Blackman9t/Machine_Learning/blob/master/Understanding_Confusion_Matrix1.ipynb\" target=\"_parent\"><img src=\"https://colab.research.google.com/assets/colab-badge.svg\" alt=\"Open In Colab\"/></a>"
      ]
    },
    {
      "cell_type": "code",
      "metadata": {
        "id": "iDhT4fAxgOzZ",
        "colab_type": "code",
        "outputId": "11712d9a-117b-4ae0-bf54-839af6f1e2b9",
        "colab": {
          "base_uri": "https://localhost:8080/",
          "height": 34
        }
      },
      "source": [
        "print(__doc__)\n",
        "\n",
        "import numpy as np\n",
        "import matplotlib.pyplot as plt\n",
        "import seaborn as sns\n",
        "import pandas as pd\n",
        "import itertools\n",
        "from sklearn.metrics import roc_curve, auc\n"
      ],
      "execution_count": 1,
      "outputs": [
        {
          "output_type": "stream",
          "text": [
            "Automatically created module for IPython interactive environment\n"
          ],
          "name": "stdout"
        }
      ]
    },
    {
      "cell_type": "markdown",
      "metadata": {
        "id": "K4MzCNjgh2W0",
        "colab_type": "text"
      },
      "source": [
        "Let's import our data set from github and read into a Pandas Data frame"
      ]
    },
    {
      "cell_type": "code",
      "metadata": {
        "id": "CuVVGqibiAwq",
        "colab_type": "code",
        "outputId": "359989f9-a066-4847-b77d-3d36c06aebb8",
        "colab": {
          "base_uri": "https://localhost:8080/",
          "height": 195
        }
      },
      "source": [
        "data_link = 'https://raw.githubusercontent.com/Blackman9t/Machine_Learning/master/diabetes.csv'\n",
        "\n",
        "diabetes_df = pd.read_csv(data_link)\n",
        "\n",
        "diabetes_df.head()"
      ],
      "execution_count": 2,
      "outputs": [
        {
          "output_type": "execute_result",
          "data": {
            "text/html": [
              "<div>\n",
              "<style scoped>\n",
              "    .dataframe tbody tr th:only-of-type {\n",
              "        vertical-align: middle;\n",
              "    }\n",
              "\n",
              "    .dataframe tbody tr th {\n",
              "        vertical-align: top;\n",
              "    }\n",
              "\n",
              "    .dataframe thead th {\n",
              "        text-align: right;\n",
              "    }\n",
              "</style>\n",
              "<table border=\"1\" class=\"dataframe\">\n",
              "  <thead>\n",
              "    <tr style=\"text-align: right;\">\n",
              "      <th></th>\n",
              "      <th>PatientID</th>\n",
              "      <th>Pregnancies</th>\n",
              "      <th>PlasmaGlucose</th>\n",
              "      <th>DiastolicBloodPressure</th>\n",
              "      <th>TricepsThickness</th>\n",
              "      <th>SerumInsulin</th>\n",
              "      <th>BMI</th>\n",
              "      <th>DiabetesPedigree</th>\n",
              "      <th>Age</th>\n",
              "      <th>Diabetic</th>\n",
              "    </tr>\n",
              "  </thead>\n",
              "  <tbody>\n",
              "    <tr>\n",
              "      <th>0</th>\n",
              "      <td>1354778</td>\n",
              "      <td>0</td>\n",
              "      <td>171</td>\n",
              "      <td>80</td>\n",
              "      <td>34</td>\n",
              "      <td>23</td>\n",
              "      <td>43.509726</td>\n",
              "      <td>1.213191</td>\n",
              "      <td>21</td>\n",
              "      <td>0</td>\n",
              "    </tr>\n",
              "    <tr>\n",
              "      <th>1</th>\n",
              "      <td>1147438</td>\n",
              "      <td>8</td>\n",
              "      <td>92</td>\n",
              "      <td>93</td>\n",
              "      <td>47</td>\n",
              "      <td>36</td>\n",
              "      <td>21.240576</td>\n",
              "      <td>0.158365</td>\n",
              "      <td>23</td>\n",
              "      <td>0</td>\n",
              "    </tr>\n",
              "    <tr>\n",
              "      <th>2</th>\n",
              "      <td>1640031</td>\n",
              "      <td>7</td>\n",
              "      <td>115</td>\n",
              "      <td>47</td>\n",
              "      <td>52</td>\n",
              "      <td>35</td>\n",
              "      <td>41.511523</td>\n",
              "      <td>0.079019</td>\n",
              "      <td>23</td>\n",
              "      <td>0</td>\n",
              "    </tr>\n",
              "    <tr>\n",
              "      <th>3</th>\n",
              "      <td>1883350</td>\n",
              "      <td>9</td>\n",
              "      <td>103</td>\n",
              "      <td>78</td>\n",
              "      <td>25</td>\n",
              "      <td>304</td>\n",
              "      <td>29.582192</td>\n",
              "      <td>1.282870</td>\n",
              "      <td>43</td>\n",
              "      <td>1</td>\n",
              "    </tr>\n",
              "    <tr>\n",
              "      <th>4</th>\n",
              "      <td>1424119</td>\n",
              "      <td>1</td>\n",
              "      <td>85</td>\n",
              "      <td>59</td>\n",
              "      <td>27</td>\n",
              "      <td>35</td>\n",
              "      <td>42.604536</td>\n",
              "      <td>0.549542</td>\n",
              "      <td>22</td>\n",
              "      <td>0</td>\n",
              "    </tr>\n",
              "  </tbody>\n",
              "</table>\n",
              "</div>"
            ],
            "text/plain": [
              "   PatientID  Pregnancies  PlasmaGlucose  ...  DiabetesPedigree  Age  Diabetic\n",
              "0    1354778            0            171  ...          1.213191   21         0\n",
              "1    1147438            8             92  ...          0.158365   23         0\n",
              "2    1640031            7            115  ...          0.079019   23         0\n",
              "3    1883350            9            103  ...          1.282870   43         1\n",
              "4    1424119            1             85  ...          0.549542   22         0\n",
              "\n",
              "[5 rows x 10 columns]"
            ]
          },
          "metadata": {
            "tags": []
          },
          "execution_count": 2
        }
      ]
    },
    {
      "cell_type": "markdown",
      "metadata": {
        "id": "wy36kU00ijM8",
        "colab_type": "text"
      },
      "source": [
        "Let's check the shape and if any missing values exist"
      ]
    },
    {
      "cell_type": "code",
      "metadata": {
        "id": "fD2ShA1Qin4x",
        "colab_type": "code",
        "outputId": "103811e4-dfea-42ff-9e98-43e6f715f99f",
        "colab": {
          "base_uri": "https://localhost:8080/",
          "height": 34
        }
      },
      "source": [
        "diabetes_df.shape"
      ],
      "execution_count": 3,
      "outputs": [
        {
          "output_type": "execute_result",
          "data": {
            "text/plain": [
              "(15000, 10)"
            ]
          },
          "metadata": {
            "tags": []
          },
          "execution_count": 3
        }
      ]
    },
    {
      "cell_type": "code",
      "metadata": {
        "id": "CrAm8bWLiqro",
        "colab_type": "code",
        "outputId": "0f9a4950-2d22-411b-965d-5781b0548227",
        "colab": {
          "base_uri": "https://localhost:8080/",
          "height": 202
        }
      },
      "source": [
        "diabetes_df.isna().any()"
      ],
      "execution_count": 4,
      "outputs": [
        {
          "output_type": "execute_result",
          "data": {
            "text/plain": [
              "PatientID                 False\n",
              "Pregnancies               False\n",
              "PlasmaGlucose             False\n",
              "DiastolicBloodPressure    False\n",
              "TricepsThickness          False\n",
              "SerumInsulin              False\n",
              "BMI                       False\n",
              "DiabetesPedigree          False\n",
              "Age                       False\n",
              "Diabetic                  False\n",
              "dtype: bool"
            ]
          },
          "metadata": {
            "tags": []
          },
          "execution_count": 4
        }
      ]
    },
    {
      "cell_type": "markdown",
      "metadata": {
        "id": "5PlahZq0mYx_",
        "colab_type": "text"
      },
      "source": [
        "Let's look at the distribution of each column, this would help us choose the most ideal feature normalization method.<br>\n",
        "First let's define a method that plots the distribution of each feature."
      ]
    },
    {
      "cell_type": "code",
      "metadata": {
        "id": "wVySOHK8msHN",
        "colab_type": "code",
        "colab": {}
      },
      "source": [
        "def plot_features(data):\n",
        "    plt.figure(figsize=(20, 10))\n",
        "    sns.set(font_scale=1.2)\n",
        "    sns.set_style('ticks') # change background to white background\n",
        "    plt.suptitle('Visualizing The Features Distribution', y=0.95)\n",
        "\n",
        "    plt.subplot(241)\n",
        "    color_list = ['gold','purple','brown']\n",
        "    data.Age.plot(kind='hist', color='brown')\n",
        "    plt.xlabel('Age')\n",
        "    plt.ylabel('Frequency')\n",
        "\n",
        "    plt.subplot(242)\n",
        "    color_list = ['gold','purple','brown']\n",
        "    data.Pregnancies.plot(kind='hist', color='brown')\n",
        "    plt.xlabel('Pregnancies')\n",
        "    plt.ylabel('Frequency')\n",
        "\n",
        "    plt.subplot(243)\n",
        "    color_list = ['gold','purple','brown']\n",
        "    data.PlasmaGlucose.plot(kind='hist', color='brown')\n",
        "    plt.xlabel('PlasmaGlucose')\n",
        "    plt.ylabel('Frequency')\n",
        "\n",
        "    plt.subplot(244)\n",
        "    color_list = ['gold','purple','brown']\n",
        "    data.DiastolicBloodPressure.plot(kind='hist', color='brown')\n",
        "    plt.xlabel('DiastolicBP')\n",
        "    plt.ylabel('Frequency')\n",
        "\n",
        "    plt.subplot(245)\n",
        "    color_list = ['gold','purple','brown']\n",
        "    data.TricepsThickness.plot(kind='hist', color='brown')\n",
        "    plt.xlabel('TricepsThickness')\n",
        "    plt.ylabel('Frequency')\n",
        "\n",
        "    plt.subplot(246)\n",
        "    color_list = ['gold','purple','brown']\n",
        "    data.SerumInsulin.plot(kind='hist', color='brown')\n",
        "    plt.xlabel('SerumInsulin')\n",
        "    plt.ylabel('Frequency')\n",
        "\n",
        "\n",
        "    plt.subplot(247)\n",
        "    color_list = ['gold','purple','brown']\n",
        "    data.BMI.plot(kind='hist', color='brown')\n",
        "    plt.xlabel('BMI')\n",
        "    plt.ylabel('Frequency')\n",
        "\n",
        "    plt.subplot(248)\n",
        "    color_list = ['gold','purple','brown']\n",
        "    data.DiabetesPedigree.plot(kind='hist', color='brown')\n",
        "    plt.xlabel('DiabetesPedigree')\n",
        "    plt.ylabel('Frequency')\n",
        "\n",
        "    plt.show()"
      ],
      "execution_count": 0,
      "outputs": []
    },
    {
      "cell_type": "code",
      "metadata": {
        "id": "x4PlJMg7JAsP",
        "colab_type": "code",
        "outputId": "5a4e9fb9-8f51-4f6f-ac1a-1da97e05738f",
        "colab": {
          "base_uri": "https://localhost:8080/",
          "height": 665
        }
      },
      "source": [
        "plot_features(diabetes_df)"
      ],
      "execution_count": 0,
      "outputs": [
        {
          "output_type": "display_data",
          "data": {
            "image/png": "[encoded data removed]",
            "text/plain": [
              "<Figure size 1440x720 with 8 Axes>"
            ]
          },
          "metadata": {
            "tags": []
          }
        }
      ]
    },
    {
      "cell_type": "markdown",
      "metadata": {
        "id": "eWkfoi6FF7AG",
        "colab_type": "text"
      },
      "source": [
        "We can see that features like Age, DiabetesPedigree, SerumInsulin and BMI seem to be skewed to the right.<br>\n",
        "This is due to a lot of smaller values and a progressive distribution of fewer large values.<br>\n",
        "Let's make the distribution better by using the log of the values, rather than actual values in these features.<br>\n",
        "This is a part of the  feature-engineering process in Machine Learning"
      ]
    },
    {
      "cell_type": "code",
      "metadata": {
        "id": "B1uy0emlF5kY",
        "colab_type": "code",
        "outputId": "4ba75819-9d1b-42cf-a69b-3710d7a004ce",
        "colab": {
          "base_uri": "https://localhost:8080/",
          "height": 84
        }
      },
      "source": [
        "for i in diabetes_df.columns:\n",
        "    if i in ['Age', 'DiabetesPedigree', 'BMI', 'SerumInsulin']:\n",
        "        print(i)\n",
        "        diabetes_df[i] = diabetes_df[i].apply(np.log)\n"
      ],
      "execution_count": 6,
      "outputs": [
        {
          "output_type": "stream",
          "text": [
            "SerumInsulin\n",
            "BMI\n",
            "DiabetesPedigree\n",
            "Age\n"
          ],
          "name": "stdout"
        }
      ]
    },
    {
      "cell_type": "markdown",
      "metadata": {
        "id": "7wgOV2tyLJjQ",
        "colab_type": "text"
      },
      "source": [
        "Let's view the distribution again"
      ]
    },
    {
      "cell_type": "code",
      "metadata": {
        "id": "t4bVNsQRJjEz",
        "colab_type": "code",
        "outputId": "00a828ea-5770-4e0d-99e2-47d8314a1c13",
        "colab": {
          "base_uri": "https://localhost:8080/",
          "height": 665
        }
      },
      "source": [
        "plot_features(diabetes_df)"
      ],
      "execution_count": 7,
      "outputs": [
        {
          "output_type": "display_data",
          "data": {
            "image/png": "[encoded data removed]",
            "text/plain": [
              "<Figure size 1440x720 with 8 Axes>"
            ]
          },
          "metadata": {
            "tags": []
          }
        }
      ]
    },
    {
      "cell_type": "markdown",
      "metadata": {
        "id": "qYiYg3NkLN3c",
        "colab_type": "text"
      },
      "source": [
        "From the above plots, we can see an improvement to the distribution of our features.<br>\n",
        "This would help us achieve a better result when we train the model"
      ]
    },
    {
      "cell_type": "markdown",
      "metadata": {
        "id": "7vXTDeo5mDGQ",
        "colab_type": "text"
      },
      "source": [
        "Okay so now, let's look at the dataset that contains the names of the doctors treating our respective patients.<br>\n",
        "The raw file is in Github, let's read it to a Dataframe."
      ]
    },
    {
      "cell_type": "code",
      "metadata": {
        "id": "K0J90XTBs0JW",
        "colab_type": "code",
        "outputId": "3f40ec51-f6cf-4e82-af8a-6792a2285ebf",
        "colab": {
          "base_uri": "https://localhost:8080/",
          "height": 195
        }
      },
      "source": [
        "doctors_link = 'https://raw.githubusercontent.com/Blackman9t/Machine_Learning/master/doctors.csv'\n",
        "\n",
        "doctors_df = pd.read_csv(doctors_link, encoding='latin-1')\n",
        "# Note the above code line throws a UnicodeDecodeError except we encode the string in latin-1 as shown above.\n",
        "\n",
        "doctors_df.head()"
      ],
      "execution_count": 8,
      "outputs": [
        {
          "output_type": "execute_result",
          "data": {
            "text/html": [
              "<div>\n",
              "<style scoped>\n",
              "    .dataframe tbody tr th:only-of-type {\n",
              "        vertical-align: middle;\n",
              "    }\n",
              "\n",
              "    .dataframe tbody tr th {\n",
              "        vertical-align: top;\n",
              "    }\n",
              "\n",
              "    .dataframe thead th {\n",
              "        text-align: right;\n",
              "    }\n",
              "</style>\n",
              "<table border=\"1\" class=\"dataframe\">\n",
              "  <thead>\n",
              "    <tr style=\"text-align: right;\">\n",
              "      <th></th>\n",
              "      <th>PatientID</th>\n",
              "      <th>Physician</th>\n",
              "    </tr>\n",
              "  </thead>\n",
              "  <tbody>\n",
              "    <tr>\n",
              "      <th>0</th>\n",
              "      <td>1000038</td>\n",
              "      <td>Jeanne Vestergaard</td>\n",
              "    </tr>\n",
              "    <tr>\n",
              "      <th>1</th>\n",
              "      <td>1000069</td>\n",
              "      <td>Sheldon Comeaux</td>\n",
              "    </tr>\n",
              "    <tr>\n",
              "      <th>2</th>\n",
              "      <td>1000118</td>\n",
              "      <td>Brain Dulaney</td>\n",
              "    </tr>\n",
              "    <tr>\n",
              "      <th>3</th>\n",
              "      <td>1000183</td>\n",
              "      <td>Alaine Poisson</td>\n",
              "    </tr>\n",
              "    <tr>\n",
              "      <th>4</th>\n",
              "      <td>1000326</td>\n",
              "      <td>Erik Collado</td>\n",
              "    </tr>\n",
              "  </tbody>\n",
              "</table>\n",
              "</div>"
            ],
            "text/plain": [
              "   PatientID           Physician\n",
              "0    1000038  Jeanne Vestergaard\n",
              "1    1000069     Sheldon Comeaux\n",
              "2    1000118       Brain Dulaney\n",
              "3    1000183      Alaine Poisson\n",
              "4    1000326        Erik Collado"
            ]
          },
          "metadata": {
            "tags": []
          },
          "execution_count": 8
        }
      ]
    },
    {
      "cell_type": "code",
      "metadata": {
        "id": "RG01OWeTs_rr",
        "colab_type": "code",
        "outputId": "8dbb8be4-9e12-456f-e50f-81cf64aa2938",
        "colab": {
          "base_uri": "https://localhost:8080/",
          "height": 34
        }
      },
      "source": [
        "doctors_df.shape"
      ],
      "execution_count": 9,
      "outputs": [
        {
          "output_type": "execute_result",
          "data": {
            "text/plain": [
              "(14895, 2)"
            ]
          },
          "metadata": {
            "tags": []
          },
          "execution_count": 9
        }
      ]
    },
    {
      "cell_type": "code",
      "metadata": {
        "id": "_SlFJ3NsoHX-",
        "colab_type": "code",
        "colab": {
          "base_uri": "https://localhost:8080/",
          "height": 67
        },
        "outputId": "10e86c4a-acdb-4477-ab1f-78d47ba2ecfd"
      },
      "source": [
        "doctors_df.isna().sum()"
      ],
      "execution_count": 11,
      "outputs": [
        {
          "output_type": "execute_result",
          "data": {
            "text/plain": [
              "PatientID    0\n",
              "Physician    0\n",
              "dtype: int64"
            ]
          },
          "metadata": {
            "tags": []
          },
          "execution_count": 11
        }
      ]
    },
    {
      "cell_type": "markdown",
      "metadata": {
        "id": "jPIhFJE-pU7C",
        "colab_type": "text"
      },
      "source": [
        "So we can see that the Doctor data is slightly smaller than the patients dataset.<br>\n",
        "This may be due to the fact that a few doctors saw more than one patient.<br>\n",
        "Let's left-join the diabetes_df and doctors_df data frames using the PatientID as the join key.<br>\n",
        "Left-join here is important so that we keep data for patients who may not have doctors names too."
      ]
    },
    {
      "cell_type": "code",
      "metadata": {
        "id": "lw7IvlJCpNxu",
        "colab_type": "code",
        "outputId": "4ef9bded-2db2-4fb0-ac72-2d143bf9ace8",
        "colab": {
          "base_uri": "https://localhost:8080/",
          "height": 195
        }
      },
      "source": [
        "diabetes_doctor_df = pd.merge(diabetes_df, doctors_df, how='left', on='PatientID' )\n",
        "\n",
        "diabetes_doctor_df.head()"
      ],
      "execution_count": 12,
      "outputs": [
        {
          "output_type": "execute_result",
          "data": {
            "text/html": [
              "<div>\n",
              "<style scoped>\n",
              "    .dataframe tbody tr th:only-of-type {\n",
              "        vertical-align: middle;\n",
              "    }\n",
              "\n",
              "    .dataframe tbody tr th {\n",
              "        vertical-align: top;\n",
              "    }\n",
              "\n",
              "    .dataframe thead th {\n",
              "        text-align: right;\n",
              "    }\n",
              "</style>\n",
              "<table border=\"1\" class=\"dataframe\">\n",
              "  <thead>\n",
              "    <tr style=\"text-align: right;\">\n",
              "      <th></th>\n",
              "      <th>PatientID</th>\n",
              "      <th>Pregnancies</th>\n",
              "      <th>PlasmaGlucose</th>\n",
              "      <th>DiastolicBloodPressure</th>\n",
              "      <th>TricepsThickness</th>\n",
              "      <th>SerumInsulin</th>\n",
              "      <th>BMI</th>\n",
              "      <th>DiabetesPedigree</th>\n",
              "      <th>Age</th>\n",
              "      <th>Diabetic</th>\n",
              "      <th>Physician</th>\n",
              "    </tr>\n",
              "  </thead>\n",
              "  <tbody>\n",
              "    <tr>\n",
              "      <th>0</th>\n",
              "      <td>1354778</td>\n",
              "      <td>0</td>\n",
              "      <td>171</td>\n",
              "      <td>80</td>\n",
              "      <td>34</td>\n",
              "      <td>3.135494</td>\n",
              "      <td>3.772984</td>\n",
              "      <td>0.193254</td>\n",
              "      <td>3.044522</td>\n",
              "      <td>0</td>\n",
              "      <td>Dan Drayton</td>\n",
              "    </tr>\n",
              "    <tr>\n",
              "      <th>1</th>\n",
              "      <td>1147438</td>\n",
              "      <td>8</td>\n",
              "      <td>92</td>\n",
              "      <td>93</td>\n",
              "      <td>47</td>\n",
              "      <td>3.583519</td>\n",
              "      <td>3.055913</td>\n",
              "      <td>-1.842853</td>\n",
              "      <td>3.135494</td>\n",
              "      <td>0</td>\n",
              "      <td>Anthony Frizzell</td>\n",
              "    </tr>\n",
              "    <tr>\n",
              "      <th>2</th>\n",
              "      <td>1640031</td>\n",
              "      <td>7</td>\n",
              "      <td>115</td>\n",
              "      <td>47</td>\n",
              "      <td>52</td>\n",
              "      <td>3.555348</td>\n",
              "      <td>3.725971</td>\n",
              "      <td>-2.538072</td>\n",
              "      <td>3.135494</td>\n",
              "      <td>0</td>\n",
              "      <td>Gordon Fredrickson</td>\n",
              "    </tr>\n",
              "    <tr>\n",
              "      <th>3</th>\n",
              "      <td>1883350</td>\n",
              "      <td>9</td>\n",
              "      <td>103</td>\n",
              "      <td>78</td>\n",
              "      <td>25</td>\n",
              "      <td>5.717028</td>\n",
              "      <td>3.387173</td>\n",
              "      <td>0.249100</td>\n",
              "      <td>3.761200</td>\n",
              "      <td>1</td>\n",
              "      <td>Chad Corbitt</td>\n",
              "    </tr>\n",
              "    <tr>\n",
              "      <th>4</th>\n",
              "      <td>1424119</td>\n",
              "      <td>1</td>\n",
              "      <td>85</td>\n",
              "      <td>59</td>\n",
              "      <td>27</td>\n",
              "      <td>3.555348</td>\n",
              "      <td>3.751961</td>\n",
              "      <td>-0.598670</td>\n",
              "      <td>3.091042</td>\n",
              "      <td>0</td>\n",
              "      <td>Zachary Fellows</td>\n",
              "    </tr>\n",
              "  </tbody>\n",
              "</table>\n",
              "</div>"
            ],
            "text/plain": [
              "   PatientID  Pregnancies  ...  Diabetic           Physician\n",
              "0    1354778            0  ...         0         Dan Drayton\n",
              "1    1147438            8  ...         0    Anthony Frizzell\n",
              "2    1640031            7  ...         0  Gordon Fredrickson\n",
              "3    1883350            9  ...         1        Chad Corbitt\n",
              "4    1424119            1  ...         0     Zachary Fellows\n",
              "\n",
              "[5 rows x 11 columns]"
            ]
          },
          "metadata": {
            "tags": []
          },
          "execution_count": 12
        }
      ]
    },
    {
      "cell_type": "markdown",
      "metadata": {
        "id": "vKUdBM_wtMlE",
        "colab_type": "text"
      },
      "source": [
        "Now we can see the doctors column appended and can tell which doctor treated a patient.<br>\n",
        "Let's view the shape and also check the number and columns with null values"
      ]
    },
    {
      "cell_type": "code",
      "metadata": {
        "id": "DZoyhLr5tnCh",
        "colab_type": "code",
        "outputId": "d8628be0-5738-421f-e548-d433c4330b27",
        "colab": {
          "base_uri": "https://localhost:8080/",
          "height": 34
        }
      },
      "source": [
        "diabetes_doctor_df.shape"
      ],
      "execution_count": 13,
      "outputs": [
        {
          "output_type": "execute_result",
          "data": {
            "text/plain": [
              "(15000, 11)"
            ]
          },
          "metadata": {
            "tags": []
          },
          "execution_count": 13
        }
      ]
    },
    {
      "cell_type": "code",
      "metadata": {
        "id": "WVrVwD_nt0DE",
        "colab_type": "code",
        "colab": {
          "base_uri": "https://localhost:8080/",
          "height": 218
        },
        "outputId": "559de49e-1bb7-455f-e610-cfc49e8c520d"
      },
      "source": [
        "diabetes_doctor_df.isna().sum()"
      ],
      "execution_count": 20,
      "outputs": [
        {
          "output_type": "execute_result",
          "data": {
            "text/plain": [
              "PatientID                 0\n",
              "Pregnancies               0\n",
              "PlasmaGlucose             0\n",
              "DiastolicBloodPressure    0\n",
              "TricepsThickness          0\n",
              "SerumInsulin              0\n",
              "BMI                       0\n",
              "DiabetesPedigree          0\n",
              "Age                       0\n",
              "Diabetic                  0\n",
              "Physician                 0\n",
              "dtype: int64"
            ]
          },
          "metadata": {
            "tags": []
          },
          "execution_count": 20
        }
      ]
    },
    {
      "cell_type": "markdown",
      "metadata": {
        "id": "Ts9Qxqcft5Jd",
        "colab_type": "text"
      },
      "source": [
        "We can see no missing values, reason could very well be that some doctors treated multiple patients."
      ]
    },
    {
      "cell_type": "markdown",
      "metadata": {
        "id": "QZUqsBVhtiCp",
        "colab_type": "text"
      },
      "source": [
        "Let's check the number of unique doctors in the doctor list"
      ]
    },
    {
      "cell_type": "code",
      "metadata": {
        "id": "lX_Pxqw2tHL8",
        "colab_type": "code",
        "colab": {
          "base_uri": "https://localhost:8080/",
          "height": 34
        },
        "outputId": "61d44ac4-82a3-4f0d-a619-7271af020b52"
      },
      "source": [
        "diabetes_doctor_df.Physician.nunique()\n",
        "\n",
        "# We can see that there are 109 doctors who treated these 15000 patients"
      ],
      "execution_count": 19,
      "outputs": [
        {
          "output_type": "execute_result",
          "data": {
            "text/plain": [
              "109"
            ]
          },
          "metadata": {
            "tags": []
          },
          "execution_count": 19
        }
      ]
    },
    {
      "cell_type": "markdown",
      "metadata": {
        "id": "xscYfjYC0LsS",
        "colab_type": "text"
      },
      "source": [
        "Let's also check the number of unique patients in the dataset"
      ]
    },
    {
      "cell_type": "code",
      "metadata": {
        "id": "k_5RIFmWz78a",
        "colab_type": "code",
        "colab": {
          "base_uri": "https://localhost:8080/",
          "height": 34
        },
        "outputId": "57ffd725-c977-4bab-acdb-a3611857066c"
      },
      "source": [
        "diabetes_doctor_df.PatientID.nunique()"
      ],
      "execution_count": 21,
      "outputs": [
        {
          "output_type": "execute_result",
          "data": {
            "text/plain": [
              "14895"
            ]
          },
          "metadata": {
            "tags": []
          },
          "execution_count": 21
        }
      ]
    },
    {
      "cell_type": "markdown",
      "metadata": {
        "id": "VtylrfUE0ZEB",
        "colab_type": "text"
      },
      "source": [
        "It now makes sense,<br>\n",
        "There are 14895 unique patients and the doctors records have entries for exactly 14895 patients.<br>\n",
        "The fact that the patients data set has 15000 entries is simply because some patients had multiple entries.<br>\n",
        "Since we merged the doctors and patients on the PatientID column, the merger rightly assigns each doctor to the patients they treated, even though we have only 109 unique doctors."
      ]
    },
    {
      "cell_type": "markdown",
      "metadata": {
        "id": "sUtG2XtXtpod",
        "colab_type": "text"
      },
      "source": [
        ""
      ]
    },
    {
      "cell_type": "code",
      "metadata": {
        "id": "LQ3LCTeHujMP",
        "colab_type": "code",
        "outputId": "59ae3f52-3840-472f-b73b-0a77b13628b3",
        "colab": {
          "base_uri": "https://localhost:8080/",
          "height": 218
        }
      },
      "source": [
        "diabetes_doctor_df.isna().sum()"
      ],
      "execution_count": 0,
      "outputs": [
        {
          "output_type": "execute_result",
          "data": {
            "text/plain": [
              "PatientID                 0\n",
              "Pregnancies               0\n",
              "PlasmaGlucose             0\n",
              "DiastolicBloodPressure    0\n",
              "TricepsThickness          0\n",
              "SerumInsulin              0\n",
              "BMI                       0\n",
              "DiabetesPedigree          0\n",
              "Age                       0\n",
              "Diabetic                  0\n",
              "Physician                 0\n",
              "dtype: int64"
            ]
          },
          "metadata": {
            "tags": []
          },
          "execution_count": 52
        }
      ]
    },
    {
      "cell_type": "markdown",
      "metadata": {
        "id": "DqesEjlvwu7o",
        "colab_type": "text"
      },
      "source": [
        "### Preparing The Data"
      ]
    },
    {
      "cell_type": "markdown",
      "metadata": {
        "id": "fcBhfmN8w6Bf",
        "colab_type": "text"
      },
      "source": [
        "As is often the case with machine learning of any kind, some data preparation is required before you can\n",
        "use the data to train a model.<br>\n",
        "We shall normalize the features so that features that have large values do not dominate the training.<br>\n",
        "Looking at the shapes of the distribution of each feature, those with a roughly normal distribution bell-shape will be normalized using the Zscore method.<br>\n",
        "While those with varying large and low values will be normalized using the Min-Max method."
      ]
    },
    {
      "cell_type": "markdown",
      "metadata": {
        "id": "LRNm0Ccq3YKH",
        "colab_type": "text"
      },
      "source": [
        "**1. Z-Score or Standard Score**_  \n",
        "_For each value here, we subtract the average or mean..._  \n",
        "_And then divide by the Standard deviation._  \n",
        "_This gives a range between minus 3 and 3, but can be more or less_  \n",
        "\n",
        "$Xnew =$ $Xold - mean \\over STD(sigma)$"
      ]
    },
    {
      "cell_type": "markdown",
      "metadata": {
        "id": "bSw1UjuF3gEq",
        "colab_type": "text"
      },
      "source": [
        "_**2. Min-Max Method**_  \n",
        "_This method takes each value and subtracts the min and then divides by the range(max - min)..._  \n",
        "_The resultant values range between zero(0) and one(1)_\n",
        "\n",
        "$Xnew =$ $Xold - Xmin \\over Xmax - Xmin$"
      ]
    },
    {
      "cell_type": "markdown",
      "metadata": {
        "id": "aMfJe09V3a7e",
        "colab_type": "text"
      },
      "source": [
        ""
      ]
    },
    {
      "cell_type": "markdown",
      "metadata": {
        "id": "kokc-lzf4Lj2",
        "colab_type": "text"
      },
      "source": [
        "Now let's apply these methods to the selected columns using the apply method."
      ]
    },
    {
      "cell_type": "code",
      "metadata": {
        "id": "dH-o3IJ04bDf",
        "colab_type": "code",
        "colab": {}
      },
      "source": [
        "for i in diabetes_doctor_df.columns[:-2]:\n",
        "    mean = diabetes_doctor_df[i].mean()\n",
        "    std = diabetes_doctor_df[i].std()\n",
        "    mini = diabetes_doctor_df[i].min()\n",
        "    maxi = diabetes_doctor_df[i].max()\n",
        "    \n",
        "    # if columns are not Age or Pregnancies, apply the Z_score norm method\n",
        "    if i not in ['Age', 'Pregnancies']:\n",
        "        diabetes_doctor_df[i] = diabetes_doctor_df[i].apply(lambda x: (x - mean) / std)\n",
        "    \n",
        "    # Else if columns are either Age or Pregnancies, then apply the Min-Max norm method\n",
        "    else:\n",
        "        diabetes_doctor_df[i] = diabetes_doctor_df[i].apply(lambda x: (x - mini) / (maxi - mini))\n",
        "    "
      ],
      "execution_count": 0,
      "outputs": []
    },
    {
      "cell_type": "code",
      "metadata": {
        "id": "bYPtSab0OWPf",
        "colab_type": "code",
        "outputId": "a026ac3f-2420-4aa8-d17e-6264a1b7c9f1",
        "colab": {
          "base_uri": "https://localhost:8080/",
          "height": 195
        }
      },
      "source": [
        "diabetes_doctor_df.head()"
      ],
      "execution_count": 0,
      "outputs": [
        {
          "output_type": "execute_result",
          "data": {
            "text/html": [
              "<div>\n",
              "<style scoped>\n",
              "    .dataframe tbody tr th:only-of-type {\n",
              "        vertical-align: middle;\n",
              "    }\n",
              "\n",
              "    .dataframe tbody tr th {\n",
              "        vertical-align: top;\n",
              "    }\n",
              "\n",
              "    .dataframe thead th {\n",
              "        text-align: right;\n",
              "    }\n",
              "</style>\n",
              "<table border=\"1\" class=\"dataframe\">\n",
              "  <thead>\n",
              "    <tr style=\"text-align: right;\">\n",
              "      <th></th>\n",
              "      <th>PatientID</th>\n",
              "      <th>Pregnancies</th>\n",
              "      <th>PlasmaGlucose</th>\n",
              "      <th>DiastolicBloodPressure</th>\n",
              "      <th>TricepsThickness</th>\n",
              "      <th>SerumInsulin</th>\n",
              "      <th>BMI</th>\n",
              "      <th>DiabetesPedigree</th>\n",
              "      <th>Age</th>\n",
              "      <th>Diabetic</th>\n",
              "      <th>Physician</th>\n",
              "    </tr>\n",
              "  </thead>\n",
              "  <tbody>\n",
              "    <tr>\n",
              "      <th>0</th>\n",
              "      <td>-0.512160</td>\n",
              "      <td>0.000000</td>\n",
              "      <td>1.974335</td>\n",
              "      <td>0.523867</td>\n",
              "      <td>0.356286</td>\n",
              "      <td>-1.364665</td>\n",
              "      <td>1.165284</td>\n",
              "      <td>1.755479</td>\n",
              "      <td>0.000000</td>\n",
              "      <td>0</td>\n",
              "      <td>Dan Drayton</td>\n",
              "    </tr>\n",
              "    <tr>\n",
              "      <th>1</th>\n",
              "      <td>-1.228971</td>\n",
              "      <td>0.571429</td>\n",
              "      <td>-0.495806</td>\n",
              "      <td>1.299582</td>\n",
              "      <td>1.249406</td>\n",
              "      <td>-0.908607</td>\n",
              "      <td>-1.076800</td>\n",
              "      <td>-0.637939</td>\n",
              "      <td>0.070017</td>\n",
              "      <td>0</td>\n",
              "      <td>Anthony Frizzell</td>\n",
              "    </tr>\n",
              "    <tr>\n",
              "      <th>2</th>\n",
              "      <td>0.474010</td>\n",
              "      <td>0.500000</td>\n",
              "      <td>0.223349</td>\n",
              "      <td>-1.445258</td>\n",
              "      <td>1.592914</td>\n",
              "      <td>-0.937283</td>\n",
              "      <td>1.018286</td>\n",
              "      <td>-1.455161</td>\n",
              "      <td>0.070017</td>\n",
              "      <td>0</td>\n",
              "      <td>Gordon Fredrickson</td>\n",
              "    </tr>\n",
              "    <tr>\n",
              "      <th>3</th>\n",
              "      <td>1.315206</td>\n",
              "      <td>0.642857</td>\n",
              "      <td>-0.151863</td>\n",
              "      <td>0.404526</td>\n",
              "      <td>-0.262028</td>\n",
              "      <td>1.263156</td>\n",
              "      <td>-0.041044</td>\n",
              "      <td>1.821124</td>\n",
              "      <td>0.551595</td>\n",
              "      <td>1</td>\n",
              "      <td>Chad Corbitt</td>\n",
              "    </tr>\n",
              "    <tr>\n",
              "      <th>4</th>\n",
              "      <td>-0.272436</td>\n",
              "      <td>0.071429</td>\n",
              "      <td>-0.714680</td>\n",
              "      <td>-0.729213</td>\n",
              "      <td>-0.124625</td>\n",
              "      <td>-0.937283</td>\n",
              "      <td>1.099549</td>\n",
              "      <td>0.824581</td>\n",
              "      <td>0.035804</td>\n",
              "      <td>0</td>\n",
              "      <td>Zachary Fellows</td>\n",
              "    </tr>\n",
              "  </tbody>\n",
              "</table>\n",
              "</div>"
            ],
            "text/plain": [
              "   PatientID  Pregnancies  ...  Diabetic           Physician\n",
              "0  -0.512160     0.000000  ...         0         Dan Drayton\n",
              "1  -1.228971     0.571429  ...         0    Anthony Frizzell\n",
              "2   0.474010     0.500000  ...         0  Gordon Fredrickson\n",
              "3   1.315206     0.642857  ...         1        Chad Corbitt\n",
              "4  -0.272436     0.071429  ...         0     Zachary Fellows\n",
              "\n",
              "[5 rows x 11 columns]"
            ]
          },
          "metadata": {
            "tags": []
          },
          "execution_count": 54
        }
      ]
    },
    {
      "cell_type": "markdown",
      "metadata": {
        "id": "glrVj-wWQ9Wk",
        "colab_type": "text"
      },
      "source": [
        "Now that we have prepared the data set, we will use it to train and evaluate a classifier machine\n",
        "learning model. Typically, when training a supervised learning model, in which the training data includes\n",
        "known label values, we split the data into a training set with which to train the model, and a test set\n",
        "with which to validate predictions generated by the trained model."
      ]
    },
    {
      "cell_type": "markdown",
      "metadata": {
        "id": "3SXwGGcBEJl8",
        "colab_type": "text"
      },
      "source": [
        "Before we go any furteher, let's check the number of observations each class of Diabetics or Non-Diabetics has<br>"
      ]
    },
    {
      "cell_type": "code",
      "metadata": {
        "id": "3TTEkwcmD48w",
        "colab_type": "code",
        "outputId": "c28f522d-254a-4ad0-daa4-09ee755dcfe4",
        "colab": {
          "base_uri": "https://localhost:8080/",
          "height": 67
        }
      },
      "source": [
        "diabetes_doctor_df.Diabetic.value_counts()"
      ],
      "execution_count": 0,
      "outputs": [
        {
          "output_type": "execute_result",
          "data": {
            "text/plain": [
              "0    10000\n",
              "1     5000\n",
              "Name: Diabetic, dtype: int64"
            ]
          },
          "metadata": {
            "tags": []
          },
          "execution_count": 55
        }
      ]
    },
    {
      "cell_type": "markdown",
      "metadata": {
        "id": "2nkD1PnqFMTz",
        "colab_type": "text"
      },
      "source": [
        "Let's visualize this distribution"
      ]
    },
    {
      "cell_type": "code",
      "metadata": {
        "id": "u-xqbIxEFKI_",
        "colab_type": "code",
        "outputId": "6dbca609-159b-4e6d-a2d2-da3d720782e1",
        "colab": {
          "base_uri": "https://localhost:8080/",
          "height": 523
        }
      },
      "source": [
        "plt.figure(figsize=(8, 8))\n",
        "\n",
        "x = diabetes_doctor_df.Diabetic.replace(to_replace=[0, 1], value=['Non-Diabetics','Diabetics'])\n",
        "sns.countplot(x)\n",
        "plt.title('Count of Diabetics and Non-Diabetics')\n",
        "plt.show()"
      ],
      "execution_count": 0,
      "outputs": [
        {
          "output_type": "display_data",
          "data": {
            "image/png": "[encoded data removed]",
            "text/plain": [
              "<Figure size 576x576 with 1 Axes>"
            ]
          },
          "metadata": {
            "tags": []
          }
        }
      ]
    },
    {
      "cell_type": "markdown",
      "metadata": {
        "id": "G6V6WZsYEfBN",
        "colab_type": "text"
      },
      "source": [
        "We can see that out of the 15,000 observations in our dataset, the Non-Diabetic class has 10,000 entries, while Diabetic class has only 5,000 entries.<br>\n",
        "This is an imbalanced Dataset and the risk involved is that our Model may learn one class features more than the other.<br>\n",
        "We need to find a way to balance the Dataset for a more unbiased and reliable classification"
      ]
    },
    {
      "cell_type": "markdown",
      "metadata": {
        "id": "6AJqd9wDTnjP",
        "colab_type": "text"
      },
      "source": [
        "To prove the point, let's go ahead to use this imbalanced data set to train a model and make predictions.<br>\n",
        "Then we would balance the data set and train a new model and see the difference."
      ]
    },
    {
      "cell_type": "markdown",
      "metadata": {
        "id": "8f6vQ7rDTjTx",
        "colab_type": "text"
      },
      "source": [
        "Before we do the split, let's select only columns that matter by deselecting PatientID and Physician columns"
      ]
    },
    {
      "cell_type": "code",
      "metadata": {
        "id": "Sbh6IhSqQ8IH",
        "colab_type": "code",
        "outputId": "2c3580fc-569f-4257-9cfc-cb4d8265c219",
        "colab": {
          "base_uri": "https://localhost:8080/",
          "height": 195
        }
      },
      "source": [
        "feature_matrix = diabetes_doctor_df.iloc[:,1:-2]\n",
        "feature_matrix.head()"
      ],
      "execution_count": 0,
      "outputs": [
        {
          "output_type": "execute_result",
          "data": {
            "text/html": [
              "<div>\n",
              "<style scoped>\n",
              "    .dataframe tbody tr th:only-of-type {\n",
              "        vertical-align: middle;\n",
              "    }\n",
              "\n",
              "    .dataframe tbody tr th {\n",
              "        vertical-align: top;\n",
              "    }\n",
              "\n",
              "    .dataframe thead th {\n",
              "        text-align: right;\n",
              "    }\n",
              "</style>\n",
              "<table border=\"1\" class=\"dataframe\">\n",
              "  <thead>\n",
              "    <tr style=\"text-align: right;\">\n",
              "      <th></th>\n",
              "      <th>Pregnancies</th>\n",
              "      <th>PlasmaGlucose</th>\n",
              "      <th>DiastolicBloodPressure</th>\n",
              "      <th>TricepsThickness</th>\n",
              "      <th>SerumInsulin</th>\n",
              "      <th>BMI</th>\n",
              "      <th>DiabetesPedigree</th>\n",
              "      <th>Age</th>\n",
              "    </tr>\n",
              "  </thead>\n",
              "  <tbody>\n",
              "    <tr>\n",
              "      <th>0</th>\n",
              "      <td>0.000000</td>\n",
              "      <td>1.974335</td>\n",
              "      <td>0.523867</td>\n",
              "      <td>0.356286</td>\n",
              "      <td>-1.364665</td>\n",
              "      <td>1.165284</td>\n",
              "      <td>1.755479</td>\n",
              "      <td>0.000000</td>\n",
              "    </tr>\n",
              "    <tr>\n",
              "      <th>1</th>\n",
              "      <td>0.571429</td>\n",
              "      <td>-0.495806</td>\n",
              "      <td>1.299582</td>\n",
              "      <td>1.249406</td>\n",
              "      <td>-0.908607</td>\n",
              "      <td>-1.076800</td>\n",
              "      <td>-0.637939</td>\n",
              "      <td>0.070017</td>\n",
              "    </tr>\n",
              "    <tr>\n",
              "      <th>2</th>\n",
              "      <td>0.500000</td>\n",
              "      <td>0.223349</td>\n",
              "      <td>-1.445258</td>\n",
              "      <td>1.592914</td>\n",
              "      <td>-0.937283</td>\n",
              "      <td>1.018286</td>\n",
              "      <td>-1.455161</td>\n",
              "      <td>0.070017</td>\n",
              "    </tr>\n",
              "    <tr>\n",
              "      <th>3</th>\n",
              "      <td>0.642857</td>\n",
              "      <td>-0.151863</td>\n",
              "      <td>0.404526</td>\n",
              "      <td>-0.262028</td>\n",
              "      <td>1.263156</td>\n",
              "      <td>-0.041044</td>\n",
              "      <td>1.821124</td>\n",
              "      <td>0.551595</td>\n",
              "    </tr>\n",
              "    <tr>\n",
              "      <th>4</th>\n",
              "      <td>0.071429</td>\n",
              "      <td>-0.714680</td>\n",
              "      <td>-0.729213</td>\n",
              "      <td>-0.124625</td>\n",
              "      <td>-0.937283</td>\n",
              "      <td>1.099549</td>\n",
              "      <td>0.824581</td>\n",
              "      <td>0.035804</td>\n",
              "    </tr>\n",
              "  </tbody>\n",
              "</table>\n",
              "</div>"
            ],
            "text/plain": [
              "   Pregnancies  PlasmaGlucose  ...  DiabetesPedigree       Age\n",
              "0     0.000000       1.974335  ...          1.755479  0.000000\n",
              "1     0.571429      -0.495806  ...         -0.637939  0.070017\n",
              "2     0.500000       0.223349  ...         -1.455161  0.070017\n",
              "3     0.642857      -0.151863  ...          1.821124  0.551595\n",
              "4     0.071429      -0.714680  ...          0.824581  0.035804\n",
              "\n",
              "[5 rows x 8 columns]"
            ]
          },
          "metadata": {
            "tags": []
          },
          "execution_count": 57
        }
      ]
    },
    {
      "cell_type": "markdown",
      "metadata": {
        "id": "kAOjoX3rluz6",
        "colab_type": "text"
      },
      "source": [
        "let's also define our label variable "
      ]
    },
    {
      "cell_type": "code",
      "metadata": {
        "id": "ghv9W1Spl6hn",
        "colab_type": "code",
        "outputId": "82507a6c-bbcb-4db6-a8e2-46df692c97a3",
        "colab": {
          "base_uri": "https://localhost:8080/",
          "height": 118
        }
      },
      "source": [
        "label = diabetes_doctor_df.Diabetic\n",
        "\n",
        "label.head()"
      ],
      "execution_count": 0,
      "outputs": [
        {
          "output_type": "execute_result",
          "data": {
            "text/plain": [
              "0    0\n",
              "1    0\n",
              "2    0\n",
              "3    1\n",
              "4    0\n",
              "Name: Diabetic, dtype: int64"
            ]
          },
          "metadata": {
            "tags": []
          },
          "execution_count": 58
        }
      ]
    },
    {
      "cell_type": "code",
      "metadata": {
        "id": "lbi9YdKRTzjO",
        "colab_type": "code",
        "outputId": "4f1f764a-26d6-472d-fc77-352c0d7b346f",
        "colab": {
          "base_uri": "https://localhost:8080/",
          "height": 34
        }
      },
      "source": [
        "feature_matrix.shape"
      ],
      "execution_count": 0,
      "outputs": [
        {
          "output_type": "execute_result",
          "data": {
            "text/plain": [
              "(15000, 8)"
            ]
          },
          "metadata": {
            "tags": []
          },
          "execution_count": 59
        }
      ]
    },
    {
      "cell_type": "code",
      "metadata": {
        "id": "0C42ux8TUKDG",
        "colab_type": "code",
        "outputId": "cae2d08e-d710-4006-e409-431e84e15d3a",
        "colab": {
          "base_uri": "https://localhost:8080/",
          "height": 84
        }
      },
      "source": [
        "from sklearn.model_selection import train_test_split\n",
        "\n",
        "X_train, X_test, y_train, y_test = train_test_split(feature_matrix, label, test_size=0.3, random_state=1234)\n",
        "\n",
        "print('X_train shape is',X_train.shape)\n",
        "print('X_test shape is',X_test.shape)\n",
        "print('y_train shape is',y_train.shape)\n",
        "print('y_test shape is',y_test.shape)"
      ],
      "execution_count": 0,
      "outputs": [
        {
          "output_type": "stream",
          "text": [
            "X_train shape is (10500, 8)\n",
            "X_test shape is (4500, 8)\n",
            "y_train shape is (10500,)\n",
            "y_test shape is (4500,)\n"
          ],
          "name": "stdout"
        }
      ]
    },
    {
      "cell_type": "markdown",
      "metadata": {
        "id": "z1DZRrpgm-O1",
        "colab_type": "text"
      },
      "source": [
        "Let's build the Decision Tree Classifier"
      ]
    },
    {
      "cell_type": "code",
      "metadata": {
        "id": "Wt-xORLlpYHv",
        "colab_type": "code",
        "colab": {}
      },
      "source": [
        "from sklearn.tree import DecisionTreeClassifier\n",
        "from sklearn import metrics\n",
        "from sklearn.metrics import f1_score\n",
        "from sklearn.metrics import confusion_matrix\n",
        "from sklearn.metrics import log_loss"
      ],
      "execution_count": 0,
      "outputs": []
    },
    {
      "cell_type": "markdown",
      "metadata": {
        "id": "CoGU06nCqMGw",
        "colab_type": "text"
      },
      "source": [
        "Let's define a function that plots the Confusion-Matrix"
      ]
    },
    {
      "cell_type": "code",
      "metadata": {
        "id": "D_i2i663qSyn",
        "colab_type": "code",
        "colab": {}
      },
      "source": [
        "from sklearn.metrics import classification_report\n",
        "\n",
        "\n",
        "def plot_confusion_matrix(cm, classes,\n",
        "                          normalize=False,\n",
        "                          title='Confusion matrix',\n",
        "                          cmap=plt.cm.Blues):\n",
        "    \"\"\"\n",
        "    This function prints and plots the confusion matrix.\n",
        "    Normalization can be applied by setting `normalize=True`.\n",
        "    \"\"\"\n",
        "    if normalize:\n",
        "        cm = cm.astype('float') / cm.sum(axis=1)[:, np.newaxis]\n",
        "        print(\"Normalized confusion matrix\")\n",
        "    else:\n",
        "        print('Confusion matrix, without normalization')\n",
        "\n",
        "    print(cm)\n",
        "\n",
        "    plt.imshow(cm, interpolation='nearest', cmap=cmap)\n",
        "    plt.title(title)\n",
        "    plt.colorbar()\n",
        "    tick_marks = np.arange(len(classes))\n",
        "    plt.xticks(tick_marks, classes, rotation=45)\n",
        "    plt.yticks(tick_marks, classes)\n",
        "\n",
        "    fmt = '.2f' if normalize else 'd'\n",
        "    thresh = cm.max() / 2.\n",
        "    for i, j in itertools.product(range(cm.shape[0]), range(cm.shape[1])):\n",
        "        plt.text(j, i, format(cm[i, j], fmt),\n",
        "                 horizontalalignment=\"center\",\n",
        "                 color=\"white\" if cm[i, j] > thresh else \"black\")\n",
        "\n",
        "    plt.tight_layout()\n",
        "    plt.ylabel('True label')\n",
        "    plt.xlabel('Predicted label')"
      ],
      "execution_count": 0,
      "outputs": []
    },
    {
      "cell_type": "markdown",
      "metadata": {
        "id": "nfP3DcOej1pm",
        "colab_type": "text"
      },
      "source": [
        "Lets define a function that plots the ROC Chart"
      ]
    },
    {
      "cell_type": "code",
      "metadata": {
        "id": "qOKwzx0Ljr2s",
        "colab_type": "code",
        "colab": {}
      },
      "source": [
        "def plot_roc_chart(model):\n",
        "     # calculate the fpr and tpr for all thresholds of the classification\n",
        "    probs = model.predict_proba(X_test)\n",
        "    preds = probs[:,1]\n",
        "    fpr, tpr, threshold = metrics.roc_curve(y_test, preds)\n",
        "    roc_auc = metrics.auc(fpr, tpr)\n",
        "\n",
        "    # method I: plt\n",
        "    plt.figure(figsize=(8,6))\n",
        "    plt.title('Receiver Operating Characteristic')\n",
        "    plt.plot(fpr, tpr, 'b', label = 'AUC = %0.2f' % roc_auc)\n",
        "    plt.legend(loc = 'lower right')\n",
        "    plt.plot([0, 1], [0, 1],'r--')\n",
        "    plt.xlim([0, 1])\n",
        "    plt.ylim([0, 1])\n",
        "    plt.ylabel('True Positive Rate')\n",
        "    plt.xlabel('False Positive Rate')\n",
        "    plt.show()\n",
        "    return probs"
      ],
      "execution_count": 0,
      "outputs": []
    },
    {
      "cell_type": "markdown",
      "metadata": {
        "id": "qSrj-S1Fqc-B",
        "colab_type": "text"
      },
      "source": [
        "Let's define a function that returns the best decison tree classifier model and outputs its parameters and a plot of the confusion matrix"
      ]
    },
    {
      "cell_type": "code",
      "metadata": {
        "id": "bRlK5jEBJ4Ng",
        "colab_type": "code",
        "colab": {}
      },
      "source": [
        "# set max depth range limit for DTree model to iterate through from 1 to 100 to find best parameters\n",
        "\n",
        "\n",
        "def best_decision_tree_classifier(X_train, X_test, y_train, y_test):\n",
        "    max_depth = 100\n",
        "    accuracy_dict={'max_depth':0, 'val_acc':0, 'f1_Score':0, 'log_loss':0}\n",
        "\n",
        "    for i in range(1, max_depth+1):\n",
        "            # Let's instantiate a model\n",
        "            decision_model = DecisionTreeClassifier(criterion='entropy', max_depth = i)\n",
        "\n",
        "            # Let's train the model\n",
        "            decision_model.fit(X_train, y_train)\n",
        "\n",
        "            # Let's make prediction on the test data\n",
        "            y_hat = decision_model.predict(X_test)\n",
        "\n",
        "            # Let's measure accuracy of predictions on test data\n",
        "            val_accu = round(metrics.accuracy_score(y_test, y_hat),4)\n",
        "\n",
        "            # Let's Measure the F1 Score\n",
        "            val_f1 = round(f1_score(y_test, y_hat, average='weighted'),4)\n",
        "\n",
        "            # Let's Measure Logloss\n",
        "            logloss = round(log_loss(y_test, y_hat, normalize=True),4)\n",
        "\n",
        "            if accuracy_dict['val_acc'] < val_accu or accuracy_dict['f1_Score'] < val_f1:\n",
        "                accuracy_dict['max_depth'] = i\n",
        "                accuracy_dict['val_acc'] = val_accu\n",
        "                accuracy_dict['f1_Score'] = val_f1\n",
        "                accuracy_dict['log_loss'] = logloss\n",
        "                decision_model = decision_model\n",
        "                \n",
        "            # Compute confusion matrix\n",
        "            Dtrees_cnf_matrix = confusion_matrix(y_test, y_hat, labels=[1,0])\n",
        "            np.set_printoptions(precision=2)\n",
        "            \n",
        "            TP = Dtrees_cnf_matrix[0,0]\n",
        "            FP = Dtrees_cnf_matrix[0,1]\n",
        "            FN = Dtrees_cnf_matrix[1,0]\n",
        "            TN = Dtrees_cnf_matrix[1,1]\n",
        "            \n",
        "            accuracy = (TP + TN) / (TP + TN + FP + FN)\n",
        "            recall = TP / (TP + FN)\n",
        "            precision = TP / (TP + FP)\n",
        "            \n",
        "    # Plot non-normalized confusion matrix\n",
        "    plt.figure(figsize=(10, 6))\n",
        "    sns.set(font_scale=1.3)\n",
        "    plot_confusion_matrix(Dtrees_cnf_matrix, \n",
        "                          classes=['Default=1','Non-Default=0'],\n",
        "                          normalize= False,  \n",
        "                          title='Confusion Matrix for Decision-Tree-Classifier')\n",
        "    plt.show()\n",
        "    print()\n",
        "\n",
        "    print('TP is:',TP,'FP is:',FP,'TN is:',TN,'FN is:',FN)\n",
        "    print()\n",
        "    print('Model Evaluation:')\n",
        "    print(accuracy_dict)\n",
        "    print()\n",
        "    plot_roc_chart(decision_model)\n",
        "    print()\n",
        "    print('accuracy is:',round(accuracy,2))\n",
        "    print('recall is:',round(recall,2))\n",
        "    print('precision is:',round(precision,2))\n",
        "    print()\n",
        "    \n",
        "    return decision_model"
      ],
      "execution_count": 0,
      "outputs": []
    },
    {
      "cell_type": "code",
      "metadata": {
        "id": "vZzLQQN1hkrC",
        "colab_type": "code",
        "outputId": "f01861f1-a4f6-41d4-b3e0-0f0870ed5e88",
        "colab": {
          "base_uri": "https://localhost:8080/",
          "height": 1000
        }
      },
      "source": [
        "decision_tree_classifier = best_decision_tree_classifier(X_train, X_test, y_train, y_test)\n",
        "decision_tree_classifier"
      ],
      "execution_count": 0,
      "outputs": [
        {
          "output_type": "stream",
          "text": [
            "Confusion matrix, without normalization\n",
            "[[1327  215]\n",
            " [ 240 2718]]\n"
          ],
          "name": "stdout"
        },
        {
          "output_type": "display_data",
          "data": {
            "image/png": "[encoded data removed]",
            "text/plain": [
              "<Figure size 720x432 with 2 Axes>"
            ]
          },
          "metadata": {
            "tags": []
          }
        },
        {
          "output_type": "stream",
          "text": [
            "\n",
            "TP is: 1327 FP is: 215 TN is: 2718 FN is: 240\n",
            "\n",
            "Model Evaluation:\n",
            "{'max_depth': 8, 'val_acc': 0.9091, 'f1_Score': 0.9094, 'log_loss': 3.1392}\n",
            "\n"
          ],
          "name": "stdout"
        },
        {
          "output_type": "display_data",
          "data": {
            "image/png": "[encoded data removed]",
            "text/plain": [
              "<Figure size 576x432 with 1 Axes>"
            ]
          },
          "metadata": {
            "tags": []
          }
        },
        {
          "output_type": "stream",
          "text": [
            "\n",
            "accuracy is: 0.9\n",
            "recall is: 0.85\n",
            "precision is: 0.86\n",
            "\n"
          ],
          "name": "stdout"
        },
        {
          "output_type": "execute_result",
          "data": {
            "text/plain": [
              "DecisionTreeClassifier(class_weight=None, criterion='entropy', max_depth=100,\n",
              "                       max_features=None, max_leaf_nodes=None,\n",
              "                       min_impurity_decrease=0.0, min_impurity_split=None,\n",
              "                       min_samples_leaf=1, min_samples_split=2,\n",
              "                       min_weight_fraction_leaf=0.0, presort=False,\n",
              "                       random_state=None, splitter='best')"
            ]
          },
          "metadata": {
            "tags": []
          },
          "execution_count": 65
        }
      ]
    },
    {
      "cell_type": "markdown",
      "metadata": {
        "id": "D3gG2D7wqgw3",
        "colab_type": "text"
      },
      "source": [
        "##Note"
      ]
    },
    {
      "cell_type": "markdown",
      "metadata": {
        "id": "5e0gNw2ah8rz",
        "colab_type": "text"
      },
      "source": [
        "Notice the following about these metrics:<br>\n",
        "• The Confusion Matrix shows the number of True Positives and True Negatives (cases\n",
        "correctly classified) and False Negatives and False Positives (cases incorrectly classified).<br>\n",
        "• The AUC (Area Under the Curve) is the area under the ROC curve. A perfect classifier\n",
        "would have an AUC of 1.0, indicating no trade-off between True and False Positive Rates.<br>\n",
        "• Accuracy is the fraction of cases correctly classified.<br>\n",
        "• Recall, is the fraction of positive cases correctly classified. <br>\n",
        "• Precision is the fraction of negative cases correctly classified."
      ]
    },
    {
      "cell_type": "markdown",
      "metadata": {
        "id": "pdTXUr1sxvUJ",
        "colab_type": "text"
      },
      "source": [
        "### Let's balance the dataset and train a new model"
      ]
    },
    {
      "cell_type": "markdown",
      "metadata": {
        "id": "KwSdHFGuUZPd",
        "colab_type": "text"
      },
      "source": [
        "We need to balance The Data set because in an imbalanced Data set Accuracy is not a reliable metric for the real performance of a classifier, because it will yield misleading results (that is, when the numbers of observations in different classes vary greatly).<br>\n",
        "For example, 70% non-defaulters and 30% defaulters, a particular classifier might classify all or most of the observations as Non-defaulters.<br> \n",
        "This is due to the classifier or model having a high recognition rate (sensitivity) for the dominant class.<br>\n",
        "[F1 score](https://scikit-learn.org/stable/modules/generated/sklearn.metrics.f1_score.html) too, would even be more unreliable in an imbalanced Data set.\n",
        "See [link](https://en.wikipedia.org/wiki/Confusion_matrix)"
      ]
    },
    {
      "cell_type": "markdown",
      "metadata": {
        "id": "9xkjzYL6U4lN",
        "colab_type": "text"
      },
      "source": [
        "**SMOTE - Synthetic Minority Over-sampling Technique** [link](https://imbalanced-learn.readthedocs.io/en/stable/generated/imblearn.over_sampling.SMOTE.html)"
      ]
    },
    {
      "cell_type": "code",
      "metadata": {
        "id": "E7Upg-LQUI-M",
        "colab_type": "code",
        "colab": {}
      },
      "source": [
        "from imblearn.over_sampling import SMOTE\n",
        "sm = SMOTE(sampling_strategy='minority', random_state=19, k_neighbors=5)"
      ],
      "execution_count": 0,
      "outputs": []
    },
    {
      "cell_type": "code",
      "metadata": {
        "id": "QoUQvT6bVdDW",
        "colab_type": "code",
        "colab": {}
      },
      "source": [
        "over_sampled_features, over_sampled_label = sm.fit_resample(feature_matrix, label)"
      ],
      "execution_count": 0,
      "outputs": []
    },
    {
      "cell_type": "code",
      "metadata": {
        "id": "X-G9_B5dVu0a",
        "colab_type": "code",
        "outputId": "72ae294b-705a-4a85-be80-5205b6f72105",
        "colab": {
          "base_uri": "https://localhost:8080/",
          "height": 50
        }
      },
      "source": [
        "print('Shape of resampled feature set is:',over_sampled_features.shape)\n",
        "print('Shape of resampled target data is:',over_sampled_label.shape)"
      ],
      "execution_count": 0,
      "outputs": [
        {
          "output_type": "stream",
          "text": [
            "Shape of resampled feature set is: (20000, 8)\n",
            "Shape of resampled target data is: (20000,)\n"
          ],
          "name": "stdout"
        }
      ]
    },
    {
      "cell_type": "markdown",
      "metadata": {
        "id": "NYUGKtkCWFqg",
        "colab_type": "text"
      },
      "source": [
        "Let's concat the features and target back into one data frame"
      ]
    },
    {
      "cell_type": "code",
      "metadata": {
        "id": "nBvISEnpWHdF",
        "colab_type": "code",
        "outputId": "b822afe9-8b5c-42fe-ad99-5493986dbb38",
        "colab": {
          "base_uri": "https://localhost:8080/",
          "height": 195
        }
      },
      "source": [
        "over_sampled_df = pd.DataFrame(over_sampled_features, columns=['Pregnancies','PlasmaGlucose','DiastolicBloodPressure','TricepsThickness','SerumInsulin','BMI','DiabetesPedigree','Age'])\n",
        "\n",
        "over_sampled_df['Diabetic'] = over_sampled_label\n",
        "\n",
        "over_sampled_df.head()"
      ],
      "execution_count": 0,
      "outputs": [
        {
          "output_type": "execute_result",
          "data": {
            "text/html": [
              "<div>\n",
              "<style scoped>\n",
              "    .dataframe tbody tr th:only-of-type {\n",
              "        vertical-align: middle;\n",
              "    }\n",
              "\n",
              "    .dataframe tbody tr th {\n",
              "        vertical-align: top;\n",
              "    }\n",
              "\n",
              "    .dataframe thead th {\n",
              "        text-align: right;\n",
              "    }\n",
              "</style>\n",
              "<table border=\"1\" class=\"dataframe\">\n",
              "  <thead>\n",
              "    <tr style=\"text-align: right;\">\n",
              "      <th></th>\n",
              "      <th>Pregnancies</th>\n",
              "      <th>PlasmaGlucose</th>\n",
              "      <th>DiastolicBloodPressure</th>\n",
              "      <th>TricepsThickness</th>\n",
              "      <th>SerumInsulin</th>\n",
              "      <th>BMI</th>\n",
              "      <th>DiabetesPedigree</th>\n",
              "      <th>Age</th>\n",
              "      <th>Diabetic</th>\n",
              "    </tr>\n",
              "  </thead>\n",
              "  <tbody>\n",
              "    <tr>\n",
              "      <th>0</th>\n",
              "      <td>0.000000</td>\n",
              "      <td>1.974335</td>\n",
              "      <td>0.523867</td>\n",
              "      <td>0.356286</td>\n",
              "      <td>-1.364665</td>\n",
              "      <td>1.165284</td>\n",
              "      <td>1.755479</td>\n",
              "      <td>0.000000</td>\n",
              "      <td>0</td>\n",
              "    </tr>\n",
              "    <tr>\n",
              "      <th>1</th>\n",
              "      <td>0.571429</td>\n",
              "      <td>-0.495806</td>\n",
              "      <td>1.299582</td>\n",
              "      <td>1.249406</td>\n",
              "      <td>-0.908607</td>\n",
              "      <td>-1.076800</td>\n",
              "      <td>-0.637939</td>\n",
              "      <td>0.070017</td>\n",
              "      <td>0</td>\n",
              "    </tr>\n",
              "    <tr>\n",
              "      <th>2</th>\n",
              "      <td>0.500000</td>\n",
              "      <td>0.223349</td>\n",
              "      <td>-1.445258</td>\n",
              "      <td>1.592914</td>\n",
              "      <td>-0.937283</td>\n",
              "      <td>1.018286</td>\n",
              "      <td>-1.455161</td>\n",
              "      <td>0.070017</td>\n",
              "      <td>0</td>\n",
              "    </tr>\n",
              "    <tr>\n",
              "      <th>3</th>\n",
              "      <td>0.642857</td>\n",
              "      <td>-0.151863</td>\n",
              "      <td>0.404526</td>\n",
              "      <td>-0.262028</td>\n",
              "      <td>1.263156</td>\n",
              "      <td>-0.041044</td>\n",
              "      <td>1.821124</td>\n",
              "      <td>0.551595</td>\n",
              "      <td>1</td>\n",
              "    </tr>\n",
              "    <tr>\n",
              "      <th>4</th>\n",
              "      <td>0.071429</td>\n",
              "      <td>-0.714680</td>\n",
              "      <td>-0.729213</td>\n",
              "      <td>-0.124625</td>\n",
              "      <td>-0.937283</td>\n",
              "      <td>1.099549</td>\n",
              "      <td>0.824581</td>\n",
              "      <td>0.035804</td>\n",
              "      <td>0</td>\n",
              "    </tr>\n",
              "  </tbody>\n",
              "</table>\n",
              "</div>"
            ],
            "text/plain": [
              "   Pregnancies  PlasmaGlucose  ...       Age  Diabetic\n",
              "0     0.000000       1.974335  ...  0.000000         0\n",
              "1     0.571429      -0.495806  ...  0.070017         0\n",
              "2     0.500000       0.223349  ...  0.070017         0\n",
              "3     0.642857      -0.151863  ...  0.551595         1\n",
              "4     0.071429      -0.714680  ...  0.035804         0\n",
              "\n",
              "[5 rows x 9 columns]"
            ]
          },
          "metadata": {
            "tags": []
          },
          "execution_count": 69
        }
      ]
    },
    {
      "cell_type": "code",
      "metadata": {
        "id": "F7BQ2FxAYVNI",
        "colab_type": "code",
        "outputId": "26b1a4ee-e635-4da1-ea5b-998a609cb824",
        "colab": {
          "base_uri": "https://localhost:8080/",
          "height": 34
        }
      },
      "source": [
        "over_sampled_df.shape"
      ],
      "execution_count": 0,
      "outputs": [
        {
          "output_type": "execute_result",
          "data": {
            "text/plain": [
              "(20000, 9)"
            ]
          },
          "metadata": {
            "tags": []
          },
          "execution_count": 70
        }
      ]
    },
    {
      "cell_type": "markdown",
      "metadata": {
        "id": "FtW0kwtuYoJD",
        "colab_type": "text"
      },
      "source": [
        "Let's visualize the new distribution "
      ]
    },
    {
      "cell_type": "code",
      "metadata": {
        "id": "aiOIseGZYmlW",
        "colab_type": "code",
        "outputId": "960aaf7f-efb7-4582-ccf2-8a5573d0a7da",
        "colab": {
          "base_uri": "https://localhost:8080/",
          "height": 526
        }
      },
      "source": [
        "plt.figure(figsize=(8, 8))\n",
        "\n",
        "x = over_sampled_df.Diabetic.replace(to_replace=[0, 1], value=['Non-Diabetics','Diabetics'])\n",
        "sns.countplot(x)\n",
        "plt.title('Count of Diabetics and Non-Diabetics')\n",
        "plt.show()"
      ],
      "execution_count": 0,
      "outputs": [
        {
          "output_type": "display_data",
          "data": {
            "image/png": "[encoded data removed]",
            "text/plain": [
              "<Figure size 576x576 with 1 Axes>"
            ]
          },
          "metadata": {
            "tags": []
          }
        }
      ]
    },
    {
      "cell_type": "markdown",
      "metadata": {
        "id": "c_T_DyGXY_X6",
        "colab_type": "text"
      },
      "source": [
        "Okay so the above is a well balanced dataset. let's go on to train the model by first splitting the dataset"
      ]
    },
    {
      "cell_type": "code",
      "metadata": {
        "id": "OO6-cjNtZE-T",
        "colab_type": "code",
        "outputId": "f8b64ee8-fbe8-41e9-e950-2f4957d98871",
        "colab": {
          "base_uri": "https://localhost:8080/",
          "height": 84
        }
      },
      "source": [
        "X_train, X_test, y_train, y_test = train_test_split(over_sampled_df.iloc[:,:-1], over_sampled_df.Diabetic, test_size=0.3, random_state=1234)\n",
        "\n",
        "print('X_train shape is',X_train.shape)\n",
        "print('X_test shape is',X_test.shape)\n",
        "print('y_train shape is',y_train.shape)\n",
        "print('y_test shape is',y_test.shape)"
      ],
      "execution_count": 0,
      "outputs": [
        {
          "output_type": "stream",
          "text": [
            "X_train shape is (14000, 8)\n",
            "X_test shape is (6000, 8)\n",
            "y_train shape is (14000,)\n",
            "y_test shape is (6000,)\n"
          ],
          "name": "stdout"
        }
      ]
    },
    {
      "cell_type": "markdown",
      "metadata": {
        "id": "umwXSX5iakyc",
        "colab_type": "text"
      },
      "source": [
        "Let's call the DecisionTreeFunction to build and classify and evaluate our model prediction"
      ]
    },
    {
      "cell_type": "code",
      "metadata": {
        "id": "YmTq9phbdMH7",
        "colab_type": "code",
        "outputId": "871c5941-08b3-4da3-f59f-b7ce965d86ea",
        "colab": {
          "base_uri": "https://localhost:8080/",
          "height": 1000
        }
      },
      "source": [
        "decision_tree_classifier = best_decision_tree_classifier(X_train, X_test, y_train, y_test)\n",
        "decision_tree_classifier"
      ],
      "execution_count": 0,
      "outputs": [
        {
          "output_type": "stream",
          "text": [
            "Confusion matrix, without normalization\n",
            "[[2778  240]\n",
            " [ 235 2747]]\n"
          ],
          "name": "stdout"
        },
        {
          "output_type": "display_data",
          "data": {
            "image/png": "[encoded data removed]",
            "text/plain": [
              "<Figure size 720x432 with 2 Axes>"
            ]
          },
          "metadata": {
            "tags": []
          }
        },
        {
          "output_type": "stream",
          "text": [
            "\n",
            "TP is: 2778 FP is: 240 TN is: 2747 FN is: 235\n",
            "\n",
            "Model Evaluation:\n",
            "{'max_depth': 12, 'val_acc': 0.9247, 'f1_Score': 0.9247, 'log_loss': 2.602}\n",
            "\n"
          ],
          "name": "stdout"
        },
        {
          "output_type": "display_data",
          "data": {
            "image/png": "[encoded data removed]",
            "text/plain": [
              "<Figure size 576x432 with 1 Axes>"
            ]
          },
          "metadata": {
            "tags": []
          }
        },
        {
          "output_type": "stream",
          "text": [
            "\n",
            "accuracy is: 0.92\n",
            "recall is: 0.92\n",
            "precision is: 0.92\n",
            "\n"
          ],
          "name": "stdout"
        },
        {
          "output_type": "execute_result",
          "data": {
            "text/plain": [
              "DecisionTreeClassifier(class_weight=None, criterion='entropy', max_depth=100,\n",
              "                       max_features=None, max_leaf_nodes=None,\n",
              "                       min_impurity_decrease=0.0, min_impurity_split=None,\n",
              "                       min_samples_leaf=1, min_samples_split=2,\n",
              "                       min_weight_fraction_leaf=0.0, presort=False,\n",
              "                       random_state=None, splitter='best')"
            ]
          },
          "metadata": {
            "tags": []
          },
          "execution_count": 73
        }
      ]
    },
    {
      "cell_type": "markdown",
      "metadata": {
        "id": "bP5X7_YsqpNY",
        "colab_type": "text"
      },
      "source": [
        "We can clearly see a boost in model performance by just balancing the dataset.<br>\n",
        "The model generalises better and is more accurate and confident in its classification tasks"
      ]
    }
  ]
}