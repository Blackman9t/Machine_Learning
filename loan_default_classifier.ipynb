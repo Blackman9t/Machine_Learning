{
  "nbformat": 4,
  "nbformat_minor": 0,
  "metadata": {
    "colab": {
      "name": "loan_default_classifier.ipynb",
      "version": "0.3.2",
      "provenance": [],
      "collapsed_sections": [],
      "include_colab_link": true
    },
    "kernelspec": {
      "name": "python3",
      "display_name": "Python 3"
    },
    "accelerator": "GPU"
  },
  "cells": [
    {
      "cell_type": "markdown",
      "metadata": {
        "id": "view-in-github",
        "colab_type": "text"
      },
      "source": [
        "<a href=\"https://colab.research.google.com/github/Blackman9t/Machine_Learning/blob/master/loan_default_classifier.ipynb\" target=\"_parent\"><img src=\"https://colab.research.google.com/assets/colab-badge.svg\" alt=\"Open In Colab\"/></a>"
      ]
    },
    {
      "cell_type": "markdown",
      "metadata": {
        "id": "vgqAK0YFlgX_",
        "colab_type": "text"
      },
      "source": [
        "<h1 align=\"center\"><font size=\"6\">Classification with Python</font></h1>"
      ]
    },
    {
      "cell_type": "markdown",
      "metadata": {
        "id": "TSUU7S1dl_Jk",
        "colab_type": "text"
      },
      "source": [
        "In this notebook we try to classify bank customers into defaulters or non-defaulters using a bunch of classifier algorithms.\n",
        "\n",
        "We load a dataset using Pandas library, and apply the following algorithms, and find the best one for this specific dataset by accuracy evaluation methods.\n",
        "\n",
        "Lets first load required libraries:"
      ]
    },
    {
      "cell_type": "code",
      "metadata": {
        "id": "u4LYRKCXlS4m",
        "colab_type": "code",
        "colab": {}
      },
      "source": [
        "import itertools\n",
        "import numpy as np\n",
        "import matplotlib.pyplot as plt\n",
        "from matplotlib.ticker import NullFormatter\n",
        "import pandas as pd\n",
        "import numpy as np\n",
        "import matplotlib.ticker as ticker\n",
        "import seaborn as sns\n",
        "from sklearn import preprocessing\n",
        "%matplotlib inline"
      ],
      "execution_count": 0,
      "outputs": []
    },
    {
      "cell_type": "markdown",
      "metadata": {
        "id": "NjqG6zM9m_sI",
        "colab_type": "text"
      },
      "source": [
        "The data set we shall use is from Credit One Bank and it's in Kaggle and can be  seen along side its data dictionary via this [link](https://www.kaggle.com/dataforyou/bankloan)<br>\n",
        "\n",
        "The raw file can be read straight from github via this [link](https://github.com/Blackman9t/Machine_Learning/blob/master/Loan_Data%20for%20Classification.xlsx?raw=true')"
      ]
    },
    {
      "cell_type": "code",
      "metadata": {
        "id": "mQe62hUWnOxx",
        "colab_type": "code",
        "colab": {}
      },
      "source": [
        "data = 'https://github.com/Blackman9t/Machine_Learning/blob/master/Loan_Data%20for%20Classification.xlsx?raw=true'"
      ],
      "execution_count": 0,
      "outputs": []
    },
    {
      "cell_type": "markdown",
      "metadata": {
        "id": "s0nc5t_gn_JP",
        "colab_type": "text"
      },
      "source": [
        "Reading the raw file to a data frame and setting row 2 as the header, since I first viewed the file in excel.<br>\n",
        "\n",
        "Let's define additional NaN values that pandas may not see"
      ]
    },
    {
      "cell_type": "code",
      "metadata": {
        "id": "YQHYKJGorrrP",
        "colab_type": "code",
        "colab": {}
      },
      "source": [
        "additional_nan_values = ['n/a', '--','?','None','Non','non','none']"
      ],
      "execution_count": 0,
      "outputs": []
    },
    {
      "cell_type": "code",
      "metadata": {
        "id": "UqOKNI8Cn9c-",
        "colab_type": "code",
        "colab": {
          "base_uri": "https://localhost:8080/",
          "height": 215
        },
        "outputId": "61850a66-3154-4a46-da01-411ed1f48f86"
      },
      "source": [
        "loan_df = pd.read_excel(data, header=2, na_values=additional_nan_values)\n",
        "\n",
        "loan_df.head()"
      ],
      "execution_count": 68,
      "outputs": [
        {
          "output_type": "execute_result",
          "data": {
            "text/html": [
              "<div>\n",
              "<style scoped>\n",
              "    .dataframe tbody tr th:only-of-type {\n",
              "        vertical-align: middle;\n",
              "    }\n",
              "\n",
              "    .dataframe tbody tr th {\n",
              "        vertical-align: top;\n",
              "    }\n",
              "\n",
              "    .dataframe thead th {\n",
              "        text-align: right;\n",
              "    }\n",
              "</style>\n",
              "<table border=\"1\" class=\"dataframe\">\n",
              "  <thead>\n",
              "    <tr style=\"text-align: right;\">\n",
              "      <th></th>\n",
              "      <th>Customer_ID</th>\n",
              "      <th>Status_Checking_Acc</th>\n",
              "      <th>Duration_in_Months</th>\n",
              "      <th>Credit_History</th>\n",
              "      <th>Purposre_Credit_Taken</th>\n",
              "      <th>Credit_Amount</th>\n",
              "      <th>Savings_Acc</th>\n",
              "      <th>Years_At_Present_Employment</th>\n",
              "      <th>Inst_Rt_Income</th>\n",
              "      <th>Marital_Status_Gender</th>\n",
              "      <th>Other_Debtors_Guarantors</th>\n",
              "      <th>Current_Address_Yrs</th>\n",
              "      <th>Property</th>\n",
              "      <th>Age</th>\n",
              "      <th>Other_Inst_Plans</th>\n",
              "      <th>Housing</th>\n",
              "      <th>Num_CC</th>\n",
              "      <th>Job</th>\n",
              "      <th>Dependents</th>\n",
              "      <th>Telephone</th>\n",
              "      <th>Foreign_Worker</th>\n",
              "      <th>Default_On_Payment</th>\n",
              "      <th>Count</th>\n",
              "    </tr>\n",
              "  </thead>\n",
              "  <tbody>\n",
              "    <tr>\n",
              "      <th>0</th>\n",
              "      <td>100001</td>\n",
              "      <td>A11</td>\n",
              "      <td>6</td>\n",
              "      <td>A34</td>\n",
              "      <td>A43</td>\n",
              "      <td>1169</td>\n",
              "      <td>A65</td>\n",
              "      <td>A75</td>\n",
              "      <td>4</td>\n",
              "      <td>A93</td>\n",
              "      <td>A101</td>\n",
              "      <td>4</td>\n",
              "      <td>A121</td>\n",
              "      <td>67</td>\n",
              "      <td>A143</td>\n",
              "      <td>A152</td>\n",
              "      <td>2</td>\n",
              "      <td>A173</td>\n",
              "      <td>1</td>\n",
              "      <td>A192</td>\n",
              "      <td>A201</td>\n",
              "      <td>0</td>\n",
              "      <td>1</td>\n",
              "    </tr>\n",
              "    <tr>\n",
              "      <th>1</th>\n",
              "      <td>100002</td>\n",
              "      <td>A12</td>\n",
              "      <td>48</td>\n",
              "      <td>A32</td>\n",
              "      <td>A43</td>\n",
              "      <td>5951</td>\n",
              "      <td>A61</td>\n",
              "      <td>A73</td>\n",
              "      <td>2</td>\n",
              "      <td>A92</td>\n",
              "      <td>A101</td>\n",
              "      <td>2</td>\n",
              "      <td>A121</td>\n",
              "      <td>22</td>\n",
              "      <td>A143</td>\n",
              "      <td>A152</td>\n",
              "      <td>1</td>\n",
              "      <td>A173</td>\n",
              "      <td>1</td>\n",
              "      <td>A191</td>\n",
              "      <td>A201</td>\n",
              "      <td>0</td>\n",
              "      <td>1</td>\n",
              "    </tr>\n",
              "    <tr>\n",
              "      <th>2</th>\n",
              "      <td>100003</td>\n",
              "      <td>A14</td>\n",
              "      <td>12</td>\n",
              "      <td>A34</td>\n",
              "      <td>A46</td>\n",
              "      <td>2096</td>\n",
              "      <td>A61</td>\n",
              "      <td>A74</td>\n",
              "      <td>2</td>\n",
              "      <td>A93</td>\n",
              "      <td>A101</td>\n",
              "      <td>3</td>\n",
              "      <td>A121</td>\n",
              "      <td>49</td>\n",
              "      <td>A143</td>\n",
              "      <td>A152</td>\n",
              "      <td>1</td>\n",
              "      <td>A172</td>\n",
              "      <td>2</td>\n",
              "      <td>A191</td>\n",
              "      <td>A201</td>\n",
              "      <td>0</td>\n",
              "      <td>1</td>\n",
              "    </tr>\n",
              "    <tr>\n",
              "      <th>3</th>\n",
              "      <td>100004</td>\n",
              "      <td>A11</td>\n",
              "      <td>42</td>\n",
              "      <td>A32</td>\n",
              "      <td>A42</td>\n",
              "      <td>7882</td>\n",
              "      <td>A61</td>\n",
              "      <td>A74</td>\n",
              "      <td>2</td>\n",
              "      <td>A93</td>\n",
              "      <td>A103</td>\n",
              "      <td>4</td>\n",
              "      <td>A122</td>\n",
              "      <td>45</td>\n",
              "      <td>A143</td>\n",
              "      <td>A153</td>\n",
              "      <td>1</td>\n",
              "      <td>A173</td>\n",
              "      <td>2</td>\n",
              "      <td>A191</td>\n",
              "      <td>A201</td>\n",
              "      <td>0</td>\n",
              "      <td>1</td>\n",
              "    </tr>\n",
              "    <tr>\n",
              "      <th>4</th>\n",
              "      <td>100005</td>\n",
              "      <td>A11</td>\n",
              "      <td>24</td>\n",
              "      <td>A33</td>\n",
              "      <td>A40</td>\n",
              "      <td>4870</td>\n",
              "      <td>A61</td>\n",
              "      <td>A73</td>\n",
              "      <td>3</td>\n",
              "      <td>A93</td>\n",
              "      <td>A101</td>\n",
              "      <td>4</td>\n",
              "      <td>A124</td>\n",
              "      <td>53</td>\n",
              "      <td>A143</td>\n",
              "      <td>A153</td>\n",
              "      <td>2</td>\n",
              "      <td>A173</td>\n",
              "      <td>2</td>\n",
              "      <td>A191</td>\n",
              "      <td>A201</td>\n",
              "      <td>1</td>\n",
              "      <td>1</td>\n",
              "    </tr>\n",
              "  </tbody>\n",
              "</table>\n",
              "</div>"
            ],
            "text/plain": [
              "   Customer_ID Status_Checking_Acc  ...  Default_On_Payment Count\n",
              "0       100001                 A11  ...                   0     1\n",
              "1       100002                 A12  ...                   0     1\n",
              "2       100003                 A14  ...                   0     1\n",
              "3       100004                 A11  ...                   0     1\n",
              "4       100005                 A11  ...                   1     1\n",
              "\n",
              "[5 rows x 23 columns]"
            ]
          },
          "metadata": {
            "tags": []
          },
          "execution_count": 68
        }
      ]
    },
    {
      "cell_type": "markdown",
      "metadata": {
        "id": "0t-XhroDpPe4",
        "colab_type": "text"
      },
      "source": [
        "Let's check the shape"
      ]
    },
    {
      "cell_type": "code",
      "metadata": {
        "id": "a-WtSPhRpWr1",
        "colab_type": "code",
        "colab": {
          "base_uri": "https://localhost:8080/",
          "height": 34
        },
        "outputId": "0648290a-64c4-48c5-8719-e6c8d229805e"
      },
      "source": [
        "loan_df.shape"
      ],
      "execution_count": 69,
      "outputs": [
        {
          "output_type": "execute_result",
          "data": {
            "text/plain": [
              "(5000, 23)"
            ]
          },
          "metadata": {
            "tags": []
          },
          "execution_count": 69
        }
      ]
    },
    {
      "cell_type": "markdown",
      "metadata": {
        "id": "NwSPvMJLphiQ",
        "colab_type": "text"
      },
      "source": [
        "Shape is 5000 rows and 23 columns. <br>Pay attention to the data, it has  a lot of alpha-numeric notations<br>The best bet is to open the data dictionary via this [link](https://www.kaggle.com/dataforyou/bankloan) to a browser so one can understand what each notation stands for.\n",
        "\n",
        ">>\n",
        "\n",
        "Let's check the info and dtypes"
      ]
    },
    {
      "cell_type": "code",
      "metadata": {
        "id": "RM0NWwkqqFPX",
        "colab_type": "code",
        "colab": {
          "base_uri": "https://localhost:8080/",
          "height": 487
        },
        "outputId": "33129f32-ec5a-493e-c0c8-70d2d61b159e"
      },
      "source": [
        "loan_df.info()"
      ],
      "execution_count": 70,
      "outputs": [
        {
          "output_type": "stream",
          "text": [
            "<class 'pandas.core.frame.DataFrame'>\n",
            "RangeIndex: 5000 entries, 0 to 4999\n",
            "Data columns (total 23 columns):\n",
            "Customer_ID                    5000 non-null int64\n",
            "Status_Checking_Acc            5000 non-null object\n",
            "Duration_in_Months             5000 non-null int64\n",
            "Credit_History                 5000 non-null object\n",
            "Purposre_Credit_Taken          5000 non-null object\n",
            "Credit_Amount                  5000 non-null int64\n",
            "Savings_Acc                    5000 non-null object\n",
            "Years_At_Present_Employment    5000 non-null object\n",
            "Inst_Rt_Income                 5000 non-null int64\n",
            "Marital_Status_Gender          5000 non-null object\n",
            "Other_Debtors_Guarantors       5000 non-null object\n",
            "Current_Address_Yrs            5000 non-null int64\n",
            "Property                       5000 non-null object\n",
            "Age                            5000 non-null int64\n",
            "Other_Inst_Plans               5000 non-null object\n",
            "Housing                        5000 non-null object\n",
            "Num_CC                         5000 non-null int64\n",
            "Job                            5000 non-null object\n",
            "Dependents                     5000 non-null int64\n",
            "Telephone                      5000 non-null object\n",
            "Foreign_Worker                 5000 non-null object\n",
            "Default_On_Payment             5000 non-null int64\n",
            "Count                          5000 non-null int64\n",
            "dtypes: int64(10), object(13)\n",
            "memory usage: 898.5+ KB\n"
          ],
          "name": "stdout"
        }
      ]
    },
    {
      "cell_type": "markdown",
      "metadata": {
        "id": "Uo_gigzLq7aM",
        "colab_type": "text"
      },
      "source": [
        "Let's check the stats for columns of object dtype and transpose it for readability"
      ]
    },
    {
      "cell_type": "code",
      "metadata": {
        "id": "ILF_NwsMqkz3",
        "colab_type": "code",
        "colab": {
          "base_uri": "https://localhost:8080/",
          "height": 432
        },
        "outputId": "21dc1439-6a4f-4ded-a649-bffd505079de"
      },
      "source": [
        "loan_df.describe(include=['object']).T"
      ],
      "execution_count": 71,
      "outputs": [
        {
          "output_type": "execute_result",
          "data": {
            "text/html": [
              "<div>\n",
              "<style scoped>\n",
              "    .dataframe tbody tr th:only-of-type {\n",
              "        vertical-align: middle;\n",
              "    }\n",
              "\n",
              "    .dataframe tbody tr th {\n",
              "        vertical-align: top;\n",
              "    }\n",
              "\n",
              "    .dataframe thead th {\n",
              "        text-align: right;\n",
              "    }\n",
              "</style>\n",
              "<table border=\"1\" class=\"dataframe\">\n",
              "  <thead>\n",
              "    <tr style=\"text-align: right;\">\n",
              "      <th></th>\n",
              "      <th>count</th>\n",
              "      <th>unique</th>\n",
              "      <th>top</th>\n",
              "      <th>freq</th>\n",
              "    </tr>\n",
              "  </thead>\n",
              "  <tbody>\n",
              "    <tr>\n",
              "      <th>Status_Checking_Acc</th>\n",
              "      <td>5000</td>\n",
              "      <td>4</td>\n",
              "      <td>A14</td>\n",
              "      <td>1970</td>\n",
              "    </tr>\n",
              "    <tr>\n",
              "      <th>Credit_History</th>\n",
              "      <td>5000</td>\n",
              "      <td>5</td>\n",
              "      <td>A32</td>\n",
              "      <td>2650</td>\n",
              "    </tr>\n",
              "    <tr>\n",
              "      <th>Purposre_Credit_Taken</th>\n",
              "      <td>5000</td>\n",
              "      <td>10</td>\n",
              "      <td>A43</td>\n",
              "      <td>1400</td>\n",
              "    </tr>\n",
              "    <tr>\n",
              "      <th>Savings_Acc</th>\n",
              "      <td>5000</td>\n",
              "      <td>5</td>\n",
              "      <td>A61</td>\n",
              "      <td>3015</td>\n",
              "    </tr>\n",
              "    <tr>\n",
              "      <th>Years_At_Present_Employment</th>\n",
              "      <td>5000</td>\n",
              "      <td>5</td>\n",
              "      <td>A73</td>\n",
              "      <td>1695</td>\n",
              "    </tr>\n",
              "    <tr>\n",
              "      <th>Marital_Status_Gender</th>\n",
              "      <td>5000</td>\n",
              "      <td>4</td>\n",
              "      <td>A93</td>\n",
              "      <td>2740</td>\n",
              "    </tr>\n",
              "    <tr>\n",
              "      <th>Other_Debtors_Guarantors</th>\n",
              "      <td>5000</td>\n",
              "      <td>3</td>\n",
              "      <td>A101</td>\n",
              "      <td>4535</td>\n",
              "    </tr>\n",
              "    <tr>\n",
              "      <th>Property</th>\n",
              "      <td>5000</td>\n",
              "      <td>4</td>\n",
              "      <td>A123</td>\n",
              "      <td>1660</td>\n",
              "    </tr>\n",
              "    <tr>\n",
              "      <th>Other_Inst_Plans</th>\n",
              "      <td>5000</td>\n",
              "      <td>3</td>\n",
              "      <td>A143</td>\n",
              "      <td>4070</td>\n",
              "    </tr>\n",
              "    <tr>\n",
              "      <th>Housing</th>\n",
              "      <td>5000</td>\n",
              "      <td>3</td>\n",
              "      <td>A152</td>\n",
              "      <td>3565</td>\n",
              "    </tr>\n",
              "    <tr>\n",
              "      <th>Job</th>\n",
              "      <td>5000</td>\n",
              "      <td>4</td>\n",
              "      <td>A173</td>\n",
              "      <td>3150</td>\n",
              "    </tr>\n",
              "    <tr>\n",
              "      <th>Telephone</th>\n",
              "      <td>5000</td>\n",
              "      <td>2</td>\n",
              "      <td>A191</td>\n",
              "      <td>2980</td>\n",
              "    </tr>\n",
              "    <tr>\n",
              "      <th>Foreign_Worker</th>\n",
              "      <td>5000</td>\n",
              "      <td>2</td>\n",
              "      <td>A201</td>\n",
              "      <td>4815</td>\n",
              "    </tr>\n",
              "  </tbody>\n",
              "</table>\n",
              "</div>"
            ],
            "text/plain": [
              "                            count unique   top  freq\n",
              "Status_Checking_Acc          5000      4   A14  1970\n",
              "Credit_History               5000      5   A32  2650\n",
              "Purposre_Credit_Taken        5000     10   A43  1400\n",
              "Savings_Acc                  5000      5   A61  3015\n",
              "Years_At_Present_Employment  5000      5   A73  1695\n",
              "Marital_Status_Gender        5000      4   A93  2740\n",
              "Other_Debtors_Guarantors     5000      3  A101  4535\n",
              "Property                     5000      4  A123  1660\n",
              "Other_Inst_Plans             5000      3  A143  4070\n",
              "Housing                      5000      3  A152  3565\n",
              "Job                          5000      4  A173  3150\n",
              "Telephone                    5000      2  A191  2980\n",
              "Foreign_Worker               5000      2  A201  4815"
            ]
          },
          "metadata": {
            "tags": []
          },
          "execution_count": 71
        }
      ]
    },
    {
      "cell_type": "markdown",
      "metadata": {
        "id": "-D8JlANlrJp1",
        "colab_type": "text"
      },
      "source": [
        "Now Let's check the stats for numeric  columns  and transpose it for readability"
      ]
    },
    {
      "cell_type": "code",
      "metadata": {
        "id": "i0heOSdFrOt4",
        "colab_type": "code",
        "colab": {
          "base_uri": "https://localhost:8080/",
          "height": 343
        },
        "outputId": "9893bef4-f462-44d7-bc2f-9c41903cce8e"
      },
      "source": [
        "loan_df.describe().T"
      ],
      "execution_count": 72,
      "outputs": [
        {
          "output_type": "execute_result",
          "data": {
            "text/html": [
              "<div>\n",
              "<style scoped>\n",
              "    .dataframe tbody tr th:only-of-type {\n",
              "        vertical-align: middle;\n",
              "    }\n",
              "\n",
              "    .dataframe tbody tr th {\n",
              "        vertical-align: top;\n",
              "    }\n",
              "\n",
              "    .dataframe thead th {\n",
              "        text-align: right;\n",
              "    }\n",
              "</style>\n",
              "<table border=\"1\" class=\"dataframe\">\n",
              "  <thead>\n",
              "    <tr style=\"text-align: right;\">\n",
              "      <th></th>\n",
              "      <th>count</th>\n",
              "      <th>mean</th>\n",
              "      <th>std</th>\n",
              "      <th>min</th>\n",
              "      <th>25%</th>\n",
              "      <th>50%</th>\n",
              "      <th>75%</th>\n",
              "      <th>max</th>\n",
              "    </tr>\n",
              "  </thead>\n",
              "  <tbody>\n",
              "    <tr>\n",
              "      <th>Customer_ID</th>\n",
              "      <td>5000.0</td>\n",
              "      <td>102500.500</td>\n",
              "      <td>1443.520003</td>\n",
              "      <td>100001.0</td>\n",
              "      <td>101250.75</td>\n",
              "      <td>102500.5</td>\n",
              "      <td>103750.25</td>\n",
              "      <td>105000.0</td>\n",
              "    </tr>\n",
              "    <tr>\n",
              "      <th>Duration_in_Months</th>\n",
              "      <td>5000.0</td>\n",
              "      <td>20.903</td>\n",
              "      <td>12.053989</td>\n",
              "      <td>4.0</td>\n",
              "      <td>12.00</td>\n",
              "      <td>18.0</td>\n",
              "      <td>24.00</td>\n",
              "      <td>72.0</td>\n",
              "    </tr>\n",
              "    <tr>\n",
              "      <th>Credit_Amount</th>\n",
              "      <td>5000.0</td>\n",
              "      <td>3271.258</td>\n",
              "      <td>2821.607329</td>\n",
              "      <td>250.0</td>\n",
              "      <td>1365.50</td>\n",
              "      <td>2319.5</td>\n",
              "      <td>3972.25</td>\n",
              "      <td>18424.0</td>\n",
              "    </tr>\n",
              "    <tr>\n",
              "      <th>Inst_Rt_Income</th>\n",
              "      <td>5000.0</td>\n",
              "      <td>2.973</td>\n",
              "      <td>1.118267</td>\n",
              "      <td>1.0</td>\n",
              "      <td>2.00</td>\n",
              "      <td>3.0</td>\n",
              "      <td>4.00</td>\n",
              "      <td>4.0</td>\n",
              "    </tr>\n",
              "    <tr>\n",
              "      <th>Current_Address_Yrs</th>\n",
              "      <td>5000.0</td>\n",
              "      <td>2.845</td>\n",
              "      <td>1.103276</td>\n",
              "      <td>1.0</td>\n",
              "      <td>2.00</td>\n",
              "      <td>3.0</td>\n",
              "      <td>4.00</td>\n",
              "      <td>4.0</td>\n",
              "    </tr>\n",
              "    <tr>\n",
              "      <th>Age</th>\n",
              "      <td>5000.0</td>\n",
              "      <td>35.546</td>\n",
              "      <td>11.370917</td>\n",
              "      <td>19.0</td>\n",
              "      <td>27.00</td>\n",
              "      <td>33.0</td>\n",
              "      <td>42.00</td>\n",
              "      <td>75.0</td>\n",
              "    </tr>\n",
              "    <tr>\n",
              "      <th>Num_CC</th>\n",
              "      <td>5000.0</td>\n",
              "      <td>1.407</td>\n",
              "      <td>0.577423</td>\n",
              "      <td>1.0</td>\n",
              "      <td>1.00</td>\n",
              "      <td>1.0</td>\n",
              "      <td>2.00</td>\n",
              "      <td>4.0</td>\n",
              "    </tr>\n",
              "    <tr>\n",
              "      <th>Dependents</th>\n",
              "      <td>5000.0</td>\n",
              "      <td>1.155</td>\n",
              "      <td>0.361941</td>\n",
              "      <td>1.0</td>\n",
              "      <td>1.00</td>\n",
              "      <td>1.0</td>\n",
              "      <td>1.00</td>\n",
              "      <td>2.0</td>\n",
              "    </tr>\n",
              "    <tr>\n",
              "      <th>Default_On_Payment</th>\n",
              "      <td>5000.0</td>\n",
              "      <td>0.299</td>\n",
              "      <td>0.457866</td>\n",
              "      <td>0.0</td>\n",
              "      <td>0.00</td>\n",
              "      <td>0.0</td>\n",
              "      <td>1.00</td>\n",
              "      <td>1.0</td>\n",
              "    </tr>\n",
              "    <tr>\n",
              "      <th>Count</th>\n",
              "      <td>5000.0</td>\n",
              "      <td>1.000</td>\n",
              "      <td>0.000000</td>\n",
              "      <td>1.0</td>\n",
              "      <td>1.00</td>\n",
              "      <td>1.0</td>\n",
              "      <td>1.00</td>\n",
              "      <td>1.0</td>\n",
              "    </tr>\n",
              "  </tbody>\n",
              "</table>\n",
              "</div>"
            ],
            "text/plain": [
              "                      count        mean  ...        75%       max\n",
              "Customer_ID          5000.0  102500.500  ...  103750.25  105000.0\n",
              "Duration_in_Months   5000.0      20.903  ...      24.00      72.0\n",
              "Credit_Amount        5000.0    3271.258  ...    3972.25   18424.0\n",
              "Inst_Rt_Income       5000.0       2.973  ...       4.00       4.0\n",
              "Current_Address_Yrs  5000.0       2.845  ...       4.00       4.0\n",
              "Age                  5000.0      35.546  ...      42.00      75.0\n",
              "Num_CC               5000.0       1.407  ...       2.00       4.0\n",
              "Dependents           5000.0       1.155  ...       1.00       2.0\n",
              "Default_On_Payment   5000.0       0.299  ...       1.00       1.0\n",
              "Count                5000.0       1.000  ...       1.00       1.0\n",
              "\n",
              "[10 rows x 8 columns]"
            ]
          },
          "metadata": {
            "tags": []
          },
          "execution_count": 72
        }
      ]
    },
    {
      "cell_type": "markdown",
      "metadata": {
        "id": "aMufdpyJsXKp",
        "colab_type": "text"
      },
      "source": [
        "No missing values atall  as both numeric and object dtype columns have complete 5000 records, but let's just confirm"
      ]
    },
    {
      "cell_type": "code",
      "metadata": {
        "id": "9bCA-zSqsgle",
        "colab_type": "code",
        "colab": {
          "base_uri": "https://localhost:8080/",
          "height": 34
        },
        "outputId": "039bfa3c-f00e-4913-b559-aaa802cdad2d"
      },
      "source": [
        "loan_df.isna().any().all()  # checking if any missing values and checking if any true value in the response"
      ],
      "execution_count": 73,
      "outputs": [
        {
          "output_type": "execute_result",
          "data": {
            "text/plain": [
              "False"
            ]
          },
          "metadata": {
            "tags": []
          },
          "execution_count": 73
        }
      ]
    },
    {
      "cell_type": "markdown",
      "metadata": {
        "id": "Tr5dvEnxtULz",
        "colab_type": "text"
      },
      "source": [
        "For a data set of 5000 rows and 23 columns, we may need to reduce it's memory consumption as we know pandas stores all floats as float64 and all int as int64 let's reduce some columns to int8 or int16, especially columns with single or double digit entries like Age"
      ]
    },
    {
      "cell_type": "code",
      "metadata": {
        "id": "-_YmerVpuHz7",
        "colab_type": "code",
        "colab": {
          "base_uri": "https://localhost:8080/",
          "height": 420
        },
        "outputId": "bed40ab6-7ebf-4833-8e59-7a2cb8661fc6"
      },
      "source": [
        "loan_df.dtypes"
      ],
      "execution_count": 74,
      "outputs": [
        {
          "output_type": "execute_result",
          "data": {
            "text/plain": [
              "Customer_ID                     int64\n",
              "Status_Checking_Acc            object\n",
              "Duration_in_Months              int64\n",
              "Credit_History                 object\n",
              "Purposre_Credit_Taken          object\n",
              "Credit_Amount                   int64\n",
              "Savings_Acc                    object\n",
              "Years_At_Present_Employment    object\n",
              "Inst_Rt_Income                  int64\n",
              "Marital_Status_Gender          object\n",
              "Other_Debtors_Guarantors       object\n",
              "Current_Address_Yrs             int64\n",
              "Property                       object\n",
              "Age                             int64\n",
              "Other_Inst_Plans               object\n",
              "Housing                        object\n",
              "Num_CC                          int64\n",
              "Job                            object\n",
              "Dependents                      int64\n",
              "Telephone                      object\n",
              "Foreign_Worker                 object\n",
              "Default_On_Payment              int64\n",
              "Count                           int64\n",
              "dtype: object"
            ]
          },
          "metadata": {
            "tags": []
          },
          "execution_count": 74
        }
      ]
    },
    {
      "cell_type": "code",
      "metadata": {
        "id": "GOxq3gHzt5l4",
        "colab_type": "code",
        "colab": {
          "base_uri": "https://localhost:8080/",
          "height": 454
        },
        "outputId": "ccb91f18-d485-4329-ba7d-a4eb4a232e7e"
      },
      "source": [
        "current_memory = loan_df.memory_usage().sum()\n",
        "print('Current memory is-', current_memory,'Bytes.')\n",
        "\n",
        "loan_df.memory_usage()"
      ],
      "execution_count": 75,
      "outputs": [
        {
          "output_type": "stream",
          "text": [
            "Current memory is- 920080 Bytes.\n"
          ],
          "name": "stdout"
        },
        {
          "output_type": "execute_result",
          "data": {
            "text/plain": [
              "Index                             80\n",
              "Customer_ID                    40000\n",
              "Status_Checking_Acc            40000\n",
              "Duration_in_Months             40000\n",
              "Credit_History                 40000\n",
              "Purposre_Credit_Taken          40000\n",
              "Credit_Amount                  40000\n",
              "Savings_Acc                    40000\n",
              "Years_At_Present_Employment    40000\n",
              "Inst_Rt_Income                 40000\n",
              "Marital_Status_Gender          40000\n",
              "Other_Debtors_Guarantors       40000\n",
              "Current_Address_Yrs            40000\n",
              "Property                       40000\n",
              "Age                            40000\n",
              "Other_Inst_Plans               40000\n",
              "Housing                        40000\n",
              "Num_CC                         40000\n",
              "Job                            40000\n",
              "Dependents                     40000\n",
              "Telephone                      40000\n",
              "Foreign_Worker                 40000\n",
              "Default_On_Payment             40000\n",
              "Count                          40000\n",
              "dtype: int64"
            ]
          },
          "metadata": {
            "tags": []
          },
          "execution_count": 75
        }
      ]
    },
    {
      "cell_type": "code",
      "metadata": {
        "id": "eBrWdiHWvWdm",
        "colab_type": "code",
        "colab": {
          "base_uri": "https://localhost:8080/",
          "height": 454
        },
        "outputId": "5604e653-5283-4963-b4d8-e543e6f9bd20"
      },
      "source": [
        "# let's change all these columns with a max of 2 digits to int8 to save memory\n",
        "\n",
        "loan_df[['Duration_in_Months','Inst_Rt_Income','Current_Address_Yrs','Age','Num_CC','Dependents','Default_On_Payment','Count']] = \\\n",
        "loan_df[['Duration_in_Months','Inst_Rt_Income','Current_Address_Yrs','Age','Num_CC','Dependents','Default_On_Payment','Count']].astype('int8', inplace=True)\n",
        "\n",
        "# Let's change the two other columns with up to 6 digit numbers from int64 to int32 to save memory\n",
        "\n",
        "loan_df[['Customer_ID','Credit_Amount']] = loan_df[['Customer_ID','Credit_Amount']].astype('int32')\n",
        "\n",
        "new_memory = loan_df.memory_usage().sum()\n",
        "print('New memory is-', new_memory,'Bytes.')\n",
        "\n",
        "loan_df.memory_usage()"
      ],
      "execution_count": 76,
      "outputs": [
        {
          "output_type": "stream",
          "text": [
            "Current memory is- 600080 Bytes.\n"
          ],
          "name": "stdout"
        },
        {
          "output_type": "execute_result",
          "data": {
            "text/plain": [
              "Index                             80\n",
              "Customer_ID                    20000\n",
              "Status_Checking_Acc            40000\n",
              "Duration_in_Months              5000\n",
              "Credit_History                 40000\n",
              "Purposre_Credit_Taken          40000\n",
              "Credit_Amount                  20000\n",
              "Savings_Acc                    40000\n",
              "Years_At_Present_Employment    40000\n",
              "Inst_Rt_Income                  5000\n",
              "Marital_Status_Gender          40000\n",
              "Other_Debtors_Guarantors       40000\n",
              "Current_Address_Yrs             5000\n",
              "Property                       40000\n",
              "Age                             5000\n",
              "Other_Inst_Plans               40000\n",
              "Housing                        40000\n",
              "Num_CC                          5000\n",
              "Job                            40000\n",
              "Dependents                      5000\n",
              "Telephone                      40000\n",
              "Foreign_Worker                 40000\n",
              "Default_On_Payment              5000\n",
              "Count                           5000\n",
              "dtype: int64"
            ]
          },
          "metadata": {
            "tags": []
          },
          "execution_count": 76
        }
      ]
    },
    {
      "cell_type": "markdown",
      "metadata": {
        "id": "iZfrkGqv0I4x",
        "colab_type": "text"
      },
      "source": [
        "Let's see how much memory we have saved"
      ]
    },
    {
      "cell_type": "code",
      "metadata": {
        "id": "ywON8i4uy6dR",
        "colab_type": "code",
        "colab": {
          "base_uri": "https://localhost:8080/",
          "height": 34
        },
        "outputId": "fd7fc1d7-be47-4315-98c1-a02f9aa711d7"
      },
      "source": [
        "current_memory - new_memory  # We've saved 320,000 Bytes just now."
      ],
      "execution_count": 78,
      "outputs": [
        {
          "output_type": "execute_result",
          "data": {
            "text/plain": [
              "320000"
            ]
          },
          "metadata": {
            "tags": []
          },
          "execution_count": 78
        }
      ]
    },
    {
      "cell_type": "markdown",
      "metadata": {
        "id": "I0ndbPIB0qwi",
        "colab_type": "text"
      },
      "source": [
        "Next we need to organise the Data into a more logical sequence before we start any computation.<br>\n",
        "This means we arrange columns of similar meta-data together starting with categorical, then continuous columns.<br>\n",
        "Except in case where it is more sensible to put a continuous variable before a categorical one."
      ]
    },
    {
      "cell_type": "code",
      "metadata": {
        "id": "4K8tc2RV1RE7",
        "colab_type": "code",
        "colab": {
          "base_uri": "https://localhost:8080/",
          "height": 151
        },
        "outputId": "1f3422a3-ece3-477d-e3b4-d41c9ff0caeb"
      },
      "source": [
        "# Let's see the total columns in the data set\n",
        "\n",
        "loan_df.columns"
      ],
      "execution_count": 79,
      "outputs": [
        {
          "output_type": "execute_result",
          "data": {
            "text/plain": [
              "Index(['Customer_ID', 'Status_Checking_Acc', 'Duration_in_Months',\n",
              "       'Credit_History', 'Purposre_Credit_Taken', 'Credit_Amount',\n",
              "       'Savings_Acc', 'Years_At_Present_Employment', 'Inst_Rt_Income',\n",
              "       'Marital_Status_Gender', 'Other_Debtors_Guarantors',\n",
              "       'Current_Address_Yrs', 'Property', 'Age', 'Other_Inst_Plans ',\n",
              "       'Housing', 'Num_CC', 'Job', 'Dependents', 'Telephone', 'Foreign_Worker',\n",
              "       'Default_On_Payment', 'Count'],\n",
              "      dtype='object')"
            ]
          },
          "metadata": {
            "tags": []
          },
          "execution_count": 79
        }
      ]
    },
    {
      "cell_type": "markdown",
      "metadata": {
        "id": "6QXkfOA61tNQ",
        "colab_type": "text"
      },
      "source": [
        "Next, let's try to group them into subgroups using python lists. \n",
        "<br>\n",
        "For exanmple we can have a list for bio-data, one for financial date and so on"
      ]
    },
    {
      "cell_type": "code",
      "metadata": {
        "id": "LEf7hgrI1o5J",
        "colab_type": "code",
        "colab": {}
      },
      "source": [
        "customer_data = ['Customer_ID', 'Marital_Status_Gender', 'Age', 'Dependents', 'Housing','Telephone', 'Property','Current_Address_Yrs']\n",
        "\n",
        "job_and_personal_finance = ['Job', 'Foreign_Worker', 'Years_At_Present_Employment', 'Savings_Acc','Status_Checking_Acc', 'Credit_History']\n",
        "\n",
        "loan_credit_data = ['Credit_Amount', 'Purposre_Credit_Taken', 'Duration_in_Months','Inst_Rt_Income','Other_Debtors_Guarantors','Other_Inst_Plans ','Num_CC','Default_On_Payment', \"Count\"]"
      ],
      "execution_count": 0,
      "outputs": []
    },
    {
      "cell_type": "markdown",
      "metadata": {
        "id": "rAyfKQVX9bwN",
        "colab_type": "text"
      },
      "source": [
        "The above process is highly manual and subject to errors let's confirm we made no errors before assigning the order"
      ]
    },
    {
      "cell_type": "code",
      "metadata": {
        "id": "QNzePw-j9pgk",
        "colab_type": "code",
        "colab": {
          "base_uri": "https://localhost:8080/",
          "height": 34
        },
        "outputId": "812ad121-dd60-4de3-97b0-423fefb22a92"
      },
      "source": [
        "# lets concatenate the lists\n",
        "\n",
        "columns = customer_data + job_and_personal_finance + loan_credit_data\n",
        "\n",
        "# Let's check we did not omit any column\n",
        "\n",
        "set(loan_df.columns).difference(set(columns))"
      ],
      "execution_count": 92,
      "outputs": [
        {
          "output_type": "execute_result",
          "data": {
            "text/plain": [
              "set()"
            ]
          },
          "metadata": {
            "tags": []
          },
          "execution_count": 92
        }
      ]
    },
    {
      "cell_type": "markdown",
      "metadata": {
        "id": "xUftRy5n-sLW",
        "colab_type": "text"
      },
      "source": [
        "The empty set returned above means no difference and we did not omit any thing. so let's go ahead and re-order the columns"
      ]
    },
    {
      "cell_type": "code",
      "metadata": {
        "id": "qRHiLbC82b3_",
        "colab_type": "code",
        "colab": {
          "base_uri": "https://localhost:8080/",
          "height": 156
        },
        "outputId": "848a7fdd-eb24-4c63-82f1-49dbff96a9fd"
      },
      "source": [
        "loan_df = loan_df[columns]\n",
        "\n",
        "loan_df.head(3)"
      ],
      "execution_count": 93,
      "outputs": [
        {
          "output_type": "execute_result",
          "data": {
            "text/html": [
              "<div>\n",
              "<style scoped>\n",
              "    .dataframe tbody tr th:only-of-type {\n",
              "        vertical-align: middle;\n",
              "    }\n",
              "\n",
              "    .dataframe tbody tr th {\n",
              "        vertical-align: top;\n",
              "    }\n",
              "\n",
              "    .dataframe thead th {\n",
              "        text-align: right;\n",
              "    }\n",
              "</style>\n",
              "<table border=\"1\" class=\"dataframe\">\n",
              "  <thead>\n",
              "    <tr style=\"text-align: right;\">\n",
              "      <th></th>\n",
              "      <th>Customer_ID</th>\n",
              "      <th>Marital_Status_Gender</th>\n",
              "      <th>Age</th>\n",
              "      <th>Dependents</th>\n",
              "      <th>Housing</th>\n",
              "      <th>Telephone</th>\n",
              "      <th>Property</th>\n",
              "      <th>Current_Address_Yrs</th>\n",
              "      <th>Job</th>\n",
              "      <th>Foreign_Worker</th>\n",
              "      <th>Years_At_Present_Employment</th>\n",
              "      <th>Savings_Acc</th>\n",
              "      <th>Status_Checking_Acc</th>\n",
              "      <th>Credit_History</th>\n",
              "      <th>Credit_Amount</th>\n",
              "      <th>Purposre_Credit_Taken</th>\n",
              "      <th>Duration_in_Months</th>\n",
              "      <th>Inst_Rt_Income</th>\n",
              "      <th>Other_Debtors_Guarantors</th>\n",
              "      <th>Other_Inst_Plans</th>\n",
              "      <th>Num_CC</th>\n",
              "      <th>Default_On_Payment</th>\n",
              "      <th>Count</th>\n",
              "    </tr>\n",
              "  </thead>\n",
              "  <tbody>\n",
              "    <tr>\n",
              "      <th>0</th>\n",
              "      <td>100001</td>\n",
              "      <td>A93</td>\n",
              "      <td>67</td>\n",
              "      <td>1</td>\n",
              "      <td>A152</td>\n",
              "      <td>A192</td>\n",
              "      <td>A121</td>\n",
              "      <td>4</td>\n",
              "      <td>A173</td>\n",
              "      <td>A201</td>\n",
              "      <td>A75</td>\n",
              "      <td>A65</td>\n",
              "      <td>A11</td>\n",
              "      <td>A34</td>\n",
              "      <td>1169</td>\n",
              "      <td>A43</td>\n",
              "      <td>6</td>\n",
              "      <td>4</td>\n",
              "      <td>A101</td>\n",
              "      <td>A143</td>\n",
              "      <td>2</td>\n",
              "      <td>0</td>\n",
              "      <td>1</td>\n",
              "    </tr>\n",
              "    <tr>\n",
              "      <th>1</th>\n",
              "      <td>100002</td>\n",
              "      <td>A92</td>\n",
              "      <td>22</td>\n",
              "      <td>1</td>\n",
              "      <td>A152</td>\n",
              "      <td>A191</td>\n",
              "      <td>A121</td>\n",
              "      <td>2</td>\n",
              "      <td>A173</td>\n",
              "      <td>A201</td>\n",
              "      <td>A73</td>\n",
              "      <td>A61</td>\n",
              "      <td>A12</td>\n",
              "      <td>A32</td>\n",
              "      <td>5951</td>\n",
              "      <td>A43</td>\n",
              "      <td>48</td>\n",
              "      <td>2</td>\n",
              "      <td>A101</td>\n",
              "      <td>A143</td>\n",
              "      <td>1</td>\n",
              "      <td>0</td>\n",
              "      <td>1</td>\n",
              "    </tr>\n",
              "    <tr>\n",
              "      <th>2</th>\n",
              "      <td>100003</td>\n",
              "      <td>A93</td>\n",
              "      <td>49</td>\n",
              "      <td>2</td>\n",
              "      <td>A152</td>\n",
              "      <td>A191</td>\n",
              "      <td>A121</td>\n",
              "      <td>3</td>\n",
              "      <td>A172</td>\n",
              "      <td>A201</td>\n",
              "      <td>A74</td>\n",
              "      <td>A61</td>\n",
              "      <td>A14</td>\n",
              "      <td>A34</td>\n",
              "      <td>2096</td>\n",
              "      <td>A46</td>\n",
              "      <td>12</td>\n",
              "      <td>2</td>\n",
              "      <td>A101</td>\n",
              "      <td>A143</td>\n",
              "      <td>1</td>\n",
              "      <td>0</td>\n",
              "      <td>1</td>\n",
              "    </tr>\n",
              "  </tbody>\n",
              "</table>\n",
              "</div>"
            ],
            "text/plain": [
              "   Customer_ID Marital_Status_Gender  Age  ...  Num_CC Default_On_Payment Count\n",
              "0       100001                   A93   67  ...       2                  0     1\n",
              "1       100002                   A92   22  ...       1                  0     1\n",
              "2       100003                   A93   49  ...       1                  0     1\n",
              "\n",
              "[3 rows x 23 columns]"
            ]
          },
          "metadata": {
            "tags": []
          },
          "execution_count": 93
        }
      ]
    },
    {
      "cell_type": "markdown",
      "metadata": {
        "id": "n_zpaPeACcEP",
        "colab_type": "text"
      },
      "source": [
        "Next let's strip off any ending or trailing white spaces, incase we mistakenly left any during the manual re-ordering process "
      ]
    },
    {
      "cell_type": "code",
      "metadata": {
        "id": "6xkTbWaB2cZg",
        "colab_type": "code",
        "colab": {
          "base_uri": "https://localhost:8080/",
          "height": 156
        },
        "outputId": "37af624b-45f5-4f03-c3e1-d1ffcd273da7"
      },
      "source": [
        "for i in loan_df.columns:\n",
        "    loan_df[i].replace(i, i.strip(' '), inplace=True)\n",
        "    \n",
        "loan_df.head(3)"
      ],
      "execution_count": 99,
      "outputs": [
        {
          "output_type": "execute_result",
          "data": {
            "text/html": [
              "<div>\n",
              "<style scoped>\n",
              "    .dataframe tbody tr th:only-of-type {\n",
              "        vertical-align: middle;\n",
              "    }\n",
              "\n",
              "    .dataframe tbody tr th {\n",
              "        vertical-align: top;\n",
              "    }\n",
              "\n",
              "    .dataframe thead th {\n",
              "        text-align: right;\n",
              "    }\n",
              "</style>\n",
              "<table border=\"1\" class=\"dataframe\">\n",
              "  <thead>\n",
              "    <tr style=\"text-align: right;\">\n",
              "      <th></th>\n",
              "      <th>Customer_ID</th>\n",
              "      <th>Marital_Status_Gender</th>\n",
              "      <th>Age</th>\n",
              "      <th>Dependents</th>\n",
              "      <th>Housing</th>\n",
              "      <th>Telephone</th>\n",
              "      <th>Property</th>\n",
              "      <th>Current_Address_Yrs</th>\n",
              "      <th>Job</th>\n",
              "      <th>Foreign_Worker</th>\n",
              "      <th>Years_At_Present_Employment</th>\n",
              "      <th>Savings_Acc</th>\n",
              "      <th>Status_Checking_Acc</th>\n",
              "      <th>Credit_History</th>\n",
              "      <th>Credit_Amount</th>\n",
              "      <th>Purposre_Credit_Taken</th>\n",
              "      <th>Duration_in_Months</th>\n",
              "      <th>Inst_Rt_Income</th>\n",
              "      <th>Other_Debtors_Guarantors</th>\n",
              "      <th>Other_Inst_Plans</th>\n",
              "      <th>Num_CC</th>\n",
              "      <th>Default_On_Payment</th>\n",
              "      <th>Count</th>\n",
              "    </tr>\n",
              "  </thead>\n",
              "  <tbody>\n",
              "    <tr>\n",
              "      <th>0</th>\n",
              "      <td>100001</td>\n",
              "      <td>A93</td>\n",
              "      <td>67</td>\n",
              "      <td>1</td>\n",
              "      <td>A152</td>\n",
              "      <td>A192</td>\n",
              "      <td>A121</td>\n",
              "      <td>4</td>\n",
              "      <td>A173</td>\n",
              "      <td>A201</td>\n",
              "      <td>A75</td>\n",
              "      <td>A65</td>\n",
              "      <td>A11</td>\n",
              "      <td>A34</td>\n",
              "      <td>1169</td>\n",
              "      <td>A43</td>\n",
              "      <td>6</td>\n",
              "      <td>4</td>\n",
              "      <td>A101</td>\n",
              "      <td>A143</td>\n",
              "      <td>2</td>\n",
              "      <td>0</td>\n",
              "      <td>1</td>\n",
              "    </tr>\n",
              "    <tr>\n",
              "      <th>1</th>\n",
              "      <td>100002</td>\n",
              "      <td>A92</td>\n",
              "      <td>22</td>\n",
              "      <td>1</td>\n",
              "      <td>A152</td>\n",
              "      <td>A191</td>\n",
              "      <td>A121</td>\n",
              "      <td>2</td>\n",
              "      <td>A173</td>\n",
              "      <td>A201</td>\n",
              "      <td>A73</td>\n",
              "      <td>A61</td>\n",
              "      <td>A12</td>\n",
              "      <td>A32</td>\n",
              "      <td>5951</td>\n",
              "      <td>A43</td>\n",
              "      <td>48</td>\n",
              "      <td>2</td>\n",
              "      <td>A101</td>\n",
              "      <td>A143</td>\n",
              "      <td>1</td>\n",
              "      <td>0</td>\n",
              "      <td>1</td>\n",
              "    </tr>\n",
              "    <tr>\n",
              "      <th>2</th>\n",
              "      <td>100003</td>\n",
              "      <td>A93</td>\n",
              "      <td>49</td>\n",
              "      <td>2</td>\n",
              "      <td>A152</td>\n",
              "      <td>A191</td>\n",
              "      <td>A121</td>\n",
              "      <td>3</td>\n",
              "      <td>A172</td>\n",
              "      <td>A201</td>\n",
              "      <td>A74</td>\n",
              "      <td>A61</td>\n",
              "      <td>A14</td>\n",
              "      <td>A34</td>\n",
              "      <td>2096</td>\n",
              "      <td>A46</td>\n",
              "      <td>12</td>\n",
              "      <td>2</td>\n",
              "      <td>A101</td>\n",
              "      <td>A143</td>\n",
              "      <td>1</td>\n",
              "      <td>0</td>\n",
              "      <td>1</td>\n",
              "    </tr>\n",
              "  </tbody>\n",
              "</table>\n",
              "</div>"
            ],
            "text/plain": [
              "   Customer_ID Marital_Status_Gender  Age  ...  Num_CC Default_On_Payment Count\n",
              "0       100001                   A93   67  ...       2                  0     1\n",
              "1       100002                   A92   22  ...       1                  0     1\n",
              "2       100003                   A93   49  ...       1                  0     1\n",
              "\n",
              "[3 rows x 23 columns]"
            ]
          },
          "metadata": {
            "tags": []
          },
          "execution_count": 99
        }
      ]
    },
    {
      "cell_type": "markdown",
      "metadata": {
        "id": "x-4XSnHb_S9G",
        "colab_type": "text"
      },
      "source": [
        "This is beautiful our loan_df columns are ordered in a logical fashion, let's start feature binarization and pre-processing"
      ]
    }
  ]
}