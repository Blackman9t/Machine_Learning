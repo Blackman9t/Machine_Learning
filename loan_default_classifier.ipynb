{
  "nbformat": 4,
  "nbformat_minor": 0,
  "metadata": {
    "colab": {
      "name": "loan_default_classifier.ipynb",
      "provenance": [],
      "collapsed_sections": [],
      "include_colab_link": true
    },
    "kernelspec": {
      "name": "python3",
      "display_name": "Python 3"
    },
    "accelerator": "GPU"
  },
  "cells": [
    {
      "cell_type": "markdown",
      "metadata": {
        "id": "view-in-github",
        "colab_type": "text"
      },
      "source": [
        "<a href=\"https://colab.research.google.com/github/Blackman9t/Machine_Learning/blob/master/loan_default_classifier.ipynb\" target=\"_parent\"><img src=\"https://colab.research.google.com/assets/colab-badge.svg\" alt=\"Open In Colab\"/></a>"
      ]
    },
    {
      "cell_type": "markdown",
      "metadata": {
        "id": "vgqAK0YFlgX_",
        "colab_type": "text"
      },
      "source": [
        "<h1 align=\"center\"><font size=\"6\">Classification with Python</font></h1>"
      ]
    },
    {
      "cell_type": "markdown",
      "metadata": {
        "id": "TSUU7S1dl_Jk",
        "colab_type": "text"
      },
      "source": [
        "In this notebook we try to classify bank customers into possible loan-defaulters or non-defaulters using a bunch of classifier algorithms.<br>\n",
        "We shall use The following algorithms:-<br>\n",
        "K-Nearest-Neighbour(KNN) Classifier<br>\n",
        "Logistic Regression Classifier<br>\n",
        "Support Vector Machine Classifier<br>\n",
        "Decision Trees Classifier<br>\n",
        "\n",
        "We load a dataset using Pandas library, and apply the following algorithms, and find the best one for this specific dataset by accuracy evaluation methods.\n",
        "\n",
        "Lets first load required libraries:"
      ]
    },
    {
      "cell_type": "code",
      "metadata": {
        "id": "u4LYRKCXlS4m",
        "colab_type": "code",
        "outputId": "06f9740a-c780-49a1-b52e-9dd4de5a4fd3",
        "colab": {
          "base_uri": "https://localhost:8080/",
          "height": 52
        }
      },
      "source": [
        "#@title Default title text\n",
        "import itertools\n",
        "import numpy as np\n",
        "import matplotlib.pyplot as plt\n",
        "from matplotlib.ticker import NullFormatter\n",
        "import pandas as pd\n",
        "import numpy as np\n",
        "import matplotlib.ticker as ticker\n",
        "import seaborn as sns\n",
        "from sklearn import preprocessing\n",
        "%matplotlib inline"
      ],
      "execution_count": 1,
      "outputs": [
        {
          "output_type": "stream",
          "text": [
            "/usr/local/lib/python3.6/dist-packages/statsmodels/tools/_testing.py:19: FutureWarning: pandas.util.testing is deprecated. Use the functions in the public API at pandas.testing instead.\n",
            "  import pandas.util.testing as tm\n"
          ],
          "name": "stderr"
        }
      ]
    },
    {
      "cell_type": "markdown",
      "metadata": {
        "id": "hz82YkvZ6eGG",
        "colab_type": "text"
      },
      "source": [
        "Let's now import libraries to evaluate the models we would build soon"
      ]
    },
    {
      "cell_type": "code",
      "metadata": {
        "id": "ZvxZr3ee6plF",
        "colab_type": "code",
        "colab": {}
      },
      "source": [
        "from sklearn.metrics import f1_score, confusion_matrix, log_loss, roc_auc_score, accuracy_score, classification_report"
      ],
      "execution_count": 0,
      "outputs": []
    },
    {
      "cell_type": "markdown",
      "metadata": {
        "id": "NjqG6zM9m_sI",
        "colab_type": "text"
      },
      "source": [
        "The data set we shall use is from Credit One Bank and it's in Kaggle and can be  seen along side its data dictionary via this [link](https://www.kaggle.com/dataforyou/bankloan)<br>\n",
        "Please open the link above to the data dictionary so that we know exactly what each coded categorical data stands for.\n",
        "\n",
        "The raw file can be read straight from github via this [link](https://github.com/Blackman9t/Machine_Learning/blob/master/Loan_Data%20for%20Classification.xlsx?raw=true')"
      ]
    },
    {
      "cell_type": "code",
      "metadata": {
        "id": "mQe62hUWnOxx",
        "colab_type": "code",
        "colab": {}
      },
      "source": [
        "data = 'https://github.com/Blackman9t/Machine_Learning/blob/master/Loan_Data%20for%20Classification.xlsx?raw=true'"
      ],
      "execution_count": 0,
      "outputs": []
    },
    {
      "cell_type": "markdown",
      "metadata": {
        "id": "s0nc5t_gn_JP",
        "colab_type": "text"
      },
      "source": [
        "Reading the raw file to a data frame and setting row 2 as the header, since I first viewed the file in excel.<br>\n",
        "\n",
        "Let's define additional NaN values that pandas may not see"
      ]
    },
    {
      "cell_type": "code",
      "metadata": {
        "id": "YQHYKJGorrrP",
        "colab_type": "code",
        "colab": {}
      },
      "source": [
        "additional_nan_values = ['n/a', '--','?','None','Non','non','none']"
      ],
      "execution_count": 0,
      "outputs": []
    },
    {
      "cell_type": "code",
      "metadata": {
        "id": "UqOKNI8Cn9c-",
        "colab_type": "code",
        "outputId": "bc3a18d5-5998-43c5-adb4-0597586bda83",
        "colab": {
          "base_uri": "https://localhost:8080/",
          "height": 214
        }
      },
      "source": [
        "loan_df = pd.read_excel(data, header=2, na_values=additional_nan_values)\n",
        "\n",
        "loan_df.head()"
      ],
      "execution_count": 5,
      "outputs": [
        {
          "output_type": "execute_result",
          "data": {
            "text/html": [
              "<div>\n",
              "<style scoped>\n",
              "    .dataframe tbody tr th:only-of-type {\n",
              "        vertical-align: middle;\n",
              "    }\n",
              "\n",
              "    .dataframe tbody tr th {\n",
              "        vertical-align: top;\n",
              "    }\n",
              "\n",
              "    .dataframe thead th {\n",
              "        text-align: right;\n",
              "    }\n",
              "</style>\n",
              "<table border=\"1\" class=\"dataframe\">\n",
              "  <thead>\n",
              "    <tr style=\"text-align: right;\">\n",
              "      <th></th>\n",
              "      <th>Customer_ID</th>\n",
              "      <th>Status_Checking_Acc</th>\n",
              "      <th>Duration_in_Months</th>\n",
              "      <th>Credit_History</th>\n",
              "      <th>Purposre_Credit_Taken</th>\n",
              "      <th>Credit_Amount</th>\n",
              "      <th>Savings_Acc</th>\n",
              "      <th>Years_At_Present_Employment</th>\n",
              "      <th>Inst_Rt_Income</th>\n",
              "      <th>Marital_Status_Gender</th>\n",
              "      <th>Other_Debtors_Guarantors</th>\n",
              "      <th>Current_Address_Yrs</th>\n",
              "      <th>Property</th>\n",
              "      <th>Age</th>\n",
              "      <th>Other_Inst_Plans</th>\n",
              "      <th>Housing</th>\n",
              "      <th>Num_CC</th>\n",
              "      <th>Job</th>\n",
              "      <th>Dependents</th>\n",
              "      <th>Telephone</th>\n",
              "      <th>Foreign_Worker</th>\n",
              "      <th>Default_On_Payment</th>\n",
              "      <th>Count</th>\n",
              "    </tr>\n",
              "  </thead>\n",
              "  <tbody>\n",
              "    <tr>\n",
              "      <th>0</th>\n",
              "      <td>100001</td>\n",
              "      <td>A11</td>\n",
              "      <td>6</td>\n",
              "      <td>A34</td>\n",
              "      <td>A43</td>\n",
              "      <td>1169</td>\n",
              "      <td>A65</td>\n",
              "      <td>A75</td>\n",
              "      <td>4</td>\n",
              "      <td>A93</td>\n",
              "      <td>A101</td>\n",
              "      <td>4</td>\n",
              "      <td>A121</td>\n",
              "      <td>67</td>\n",
              "      <td>A143</td>\n",
              "      <td>A152</td>\n",
              "      <td>2</td>\n",
              "      <td>A173</td>\n",
              "      <td>1</td>\n",
              "      <td>A192</td>\n",
              "      <td>A201</td>\n",
              "      <td>0</td>\n",
              "      <td>1</td>\n",
              "    </tr>\n",
              "    <tr>\n",
              "      <th>1</th>\n",
              "      <td>100002</td>\n",
              "      <td>A12</td>\n",
              "      <td>48</td>\n",
              "      <td>A32</td>\n",
              "      <td>A43</td>\n",
              "      <td>5951</td>\n",
              "      <td>A61</td>\n",
              "      <td>A73</td>\n",
              "      <td>2</td>\n",
              "      <td>A92</td>\n",
              "      <td>A101</td>\n",
              "      <td>2</td>\n",
              "      <td>A121</td>\n",
              "      <td>22</td>\n",
              "      <td>A143</td>\n",
              "      <td>A152</td>\n",
              "      <td>1</td>\n",
              "      <td>A173</td>\n",
              "      <td>1</td>\n",
              "      <td>A191</td>\n",
              "      <td>A201</td>\n",
              "      <td>0</td>\n",
              "      <td>1</td>\n",
              "    </tr>\n",
              "    <tr>\n",
              "      <th>2</th>\n",
              "      <td>100003</td>\n",
              "      <td>A14</td>\n",
              "      <td>12</td>\n",
              "      <td>A34</td>\n",
              "      <td>A46</td>\n",
              "      <td>2096</td>\n",
              "      <td>A61</td>\n",
              "      <td>A74</td>\n",
              "      <td>2</td>\n",
              "      <td>A93</td>\n",
              "      <td>A101</td>\n",
              "      <td>3</td>\n",
              "      <td>A121</td>\n",
              "      <td>49</td>\n",
              "      <td>A143</td>\n",
              "      <td>A152</td>\n",
              "      <td>1</td>\n",
              "      <td>A172</td>\n",
              "      <td>2</td>\n",
              "      <td>A191</td>\n",
              "      <td>A201</td>\n",
              "      <td>0</td>\n",
              "      <td>1</td>\n",
              "    </tr>\n",
              "    <tr>\n",
              "      <th>3</th>\n",
              "      <td>100004</td>\n",
              "      <td>A11</td>\n",
              "      <td>42</td>\n",
              "      <td>A32</td>\n",
              "      <td>A42</td>\n",
              "      <td>7882</td>\n",
              "      <td>A61</td>\n",
              "      <td>A74</td>\n",
              "      <td>2</td>\n",
              "      <td>A93</td>\n",
              "      <td>A103</td>\n",
              "      <td>4</td>\n",
              "      <td>A122</td>\n",
              "      <td>45</td>\n",
              "      <td>A143</td>\n",
              "      <td>A153</td>\n",
              "      <td>1</td>\n",
              "      <td>A173</td>\n",
              "      <td>2</td>\n",
              "      <td>A191</td>\n",
              "      <td>A201</td>\n",
              "      <td>0</td>\n",
              "      <td>1</td>\n",
              "    </tr>\n",
              "    <tr>\n",
              "      <th>4</th>\n",
              "      <td>100005</td>\n",
              "      <td>A11</td>\n",
              "      <td>24</td>\n",
              "      <td>A33</td>\n",
              "      <td>A40</td>\n",
              "      <td>4870</td>\n",
              "      <td>A61</td>\n",
              "      <td>A73</td>\n",
              "      <td>3</td>\n",
              "      <td>A93</td>\n",
              "      <td>A101</td>\n",
              "      <td>4</td>\n",
              "      <td>A124</td>\n",
              "      <td>53</td>\n",
              "      <td>A143</td>\n",
              "      <td>A153</td>\n",
              "      <td>2</td>\n",
              "      <td>A173</td>\n",
              "      <td>2</td>\n",
              "      <td>A191</td>\n",
              "      <td>A201</td>\n",
              "      <td>1</td>\n",
              "      <td>1</td>\n",
              "    </tr>\n",
              "  </tbody>\n",
              "</table>\n",
              "</div>"
            ],
            "text/plain": [
              "   Customer_ID Status_Checking_Acc  ...  Default_On_Payment Count\n",
              "0       100001                 A11  ...                   0     1\n",
              "1       100002                 A12  ...                   0     1\n",
              "2       100003                 A14  ...                   0     1\n",
              "3       100004                 A11  ...                   0     1\n",
              "4       100005                 A11  ...                   1     1\n",
              "\n",
              "[5 rows x 23 columns]"
            ]
          },
          "metadata": {
            "tags": []
          },
          "execution_count": 5
        }
      ]
    },
    {
      "cell_type": "code",
      "metadata": {
        "id": "0PSJvRpGmg8e",
        "colab_type": "code",
        "colab": {}
      },
      "source": [
        ""
      ],
      "execution_count": 0,
      "outputs": []
    },
    {
      "cell_type": "markdown",
      "metadata": {
        "id": "0t-XhroDpPe4",
        "colab_type": "text"
      },
      "source": [
        "Let's check the shape"
      ]
    },
    {
      "cell_type": "code",
      "metadata": {
        "id": "a-WtSPhRpWr1",
        "colab_type": "code",
        "outputId": "8cc814ad-c0a1-4742-e904-de718f237076",
        "colab": {
          "base_uri": "https://localhost:8080/",
          "height": 35
        }
      },
      "source": [
        "loan_df.shape"
      ],
      "execution_count": 6,
      "outputs": [
        {
          "output_type": "execute_result",
          "data": {
            "text/plain": [
              "(5000, 23)"
            ]
          },
          "metadata": {
            "tags": []
          },
          "execution_count": 6
        }
      ]
    },
    {
      "cell_type": "markdown",
      "metadata": {
        "id": "NwSPvMJLphiQ",
        "colab_type": "text"
      },
      "source": [
        "Shape is 5000 rows and 23 columns. <br>Pay attention to the data, it has  a lot of alpha-numeric notations<br>The best bet is to open the data dictionary via this [link](https://www.kaggle.com/dataforyou/bankloan) to a browser so one can understand what each notation stands for.\n",
        "\n",
        ">>\n",
        "\n",
        "Let's check the info and dtypes"
      ]
    },
    {
      "cell_type": "code",
      "metadata": {
        "id": "RM0NWwkqqFPX",
        "colab_type": "code",
        "outputId": "57d61431-b570-4156-c05a-ec90f3dbeb99",
        "colab": {
          "base_uri": "https://localhost:8080/",
          "height": 550
        }
      },
      "source": [
        "loan_df.info()"
      ],
      "execution_count": 7,
      "outputs": [
        {
          "output_type": "stream",
          "text": [
            "<class 'pandas.core.frame.DataFrame'>\n",
            "RangeIndex: 5000 entries, 0 to 4999\n",
            "Data columns (total 23 columns):\n",
            " #   Column                       Non-Null Count  Dtype \n",
            "---  ------                       --------------  ----- \n",
            " 0   Customer_ID                  5000 non-null   int64 \n",
            " 1   Status_Checking_Acc          5000 non-null   object\n",
            " 2   Duration_in_Months           5000 non-null   int64 \n",
            " 3   Credit_History               5000 non-null   object\n",
            " 4   Purposre_Credit_Taken        5000 non-null   object\n",
            " 5   Credit_Amount                5000 non-null   int64 \n",
            " 6   Savings_Acc                  5000 non-null   object\n",
            " 7   Years_At_Present_Employment  5000 non-null   object\n",
            " 8   Inst_Rt_Income               5000 non-null   int64 \n",
            " 9   Marital_Status_Gender        5000 non-null   object\n",
            " 10  Other_Debtors_Guarantors     5000 non-null   object\n",
            " 11  Current_Address_Yrs          5000 non-null   int64 \n",
            " 12  Property                     5000 non-null   object\n",
            " 13  Age                          5000 non-null   int64 \n",
            " 14  Other_Inst_Plans             5000 non-null   object\n",
            " 15  Housing                      5000 non-null   object\n",
            " 16  Num_CC                       5000 non-null   int64 \n",
            " 17  Job                          5000 non-null   object\n",
            " 18  Dependents                   5000 non-null   int64 \n",
            " 19  Telephone                    5000 non-null   object\n",
            " 20  Foreign_Worker               5000 non-null   object\n",
            " 21  Default_On_Payment           5000 non-null   int64 \n",
            " 22  Count                        5000 non-null   int64 \n",
            "dtypes: int64(10), object(13)\n",
            "memory usage: 898.6+ KB\n"
          ],
          "name": "stdout"
        }
      ]
    },
    {
      "cell_type": "markdown",
      "metadata": {
        "id": "Uo_gigzLq7aM",
        "colab_type": "text"
      },
      "source": [
        "Let's check the stats for columns of object dtype and transpose it for readability"
      ]
    },
    {
      "cell_type": "code",
      "metadata": {
        "id": "ILF_NwsMqkz3",
        "colab_type": "code",
        "outputId": "11635b41-3b4b-4470-90ed-4604b3ac43b7",
        "colab": {
          "base_uri": "https://localhost:8080/",
          "height": 428
        }
      },
      "source": [
        "loan_df.describe(include=['object','category']).T"
      ],
      "execution_count": 8,
      "outputs": [
        {
          "output_type": "execute_result",
          "data": {
            "text/html": [
              "<div>\n",
              "<style scoped>\n",
              "    .dataframe tbody tr th:only-of-type {\n",
              "        vertical-align: middle;\n",
              "    }\n",
              "\n",
              "    .dataframe tbody tr th {\n",
              "        vertical-align: top;\n",
              "    }\n",
              "\n",
              "    .dataframe thead th {\n",
              "        text-align: right;\n",
              "    }\n",
              "</style>\n",
              "<table border=\"1\" class=\"dataframe\">\n",
              "  <thead>\n",
              "    <tr style=\"text-align: right;\">\n",
              "      <th></th>\n",
              "      <th>count</th>\n",
              "      <th>unique</th>\n",
              "      <th>top</th>\n",
              "      <th>freq</th>\n",
              "    </tr>\n",
              "  </thead>\n",
              "  <tbody>\n",
              "    <tr>\n",
              "      <th>Status_Checking_Acc</th>\n",
              "      <td>5000</td>\n",
              "      <td>4</td>\n",
              "      <td>A14</td>\n",
              "      <td>1970</td>\n",
              "    </tr>\n",
              "    <tr>\n",
              "      <th>Credit_History</th>\n",
              "      <td>5000</td>\n",
              "      <td>5</td>\n",
              "      <td>A32</td>\n",
              "      <td>2650</td>\n",
              "    </tr>\n",
              "    <tr>\n",
              "      <th>Purposre_Credit_Taken</th>\n",
              "      <td>5000</td>\n",
              "      <td>10</td>\n",
              "      <td>A43</td>\n",
              "      <td>1400</td>\n",
              "    </tr>\n",
              "    <tr>\n",
              "      <th>Savings_Acc</th>\n",
              "      <td>5000</td>\n",
              "      <td>5</td>\n",
              "      <td>A61</td>\n",
              "      <td>3015</td>\n",
              "    </tr>\n",
              "    <tr>\n",
              "      <th>Years_At_Present_Employment</th>\n",
              "      <td>5000</td>\n",
              "      <td>5</td>\n",
              "      <td>A73</td>\n",
              "      <td>1695</td>\n",
              "    </tr>\n",
              "    <tr>\n",
              "      <th>Marital_Status_Gender</th>\n",
              "      <td>5000</td>\n",
              "      <td>4</td>\n",
              "      <td>A93</td>\n",
              "      <td>2740</td>\n",
              "    </tr>\n",
              "    <tr>\n",
              "      <th>Other_Debtors_Guarantors</th>\n",
              "      <td>5000</td>\n",
              "      <td>3</td>\n",
              "      <td>A101</td>\n",
              "      <td>4535</td>\n",
              "    </tr>\n",
              "    <tr>\n",
              "      <th>Property</th>\n",
              "      <td>5000</td>\n",
              "      <td>4</td>\n",
              "      <td>A123</td>\n",
              "      <td>1660</td>\n",
              "    </tr>\n",
              "    <tr>\n",
              "      <th>Other_Inst_Plans</th>\n",
              "      <td>5000</td>\n",
              "      <td>3</td>\n",
              "      <td>A143</td>\n",
              "      <td>4070</td>\n",
              "    </tr>\n",
              "    <tr>\n",
              "      <th>Housing</th>\n",
              "      <td>5000</td>\n",
              "      <td>3</td>\n",
              "      <td>A152</td>\n",
              "      <td>3565</td>\n",
              "    </tr>\n",
              "    <tr>\n",
              "      <th>Job</th>\n",
              "      <td>5000</td>\n",
              "      <td>4</td>\n",
              "      <td>A173</td>\n",
              "      <td>3150</td>\n",
              "    </tr>\n",
              "    <tr>\n",
              "      <th>Telephone</th>\n",
              "      <td>5000</td>\n",
              "      <td>2</td>\n",
              "      <td>A191</td>\n",
              "      <td>2980</td>\n",
              "    </tr>\n",
              "    <tr>\n",
              "      <th>Foreign_Worker</th>\n",
              "      <td>5000</td>\n",
              "      <td>2</td>\n",
              "      <td>A201</td>\n",
              "      <td>4815</td>\n",
              "    </tr>\n",
              "  </tbody>\n",
              "</table>\n",
              "</div>"
            ],
            "text/plain": [
              "                            count unique   top  freq\n",
              "Status_Checking_Acc          5000      4   A14  1970\n",
              "Credit_History               5000      5   A32  2650\n",
              "Purposre_Credit_Taken        5000     10   A43  1400\n",
              "Savings_Acc                  5000      5   A61  3015\n",
              "Years_At_Present_Employment  5000      5   A73  1695\n",
              "Marital_Status_Gender        5000      4   A93  2740\n",
              "Other_Debtors_Guarantors     5000      3  A101  4535\n",
              "Property                     5000      4  A123  1660\n",
              "Other_Inst_Plans             5000      3  A143  4070\n",
              "Housing                      5000      3  A152  3565\n",
              "Job                          5000      4  A173  3150\n",
              "Telephone                    5000      2  A191  2980\n",
              "Foreign_Worker               5000      2  A201  4815"
            ]
          },
          "metadata": {
            "tags": []
          },
          "execution_count": 8
        }
      ]
    },
    {
      "cell_type": "markdown",
      "metadata": {
        "id": "-D8JlANlrJp1",
        "colab_type": "text"
      },
      "source": [
        "Now Let's check the stats for numeric  columns  and transpose it for readability"
      ]
    },
    {
      "cell_type": "code",
      "metadata": {
        "id": "i0heOSdFrOt4",
        "colab_type": "code",
        "outputId": "c5731ef2-c8b1-4a54-cb09-9d905667e446",
        "colab": {
          "base_uri": "https://localhost:8080/",
          "height": 340
        }
      },
      "source": [
        "loan_df.describe().T"
      ],
      "execution_count": 9,
      "outputs": [
        {
          "output_type": "execute_result",
          "data": {
            "text/html": [
              "<div>\n",
              "<style scoped>\n",
              "    .dataframe tbody tr th:only-of-type {\n",
              "        vertical-align: middle;\n",
              "    }\n",
              "\n",
              "    .dataframe tbody tr th {\n",
              "        vertical-align: top;\n",
              "    }\n",
              "\n",
              "    .dataframe thead th {\n",
              "        text-align: right;\n",
              "    }\n",
              "</style>\n",
              "<table border=\"1\" class=\"dataframe\">\n",
              "  <thead>\n",
              "    <tr style=\"text-align: right;\">\n",
              "      <th></th>\n",
              "      <th>count</th>\n",
              "      <th>mean</th>\n",
              "      <th>std</th>\n",
              "      <th>min</th>\n",
              "      <th>25%</th>\n",
              "      <th>50%</th>\n",
              "      <th>75%</th>\n",
              "      <th>max</th>\n",
              "    </tr>\n",
              "  </thead>\n",
              "  <tbody>\n",
              "    <tr>\n",
              "      <th>Customer_ID</th>\n",
              "      <td>5000.0</td>\n",
              "      <td>102500.500</td>\n",
              "      <td>1443.520003</td>\n",
              "      <td>100001.0</td>\n",
              "      <td>101250.75</td>\n",
              "      <td>102500.5</td>\n",
              "      <td>103750.25</td>\n",
              "      <td>105000.0</td>\n",
              "    </tr>\n",
              "    <tr>\n",
              "      <th>Duration_in_Months</th>\n",
              "      <td>5000.0</td>\n",
              "      <td>20.903</td>\n",
              "      <td>12.053989</td>\n",
              "      <td>4.0</td>\n",
              "      <td>12.00</td>\n",
              "      <td>18.0</td>\n",
              "      <td>24.00</td>\n",
              "      <td>72.0</td>\n",
              "    </tr>\n",
              "    <tr>\n",
              "      <th>Credit_Amount</th>\n",
              "      <td>5000.0</td>\n",
              "      <td>3271.258</td>\n",
              "      <td>2821.607329</td>\n",
              "      <td>250.0</td>\n",
              "      <td>1365.50</td>\n",
              "      <td>2319.5</td>\n",
              "      <td>3972.25</td>\n",
              "      <td>18424.0</td>\n",
              "    </tr>\n",
              "    <tr>\n",
              "      <th>Inst_Rt_Income</th>\n",
              "      <td>5000.0</td>\n",
              "      <td>2.973</td>\n",
              "      <td>1.118267</td>\n",
              "      <td>1.0</td>\n",
              "      <td>2.00</td>\n",
              "      <td>3.0</td>\n",
              "      <td>4.00</td>\n",
              "      <td>4.0</td>\n",
              "    </tr>\n",
              "    <tr>\n",
              "      <th>Current_Address_Yrs</th>\n",
              "      <td>5000.0</td>\n",
              "      <td>2.845</td>\n",
              "      <td>1.103276</td>\n",
              "      <td>1.0</td>\n",
              "      <td>2.00</td>\n",
              "      <td>3.0</td>\n",
              "      <td>4.00</td>\n",
              "      <td>4.0</td>\n",
              "    </tr>\n",
              "    <tr>\n",
              "      <th>Age</th>\n",
              "      <td>5000.0</td>\n",
              "      <td>35.546</td>\n",
              "      <td>11.370917</td>\n",
              "      <td>19.0</td>\n",
              "      <td>27.00</td>\n",
              "      <td>33.0</td>\n",
              "      <td>42.00</td>\n",
              "      <td>75.0</td>\n",
              "    </tr>\n",
              "    <tr>\n",
              "      <th>Num_CC</th>\n",
              "      <td>5000.0</td>\n",
              "      <td>1.407</td>\n",
              "      <td>0.577423</td>\n",
              "      <td>1.0</td>\n",
              "      <td>1.00</td>\n",
              "      <td>1.0</td>\n",
              "      <td>2.00</td>\n",
              "      <td>4.0</td>\n",
              "    </tr>\n",
              "    <tr>\n",
              "      <th>Dependents</th>\n",
              "      <td>5000.0</td>\n",
              "      <td>1.155</td>\n",
              "      <td>0.361941</td>\n",
              "      <td>1.0</td>\n",
              "      <td>1.00</td>\n",
              "      <td>1.0</td>\n",
              "      <td>1.00</td>\n",
              "      <td>2.0</td>\n",
              "    </tr>\n",
              "    <tr>\n",
              "      <th>Default_On_Payment</th>\n",
              "      <td>5000.0</td>\n",
              "      <td>0.299</td>\n",
              "      <td>0.457866</td>\n",
              "      <td>0.0</td>\n",
              "      <td>0.00</td>\n",
              "      <td>0.0</td>\n",
              "      <td>1.00</td>\n",
              "      <td>1.0</td>\n",
              "    </tr>\n",
              "    <tr>\n",
              "      <th>Count</th>\n",
              "      <td>5000.0</td>\n",
              "      <td>1.000</td>\n",
              "      <td>0.000000</td>\n",
              "      <td>1.0</td>\n",
              "      <td>1.00</td>\n",
              "      <td>1.0</td>\n",
              "      <td>1.00</td>\n",
              "      <td>1.0</td>\n",
              "    </tr>\n",
              "  </tbody>\n",
              "</table>\n",
              "</div>"
            ],
            "text/plain": [
              "                      count        mean  ...        75%       max\n",
              "Customer_ID          5000.0  102500.500  ...  103750.25  105000.0\n",
              "Duration_in_Months   5000.0      20.903  ...      24.00      72.0\n",
              "Credit_Amount        5000.0    3271.258  ...    3972.25   18424.0\n",
              "Inst_Rt_Income       5000.0       2.973  ...       4.00       4.0\n",
              "Current_Address_Yrs  5000.0       2.845  ...       4.00       4.0\n",
              "Age                  5000.0      35.546  ...      42.00      75.0\n",
              "Num_CC               5000.0       1.407  ...       2.00       4.0\n",
              "Dependents           5000.0       1.155  ...       1.00       2.0\n",
              "Default_On_Payment   5000.0       0.299  ...       1.00       1.0\n",
              "Count                5000.0       1.000  ...       1.00       1.0\n",
              "\n",
              "[10 rows x 8 columns]"
            ]
          },
          "metadata": {
            "tags": []
          },
          "execution_count": 9
        }
      ]
    },
    {
      "cell_type": "markdown",
      "metadata": {
        "id": "aMufdpyJsXKp",
        "colab_type": "text"
      },
      "source": [
        "No missing values atall  as both numeric and object dtype columns have complete 5000 records, but let's just confirm.<br>\n",
        "\n",
        "I also notice the count column seems to have only 1's in it and no reason why, let's consult the Data Dictionary to find out what it means  and deal with it as we pre-process the Data "
      ]
    },
    {
      "cell_type": "code",
      "metadata": {
        "id": "9bCA-zSqsgle",
        "colab_type": "code",
        "outputId": "e4cffe23-ea1b-45fe-95c6-70eeb6cd42c0",
        "colab": {
          "base_uri": "https://localhost:8080/",
          "height": 35
        }
      },
      "source": [
        "loan_df.isna().any().all()  # checking if any missing values and checking if any true value in the response"
      ],
      "execution_count": 10,
      "outputs": [
        {
          "output_type": "execute_result",
          "data": {
            "text/plain": [
              "False"
            ]
          },
          "metadata": {
            "tags": []
          },
          "execution_count": 10
        }
      ]
    },
    {
      "cell_type": "markdown",
      "metadata": {
        "id": "Tr5dvEnxtULz",
        "colab_type": "text"
      },
      "source": [
        "For a data set of 5000 rows and 23 columns, we may need to reduce it's memory consumption as we know pandas stores all floats as float64 and all int as int64 let's reduce some columns to int8 or int16, especially columns with single or double digit entries like Age"
      ]
    },
    {
      "cell_type": "code",
      "metadata": {
        "id": "-_YmerVpuHz7",
        "colab_type": "code",
        "outputId": "2b5d40e9-2fdc-4bd7-ce9b-2526cc95510c",
        "colab": {
          "base_uri": "https://localhost:8080/",
          "height": 444
        }
      },
      "source": [
        "loan_df.dtypes"
      ],
      "execution_count": 11,
      "outputs": [
        {
          "output_type": "execute_result",
          "data": {
            "text/plain": [
              "Customer_ID                     int64\n",
              "Status_Checking_Acc            object\n",
              "Duration_in_Months              int64\n",
              "Credit_History                 object\n",
              "Purposre_Credit_Taken          object\n",
              "Credit_Amount                   int64\n",
              "Savings_Acc                    object\n",
              "Years_At_Present_Employment    object\n",
              "Inst_Rt_Income                  int64\n",
              "Marital_Status_Gender          object\n",
              "Other_Debtors_Guarantors       object\n",
              "Current_Address_Yrs             int64\n",
              "Property                       object\n",
              "Age                             int64\n",
              "Other_Inst_Plans               object\n",
              "Housing                        object\n",
              "Num_CC                          int64\n",
              "Job                            object\n",
              "Dependents                      int64\n",
              "Telephone                      object\n",
              "Foreign_Worker                 object\n",
              "Default_On_Payment              int64\n",
              "Count                           int64\n",
              "dtype: object"
            ]
          },
          "metadata": {
            "tags": []
          },
          "execution_count": 11
        }
      ]
    },
    {
      "cell_type": "code",
      "metadata": {
        "id": "GOxq3gHzt5l4",
        "colab_type": "code",
        "outputId": "613dfa7e-5e6e-4b99-f197-2ffe27d85718",
        "colab": {
          "base_uri": "https://localhost:8080/",
          "height": 479
        }
      },
      "source": [
        "current_memory = loan_df.memory_usage().sum()\n",
        "print('Current memory is-', current_memory,'Bytes.')\n",
        "\n",
        "loan_df.memory_usage()"
      ],
      "execution_count": 12,
      "outputs": [
        {
          "output_type": "stream",
          "text": [
            "Current memory is- 920128 Bytes.\n"
          ],
          "name": "stdout"
        },
        {
          "output_type": "execute_result",
          "data": {
            "text/plain": [
              "Index                            128\n",
              "Customer_ID                    40000\n",
              "Status_Checking_Acc            40000\n",
              "Duration_in_Months             40000\n",
              "Credit_History                 40000\n",
              "Purposre_Credit_Taken          40000\n",
              "Credit_Amount                  40000\n",
              "Savings_Acc                    40000\n",
              "Years_At_Present_Employment    40000\n",
              "Inst_Rt_Income                 40000\n",
              "Marital_Status_Gender          40000\n",
              "Other_Debtors_Guarantors       40000\n",
              "Current_Address_Yrs            40000\n",
              "Property                       40000\n",
              "Age                            40000\n",
              "Other_Inst_Plans               40000\n",
              "Housing                        40000\n",
              "Num_CC                         40000\n",
              "Job                            40000\n",
              "Dependents                     40000\n",
              "Telephone                      40000\n",
              "Foreign_Worker                 40000\n",
              "Default_On_Payment             40000\n",
              "Count                          40000\n",
              "dtype: int64"
            ]
          },
          "metadata": {
            "tags": []
          },
          "execution_count": 12
        }
      ]
    },
    {
      "cell_type": "code",
      "metadata": {
        "id": "eBrWdiHWvWdm",
        "colab_type": "code",
        "outputId": "c61a3356-df68-4f18-9c33-ca472309d674",
        "colab": {
          "base_uri": "https://localhost:8080/",
          "height": 479
        }
      },
      "source": [
        "# let's change all these columns with a max of 2 digits to int8 to save memory\n",
        "\n",
        "loan_df[['Duration_in_Months','Inst_Rt_Income','Current_Address_Yrs','Age','Num_CC','Dependents','Default_On_Payment','Count']] = \\\n",
        "loan_df[['Duration_in_Months','Inst_Rt_Income','Current_Address_Yrs','Age','Num_CC','Dependents','Default_On_Payment','Count']].astype('int8')\n",
        "\n",
        "# Let's change Credit_Amount to 1nt16 and Customer_ID to int32 to save memory\n",
        "\n",
        "loan_df['Customer_ID'] = loan_df['Customer_ID'].astype('int32')\n",
        "loan_df['Credit_Amount'] = loan_df['Credit_Amount'].astype('int16')\n",
        "new_memory = loan_df.memory_usage().sum()\n",
        "print('New memory is-', new_memory,'Bytes.')\n",
        "\n",
        "loan_df.memory_usage()"
      ],
      "execution_count": 13,
      "outputs": [
        {
          "output_type": "stream",
          "text": [
            "New memory is- 590128 Bytes.\n"
          ],
          "name": "stdout"
        },
        {
          "output_type": "execute_result",
          "data": {
            "text/plain": [
              "Index                            128\n",
              "Customer_ID                    20000\n",
              "Status_Checking_Acc            40000\n",
              "Duration_in_Months              5000\n",
              "Credit_History                 40000\n",
              "Purposre_Credit_Taken          40000\n",
              "Credit_Amount                  10000\n",
              "Savings_Acc                    40000\n",
              "Years_At_Present_Employment    40000\n",
              "Inst_Rt_Income                  5000\n",
              "Marital_Status_Gender          40000\n",
              "Other_Debtors_Guarantors       40000\n",
              "Current_Address_Yrs             5000\n",
              "Property                       40000\n",
              "Age                             5000\n",
              "Other_Inst_Plans               40000\n",
              "Housing                        40000\n",
              "Num_CC                          5000\n",
              "Job                            40000\n",
              "Dependents                      5000\n",
              "Telephone                      40000\n",
              "Foreign_Worker                 40000\n",
              "Default_On_Payment              5000\n",
              "Count                           5000\n",
              "dtype: int64"
            ]
          },
          "metadata": {
            "tags": []
          },
          "execution_count": 13
        }
      ]
    },
    {
      "cell_type": "markdown",
      "metadata": {
        "id": "iZfrkGqv0I4x",
        "colab_type": "text"
      },
      "source": [
        "Let's see how much memory we have saved"
      ]
    },
    {
      "cell_type": "code",
      "metadata": {
        "id": "ywON8i4uy6dR",
        "colab_type": "code",
        "outputId": "616a2452-125f-460d-c4f9-bb6154f4e804",
        "colab": {
          "base_uri": "https://localhost:8080/",
          "height": 35
        }
      },
      "source": [
        "current_memory - new_memory  # We've saved 330,000 Bytes just now."
      ],
      "execution_count": 14,
      "outputs": [
        {
          "output_type": "execute_result",
          "data": {
            "text/plain": [
              "330000"
            ]
          },
          "metadata": {
            "tags": []
          },
          "execution_count": 14
        }
      ]
    },
    {
      "cell_type": "markdown",
      "metadata": {
        "id": "I0ndbPIB0qwi",
        "colab_type": "text"
      },
      "source": [
        "Next we need to organise the Data into a more logical sequence before we start any computation.<br>\n",
        "This means we arrange columns of similar meta-data together starting with categorical, then continuous columns.<br>\n",
        "Except in case where it is more sensible to put a continuous variable before a categorical one."
      ]
    },
    {
      "cell_type": "code",
      "metadata": {
        "id": "4K8tc2RV1RE7",
        "colab_type": "code",
        "outputId": "4b0e638a-e2fe-4a55-d37b-0f238cafc1b7",
        "colab": {
          "base_uri": "https://localhost:8080/",
          "height": 159
        }
      },
      "source": [
        "# Let's see the total columns in the data set\n",
        "\n",
        "loan_df.columns"
      ],
      "execution_count": 15,
      "outputs": [
        {
          "output_type": "execute_result",
          "data": {
            "text/plain": [
              "Index(['Customer_ID', 'Status_Checking_Acc', 'Duration_in_Months',\n",
              "       'Credit_History', 'Purposre_Credit_Taken', 'Credit_Amount',\n",
              "       'Savings_Acc', 'Years_At_Present_Employment', 'Inst_Rt_Income',\n",
              "       'Marital_Status_Gender', 'Other_Debtors_Guarantors',\n",
              "       'Current_Address_Yrs', 'Property', 'Age', 'Other_Inst_Plans ',\n",
              "       'Housing', 'Num_CC', 'Job', 'Dependents', 'Telephone', 'Foreign_Worker',\n",
              "       'Default_On_Payment', 'Count'],\n",
              "      dtype='object')"
            ]
          },
          "metadata": {
            "tags": []
          },
          "execution_count": 15
        }
      ]
    },
    {
      "cell_type": "markdown",
      "metadata": {
        "id": "Gvn94LdjnGv2",
        "colab_type": "text"
      },
      "source": [
        "I can see we need to clean some of the column names for emoty spaces or misspelt words. Let's do so now."
      ]
    },
    {
      "cell_type": "code",
      "metadata": {
        "id": "VfdFbOjXnRYE",
        "colab_type": "code",
        "colab": {}
      },
      "source": [
        "loan_df.rename(columns={'Purposre_Credit_Taken':'Credit_Purpose', \n",
        "                        'Other_Inst_Plans ':'Other_Inst_Plans',\n",
        "                        'Years_At_Present_Employment': 'Present_Employment_Years',\n",
        "                        'Inst_Rt_Income':'Inst_Rate_Income',\n",
        "                        'Num_CC':'Num_Curr_Credits'}, inplace=True)"
      ],
      "execution_count": 0,
      "outputs": []
    },
    {
      "cell_type": "markdown",
      "metadata": {
        "id": "6QXkfOA61tNQ",
        "colab_type": "text"
      },
      "source": [
        "Next, let's try to group them into subgroups using python lists. \n",
        "<br>\n",
        "For exanmple we can have a list for bio-data, one for financial date and so on"
      ]
    },
    {
      "cell_type": "code",
      "metadata": {
        "id": "LEf7hgrI1o5J",
        "colab_type": "code",
        "colab": {}
      },
      "source": [
        "customer_data = ['Customer_ID', 'Marital_Status_Gender', 'Age', 'Dependents', 'Housing','Telephone', 'Property','Current_Address_Yrs']\n",
        "\n",
        "job_and_personal_finance = ['Job', 'Foreign_Worker', 'Present_Employment_Years', 'Savings_Acc','Status_Checking_Acc', 'Credit_History']\n",
        "\n",
        "loan_credit_data = ['Credit_Amount', 'Credit_Purpose', 'Duration_in_Months','Inst_Rate_Income','Other_Debtors_Guarantors','Other_Inst_Plans','Num_Curr_Credits','Default_On_Payment', \"Count\"]"
      ],
      "execution_count": 0,
      "outputs": []
    },
    {
      "cell_type": "markdown",
      "metadata": {
        "id": "rAyfKQVX9bwN",
        "colab_type": "text"
      },
      "source": [
        "The above process is highly manual and subject to errors let's confirm we made no errors before assigning the order"
      ]
    },
    {
      "cell_type": "code",
      "metadata": {
        "id": "QNzePw-j9pgk",
        "colab_type": "code",
        "colab": {}
      },
      "source": [
        "# lets concatenate the lists\n",
        "\n",
        "new_columns = customer_data + job_and_personal_finance + loan_credit_data"
      ],
      "execution_count": 0,
      "outputs": []
    },
    {
      "cell_type": "markdown",
      "metadata": {
        "id": "n_zpaPeACcEP",
        "colab_type": "text"
      },
      "source": [
        "Next let's strip off white-spaces either at the beginning or end of all column names, incase we mistakenly left it during the manual process"
      ]
    },
    {
      "cell_type": "code",
      "metadata": {
        "id": "6xkTbWaB2cZg",
        "colab_type": "code",
        "outputId": "8a5d922c-905e-4a2e-f66b-acac20d87038",
        "colab": {
          "base_uri": "https://localhost:8080/",
          "height": 35
        }
      },
      "source": [
        "stripped_columns = [str.strip(x, ' ') for x in new_columns if x[0] or x[-1] == ' '] \n",
        "stripped_columns[:5]"
      ],
      "execution_count": 19,
      "outputs": [
        {
          "output_type": "execute_result",
          "data": {
            "text/plain": [
              "['Customer_ID', 'Marital_Status_Gender', 'Age', 'Dependents', 'Housing']"
            ]
          },
          "metadata": {
            "tags": []
          },
          "execution_count": 19
        }
      ]
    },
    {
      "cell_type": "markdown",
      "metadata": {
        "id": "jnNCGvHKYkZl",
        "colab_type": "text"
      },
      "source": [
        "Now let's confirm that all column names in our stripped_column is not different from the default loan_df columns"
      ]
    },
    {
      "cell_type": "code",
      "metadata": {
        "id": "qRHiLbC82b3_",
        "colab_type": "code",
        "outputId": "5eae3604-b32e-4ca9-d738-3c0513efd37b",
        "colab": {
          "base_uri": "https://localhost:8080/",
          "height": 35
        }
      },
      "source": [
        "set(loan_df.columns).difference(set(stripped_columns))"
      ],
      "execution_count": 20,
      "outputs": [
        {
          "output_type": "execute_result",
          "data": {
            "text/plain": [
              "set()"
            ]
          },
          "metadata": {
            "tags": []
          },
          "execution_count": 20
        }
      ]
    },
    {
      "cell_type": "markdown",
      "metadata": {
        "id": "Zw96ePb4Y5Jb",
        "colab_type": "text"
      },
      "source": [
        "The empty set above indicates no difference. Now we can go ahead and assign the new ordered and stripped off columns to loan_df"
      ]
    },
    {
      "cell_type": "code",
      "metadata": {
        "id": "JF_HeZqK5gyl",
        "colab_type": "code",
        "outputId": "bd8106d7-1d65-4cf7-c42f-dddc65bb1eec",
        "colab": {
          "base_uri": "https://localhost:8080/",
          "height": 155
        }
      },
      "source": [
        "loan_df = loan_df[stripped_columns]\n",
        "\n",
        "# let's see the first few rows\n",
        "loan_df.head(3)"
      ],
      "execution_count": 21,
      "outputs": [
        {
          "output_type": "execute_result",
          "data": {
            "text/html": [
              "<div>\n",
              "<style scoped>\n",
              "    .dataframe tbody tr th:only-of-type {\n",
              "        vertical-align: middle;\n",
              "    }\n",
              "\n",
              "    .dataframe tbody tr th {\n",
              "        vertical-align: top;\n",
              "    }\n",
              "\n",
              "    .dataframe thead th {\n",
              "        text-align: right;\n",
              "    }\n",
              "</style>\n",
              "<table border=\"1\" class=\"dataframe\">\n",
              "  <thead>\n",
              "    <tr style=\"text-align: right;\">\n",
              "      <th></th>\n",
              "      <th>Customer_ID</th>\n",
              "      <th>Marital_Status_Gender</th>\n",
              "      <th>Age</th>\n",
              "      <th>Dependents</th>\n",
              "      <th>Housing</th>\n",
              "      <th>Telephone</th>\n",
              "      <th>Property</th>\n",
              "      <th>Current_Address_Yrs</th>\n",
              "      <th>Job</th>\n",
              "      <th>Foreign_Worker</th>\n",
              "      <th>Present_Employment_Years</th>\n",
              "      <th>Savings_Acc</th>\n",
              "      <th>Status_Checking_Acc</th>\n",
              "      <th>Credit_History</th>\n",
              "      <th>Credit_Amount</th>\n",
              "      <th>Credit_Purpose</th>\n",
              "      <th>Duration_in_Months</th>\n",
              "      <th>Inst_Rate_Income</th>\n",
              "      <th>Other_Debtors_Guarantors</th>\n",
              "      <th>Other_Inst_Plans</th>\n",
              "      <th>Num_Curr_Credits</th>\n",
              "      <th>Default_On_Payment</th>\n",
              "      <th>Count</th>\n",
              "    </tr>\n",
              "  </thead>\n",
              "  <tbody>\n",
              "    <tr>\n",
              "      <th>0</th>\n",
              "      <td>100001</td>\n",
              "      <td>A93</td>\n",
              "      <td>67</td>\n",
              "      <td>1</td>\n",
              "      <td>A152</td>\n",
              "      <td>A192</td>\n",
              "      <td>A121</td>\n",
              "      <td>4</td>\n",
              "      <td>A173</td>\n",
              "      <td>A201</td>\n",
              "      <td>A75</td>\n",
              "      <td>A65</td>\n",
              "      <td>A11</td>\n",
              "      <td>A34</td>\n",
              "      <td>1169</td>\n",
              "      <td>A43</td>\n",
              "      <td>6</td>\n",
              "      <td>4</td>\n",
              "      <td>A101</td>\n",
              "      <td>A143</td>\n",
              "      <td>2</td>\n",
              "      <td>0</td>\n",
              "      <td>1</td>\n",
              "    </tr>\n",
              "    <tr>\n",
              "      <th>1</th>\n",
              "      <td>100002</td>\n",
              "      <td>A92</td>\n",
              "      <td>22</td>\n",
              "      <td>1</td>\n",
              "      <td>A152</td>\n",
              "      <td>A191</td>\n",
              "      <td>A121</td>\n",
              "      <td>2</td>\n",
              "      <td>A173</td>\n",
              "      <td>A201</td>\n",
              "      <td>A73</td>\n",
              "      <td>A61</td>\n",
              "      <td>A12</td>\n",
              "      <td>A32</td>\n",
              "      <td>5951</td>\n",
              "      <td>A43</td>\n",
              "      <td>48</td>\n",
              "      <td>2</td>\n",
              "      <td>A101</td>\n",
              "      <td>A143</td>\n",
              "      <td>1</td>\n",
              "      <td>0</td>\n",
              "      <td>1</td>\n",
              "    </tr>\n",
              "    <tr>\n",
              "      <th>2</th>\n",
              "      <td>100003</td>\n",
              "      <td>A93</td>\n",
              "      <td>49</td>\n",
              "      <td>2</td>\n",
              "      <td>A152</td>\n",
              "      <td>A191</td>\n",
              "      <td>A121</td>\n",
              "      <td>3</td>\n",
              "      <td>A172</td>\n",
              "      <td>A201</td>\n",
              "      <td>A74</td>\n",
              "      <td>A61</td>\n",
              "      <td>A14</td>\n",
              "      <td>A34</td>\n",
              "      <td>2096</td>\n",
              "      <td>A46</td>\n",
              "      <td>12</td>\n",
              "      <td>2</td>\n",
              "      <td>A101</td>\n",
              "      <td>A143</td>\n",
              "      <td>1</td>\n",
              "      <td>0</td>\n",
              "      <td>1</td>\n",
              "    </tr>\n",
              "  </tbody>\n",
              "</table>\n",
              "</div>"
            ],
            "text/plain": [
              "   Customer_ID Marital_Status_Gender  ...  Default_On_Payment  Count\n",
              "0       100001                   A93  ...                   0      1\n",
              "1       100002                   A92  ...                   0      1\n",
              "2       100003                   A93  ...                   0      1\n",
              "\n",
              "[3 rows x 23 columns]"
            ]
          },
          "metadata": {
            "tags": []
          },
          "execution_count": 21
        }
      ]
    },
    {
      "cell_type": "markdown",
      "metadata": {
        "id": "x-4XSnHb_S9G",
        "colab_type": "text"
      },
      "source": [
        "This is beautiful our loan_df columns are ordered in a logical fashion, let's start feature binarization and pre-processing"
      ]
    },
    {
      "cell_type": "markdown",
      "metadata": {
        "id": "ClelReV5e_Au",
        "colab_type": "text"
      },
      "source": [
        "### First Let's **visualize** The relationships between the categorical variables and Default on payments column (our target variable)"
      ]
    },
    {
      "cell_type": "code",
      "metadata": {
        "id": "VMxyXWX5Ekam",
        "colab_type": "code",
        "outputId": "49281449-6320-4a1e-990c-782b55a5448a",
        "colab": {
          "base_uri": "https://localhost:8080/",
          "height": 1000
        }
      },
      "source": [
        "import matplotlib.gridspec as gridspec\n",
        "\n",
        "fig = plt.figure(constrained_layout=True, figsize=(20,18))\n",
        "sns.set_style('ticks')\n",
        "\n",
        "specs = gridspec.GridSpec(ncols=3, nrows=5, figure=fig)\n",
        "ax1 = fig.add_subplot(specs[0, 0])\n",
        "ax2 = fig.add_subplot(specs[0, 1])\n",
        "ax3 = fig.add_subplot(specs[0, 2])\n",
        "ax4 = fig.add_subplot(specs[1, 0])\n",
        "ax5 = fig.add_subplot(specs[1, 1])\n",
        "ax6 = fig.add_subplot(specs[1, 2])\n",
        "ax7 = fig.add_subplot(specs[2, 0])\n",
        "ax8 = fig.add_subplot(specs[2, 1])\n",
        "ax9 = fig.add_subplot(specs[2, 2])\n",
        "ax10 = fig.add_subplot(specs[3, 0])\n",
        "ax11 = fig.add_subplot(specs[3, 1])\n",
        "ax12 = fig.add_subplot(specs[3, 2])\n",
        "ax13 = fig.add_subplot(specs[4, 0])\n",
        "# ax14 = fig.add_subplot(specs[4, 1])\n",
        "# ax15 = fig.add_subplot(specs[4, 2])\n",
        "\n",
        "plt.suptitle('Percentage of Defaulters Per Categorical Variable', fontsize=18, y=1.05)\n",
        "\n",
        "\n",
        "ax1 = sns.violinplot('Marital_Status_Gender', 'Default_On_Payment', data=loan_df, order=['A91','A92','A93','A94'], ax=ax1)\n",
        "ax1.set_title('Marital-Status-Gender % of Defaulters')\n",
        "yposlist = loan_df.groupby(['Marital_Status_Gender'])['Default_On_Payment'].value_counts(normalize=True).tolist()\n",
        "yposlist = [round(i,2) for i in yposlist[1::2]]\n",
        "xposlist = range(len(yposlist))\n",
        "for i in range(len(yposlist)):\n",
        "    ax1.text(xposlist[i], yposlist[i], str(round(yposlist[i], 2)), fontsize=14)\n",
        "\n",
        "\n",
        "ax2 = sns.violinplot('Housing', 'Default_On_Payment', data=loan_df, order=['A151','A152','A153'], ax=ax2)\n",
        "ax2.set_title('Housing-Conditions % of Defaulters')\n",
        "yposlist = loan_df.groupby(['Housing'])['Default_On_Payment'].value_counts(normalize=True).tolist()\n",
        "yposlist = [round(i,2) for i in yposlist[1::2]]\n",
        "xposlist = range(len(yposlist))\n",
        "for i in range(len(yposlist)):\n",
        "    ax2.text(xposlist[i], yposlist[i], str(round(yposlist[i], 2)), fontsize=14)\n",
        "\n",
        "\n",
        "ax3 = sns.violinplot('Telephone', 'Default_On_Payment', data=loan_df,order=['A191','A192'], ax=ax3)\n",
        "ax3.set_title('Registered-Telephone % of Defaulters')\n",
        "yposlist = loan_df.groupby(['Telephone'])['Default_On_Payment'].value_counts(normalize=True).tolist()\n",
        "yposlist = [round(i,2) for i in yposlist[1::2]]\n",
        "xposlist = range(len(yposlist))\n",
        "for i in range(len(yposlist)):\n",
        "    ax3.text(xposlist[i], yposlist[i], str(round(yposlist[i], 2)), fontsize=14)\n",
        "\n",
        "\n",
        "ax4 = sns.violinplot('Property', 'Default_On_Payment', data=loan_df,order=['A121','A122','A123','A124'], ax=ax4)\n",
        "ax4.set_title('Property-Type % of Defaulters')\n",
        "yposlist = loan_df.groupby(['Property'])['Default_On_Payment'].value_counts(normalize=True).tolist()\n",
        "yposlist = [round(i,2) for i in yposlist[1::2]]\n",
        "xposlist = range(len(yposlist))\n",
        "for i in range(len(yposlist)):\n",
        "    ax4.text(xposlist[i], yposlist[i], str(round(yposlist[i], 2)), fontsize=14)\n",
        "\n",
        "\n",
        "ax5 = sns.violinplot('Job', 'Default_On_Payment', data=loan_df, order=['A171','A172','A173','A174'], ax=ax5)\n",
        "ax5.set_title('Job-Status % of Defaulters')\n",
        "yposlist = loan_df.groupby(['Job'])['Default_On_Payment'].value_counts(normalize=True).tolist()\n",
        "yposlist = [round(i,2) for i in yposlist[1::2]]\n",
        "xposlist = range(len(yposlist))\n",
        "for i in range(len(yposlist)):\n",
        "    ax5.text(xposlist[i], yposlist[i], str(round(yposlist[i], 2)), fontsize=14)\n",
        "\n",
        "\n",
        "ax6 = sns.violinplot('Foreign_Worker', 'Default_On_Payment', data=loan_df, ax=ax6)\n",
        "ax6.set_title('Foreign-Worker-Status % of Defaulterst')\n",
        "yposlist = loan_df.groupby(['Foreign_Worker'])['Default_On_Payment'].value_counts(normalize=True).tolist()\n",
        "yposlist = [round(i,2) for i in yposlist[1::2]]\n",
        "xposlist = range(len(yposlist))\n",
        "for i in range(len(yposlist)):\n",
        "    ax6.text(xposlist[i], yposlist[i], str(round(yposlist[i], 2)), fontsize=14)\n",
        "\n",
        "\n",
        "ax7 = sns.violinplot('Present_Employment_Years', 'Default_On_Payment', order=['A71','A72','A73','A74','A75'], data=loan_df, ax=ax7)\n",
        "ax7.set_title('Present_Employment_Years % of Defaulters')\n",
        "yposlist = loan_df.groupby(['Present_Employment_Years'])['Default_On_Payment'].value_counts(normalize=True).tolist()\n",
        "yposlist = [round(i,2) for i in yposlist[1::2]]\n",
        "xposlist = range(len(yposlist))\n",
        "for i in range(len(yposlist)):\n",
        "    ax7.text(xposlist[i], yposlist[i], str(round(yposlist[i], 2)), fontsize=14)\n",
        "\n",
        "\n",
        "ax8 = sns.violinplot('Savings_Acc', 'Default_On_Payment', data=loan_df, order=['A61','A62','A63','A64','A65'], ax=ax8)\n",
        "ax8.set_title('Savings-Acc % of Defaulters')\n",
        "yposlist = loan_df.groupby(['Savings_Acc'])['Default_On_Payment'].value_counts(normalize=True).tolist()\n",
        "yposlist = [round(i,2) for i in yposlist[1::2]]\n",
        "xposlist = range(len(yposlist))\n",
        "for i in range(len(yposlist)):\n",
        "    ax8.text(xposlist[i], yposlist[i], str(round(yposlist[i], 2)), fontsize=14)\n",
        "\n",
        "\n",
        "ax9 = sns.violinplot('Status_Checking_Acc', 'Default_On_Payment', data=loan_df,order=['A11','A12','A13','A14'], ax=ax9)\n",
        "ax9.set_title('Status-Checking-Acc % of Defaulters')\n",
        "yposlist = loan_df.groupby(['Status_Checking_Acc'])['Default_On_Payment'].value_counts(normalize=True).tolist()\n",
        "yposlist = [round(i,2) for i in yposlist[1::2]]\n",
        "xposlist = range(len(yposlist))\n",
        "for i in range(len(yposlist)):\n",
        "    ax9.text(xposlist[i], yposlist[i], str(round(yposlist[i], 2)), fontsize=14)\n",
        "\n",
        "\n",
        "ax10 = sns.violinplot('Credit_History', 'Default_On_Payment', data=loan_df, order=['A30','A31','A32','A33','A34'], ax=ax10)\n",
        "ax10.set_title('Credit-History % of Defaulters')\n",
        "yposlist = loan_df.groupby(['Credit_History'])['Default_On_Payment'].value_counts(normalize=True).tolist()\n",
        "yposlist = [round(i,2) for i in yposlist[1::2]]\n",
        "xposlist = range(len(yposlist))\n",
        "for i in range(len(yposlist)):\n",
        "    ax10.text(xposlist[i], yposlist[i], str(round(yposlist[i], 2)), fontsize=14)\n",
        "\n",
        "\n",
        "ax11 = sns.violinplot('Other_Inst_Plans', 'Default_On_Payment', data=loan_df,order=['A141','A142','A143'], ax=ax11)\n",
        "ax11.set_title('Other-Inst-Plans % of Defaulters')\n",
        "yposlist = loan_df.groupby(['Other_Inst_Plans'])['Default_On_Payment'].value_counts(normalize=True).tolist()\n",
        "yposlist = [round(i,2) for i in yposlist[1::2]]\n",
        "xposlist = range(len(yposlist))\n",
        "for i in range(len(yposlist)):\n",
        "    ax11.text(xposlist[i], yposlist[i], str(round(yposlist[i], 2)), fontsize=14)\n",
        "\n",
        "\n",
        "ax12 = sns.violinplot('Other_Debtors_Guarantors', 'Default_On_Payment', data=loan_df, order=['A101','A102','A103'], ax=ax12)\n",
        "ax12.set_title('Other-Debtors-Guarantors % of Defaulters')\n",
        "yposlist = loan_df.groupby(['Other_Debtors_Guarantors'])['Default_On_Payment'].value_counts(normalize=True).tolist()\n",
        "yposlist = [round(i,2) for i in yposlist[1::2]]\n",
        "xposlist = range(len(yposlist))\n",
        "for i in range(len(yposlist)):\n",
        "    ax12.text(xposlist[i], yposlist[i], str(round(yposlist[i], 2)), fontsize=14)\n",
        "\n",
        "ax13 = sns.violinplot('Credit_Purpose', 'Default_On_Payment', data=loan_df, order=['A40','A41','A410','A42','A43','A44','A45','A46','A48','A49'], ax=ax13)\n",
        "ax13.set_title('Credit_Purpose % of Defaulters')\n",
        "yposlist = loan_df.groupby(['Credit_Purpose'])['Default_On_Payment'].value_counts(normalize=True).tolist()\n",
        "yposlist = [round(i,2) for i in yposlist[1::2]]\n",
        "xposlist = range(len(yposlist))\n",
        "for i in range(len(yposlist)):\n",
        "    plt.text(xposlist[i], yposlist[i], str(round(yposlist[i], 2)), fontsize=14)\n",
        "\n",
        "plt.show()"
      ],
      "execution_count": 22,
      "outputs": [
        {
          "output_type": "display_data",
          "data": {
            "image/png": "[encoded data removed]",
            "text/plain": [
              "<Figure size 1440x1296 with 13 Axes>"
            ]
          },
          "metadata": {
            "tags": []
          }
        }
      ]
    },
    {
      "cell_type": "markdown",
      "metadata": {
        "id": "2PKb_Iej-HZk",
        "colab_type": "text"
      },
      "source": [
        "The essence of visualizing the defaulting percentage of each categorical variable and sub variables is to identify the variables that may be useful for training our model.<br>These variables should not have around 50% chance of defaulting, this shows a weak relationship. Ideally we want variables that have less than 40% or more than 60% chance of defaulting to train our model.<br>\n",
        "\n",
        "My threshold is <br>\n",
        "\n",
        "###$defaulting <= 0.4\\: or\\: >= 0.6$<br>\n",
        "\n",
        "Thus, I will select only those categorical variables that indicate a defaulting score equal to or larger than 60% or less than or equal to 40%.<br>\n"
      ]
    },
    {
      "cell_type": "markdown",
      "metadata": {
        "id": "Six6q9Ug2MzV",
        "colab_type": "text"
      },
      "source": [
        "### Feature Binarization"
      ]
    },
    {
      "cell_type": "code",
      "metadata": {
        "id": "0VMhKoHmE_K-",
        "colab_type": "code",
        "outputId": "f72cc6c5-b25f-4b7d-9d72-b0fa91b1a3ec",
        "colab": {
          "base_uri": "https://localhost:8080/",
          "height": 155
        }
      },
      "source": [
        "loan_df.head(3)"
      ],
      "execution_count": 23,
      "outputs": [
        {
          "output_type": "execute_result",
          "data": {
            "text/html": [
              "<div>\n",
              "<style scoped>\n",
              "    .dataframe tbody tr th:only-of-type {\n",
              "        vertical-align: middle;\n",
              "    }\n",
              "\n",
              "    .dataframe tbody tr th {\n",
              "        vertical-align: top;\n",
              "    }\n",
              "\n",
              "    .dataframe thead th {\n",
              "        text-align: right;\n",
              "    }\n",
              "</style>\n",
              "<table border=\"1\" class=\"dataframe\">\n",
              "  <thead>\n",
              "    <tr style=\"text-align: right;\">\n",
              "      <th></th>\n",
              "      <th>Customer_ID</th>\n",
              "      <th>Marital_Status_Gender</th>\n",
              "      <th>Age</th>\n",
              "      <th>Dependents</th>\n",
              "      <th>Housing</th>\n",
              "      <th>Telephone</th>\n",
              "      <th>Property</th>\n",
              "      <th>Current_Address_Yrs</th>\n",
              "      <th>Job</th>\n",
              "      <th>Foreign_Worker</th>\n",
              "      <th>Present_Employment_Years</th>\n",
              "      <th>Savings_Acc</th>\n",
              "      <th>Status_Checking_Acc</th>\n",
              "      <th>Credit_History</th>\n",
              "      <th>Credit_Amount</th>\n",
              "      <th>Credit_Purpose</th>\n",
              "      <th>Duration_in_Months</th>\n",
              "      <th>Inst_Rate_Income</th>\n",
              "      <th>Other_Debtors_Guarantors</th>\n",
              "      <th>Other_Inst_Plans</th>\n",
              "      <th>Num_Curr_Credits</th>\n",
              "      <th>Default_On_Payment</th>\n",
              "      <th>Count</th>\n",
              "    </tr>\n",
              "  </thead>\n",
              "  <tbody>\n",
              "    <tr>\n",
              "      <th>0</th>\n",
              "      <td>100001</td>\n",
              "      <td>A93</td>\n",
              "      <td>67</td>\n",
              "      <td>1</td>\n",
              "      <td>A152</td>\n",
              "      <td>A192</td>\n",
              "      <td>A121</td>\n",
              "      <td>4</td>\n",
              "      <td>A173</td>\n",
              "      <td>A201</td>\n",
              "      <td>A75</td>\n",
              "      <td>A65</td>\n",
              "      <td>A11</td>\n",
              "      <td>A34</td>\n",
              "      <td>1169</td>\n",
              "      <td>A43</td>\n",
              "      <td>6</td>\n",
              "      <td>4</td>\n",
              "      <td>A101</td>\n",
              "      <td>A143</td>\n",
              "      <td>2</td>\n",
              "      <td>0</td>\n",
              "      <td>1</td>\n",
              "    </tr>\n",
              "    <tr>\n",
              "      <th>1</th>\n",
              "      <td>100002</td>\n",
              "      <td>A92</td>\n",
              "      <td>22</td>\n",
              "      <td>1</td>\n",
              "      <td>A152</td>\n",
              "      <td>A191</td>\n",
              "      <td>A121</td>\n",
              "      <td>2</td>\n",
              "      <td>A173</td>\n",
              "      <td>A201</td>\n",
              "      <td>A73</td>\n",
              "      <td>A61</td>\n",
              "      <td>A12</td>\n",
              "      <td>A32</td>\n",
              "      <td>5951</td>\n",
              "      <td>A43</td>\n",
              "      <td>48</td>\n",
              "      <td>2</td>\n",
              "      <td>A101</td>\n",
              "      <td>A143</td>\n",
              "      <td>1</td>\n",
              "      <td>0</td>\n",
              "      <td>1</td>\n",
              "    </tr>\n",
              "    <tr>\n",
              "      <th>2</th>\n",
              "      <td>100003</td>\n",
              "      <td>A93</td>\n",
              "      <td>49</td>\n",
              "      <td>2</td>\n",
              "      <td>A152</td>\n",
              "      <td>A191</td>\n",
              "      <td>A121</td>\n",
              "      <td>3</td>\n",
              "      <td>A172</td>\n",
              "      <td>A201</td>\n",
              "      <td>A74</td>\n",
              "      <td>A61</td>\n",
              "      <td>A14</td>\n",
              "      <td>A34</td>\n",
              "      <td>2096</td>\n",
              "      <td>A46</td>\n",
              "      <td>12</td>\n",
              "      <td>2</td>\n",
              "      <td>A101</td>\n",
              "      <td>A143</td>\n",
              "      <td>1</td>\n",
              "      <td>0</td>\n",
              "      <td>1</td>\n",
              "    </tr>\n",
              "  </tbody>\n",
              "</table>\n",
              "</div>"
            ],
            "text/plain": [
              "   Customer_ID Marital_Status_Gender  ...  Default_On_Payment  Count\n",
              "0       100001                   A93  ...                   0      1\n",
              "1       100002                   A92  ...                   0      1\n",
              "2       100003                   A93  ...                   0      1\n",
              "\n",
              "[3 rows x 23 columns]"
            ]
          },
          "metadata": {
            "tags": []
          },
          "execution_count": 23
        }
      ]
    },
    {
      "cell_type": "markdown",
      "metadata": {
        "id": "_xOB7uLVJDk4",
        "colab_type": "text"
      },
      "source": [
        "Let's binarize categorical variables below and save it in a new variable loan_df_dummies"
      ]
    },
    {
      "cell_type": "code",
      "metadata": {
        "id": "jvuwGVLWILsC",
        "colab_type": "code",
        "outputId": "b695e943-a63e-48b0-9099-bd42225ec686",
        "colab": {
          "base_uri": "https://localhost:8080/",
          "height": 155
        }
      },
      "source": [
        "loan_df_dummies = pd.get_dummies(loan_df)\n",
        "loan_df_dummies.head(3)"
      ],
      "execution_count": 24,
      "outputs": [
        {
          "output_type": "execute_result",
          "data": {
            "text/html": [
              "<div>\n",
              "<style scoped>\n",
              "    .dataframe tbody tr th:only-of-type {\n",
              "        vertical-align: middle;\n",
              "    }\n",
              "\n",
              "    .dataframe tbody tr th {\n",
              "        vertical-align: top;\n",
              "    }\n",
              "\n",
              "    .dataframe thead th {\n",
              "        text-align: right;\n",
              "    }\n",
              "</style>\n",
              "<table border=\"1\" class=\"dataframe\">\n",
              "  <thead>\n",
              "    <tr style=\"text-align: right;\">\n",
              "      <th></th>\n",
              "      <th>Customer_ID</th>\n",
              "      <th>Age</th>\n",
              "      <th>Dependents</th>\n",
              "      <th>Current_Address_Yrs</th>\n",
              "      <th>Credit_Amount</th>\n",
              "      <th>Duration_in_Months</th>\n",
              "      <th>Inst_Rate_Income</th>\n",
              "      <th>Num_Curr_Credits</th>\n",
              "      <th>Default_On_Payment</th>\n",
              "      <th>Count</th>\n",
              "      <th>Marital_Status_Gender_A91</th>\n",
              "      <th>Marital_Status_Gender_A92</th>\n",
              "      <th>Marital_Status_Gender_A93</th>\n",
              "      <th>Marital_Status_Gender_A94</th>\n",
              "      <th>Housing_A151</th>\n",
              "      <th>Housing_A152</th>\n",
              "      <th>Housing_A153</th>\n",
              "      <th>Telephone_A191</th>\n",
              "      <th>Telephone_A192</th>\n",
              "      <th>Property_A121</th>\n",
              "      <th>Property_A122</th>\n",
              "      <th>Property_A123</th>\n",
              "      <th>Property_A124</th>\n",
              "      <th>Job_A171</th>\n",
              "      <th>Job_A172</th>\n",
              "      <th>Job_A173</th>\n",
              "      <th>Job_A174</th>\n",
              "      <th>Foreign_Worker_A201</th>\n",
              "      <th>Foreign_Worker_A202</th>\n",
              "      <th>Present_Employment_Years_A71</th>\n",
              "      <th>Present_Employment_Years_A72</th>\n",
              "      <th>Present_Employment_Years_A73</th>\n",
              "      <th>Present_Employment_Years_A74</th>\n",
              "      <th>Present_Employment_Years_A75</th>\n",
              "      <th>Savings_Acc_A61</th>\n",
              "      <th>Savings_Acc_A62</th>\n",
              "      <th>Savings_Acc_A63</th>\n",
              "      <th>Savings_Acc_A64</th>\n",
              "      <th>Savings_Acc_A65</th>\n",
              "      <th>Status_Checking_Acc_A11</th>\n",
              "      <th>Status_Checking_Acc_A12</th>\n",
              "      <th>Status_Checking_Acc_A13</th>\n",
              "      <th>Status_Checking_Acc_A14</th>\n",
              "      <th>Credit_History_A30</th>\n",
              "      <th>Credit_History_A31</th>\n",
              "      <th>Credit_History_A32</th>\n",
              "      <th>Credit_History_A33</th>\n",
              "      <th>Credit_History_A34</th>\n",
              "      <th>Credit_Purpose_A40</th>\n",
              "      <th>Credit_Purpose_A41</th>\n",
              "      <th>Credit_Purpose_A410</th>\n",
              "      <th>Credit_Purpose_A42</th>\n",
              "      <th>Credit_Purpose_A43</th>\n",
              "      <th>Credit_Purpose_A44</th>\n",
              "      <th>Credit_Purpose_A45</th>\n",
              "      <th>Credit_Purpose_A46</th>\n",
              "      <th>Credit_Purpose_A48</th>\n",
              "      <th>Credit_Purpose_A49</th>\n",
              "      <th>Other_Debtors_Guarantors_A101</th>\n",
              "      <th>Other_Debtors_Guarantors_A102</th>\n",
              "      <th>Other_Debtors_Guarantors_A103</th>\n",
              "      <th>Other_Inst_Plans_A141</th>\n",
              "      <th>Other_Inst_Plans_A142</th>\n",
              "      <th>Other_Inst_Plans_A143</th>\n",
              "    </tr>\n",
              "  </thead>\n",
              "  <tbody>\n",
              "    <tr>\n",
              "      <th>0</th>\n",
              "      <td>100001</td>\n",
              "      <td>67</td>\n",
              "      <td>1</td>\n",
              "      <td>4</td>\n",
              "      <td>1169</td>\n",
              "      <td>6</td>\n",
              "      <td>4</td>\n",
              "      <td>2</td>\n",
              "      <td>0</td>\n",
              "      <td>1</td>\n",
              "      <td>0</td>\n",
              "      <td>0</td>\n",
              "      <td>1</td>\n",
              "      <td>0</td>\n",
              "      <td>0</td>\n",
              "      <td>1</td>\n",
              "      <td>0</td>\n",
              "      <td>0</td>\n",
              "      <td>1</td>\n",
              "      <td>1</td>\n",
              "      <td>0</td>\n",
              "      <td>0</td>\n",
              "      <td>0</td>\n",
              "      <td>0</td>\n",
              "      <td>0</td>\n",
              "      <td>1</td>\n",
              "      <td>0</td>\n",
              "      <td>1</td>\n",
              "      <td>0</td>\n",
              "      <td>0</td>\n",
              "      <td>0</td>\n",
              "      <td>0</td>\n",
              "      <td>0</td>\n",
              "      <td>1</td>\n",
              "      <td>0</td>\n",
              "      <td>0</td>\n",
              "      <td>0</td>\n",
              "      <td>0</td>\n",
              "      <td>1</td>\n",
              "      <td>1</td>\n",
              "      <td>0</td>\n",
              "      <td>0</td>\n",
              "      <td>0</td>\n",
              "      <td>0</td>\n",
              "      <td>0</td>\n",
              "      <td>0</td>\n",
              "      <td>0</td>\n",
              "      <td>1</td>\n",
              "      <td>0</td>\n",
              "      <td>0</td>\n",
              "      <td>0</td>\n",
              "      <td>0</td>\n",
              "      <td>1</td>\n",
              "      <td>0</td>\n",
              "      <td>0</td>\n",
              "      <td>0</td>\n",
              "      <td>0</td>\n",
              "      <td>0</td>\n",
              "      <td>1</td>\n",
              "      <td>0</td>\n",
              "      <td>0</td>\n",
              "      <td>0</td>\n",
              "      <td>0</td>\n",
              "      <td>1</td>\n",
              "    </tr>\n",
              "    <tr>\n",
              "      <th>1</th>\n",
              "      <td>100002</td>\n",
              "      <td>22</td>\n",
              "      <td>1</td>\n",
              "      <td>2</td>\n",
              "      <td>5951</td>\n",
              "      <td>48</td>\n",
              "      <td>2</td>\n",
              "      <td>1</td>\n",
              "      <td>0</td>\n",
              "      <td>1</td>\n",
              "      <td>0</td>\n",
              "      <td>1</td>\n",
              "      <td>0</td>\n",
              "      <td>0</td>\n",
              "      <td>0</td>\n",
              "      <td>1</td>\n",
              "      <td>0</td>\n",
              "      <td>1</td>\n",
              "      <td>0</td>\n",
              "      <td>1</td>\n",
              "      <td>0</td>\n",
              "      <td>0</td>\n",
              "      <td>0</td>\n",
              "      <td>0</td>\n",
              "      <td>0</td>\n",
              "      <td>1</td>\n",
              "      <td>0</td>\n",
              "      <td>1</td>\n",
              "      <td>0</td>\n",
              "      <td>0</td>\n",
              "      <td>0</td>\n",
              "      <td>1</td>\n",
              "      <td>0</td>\n",
              "      <td>0</td>\n",
              "      <td>1</td>\n",
              "      <td>0</td>\n",
              "      <td>0</td>\n",
              "      <td>0</td>\n",
              "      <td>0</td>\n",
              "      <td>0</td>\n",
              "      <td>1</td>\n",
              "      <td>0</td>\n",
              "      <td>0</td>\n",
              "      <td>0</td>\n",
              "      <td>0</td>\n",
              "      <td>1</td>\n",
              "      <td>0</td>\n",
              "      <td>0</td>\n",
              "      <td>0</td>\n",
              "      <td>0</td>\n",
              "      <td>0</td>\n",
              "      <td>0</td>\n",
              "      <td>1</td>\n",
              "      <td>0</td>\n",
              "      <td>0</td>\n",
              "      <td>0</td>\n",
              "      <td>0</td>\n",
              "      <td>0</td>\n",
              "      <td>1</td>\n",
              "      <td>0</td>\n",
              "      <td>0</td>\n",
              "      <td>0</td>\n",
              "      <td>0</td>\n",
              "      <td>1</td>\n",
              "    </tr>\n",
              "    <tr>\n",
              "      <th>2</th>\n",
              "      <td>100003</td>\n",
              "      <td>49</td>\n",
              "      <td>2</td>\n",
              "      <td>3</td>\n",
              "      <td>2096</td>\n",
              "      <td>12</td>\n",
              "      <td>2</td>\n",
              "      <td>1</td>\n",
              "      <td>0</td>\n",
              "      <td>1</td>\n",
              "      <td>0</td>\n",
              "      <td>0</td>\n",
              "      <td>1</td>\n",
              "      <td>0</td>\n",
              "      <td>0</td>\n",
              "      <td>1</td>\n",
              "      <td>0</td>\n",
              "      <td>1</td>\n",
              "      <td>0</td>\n",
              "      <td>1</td>\n",
              "      <td>0</td>\n",
              "      <td>0</td>\n",
              "      <td>0</td>\n",
              "      <td>0</td>\n",
              "      <td>1</td>\n",
              "      <td>0</td>\n",
              "      <td>0</td>\n",
              "      <td>1</td>\n",
              "      <td>0</td>\n",
              "      <td>0</td>\n",
              "      <td>0</td>\n",
              "      <td>0</td>\n",
              "      <td>1</td>\n",
              "      <td>0</td>\n",
              "      <td>1</td>\n",
              "      <td>0</td>\n",
              "      <td>0</td>\n",
              "      <td>0</td>\n",
              "      <td>0</td>\n",
              "      <td>0</td>\n",
              "      <td>0</td>\n",
              "      <td>0</td>\n",
              "      <td>1</td>\n",
              "      <td>0</td>\n",
              "      <td>0</td>\n",
              "      <td>0</td>\n",
              "      <td>0</td>\n",
              "      <td>1</td>\n",
              "      <td>0</td>\n",
              "      <td>0</td>\n",
              "      <td>0</td>\n",
              "      <td>0</td>\n",
              "      <td>0</td>\n",
              "      <td>0</td>\n",
              "      <td>0</td>\n",
              "      <td>1</td>\n",
              "      <td>0</td>\n",
              "      <td>0</td>\n",
              "      <td>1</td>\n",
              "      <td>0</td>\n",
              "      <td>0</td>\n",
              "      <td>0</td>\n",
              "      <td>0</td>\n",
              "      <td>1</td>\n",
              "    </tr>\n",
              "  </tbody>\n",
              "</table>\n",
              "</div>"
            ],
            "text/plain": [
              "   Customer_ID  Age  ...  Other_Inst_Plans_A142  Other_Inst_Plans_A143\n",
              "0       100001   67  ...                      0                      1\n",
              "1       100002   22  ...                      0                      1\n",
              "2       100003   49  ...                      0                      1\n",
              "\n",
              "[3 rows x 64 columns]"
            ]
          },
          "metadata": {
            "tags": []
          },
          "execution_count": 24
        }
      ]
    },
    {
      "cell_type": "markdown",
      "metadata": {
        "id": "8JAWgQNPaoKD",
        "colab_type": "text"
      },
      "source": [
        "Let's see howmany total columns we have in loan_df_dummies"
      ]
    },
    {
      "cell_type": "code",
      "metadata": {
        "id": "3srr0ZXRauwp",
        "colab_type": "code",
        "outputId": "f7919646-bc8d-4364-d917-3a099ca8f7da",
        "colab": {
          "base_uri": "https://localhost:8080/",
          "height": 35
        }
      },
      "source": [
        "loan_df_dummies.shape  # we now have 64 total columns from 23 of before"
      ],
      "execution_count": 25,
      "outputs": [
        {
          "output_type": "execute_result",
          "data": {
            "text/plain": [
              "(5000, 64)"
            ]
          },
          "metadata": {
            "tags": []
          },
          "execution_count": 25
        }
      ]
    },
    {
      "cell_type": "markdown",
      "metadata": {
        "id": "cBsAtFWsJLG7",
        "colab_type": "text"
      },
      "source": [
        "Now let's select categorical columns whose elements are not  upto 40%  defaulters or above 60% as we visualized earlier"
      ]
    },
    {
      "cell_type": "code",
      "metadata": {
        "id": "oeRnMpbUU5pm",
        "colab_type": "code",
        "outputId": "d5d0bf37-bbb2-4791-b8a7-9d7ed4cfaa46",
        "colab": {
          "base_uri": "https://localhost:8080/",
          "height": 106
        }
      },
      "source": [
        "categorical_cols = loan_df.select_dtypes(include ='object').columns\n",
        "categorical_cols"
      ],
      "execution_count": 26,
      "outputs": [
        {
          "output_type": "execute_result",
          "data": {
            "text/plain": [
              "Index(['Marital_Status_Gender', 'Housing', 'Telephone', 'Property', 'Job',\n",
              "       'Foreign_Worker', 'Present_Employment_Years', 'Savings_Acc',\n",
              "       'Status_Checking_Acc', 'Credit_History', 'Credit_Purpose',\n",
              "       'Other_Debtors_Guarantors', 'Other_Inst_Plans'],\n",
              "      dtype='object')"
            ]
          },
          "metadata": {
            "tags": []
          },
          "execution_count": 26
        }
      ]
    },
    {
      "cell_type": "markdown",
      "metadata": {
        "id": "-jHs_2VzZk7M",
        "colab_type": "text"
      },
      "source": [
        "Next let's loop through each categorical column and create a list of columns to be deleted whose elements show a relatively weak relationship with default-on-payment target variable."
      ]
    },
    {
      "cell_type": "code",
      "metadata": {
        "id": "oL_2BJ-7Jn-o",
        "colab_type": "code",
        "outputId": "f3bdf365-dadc-43aa-cac6-3a579d782619",
        "colab": {
          "base_uri": "https://localhost:8080/",
          "height": 230
        }
      },
      "source": [
        "# Let's define a simple method that we can use to sort out the features to delete\n",
        "\n",
        "def delete_categorical_feature(categorical_cols):\n",
        "    \"\"\" This method takes a pandas index object column and sorts it,\n",
        "    and returns a list of feature attributes to delete \"\"\"\n",
        "    \n",
        "    delete_list = []\n",
        "    for x in categorical_cols:\n",
        "        default_df = loan_df.groupby(x)['Default_On_Payment'].value_counts(normalize=True).to_frame()[1::2]\n",
        "        delete_feature = default_df[(default_df.Default_On_Payment >= 0.4) & (default_df.Default_On_Payment <= 0.6)]\n",
        "        delete = [delete_feature.index[i][0] for i in range(len(delete_feature))]\n",
        "        for i in range(len(delete)):\n",
        "            delete[i] = x + '_' + delete[i]\n",
        "        delete_list += delete\n",
        "    return delete_list\n",
        "\n",
        "delete_list = delete_categorical_feature(categorical_cols)\n",
        "print('Total cols to be deleted-', len(delete_list))\n",
        "delete_list"
      ],
      "execution_count": 27,
      "outputs": [
        {
          "output_type": "stream",
          "text": [
            "Total cols to be deleted- 11\n"
          ],
          "name": "stdout"
        },
        {
          "output_type": "execute_result",
          "data": {
            "text/plain": [
              "['Marital_Status_Gender_A91',\n",
              " 'Housing_A153',\n",
              " 'Property_A124',\n",
              " 'Present_Employment_Years_A72',\n",
              " 'Status_Checking_Acc_A11',\n",
              " 'Credit_History_A31',\n",
              " 'Credit_Purpose_A410',\n",
              " 'Credit_Purpose_A46',\n",
              " 'Other_Debtors_Guarantors_A102',\n",
              " 'Other_Inst_Plans_A141',\n",
              " 'Other_Inst_Plans_A142']"
            ]
          },
          "metadata": {
            "tags": []
          },
          "execution_count": 27
        }
      ]
    },
    {
      "cell_type": "markdown",
      "metadata": {
        "id": "yMLgsA97bCc1",
        "colab_type": "text"
      },
      "source": [
        "Now let's delete the weak relationship cols"
      ]
    },
    {
      "cell_type": "code",
      "metadata": {
        "id": "Ru9O720ZbHmS",
        "colab_type": "code",
        "colab": {}
      },
      "source": [
        "loan_df_dummies = loan_df_dummies.drop(delete_list, axis=1)"
      ],
      "execution_count": 0,
      "outputs": []
    },
    {
      "cell_type": "code",
      "metadata": {
        "id": "fb6zetXfbRKU",
        "colab_type": "code",
        "outputId": "b6fe24e4-c291-48fa-c0ae-5d570f021304",
        "colab": {
          "base_uri": "https://localhost:8080/",
          "height": 35
        }
      },
      "source": [
        "loan_df_dummies.shape"
      ],
      "execution_count": 29,
      "outputs": [
        {
          "output_type": "execute_result",
          "data": {
            "text/plain": [
              "(5000, 53)"
            ]
          },
          "metadata": {
            "tags": []
          },
          "execution_count": 29
        }
      ]
    },
    {
      "cell_type": "code",
      "metadata": {
        "id": "c-_SDoIpdD6h",
        "colab_type": "code",
        "outputId": "cedbdcfa-f6cb-4aeb-8452-d74e5e631c5c",
        "colab": {
          "base_uri": "https://localhost:8080/",
          "height": 214
        }
      },
      "source": [
        "loan_df_dummies.head()"
      ],
      "execution_count": 30,
      "outputs": [
        {
          "output_type": "execute_result",
          "data": {
            "text/html": [
              "<div>\n",
              "<style scoped>\n",
              "    .dataframe tbody tr th:only-of-type {\n",
              "        vertical-align: middle;\n",
              "    }\n",
              "\n",
              "    .dataframe tbody tr th {\n",
              "        vertical-align: top;\n",
              "    }\n",
              "\n",
              "    .dataframe thead th {\n",
              "        text-align: right;\n",
              "    }\n",
              "</style>\n",
              "<table border=\"1\" class=\"dataframe\">\n",
              "  <thead>\n",
              "    <tr style=\"text-align: right;\">\n",
              "      <th></th>\n",
              "      <th>Customer_ID</th>\n",
              "      <th>Age</th>\n",
              "      <th>Dependents</th>\n",
              "      <th>Current_Address_Yrs</th>\n",
              "      <th>Credit_Amount</th>\n",
              "      <th>Duration_in_Months</th>\n",
              "      <th>Inst_Rate_Income</th>\n",
              "      <th>Num_Curr_Credits</th>\n",
              "      <th>Default_On_Payment</th>\n",
              "      <th>Count</th>\n",
              "      <th>Marital_Status_Gender_A92</th>\n",
              "      <th>Marital_Status_Gender_A93</th>\n",
              "      <th>Marital_Status_Gender_A94</th>\n",
              "      <th>Housing_A151</th>\n",
              "      <th>Housing_A152</th>\n",
              "      <th>Telephone_A191</th>\n",
              "      <th>Telephone_A192</th>\n",
              "      <th>Property_A121</th>\n",
              "      <th>Property_A122</th>\n",
              "      <th>Property_A123</th>\n",
              "      <th>Job_A171</th>\n",
              "      <th>Job_A172</th>\n",
              "      <th>Job_A173</th>\n",
              "      <th>Job_A174</th>\n",
              "      <th>Foreign_Worker_A201</th>\n",
              "      <th>Foreign_Worker_A202</th>\n",
              "      <th>Present_Employment_Years_A71</th>\n",
              "      <th>Present_Employment_Years_A73</th>\n",
              "      <th>Present_Employment_Years_A74</th>\n",
              "      <th>Present_Employment_Years_A75</th>\n",
              "      <th>Savings_Acc_A61</th>\n",
              "      <th>Savings_Acc_A62</th>\n",
              "      <th>Savings_Acc_A63</th>\n",
              "      <th>Savings_Acc_A64</th>\n",
              "      <th>Savings_Acc_A65</th>\n",
              "      <th>Status_Checking_Acc_A12</th>\n",
              "      <th>Status_Checking_Acc_A13</th>\n",
              "      <th>Status_Checking_Acc_A14</th>\n",
              "      <th>Credit_History_A30</th>\n",
              "      <th>Credit_History_A32</th>\n",
              "      <th>Credit_History_A33</th>\n",
              "      <th>Credit_History_A34</th>\n",
              "      <th>Credit_Purpose_A40</th>\n",
              "      <th>Credit_Purpose_A41</th>\n",
              "      <th>Credit_Purpose_A42</th>\n",
              "      <th>Credit_Purpose_A43</th>\n",
              "      <th>Credit_Purpose_A44</th>\n",
              "      <th>Credit_Purpose_A45</th>\n",
              "      <th>Credit_Purpose_A48</th>\n",
              "      <th>Credit_Purpose_A49</th>\n",
              "      <th>Other_Debtors_Guarantors_A101</th>\n",
              "      <th>Other_Debtors_Guarantors_A103</th>\n",
              "      <th>Other_Inst_Plans_A143</th>\n",
              "    </tr>\n",
              "  </thead>\n",
              "  <tbody>\n",
              "    <tr>\n",
              "      <th>0</th>\n",
              "      <td>100001</td>\n",
              "      <td>67</td>\n",
              "      <td>1</td>\n",
              "      <td>4</td>\n",
              "      <td>1169</td>\n",
              "      <td>6</td>\n",
              "      <td>4</td>\n",
              "      <td>2</td>\n",
              "      <td>0</td>\n",
              "      <td>1</td>\n",
              "      <td>0</td>\n",
              "      <td>1</td>\n",
              "      <td>0</td>\n",
              "      <td>0</td>\n",
              "      <td>1</td>\n",
              "      <td>0</td>\n",
              "      <td>1</td>\n",
              "      <td>1</td>\n",
              "      <td>0</td>\n",
              "      <td>0</td>\n",
              "      <td>0</td>\n",
              "      <td>0</td>\n",
              "      <td>1</td>\n",
              "      <td>0</td>\n",
              "      <td>1</td>\n",
              "      <td>0</td>\n",
              "      <td>0</td>\n",
              "      <td>0</td>\n",
              "      <td>0</td>\n",
              "      <td>1</td>\n",
              "      <td>0</td>\n",
              "      <td>0</td>\n",
              "      <td>0</td>\n",
              "      <td>0</td>\n",
              "      <td>1</td>\n",
              "      <td>0</td>\n",
              "      <td>0</td>\n",
              "      <td>0</td>\n",
              "      <td>0</td>\n",
              "      <td>0</td>\n",
              "      <td>0</td>\n",
              "      <td>1</td>\n",
              "      <td>0</td>\n",
              "      <td>0</td>\n",
              "      <td>0</td>\n",
              "      <td>1</td>\n",
              "      <td>0</td>\n",
              "      <td>0</td>\n",
              "      <td>0</td>\n",
              "      <td>0</td>\n",
              "      <td>1</td>\n",
              "      <td>0</td>\n",
              "      <td>1</td>\n",
              "    </tr>\n",
              "    <tr>\n",
              "      <th>1</th>\n",
              "      <td>100002</td>\n",
              "      <td>22</td>\n",
              "      <td>1</td>\n",
              "      <td>2</td>\n",
              "      <td>5951</td>\n",
              "      <td>48</td>\n",
              "      <td>2</td>\n",
              "      <td>1</td>\n",
              "      <td>0</td>\n",
              "      <td>1</td>\n",
              "      <td>1</td>\n",
              "      <td>0</td>\n",
              "      <td>0</td>\n",
              "      <td>0</td>\n",
              "      <td>1</td>\n",
              "      <td>1</td>\n",
              "      <td>0</td>\n",
              "      <td>1</td>\n",
              "      <td>0</td>\n",
              "      <td>0</td>\n",
              "      <td>0</td>\n",
              "      <td>0</td>\n",
              "      <td>1</td>\n",
              "      <td>0</td>\n",
              "      <td>1</td>\n",
              "      <td>0</td>\n",
              "      <td>0</td>\n",
              "      <td>1</td>\n",
              "      <td>0</td>\n",
              "      <td>0</td>\n",
              "      <td>1</td>\n",
              "      <td>0</td>\n",
              "      <td>0</td>\n",
              "      <td>0</td>\n",
              "      <td>0</td>\n",
              "      <td>1</td>\n",
              "      <td>0</td>\n",
              "      <td>0</td>\n",
              "      <td>0</td>\n",
              "      <td>1</td>\n",
              "      <td>0</td>\n",
              "      <td>0</td>\n",
              "      <td>0</td>\n",
              "      <td>0</td>\n",
              "      <td>0</td>\n",
              "      <td>1</td>\n",
              "      <td>0</td>\n",
              "      <td>0</td>\n",
              "      <td>0</td>\n",
              "      <td>0</td>\n",
              "      <td>1</td>\n",
              "      <td>0</td>\n",
              "      <td>1</td>\n",
              "    </tr>\n",
              "    <tr>\n",
              "      <th>2</th>\n",
              "      <td>100003</td>\n",
              "      <td>49</td>\n",
              "      <td>2</td>\n",
              "      <td>3</td>\n",
              "      <td>2096</td>\n",
              "      <td>12</td>\n",
              "      <td>2</td>\n",
              "      <td>1</td>\n",
              "      <td>0</td>\n",
              "      <td>1</td>\n",
              "      <td>0</td>\n",
              "      <td>1</td>\n",
              "      <td>0</td>\n",
              "      <td>0</td>\n",
              "      <td>1</td>\n",
              "      <td>1</td>\n",
              "      <td>0</td>\n",
              "      <td>1</td>\n",
              "      <td>0</td>\n",
              "      <td>0</td>\n",
              "      <td>0</td>\n",
              "      <td>1</td>\n",
              "      <td>0</td>\n",
              "      <td>0</td>\n",
              "      <td>1</td>\n",
              "      <td>0</td>\n",
              "      <td>0</td>\n",
              "      <td>0</td>\n",
              "      <td>1</td>\n",
              "      <td>0</td>\n",
              "      <td>1</td>\n",
              "      <td>0</td>\n",
              "      <td>0</td>\n",
              "      <td>0</td>\n",
              "      <td>0</td>\n",
              "      <td>0</td>\n",
              "      <td>0</td>\n",
              "      <td>1</td>\n",
              "      <td>0</td>\n",
              "      <td>0</td>\n",
              "      <td>0</td>\n",
              "      <td>1</td>\n",
              "      <td>0</td>\n",
              "      <td>0</td>\n",
              "      <td>0</td>\n",
              "      <td>0</td>\n",
              "      <td>0</td>\n",
              "      <td>0</td>\n",
              "      <td>0</td>\n",
              "      <td>0</td>\n",
              "      <td>1</td>\n",
              "      <td>0</td>\n",
              "      <td>1</td>\n",
              "    </tr>\n",
              "    <tr>\n",
              "      <th>3</th>\n",
              "      <td>100004</td>\n",
              "      <td>45</td>\n",
              "      <td>2</td>\n",
              "      <td>4</td>\n",
              "      <td>7882</td>\n",
              "      <td>42</td>\n",
              "      <td>2</td>\n",
              "      <td>1</td>\n",
              "      <td>0</td>\n",
              "      <td>1</td>\n",
              "      <td>0</td>\n",
              "      <td>1</td>\n",
              "      <td>0</td>\n",
              "      <td>0</td>\n",
              "      <td>0</td>\n",
              "      <td>1</td>\n",
              "      <td>0</td>\n",
              "      <td>0</td>\n",
              "      <td>1</td>\n",
              "      <td>0</td>\n",
              "      <td>0</td>\n",
              "      <td>0</td>\n",
              "      <td>1</td>\n",
              "      <td>0</td>\n",
              "      <td>1</td>\n",
              "      <td>0</td>\n",
              "      <td>0</td>\n",
              "      <td>0</td>\n",
              "      <td>1</td>\n",
              "      <td>0</td>\n",
              "      <td>1</td>\n",
              "      <td>0</td>\n",
              "      <td>0</td>\n",
              "      <td>0</td>\n",
              "      <td>0</td>\n",
              "      <td>0</td>\n",
              "      <td>0</td>\n",
              "      <td>0</td>\n",
              "      <td>0</td>\n",
              "      <td>1</td>\n",
              "      <td>0</td>\n",
              "      <td>0</td>\n",
              "      <td>0</td>\n",
              "      <td>0</td>\n",
              "      <td>1</td>\n",
              "      <td>0</td>\n",
              "      <td>0</td>\n",
              "      <td>0</td>\n",
              "      <td>0</td>\n",
              "      <td>0</td>\n",
              "      <td>0</td>\n",
              "      <td>1</td>\n",
              "      <td>1</td>\n",
              "    </tr>\n",
              "    <tr>\n",
              "      <th>4</th>\n",
              "      <td>100005</td>\n",
              "      <td>53</td>\n",
              "      <td>2</td>\n",
              "      <td>4</td>\n",
              "      <td>4870</td>\n",
              "      <td>24</td>\n",
              "      <td>3</td>\n",
              "      <td>2</td>\n",
              "      <td>1</td>\n",
              "      <td>1</td>\n",
              "      <td>0</td>\n",
              "      <td>1</td>\n",
              "      <td>0</td>\n",
              "      <td>0</td>\n",
              "      <td>0</td>\n",
              "      <td>1</td>\n",
              "      <td>0</td>\n",
              "      <td>0</td>\n",
              "      <td>0</td>\n",
              "      <td>0</td>\n",
              "      <td>0</td>\n",
              "      <td>0</td>\n",
              "      <td>1</td>\n",
              "      <td>0</td>\n",
              "      <td>1</td>\n",
              "      <td>0</td>\n",
              "      <td>0</td>\n",
              "      <td>1</td>\n",
              "      <td>0</td>\n",
              "      <td>0</td>\n",
              "      <td>1</td>\n",
              "      <td>0</td>\n",
              "      <td>0</td>\n",
              "      <td>0</td>\n",
              "      <td>0</td>\n",
              "      <td>0</td>\n",
              "      <td>0</td>\n",
              "      <td>0</td>\n",
              "      <td>0</td>\n",
              "      <td>0</td>\n",
              "      <td>1</td>\n",
              "      <td>0</td>\n",
              "      <td>1</td>\n",
              "      <td>0</td>\n",
              "      <td>0</td>\n",
              "      <td>0</td>\n",
              "      <td>0</td>\n",
              "      <td>0</td>\n",
              "      <td>0</td>\n",
              "      <td>0</td>\n",
              "      <td>1</td>\n",
              "      <td>0</td>\n",
              "      <td>1</td>\n",
              "    </tr>\n",
              "  </tbody>\n",
              "</table>\n",
              "</div>"
            ],
            "text/plain": [
              "   Customer_ID  Age  ...  Other_Debtors_Guarantors_A103  Other_Inst_Plans_A143\n",
              "0       100001   67  ...                              0                      1\n",
              "1       100002   22  ...                              0                      1\n",
              "2       100003   49  ...                              0                      1\n",
              "3       100004   45  ...                              1                      1\n",
              "4       100005   53  ...                              0                      1\n",
              "\n",
              "[5 rows x 53 columns]"
            ]
          },
          "metadata": {
            "tags": []
          },
          "execution_count": 30
        }
      ]
    },
    {
      "cell_type": "markdown",
      "metadata": {
        "id": "afCah-_ihGjW",
        "colab_type": "text"
      },
      "source": [
        "Okay so back to the count column, I have checked the Data Dictionary and frankly do not see any mention of it, lemme investigate further"
      ]
    },
    {
      "cell_type": "code",
      "metadata": {
        "id": "XaHj4_gChUpW",
        "colab_type": "code",
        "outputId": "3c00fa11-3be5-4125-cc90-5006ccc19c51",
        "colab": {
          "base_uri": "https://localhost:8080/",
          "height": 35
        }
      },
      "source": [
        "loan_df_dummies.Count.nunique()\n",
        "\n",
        "# this shows it contains only one unique item which is 1,  5000 times.\n",
        "# I don't see any use for it and will delete it in the dummies data frame so it is not one of our features"
      ],
      "execution_count": 31,
      "outputs": [
        {
          "output_type": "execute_result",
          "data": {
            "text/plain": [
              "1"
            ]
          },
          "metadata": {
            "tags": []
          },
          "execution_count": 31
        }
      ]
    },
    {
      "cell_type": "markdown",
      "metadata": {
        "id": "F5yS16Qc2N0c",
        "colab_type": "text"
      },
      "source": [
        "Let's drop the Count column as well as the customer Id column"
      ]
    },
    {
      "cell_type": "code",
      "metadata": {
        "id": "pJ3oqgvzh62T",
        "colab_type": "code",
        "outputId": "49a996cf-2ced-4ec5-b2f5-4bd7acf7cb95",
        "colab": {
          "base_uri": "https://localhost:8080/",
          "height": 35
        }
      },
      "source": [
        "loan_df_dummies.drop(['Count', 'Customer_ID'], axis=1, inplace=True)\n",
        "\n",
        "# let's confirm that the delete is done.\n",
        "'Count' in loan_df_dummies.columns"
      ],
      "execution_count": 32,
      "outputs": [
        {
          "output_type": "execute_result",
          "data": {
            "text/plain": [
              "False"
            ]
          },
          "metadata": {
            "tags": []
          },
          "execution_count": 32
        }
      ]
    },
    {
      "cell_type": "markdown",
      "metadata": {
        "id": "fPNlF1fddfTS",
        "colab_type": "text"
      },
      "source": [
        "Then finally for this phase, let's reposition our target variable to the last column"
      ]
    },
    {
      "cell_type": "code",
      "metadata": {
        "id": "E1sUzUPPdpNi",
        "colab_type": "code",
        "outputId": "0edfc187-a201-4dbc-fb8c-97cf3b6a963d",
        "colab": {
          "base_uri": "https://localhost:8080/",
          "height": 214
        }
      },
      "source": [
        "temp = loan_df_dummies.Default_On_Payment\n",
        "\n",
        "loan_df_dummies = loan_df_dummies.drop('Default_On_Payment', axis=1)\n",
        "\n",
        "loan_df_dummies['Default_On_Payment'] = temp\n",
        "\n",
        "loan_df_dummies.head()"
      ],
      "execution_count": 33,
      "outputs": [
        {
          "output_type": "execute_result",
          "data": {
            "text/html": [
              "<div>\n",
              "<style scoped>\n",
              "    .dataframe tbody tr th:only-of-type {\n",
              "        vertical-align: middle;\n",
              "    }\n",
              "\n",
              "    .dataframe tbody tr th {\n",
              "        vertical-align: top;\n",
              "    }\n",
              "\n",
              "    .dataframe thead th {\n",
              "        text-align: right;\n",
              "    }\n",
              "</style>\n",
              "<table border=\"1\" class=\"dataframe\">\n",
              "  <thead>\n",
              "    <tr style=\"text-align: right;\">\n",
              "      <th></th>\n",
              "      <th>Age</th>\n",
              "      <th>Dependents</th>\n",
              "      <th>Current_Address_Yrs</th>\n",
              "      <th>Credit_Amount</th>\n",
              "      <th>Duration_in_Months</th>\n",
              "      <th>Inst_Rate_Income</th>\n",
              "      <th>Num_Curr_Credits</th>\n",
              "      <th>Marital_Status_Gender_A92</th>\n",
              "      <th>Marital_Status_Gender_A93</th>\n",
              "      <th>Marital_Status_Gender_A94</th>\n",
              "      <th>Housing_A151</th>\n",
              "      <th>Housing_A152</th>\n",
              "      <th>Telephone_A191</th>\n",
              "      <th>Telephone_A192</th>\n",
              "      <th>Property_A121</th>\n",
              "      <th>Property_A122</th>\n",
              "      <th>Property_A123</th>\n",
              "      <th>Job_A171</th>\n",
              "      <th>Job_A172</th>\n",
              "      <th>Job_A173</th>\n",
              "      <th>Job_A174</th>\n",
              "      <th>Foreign_Worker_A201</th>\n",
              "      <th>Foreign_Worker_A202</th>\n",
              "      <th>Present_Employment_Years_A71</th>\n",
              "      <th>Present_Employment_Years_A73</th>\n",
              "      <th>Present_Employment_Years_A74</th>\n",
              "      <th>Present_Employment_Years_A75</th>\n",
              "      <th>Savings_Acc_A61</th>\n",
              "      <th>Savings_Acc_A62</th>\n",
              "      <th>Savings_Acc_A63</th>\n",
              "      <th>Savings_Acc_A64</th>\n",
              "      <th>Savings_Acc_A65</th>\n",
              "      <th>Status_Checking_Acc_A12</th>\n",
              "      <th>Status_Checking_Acc_A13</th>\n",
              "      <th>Status_Checking_Acc_A14</th>\n",
              "      <th>Credit_History_A30</th>\n",
              "      <th>Credit_History_A32</th>\n",
              "      <th>Credit_History_A33</th>\n",
              "      <th>Credit_History_A34</th>\n",
              "      <th>Credit_Purpose_A40</th>\n",
              "      <th>Credit_Purpose_A41</th>\n",
              "      <th>Credit_Purpose_A42</th>\n",
              "      <th>Credit_Purpose_A43</th>\n",
              "      <th>Credit_Purpose_A44</th>\n",
              "      <th>Credit_Purpose_A45</th>\n",
              "      <th>Credit_Purpose_A48</th>\n",
              "      <th>Credit_Purpose_A49</th>\n",
              "      <th>Other_Debtors_Guarantors_A101</th>\n",
              "      <th>Other_Debtors_Guarantors_A103</th>\n",
              "      <th>Other_Inst_Plans_A143</th>\n",
              "      <th>Default_On_Payment</th>\n",
              "    </tr>\n",
              "  </thead>\n",
              "  <tbody>\n",
              "    <tr>\n",
              "      <th>0</th>\n",
              "      <td>67</td>\n",
              "      <td>1</td>\n",
              "      <td>4</td>\n",
              "      <td>1169</td>\n",
              "      <td>6</td>\n",
              "      <td>4</td>\n",
              "      <td>2</td>\n",
              "      <td>0</td>\n",
              "      <td>1</td>\n",
              "      <td>0</td>\n",
              "      <td>0</td>\n",
              "      <td>1</td>\n",
              "      <td>0</td>\n",
              "      <td>1</td>\n",
              "      <td>1</td>\n",
              "      <td>0</td>\n",
              "      <td>0</td>\n",
              "      <td>0</td>\n",
              "      <td>0</td>\n",
              "      <td>1</td>\n",
              "      <td>0</td>\n",
              "      <td>1</td>\n",
              "      <td>0</td>\n",
              "      <td>0</td>\n",
              "      <td>0</td>\n",
              "      <td>0</td>\n",
              "      <td>1</td>\n",
              "      <td>0</td>\n",
              "      <td>0</td>\n",
              "      <td>0</td>\n",
              "      <td>0</td>\n",
              "      <td>1</td>\n",
              "      <td>0</td>\n",
              "      <td>0</td>\n",
              "      <td>0</td>\n",
              "      <td>0</td>\n",
              "      <td>0</td>\n",
              "      <td>0</td>\n",
              "      <td>1</td>\n",
              "      <td>0</td>\n",
              "      <td>0</td>\n",
              "      <td>0</td>\n",
              "      <td>1</td>\n",
              "      <td>0</td>\n",
              "      <td>0</td>\n",
              "      <td>0</td>\n",
              "      <td>0</td>\n",
              "      <td>1</td>\n",
              "      <td>0</td>\n",
              "      <td>1</td>\n",
              "      <td>0</td>\n",
              "    </tr>\n",
              "    <tr>\n",
              "      <th>1</th>\n",
              "      <td>22</td>\n",
              "      <td>1</td>\n",
              "      <td>2</td>\n",
              "      <td>5951</td>\n",
              "      <td>48</td>\n",
              "      <td>2</td>\n",
              "      <td>1</td>\n",
              "      <td>1</td>\n",
              "      <td>0</td>\n",
              "      <td>0</td>\n",
              "      <td>0</td>\n",
              "      <td>1</td>\n",
              "      <td>1</td>\n",
              "      <td>0</td>\n",
              "      <td>1</td>\n",
              "      <td>0</td>\n",
              "      <td>0</td>\n",
              "      <td>0</td>\n",
              "      <td>0</td>\n",
              "      <td>1</td>\n",
              "      <td>0</td>\n",
              "      <td>1</td>\n",
              "      <td>0</td>\n",
              "      <td>0</td>\n",
              "      <td>1</td>\n",
              "      <td>0</td>\n",
              "      <td>0</td>\n",
              "      <td>1</td>\n",
              "      <td>0</td>\n",
              "      <td>0</td>\n",
              "      <td>0</td>\n",
              "      <td>0</td>\n",
              "      <td>1</td>\n",
              "      <td>0</td>\n",
              "      <td>0</td>\n",
              "      <td>0</td>\n",
              "      <td>1</td>\n",
              "      <td>0</td>\n",
              "      <td>0</td>\n",
              "      <td>0</td>\n",
              "      <td>0</td>\n",
              "      <td>0</td>\n",
              "      <td>1</td>\n",
              "      <td>0</td>\n",
              "      <td>0</td>\n",
              "      <td>0</td>\n",
              "      <td>0</td>\n",
              "      <td>1</td>\n",
              "      <td>0</td>\n",
              "      <td>1</td>\n",
              "      <td>0</td>\n",
              "    </tr>\n",
              "    <tr>\n",
              "      <th>2</th>\n",
              "      <td>49</td>\n",
              "      <td>2</td>\n",
              "      <td>3</td>\n",
              "      <td>2096</td>\n",
              "      <td>12</td>\n",
              "      <td>2</td>\n",
              "      <td>1</td>\n",
              "      <td>0</td>\n",
              "      <td>1</td>\n",
              "      <td>0</td>\n",
              "      <td>0</td>\n",
              "      <td>1</td>\n",
              "      <td>1</td>\n",
              "      <td>0</td>\n",
              "      <td>1</td>\n",
              "      <td>0</td>\n",
              "      <td>0</td>\n",
              "      <td>0</td>\n",
              "      <td>1</td>\n",
              "      <td>0</td>\n",
              "      <td>0</td>\n",
              "      <td>1</td>\n",
              "      <td>0</td>\n",
              "      <td>0</td>\n",
              "      <td>0</td>\n",
              "      <td>1</td>\n",
              "      <td>0</td>\n",
              "      <td>1</td>\n",
              "      <td>0</td>\n",
              "      <td>0</td>\n",
              "      <td>0</td>\n",
              "      <td>0</td>\n",
              "      <td>0</td>\n",
              "      <td>0</td>\n",
              "      <td>1</td>\n",
              "      <td>0</td>\n",
              "      <td>0</td>\n",
              "      <td>0</td>\n",
              "      <td>1</td>\n",
              "      <td>0</td>\n",
              "      <td>0</td>\n",
              "      <td>0</td>\n",
              "      <td>0</td>\n",
              "      <td>0</td>\n",
              "      <td>0</td>\n",
              "      <td>0</td>\n",
              "      <td>0</td>\n",
              "      <td>1</td>\n",
              "      <td>0</td>\n",
              "      <td>1</td>\n",
              "      <td>0</td>\n",
              "    </tr>\n",
              "    <tr>\n",
              "      <th>3</th>\n",
              "      <td>45</td>\n",
              "      <td>2</td>\n",
              "      <td>4</td>\n",
              "      <td>7882</td>\n",
              "      <td>42</td>\n",
              "      <td>2</td>\n",
              "      <td>1</td>\n",
              "      <td>0</td>\n",
              "      <td>1</td>\n",
              "      <td>0</td>\n",
              "      <td>0</td>\n",
              "      <td>0</td>\n",
              "      <td>1</td>\n",
              "      <td>0</td>\n",
              "      <td>0</td>\n",
              "      <td>1</td>\n",
              "      <td>0</td>\n",
              "      <td>0</td>\n",
              "      <td>0</td>\n",
              "      <td>1</td>\n",
              "      <td>0</td>\n",
              "      <td>1</td>\n",
              "      <td>0</td>\n",
              "      <td>0</td>\n",
              "      <td>0</td>\n",
              "      <td>1</td>\n",
              "      <td>0</td>\n",
              "      <td>1</td>\n",
              "      <td>0</td>\n",
              "      <td>0</td>\n",
              "      <td>0</td>\n",
              "      <td>0</td>\n",
              "      <td>0</td>\n",
              "      <td>0</td>\n",
              "      <td>0</td>\n",
              "      <td>0</td>\n",
              "      <td>1</td>\n",
              "      <td>0</td>\n",
              "      <td>0</td>\n",
              "      <td>0</td>\n",
              "      <td>0</td>\n",
              "      <td>1</td>\n",
              "      <td>0</td>\n",
              "      <td>0</td>\n",
              "      <td>0</td>\n",
              "      <td>0</td>\n",
              "      <td>0</td>\n",
              "      <td>0</td>\n",
              "      <td>1</td>\n",
              "      <td>1</td>\n",
              "      <td>0</td>\n",
              "    </tr>\n",
              "    <tr>\n",
              "      <th>4</th>\n",
              "      <td>53</td>\n",
              "      <td>2</td>\n",
              "      <td>4</td>\n",
              "      <td>4870</td>\n",
              "      <td>24</td>\n",
              "      <td>3</td>\n",
              "      <td>2</td>\n",
              "      <td>0</td>\n",
              "      <td>1</td>\n",
              "      <td>0</td>\n",
              "      <td>0</td>\n",
              "      <td>0</td>\n",
              "      <td>1</td>\n",
              "      <td>0</td>\n",
              "      <td>0</td>\n",
              "      <td>0</td>\n",
              "      <td>0</td>\n",
              "      <td>0</td>\n",
              "      <td>0</td>\n",
              "      <td>1</td>\n",
              "      <td>0</td>\n",
              "      <td>1</td>\n",
              "      <td>0</td>\n",
              "      <td>0</td>\n",
              "      <td>1</td>\n",
              "      <td>0</td>\n",
              "      <td>0</td>\n",
              "      <td>1</td>\n",
              "      <td>0</td>\n",
              "      <td>0</td>\n",
              "      <td>0</td>\n",
              "      <td>0</td>\n",
              "      <td>0</td>\n",
              "      <td>0</td>\n",
              "      <td>0</td>\n",
              "      <td>0</td>\n",
              "      <td>0</td>\n",
              "      <td>1</td>\n",
              "      <td>0</td>\n",
              "      <td>1</td>\n",
              "      <td>0</td>\n",
              "      <td>0</td>\n",
              "      <td>0</td>\n",
              "      <td>0</td>\n",
              "      <td>0</td>\n",
              "      <td>0</td>\n",
              "      <td>0</td>\n",
              "      <td>1</td>\n",
              "      <td>0</td>\n",
              "      <td>1</td>\n",
              "      <td>1</td>\n",
              "    </tr>\n",
              "  </tbody>\n",
              "</table>\n",
              "</div>"
            ],
            "text/plain": [
              "   Age  Dependents  ...  Other_Inst_Plans_A143  Default_On_Payment\n",
              "0   67           1  ...                      1                   0\n",
              "1   22           1  ...                      1                   0\n",
              "2   49           2  ...                      1                   0\n",
              "3   45           2  ...                      1                   0\n",
              "4   53           2  ...                      1                   1\n",
              "\n",
              "[5 rows x 51 columns]"
            ]
          },
          "metadata": {
            "tags": []
          },
          "execution_count": 33
        }
      ]
    },
    {
      "cell_type": "markdown",
      "metadata": {
        "id": "yg05Hc8pJqNm",
        "colab_type": "text"
      },
      "source": [
        "### How Balanced is our data?"
      ]
    },
    {
      "cell_type": "markdown",
      "metadata": {
        "id": "sPj77UizT2Ei",
        "colab_type": "text"
      },
      "source": [
        "Let's check the ratio of defaulters to non-defaulters in the data set. "
      ]
    },
    {
      "cell_type": "code",
      "metadata": {
        "id": "x7kilMc3Sbip",
        "colab_type": "code",
        "outputId": "a0f3613a-ee3f-4f06-c2df-0dc5dcc84b30",
        "colab": {
          "base_uri": "https://localhost:8080/",
          "height": 70
        }
      },
      "source": [
        "loan_df.Default_On_Payment.value_counts(normalize=True)"
      ],
      "execution_count": 34,
      "outputs": [
        {
          "output_type": "execute_result",
          "data": {
            "text/plain": [
              "0    0.701\n",
              "1    0.299\n",
              "Name: Default_On_Payment, dtype: float64"
            ]
          },
          "metadata": {
            "tags": []
          },
          "execution_count": 34
        }
      ]
    },
    {
      "cell_type": "markdown",
      "metadata": {
        "id": "rPdk1vFVUAQv",
        "colab_type": "text"
      },
      "source": [
        "70% of the data set customers do not default and only 30% do.<br>\n",
        "So we have an imbalanced data set.\n",
        "\n",
        "An imbalanced Data set is one in which the elements within it are not evenly or fairly arranged.<br>\n",
        "Just as in this case, we have 70% of elements in Non-default-class and 30% in Default-class."
      ]
    },
    {
      "cell_type": "markdown",
      "metadata": {
        "id": "Yf78rGqSJwMy",
        "colab_type": "text"
      },
      "source": [
        "let's visualize that"
      ]
    },
    {
      "cell_type": "code",
      "metadata": {
        "id": "9NpCaEPkEuIq",
        "colab_type": "code",
        "outputId": "8e0fc258-6b65-4899-f192-8e453f97c78c",
        "colab": {
          "base_uri": "https://localhost:8080/",
          "height": 514
        }
      },
      "source": [
        "plt.figure(figsize=(8, 8))\n",
        "\n",
        "x = loan_df_dummies.Default_On_Payment.replace(to_replace=[0, 1], value=['Non-Defaulters','Defaulters'])\n",
        "sns.countplot(x)\n",
        "plt.title('Count of Defaulters and Non-Defaulters')\n",
        "plt.show()"
      ],
      "execution_count": 35,
      "outputs": [
        {
          "output_type": "display_data",
          "data": {
            "image/png": "[encoded data removed]",
            "text/plain": [
              "<Figure size 576x576 with 1 Axes>"
            ]
          },
          "metadata": {
            "tags": []
          }
        }
      ]
    },
    {
      "cell_type": "markdown",
      "metadata": {
        "id": "U9PTMVbOYXeG",
        "colab_type": "text"
      },
      "source": [
        "Let's see the correlation of variables in our data set"
      ]
    },
    {
      "cell_type": "code",
      "metadata": {
        "id": "Yi67iNG-YdOe",
        "colab_type": "code",
        "outputId": "d8f1b9c8-f432-43aa-f888-1fe1b54eddbf",
        "colab": {
          "base_uri": "https://localhost:8080/",
          "height": 581
        }
      },
      "source": [
        "corr_data = loan_df.corr()\n",
        "\n",
        "# Lets visualize the correlation using a heat map from SNS\n",
        "plt.figure(figsize=(12,8))\n",
        "sns.heatmap(corr_data, annot=True, square=True, linewidths=2.5)\n",
        "plt.show()"
      ],
      "execution_count": 36,
      "outputs": [
        {
          "output_type": "display_data",
          "data": {
            "image/png": "[encoded data removed]",
            "text/plain": [
              "<Figure size 864x576 with 2 Axes>"
            ]
          },
          "metadata": {
            "tags": []
          }
        }
      ]
    },
    {
      "cell_type": "markdown",
      "metadata": {
        "id": "lb1FziTqMZLv",
        "colab_type": "text"
      },
      "source": [
        "### Now Let's balance The Data set by Over-Sampling"
      ]
    },
    {
      "cell_type": "markdown",
      "metadata": {
        "id": "K4p7012ekgZe",
        "colab_type": "text"
      },
      "source": [
        "We need to balance The Data set because in an imbalanced Data set Accuracy is not a reliable metric for the real performance of a classifier, because it will yield misleading results (that is, when the numbers of observations in different classes vary greatly).<br>\n",
        "For example, 70% non-defaulters and 30% defaulters, a particular classifier might classify all or most of the observations as Non-defaulters.<br> \n",
        "This is due to the classifier or model having a high recognition rate (sensitivity) for the dominant class.<br>\n",
        "[F1 score](https://scikit-learn.org/stable/modules/generated/sklearn.metrics.f1_score.html) too, would even be more unreliable in an imbalanced Data set.\n",
        "See [link](https://en.wikipedia.org/wiki/Confusion_matrix)"
      ]
    },
    {
      "cell_type": "code",
      "metadata": {
        "id": "brjQcpQKMssM",
        "colab_type": "code",
        "outputId": "3fcca9bf-bdaf-4aeb-e0cc-9102bfe5acf7",
        "colab": {
          "base_uri": "https://localhost:8080/",
          "height": 108
        }
      },
      "source": [
        "from imblearn.over_sampling import SMOTE\n",
        "sm = SMOTE(sampling_strategy='minority', random_state=19, k_neighbors=5)"
      ],
      "execution_count": 37,
      "outputs": [
        {
          "output_type": "stream",
          "text": [
            "/usr/local/lib/python3.6/dist-packages/sklearn/externals/six.py:31: FutureWarning: The module is deprecated in version 0.21 and will be removed in version 0.23 since we've dropped support for Python 2.7. Please rely on the official version of six (https://pypi.org/project/six/).\n",
            "  \"(https://pypi.org/project/six/).\", FutureWarning)\n",
            "/usr/local/lib/python3.6/dist-packages/sklearn/utils/deprecation.py:144: FutureWarning: The sklearn.neighbors.base module is  deprecated in version 0.22 and will be removed in version 0.24. The corresponding classes / functions should instead be imported from sklearn.neighbors. Anything that cannot be imported from sklearn.neighbors is now part of the private API.\n",
            "  warnings.warn(message, FutureWarning)\n"
          ],
          "name": "stderr"
        }
      ]
    },
    {
      "cell_type": "code",
      "metadata": {
        "id": "2RcwKxwtPr4R",
        "colab_type": "code",
        "outputId": "9d7e902c-6205-4ad8-90f9-6168896c5148",
        "colab": {
          "base_uri": "https://localhost:8080/",
          "height": 52
        }
      },
      "source": [
        "over_sampled_features, over_sampled_target = sm.fit_resample(loan_df_dummies.drop('Default_On_Payment', axis=1), loan_df_dummies.Default_On_Payment)"
      ],
      "execution_count": 38,
      "outputs": [
        {
          "output_type": "stream",
          "text": [
            "/usr/local/lib/python3.6/dist-packages/sklearn/utils/deprecation.py:87: FutureWarning: Function safe_indexing is deprecated; safe_indexing is deprecated in version 0.22 and will be removed in version 0.24.\n",
            "  warnings.warn(msg, category=FutureWarning)\n"
          ],
          "name": "stderr"
        }
      ]
    },
    {
      "cell_type": "code",
      "metadata": {
        "id": "CekWebPwSnXd",
        "colab_type": "code",
        "outputId": "bf98a107-ad72-4d18-9698-a007110d0fc2",
        "colab": {
          "base_uri": "https://localhost:8080/",
          "height": 52
        }
      },
      "source": [
        "print('Shape of resampled feature set is:',over_sampled_features.shape)\n",
        "print('Shape of resampled target data is:',over_sampled_target.shape)"
      ],
      "execution_count": 39,
      "outputs": [
        {
          "output_type": "stream",
          "text": [
            "Shape of resampled feature set is: (7010, 50)\n",
            "Shape of resampled target data is: (7010,)\n"
          ],
          "name": "stdout"
        }
      ]
    },
    {
      "cell_type": "markdown",
      "metadata": {
        "id": "clEjDC-ITuKH",
        "colab_type": "text"
      },
      "source": [
        "Let's concat the features and target back into one data frame"
      ]
    },
    {
      "cell_type": "code",
      "metadata": {
        "id": "ze6BEXjBZVpE",
        "colab_type": "code",
        "outputId": "3a95a8d1-57c4-43af-c23b-23afa8f210b1",
        "colab": {
          "base_uri": "https://localhost:8080/",
          "height": 106
        }
      },
      "source": [
        "over_sampled_features = pd.DataFrame(over_sampled_features)\n",
        "\n",
        "over_sampled_features['x'] = over_sampled_target\n",
        "\n",
        "resampled_data = over_sampled_features\n",
        "\n",
        "resampled_data.head(2)"
      ],
      "execution_count": 40,
      "outputs": [
        {
          "output_type": "execute_result",
          "data": {
            "text/html": [
              "<div>\n",
              "<style scoped>\n",
              "    .dataframe tbody tr th:only-of-type {\n",
              "        vertical-align: middle;\n",
              "    }\n",
              "\n",
              "    .dataframe tbody tr th {\n",
              "        vertical-align: top;\n",
              "    }\n",
              "\n",
              "    .dataframe thead th {\n",
              "        text-align: right;\n",
              "    }\n",
              "</style>\n",
              "<table border=\"1\" class=\"dataframe\">\n",
              "  <thead>\n",
              "    <tr style=\"text-align: right;\">\n",
              "      <th></th>\n",
              "      <th>0</th>\n",
              "      <th>1</th>\n",
              "      <th>2</th>\n",
              "      <th>3</th>\n",
              "      <th>4</th>\n",
              "      <th>5</th>\n",
              "      <th>6</th>\n",
              "      <th>7</th>\n",
              "      <th>8</th>\n",
              "      <th>9</th>\n",
              "      <th>10</th>\n",
              "      <th>11</th>\n",
              "      <th>12</th>\n",
              "      <th>13</th>\n",
              "      <th>14</th>\n",
              "      <th>15</th>\n",
              "      <th>16</th>\n",
              "      <th>17</th>\n",
              "      <th>18</th>\n",
              "      <th>19</th>\n",
              "      <th>20</th>\n",
              "      <th>21</th>\n",
              "      <th>22</th>\n",
              "      <th>23</th>\n",
              "      <th>24</th>\n",
              "      <th>25</th>\n",
              "      <th>26</th>\n",
              "      <th>27</th>\n",
              "      <th>28</th>\n",
              "      <th>29</th>\n",
              "      <th>30</th>\n",
              "      <th>31</th>\n",
              "      <th>32</th>\n",
              "      <th>33</th>\n",
              "      <th>34</th>\n",
              "      <th>35</th>\n",
              "      <th>36</th>\n",
              "      <th>37</th>\n",
              "      <th>38</th>\n",
              "      <th>39</th>\n",
              "      <th>40</th>\n",
              "      <th>41</th>\n",
              "      <th>42</th>\n",
              "      <th>43</th>\n",
              "      <th>44</th>\n",
              "      <th>45</th>\n",
              "      <th>46</th>\n",
              "      <th>47</th>\n",
              "      <th>48</th>\n",
              "      <th>49</th>\n",
              "      <th>x</th>\n",
              "    </tr>\n",
              "  </thead>\n",
              "  <tbody>\n",
              "    <tr>\n",
              "      <th>0</th>\n",
              "      <td>67</td>\n",
              "      <td>1</td>\n",
              "      <td>4</td>\n",
              "      <td>1169</td>\n",
              "      <td>6</td>\n",
              "      <td>4</td>\n",
              "      <td>2</td>\n",
              "      <td>0</td>\n",
              "      <td>1</td>\n",
              "      <td>0</td>\n",
              "      <td>0</td>\n",
              "      <td>1</td>\n",
              "      <td>0</td>\n",
              "      <td>1</td>\n",
              "      <td>1</td>\n",
              "      <td>0</td>\n",
              "      <td>0</td>\n",
              "      <td>0</td>\n",
              "      <td>0</td>\n",
              "      <td>1</td>\n",
              "      <td>0</td>\n",
              "      <td>1</td>\n",
              "      <td>0</td>\n",
              "      <td>0</td>\n",
              "      <td>0</td>\n",
              "      <td>0</td>\n",
              "      <td>1</td>\n",
              "      <td>0</td>\n",
              "      <td>0</td>\n",
              "      <td>0</td>\n",
              "      <td>0</td>\n",
              "      <td>1</td>\n",
              "      <td>0</td>\n",
              "      <td>0</td>\n",
              "      <td>0</td>\n",
              "      <td>0</td>\n",
              "      <td>0</td>\n",
              "      <td>0</td>\n",
              "      <td>1</td>\n",
              "      <td>0</td>\n",
              "      <td>0</td>\n",
              "      <td>0</td>\n",
              "      <td>1</td>\n",
              "      <td>0</td>\n",
              "      <td>0</td>\n",
              "      <td>0</td>\n",
              "      <td>0</td>\n",
              "      <td>1</td>\n",
              "      <td>0</td>\n",
              "      <td>1</td>\n",
              "      <td>0</td>\n",
              "    </tr>\n",
              "    <tr>\n",
              "      <th>1</th>\n",
              "      <td>22</td>\n",
              "      <td>1</td>\n",
              "      <td>2</td>\n",
              "      <td>5951</td>\n",
              "      <td>48</td>\n",
              "      <td>2</td>\n",
              "      <td>1</td>\n",
              "      <td>1</td>\n",
              "      <td>0</td>\n",
              "      <td>0</td>\n",
              "      <td>0</td>\n",
              "      <td>1</td>\n",
              "      <td>1</td>\n",
              "      <td>0</td>\n",
              "      <td>1</td>\n",
              "      <td>0</td>\n",
              "      <td>0</td>\n",
              "      <td>0</td>\n",
              "      <td>0</td>\n",
              "      <td>1</td>\n",
              "      <td>0</td>\n",
              "      <td>1</td>\n",
              "      <td>0</td>\n",
              "      <td>0</td>\n",
              "      <td>1</td>\n",
              "      <td>0</td>\n",
              "      <td>0</td>\n",
              "      <td>1</td>\n",
              "      <td>0</td>\n",
              "      <td>0</td>\n",
              "      <td>0</td>\n",
              "      <td>0</td>\n",
              "      <td>1</td>\n",
              "      <td>0</td>\n",
              "      <td>0</td>\n",
              "      <td>0</td>\n",
              "      <td>1</td>\n",
              "      <td>0</td>\n",
              "      <td>0</td>\n",
              "      <td>0</td>\n",
              "      <td>0</td>\n",
              "      <td>0</td>\n",
              "      <td>1</td>\n",
              "      <td>0</td>\n",
              "      <td>0</td>\n",
              "      <td>0</td>\n",
              "      <td>0</td>\n",
              "      <td>1</td>\n",
              "      <td>0</td>\n",
              "      <td>1</td>\n",
              "      <td>0</td>\n",
              "    </tr>\n",
              "  </tbody>\n",
              "</table>\n",
              "</div>"
            ],
            "text/plain": [
              "    0  1  2     3   4  5  6  7  8  9  ...  41  42  43  44  45  46  47  48  49  x\n",
              "0  67  1  4  1169   6  4  2  0  1  0  ...   0   1   0   0   0   0   1   0   1  0\n",
              "1  22  1  2  5951  48  2  1  1  0  0  ...   0   1   0   0   0   0   1   0   1  0\n",
              "\n",
              "[2 rows x 51 columns]"
            ]
          },
          "metadata": {
            "tags": []
          },
          "execution_count": 40
        }
      ]
    },
    {
      "cell_type": "markdown",
      "metadata": {
        "id": "60luVcdQk6Q4",
        "colab_type": "text"
      },
      "source": [
        "And let's input the column headers"
      ]
    },
    {
      "cell_type": "code",
      "metadata": {
        "id": "61T9Ml-dbaSo",
        "colab_type": "code",
        "outputId": "73dcc6ff-7894-4d0f-b05f-5940363e793d",
        "colab": {
          "base_uri": "https://localhost:8080/",
          "height": 214
        }
      },
      "source": [
        "resampled_data.columns = loan_df_dummies.columns\n",
        "\n",
        "resampled_data.head()"
      ],
      "execution_count": 41,
      "outputs": [
        {
          "output_type": "execute_result",
          "data": {
            "text/html": [
              "<div>\n",
              "<style scoped>\n",
              "    .dataframe tbody tr th:only-of-type {\n",
              "        vertical-align: middle;\n",
              "    }\n",
              "\n",
              "    .dataframe tbody tr th {\n",
              "        vertical-align: top;\n",
              "    }\n",
              "\n",
              "    .dataframe thead th {\n",
              "        text-align: right;\n",
              "    }\n",
              "</style>\n",
              "<table border=\"1\" class=\"dataframe\">\n",
              "  <thead>\n",
              "    <tr style=\"text-align: right;\">\n",
              "      <th></th>\n",
              "      <th>Age</th>\n",
              "      <th>Dependents</th>\n",
              "      <th>Current_Address_Yrs</th>\n",
              "      <th>Credit_Amount</th>\n",
              "      <th>Duration_in_Months</th>\n",
              "      <th>Inst_Rate_Income</th>\n",
              "      <th>Num_Curr_Credits</th>\n",
              "      <th>Marital_Status_Gender_A92</th>\n",
              "      <th>Marital_Status_Gender_A93</th>\n",
              "      <th>Marital_Status_Gender_A94</th>\n",
              "      <th>Housing_A151</th>\n",
              "      <th>Housing_A152</th>\n",
              "      <th>Telephone_A191</th>\n",
              "      <th>Telephone_A192</th>\n",
              "      <th>Property_A121</th>\n",
              "      <th>Property_A122</th>\n",
              "      <th>Property_A123</th>\n",
              "      <th>Job_A171</th>\n",
              "      <th>Job_A172</th>\n",
              "      <th>Job_A173</th>\n",
              "      <th>Job_A174</th>\n",
              "      <th>Foreign_Worker_A201</th>\n",
              "      <th>Foreign_Worker_A202</th>\n",
              "      <th>Present_Employment_Years_A71</th>\n",
              "      <th>Present_Employment_Years_A73</th>\n",
              "      <th>Present_Employment_Years_A74</th>\n",
              "      <th>Present_Employment_Years_A75</th>\n",
              "      <th>Savings_Acc_A61</th>\n",
              "      <th>Savings_Acc_A62</th>\n",
              "      <th>Savings_Acc_A63</th>\n",
              "      <th>Savings_Acc_A64</th>\n",
              "      <th>Savings_Acc_A65</th>\n",
              "      <th>Status_Checking_Acc_A12</th>\n",
              "      <th>Status_Checking_Acc_A13</th>\n",
              "      <th>Status_Checking_Acc_A14</th>\n",
              "      <th>Credit_History_A30</th>\n",
              "      <th>Credit_History_A32</th>\n",
              "      <th>Credit_History_A33</th>\n",
              "      <th>Credit_History_A34</th>\n",
              "      <th>Credit_Purpose_A40</th>\n",
              "      <th>Credit_Purpose_A41</th>\n",
              "      <th>Credit_Purpose_A42</th>\n",
              "      <th>Credit_Purpose_A43</th>\n",
              "      <th>Credit_Purpose_A44</th>\n",
              "      <th>Credit_Purpose_A45</th>\n",
              "      <th>Credit_Purpose_A48</th>\n",
              "      <th>Credit_Purpose_A49</th>\n",
              "      <th>Other_Debtors_Guarantors_A101</th>\n",
              "      <th>Other_Debtors_Guarantors_A103</th>\n",
              "      <th>Other_Inst_Plans_A143</th>\n",
              "      <th>Default_On_Payment</th>\n",
              "    </tr>\n",
              "  </thead>\n",
              "  <tbody>\n",
              "    <tr>\n",
              "      <th>0</th>\n",
              "      <td>67</td>\n",
              "      <td>1</td>\n",
              "      <td>4</td>\n",
              "      <td>1169</td>\n",
              "      <td>6</td>\n",
              "      <td>4</td>\n",
              "      <td>2</td>\n",
              "      <td>0</td>\n",
              "      <td>1</td>\n",
              "      <td>0</td>\n",
              "      <td>0</td>\n",
              "      <td>1</td>\n",
              "      <td>0</td>\n",
              "      <td>1</td>\n",
              "      <td>1</td>\n",
              "      <td>0</td>\n",
              "      <td>0</td>\n",
              "      <td>0</td>\n",
              "      <td>0</td>\n",
              "      <td>1</td>\n",
              "      <td>0</td>\n",
              "      <td>1</td>\n",
              "      <td>0</td>\n",
              "      <td>0</td>\n",
              "      <td>0</td>\n",
              "      <td>0</td>\n",
              "      <td>1</td>\n",
              "      <td>0</td>\n",
              "      <td>0</td>\n",
              "      <td>0</td>\n",
              "      <td>0</td>\n",
              "      <td>1</td>\n",
              "      <td>0</td>\n",
              "      <td>0</td>\n",
              "      <td>0</td>\n",
              "      <td>0</td>\n",
              "      <td>0</td>\n",
              "      <td>0</td>\n",
              "      <td>1</td>\n",
              "      <td>0</td>\n",
              "      <td>0</td>\n",
              "      <td>0</td>\n",
              "      <td>1</td>\n",
              "      <td>0</td>\n",
              "      <td>0</td>\n",
              "      <td>0</td>\n",
              "      <td>0</td>\n",
              "      <td>1</td>\n",
              "      <td>0</td>\n",
              "      <td>1</td>\n",
              "      <td>0</td>\n",
              "    </tr>\n",
              "    <tr>\n",
              "      <th>1</th>\n",
              "      <td>22</td>\n",
              "      <td>1</td>\n",
              "      <td>2</td>\n",
              "      <td>5951</td>\n",
              "      <td>48</td>\n",
              "      <td>2</td>\n",
              "      <td>1</td>\n",
              "      <td>1</td>\n",
              "      <td>0</td>\n",
              "      <td>0</td>\n",
              "      <td>0</td>\n",
              "      <td>1</td>\n",
              "      <td>1</td>\n",
              "      <td>0</td>\n",
              "      <td>1</td>\n",
              "      <td>0</td>\n",
              "      <td>0</td>\n",
              "      <td>0</td>\n",
              "      <td>0</td>\n",
              "      <td>1</td>\n",
              "      <td>0</td>\n",
              "      <td>1</td>\n",
              "      <td>0</td>\n",
              "      <td>0</td>\n",
              "      <td>1</td>\n",
              "      <td>0</td>\n",
              "      <td>0</td>\n",
              "      <td>1</td>\n",
              "      <td>0</td>\n",
              "      <td>0</td>\n",
              "      <td>0</td>\n",
              "      <td>0</td>\n",
              "      <td>1</td>\n",
              "      <td>0</td>\n",
              "      <td>0</td>\n",
              "      <td>0</td>\n",
              "      <td>1</td>\n",
              "      <td>0</td>\n",
              "      <td>0</td>\n",
              "      <td>0</td>\n",
              "      <td>0</td>\n",
              "      <td>0</td>\n",
              "      <td>1</td>\n",
              "      <td>0</td>\n",
              "      <td>0</td>\n",
              "      <td>0</td>\n",
              "      <td>0</td>\n",
              "      <td>1</td>\n",
              "      <td>0</td>\n",
              "      <td>1</td>\n",
              "      <td>0</td>\n",
              "    </tr>\n",
              "    <tr>\n",
              "      <th>2</th>\n",
              "      <td>49</td>\n",
              "      <td>2</td>\n",
              "      <td>3</td>\n",
              "      <td>2096</td>\n",
              "      <td>12</td>\n",
              "      <td>2</td>\n",
              "      <td>1</td>\n",
              "      <td>0</td>\n",
              "      <td>1</td>\n",
              "      <td>0</td>\n",
              "      <td>0</td>\n",
              "      <td>1</td>\n",
              "      <td>1</td>\n",
              "      <td>0</td>\n",
              "      <td>1</td>\n",
              "      <td>0</td>\n",
              "      <td>0</td>\n",
              "      <td>0</td>\n",
              "      <td>1</td>\n",
              "      <td>0</td>\n",
              "      <td>0</td>\n",
              "      <td>1</td>\n",
              "      <td>0</td>\n",
              "      <td>0</td>\n",
              "      <td>0</td>\n",
              "      <td>1</td>\n",
              "      <td>0</td>\n",
              "      <td>1</td>\n",
              "      <td>0</td>\n",
              "      <td>0</td>\n",
              "      <td>0</td>\n",
              "      <td>0</td>\n",
              "      <td>0</td>\n",
              "      <td>0</td>\n",
              "      <td>1</td>\n",
              "      <td>0</td>\n",
              "      <td>0</td>\n",
              "      <td>0</td>\n",
              "      <td>1</td>\n",
              "      <td>0</td>\n",
              "      <td>0</td>\n",
              "      <td>0</td>\n",
              "      <td>0</td>\n",
              "      <td>0</td>\n",
              "      <td>0</td>\n",
              "      <td>0</td>\n",
              "      <td>0</td>\n",
              "      <td>1</td>\n",
              "      <td>0</td>\n",
              "      <td>1</td>\n",
              "      <td>0</td>\n",
              "    </tr>\n",
              "    <tr>\n",
              "      <th>3</th>\n",
              "      <td>45</td>\n",
              "      <td>2</td>\n",
              "      <td>4</td>\n",
              "      <td>7882</td>\n",
              "      <td>42</td>\n",
              "      <td>2</td>\n",
              "      <td>1</td>\n",
              "      <td>0</td>\n",
              "      <td>1</td>\n",
              "      <td>0</td>\n",
              "      <td>0</td>\n",
              "      <td>0</td>\n",
              "      <td>1</td>\n",
              "      <td>0</td>\n",
              "      <td>0</td>\n",
              "      <td>1</td>\n",
              "      <td>0</td>\n",
              "      <td>0</td>\n",
              "      <td>0</td>\n",
              "      <td>1</td>\n",
              "      <td>0</td>\n",
              "      <td>1</td>\n",
              "      <td>0</td>\n",
              "      <td>0</td>\n",
              "      <td>0</td>\n",
              "      <td>1</td>\n",
              "      <td>0</td>\n",
              "      <td>1</td>\n",
              "      <td>0</td>\n",
              "      <td>0</td>\n",
              "      <td>0</td>\n",
              "      <td>0</td>\n",
              "      <td>0</td>\n",
              "      <td>0</td>\n",
              "      <td>0</td>\n",
              "      <td>0</td>\n",
              "      <td>1</td>\n",
              "      <td>0</td>\n",
              "      <td>0</td>\n",
              "      <td>0</td>\n",
              "      <td>0</td>\n",
              "      <td>1</td>\n",
              "      <td>0</td>\n",
              "      <td>0</td>\n",
              "      <td>0</td>\n",
              "      <td>0</td>\n",
              "      <td>0</td>\n",
              "      <td>0</td>\n",
              "      <td>1</td>\n",
              "      <td>1</td>\n",
              "      <td>0</td>\n",
              "    </tr>\n",
              "    <tr>\n",
              "      <th>4</th>\n",
              "      <td>53</td>\n",
              "      <td>2</td>\n",
              "      <td>4</td>\n",
              "      <td>4870</td>\n",
              "      <td>24</td>\n",
              "      <td>3</td>\n",
              "      <td>2</td>\n",
              "      <td>0</td>\n",
              "      <td>1</td>\n",
              "      <td>0</td>\n",
              "      <td>0</td>\n",
              "      <td>0</td>\n",
              "      <td>1</td>\n",
              "      <td>0</td>\n",
              "      <td>0</td>\n",
              "      <td>0</td>\n",
              "      <td>0</td>\n",
              "      <td>0</td>\n",
              "      <td>0</td>\n",
              "      <td>1</td>\n",
              "      <td>0</td>\n",
              "      <td>1</td>\n",
              "      <td>0</td>\n",
              "      <td>0</td>\n",
              "      <td>1</td>\n",
              "      <td>0</td>\n",
              "      <td>0</td>\n",
              "      <td>1</td>\n",
              "      <td>0</td>\n",
              "      <td>0</td>\n",
              "      <td>0</td>\n",
              "      <td>0</td>\n",
              "      <td>0</td>\n",
              "      <td>0</td>\n",
              "      <td>0</td>\n",
              "      <td>0</td>\n",
              "      <td>0</td>\n",
              "      <td>1</td>\n",
              "      <td>0</td>\n",
              "      <td>1</td>\n",
              "      <td>0</td>\n",
              "      <td>0</td>\n",
              "      <td>0</td>\n",
              "      <td>0</td>\n",
              "      <td>0</td>\n",
              "      <td>0</td>\n",
              "      <td>0</td>\n",
              "      <td>1</td>\n",
              "      <td>0</td>\n",
              "      <td>1</td>\n",
              "      <td>1</td>\n",
              "    </tr>\n",
              "  </tbody>\n",
              "</table>\n",
              "</div>"
            ],
            "text/plain": [
              "   Age  Dependents  ...  Other_Inst_Plans_A143  Default_On_Payment\n",
              "0   67           1  ...                      1                   0\n",
              "1   22           1  ...                      1                   0\n",
              "2   49           2  ...                      1                   0\n",
              "3   45           2  ...                      1                   0\n",
              "4   53           2  ...                      1                   1\n",
              "\n",
              "[5 rows x 51 columns]"
            ]
          },
          "metadata": {
            "tags": []
          },
          "execution_count": 41
        }
      ]
    },
    {
      "cell_type": "markdown",
      "metadata": {
        "id": "Cm8zt0a8lWp2",
        "colab_type": "text"
      },
      "source": [
        "Let's revisualize the resampled target column that shows the number of Defaulters and Non-defaulters"
      ]
    },
    {
      "cell_type": "code",
      "metadata": {
        "id": "6fJTysgnizkX",
        "colab_type": "code",
        "outputId": "bf2ed523-ddc3-4b93-981d-ab6ac9a3c732",
        "colab": {
          "base_uri": "https://localhost:8080/",
          "height": 514
        }
      },
      "source": [
        "plt.figure(figsize=(8, 8))\n",
        "\n",
        "x = resampled_data.Default_On_Payment.replace(to_replace=[0, 1], value=['Non-Defaulters','Defaulters'])\n",
        "sns.countplot(x)\n",
        "plt.title('Count of Defaulters and Non-Defaulters- Balanced Data')\n",
        "plt.show()"
      ],
      "execution_count": 42,
      "outputs": [
        {
          "output_type": "display_data",
          "data": {
            "image/png": "[encoded data removed]",
            "text/plain": [
              "<Figure size 576x576 with 1 Axes>"
            ]
          },
          "metadata": {
            "tags": []
          }
        }
      ]
    },
    {
      "cell_type": "markdown",
      "metadata": {
        "colab_type": "text",
        "id": "qoCF2RR400sD"
      },
      "source": [
        "## **Feature Normalization**\n",
        "\n",
        "Let's use the min-max Normalizer by simply subtracting the min from each entry and divide by the range. This will return a number between 0 and 1 for all features"
      ]
    },
    {
      "cell_type": "code",
      "metadata": {
        "id": "YPOeTij11B_B",
        "colab_type": "code",
        "outputId": "a246d6bb-413b-4f0a-8e4a-741187e64503",
        "colab": {
          "base_uri": "https://localhost:8080/",
          "height": 155
        }
      },
      "source": [
        "resampled_data.head(3)"
      ],
      "execution_count": 43,
      "outputs": [
        {
          "output_type": "execute_result",
          "data": {
            "text/html": [
              "<div>\n",
              "<style scoped>\n",
              "    .dataframe tbody tr th:only-of-type {\n",
              "        vertical-align: middle;\n",
              "    }\n",
              "\n",
              "    .dataframe tbody tr th {\n",
              "        vertical-align: top;\n",
              "    }\n",
              "\n",
              "    .dataframe thead th {\n",
              "        text-align: right;\n",
              "    }\n",
              "</style>\n",
              "<table border=\"1\" class=\"dataframe\">\n",
              "  <thead>\n",
              "    <tr style=\"text-align: right;\">\n",
              "      <th></th>\n",
              "      <th>Age</th>\n",
              "      <th>Dependents</th>\n",
              "      <th>Current_Address_Yrs</th>\n",
              "      <th>Credit_Amount</th>\n",
              "      <th>Duration_in_Months</th>\n",
              "      <th>Inst_Rate_Income</th>\n",
              "      <th>Num_Curr_Credits</th>\n",
              "      <th>Marital_Status_Gender_A92</th>\n",
              "      <th>Marital_Status_Gender_A93</th>\n",
              "      <th>Marital_Status_Gender_A94</th>\n",
              "      <th>Housing_A151</th>\n",
              "      <th>Housing_A152</th>\n",
              "      <th>Telephone_A191</th>\n",
              "      <th>Telephone_A192</th>\n",
              "      <th>Property_A121</th>\n",
              "      <th>Property_A122</th>\n",
              "      <th>Property_A123</th>\n",
              "      <th>Job_A171</th>\n",
              "      <th>Job_A172</th>\n",
              "      <th>Job_A173</th>\n",
              "      <th>Job_A174</th>\n",
              "      <th>Foreign_Worker_A201</th>\n",
              "      <th>Foreign_Worker_A202</th>\n",
              "      <th>Present_Employment_Years_A71</th>\n",
              "      <th>Present_Employment_Years_A73</th>\n",
              "      <th>Present_Employment_Years_A74</th>\n",
              "      <th>Present_Employment_Years_A75</th>\n",
              "      <th>Savings_Acc_A61</th>\n",
              "      <th>Savings_Acc_A62</th>\n",
              "      <th>Savings_Acc_A63</th>\n",
              "      <th>Savings_Acc_A64</th>\n",
              "      <th>Savings_Acc_A65</th>\n",
              "      <th>Status_Checking_Acc_A12</th>\n",
              "      <th>Status_Checking_Acc_A13</th>\n",
              "      <th>Status_Checking_Acc_A14</th>\n",
              "      <th>Credit_History_A30</th>\n",
              "      <th>Credit_History_A32</th>\n",
              "      <th>Credit_History_A33</th>\n",
              "      <th>Credit_History_A34</th>\n",
              "      <th>Credit_Purpose_A40</th>\n",
              "      <th>Credit_Purpose_A41</th>\n",
              "      <th>Credit_Purpose_A42</th>\n",
              "      <th>Credit_Purpose_A43</th>\n",
              "      <th>Credit_Purpose_A44</th>\n",
              "      <th>Credit_Purpose_A45</th>\n",
              "      <th>Credit_Purpose_A48</th>\n",
              "      <th>Credit_Purpose_A49</th>\n",
              "      <th>Other_Debtors_Guarantors_A101</th>\n",
              "      <th>Other_Debtors_Guarantors_A103</th>\n",
              "      <th>Other_Inst_Plans_A143</th>\n",
              "      <th>Default_On_Payment</th>\n",
              "    </tr>\n",
              "  </thead>\n",
              "  <tbody>\n",
              "    <tr>\n",
              "      <th>0</th>\n",
              "      <td>67</td>\n",
              "      <td>1</td>\n",
              "      <td>4</td>\n",
              "      <td>1169</td>\n",
              "      <td>6</td>\n",
              "      <td>4</td>\n",
              "      <td>2</td>\n",
              "      <td>0</td>\n",
              "      <td>1</td>\n",
              "      <td>0</td>\n",
              "      <td>0</td>\n",
              "      <td>1</td>\n",
              "      <td>0</td>\n",
              "      <td>1</td>\n",
              "      <td>1</td>\n",
              "      <td>0</td>\n",
              "      <td>0</td>\n",
              "      <td>0</td>\n",
              "      <td>0</td>\n",
              "      <td>1</td>\n",
              "      <td>0</td>\n",
              "      <td>1</td>\n",
              "      <td>0</td>\n",
              "      <td>0</td>\n",
              "      <td>0</td>\n",
              "      <td>0</td>\n",
              "      <td>1</td>\n",
              "      <td>0</td>\n",
              "      <td>0</td>\n",
              "      <td>0</td>\n",
              "      <td>0</td>\n",
              "      <td>1</td>\n",
              "      <td>0</td>\n",
              "      <td>0</td>\n",
              "      <td>0</td>\n",
              "      <td>0</td>\n",
              "      <td>0</td>\n",
              "      <td>0</td>\n",
              "      <td>1</td>\n",
              "      <td>0</td>\n",
              "      <td>0</td>\n",
              "      <td>0</td>\n",
              "      <td>1</td>\n",
              "      <td>0</td>\n",
              "      <td>0</td>\n",
              "      <td>0</td>\n",
              "      <td>0</td>\n",
              "      <td>1</td>\n",
              "      <td>0</td>\n",
              "      <td>1</td>\n",
              "      <td>0</td>\n",
              "    </tr>\n",
              "    <tr>\n",
              "      <th>1</th>\n",
              "      <td>22</td>\n",
              "      <td>1</td>\n",
              "      <td>2</td>\n",
              "      <td>5951</td>\n",
              "      <td>48</td>\n",
              "      <td>2</td>\n",
              "      <td>1</td>\n",
              "      <td>1</td>\n",
              "      <td>0</td>\n",
              "      <td>0</td>\n",
              "      <td>0</td>\n",
              "      <td>1</td>\n",
              "      <td>1</td>\n",
              "      <td>0</td>\n",
              "      <td>1</td>\n",
              "      <td>0</td>\n",
              "      <td>0</td>\n",
              "      <td>0</td>\n",
              "      <td>0</td>\n",
              "      <td>1</td>\n",
              "      <td>0</td>\n",
              "      <td>1</td>\n",
              "      <td>0</td>\n",
              "      <td>0</td>\n",
              "      <td>1</td>\n",
              "      <td>0</td>\n",
              "      <td>0</td>\n",
              "      <td>1</td>\n",
              "      <td>0</td>\n",
              "      <td>0</td>\n",
              "      <td>0</td>\n",
              "      <td>0</td>\n",
              "      <td>1</td>\n",
              "      <td>0</td>\n",
              "      <td>0</td>\n",
              "      <td>0</td>\n",
              "      <td>1</td>\n",
              "      <td>0</td>\n",
              "      <td>0</td>\n",
              "      <td>0</td>\n",
              "      <td>0</td>\n",
              "      <td>0</td>\n",
              "      <td>1</td>\n",
              "      <td>0</td>\n",
              "      <td>0</td>\n",
              "      <td>0</td>\n",
              "      <td>0</td>\n",
              "      <td>1</td>\n",
              "      <td>0</td>\n",
              "      <td>1</td>\n",
              "      <td>0</td>\n",
              "    </tr>\n",
              "    <tr>\n",
              "      <th>2</th>\n",
              "      <td>49</td>\n",
              "      <td>2</td>\n",
              "      <td>3</td>\n",
              "      <td>2096</td>\n",
              "      <td>12</td>\n",
              "      <td>2</td>\n",
              "      <td>1</td>\n",
              "      <td>0</td>\n",
              "      <td>1</td>\n",
              "      <td>0</td>\n",
              "      <td>0</td>\n",
              "      <td>1</td>\n",
              "      <td>1</td>\n",
              "      <td>0</td>\n",
              "      <td>1</td>\n",
              "      <td>0</td>\n",
              "      <td>0</td>\n",
              "      <td>0</td>\n",
              "      <td>1</td>\n",
              "      <td>0</td>\n",
              "      <td>0</td>\n",
              "      <td>1</td>\n",
              "      <td>0</td>\n",
              "      <td>0</td>\n",
              "      <td>0</td>\n",
              "      <td>1</td>\n",
              "      <td>0</td>\n",
              "      <td>1</td>\n",
              "      <td>0</td>\n",
              "      <td>0</td>\n",
              "      <td>0</td>\n",
              "      <td>0</td>\n",
              "      <td>0</td>\n",
              "      <td>0</td>\n",
              "      <td>1</td>\n",
              "      <td>0</td>\n",
              "      <td>0</td>\n",
              "      <td>0</td>\n",
              "      <td>1</td>\n",
              "      <td>0</td>\n",
              "      <td>0</td>\n",
              "      <td>0</td>\n",
              "      <td>0</td>\n",
              "      <td>0</td>\n",
              "      <td>0</td>\n",
              "      <td>0</td>\n",
              "      <td>0</td>\n",
              "      <td>1</td>\n",
              "      <td>0</td>\n",
              "      <td>1</td>\n",
              "      <td>0</td>\n",
              "    </tr>\n",
              "  </tbody>\n",
              "</table>\n",
              "</div>"
            ],
            "text/plain": [
              "   Age  Dependents  ...  Other_Inst_Plans_A143  Default_On_Payment\n",
              "0   67           1  ...                      1                   0\n",
              "1   22           1  ...                      1                   0\n",
              "2   49           2  ...                      1                   0\n",
              "\n",
              "[3 rows x 51 columns]"
            ]
          },
          "metadata": {
            "tags": []
          },
          "execution_count": 43
        }
      ]
    },
    {
      "cell_type": "code",
      "metadata": {
        "id": "HSisgVhL1cqO",
        "colab_type": "code",
        "colab": {}
      },
      "source": [
        "resampled_data.iloc[:,:-1] = resampled_data.iloc[:,:-1].apply(lambda x: (x - min(x)) / (max(x) - min(x)))"
      ],
      "execution_count": 0,
      "outputs": []
    },
    {
      "cell_type": "markdown",
      "metadata": {
        "id": "i4mbqQRC3qpY",
        "colab_type": "text"
      },
      "source": [
        "Let's see the normalized features"
      ]
    },
    {
      "cell_type": "code",
      "metadata": {
        "id": "jYNbLrRu2f7I",
        "colab_type": "code",
        "outputId": "c099b2f3-8c18-41bd-a242-5436897ae5b3",
        "colab": {
          "base_uri": "https://localhost:8080/",
          "height": 155
        }
      },
      "source": [
        "resampled_data.head(3)"
      ],
      "execution_count": 45,
      "outputs": [
        {
          "output_type": "execute_result",
          "data": {
            "text/html": [
              "<div>\n",
              "<style scoped>\n",
              "    .dataframe tbody tr th:only-of-type {\n",
              "        vertical-align: middle;\n",
              "    }\n",
              "\n",
              "    .dataframe tbody tr th {\n",
              "        vertical-align: top;\n",
              "    }\n",
              "\n",
              "    .dataframe thead th {\n",
              "        text-align: right;\n",
              "    }\n",
              "</style>\n",
              "<table border=\"1\" class=\"dataframe\">\n",
              "  <thead>\n",
              "    <tr style=\"text-align: right;\">\n",
              "      <th></th>\n",
              "      <th>Age</th>\n",
              "      <th>Dependents</th>\n",
              "      <th>Current_Address_Yrs</th>\n",
              "      <th>Credit_Amount</th>\n",
              "      <th>Duration_in_Months</th>\n",
              "      <th>Inst_Rate_Income</th>\n",
              "      <th>Num_Curr_Credits</th>\n",
              "      <th>Marital_Status_Gender_A92</th>\n",
              "      <th>Marital_Status_Gender_A93</th>\n",
              "      <th>Marital_Status_Gender_A94</th>\n",
              "      <th>Housing_A151</th>\n",
              "      <th>Housing_A152</th>\n",
              "      <th>Telephone_A191</th>\n",
              "      <th>Telephone_A192</th>\n",
              "      <th>Property_A121</th>\n",
              "      <th>Property_A122</th>\n",
              "      <th>Property_A123</th>\n",
              "      <th>Job_A171</th>\n",
              "      <th>Job_A172</th>\n",
              "      <th>Job_A173</th>\n",
              "      <th>Job_A174</th>\n",
              "      <th>Foreign_Worker_A201</th>\n",
              "      <th>Foreign_Worker_A202</th>\n",
              "      <th>Present_Employment_Years_A71</th>\n",
              "      <th>Present_Employment_Years_A73</th>\n",
              "      <th>Present_Employment_Years_A74</th>\n",
              "      <th>Present_Employment_Years_A75</th>\n",
              "      <th>Savings_Acc_A61</th>\n",
              "      <th>Savings_Acc_A62</th>\n",
              "      <th>Savings_Acc_A63</th>\n",
              "      <th>Savings_Acc_A64</th>\n",
              "      <th>Savings_Acc_A65</th>\n",
              "      <th>Status_Checking_Acc_A12</th>\n",
              "      <th>Status_Checking_Acc_A13</th>\n",
              "      <th>Status_Checking_Acc_A14</th>\n",
              "      <th>Credit_History_A30</th>\n",
              "      <th>Credit_History_A32</th>\n",
              "      <th>Credit_History_A33</th>\n",
              "      <th>Credit_History_A34</th>\n",
              "      <th>Credit_Purpose_A40</th>\n",
              "      <th>Credit_Purpose_A41</th>\n",
              "      <th>Credit_Purpose_A42</th>\n",
              "      <th>Credit_Purpose_A43</th>\n",
              "      <th>Credit_Purpose_A44</th>\n",
              "      <th>Credit_Purpose_A45</th>\n",
              "      <th>Credit_Purpose_A48</th>\n",
              "      <th>Credit_Purpose_A49</th>\n",
              "      <th>Other_Debtors_Guarantors_A101</th>\n",
              "      <th>Other_Debtors_Guarantors_A103</th>\n",
              "      <th>Other_Inst_Plans_A143</th>\n",
              "      <th>Default_On_Payment</th>\n",
              "    </tr>\n",
              "  </thead>\n",
              "  <tbody>\n",
              "    <tr>\n",
              "      <th>0</th>\n",
              "      <td>0.857143</td>\n",
              "      <td>0.0</td>\n",
              "      <td>1.000000</td>\n",
              "      <td>0.050567</td>\n",
              "      <td>0.029412</td>\n",
              "      <td>1.000000</td>\n",
              "      <td>0.333333</td>\n",
              "      <td>0.0</td>\n",
              "      <td>1.0</td>\n",
              "      <td>0.0</td>\n",
              "      <td>0.0</td>\n",
              "      <td>1.0</td>\n",
              "      <td>0.0</td>\n",
              "      <td>1.0</td>\n",
              "      <td>1.0</td>\n",
              "      <td>0.0</td>\n",
              "      <td>0.0</td>\n",
              "      <td>0.0</td>\n",
              "      <td>0.0</td>\n",
              "      <td>1.0</td>\n",
              "      <td>0.0</td>\n",
              "      <td>1.0</td>\n",
              "      <td>0.0</td>\n",
              "      <td>0.0</td>\n",
              "      <td>0.0</td>\n",
              "      <td>0.0</td>\n",
              "      <td>1.0</td>\n",
              "      <td>0.0</td>\n",
              "      <td>0.0</td>\n",
              "      <td>0.0</td>\n",
              "      <td>0.0</td>\n",
              "      <td>1.0</td>\n",
              "      <td>0.0</td>\n",
              "      <td>0.0</td>\n",
              "      <td>0.0</td>\n",
              "      <td>0.0</td>\n",
              "      <td>0.0</td>\n",
              "      <td>0.0</td>\n",
              "      <td>1.0</td>\n",
              "      <td>0.0</td>\n",
              "      <td>0.0</td>\n",
              "      <td>0.0</td>\n",
              "      <td>1.0</td>\n",
              "      <td>0.0</td>\n",
              "      <td>0.0</td>\n",
              "      <td>0.0</td>\n",
              "      <td>0.0</td>\n",
              "      <td>1.0</td>\n",
              "      <td>0.0</td>\n",
              "      <td>1.0</td>\n",
              "      <td>0</td>\n",
              "    </tr>\n",
              "    <tr>\n",
              "      <th>1</th>\n",
              "      <td>0.053571</td>\n",
              "      <td>0.0</td>\n",
              "      <td>0.333333</td>\n",
              "      <td>0.313690</td>\n",
              "      <td>0.647059</td>\n",
              "      <td>0.333333</td>\n",
              "      <td>0.000000</td>\n",
              "      <td>1.0</td>\n",
              "      <td>0.0</td>\n",
              "      <td>0.0</td>\n",
              "      <td>0.0</td>\n",
              "      <td>1.0</td>\n",
              "      <td>1.0</td>\n",
              "      <td>0.0</td>\n",
              "      <td>1.0</td>\n",
              "      <td>0.0</td>\n",
              "      <td>0.0</td>\n",
              "      <td>0.0</td>\n",
              "      <td>0.0</td>\n",
              "      <td>1.0</td>\n",
              "      <td>0.0</td>\n",
              "      <td>1.0</td>\n",
              "      <td>0.0</td>\n",
              "      <td>0.0</td>\n",
              "      <td>1.0</td>\n",
              "      <td>0.0</td>\n",
              "      <td>0.0</td>\n",
              "      <td>1.0</td>\n",
              "      <td>0.0</td>\n",
              "      <td>0.0</td>\n",
              "      <td>0.0</td>\n",
              "      <td>0.0</td>\n",
              "      <td>1.0</td>\n",
              "      <td>0.0</td>\n",
              "      <td>0.0</td>\n",
              "      <td>0.0</td>\n",
              "      <td>1.0</td>\n",
              "      <td>0.0</td>\n",
              "      <td>0.0</td>\n",
              "      <td>0.0</td>\n",
              "      <td>0.0</td>\n",
              "      <td>0.0</td>\n",
              "      <td>1.0</td>\n",
              "      <td>0.0</td>\n",
              "      <td>0.0</td>\n",
              "      <td>0.0</td>\n",
              "      <td>0.0</td>\n",
              "      <td>1.0</td>\n",
              "      <td>0.0</td>\n",
              "      <td>1.0</td>\n",
              "      <td>0</td>\n",
              "    </tr>\n",
              "    <tr>\n",
              "      <th>2</th>\n",
              "      <td>0.535714</td>\n",
              "      <td>1.0</td>\n",
              "      <td>0.666667</td>\n",
              "      <td>0.101574</td>\n",
              "      <td>0.117647</td>\n",
              "      <td>0.333333</td>\n",
              "      <td>0.000000</td>\n",
              "      <td>0.0</td>\n",
              "      <td>1.0</td>\n",
              "      <td>0.0</td>\n",
              "      <td>0.0</td>\n",
              "      <td>1.0</td>\n",
              "      <td>1.0</td>\n",
              "      <td>0.0</td>\n",
              "      <td>1.0</td>\n",
              "      <td>0.0</td>\n",
              "      <td>0.0</td>\n",
              "      <td>0.0</td>\n",
              "      <td>1.0</td>\n",
              "      <td>0.0</td>\n",
              "      <td>0.0</td>\n",
              "      <td>1.0</td>\n",
              "      <td>0.0</td>\n",
              "      <td>0.0</td>\n",
              "      <td>0.0</td>\n",
              "      <td>1.0</td>\n",
              "      <td>0.0</td>\n",
              "      <td>1.0</td>\n",
              "      <td>0.0</td>\n",
              "      <td>0.0</td>\n",
              "      <td>0.0</td>\n",
              "      <td>0.0</td>\n",
              "      <td>0.0</td>\n",
              "      <td>0.0</td>\n",
              "      <td>1.0</td>\n",
              "      <td>0.0</td>\n",
              "      <td>0.0</td>\n",
              "      <td>0.0</td>\n",
              "      <td>1.0</td>\n",
              "      <td>0.0</td>\n",
              "      <td>0.0</td>\n",
              "      <td>0.0</td>\n",
              "      <td>0.0</td>\n",
              "      <td>0.0</td>\n",
              "      <td>0.0</td>\n",
              "      <td>0.0</td>\n",
              "      <td>0.0</td>\n",
              "      <td>1.0</td>\n",
              "      <td>0.0</td>\n",
              "      <td>1.0</td>\n",
              "      <td>0</td>\n",
              "    </tr>\n",
              "  </tbody>\n",
              "</table>\n",
              "</div>"
            ],
            "text/plain": [
              "        Age  Dependents  ...  Other_Inst_Plans_A143  Default_On_Payment\n",
              "0  0.857143         0.0  ...                    1.0                   0\n",
              "1  0.053571         0.0  ...                    1.0                   0\n",
              "2  0.535714         1.0  ...                    1.0                   0\n",
              "\n",
              "[3 rows x 51 columns]"
            ]
          },
          "metadata": {
            "tags": []
          },
          "execution_count": 45
        }
      ]
    },
    {
      "cell_type": "markdown",
      "metadata": {
        "id": "8eedcRMGiVYc",
        "colab_type": "text"
      },
      "source": [
        "## Splitting The Data set into Training, Validation and Testing sets\n",
        "\n",
        "\n",
        "We shall use 70% for training,  15% for validation and 15% reserved only for final testing "
      ]
    },
    {
      "cell_type": "markdown",
      "metadata": {
        "id": "6elWdwHIsePf",
        "colab_type": "text"
      },
      "source": [
        "**Let's define the Training sets**"
      ]
    },
    {
      "cell_type": "code",
      "metadata": {
        "id": "nDql7I1jsdAX",
        "colab_type": "code",
        "outputId": "bd4a3b00-33d1-42ef-f584-1af5d9f3aa2f",
        "colab": {
          "base_uri": "https://localhost:8080/",
          "height": 52
        }
      },
      "source": [
        "X_train = resampled_data.sample(frac=0.7)\n",
        "\n",
        "y_train = X_train.Default_On_Payment\n",
        "\n",
        "X_train.drop('Default_On_Payment', axis=1, inplace=True)\n",
        "\n",
        "print('X_train shape is:', X_train.shape)\n",
        "print('y_train shape is:', y_train.shape)"
      ],
      "execution_count": 46,
      "outputs": [
        {
          "output_type": "stream",
          "text": [
            "X_train shape is: (4907, 50)\n",
            "y_train shape is: (4907,)\n"
          ],
          "name": "stdout"
        }
      ]
    },
    {
      "cell_type": "markdown",
      "metadata": {
        "id": "Qp5mlvzswg2J",
        "colab_type": "text"
      },
      "source": [
        "**Lets define the Validation set**"
      ]
    },
    {
      "cell_type": "code",
      "metadata": {
        "id": "7RSCRhKvwkya",
        "colab_type": "code",
        "outputId": "5d40b5e7-5e75-4fdb-c436-b8b675f98acf",
        "colab": {
          "base_uri": "https://localhost:8080/",
          "height": 35
        }
      },
      "source": [
        "Spare_set_index_df = resampled_data.iloc[list(set(resampled_data.index).difference(set(X_train.index))),]\n",
        "\n",
        "Spare_set_index_df.shape"
      ],
      "execution_count": 47,
      "outputs": [
        {
          "output_type": "execute_result",
          "data": {
            "text/plain": [
              "(2103, 51)"
            ]
          },
          "metadata": {
            "tags": []
          },
          "execution_count": 47
        }
      ]
    },
    {
      "cell_type": "code",
      "metadata": {
        "id": "TwEwZcUz4AB4",
        "colab_type": "code",
        "outputId": "8b9d71a9-c451-4875-bb08-44aedbe2d682",
        "colab": {
          "base_uri": "https://localhost:8080/",
          "height": 52
        }
      },
      "source": [
        "X_val_test = Spare_set_index_df.sample(frac=0.5)\n",
        "y_val_test = X_val_test.Default_On_Payment\n",
        "\n",
        "X_val_test.drop('Default_On_Payment', axis=1, inplace=True)\n",
        "\n",
        "print('X_val_test shape is:', X_val_test.shape)\n",
        "print('y_val_test shape is:', y_val_test.shape)"
      ],
      "execution_count": 48,
      "outputs": [
        {
          "output_type": "stream",
          "text": [
            "X_val_test shape is: (1052, 50)\n",
            "y_val_test shape is: (1052,)\n"
          ],
          "name": "stdout"
        }
      ]
    },
    {
      "cell_type": "markdown",
      "metadata": {
        "id": "iUBpT1fx3Mqf",
        "colab_type": "text"
      },
      "source": [
        "**Now let's define the Testing set**"
      ]
    },
    {
      "cell_type": "code",
      "metadata": {
        "id": "1TyzG9sEcK_x",
        "colab_type": "code",
        "outputId": "0be31cb3-293e-4d8b-a61f-4cec014de242",
        "colab": {
          "base_uri": "https://localhost:8080/",
          "height": 141
        }
      },
      "source": [
        "X_test_set = resampled_data.iloc[list(Spare_set_index_df.index.difference(X_val_test.index)),]\n",
        "\n",
        "y_test_set = X_test_set.Default_On_Payment\n",
        "\n",
        "X_test_set.drop('Default_On_Payment', axis=1, inplace=True)\n",
        "\n",
        "print('X_test_set shape is:', X_test_set.shape)\n",
        "print('y_test_set shape is:', y_test_set.shape)"
      ],
      "execution_count": 49,
      "outputs": [
        {
          "output_type": "stream",
          "text": [
            "X_test_set shape is: (1051, 50)\n",
            "y_test_set shape is: (1051,)\n"
          ],
          "name": "stdout"
        },
        {
          "output_type": "stream",
          "text": [
            "/usr/local/lib/python3.6/dist-packages/pandas/core/frame.py:3997: SettingWithCopyWarning: \n",
            "A value is trying to be set on a copy of a slice from a DataFrame\n",
            "\n",
            "See the caveats in the documentation: https://pandas.pydata.org/pandas-docs/stable/user_guide/indexing.html#returning-a-view-versus-a-copy\n",
            "  errors=errors,\n"
          ],
          "name": "stderr"
        }
      ]
    },
    {
      "cell_type": "markdown",
      "metadata": {
        "id": "kico6L2HsWrb",
        "colab_type": "text"
      },
      "source": [
        "### Let's define a function for plotting and visualizing The Confusion matrix"
      ]
    },
    {
      "cell_type": "code",
      "metadata": {
        "id": "nmQ0teQmjrDk",
        "colab_type": "code",
        "colab": {}
      },
      "source": [
        "\n",
        "def plot_confusion_matrix(cm, classes,\n",
        "                          normalize=False,\n",
        "                          title='Confusion matrix',\n",
        "                          cmap=plt.cm.Blues):\n",
        "    \"\"\"\n",
        "    This function prints and plots the confusion matrix.\n",
        "    Normalization can be applied by setting `normalize=True`.\n",
        "    \"\"\"\n",
        "    if normalize:\n",
        "        cm = cm.astype('float') / cm.sum(axis=1)[:, np.newaxis]\n",
        "        print(\"Normalized confusion matrix\")\n",
        "    else:\n",
        "        print('Confusion matrix, without normalization')\n",
        "\n",
        "    print(cm)\n",
        "\n",
        "    plt.imshow(cm, interpolation='nearest', cmap=cmap)\n",
        "    plt.title(title)\n",
        "    plt.colorbar()\n",
        "    tick_marks = np.arange(len(classes))\n",
        "    plt.xticks(tick_marks, classes, rotation=45)\n",
        "    plt.yticks(tick_marks, classes)\n",
        "\n",
        "    fmt = '.2f' if normalize else 'd'\n",
        "    thresh = cm.max() / 2.\n",
        "    for i, j in itertools.product(range(cm.shape[0]), range(cm.shape[1])):\n",
        "        plt.text(j, i, format(cm[i, j], fmt),\n",
        "                 horizontalalignment=\"center\",\n",
        "                 color=\"white\" if cm[i, j] > thresh else \"black\")\n",
        "\n",
        "    plt.tight_layout()\n",
        "    plt.ylabel('True label')\n",
        "    plt.xlabel('Predicted label')"
      ],
      "execution_count": 0,
      "outputs": []
    },
    {
      "cell_type": "markdown",
      "metadata": {
        "id": "5ztGls3OqLf6",
        "colab_type": "text"
      },
      "source": [
        "###  K-Nearest-Neighbour Classifier"
      ]
    },
    {
      "cell_type": "code",
      "metadata": {
        "id": "POgD60byyJR6",
        "colab_type": "code",
        "colab": {}
      },
      "source": [
        "from sklearn.neighbors import KNeighborsClassifier\n",
        "from sklearn.model_selection import GridSearchCV"
      ],
      "execution_count": 0,
      "outputs": []
    },
    {
      "cell_type": "code",
      "metadata": {
        "id": "SeckjhDC26yg",
        "colab_type": "code",
        "colab": {}
      },
      "source": [
        "def knn_classifier(X_train, y_train, X_val_test, y_val_test):\n",
        "    \"\"\"This method takes the training and testing data sets and creates a \n",
        "    knn classifier, then it tunes the hyper-parameters of the classifier to\n",
        "    find the best model parameters and returns the best knn classifier model\n",
        "    \"\"\"\n",
        "    #List Hyperparameters that we want to tune.\n",
        "    leaf_size = list(range(1,6))\n",
        "    #leaf_size = list(range(1,31))\n",
        "    #n_neighbors = list(range(1,31))\n",
        "    n_neighbors = list(range(1,6))\n",
        "    p=[1,2]\n",
        "    #Convert to dictionary\n",
        "    hyperparameters = dict(leaf_size=leaf_size, n_neighbors=n_neighbors, p=p)\n",
        "\n",
        "    # create a new KNN object\n",
        "    knn = KNeighborsClassifier()\n",
        "\n",
        "    #Use GridSearch\n",
        "    knn_grid = GridSearchCV(knn, hyperparameters, cv=3)\n",
        "    \n",
        "    #Fit the model \n",
        "    best_model = knn_grid.fit(X_train, y_train)\n",
        "\n",
        "    #Print The value of best Hyperparameters\n",
        "    print('Best leaf_size:', best_model.best_estimator_.get_params()['leaf_size'])\n",
        "    print('Best p:', best_model.best_estimator_.get_params()['p'])\n",
        "    print('Best n_neighbors:', best_model.best_estimator_.get_params()['n_neighbors'])\n",
        "\n",
        "    evaluation_dict ={'AUC':0, 'F1_Score':0, 'Log_Loss':0}\n",
        "\n",
        "    y_hat = best_model.predict(X_val_test)\n",
        "    evaluation_dict['AUC'] = roc_auc_score(y_val_test, y_hat)\n",
        "\n",
        "    # Let's Measure the F1 Score\n",
        "    evaluation_dict['F1_Score'] = round(f1_score(y_val_test, y_hat, average='weighted'),4)\n",
        "        \n",
        "    # Let's Measure Logloss\n",
        "    evaluation_dict['Logloss'] = round(log_loss(y_val_test, y_hat, normalize=True),4)\n",
        "\n",
        "    print(evaluation_dict)\n",
        "    \n",
        "    # Compute confusion matrix\n",
        "    knn_cnf_matrix = confusion_matrix(y_val_test, y_hat, labels=[1,0])\n",
        "    np.set_printoptions(precision=2)\n",
        "\n",
        "\n",
        "    # Plot non-normalized confusion matrix\n",
        "    plt.figure(figsize=(10, 6))\n",
        "    sns.set(font_scale=1.3)\n",
        "    plot_confusion_matrix(knn_cnf_matrix, \n",
        "                          classes=['Default=1','Non-Default=0'],\n",
        "                          normalize= False,  \n",
        "                          title='Confusion Matrix for KNN-Classifier')\n",
        "\n",
        "\n",
        "    return best_model\n",
        "                "
      ],
      "execution_count": 0,
      "outputs": []
    },
    {
      "cell_type": "code",
      "metadata": {
        "id": "9iwY9ct3QY7h",
        "colab_type": "code",
        "outputId": "6d9de265-82e8-49b0-b2ac-8b521a0c1c3a",
        "colab": {
          "base_uri": "https://localhost:8080/",
          "height": 768
        }
      },
      "source": [
        "KNN_Model = knn_classifier(X_train, y_train, X_val_test, y_val_test)\n",
        "KNN_Model"
      ],
      "execution_count": 53,
      "outputs": [
        {
          "output_type": "stream",
          "text": [
            "Best leaf_size: 1\n",
            "Best p: 2\n",
            "Best n_neighbors: 1\n",
            "{'AUC': 0.997191011235955, 'F1_Score': 0.9971, 'Log_Loss': 0, 'Logloss': 0.0985}\n",
            "Confusion matrix, without normalization\n",
            "[[518   0]\n",
            " [  3 531]]\n"
          ],
          "name": "stdout"
        },
        {
          "output_type": "execute_result",
          "data": {
            "text/plain": [
              "GridSearchCV(cv=3, error_score=nan,\n",
              "             estimator=KNeighborsClassifier(algorithm='auto', leaf_size=30,\n",
              "                                            metric='minkowski',\n",
              "                                            metric_params=None, n_jobs=None,\n",
              "                                            n_neighbors=5, p=2,\n",
              "                                            weights='uniform'),\n",
              "             iid='deprecated', n_jobs=None,\n",
              "             param_grid={'leaf_size': [1, 2, 3, 4, 5],\n",
              "                         'n_neighbors': [1, 2, 3, 4, 5], 'p': [1, 2]},\n",
              "             pre_dispatch='2*n_jobs', refit=True, return_train_score=False,\n",
              "             scoring=None, verbose=0)"
            ]
          },
          "metadata": {
            "tags": []
          },
          "execution_count": 53
        },
        {
          "output_type": "display_data",
          "data": {
            "image/png": "[encoded data removed]",
            "text/plain": [
              "<Figure size 720x432 with 2 Axes>"
            ]
          },
          "metadata": {
            "tags": []
          }
        }
      ]
    },
    {
      "cell_type": "markdown",
      "metadata": {
        "id": "CQSe2sLOx1W5",
        "colab_type": "text"
      },
      "source": [
        "### Logistic Regression Classifier"
      ]
    },
    {
      "cell_type": "code",
      "metadata": {
        "id": "ypbqRR8kx7tS",
        "colab_type": "code",
        "colab": {}
      },
      "source": [
        "# Let's import the Logistic Regression Classifier and a few additional libraries.\n",
        "\n",
        "from sklearn.linear_model import LogisticRegression\n",
        "import pylab as pl\n",
        "import scipy.optimize as opt\n"
      ],
      "execution_count": 0,
      "outputs": []
    },
    {
      "cell_type": "code",
      "metadata": {
        "id": "6uhRpQJhyKFh",
        "colab_type": "code",
        "colab": {}
      },
      "source": [
        "def log_reg_classifier(X_train, y_train, X_val_test, y_val_test):\n",
        "    \"\"\"This method takes the training and validation datasets and returns\n",
        "    The best possible Logistic Regression Model\"\"\"\n",
        "\n",
        "    evaluation_dict ={'AUC':0, 'F1_Score':0, 'Log_Loss':0}\n",
        "\n",
        "    # Let's define some hyper parameters to tune our Log_Reg Model.\n",
        "    dual=[True,False]\n",
        "    max_iter=[160, 170, 180,190,200]\n",
        "    #C = [1.0,1.5,2.0,2.5]\n",
        "    C = [0.001, 0.01, 0.1, 1, 10]\n",
        "    param_grid = dict(dual=dual,max_iter=max_iter,C=C)\n",
        "\n",
        "    # Initiate the LR model with random hyperparameters\n",
        "    lr = LogisticRegression(penalty='l2')\n",
        "    grid = GridSearchCV(estimator=lr, param_grid=param_grid, cv = 3, n_jobs=-1)\n",
        "\n",
        "    grid_result = grid.fit(X_train, y_train)\n",
        "    # Summarize results\n",
        "    print(\"Best: %f using %s\" % (grid_result.best_score_, grid_result.best_params_))\n",
        "\n",
        "    y_hat = grid_result.predict(X_val_test)\n",
        "    evaluation_dict['AUC'] = roc_auc_score(y_val_test, y_hat)\n",
        "\n",
        "    # Let's Measure the F1 Score\n",
        "    evaluation_dict['F1_Score'] = round(f1_score(y_val_test, y_hat, average='weighted'),4)\n",
        "        \n",
        "    # Let's Measure Logloss\n",
        "    evaluation_dict['logloss'] = round(log_loss(y_val_test, y_hat, normalize=True),4)\n",
        "\n",
        "    print(evaluation_dict)\n",
        "    \n",
        "    # Compute confusion matrix\n",
        "    logReg_cnf_matrix = confusion_matrix(y_val_test, y_hat, labels=[1,0])\n",
        "    np.set_printoptions(precision=2)\n",
        "\n",
        "\n",
        "    # Plot non-normalized confusion matrix\n",
        "    plt.figure(figsize=(10, 6))\n",
        "    sns.set(font_scale=1.3)\n",
        "    plot_confusion_matrix(logReg_cnf_matrix, \n",
        "                          classes=['Default=1','Non-Default=0'],\n",
        "                          normalize= False,  \n",
        "                          title='Confusion Matrix for LogReg-Classifier')\n",
        "\n",
        "    \n",
        "    return grid_result"
      ],
      "execution_count": 0,
      "outputs": []
    },
    {
      "cell_type": "code",
      "metadata": {
        "id": "ZVfzwCW3EoFj",
        "colab_type": "code",
        "outputId": "9011ca60-c60d-48b2-a40e-0dda6804d093",
        "colab": {
          "base_uri": "https://localhost:8080/",
          "height": 786
        }
      },
      "source": [
        "Log_Reg_Model = log_reg_classifier(X_train, y_train, X_val_test, y_val_test)\n",
        "Log_Reg_Model"
      ],
      "execution_count": 56,
      "outputs": [
        {
          "output_type": "stream",
          "text": [
            "Best: 0.768493 using {'C': 0.1, 'dual': False, 'max_iter': 160}\n",
            "{'AUC': 0.788017150376701, 'F1_Score': 0.788, 'Log_Loss': 0, 'logloss': 7.3215}\n",
            "Confusion matrix, without normalization\n",
            "[[408 110]\n",
            " [113 421]]\n"
          ],
          "name": "stdout"
        },
        {
          "output_type": "execute_result",
          "data": {
            "text/plain": [
              "GridSearchCV(cv=3, error_score=nan,\n",
              "             estimator=LogisticRegression(C=1.0, class_weight=None, dual=False,\n",
              "                                          fit_intercept=True,\n",
              "                                          intercept_scaling=1, l1_ratio=None,\n",
              "                                          max_iter=100, multi_class='auto',\n",
              "                                          n_jobs=None, penalty='l2',\n",
              "                                          random_state=None, solver='lbfgs',\n",
              "                                          tol=0.0001, verbose=0,\n",
              "                                          warm_start=False),\n",
              "             iid='deprecated', n_jobs=-1,\n",
              "             param_grid={'C': [0.001, 0.01, 0.1, 1, 10], 'dual': [True, False],\n",
              "                         'max_iter': [160, 170, 180, 190, 200]},\n",
              "             pre_dispatch='2*n_jobs', refit=True, return_train_score=False,\n",
              "             scoring=None, verbose=0)"
            ]
          },
          "metadata": {
            "tags": []
          },
          "execution_count": 56
        },
        {
          "output_type": "display_data",
          "data": {
            "image/png": "[encoded data removed]",
            "text/plain": [
              "<Figure size 720x432 with 2 Axes>"
            ]
          },
          "metadata": {
            "tags": []
          }
        }
      ]
    },
    {
      "cell_type": "markdown",
      "metadata": {
        "id": "GuU2fgoeBPlz",
        "colab_type": "text"
      },
      "source": [
        "## Support Vector Machine (SVM)\n",
        "\n"
      ]
    },
    {
      "cell_type": "code",
      "metadata": {
        "id": "tDhU0iZPViSA",
        "colab_type": "code",
        "colab": {}
      },
      "source": [
        "from sklearn import svm"
      ],
      "execution_count": 0,
      "outputs": []
    },
    {
      "cell_type": "code",
      "metadata": {
        "id": "d5K0UO8NVqrQ",
        "colab_type": "code",
        "colab": {}
      },
      "source": [
        "def svm_classifier(X_train, y_train, X_val_test, y_val_test):\n",
        "    \"\"\"This method takes the training and validation datasets as inputs,\n",
        "    and iterates through the common SVM model kernels to return the best model\n",
        "    we also apply some hyper-parameter tuning on the model\"\"\"\n",
        "\n",
        "    # Let's define a list of kernels to try\n",
        "    kernel_list = ['linear', 'poly', 'rbf', 'sigmoid']\n",
        "\n",
        "    # Let's define a dict for evaluating each kernel performance\n",
        "    evaluation_dict ={'Kernel':0, 'AUC':0, 'F1_Score':0, 'Log_Loss':0}\n",
        "\n",
        "    for i in kernel_list:\n",
        "        # Let's define the model hyper-parameter tuning grid using GridSearch \n",
        "        Cs = [0.001, 0.01, 0.1, 1, 10]\n",
        "        gammas = [0.001, 0.01, 0.1, 1]\n",
        "        param_grid = {'C': Cs, 'gamma' : gammas}\n",
        "        model = GridSearchCV(svm.SVC(kernel=i), param_grid, cv=3)\n",
        "        # Let's train the model\n",
        "        model.fit(X_train, y_train)\n",
        "        # Let's get the best params of the model\n",
        "        params = model.best_params_\n",
        "\n",
        "        # Let's use the model to predict the X_val_test\n",
        "        y_hat = model.predict(X_val_test)\n",
        "\n",
        "        # Let's Measure the F1 Score\n",
        "        val_f1 = round(f1_score(y_val_test, y_hat, average='weighted'),4)\n",
        "        \n",
        "        # Let's Measure Logloss\n",
        "        logloss = round(log_loss(y_val_test, y_hat, normalize=True),4)\n",
        "\n",
        "        # Let's compute the AUC score\n",
        "        AUC = roc_auc_score(y_val_test, y_hat)\n",
        "        \n",
        "        if evaluation_dict['AUC'] < AUC:\n",
        "            print(i)\n",
        "            evaluation_dict['Kernel'] = i\n",
        "            evaluation_dict['AUC'] = AUC\n",
        "            evaluation_dict['F1_Score'] = val_f1\n",
        "            evaluation_dict['Log_Loss'] = logloss\n",
        "            svm_model2 = model\n",
        "            y_hat2 = y_hat\n",
        "\n",
        "        # If we score a perfect model, then break out of loop!\n",
        "        if evaluation_dict['AUC'] == 1:\n",
        "            break\n",
        "\n",
        "    print(evaluation_dict)\n",
        "    print('best_params: ',params)\n",
        "\n",
        "    # Compute confusion matrix\n",
        "    svm_cnf_matrix = confusion_matrix(y_val_test, y_hat2, labels=[1,0])\n",
        "    np.set_printoptions(precision=2)\n",
        "\n",
        "\n",
        "    # Plot non-normalized confusion matrix\n",
        "    plt.figure(figsize=(10, 6))\n",
        "    sns.set(font_scale=1.3)\n",
        "    plot_confusion_matrix(svm_cnf_matrix, \n",
        "                          classes=['Default=1','Non-Default=0'],\n",
        "                          normalize= False,  \n",
        "                          title='Confusion Matrix for SVM-Classifier')\n",
        "\n",
        "    return svm_model2"
      ],
      "execution_count": 0,
      "outputs": []
    },
    {
      "cell_type": "code",
      "metadata": {
        "id": "o2Ra4Tk2jAdK",
        "colab_type": "code",
        "outputId": "3449e6a7-74e5-4f98-a34d-15f43cdaf92e",
        "colab": {
          "base_uri": "https://localhost:8080/",
          "height": 786
        }
      },
      "source": [
        "SVM_Model = svm_classifier(X_train, y_train, X_val_test, y_val_test)\n",
        "SVM_Model"
      ],
      "execution_count": 59,
      "outputs": [
        {
          "output_type": "stream",
          "text": [
            "linear\n",
            "poly\n",
            "{'Kernel': 'poly', 'AUC': 1.0, 'F1_Score': 1.0, 'Log_Loss': 0.0}\n",
            "best_params:  {'C': 0.1, 'gamma': 1}\n",
            "Confusion matrix, without normalization\n",
            "[[518   0]\n",
            " [  0 534]]\n"
          ],
          "name": "stdout"
        },
        {
          "output_type": "execute_result",
          "data": {
            "text/plain": [
              "GridSearchCV(cv=3, error_score=nan,\n",
              "             estimator=SVC(C=1.0, break_ties=False, cache_size=200,\n",
              "                           class_weight=None, coef0=0.0,\n",
              "                           decision_function_shape='ovr', degree=3,\n",
              "                           gamma='scale', kernel='poly', max_iter=-1,\n",
              "                           probability=False, random_state=None, shrinking=True,\n",
              "                           tol=0.001, verbose=False),\n",
              "             iid='deprecated', n_jobs=None,\n",
              "             param_grid={'C': [0.001, 0.01, 0.1, 1, 10],\n",
              "                         'gamma': [0.001, 0.01, 0.1, 1]},\n",
              "             pre_dispatch='2*n_jobs', refit=True, return_train_score=False,\n",
              "             scoring=None, verbose=0)"
            ]
          },
          "metadata": {
            "tags": []
          },
          "execution_count": 59
        },
        {
          "output_type": "display_data",
          "data": {
            "image/png": "[encoded data removed]",
            "text/plain": [
              "<Figure size 720x432 with 2 Axes>"
            ]
          },
          "metadata": {
            "tags": []
          }
        }
      ]
    },
    {
      "cell_type": "markdown",
      "metadata": {
        "id": "UivxjvqfgnAs",
        "colab_type": "text"
      },
      "source": [
        "Note that hyper-parameter tuning is quite important as can be seen here.\n",
        "<br>Because when we ran the model without tuning, we got an AUC of 0.9626, F1_Score of 0.962 and best Kernel as Poly.\n",
        "<br>But with hyper-parameter tuning we can see a spike in AUC to 99.71 and F1_Score to 99.71 and best Kernel is RBF\n"
      ]
    },
    {
      "cell_type": "markdown",
      "metadata": {
        "id": "S5-qx-aUBk5R",
        "colab_type": "text"
      },
      "source": [
        "## Decision Tree Classifier"
      ]
    },
    {
      "cell_type": "code",
      "metadata": {
        "id": "ypER3GvG4Ahr",
        "colab_type": "code",
        "colab": {}
      },
      "source": [
        "from sklearn.tree import DecisionTreeClassifier"
      ],
      "execution_count": 0,
      "outputs": []
    },
    {
      "cell_type": "markdown",
      "metadata": {
        "id": "I3fQ6NMvsvsW",
        "colab_type": "text"
      },
      "source": [
        "Let's define a function that returns the best decison tree classifier model and outputs its parameters and  a plot of the confusion matrix"
      ]
    },
    {
      "cell_type": "code",
      "metadata": {
        "id": "_jhxn-mWi-GK",
        "colab_type": "code",
        "colab": {}
      },
      "source": [
        "# set max depth range limit for DTree model to iterate through from 1 to 100 to find best parameters\n",
        "max_depth = 100\n",
        "\n",
        "def decision_tree_classifier(max_depth, X_train, y_train, X_val_test, y_val_test):\n",
        "    \"\"\"Method takes max_depth an int, and X_train and y_train 2D/1D arrays,\n",
        "    as well as test data x_test and y_test, also arrays, and returns,\n",
        "    The best max_depth value, from 1 to max_depth, and its best test_accuracy score\"\"\"\n",
        "    \n",
        "    evaluation_dict ={'Max_Depth':0, 'AUC':0, 'F1_Score':0, 'Log_Loss':0}\n",
        "\n",
        "    \n",
        "    for i in range(1, max_depth+1):\n",
        "        # Let's instantiate a model\n",
        "        decision_model = DecisionTreeClassifier(criterion='entropy', max_depth = i)\n",
        "        \n",
        "        # Let's train the model\n",
        "        decision_model.fit(X_train, y_train)\n",
        "        \n",
        "        # Let's make prediction on the test data\n",
        "        y_hat = decision_model.predict(X_val_test)\n",
        "        \n",
        "        # Let's Measure the F1 Score\n",
        "        val_f1 = round(f1_score(y_val_test, y_hat, average='weighted'),4)\n",
        "        \n",
        "        # Let's Measure Logloss\n",
        "        logloss = round(log_loss(y_val_test, y_hat, normalize=True),4)\n",
        "\n",
        "        # Let's compute the AUC score\n",
        "        AUC = roc_auc_score(y_val_test, y_hat)\n",
        "        # print(AUC,':',i)\n",
        "        \n",
        "        if evaluation_dict['AUC'] < AUC:\n",
        "            evaluation_dict['Max_Depth'] = i\n",
        "            evaluation_dict['AUC'] = AUC\n",
        "            evaluation_dict['F1_Score'] = val_f1\n",
        "            evaluation_dict['Log_Loss'] = logloss\n",
        "            decision_model2 = decision_model\n",
        "\n",
        "        # If we score a perfect model, then break out of loop!\n",
        "        if evaluation_dict['AUC'] == 1:\n",
        "            break\n",
        "            \n",
        "    print('Model_Evaluation:')\n",
        "    print(evaluation_dict)\n",
        "    \n",
        "    # Compute confusion matrix\n",
        "    Dtrees_cnf_matrix = confusion_matrix(y_val_test, y_hat, labels=[1,0])\n",
        "    np.set_printoptions(precision=2)\n",
        "\n",
        "\n",
        "    # Plot non-normalized confusion matrix\n",
        "    plt.figure(figsize=(10, 6))\n",
        "    sns.set(font_scale=1.3)\n",
        "    plot_confusion_matrix(Dtrees_cnf_matrix, \n",
        "                          classes=['Default=1','Non-Default=0'],\n",
        "                          normalize= False,  \n",
        "                          title='Confusion Matrix for Decision-Tree-Classifier')\n",
        "\n",
        "    return decision_model2"
      ],
      "execution_count": 0,
      "outputs": []
    },
    {
      "cell_type": "code",
      "metadata": {
        "id": "CfWzSKck_vQe",
        "colab_type": "code",
        "outputId": "3c176535-477b-494d-9624-74c28fd94dc8",
        "colab": {
          "base_uri": "https://localhost:8080/",
          "height": 644
        }
      },
      "source": [
        "Decision_Tree_Model = decision_tree_classifier(max_depth, X_train, y_train, X_val_test, y_val_test)\n",
        "Decision_Tree_Model"
      ],
      "execution_count": 62,
      "outputs": [
        {
          "output_type": "stream",
          "text": [
            "Model_Evaluation:\n",
            "{'Max_Depth': 22, 'AUC': 0.9990347490347491, 'F1_Score': 0.999, 'Log_Loss': 0.0328}\n",
            "Confusion matrix, without normalization\n",
            "[[516   2]\n",
            " [  0 534]]\n"
          ],
          "name": "stdout"
        },
        {
          "output_type": "execute_result",
          "data": {
            "text/plain": [
              "DecisionTreeClassifier(ccp_alpha=0.0, class_weight=None, criterion='entropy',\n",
              "                       max_depth=22, max_features=None, max_leaf_nodes=None,\n",
              "                       min_impurity_decrease=0.0, min_impurity_split=None,\n",
              "                       min_samples_leaf=1, min_samples_split=2,\n",
              "                       min_weight_fraction_leaf=0.0, presort='deprecated',\n",
              "                       random_state=None, splitter='best')"
            ]
          },
          "metadata": {
            "tags": []
          },
          "execution_count": 62
        },
        {
          "output_type": "display_data",
          "data": {
            "image/png": "[encoded data removed]",
            "text/plain": [
              "<Figure size 720x432 with 2 Axes>"
            ]
          },
          "metadata": {
            "tags": []
          }
        }
      ]
    },
    {
      "cell_type": "markdown",
      "metadata": {
        "id": "FscAMdsnrbIV",
        "colab_type": "text"
      },
      "source": [
        "The area under the ROC curve or **AUC** is the measure of the trade-off between the True and False positive rates.\n",
        "\n",
        "A perfect classifier would have an AUC of 1.0, indicating no trade-off between True and False positive rates. Thus the higher the ROC curve is to the top-left position (1, 1) the better the AUC score."
      ]
    },
    {
      "cell_type": "markdown",
      "metadata": {
        "id": "GcNvxhbvMyD_",
        "colab_type": "text"
      },
      "source": [
        "Notice the following about these metrics:<br>\n",
        "• The Confusion Matrix shows the number of True Positives and True Negatives (cases\n",
        "correctly classified) and False Negatives and False Positives (cases incorrectly classified).<br>\n",
        "• The AUC (Area Under the Curve) is the area under the ROC (Receiver Operator Chart) curve. <br>\n",
        "A perfect classifier would have an AUC of 1.0, indicating no trade-off between True and False Positive Rates.<br>\n",
        "• Accuracy is the fraction of cases correctly classified.<br>\n",
        "• Recall, is the fraction of positive cases correctly classified which is $(TP / (TP + FN))$.<br>\n",
        "• Precision is the fraction of positive cases classified correctly from the total number of cases identified as positive. which is $(TP / (TP + FP))$"
      ]
    },
    {
      "cell_type": "markdown",
      "metadata": {
        "id": "MaEgnygUa0c1",
        "colab_type": "text"
      },
      "source": [
        "## Test Dataset:"
      ]
    },
    {
      "cell_type": "markdown",
      "metadata": {
        "id": "AnvaifGTa6Ec",
        "colab_type": "text"
      },
      "source": [
        "Now that we've seen the performance of each model on the evaluation data set,<br>It's time to test these on the test data set"
      ]
    },
    {
      "cell_type": "code",
      "metadata": {
        "id": "RuwlteRKhVUV",
        "colab_type": "code",
        "colab": {}
      },
      "source": [
        "def best_model(X_test_set , y_test_set):\n",
        "    \"\"\"This method takes a test_evaluation_dict, as well as the test training\n",
        "    set and test label and then returns a dataframe sorted with the model with\n",
        "    the highest AUC score\"\"\"\n",
        "\n",
        "    # Let's create a list of our models\n",
        "    model_list = [KNN_Model, Log_Reg_Model, SVM_Model, Decision_Tree_Model]\n",
        "\n",
        "    # Let's create a test evaluation dict and make the parameters its index\n",
        "    test_evaluation_dict = {'KNN_Model':[0,0,0], 'Log_Reg_Model':[0,0,0], \\\n",
        "                            'SVM_Model':[0,0,0], 'Decision_Tree_Model':[0,0,0]}\n",
        "    index_ = ['AUC_score', 'F1_score', 'Accuracy']  \n",
        "\n",
        "    # Let's create a list of the keys of our dict above\n",
        "    key_list = list(test_evaluation_dict.keys())\n",
        "\n",
        "    for i in range(len(model_list)):\n",
        "        model = model_list[i]\n",
        "        key = key_list[i]\n",
        "\n",
        "        # Let's create a list of test values\n",
        "        eval_list = []\n",
        "\n",
        "        # Let's make prediction on the test data\n",
        "        y_hat = model.predict(X_test_set)\n",
        "\n",
        "        # Let's add the AUC score\n",
        "        eval_list.append(round(roc_auc_score(y_test_set, y_hat),4))\n",
        "        \n",
        "        # Let's add the F1 Score\n",
        "        eval_list.append(round(f1_score(y_test_set, y_hat, average='weighted'),4))\n",
        "        \n",
        "        # Let's add accuracy\n",
        "        eval_list.append(round(accuracy_score(y_test_set, y_hat),4))\n",
        "\n",
        "        test_evaluation_dict[key] = eval_list       \n",
        "\n",
        "    test_evaluation_df = pd.DataFrame(test_evaluation_dict, index=index_).T\n",
        "\n",
        "    test_evaluation_df = test_evaluation_df\\\n",
        "    .sort_values(by=['AUC_score', 'F1_score'], ascending=False)\n",
        "\n",
        "    test_evaluation_df.reset_index(inplace=True)\n",
        "    test_evaluation_df.index = [1, 2, 3, 4]\n",
        "    test_evaluation_df.columns = ['Model', 'AUC_score', 'F1_score', 'Accuracy']\n",
        "\n",
        "    \n",
        "\n",
        "    return test_evaluation_df\n"
      ],
      "execution_count": 0,
      "outputs": []
    },
    {
      "cell_type": "code",
      "metadata": {
        "id": "YEwAA5JlO6Qo",
        "colab_type": "code",
        "outputId": "32f33da4-fd04-46da-f065-c43f39ba5aba",
        "colab": {
          "base_uri": "https://localhost:8080/",
          "height": 164
        }
      },
      "source": [
        "test_evaluation_dict = best_model(X_test_set , y_test_set)\n",
        "test_evaluation_dict"
      ],
      "execution_count": 65,
      "outputs": [
        {
          "output_type": "execute_result",
          "data": {
            "text/html": [
              "<div>\n",
              "<style scoped>\n",
              "    .dataframe tbody tr th:only-of-type {\n",
              "        vertical-align: middle;\n",
              "    }\n",
              "\n",
              "    .dataframe tbody tr th {\n",
              "        vertical-align: top;\n",
              "    }\n",
              "\n",
              "    .dataframe thead th {\n",
              "        text-align: right;\n",
              "    }\n",
              "</style>\n",
              "<table border=\"1\" class=\"dataframe\">\n",
              "  <thead>\n",
              "    <tr style=\"text-align: right;\">\n",
              "      <th></th>\n",
              "      <th>Model</th>\n",
              "      <th>AUC_score</th>\n",
              "      <th>F1_score</th>\n",
              "      <th>Accuracy</th>\n",
              "    </tr>\n",
              "  </thead>\n",
              "  <tbody>\n",
              "    <tr>\n",
              "      <th>1</th>\n",
              "      <td>SVM_Model</td>\n",
              "      <td>0.9991</td>\n",
              "      <td>0.9990</td>\n",
              "      <td>0.9990</td>\n",
              "    </tr>\n",
              "    <tr>\n",
              "      <th>2</th>\n",
              "      <td>KNN_Model</td>\n",
              "      <td>0.9981</td>\n",
              "      <td>0.9981</td>\n",
              "      <td>0.9981</td>\n",
              "    </tr>\n",
              "    <tr>\n",
              "      <th>3</th>\n",
              "      <td>Decision_Tree_Model</td>\n",
              "      <td>0.9981</td>\n",
              "      <td>0.9981</td>\n",
              "      <td>0.9981</td>\n",
              "    </tr>\n",
              "    <tr>\n",
              "      <th>4</th>\n",
              "      <td>Log_Reg_Model</td>\n",
              "      <td>0.7717</td>\n",
              "      <td>0.7717</td>\n",
              "      <td>0.7716</td>\n",
              "    </tr>\n",
              "  </tbody>\n",
              "</table>\n",
              "</div>"
            ],
            "text/plain": [
              "                 Model  AUC_score  F1_score  Accuracy\n",
              "1            SVM_Model     0.9991    0.9990    0.9990\n",
              "2            KNN_Model     0.9981    0.9981    0.9981\n",
              "3  Decision_Tree_Model     0.9981    0.9981    0.9981\n",
              "4        Log_Reg_Model     0.7717    0.7717    0.7716"
            ]
          },
          "metadata": {
            "tags": []
          },
          "execution_count": 65
        }
      ]
    },
    {
      "cell_type": "markdown",
      "metadata": {
        "id": "AXWTO6DHhnF9",
        "colab_type": "text"
      },
      "source": [
        "## What Next?"
      ]
    },
    {
      "cell_type": "markdown",
      "metadata": {
        "id": "PjMxBq7MhuGB",
        "colab_type": "text"
      },
      "source": [
        "We can see the best model on the never-before-seen testing set is Support Vector Machine (SVM).<br>\n",
        "This is personally my preferred classifier model as SVMs are a solid classifier which usually perform excellently.<br>\n",
        "SVMs are resistant to outliers, this means we get a clear boundary between the point data clouds, even if there are outliers in the data set.<br>\n",
        "The optimisation objective of a Support Vector machine is Convex. That's a really cool feature because we're guaranteed that by optimising over the cost function of an SVM, we will always end up in the global minima.<br>\n",
        "The only problem is that an SVM is a binary classifier.<br>\n",
        "But, we can turn the SVM into a Multi-Class classifier Using the One-Versus-All approach."
      ]
    },
    {
      "cell_type": "markdown",
      "metadata": {
        "id": "Bp7CFoT2mR8U",
        "colab_type": "text"
      },
      "source": [
        "It's important to also note the impressive performance of the KNN and Decision Tree classifier. These are also relatively good models. The issue with KNN is that it is not outlier resistant and it can only create spherical data point clouds on the data, not hyper-planes. This limitation makes it less powerful to SVMs generally. While Decision Trees are relatively considered weak models, but in certain situations like this case, it has performed remarkably. Logistic regression is ideal if the data points have a relatively linear relationship with the target label. They do not usually generalise well if the data set is curvy or scattered. "
      ]
    },
    {
      "cell_type": "markdown",
      "metadata": {
        "id": "h8rApE8KiuOv",
        "colab_type": "text"
      },
      "source": [
        "### Before Deployment:\n",
        "\n",
        "Finally before deploying the model, we need to train it with the entire data set, this iincludes the training, validation and testing data sets."
      ]
    },
    {
      "cell_type": "code",
      "metadata": {
        "id": "M4owF-9Yisrc",
        "colab_type": "code",
        "colab": {
          "base_uri": "https://localhost:8080/",
          "height": 35
        },
        "outputId": "7ebe68da-fb83-45f3-e489-6bca4f758163"
      },
      "source": [
        "# Let's see the shape of the normalised and feature-engineered data set again\n",
        "resampled_data.shape"
      ],
      "execution_count": 66,
      "outputs": [
        {
          "output_type": "execute_result",
          "data": {
            "text/plain": [
              "(7010, 51)"
            ]
          },
          "metadata": {
            "tags": []
          },
          "execution_count": 66
        }
      ]
    },
    {
      "cell_type": "code",
      "metadata": {
        "id": "ge8XVma9jh7w",
        "colab_type": "code",
        "colab": {
          "base_uri": "https://localhost:8080/",
          "height": 214
        },
        "outputId": "11a0ce9e-e6fb-4714-d480-05f1f1a969ba"
      },
      "source": [
        "# Let's see the first 5 rows\n",
        "resampled_data.head()"
      ],
      "execution_count": 67,
      "outputs": [
        {
          "output_type": "execute_result",
          "data": {
            "text/html": [
              "<div>\n",
              "<style scoped>\n",
              "    .dataframe tbody tr th:only-of-type {\n",
              "        vertical-align: middle;\n",
              "    }\n",
              "\n",
              "    .dataframe tbody tr th {\n",
              "        vertical-align: top;\n",
              "    }\n",
              "\n",
              "    .dataframe thead th {\n",
              "        text-align: right;\n",
              "    }\n",
              "</style>\n",
              "<table border=\"1\" class=\"dataframe\">\n",
              "  <thead>\n",
              "    <tr style=\"text-align: right;\">\n",
              "      <th></th>\n",
              "      <th>Age</th>\n",
              "      <th>Dependents</th>\n",
              "      <th>Current_Address_Yrs</th>\n",
              "      <th>Credit_Amount</th>\n",
              "      <th>Duration_in_Months</th>\n",
              "      <th>Inst_Rate_Income</th>\n",
              "      <th>Num_Curr_Credits</th>\n",
              "      <th>Marital_Status_Gender_A92</th>\n",
              "      <th>Marital_Status_Gender_A93</th>\n",
              "      <th>Marital_Status_Gender_A94</th>\n",
              "      <th>Housing_A151</th>\n",
              "      <th>Housing_A152</th>\n",
              "      <th>Telephone_A191</th>\n",
              "      <th>Telephone_A192</th>\n",
              "      <th>Property_A121</th>\n",
              "      <th>Property_A122</th>\n",
              "      <th>Property_A123</th>\n",
              "      <th>Job_A171</th>\n",
              "      <th>Job_A172</th>\n",
              "      <th>Job_A173</th>\n",
              "      <th>Job_A174</th>\n",
              "      <th>Foreign_Worker_A201</th>\n",
              "      <th>Foreign_Worker_A202</th>\n",
              "      <th>Present_Employment_Years_A71</th>\n",
              "      <th>Present_Employment_Years_A73</th>\n",
              "      <th>Present_Employment_Years_A74</th>\n",
              "      <th>Present_Employment_Years_A75</th>\n",
              "      <th>Savings_Acc_A61</th>\n",
              "      <th>Savings_Acc_A62</th>\n",
              "      <th>Savings_Acc_A63</th>\n",
              "      <th>Savings_Acc_A64</th>\n",
              "      <th>Savings_Acc_A65</th>\n",
              "      <th>Status_Checking_Acc_A12</th>\n",
              "      <th>Status_Checking_Acc_A13</th>\n",
              "      <th>Status_Checking_Acc_A14</th>\n",
              "      <th>Credit_History_A30</th>\n",
              "      <th>Credit_History_A32</th>\n",
              "      <th>Credit_History_A33</th>\n",
              "      <th>Credit_History_A34</th>\n",
              "      <th>Credit_Purpose_A40</th>\n",
              "      <th>Credit_Purpose_A41</th>\n",
              "      <th>Credit_Purpose_A42</th>\n",
              "      <th>Credit_Purpose_A43</th>\n",
              "      <th>Credit_Purpose_A44</th>\n",
              "      <th>Credit_Purpose_A45</th>\n",
              "      <th>Credit_Purpose_A48</th>\n",
              "      <th>Credit_Purpose_A49</th>\n",
              "      <th>Other_Debtors_Guarantors_A101</th>\n",
              "      <th>Other_Debtors_Guarantors_A103</th>\n",
              "      <th>Other_Inst_Plans_A143</th>\n",
              "      <th>Default_On_Payment</th>\n",
              "    </tr>\n",
              "  </thead>\n",
              "  <tbody>\n",
              "    <tr>\n",
              "      <th>0</th>\n",
              "      <td>0.857143</td>\n",
              "      <td>0.0</td>\n",
              "      <td>1.000000</td>\n",
              "      <td>0.050567</td>\n",
              "      <td>0.029412</td>\n",
              "      <td>1.000000</td>\n",
              "      <td>0.333333</td>\n",
              "      <td>0.0</td>\n",
              "      <td>1.0</td>\n",
              "      <td>0.0</td>\n",
              "      <td>0.0</td>\n",
              "      <td>1.0</td>\n",
              "      <td>0.0</td>\n",
              "      <td>1.0</td>\n",
              "      <td>1.0</td>\n",
              "      <td>0.0</td>\n",
              "      <td>0.0</td>\n",
              "      <td>0.0</td>\n",
              "      <td>0.0</td>\n",
              "      <td>1.0</td>\n",
              "      <td>0.0</td>\n",
              "      <td>1.0</td>\n",
              "      <td>0.0</td>\n",
              "      <td>0.0</td>\n",
              "      <td>0.0</td>\n",
              "      <td>0.0</td>\n",
              "      <td>1.0</td>\n",
              "      <td>0.0</td>\n",
              "      <td>0.0</td>\n",
              "      <td>0.0</td>\n",
              "      <td>0.0</td>\n",
              "      <td>1.0</td>\n",
              "      <td>0.0</td>\n",
              "      <td>0.0</td>\n",
              "      <td>0.0</td>\n",
              "      <td>0.0</td>\n",
              "      <td>0.0</td>\n",
              "      <td>0.0</td>\n",
              "      <td>1.0</td>\n",
              "      <td>0.0</td>\n",
              "      <td>0.0</td>\n",
              "      <td>0.0</td>\n",
              "      <td>1.0</td>\n",
              "      <td>0.0</td>\n",
              "      <td>0.0</td>\n",
              "      <td>0.0</td>\n",
              "      <td>0.0</td>\n",
              "      <td>1.0</td>\n",
              "      <td>0.0</td>\n",
              "      <td>1.0</td>\n",
              "      <td>0</td>\n",
              "    </tr>\n",
              "    <tr>\n",
              "      <th>1</th>\n",
              "      <td>0.053571</td>\n",
              "      <td>0.0</td>\n",
              "      <td>0.333333</td>\n",
              "      <td>0.313690</td>\n",
              "      <td>0.647059</td>\n",
              "      <td>0.333333</td>\n",
              "      <td>0.000000</td>\n",
              "      <td>1.0</td>\n",
              "      <td>0.0</td>\n",
              "      <td>0.0</td>\n",
              "      <td>0.0</td>\n",
              "      <td>1.0</td>\n",
              "      <td>1.0</td>\n",
              "      <td>0.0</td>\n",
              "      <td>1.0</td>\n",
              "      <td>0.0</td>\n",
              "      <td>0.0</td>\n",
              "      <td>0.0</td>\n",
              "      <td>0.0</td>\n",
              "      <td>1.0</td>\n",
              "      <td>0.0</td>\n",
              "      <td>1.0</td>\n",
              "      <td>0.0</td>\n",
              "      <td>0.0</td>\n",
              "      <td>1.0</td>\n",
              "      <td>0.0</td>\n",
              "      <td>0.0</td>\n",
              "      <td>1.0</td>\n",
              "      <td>0.0</td>\n",
              "      <td>0.0</td>\n",
              "      <td>0.0</td>\n",
              "      <td>0.0</td>\n",
              "      <td>1.0</td>\n",
              "      <td>0.0</td>\n",
              "      <td>0.0</td>\n",
              "      <td>0.0</td>\n",
              "      <td>1.0</td>\n",
              "      <td>0.0</td>\n",
              "      <td>0.0</td>\n",
              "      <td>0.0</td>\n",
              "      <td>0.0</td>\n",
              "      <td>0.0</td>\n",
              "      <td>1.0</td>\n",
              "      <td>0.0</td>\n",
              "      <td>0.0</td>\n",
              "      <td>0.0</td>\n",
              "      <td>0.0</td>\n",
              "      <td>1.0</td>\n",
              "      <td>0.0</td>\n",
              "      <td>1.0</td>\n",
              "      <td>0</td>\n",
              "    </tr>\n",
              "    <tr>\n",
              "      <th>2</th>\n",
              "      <td>0.535714</td>\n",
              "      <td>1.0</td>\n",
              "      <td>0.666667</td>\n",
              "      <td>0.101574</td>\n",
              "      <td>0.117647</td>\n",
              "      <td>0.333333</td>\n",
              "      <td>0.000000</td>\n",
              "      <td>0.0</td>\n",
              "      <td>1.0</td>\n",
              "      <td>0.0</td>\n",
              "      <td>0.0</td>\n",
              "      <td>1.0</td>\n",
              "      <td>1.0</td>\n",
              "      <td>0.0</td>\n",
              "      <td>1.0</td>\n",
              "      <td>0.0</td>\n",
              "      <td>0.0</td>\n",
              "      <td>0.0</td>\n",
              "      <td>1.0</td>\n",
              "      <td>0.0</td>\n",
              "      <td>0.0</td>\n",
              "      <td>1.0</td>\n",
              "      <td>0.0</td>\n",
              "      <td>0.0</td>\n",
              "      <td>0.0</td>\n",
              "      <td>1.0</td>\n",
              "      <td>0.0</td>\n",
              "      <td>1.0</td>\n",
              "      <td>0.0</td>\n",
              "      <td>0.0</td>\n",
              "      <td>0.0</td>\n",
              "      <td>0.0</td>\n",
              "      <td>0.0</td>\n",
              "      <td>0.0</td>\n",
              "      <td>1.0</td>\n",
              "      <td>0.0</td>\n",
              "      <td>0.0</td>\n",
              "      <td>0.0</td>\n",
              "      <td>1.0</td>\n",
              "      <td>0.0</td>\n",
              "      <td>0.0</td>\n",
              "      <td>0.0</td>\n",
              "      <td>0.0</td>\n",
              "      <td>0.0</td>\n",
              "      <td>0.0</td>\n",
              "      <td>0.0</td>\n",
              "      <td>0.0</td>\n",
              "      <td>1.0</td>\n",
              "      <td>0.0</td>\n",
              "      <td>1.0</td>\n",
              "      <td>0</td>\n",
              "    </tr>\n",
              "    <tr>\n",
              "      <th>3</th>\n",
              "      <td>0.464286</td>\n",
              "      <td>1.0</td>\n",
              "      <td>1.000000</td>\n",
              "      <td>0.419941</td>\n",
              "      <td>0.558824</td>\n",
              "      <td>0.333333</td>\n",
              "      <td>0.000000</td>\n",
              "      <td>0.0</td>\n",
              "      <td>1.0</td>\n",
              "      <td>0.0</td>\n",
              "      <td>0.0</td>\n",
              "      <td>0.0</td>\n",
              "      <td>1.0</td>\n",
              "      <td>0.0</td>\n",
              "      <td>0.0</td>\n",
              "      <td>1.0</td>\n",
              "      <td>0.0</td>\n",
              "      <td>0.0</td>\n",
              "      <td>0.0</td>\n",
              "      <td>1.0</td>\n",
              "      <td>0.0</td>\n",
              "      <td>1.0</td>\n",
              "      <td>0.0</td>\n",
              "      <td>0.0</td>\n",
              "      <td>0.0</td>\n",
              "      <td>1.0</td>\n",
              "      <td>0.0</td>\n",
              "      <td>1.0</td>\n",
              "      <td>0.0</td>\n",
              "      <td>0.0</td>\n",
              "      <td>0.0</td>\n",
              "      <td>0.0</td>\n",
              "      <td>0.0</td>\n",
              "      <td>0.0</td>\n",
              "      <td>0.0</td>\n",
              "      <td>0.0</td>\n",
              "      <td>1.0</td>\n",
              "      <td>0.0</td>\n",
              "      <td>0.0</td>\n",
              "      <td>0.0</td>\n",
              "      <td>0.0</td>\n",
              "      <td>1.0</td>\n",
              "      <td>0.0</td>\n",
              "      <td>0.0</td>\n",
              "      <td>0.0</td>\n",
              "      <td>0.0</td>\n",
              "      <td>0.0</td>\n",
              "      <td>0.0</td>\n",
              "      <td>1.0</td>\n",
              "      <td>1.0</td>\n",
              "      <td>0</td>\n",
              "    </tr>\n",
              "    <tr>\n",
              "      <th>4</th>\n",
              "      <td>0.607143</td>\n",
              "      <td>1.0</td>\n",
              "      <td>1.000000</td>\n",
              "      <td>0.254209</td>\n",
              "      <td>0.294118</td>\n",
              "      <td>0.666667</td>\n",
              "      <td>0.333333</td>\n",
              "      <td>0.0</td>\n",
              "      <td>1.0</td>\n",
              "      <td>0.0</td>\n",
              "      <td>0.0</td>\n",
              "      <td>0.0</td>\n",
              "      <td>1.0</td>\n",
              "      <td>0.0</td>\n",
              "      <td>0.0</td>\n",
              "      <td>0.0</td>\n",
              "      <td>0.0</td>\n",
              "      <td>0.0</td>\n",
              "      <td>0.0</td>\n",
              "      <td>1.0</td>\n",
              "      <td>0.0</td>\n",
              "      <td>1.0</td>\n",
              "      <td>0.0</td>\n",
              "      <td>0.0</td>\n",
              "      <td>1.0</td>\n",
              "      <td>0.0</td>\n",
              "      <td>0.0</td>\n",
              "      <td>1.0</td>\n",
              "      <td>0.0</td>\n",
              "      <td>0.0</td>\n",
              "      <td>0.0</td>\n",
              "      <td>0.0</td>\n",
              "      <td>0.0</td>\n",
              "      <td>0.0</td>\n",
              "      <td>0.0</td>\n",
              "      <td>0.0</td>\n",
              "      <td>0.0</td>\n",
              "      <td>1.0</td>\n",
              "      <td>0.0</td>\n",
              "      <td>1.0</td>\n",
              "      <td>0.0</td>\n",
              "      <td>0.0</td>\n",
              "      <td>0.0</td>\n",
              "      <td>0.0</td>\n",
              "      <td>0.0</td>\n",
              "      <td>0.0</td>\n",
              "      <td>0.0</td>\n",
              "      <td>1.0</td>\n",
              "      <td>0.0</td>\n",
              "      <td>1.0</td>\n",
              "      <td>1</td>\n",
              "    </tr>\n",
              "  </tbody>\n",
              "</table>\n",
              "</div>"
            ],
            "text/plain": [
              "        Age  Dependents  ...  Other_Inst_Plans_A143  Default_On_Payment\n",
              "0  0.857143         0.0  ...                    1.0                   0\n",
              "1  0.053571         0.0  ...                    1.0                   0\n",
              "2  0.535714         1.0  ...                    1.0                   0\n",
              "3  0.464286         1.0  ...                    1.0                   0\n",
              "4  0.607143         1.0  ...                    1.0                   1\n",
              "\n",
              "[5 rows x 51 columns]"
            ]
          },
          "metadata": {
            "tags": []
          },
          "execution_count": 67
        }
      ]
    },
    {
      "cell_type": "code",
      "metadata": {
        "id": "3hLeCFw-jqec",
        "colab_type": "code",
        "colab": {
          "base_uri": "https://localhost:8080/",
          "height": 155
        },
        "outputId": "59137f71-541b-4290-fd75-3e27b2bc7db6"
      },
      "source": [
        "# Let's define the feature set made up of all data points in the data set.\n",
        "features = resampled_data.iloc[:,0:-1]\n",
        "features.head(3)"
      ],
      "execution_count": 68,
      "outputs": [
        {
          "output_type": "execute_result",
          "data": {
            "text/html": [
              "<div>\n",
              "<style scoped>\n",
              "    .dataframe tbody tr th:only-of-type {\n",
              "        vertical-align: middle;\n",
              "    }\n",
              "\n",
              "    .dataframe tbody tr th {\n",
              "        vertical-align: top;\n",
              "    }\n",
              "\n",
              "    .dataframe thead th {\n",
              "        text-align: right;\n",
              "    }\n",
              "</style>\n",
              "<table border=\"1\" class=\"dataframe\">\n",
              "  <thead>\n",
              "    <tr style=\"text-align: right;\">\n",
              "      <th></th>\n",
              "      <th>Age</th>\n",
              "      <th>Dependents</th>\n",
              "      <th>Current_Address_Yrs</th>\n",
              "      <th>Credit_Amount</th>\n",
              "      <th>Duration_in_Months</th>\n",
              "      <th>Inst_Rate_Income</th>\n",
              "      <th>Num_Curr_Credits</th>\n",
              "      <th>Marital_Status_Gender_A92</th>\n",
              "      <th>Marital_Status_Gender_A93</th>\n",
              "      <th>Marital_Status_Gender_A94</th>\n",
              "      <th>Housing_A151</th>\n",
              "      <th>Housing_A152</th>\n",
              "      <th>Telephone_A191</th>\n",
              "      <th>Telephone_A192</th>\n",
              "      <th>Property_A121</th>\n",
              "      <th>Property_A122</th>\n",
              "      <th>Property_A123</th>\n",
              "      <th>Job_A171</th>\n",
              "      <th>Job_A172</th>\n",
              "      <th>Job_A173</th>\n",
              "      <th>Job_A174</th>\n",
              "      <th>Foreign_Worker_A201</th>\n",
              "      <th>Foreign_Worker_A202</th>\n",
              "      <th>Present_Employment_Years_A71</th>\n",
              "      <th>Present_Employment_Years_A73</th>\n",
              "      <th>Present_Employment_Years_A74</th>\n",
              "      <th>Present_Employment_Years_A75</th>\n",
              "      <th>Savings_Acc_A61</th>\n",
              "      <th>Savings_Acc_A62</th>\n",
              "      <th>Savings_Acc_A63</th>\n",
              "      <th>Savings_Acc_A64</th>\n",
              "      <th>Savings_Acc_A65</th>\n",
              "      <th>Status_Checking_Acc_A12</th>\n",
              "      <th>Status_Checking_Acc_A13</th>\n",
              "      <th>Status_Checking_Acc_A14</th>\n",
              "      <th>Credit_History_A30</th>\n",
              "      <th>Credit_History_A32</th>\n",
              "      <th>Credit_History_A33</th>\n",
              "      <th>Credit_History_A34</th>\n",
              "      <th>Credit_Purpose_A40</th>\n",
              "      <th>Credit_Purpose_A41</th>\n",
              "      <th>Credit_Purpose_A42</th>\n",
              "      <th>Credit_Purpose_A43</th>\n",
              "      <th>Credit_Purpose_A44</th>\n",
              "      <th>Credit_Purpose_A45</th>\n",
              "      <th>Credit_Purpose_A48</th>\n",
              "      <th>Credit_Purpose_A49</th>\n",
              "      <th>Other_Debtors_Guarantors_A101</th>\n",
              "      <th>Other_Debtors_Guarantors_A103</th>\n",
              "      <th>Other_Inst_Plans_A143</th>\n",
              "    </tr>\n",
              "  </thead>\n",
              "  <tbody>\n",
              "    <tr>\n",
              "      <th>0</th>\n",
              "      <td>0.857143</td>\n",
              "      <td>0.0</td>\n",
              "      <td>1.000000</td>\n",
              "      <td>0.050567</td>\n",
              "      <td>0.029412</td>\n",
              "      <td>1.000000</td>\n",
              "      <td>0.333333</td>\n",
              "      <td>0.0</td>\n",
              "      <td>1.0</td>\n",
              "      <td>0.0</td>\n",
              "      <td>0.0</td>\n",
              "      <td>1.0</td>\n",
              "      <td>0.0</td>\n",
              "      <td>1.0</td>\n",
              "      <td>1.0</td>\n",
              "      <td>0.0</td>\n",
              "      <td>0.0</td>\n",
              "      <td>0.0</td>\n",
              "      <td>0.0</td>\n",
              "      <td>1.0</td>\n",
              "      <td>0.0</td>\n",
              "      <td>1.0</td>\n",
              "      <td>0.0</td>\n",
              "      <td>0.0</td>\n",
              "      <td>0.0</td>\n",
              "      <td>0.0</td>\n",
              "      <td>1.0</td>\n",
              "      <td>0.0</td>\n",
              "      <td>0.0</td>\n",
              "      <td>0.0</td>\n",
              "      <td>0.0</td>\n",
              "      <td>1.0</td>\n",
              "      <td>0.0</td>\n",
              "      <td>0.0</td>\n",
              "      <td>0.0</td>\n",
              "      <td>0.0</td>\n",
              "      <td>0.0</td>\n",
              "      <td>0.0</td>\n",
              "      <td>1.0</td>\n",
              "      <td>0.0</td>\n",
              "      <td>0.0</td>\n",
              "      <td>0.0</td>\n",
              "      <td>1.0</td>\n",
              "      <td>0.0</td>\n",
              "      <td>0.0</td>\n",
              "      <td>0.0</td>\n",
              "      <td>0.0</td>\n",
              "      <td>1.0</td>\n",
              "      <td>0.0</td>\n",
              "      <td>1.0</td>\n",
              "    </tr>\n",
              "    <tr>\n",
              "      <th>1</th>\n",
              "      <td>0.053571</td>\n",
              "      <td>0.0</td>\n",
              "      <td>0.333333</td>\n",
              "      <td>0.313690</td>\n",
              "      <td>0.647059</td>\n",
              "      <td>0.333333</td>\n",
              "      <td>0.000000</td>\n",
              "      <td>1.0</td>\n",
              "      <td>0.0</td>\n",
              "      <td>0.0</td>\n",
              "      <td>0.0</td>\n",
              "      <td>1.0</td>\n",
              "      <td>1.0</td>\n",
              "      <td>0.0</td>\n",
              "      <td>1.0</td>\n",
              "      <td>0.0</td>\n",
              "      <td>0.0</td>\n",
              "      <td>0.0</td>\n",
              "      <td>0.0</td>\n",
              "      <td>1.0</td>\n",
              "      <td>0.0</td>\n",
              "      <td>1.0</td>\n",
              "      <td>0.0</td>\n",
              "      <td>0.0</td>\n",
              "      <td>1.0</td>\n",
              "      <td>0.0</td>\n",
              "      <td>0.0</td>\n",
              "      <td>1.0</td>\n",
              "      <td>0.0</td>\n",
              "      <td>0.0</td>\n",
              "      <td>0.0</td>\n",
              "      <td>0.0</td>\n",
              "      <td>1.0</td>\n",
              "      <td>0.0</td>\n",
              "      <td>0.0</td>\n",
              "      <td>0.0</td>\n",
              "      <td>1.0</td>\n",
              "      <td>0.0</td>\n",
              "      <td>0.0</td>\n",
              "      <td>0.0</td>\n",
              "      <td>0.0</td>\n",
              "      <td>0.0</td>\n",
              "      <td>1.0</td>\n",
              "      <td>0.0</td>\n",
              "      <td>0.0</td>\n",
              "      <td>0.0</td>\n",
              "      <td>0.0</td>\n",
              "      <td>1.0</td>\n",
              "      <td>0.0</td>\n",
              "      <td>1.0</td>\n",
              "    </tr>\n",
              "    <tr>\n",
              "      <th>2</th>\n",
              "      <td>0.535714</td>\n",
              "      <td>1.0</td>\n",
              "      <td>0.666667</td>\n",
              "      <td>0.101574</td>\n",
              "      <td>0.117647</td>\n",
              "      <td>0.333333</td>\n",
              "      <td>0.000000</td>\n",
              "      <td>0.0</td>\n",
              "      <td>1.0</td>\n",
              "      <td>0.0</td>\n",
              "      <td>0.0</td>\n",
              "      <td>1.0</td>\n",
              "      <td>1.0</td>\n",
              "      <td>0.0</td>\n",
              "      <td>1.0</td>\n",
              "      <td>0.0</td>\n",
              "      <td>0.0</td>\n",
              "      <td>0.0</td>\n",
              "      <td>1.0</td>\n",
              "      <td>0.0</td>\n",
              "      <td>0.0</td>\n",
              "      <td>1.0</td>\n",
              "      <td>0.0</td>\n",
              "      <td>0.0</td>\n",
              "      <td>0.0</td>\n",
              "      <td>1.0</td>\n",
              "      <td>0.0</td>\n",
              "      <td>1.0</td>\n",
              "      <td>0.0</td>\n",
              "      <td>0.0</td>\n",
              "      <td>0.0</td>\n",
              "      <td>0.0</td>\n",
              "      <td>0.0</td>\n",
              "      <td>0.0</td>\n",
              "      <td>1.0</td>\n",
              "      <td>0.0</td>\n",
              "      <td>0.0</td>\n",
              "      <td>0.0</td>\n",
              "      <td>1.0</td>\n",
              "      <td>0.0</td>\n",
              "      <td>0.0</td>\n",
              "      <td>0.0</td>\n",
              "      <td>0.0</td>\n",
              "      <td>0.0</td>\n",
              "      <td>0.0</td>\n",
              "      <td>0.0</td>\n",
              "      <td>0.0</td>\n",
              "      <td>1.0</td>\n",
              "      <td>0.0</td>\n",
              "      <td>1.0</td>\n",
              "    </tr>\n",
              "  </tbody>\n",
              "</table>\n",
              "</div>"
            ],
            "text/plain": [
              "        Age  Dependents  ...  Other_Debtors_Guarantors_A103  Other_Inst_Plans_A143\n",
              "0  0.857143         0.0  ...                            0.0                    1.0\n",
              "1  0.053571         0.0  ...                            0.0                    1.0\n",
              "2  0.535714         1.0  ...                            0.0                    1.0\n",
              "\n",
              "[3 rows x 50 columns]"
            ]
          },
          "metadata": {
            "tags": []
          },
          "execution_count": 68
        }
      ]
    },
    {
      "cell_type": "code",
      "metadata": {
        "id": "pm71xNpokC5a",
        "colab_type": "code",
        "colab": {
          "base_uri": "https://localhost:8080/",
          "height": 88
        },
        "outputId": "3819c88e-3870-413b-cb56-73d590138c89"
      },
      "source": [
        "# Now let's define the target or label\n",
        "target = resampled_data.Default_On_Payment\n",
        "target.head(3)"
      ],
      "execution_count": 69,
      "outputs": [
        {
          "output_type": "execute_result",
          "data": {
            "text/plain": [
              "0    0\n",
              "1    0\n",
              "2    0\n",
              "Name: Default_On_Payment, dtype: int8"
            ]
          },
          "metadata": {
            "tags": []
          },
          "execution_count": 69
        }
      ]
    },
    {
      "cell_type": "markdown",
      "metadata": {
        "id": "Jwad0EqWkB8q",
        "colab_type": "text"
      },
      "source": [
        "Let's fit the features and target to the SVM Model. Meaning, let's train the model with the entire data set"
      ]
    },
    {
      "cell_type": "code",
      "metadata": {
        "id": "C5vp2up8kVaN",
        "colab_type": "code",
        "colab": {
          "base_uri": "https://localhost:8080/",
          "height": 230
        },
        "outputId": "1ac17bad-f632-4c86-e295-acc55170023b"
      },
      "source": [
        "SVM_Model = SVM_Model.fit(features, target)\n",
        "SVM_Model"
      ],
      "execution_count": 70,
      "outputs": [
        {
          "output_type": "execute_result",
          "data": {
            "text/plain": [
              "GridSearchCV(cv=3, error_score=nan,\n",
              "             estimator=SVC(C=1.0, break_ties=False, cache_size=200,\n",
              "                           class_weight=None, coef0=0.0,\n",
              "                           decision_function_shape='ovr', degree=3,\n",
              "                           gamma='scale', kernel='poly', max_iter=-1,\n",
              "                           probability=False, random_state=None, shrinking=True,\n",
              "                           tol=0.001, verbose=False),\n",
              "             iid='deprecated', n_jobs=None,\n",
              "             param_grid={'C': [0.001, 0.01, 0.1, 1, 10],\n",
              "                         'gamma': [0.001, 0.01, 0.1, 1]},\n",
              "             pre_dispatch='2*n_jobs', refit=True, return_train_score=False,\n",
              "             scoring=None, verbose=0)"
            ]
          },
          "metadata": {
            "tags": []
          },
          "execution_count": 70
        }
      ]
    },
    {
      "cell_type": "markdown",
      "metadata": {
        "id": "p7jrnt6LlRcQ",
        "colab_type": "text"
      },
      "source": [
        "## Conclusion"
      ]
    },
    {
      "cell_type": "markdown",
      "metadata": {
        "id": "QNNdnWRClUY5",
        "colab_type": "text"
      },
      "source": [
        "We've just built a classifier model that can classify never-unseen data of bank customers into possible loan-defaulters or non-loan-defaulters.\n",
        "<br>We have chosen the SVM classifier due to its numerous strengths mentioned above and it's impressive score of over 99% in AUC, F1 and Accuracy metrics. We have trained it with the entire 7010 data points and 51 dimensions.<br>Our model is ready to be deployed.\n",
        "<br>Cheers!!"
      ]
    }
  ]
}