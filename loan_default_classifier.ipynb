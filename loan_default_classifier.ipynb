{
  "nbformat": 4,
  "nbformat_minor": 0,
  "metadata": {
    "colab": {
      "name": "loan_default_classifier.ipynb",
      "version": "0.3.2",
      "provenance": [],
      "collapsed_sections": [],
      "include_colab_link": true
    },
    "kernelspec": {
      "name": "python3",
      "display_name": "Python 3"
    },
    "accelerator": "GPU"
  },
  "cells": [
    {
      "cell_type": "markdown",
      "metadata": {
        "id": "view-in-github",
        "colab_type": "text"
      },
      "source": [
        "<a href=\"https://colab.research.google.com/github/Blackman9t/Machine_Learning/blob/master/loan_default_classifier.ipynb\" target=\"_parent\"><img src=\"https://colab.research.google.com/assets/colab-badge.svg\" alt=\"Open In Colab\"/></a>"
      ]
    },
    {
      "cell_type": "markdown",
      "metadata": {
        "id": "vgqAK0YFlgX_",
        "colab_type": "text"
      },
      "source": [
        "<h1 align=\"center\"><font size=\"6\">Classification with Python</font></h1>"
      ]
    },
    {
      "cell_type": "markdown",
      "metadata": {
        "id": "TSUU7S1dl_Jk",
        "colab_type": "text"
      },
      "source": [
        "In this notebook we try to classify bank customers into defaulters or non-defaulters using a bunch of classifier algorithms.\n",
        "\n",
        "We load a dataset using Pandas library, and apply the following algorithms, and find the best one for this specific dataset by accuracy evaluation methods.\n",
        "\n",
        "Lets first load required libraries:"
      ]
    },
    {
      "cell_type": "code",
      "metadata": {
        "id": "u4LYRKCXlS4m",
        "colab_type": "code",
        "colab": {}
      },
      "source": [
        "import itertools\n",
        "import numpy as np\n",
        "import matplotlib.pyplot as plt\n",
        "from matplotlib.ticker import NullFormatter\n",
        "import pandas as pd\n",
        "import numpy as np\n",
        "import matplotlib.ticker as ticker\n",
        "import seaborn as sns\n",
        "from sklearn import preprocessing\n",
        "%matplotlib inline"
      ],
      "execution_count": 0,
      "outputs": []
    },
    {
      "cell_type": "markdown",
      "metadata": {
        "id": "NjqG6zM9m_sI",
        "colab_type": "text"
      },
      "source": [
        "The data set we shall use is from Credit One Bank and it's in Kaggle and can be  seen along side its data dictionary via this [link](https://www.kaggle.com/dataforyou/bankloan)<br>\n",
        "\n",
        "The raw file can be read straight from github via this [link](https://github.com/Blackman9t/Machine_Learning/blob/master/Loan_Data%20for%20Classification.xlsx?raw=true')"
      ]
    },
    {
      "cell_type": "code",
      "metadata": {
        "id": "mQe62hUWnOxx",
        "colab_type": "code",
        "colab": {}
      },
      "source": [
        "data = 'https://github.com/Blackman9t/Machine_Learning/blob/master/Loan_Data%20for%20Classification.xlsx?raw=true'"
      ],
      "execution_count": 0,
      "outputs": []
    },
    {
      "cell_type": "markdown",
      "metadata": {
        "id": "s0nc5t_gn_JP",
        "colab_type": "text"
      },
      "source": [
        "Reading the raw file to a data frame and setting row 2 as the header, since I first viewed the file in excel.<br>\n",
        "\n",
        "Let's define additional NaN values that pandas may not see"
      ]
    },
    {
      "cell_type": "code",
      "metadata": {
        "id": "YQHYKJGorrrP",
        "colab_type": "code",
        "colab": {}
      },
      "source": [
        "additional_nan_values = ['n/a', '--','?','None','Non','non','none']"
      ],
      "execution_count": 0,
      "outputs": []
    },
    {
      "cell_type": "code",
      "metadata": {
        "id": "UqOKNI8Cn9c-",
        "colab_type": "code",
        "colab": {
          "base_uri": "https://localhost:8080/",
          "height": 215
        },
        "outputId": "29f437d1-5e46-472e-cfb2-d02f760e0393"
      },
      "source": [
        "loan_df = pd.read_excel(data, header=2, na_values=additional_nan_values)\n",
        "\n",
        "loan_df.head()"
      ],
      "execution_count": 26,
      "outputs": [
        {
          "output_type": "execute_result",
          "data": {
            "text/html": [
              "<div>\n",
              "<style scoped>\n",
              "    .dataframe tbody tr th:only-of-type {\n",
              "        vertical-align: middle;\n",
              "    }\n",
              "\n",
              "    .dataframe tbody tr th {\n",
              "        vertical-align: top;\n",
              "    }\n",
              "\n",
              "    .dataframe thead th {\n",
              "        text-align: right;\n",
              "    }\n",
              "</style>\n",
              "<table border=\"1\" class=\"dataframe\">\n",
              "  <thead>\n",
              "    <tr style=\"text-align: right;\">\n",
              "      <th></th>\n",
              "      <th>Customer_ID</th>\n",
              "      <th>Status_Checking_Acc</th>\n",
              "      <th>Duration_in_Months</th>\n",
              "      <th>Credit_History</th>\n",
              "      <th>Purposre_Credit_Taken</th>\n",
              "      <th>Credit_Amount</th>\n",
              "      <th>Savings_Acc</th>\n",
              "      <th>Years_At_Present_Employment</th>\n",
              "      <th>Inst_Rt_Income</th>\n",
              "      <th>Marital_Status_Gender</th>\n",
              "      <th>Other_Debtors_Guarantors</th>\n",
              "      <th>Current_Address_Yrs</th>\n",
              "      <th>Property</th>\n",
              "      <th>Age</th>\n",
              "      <th>Other_Inst_Plans</th>\n",
              "      <th>Housing</th>\n",
              "      <th>Num_CC</th>\n",
              "      <th>Job</th>\n",
              "      <th>Dependents</th>\n",
              "      <th>Telephone</th>\n",
              "      <th>Foreign_Worker</th>\n",
              "      <th>Default_On_Payment</th>\n",
              "      <th>Count</th>\n",
              "    </tr>\n",
              "  </thead>\n",
              "  <tbody>\n",
              "    <tr>\n",
              "      <th>0</th>\n",
              "      <td>100001</td>\n",
              "      <td>A11</td>\n",
              "      <td>6</td>\n",
              "      <td>A34</td>\n",
              "      <td>A43</td>\n",
              "      <td>1169</td>\n",
              "      <td>A65</td>\n",
              "      <td>A75</td>\n",
              "      <td>4</td>\n",
              "      <td>A93</td>\n",
              "      <td>A101</td>\n",
              "      <td>4</td>\n",
              "      <td>A121</td>\n",
              "      <td>67</td>\n",
              "      <td>A143</td>\n",
              "      <td>A152</td>\n",
              "      <td>2</td>\n",
              "      <td>A173</td>\n",
              "      <td>1</td>\n",
              "      <td>A192</td>\n",
              "      <td>A201</td>\n",
              "      <td>0</td>\n",
              "      <td>1</td>\n",
              "    </tr>\n",
              "    <tr>\n",
              "      <th>1</th>\n",
              "      <td>100002</td>\n",
              "      <td>A12</td>\n",
              "      <td>48</td>\n",
              "      <td>A32</td>\n",
              "      <td>A43</td>\n",
              "      <td>5951</td>\n",
              "      <td>A61</td>\n",
              "      <td>A73</td>\n",
              "      <td>2</td>\n",
              "      <td>A92</td>\n",
              "      <td>A101</td>\n",
              "      <td>2</td>\n",
              "      <td>A121</td>\n",
              "      <td>22</td>\n",
              "      <td>A143</td>\n",
              "      <td>A152</td>\n",
              "      <td>1</td>\n",
              "      <td>A173</td>\n",
              "      <td>1</td>\n",
              "      <td>A191</td>\n",
              "      <td>A201</td>\n",
              "      <td>0</td>\n",
              "      <td>1</td>\n",
              "    </tr>\n",
              "    <tr>\n",
              "      <th>2</th>\n",
              "      <td>100003</td>\n",
              "      <td>A14</td>\n",
              "      <td>12</td>\n",
              "      <td>A34</td>\n",
              "      <td>A46</td>\n",
              "      <td>2096</td>\n",
              "      <td>A61</td>\n",
              "      <td>A74</td>\n",
              "      <td>2</td>\n",
              "      <td>A93</td>\n",
              "      <td>A101</td>\n",
              "      <td>3</td>\n",
              "      <td>A121</td>\n",
              "      <td>49</td>\n",
              "      <td>A143</td>\n",
              "      <td>A152</td>\n",
              "      <td>1</td>\n",
              "      <td>A172</td>\n",
              "      <td>2</td>\n",
              "      <td>A191</td>\n",
              "      <td>A201</td>\n",
              "      <td>0</td>\n",
              "      <td>1</td>\n",
              "    </tr>\n",
              "    <tr>\n",
              "      <th>3</th>\n",
              "      <td>100004</td>\n",
              "      <td>A11</td>\n",
              "      <td>42</td>\n",
              "      <td>A32</td>\n",
              "      <td>A42</td>\n",
              "      <td>7882</td>\n",
              "      <td>A61</td>\n",
              "      <td>A74</td>\n",
              "      <td>2</td>\n",
              "      <td>A93</td>\n",
              "      <td>A103</td>\n",
              "      <td>4</td>\n",
              "      <td>A122</td>\n",
              "      <td>45</td>\n",
              "      <td>A143</td>\n",
              "      <td>A153</td>\n",
              "      <td>1</td>\n",
              "      <td>A173</td>\n",
              "      <td>2</td>\n",
              "      <td>A191</td>\n",
              "      <td>A201</td>\n",
              "      <td>0</td>\n",
              "      <td>1</td>\n",
              "    </tr>\n",
              "    <tr>\n",
              "      <th>4</th>\n",
              "      <td>100005</td>\n",
              "      <td>A11</td>\n",
              "      <td>24</td>\n",
              "      <td>A33</td>\n",
              "      <td>A40</td>\n",
              "      <td>4870</td>\n",
              "      <td>A61</td>\n",
              "      <td>A73</td>\n",
              "      <td>3</td>\n",
              "      <td>A93</td>\n",
              "      <td>A101</td>\n",
              "      <td>4</td>\n",
              "      <td>A124</td>\n",
              "      <td>53</td>\n",
              "      <td>A143</td>\n",
              "      <td>A153</td>\n",
              "      <td>2</td>\n",
              "      <td>A173</td>\n",
              "      <td>2</td>\n",
              "      <td>A191</td>\n",
              "      <td>A201</td>\n",
              "      <td>1</td>\n",
              "      <td>1</td>\n",
              "    </tr>\n",
              "  </tbody>\n",
              "</table>\n",
              "</div>"
            ],
            "text/plain": [
              "   Customer_ID Status_Checking_Acc  ...  Default_On_Payment Count\n",
              "0       100001                 A11  ...                   0     1\n",
              "1       100002                 A12  ...                   0     1\n",
              "2       100003                 A14  ...                   0     1\n",
              "3       100004                 A11  ...                   0     1\n",
              "4       100005                 A11  ...                   1     1\n",
              "\n",
              "[5 rows x 23 columns]"
            ]
          },
          "metadata": {
            "tags": []
          },
          "execution_count": 26
        }
      ]
    },
    {
      "cell_type": "markdown",
      "metadata": {
        "id": "0t-XhroDpPe4",
        "colab_type": "text"
      },
      "source": [
        "Let's check the shape"
      ]
    },
    {
      "cell_type": "code",
      "metadata": {
        "id": "a-WtSPhRpWr1",
        "colab_type": "code",
        "colab": {
          "base_uri": "https://localhost:8080/",
          "height": 34
        },
        "outputId": "e4c1c4a2-508c-46c8-e38f-bbdb6d6b6c02"
      },
      "source": [
        "loan_df.shape"
      ],
      "execution_count": 27,
      "outputs": [
        {
          "output_type": "execute_result",
          "data": {
            "text/plain": [
              "(5000, 23)"
            ]
          },
          "metadata": {
            "tags": []
          },
          "execution_count": 27
        }
      ]
    },
    {
      "cell_type": "markdown",
      "metadata": {
        "id": "NwSPvMJLphiQ",
        "colab_type": "text"
      },
      "source": [
        "Shape is 5000 rows and 23 columns. <br>Pay attention to the data, it has  a lot of alpha-numeric notations<br>The best bet is to open the data dictionary via this [link](https://www.kaggle.com/dataforyou/bankloan) to a browser so one can understand what each notation stands for.\n",
        "\n",
        ">>\n",
        "\n",
        "Let's check the info and dtypes"
      ]
    },
    {
      "cell_type": "code",
      "metadata": {
        "id": "RM0NWwkqqFPX",
        "colab_type": "code",
        "colab": {
          "base_uri": "https://localhost:8080/",
          "height": 487
        },
        "outputId": "69c2f69e-3791-4f3a-bb7c-0e673727677e"
      },
      "source": [
        "loan_df.info()"
      ],
      "execution_count": 28,
      "outputs": [
        {
          "output_type": "stream",
          "text": [
            "<class 'pandas.core.frame.DataFrame'>\n",
            "RangeIndex: 5000 entries, 0 to 4999\n",
            "Data columns (total 23 columns):\n",
            "Customer_ID                    5000 non-null int64\n",
            "Status_Checking_Acc            5000 non-null object\n",
            "Duration_in_Months             5000 non-null int64\n",
            "Credit_History                 5000 non-null object\n",
            "Purposre_Credit_Taken          5000 non-null object\n",
            "Credit_Amount                  5000 non-null int64\n",
            "Savings_Acc                    5000 non-null object\n",
            "Years_At_Present_Employment    5000 non-null object\n",
            "Inst_Rt_Income                 5000 non-null int64\n",
            "Marital_Status_Gender          5000 non-null object\n",
            "Other_Debtors_Guarantors       5000 non-null object\n",
            "Current_Address_Yrs            5000 non-null int64\n",
            "Property                       5000 non-null object\n",
            "Age                            5000 non-null int64\n",
            "Other_Inst_Plans               5000 non-null object\n",
            "Housing                        5000 non-null object\n",
            "Num_CC                         5000 non-null int64\n",
            "Job                            5000 non-null object\n",
            "Dependents                     5000 non-null int64\n",
            "Telephone                      5000 non-null object\n",
            "Foreign_Worker                 5000 non-null object\n",
            "Default_On_Payment             5000 non-null int64\n",
            "Count                          5000 non-null int64\n",
            "dtypes: int64(10), object(13)\n",
            "memory usage: 898.5+ KB\n"
          ],
          "name": "stdout"
        }
      ]
    },
    {
      "cell_type": "markdown",
      "metadata": {
        "id": "Uo_gigzLq7aM",
        "colab_type": "text"
      },
      "source": [
        "Let's check the stats for columns of object dtype and transpose it for readability"
      ]
    },
    {
      "cell_type": "code",
      "metadata": {
        "id": "ILF_NwsMqkz3",
        "colab_type": "code",
        "colab": {
          "base_uri": "https://localhost:8080/",
          "height": 432
        },
        "outputId": "0415ebff-84d2-4dc0-92b1-cd262bebb447"
      },
      "source": [
        "loan_df.describe(include=['object']).T"
      ],
      "execution_count": 29,
      "outputs": [
        {
          "output_type": "execute_result",
          "data": {
            "text/html": [
              "<div>\n",
              "<style scoped>\n",
              "    .dataframe tbody tr th:only-of-type {\n",
              "        vertical-align: middle;\n",
              "    }\n",
              "\n",
              "    .dataframe tbody tr th {\n",
              "        vertical-align: top;\n",
              "    }\n",
              "\n",
              "    .dataframe thead th {\n",
              "        text-align: right;\n",
              "    }\n",
              "</style>\n",
              "<table border=\"1\" class=\"dataframe\">\n",
              "  <thead>\n",
              "    <tr style=\"text-align: right;\">\n",
              "      <th></th>\n",
              "      <th>count</th>\n",
              "      <th>unique</th>\n",
              "      <th>top</th>\n",
              "      <th>freq</th>\n",
              "    </tr>\n",
              "  </thead>\n",
              "  <tbody>\n",
              "    <tr>\n",
              "      <th>Status_Checking_Acc</th>\n",
              "      <td>5000</td>\n",
              "      <td>4</td>\n",
              "      <td>A14</td>\n",
              "      <td>1970</td>\n",
              "    </tr>\n",
              "    <tr>\n",
              "      <th>Credit_History</th>\n",
              "      <td>5000</td>\n",
              "      <td>5</td>\n",
              "      <td>A32</td>\n",
              "      <td>2650</td>\n",
              "    </tr>\n",
              "    <tr>\n",
              "      <th>Purposre_Credit_Taken</th>\n",
              "      <td>5000</td>\n",
              "      <td>10</td>\n",
              "      <td>A43</td>\n",
              "      <td>1400</td>\n",
              "    </tr>\n",
              "    <tr>\n",
              "      <th>Savings_Acc</th>\n",
              "      <td>5000</td>\n",
              "      <td>5</td>\n",
              "      <td>A61</td>\n",
              "      <td>3015</td>\n",
              "    </tr>\n",
              "    <tr>\n",
              "      <th>Years_At_Present_Employment</th>\n",
              "      <td>5000</td>\n",
              "      <td>5</td>\n",
              "      <td>A73</td>\n",
              "      <td>1695</td>\n",
              "    </tr>\n",
              "    <tr>\n",
              "      <th>Marital_Status_Gender</th>\n",
              "      <td>5000</td>\n",
              "      <td>4</td>\n",
              "      <td>A93</td>\n",
              "      <td>2740</td>\n",
              "    </tr>\n",
              "    <tr>\n",
              "      <th>Other_Debtors_Guarantors</th>\n",
              "      <td>5000</td>\n",
              "      <td>3</td>\n",
              "      <td>A101</td>\n",
              "      <td>4535</td>\n",
              "    </tr>\n",
              "    <tr>\n",
              "      <th>Property</th>\n",
              "      <td>5000</td>\n",
              "      <td>4</td>\n",
              "      <td>A123</td>\n",
              "      <td>1660</td>\n",
              "    </tr>\n",
              "    <tr>\n",
              "      <th>Other_Inst_Plans</th>\n",
              "      <td>5000</td>\n",
              "      <td>3</td>\n",
              "      <td>A143</td>\n",
              "      <td>4070</td>\n",
              "    </tr>\n",
              "    <tr>\n",
              "      <th>Housing</th>\n",
              "      <td>5000</td>\n",
              "      <td>3</td>\n",
              "      <td>A152</td>\n",
              "      <td>3565</td>\n",
              "    </tr>\n",
              "    <tr>\n",
              "      <th>Job</th>\n",
              "      <td>5000</td>\n",
              "      <td>4</td>\n",
              "      <td>A173</td>\n",
              "      <td>3150</td>\n",
              "    </tr>\n",
              "    <tr>\n",
              "      <th>Telephone</th>\n",
              "      <td>5000</td>\n",
              "      <td>2</td>\n",
              "      <td>A191</td>\n",
              "      <td>2980</td>\n",
              "    </tr>\n",
              "    <tr>\n",
              "      <th>Foreign_Worker</th>\n",
              "      <td>5000</td>\n",
              "      <td>2</td>\n",
              "      <td>A201</td>\n",
              "      <td>4815</td>\n",
              "    </tr>\n",
              "  </tbody>\n",
              "</table>\n",
              "</div>"
            ],
            "text/plain": [
              "                            count unique   top  freq\n",
              "Status_Checking_Acc          5000      4   A14  1970\n",
              "Credit_History               5000      5   A32  2650\n",
              "Purposre_Credit_Taken        5000     10   A43  1400\n",
              "Savings_Acc                  5000      5   A61  3015\n",
              "Years_At_Present_Employment  5000      5   A73  1695\n",
              "Marital_Status_Gender        5000      4   A93  2740\n",
              "Other_Debtors_Guarantors     5000      3  A101  4535\n",
              "Property                     5000      4  A123  1660\n",
              "Other_Inst_Plans             5000      3  A143  4070\n",
              "Housing                      5000      3  A152  3565\n",
              "Job                          5000      4  A173  3150\n",
              "Telephone                    5000      2  A191  2980\n",
              "Foreign_Worker               5000      2  A201  4815"
            ]
          },
          "metadata": {
            "tags": []
          },
          "execution_count": 29
        }
      ]
    },
    {
      "cell_type": "markdown",
      "metadata": {
        "id": "-D8JlANlrJp1",
        "colab_type": "text"
      },
      "source": [
        "Now Let's check the stats for numeric  columns  and transpose it for readability"
      ]
    },
    {
      "cell_type": "code",
      "metadata": {
        "id": "i0heOSdFrOt4",
        "colab_type": "code",
        "colab": {
          "base_uri": "https://localhost:8080/",
          "height": 343
        },
        "outputId": "ce52face-cbc3-49ff-ac06-3764710cdf28"
      },
      "source": [
        "loan_df.describe().T"
      ],
      "execution_count": 30,
      "outputs": [
        {
          "output_type": "execute_result",
          "data": {
            "text/html": [
              "<div>\n",
              "<style scoped>\n",
              "    .dataframe tbody tr th:only-of-type {\n",
              "        vertical-align: middle;\n",
              "    }\n",
              "\n",
              "    .dataframe tbody tr th {\n",
              "        vertical-align: top;\n",
              "    }\n",
              "\n",
              "    .dataframe thead th {\n",
              "        text-align: right;\n",
              "    }\n",
              "</style>\n",
              "<table border=\"1\" class=\"dataframe\">\n",
              "  <thead>\n",
              "    <tr style=\"text-align: right;\">\n",
              "      <th></th>\n",
              "      <th>count</th>\n",
              "      <th>mean</th>\n",
              "      <th>std</th>\n",
              "      <th>min</th>\n",
              "      <th>25%</th>\n",
              "      <th>50%</th>\n",
              "      <th>75%</th>\n",
              "      <th>max</th>\n",
              "    </tr>\n",
              "  </thead>\n",
              "  <tbody>\n",
              "    <tr>\n",
              "      <th>Customer_ID</th>\n",
              "      <td>5000.0</td>\n",
              "      <td>102500.500</td>\n",
              "      <td>1443.520003</td>\n",
              "      <td>100001.0</td>\n",
              "      <td>101250.75</td>\n",
              "      <td>102500.5</td>\n",
              "      <td>103750.25</td>\n",
              "      <td>105000.0</td>\n",
              "    </tr>\n",
              "    <tr>\n",
              "      <th>Duration_in_Months</th>\n",
              "      <td>5000.0</td>\n",
              "      <td>20.903</td>\n",
              "      <td>12.053989</td>\n",
              "      <td>4.0</td>\n",
              "      <td>12.00</td>\n",
              "      <td>18.0</td>\n",
              "      <td>24.00</td>\n",
              "      <td>72.0</td>\n",
              "    </tr>\n",
              "    <tr>\n",
              "      <th>Credit_Amount</th>\n",
              "      <td>5000.0</td>\n",
              "      <td>3271.258</td>\n",
              "      <td>2821.607329</td>\n",
              "      <td>250.0</td>\n",
              "      <td>1365.50</td>\n",
              "      <td>2319.5</td>\n",
              "      <td>3972.25</td>\n",
              "      <td>18424.0</td>\n",
              "    </tr>\n",
              "    <tr>\n",
              "      <th>Inst_Rt_Income</th>\n",
              "      <td>5000.0</td>\n",
              "      <td>2.973</td>\n",
              "      <td>1.118267</td>\n",
              "      <td>1.0</td>\n",
              "      <td>2.00</td>\n",
              "      <td>3.0</td>\n",
              "      <td>4.00</td>\n",
              "      <td>4.0</td>\n",
              "    </tr>\n",
              "    <tr>\n",
              "      <th>Current_Address_Yrs</th>\n",
              "      <td>5000.0</td>\n",
              "      <td>2.845</td>\n",
              "      <td>1.103276</td>\n",
              "      <td>1.0</td>\n",
              "      <td>2.00</td>\n",
              "      <td>3.0</td>\n",
              "      <td>4.00</td>\n",
              "      <td>4.0</td>\n",
              "    </tr>\n",
              "    <tr>\n",
              "      <th>Age</th>\n",
              "      <td>5000.0</td>\n",
              "      <td>35.546</td>\n",
              "      <td>11.370917</td>\n",
              "      <td>19.0</td>\n",
              "      <td>27.00</td>\n",
              "      <td>33.0</td>\n",
              "      <td>42.00</td>\n",
              "      <td>75.0</td>\n",
              "    </tr>\n",
              "    <tr>\n",
              "      <th>Num_CC</th>\n",
              "      <td>5000.0</td>\n",
              "      <td>1.407</td>\n",
              "      <td>0.577423</td>\n",
              "      <td>1.0</td>\n",
              "      <td>1.00</td>\n",
              "      <td>1.0</td>\n",
              "      <td>2.00</td>\n",
              "      <td>4.0</td>\n",
              "    </tr>\n",
              "    <tr>\n",
              "      <th>Dependents</th>\n",
              "      <td>5000.0</td>\n",
              "      <td>1.155</td>\n",
              "      <td>0.361941</td>\n",
              "      <td>1.0</td>\n",
              "      <td>1.00</td>\n",
              "      <td>1.0</td>\n",
              "      <td>1.00</td>\n",
              "      <td>2.0</td>\n",
              "    </tr>\n",
              "    <tr>\n",
              "      <th>Default_On_Payment</th>\n",
              "      <td>5000.0</td>\n",
              "      <td>0.299</td>\n",
              "      <td>0.457866</td>\n",
              "      <td>0.0</td>\n",
              "      <td>0.00</td>\n",
              "      <td>0.0</td>\n",
              "      <td>1.00</td>\n",
              "      <td>1.0</td>\n",
              "    </tr>\n",
              "    <tr>\n",
              "      <th>Count</th>\n",
              "      <td>5000.0</td>\n",
              "      <td>1.000</td>\n",
              "      <td>0.000000</td>\n",
              "      <td>1.0</td>\n",
              "      <td>1.00</td>\n",
              "      <td>1.0</td>\n",
              "      <td>1.00</td>\n",
              "      <td>1.0</td>\n",
              "    </tr>\n",
              "  </tbody>\n",
              "</table>\n",
              "</div>"
            ],
            "text/plain": [
              "                      count        mean  ...        75%       max\n",
              "Customer_ID          5000.0  102500.500  ...  103750.25  105000.0\n",
              "Duration_in_Months   5000.0      20.903  ...      24.00      72.0\n",
              "Credit_Amount        5000.0    3271.258  ...    3972.25   18424.0\n",
              "Inst_Rt_Income       5000.0       2.973  ...       4.00       4.0\n",
              "Current_Address_Yrs  5000.0       2.845  ...       4.00       4.0\n",
              "Age                  5000.0      35.546  ...      42.00      75.0\n",
              "Num_CC               5000.0       1.407  ...       2.00       4.0\n",
              "Dependents           5000.0       1.155  ...       1.00       2.0\n",
              "Default_On_Payment   5000.0       0.299  ...       1.00       1.0\n",
              "Count                5000.0       1.000  ...       1.00       1.0\n",
              "\n",
              "[10 rows x 8 columns]"
            ]
          },
          "metadata": {
            "tags": []
          },
          "execution_count": 30
        }
      ]
    },
    {
      "cell_type": "markdown",
      "metadata": {
        "id": "aMufdpyJsXKp",
        "colab_type": "text"
      },
      "source": [
        "No missing values atall  as both numeric and object dtype columns have complete 5000 records, but let's just confirm"
      ]
    },
    {
      "cell_type": "code",
      "metadata": {
        "id": "9bCA-zSqsgle",
        "colab_type": "code",
        "colab": {
          "base_uri": "https://localhost:8080/",
          "height": 34
        },
        "outputId": "ef924c74-2299-41fb-b8c8-4399865766a6"
      },
      "source": [
        "loan_df.isna().any().all()  # checking if any missing values and checking if any true value in the response"
      ],
      "execution_count": 31,
      "outputs": [
        {
          "output_type": "execute_result",
          "data": {
            "text/plain": [
              "False"
            ]
          },
          "metadata": {
            "tags": []
          },
          "execution_count": 31
        }
      ]
    },
    {
      "cell_type": "markdown",
      "metadata": {
        "id": "Tr5dvEnxtULz",
        "colab_type": "text"
      },
      "source": [
        "For a data set of 5000 rows and 23 columns, we may need to reduce it's memory consumption as we know pandas stores all floats as float64 and all int as int64 let's reduce some columns to int8 or int16, especially columns with single or double digit entries like Age"
      ]
    },
    {
      "cell_type": "code",
      "metadata": {
        "id": "-_YmerVpuHz7",
        "colab_type": "code",
        "colab": {
          "base_uri": "https://localhost:8080/",
          "height": 420
        },
        "outputId": "e4d4509b-fcab-4347-e74d-ea602eb20351"
      },
      "source": [
        "loan_df.dtypes"
      ],
      "execution_count": 32,
      "outputs": [
        {
          "output_type": "execute_result",
          "data": {
            "text/plain": [
              "Customer_ID                     int64\n",
              "Status_Checking_Acc            object\n",
              "Duration_in_Months              int64\n",
              "Credit_History                 object\n",
              "Purposre_Credit_Taken          object\n",
              "Credit_Amount                   int64\n",
              "Savings_Acc                    object\n",
              "Years_At_Present_Employment    object\n",
              "Inst_Rt_Income                  int64\n",
              "Marital_Status_Gender          object\n",
              "Other_Debtors_Guarantors       object\n",
              "Current_Address_Yrs             int64\n",
              "Property                       object\n",
              "Age                             int64\n",
              "Other_Inst_Plans               object\n",
              "Housing                        object\n",
              "Num_CC                          int64\n",
              "Job                            object\n",
              "Dependents                      int64\n",
              "Telephone                      object\n",
              "Foreign_Worker                 object\n",
              "Default_On_Payment              int64\n",
              "Count                           int64\n",
              "dtype: object"
            ]
          },
          "metadata": {
            "tags": []
          },
          "execution_count": 32
        }
      ]
    },
    {
      "cell_type": "code",
      "metadata": {
        "id": "GOxq3gHzt5l4",
        "colab_type": "code",
        "colab": {
          "base_uri": "https://localhost:8080/",
          "height": 454
        },
        "outputId": "245469a6-e41c-4a30-ba62-7316ca4ec990"
      },
      "source": [
        "current_memory = loan_df.memory_usage().sum()\n",
        "print('Current memory is-', current_memory,'Bytes.')\n",
        "\n",
        "loan_df.memory_usage()"
      ],
      "execution_count": 33,
      "outputs": [
        {
          "output_type": "stream",
          "text": [
            "Current memory is- 920080 Bytes.\n"
          ],
          "name": "stdout"
        },
        {
          "output_type": "execute_result",
          "data": {
            "text/plain": [
              "Index                             80\n",
              "Customer_ID                    40000\n",
              "Status_Checking_Acc            40000\n",
              "Duration_in_Months             40000\n",
              "Credit_History                 40000\n",
              "Purposre_Credit_Taken          40000\n",
              "Credit_Amount                  40000\n",
              "Savings_Acc                    40000\n",
              "Years_At_Present_Employment    40000\n",
              "Inst_Rt_Income                 40000\n",
              "Marital_Status_Gender          40000\n",
              "Other_Debtors_Guarantors       40000\n",
              "Current_Address_Yrs            40000\n",
              "Property                       40000\n",
              "Age                            40000\n",
              "Other_Inst_Plans               40000\n",
              "Housing                        40000\n",
              "Num_CC                         40000\n",
              "Job                            40000\n",
              "Dependents                     40000\n",
              "Telephone                      40000\n",
              "Foreign_Worker                 40000\n",
              "Default_On_Payment             40000\n",
              "Count                          40000\n",
              "dtype: int64"
            ]
          },
          "metadata": {
            "tags": []
          },
          "execution_count": 33
        }
      ]
    },
    {
      "cell_type": "code",
      "metadata": {
        "id": "eBrWdiHWvWdm",
        "colab_type": "code",
        "colab": {
          "base_uri": "https://localhost:8080/",
          "height": 454
        },
        "outputId": "9f36105b-fc39-4d30-b1a6-7ba506056fda"
      },
      "source": [
        "# let's change all these columns with a max of 2 digits to int8 to save memory\n",
        "\n",
        "loan_df[['Duration_in_Months','Inst_Rt_Income','Current_Address_Yrs','Age','Num_CC','Dependents','Default_On_Payment','Count']] = \\\n",
        "loan_df[['Duration_in_Months','Inst_Rt_Income','Current_Address_Yrs','Age','Num_CC','Dependents','Default_On_Payment','Count']].astype('int8', inplace=True)\n",
        "\n",
        "# Let's change the two other columns with up to 6 digit numbers from int64 to int32 to save memory\n",
        "\n",
        "loan_df[['Customer_ID','Credit_Amount']] = loan_df[['Customer_ID','Credit_Amount']].astype('int32')\n",
        "\n",
        "new_memory = loan_df.memory_usage().sum()\n",
        "print('New memory is-', new_memory,'Bytes.')\n",
        "\n",
        "loan_df.memory_usage()"
      ],
      "execution_count": 34,
      "outputs": [
        {
          "output_type": "stream",
          "text": [
            "New memory is- 600080 Bytes.\n"
          ],
          "name": "stdout"
        },
        {
          "output_type": "execute_result",
          "data": {
            "text/plain": [
              "Index                             80\n",
              "Customer_ID                    20000\n",
              "Status_Checking_Acc            40000\n",
              "Duration_in_Months              5000\n",
              "Credit_History                 40000\n",
              "Purposre_Credit_Taken          40000\n",
              "Credit_Amount                  20000\n",
              "Savings_Acc                    40000\n",
              "Years_At_Present_Employment    40000\n",
              "Inst_Rt_Income                  5000\n",
              "Marital_Status_Gender          40000\n",
              "Other_Debtors_Guarantors       40000\n",
              "Current_Address_Yrs             5000\n",
              "Property                       40000\n",
              "Age                             5000\n",
              "Other_Inst_Plans               40000\n",
              "Housing                        40000\n",
              "Num_CC                          5000\n",
              "Job                            40000\n",
              "Dependents                      5000\n",
              "Telephone                      40000\n",
              "Foreign_Worker                 40000\n",
              "Default_On_Payment              5000\n",
              "Count                           5000\n",
              "dtype: int64"
            ]
          },
          "metadata": {
            "tags": []
          },
          "execution_count": 34
        }
      ]
    },
    {
      "cell_type": "markdown",
      "metadata": {
        "id": "iZfrkGqv0I4x",
        "colab_type": "text"
      },
      "source": [
        "Let's see how much memory we have saved"
      ]
    },
    {
      "cell_type": "code",
      "metadata": {
        "id": "ywON8i4uy6dR",
        "colab_type": "code",
        "colab": {
          "base_uri": "https://localhost:8080/",
          "height": 34
        },
        "outputId": "1239b5a8-6359-4edd-f7bc-8572f30db900"
      },
      "source": [
        "current_memory - new_memory  # We've saved 320,000 Bytes just now."
      ],
      "execution_count": 35,
      "outputs": [
        {
          "output_type": "execute_result",
          "data": {
            "text/plain": [
              "320000"
            ]
          },
          "metadata": {
            "tags": []
          },
          "execution_count": 35
        }
      ]
    },
    {
      "cell_type": "markdown",
      "metadata": {
        "id": "I0ndbPIB0qwi",
        "colab_type": "text"
      },
      "source": [
        "Next we need to organise the Data into a more logical sequence before we start any computation.<br>\n",
        "This means we arrange columns of similar meta-data together starting with categorical, then continuous columns.<br>\n",
        "Except in case where it is more sensible to put a continuous variable before a categorical one."
      ]
    },
    {
      "cell_type": "code",
      "metadata": {
        "id": "4K8tc2RV1RE7",
        "colab_type": "code",
        "colab": {
          "base_uri": "https://localhost:8080/",
          "height": 151
        },
        "outputId": "09000d95-0d97-4cb2-ab65-8351178ef93e"
      },
      "source": [
        "# Let's see the total columns in the data set\n",
        "\n",
        "loan_df.columns"
      ],
      "execution_count": 36,
      "outputs": [
        {
          "output_type": "execute_result",
          "data": {
            "text/plain": [
              "Index(['Customer_ID', 'Status_Checking_Acc', 'Duration_in_Months',\n",
              "       'Credit_History', 'Purposre_Credit_Taken', 'Credit_Amount',\n",
              "       'Savings_Acc', 'Years_At_Present_Employment', 'Inst_Rt_Income',\n",
              "       'Marital_Status_Gender', 'Other_Debtors_Guarantors',\n",
              "       'Current_Address_Yrs', 'Property', 'Age', 'Other_Inst_Plans ',\n",
              "       'Housing', 'Num_CC', 'Job', 'Dependents', 'Telephone', 'Foreign_Worker',\n",
              "       'Default_On_Payment', 'Count'],\n",
              "      dtype='object')"
            ]
          },
          "metadata": {
            "tags": []
          },
          "execution_count": 36
        }
      ]
    },
    {
      "cell_type": "markdown",
      "metadata": {
        "id": "6QXkfOA61tNQ",
        "colab_type": "text"
      },
      "source": [
        "Next, let's try to group them into subgroups using python lists. \n",
        "<br>\n",
        "For exanmple we can have a list for bio-data, one for financial date and so on"
      ]
    },
    {
      "cell_type": "code",
      "metadata": {
        "id": "LEf7hgrI1o5J",
        "colab_type": "code",
        "colab": {}
      },
      "source": [
        "customer_data = ['Customer_ID', 'Marital_Status_Gender', 'Age', 'Dependents', 'Housing','Telephone', 'Property','Current_Address_Yrs']\n",
        "\n",
        "job_and_personal_finance = ['Job', 'Foreign_Worker', 'Years_At_Present_Employment', 'Savings_Acc','Status_Checking_Acc', 'Credit_History']\n",
        "\n",
        "loan_credit_data = ['Credit_Amount', 'Purposre_Credit_Taken', 'Duration_in_Months','Inst_Rt_Income','Other_Debtors_Guarantors','Other_Inst_Plans ','Num_CC','Default_On_Payment', \"Count\"]"
      ],
      "execution_count": 0,
      "outputs": []
    },
    {
      "cell_type": "markdown",
      "metadata": {
        "id": "rAyfKQVX9bwN",
        "colab_type": "text"
      },
      "source": [
        "The above process is highly manual and subject to errors let's confirm we made no errors before assigning the order"
      ]
    },
    {
      "cell_type": "code",
      "metadata": {
        "id": "QNzePw-j9pgk",
        "colab_type": "code",
        "colab": {
          "base_uri": "https://localhost:8080/",
          "height": 34
        },
        "outputId": "cd05d3b9-e487-42af-cfa4-7368948f5f2a"
      },
      "source": [
        "# lets concatenate the lists\n",
        "\n",
        "columns = customer_data + job_and_personal_finance + loan_credit_data\n",
        "\n",
        "# Let's check we did not omit any column\n",
        "\n",
        "set(loan_df.columns).difference(set(columns))"
      ],
      "execution_count": 38,
      "outputs": [
        {
          "output_type": "execute_result",
          "data": {
            "text/plain": [
              "set()"
            ]
          },
          "metadata": {
            "tags": []
          },
          "execution_count": 38
        }
      ]
    },
    {
      "cell_type": "markdown",
      "metadata": {
        "id": "xUftRy5n-sLW",
        "colab_type": "text"
      },
      "source": [
        "The empty set returned above means no difference and we did not omit any thing. so let's go ahead and re-order the columns"
      ]
    },
    {
      "cell_type": "code",
      "metadata": {
        "id": "qRHiLbC82b3_",
        "colab_type": "code",
        "colab": {}
      },
      "source": [
        "loan_df = loan_df[columns]\n"
      ],
      "execution_count": 0,
      "outputs": []
    },
    {
      "cell_type": "markdown",
      "metadata": {
        "id": "n_zpaPeACcEP",
        "colab_type": "text"
      },
      "source": [
        "Next let's strip off the white space at the end of column 'Other_Inst_Plans '"
      ]
    },
    {
      "cell_type": "code",
      "metadata": {
        "id": "6xkTbWaB2cZg",
        "colab_type": "code",
        "colab": {
          "base_uri": "https://localhost:8080/",
          "height": 156
        },
        "outputId": "d3d0bf94-8fb7-4c5a-d826-340ec8dbf3fc"
      },
      "source": [
        "loan_df.rename(columns = {'Other_Inst_Plans ': 'Other_Inst_Plans'}, inplace=True)\n",
        "\n",
        "\n",
        "loan_df.head(3)"
      ],
      "execution_count": 40,
      "outputs": [
        {
          "output_type": "execute_result",
          "data": {
            "text/html": [
              "<div>\n",
              "<style scoped>\n",
              "    .dataframe tbody tr th:only-of-type {\n",
              "        vertical-align: middle;\n",
              "    }\n",
              "\n",
              "    .dataframe tbody tr th {\n",
              "        vertical-align: top;\n",
              "    }\n",
              "\n",
              "    .dataframe thead th {\n",
              "        text-align: right;\n",
              "    }\n",
              "</style>\n",
              "<table border=\"1\" class=\"dataframe\">\n",
              "  <thead>\n",
              "    <tr style=\"text-align: right;\">\n",
              "      <th></th>\n",
              "      <th>Customer_ID</th>\n",
              "      <th>Marital_Status_Gender</th>\n",
              "      <th>Age</th>\n",
              "      <th>Dependents</th>\n",
              "      <th>Housing</th>\n",
              "      <th>Telephone</th>\n",
              "      <th>Property</th>\n",
              "      <th>Current_Address_Yrs</th>\n",
              "      <th>Job</th>\n",
              "      <th>Foreign_Worker</th>\n",
              "      <th>Years_At_Present_Employment</th>\n",
              "      <th>Savings_Acc</th>\n",
              "      <th>Status_Checking_Acc</th>\n",
              "      <th>Credit_History</th>\n",
              "      <th>Credit_Amount</th>\n",
              "      <th>Purposre_Credit_Taken</th>\n",
              "      <th>Duration_in_Months</th>\n",
              "      <th>Inst_Rt_Income</th>\n",
              "      <th>Other_Debtors_Guarantors</th>\n",
              "      <th>Other_Inst_Plans</th>\n",
              "      <th>Num_CC</th>\n",
              "      <th>Default_On_Payment</th>\n",
              "      <th>Count</th>\n",
              "    </tr>\n",
              "  </thead>\n",
              "  <tbody>\n",
              "    <tr>\n",
              "      <th>0</th>\n",
              "      <td>100001</td>\n",
              "      <td>A93</td>\n",
              "      <td>67</td>\n",
              "      <td>1</td>\n",
              "      <td>A152</td>\n",
              "      <td>A192</td>\n",
              "      <td>A121</td>\n",
              "      <td>4</td>\n",
              "      <td>A173</td>\n",
              "      <td>A201</td>\n",
              "      <td>A75</td>\n",
              "      <td>A65</td>\n",
              "      <td>A11</td>\n",
              "      <td>A34</td>\n",
              "      <td>1169</td>\n",
              "      <td>A43</td>\n",
              "      <td>6</td>\n",
              "      <td>4</td>\n",
              "      <td>A101</td>\n",
              "      <td>A143</td>\n",
              "      <td>2</td>\n",
              "      <td>0</td>\n",
              "      <td>1</td>\n",
              "    </tr>\n",
              "    <tr>\n",
              "      <th>1</th>\n",
              "      <td>100002</td>\n",
              "      <td>A92</td>\n",
              "      <td>22</td>\n",
              "      <td>1</td>\n",
              "      <td>A152</td>\n",
              "      <td>A191</td>\n",
              "      <td>A121</td>\n",
              "      <td>2</td>\n",
              "      <td>A173</td>\n",
              "      <td>A201</td>\n",
              "      <td>A73</td>\n",
              "      <td>A61</td>\n",
              "      <td>A12</td>\n",
              "      <td>A32</td>\n",
              "      <td>5951</td>\n",
              "      <td>A43</td>\n",
              "      <td>48</td>\n",
              "      <td>2</td>\n",
              "      <td>A101</td>\n",
              "      <td>A143</td>\n",
              "      <td>1</td>\n",
              "      <td>0</td>\n",
              "      <td>1</td>\n",
              "    </tr>\n",
              "    <tr>\n",
              "      <th>2</th>\n",
              "      <td>100003</td>\n",
              "      <td>A93</td>\n",
              "      <td>49</td>\n",
              "      <td>2</td>\n",
              "      <td>A152</td>\n",
              "      <td>A191</td>\n",
              "      <td>A121</td>\n",
              "      <td>3</td>\n",
              "      <td>A172</td>\n",
              "      <td>A201</td>\n",
              "      <td>A74</td>\n",
              "      <td>A61</td>\n",
              "      <td>A14</td>\n",
              "      <td>A34</td>\n",
              "      <td>2096</td>\n",
              "      <td>A46</td>\n",
              "      <td>12</td>\n",
              "      <td>2</td>\n",
              "      <td>A101</td>\n",
              "      <td>A143</td>\n",
              "      <td>1</td>\n",
              "      <td>0</td>\n",
              "      <td>1</td>\n",
              "    </tr>\n",
              "  </tbody>\n",
              "</table>\n",
              "</div>"
            ],
            "text/plain": [
              "   Customer_ID Marital_Status_Gender  Age  ...  Num_CC Default_On_Payment Count\n",
              "0       100001                   A93   67  ...       2                  0     1\n",
              "1       100002                   A92   22  ...       1                  0     1\n",
              "2       100003                   A93   49  ...       1                  0     1\n",
              "\n",
              "[3 rows x 23 columns]"
            ]
          },
          "metadata": {
            "tags": []
          },
          "execution_count": 40
        }
      ]
    },
    {
      "cell_type": "markdown",
      "metadata": {
        "id": "x-4XSnHb_S9G",
        "colab_type": "text"
      },
      "source": [
        "This is beautiful our loan_df columns are ordered in a logical fashion, let's start feature binarization and pre-processing"
      ]
    },
    {
      "cell_type": "markdown",
      "metadata": {
        "id": "ClelReV5e_Au",
        "colab_type": "text"
      },
      "source": [
        "First Let's **visualize** The relationships between the categorical variables and Default on payments column"
      ]
    },
    {
      "cell_type": "code",
      "metadata": {
        "id": "dcRByXXcFBjN",
        "colab_type": "code",
        "colab": {
          "base_uri": "https://localhost:8080/",
          "height": 185
        },
        "outputId": "3ec59a93-ef7f-4518-ba44-24405dcf5474"
      },
      "source": [
        "loan_df.groupby(['Job'])['Default_On_Payment'].value_counts(normalize=True)"
      ],
      "execution_count": 41,
      "outputs": [
        {
          "output_type": "execute_result",
          "data": {
            "text/plain": [
              "Job   Default_On_Payment\n",
              "A171  0                     0.681818\n",
              "      1                     0.318182\n",
              "A172  0                     0.720000\n",
              "      1                     0.280000\n",
              "A173  0                     0.706349\n",
              "      1                     0.293651\n",
              "A174  0                     0.655405\n",
              "      1                     0.344595\n",
              "Name: Default_On_Payment, dtype: float64"
            ]
          },
          "metadata": {
            "tags": []
          },
          "execution_count": 41
        }
      ]
    },
    {
      "cell_type": "code",
      "metadata": {
        "id": "ebtPlilBU7ee",
        "colab_type": "code",
        "colab": {
          "base_uri": "https://localhost:8080/",
          "height": 295
        },
        "outputId": "72307bdc-fb40-4b58-db4b-731dcc857c30"
      },
      "source": [
        "sns.set_style('ticks')\n",
        "sns.violinplot(loan_df.Job, loan_df.Default_On_Payment)\n",
        "plt.title('Defaulters')\n",
        "plt.show()"
      ],
      "execution_count": 42,
      "outputs": [
        {
          "output_type": "display_data",
          "data": {
            "image/png": "[encoded data removed]",
            "text/plain": [
              "<Figure size 432x288 with 1 Axes>"
            ]
          },
          "metadata": {
            "tags": []
          }
        }
      ]
    },
    {
      "cell_type": "code",
      "metadata": {
        "id": "nxd72XZBVaqV",
        "colab_type": "code",
        "colab": {
          "base_uri": "https://localhost:8080/",
          "height": 300
        },
        "outputId": "7edb076f-fa1f-437e-fd50-0e257c6bf534"
      },
      "source": [
        "sns.violinplot(loan_df.Housing, loan_df.Default_On_Payment)"
      ],
      "execution_count": 43,
      "outputs": [
        {
          "output_type": "execute_result",
          "data": {
            "text/plain": [
              "<matplotlib.axes._subplots.AxesSubplot at 0x7f23310502e8>"
            ]
          },
          "metadata": {
            "tags": []
          },
          "execution_count": 43
        },
        {
          "output_type": "display_data",
          "data": {
            "image/png": "[encoded data removed]",
            "text/plain": [
              "<Figure size 432x288 with 1 Axes>"
            ]
          },
          "metadata": {
            "tags": []
          }
        }
      ]
    },
    {
      "cell_type": "code",
      "metadata": {
        "id": "lHOL6s1cYg-N",
        "colab_type": "code",
        "colab": {
          "base_uri": "https://localhost:8080/",
          "height": 418
        },
        "outputId": "6612fb88-a771-44b0-ca4a-de43e6768c4e"
      },
      "source": [
        "sns.violinplot(loan_df['Other_Inst_Plans'], loan_df.Default_On_Payment)\n",
        "plt.show()\n",
        "\n",
        "loan_df.groupby(['Other_Inst_Plans'])['Default_On_Payment'].value_counts(normalize=True)"
      ],
      "execution_count": 44,
      "outputs": [
        {
          "output_type": "display_data",
          "data": {
            "image/png": "[encoded data removed]",
            "text/plain": [
              "<Figure size 432x288 with 1 Axes>"
            ]
          },
          "metadata": {
            "tags": []
          }
        },
        {
          "output_type": "execute_result",
          "data": {
            "text/plain": [
              "Other_Inst_Plans  Default_On_Payment\n",
              "A141              0                     0.589928\n",
              "                  1                     0.410072\n",
              "A142              0                     0.595745\n",
              "                  1                     0.404255\n",
              "A143              0                     0.726044\n",
              "                  1                     0.273956\n",
              "Name: Default_On_Payment, dtype: float64"
            ]
          },
          "metadata": {
            "tags": []
          },
          "execution_count": 44
        }
      ]
    },
    {
      "cell_type": "code",
      "metadata": {
        "id": "R1Oc45WGdAVB",
        "colab_type": "code",
        "colab": {
          "base_uri": "https://localhost:8080/",
          "height": 34
        },
        "outputId": "3c9afa41-c90c-4377-b922-c6f6d4bed35a"
      },
      "source": [
        "'Other_Inst_Plans' in loan_df.columns"
      ],
      "execution_count": 45,
      "outputs": [
        {
          "output_type": "execute_result",
          "data": {
            "text/plain": [
              "True"
            ]
          },
          "metadata": {
            "tags": []
          },
          "execution_count": 45
        }
      ]
    },
    {
      "cell_type": "code",
      "metadata": {
        "id": "fFs__hSOdHT5",
        "colab_type": "code",
        "colab": {
          "base_uri": "https://localhost:8080/",
          "height": 134
        },
        "outputId": "51e7ac34-edd5-4a89-d7d4-e01f69bcc971"
      },
      "source": [
        "loan_df.columns"
      ],
      "execution_count": 46,
      "outputs": [
        {
          "output_type": "execute_result",
          "data": {
            "text/plain": [
              "Index(['Customer_ID', 'Marital_Status_Gender', 'Age', 'Dependents', 'Housing',\n",
              "       'Telephone', 'Property', 'Current_Address_Yrs', 'Job', 'Foreign_Worker',\n",
              "       'Years_At_Present_Employment', 'Savings_Acc', 'Status_Checking_Acc',\n",
              "       'Credit_History', 'Credit_Amount', 'Purposre_Credit_Taken',\n",
              "       'Duration_in_Months', 'Inst_Rt_Income', 'Other_Debtors_Guarantors',\n",
              "       'Other_Inst_Plans', 'Num_CC', 'Default_On_Payment', 'Count'],\n",
              "      dtype='object')"
            ]
          },
          "metadata": {
            "tags": []
          },
          "execution_count": 46
        }
      ]
    },
    {
      "cell_type": "code",
      "metadata": {
        "id": "19cx7mg3bjL-",
        "colab_type": "code",
        "colab": {
          "base_uri": "https://localhost:8080/",
          "height": 385
        },
        "outputId": "9986b442-9cb7-4841-f4b9-848ad2959daf"
      },
      "source": [
        "sns.violinplot(loan_df.Foreign_Worker, loan_df.Default_On_Payment)\n",
        "plt.show()\n",
        "\n",
        "loan_df.groupby(['Foreign_Worker'])['Default_On_Payment'].value_counts(normalize=True)"
      ],
      "execution_count": 47,
      "outputs": [
        {
          "output_type": "display_data",
          "data": {
            "image/png": "[encoded data removed]",
            "text/plain": [
              "<Figure size 432x288 with 1 Axes>"
            ]
          },
          "metadata": {
            "tags": []
          }
        },
        {
          "output_type": "execute_result",
          "data": {
            "text/plain": [
              "Foreign_Worker  Default_On_Payment\n",
              "A201            0                     0.693666\n",
              "                1                     0.306334\n",
              "A202            0                     0.891892\n",
              "                1                     0.108108\n",
              "Name: Default_On_Payment, dtype: float64"
            ]
          },
          "metadata": {
            "tags": []
          },
          "execution_count": 47
        }
      ]
    },
    {
      "cell_type": "code",
      "metadata": {
        "id": "WUFNFhcmGgY5",
        "colab_type": "code",
        "colab": {
          "base_uri": "https://localhost:8080/",
          "height": 118
        },
        "outputId": "1c231bec-0969-4275-b93e-39af29e88f5d"
      },
      "source": [
        "loan_df.groupby(['Dependents'])['Default_On_Payment'].value_counts(normalize=True)"
      ],
      "execution_count": 48,
      "outputs": [
        {
          "output_type": "execute_result",
          "data": {
            "text/plain": [
              "Dependents  Default_On_Payment\n",
              "1           0                     0.700592\n",
              "            1                     0.299408\n",
              "2           0                     0.703226\n",
              "            1                     0.296774\n",
              "Name: Default_On_Payment, dtype: float64"
            ]
          },
          "metadata": {
            "tags": []
          },
          "execution_count": 48
        }
      ]
    },
    {
      "cell_type": "code",
      "metadata": {
        "id": "8ZIiCik4Jae9",
        "colab_type": "code",
        "colab": {
          "base_uri": "https://localhost:8080/",
          "height": 151
        },
        "outputId": "37ee311a-f593-4978-c829-722dabd57e3d"
      },
      "source": [
        "loan_df.groupby(['Housing'])['Default_On_Payment'].value_counts(normalize=True)"
      ],
      "execution_count": 49,
      "outputs": [
        {
          "output_type": "execute_result",
          "data": {
            "text/plain": [
              "Housing  Default_On_Payment\n",
              "A151     0                     0.608939\n",
              "         1                     0.391061\n",
              "A152     0                     0.740533\n",
              "         1                     0.259467\n",
              "A153     0                     0.592593\n",
              "         1                     0.407407\n",
              "Name: Default_On_Payment, dtype: float64"
            ]
          },
          "metadata": {
            "tags": []
          },
          "execution_count": 49
        }
      ]
    },
    {
      "cell_type": "code",
      "metadata": {
        "id": "dLzdv9j5Jmsi",
        "colab_type": "code",
        "colab": {
          "base_uri": "https://localhost:8080/",
          "height": 118
        },
        "outputId": "246fec3b-bed0-479f-8d97-17beb59a6aeb"
      },
      "source": [
        "loan_df.groupby(['Dependents'])['Default_On_Payment'].value_counts(normalize=True)"
      ],
      "execution_count": 50,
      "outputs": [
        {
          "output_type": "execute_result",
          "data": {
            "text/plain": [
              "Dependents  Default_On_Payment\n",
              "1           0                     0.700592\n",
              "            1                     0.299408\n",
              "2           0                     0.703226\n",
              "            1                     0.296774\n",
              "Name: Default_On_Payment, dtype: float64"
            ]
          },
          "metadata": {
            "tags": []
          },
          "execution_count": 50
        }
      ]
    },
    {
      "cell_type": "code",
      "metadata": {
        "id": "7MwPVNOQJwHb",
        "colab_type": "code",
        "colab": {
          "base_uri": "https://localhost:8080/",
          "height": 118
        },
        "outputId": "b0818a5e-e46b-4899-bdba-686bf6839664"
      },
      "source": [
        "loan_df.groupby(['Telephone'])['Default_On_Payment'].value_counts(normalize=True)"
      ],
      "execution_count": 51,
      "outputs": [
        {
          "output_type": "execute_result",
          "data": {
            "text/plain": [
              "Telephone  Default_On_Payment\n",
              "A191       0                     0.687919\n",
              "           1                     0.312081\n",
              "A192       0                     0.720297\n",
              "           1                     0.279703\n",
              "Name: Default_On_Payment, dtype: float64"
            ]
          },
          "metadata": {
            "tags": []
          },
          "execution_count": 51
        }
      ]
    },
    {
      "cell_type": "markdown",
      "metadata": {
        "id": "PkqQh_IQO0wD",
        "colab_type": "text"
      },
      "source": [
        "Attribute 1: (Qualitative / Categorical) Status of existing checking account A11: ... < 0 USD A12: 0 <= ... < 10000 USD A13: ... >= 10000 USD A14: no checking account"
      ]
    },
    {
      "cell_type": "code",
      "metadata": {
        "id": "EUaBFT2jOyV9",
        "colab_type": "code",
        "colab": {
          "base_uri": "https://localhost:8080/",
          "height": 185
        },
        "outputId": "f35cebf4-4be0-45a3-8180-874a8c91ea8b"
      },
      "source": [
        "loan_df.Status_Checking_Acc.replace(to_replace=['A11','A12','A13','A14'], value=['<0','>=0<10,000','>=10,000','None'], inplace=True)\n",
        "loan_df.groupby('Status_Checking_Acc')['Default_On_Payment'].value_counts(normalize=True)"
      ],
      "execution_count": 52,
      "outputs": [
        {
          "output_type": "execute_result",
          "data": {
            "text/plain": [
              "Status_Checking_Acc  Default_On_Payment\n",
              "<0                   0                     0.507299\n",
              "                     1                     0.492701\n",
              ">=0<10,000           0                     0.613383\n",
              "                     1                     0.386617\n",
              ">=10,000             0                     0.777778\n",
              "                     1                     0.222222\n",
              "None                 0                     0.883249\n",
              "                     1                     0.116751\n",
              "Name: Default_On_Payment, dtype: float64"
            ]
          },
          "metadata": {
            "tags": []
          },
          "execution_count": 52
        }
      ]
    }
  ]
}