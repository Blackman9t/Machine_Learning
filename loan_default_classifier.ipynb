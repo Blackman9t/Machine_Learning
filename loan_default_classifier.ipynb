{
  "nbformat": 4,
  "nbformat_minor": 0,
  "metadata": {
    "colab": {
      "name": "loan_default_classifier.ipynb",
      "provenance": [],
      "collapsed_sections": [],
      "include_colab_link": true
    },
    "kernelspec": {
      "name": "python3",
      "display_name": "Python 3"
    },
    "accelerator": "GPU"
  },
  "cells": [
    {
      "cell_type": "markdown",
      "metadata": {
        "id": "view-in-github",
        "colab_type": "text"
      },
      "source": [
        "<a href=\"https://colab.research.google.com/github/Blackman9t/Machine_Learning/blob/master/loan_default_classifier.ipynb\" target=\"_parent\"><img src=\"https://colab.research.google.com/assets/colab-badge.svg\" alt=\"Open In Colab\"/></a>"
      ]
    },
    {
      "cell_type": "markdown",
      "metadata": {
        "id": "vgqAK0YFlgX_",
        "colab_type": "text"
      },
      "source": [
        "<h1 align=\"center\"><font size=\"6\">Classification with Python</font></h1>"
      ]
    },
    {
      "cell_type": "markdown",
      "metadata": {
        "id": "TSUU7S1dl_Jk",
        "colab_type": "text"
      },
      "source": [
        "In this notebook we try to classify bank customers into possible loan-defaulters or non-defaulters using a bunch of classifier algorithms.<br>\n",
        "We shall use The following algorithms:-<br>\n",
        "K-Nearest-Neighbour(KNN)<br>\n",
        "K-Means-Clustering<br>\n",
        "Decision Trees<br>\n",
        "Logistic Regression<br>\n",
        "Support Vector Machines<br>\n",
        "Random Forest\n",
        "\n",
        "We load a dataset using Pandas library, and apply the following algorithms, and find the best one for this specific dataset by accuracy evaluation methods.\n",
        "\n",
        "Lets first load required libraries:"
      ]
    },
    {
      "cell_type": "code",
      "metadata": {
        "id": "u4LYRKCXlS4m",
        "colab_type": "code",
        "colab": {}
      },
      "source": [
        "#@title Default title text\n",
        "import itertools\n",
        "import numpy as np\n",
        "import matplotlib.pyplot as plt\n",
        "from matplotlib.ticker import NullFormatter\n",
        "import pandas as pd\n",
        "import numpy as np\n",
        "import matplotlib.ticker as ticker\n",
        "import seaborn as sns\n",
        "from sklearn import preprocessing\n",
        "%matplotlib inline"
      ],
      "execution_count": 0,
      "outputs": []
    },
    {
      "cell_type": "markdown",
      "metadata": {
        "id": "NjqG6zM9m_sI",
        "colab_type": "text"
      },
      "source": [
        "The data set we shall use is from Credit One Bank and it's in Kaggle and can be  seen along side its data dictionary via this [link](https://www.kaggle.com/dataforyou/bankloan)<br>\n",
        "Please open the link above to the data dictionary so that we know exactly what each coded categorical data stands for.\n",
        "\n",
        "The raw file can be read straight from github via this [link](https://github.com/Blackman9t/Machine_Learning/blob/master/Loan_Data%20for%20Classification.xlsx?raw=true')"
      ]
    },
    {
      "cell_type": "code",
      "metadata": {
        "id": "mQe62hUWnOxx",
        "colab_type": "code",
        "colab": {}
      },
      "source": [
        "data = 'https://github.com/Blackman9t/Machine_Learning/blob/master/Loan_Data%20for%20Classification.xlsx?raw=true'"
      ],
      "execution_count": 0,
      "outputs": []
    },
    {
      "cell_type": "markdown",
      "metadata": {
        "id": "s0nc5t_gn_JP",
        "colab_type": "text"
      },
      "source": [
        "Reading the raw file to a data frame and setting row 2 as the header, since I first viewed the file in excel.<br>\n",
        "\n",
        "Let's define additional NaN values that pandas may not see"
      ]
    },
    {
      "cell_type": "code",
      "metadata": {
        "id": "YQHYKJGorrrP",
        "colab_type": "code",
        "colab": {}
      },
      "source": [
        "additional_nan_values = ['n/a', '--','?','None','Non','non','none']"
      ],
      "execution_count": 0,
      "outputs": []
    },
    {
      "cell_type": "code",
      "metadata": {
        "id": "UqOKNI8Cn9c-",
        "colab_type": "code",
        "outputId": "d2e20d57-bf73-44fc-c989-66b34b9cb51e",
        "colab": {
          "base_uri": "https://localhost:8080/",
          "height": 215
        }
      },
      "source": [
        "loan_df = pd.read_excel(data, header=2, na_values=additional_nan_values)\n",
        "\n",
        "loan_df.head()"
      ],
      "execution_count": 4,
      "outputs": [
        {
          "output_type": "execute_result",
          "data": {
            "text/html": [
              "<div>\n",
              "<style scoped>\n",
              "    .dataframe tbody tr th:only-of-type {\n",
              "        vertical-align: middle;\n",
              "    }\n",
              "\n",
              "    .dataframe tbody tr th {\n",
              "        vertical-align: top;\n",
              "    }\n",
              "\n",
              "    .dataframe thead th {\n",
              "        text-align: right;\n",
              "    }\n",
              "</style>\n",
              "<table border=\"1\" class=\"dataframe\">\n",
              "  <thead>\n",
              "    <tr style=\"text-align: right;\">\n",
              "      <th></th>\n",
              "      <th>Customer_ID</th>\n",
              "      <th>Status_Checking_Acc</th>\n",
              "      <th>Duration_in_Months</th>\n",
              "      <th>Credit_History</th>\n",
              "      <th>Purposre_Credit_Taken</th>\n",
              "      <th>Credit_Amount</th>\n",
              "      <th>Savings_Acc</th>\n",
              "      <th>Years_At_Present_Employment</th>\n",
              "      <th>Inst_Rt_Income</th>\n",
              "      <th>Marital_Status_Gender</th>\n",
              "      <th>Other_Debtors_Guarantors</th>\n",
              "      <th>Current_Address_Yrs</th>\n",
              "      <th>Property</th>\n",
              "      <th>Age</th>\n",
              "      <th>Other_Inst_Plans</th>\n",
              "      <th>Housing</th>\n",
              "      <th>Num_CC</th>\n",
              "      <th>Job</th>\n",
              "      <th>Dependents</th>\n",
              "      <th>Telephone</th>\n",
              "      <th>Foreign_Worker</th>\n",
              "      <th>Default_On_Payment</th>\n",
              "      <th>Count</th>\n",
              "    </tr>\n",
              "  </thead>\n",
              "  <tbody>\n",
              "    <tr>\n",
              "      <th>0</th>\n",
              "      <td>100001</td>\n",
              "      <td>A11</td>\n",
              "      <td>6</td>\n",
              "      <td>A34</td>\n",
              "      <td>A43</td>\n",
              "      <td>1169</td>\n",
              "      <td>A65</td>\n",
              "      <td>A75</td>\n",
              "      <td>4</td>\n",
              "      <td>A93</td>\n",
              "      <td>A101</td>\n",
              "      <td>4</td>\n",
              "      <td>A121</td>\n",
              "      <td>67</td>\n",
              "      <td>A143</td>\n",
              "      <td>A152</td>\n",
              "      <td>2</td>\n",
              "      <td>A173</td>\n",
              "      <td>1</td>\n",
              "      <td>A192</td>\n",
              "      <td>A201</td>\n",
              "      <td>0</td>\n",
              "      <td>1</td>\n",
              "    </tr>\n",
              "    <tr>\n",
              "      <th>1</th>\n",
              "      <td>100002</td>\n",
              "      <td>A12</td>\n",
              "      <td>48</td>\n",
              "      <td>A32</td>\n",
              "      <td>A43</td>\n",
              "      <td>5951</td>\n",
              "      <td>A61</td>\n",
              "      <td>A73</td>\n",
              "      <td>2</td>\n",
              "      <td>A92</td>\n",
              "      <td>A101</td>\n",
              "      <td>2</td>\n",
              "      <td>A121</td>\n",
              "      <td>22</td>\n",
              "      <td>A143</td>\n",
              "      <td>A152</td>\n",
              "      <td>1</td>\n",
              "      <td>A173</td>\n",
              "      <td>1</td>\n",
              "      <td>A191</td>\n",
              "      <td>A201</td>\n",
              "      <td>0</td>\n",
              "      <td>1</td>\n",
              "    </tr>\n",
              "    <tr>\n",
              "      <th>2</th>\n",
              "      <td>100003</td>\n",
              "      <td>A14</td>\n",
              "      <td>12</td>\n",
              "      <td>A34</td>\n",
              "      <td>A46</td>\n",
              "      <td>2096</td>\n",
              "      <td>A61</td>\n",
              "      <td>A74</td>\n",
              "      <td>2</td>\n",
              "      <td>A93</td>\n",
              "      <td>A101</td>\n",
              "      <td>3</td>\n",
              "      <td>A121</td>\n",
              "      <td>49</td>\n",
              "      <td>A143</td>\n",
              "      <td>A152</td>\n",
              "      <td>1</td>\n",
              "      <td>A172</td>\n",
              "      <td>2</td>\n",
              "      <td>A191</td>\n",
              "      <td>A201</td>\n",
              "      <td>0</td>\n",
              "      <td>1</td>\n",
              "    </tr>\n",
              "    <tr>\n",
              "      <th>3</th>\n",
              "      <td>100004</td>\n",
              "      <td>A11</td>\n",
              "      <td>42</td>\n",
              "      <td>A32</td>\n",
              "      <td>A42</td>\n",
              "      <td>7882</td>\n",
              "      <td>A61</td>\n",
              "      <td>A74</td>\n",
              "      <td>2</td>\n",
              "      <td>A93</td>\n",
              "      <td>A103</td>\n",
              "      <td>4</td>\n",
              "      <td>A122</td>\n",
              "      <td>45</td>\n",
              "      <td>A143</td>\n",
              "      <td>A153</td>\n",
              "      <td>1</td>\n",
              "      <td>A173</td>\n",
              "      <td>2</td>\n",
              "      <td>A191</td>\n",
              "      <td>A201</td>\n",
              "      <td>0</td>\n",
              "      <td>1</td>\n",
              "    </tr>\n",
              "    <tr>\n",
              "      <th>4</th>\n",
              "      <td>100005</td>\n",
              "      <td>A11</td>\n",
              "      <td>24</td>\n",
              "      <td>A33</td>\n",
              "      <td>A40</td>\n",
              "      <td>4870</td>\n",
              "      <td>A61</td>\n",
              "      <td>A73</td>\n",
              "      <td>3</td>\n",
              "      <td>A93</td>\n",
              "      <td>A101</td>\n",
              "      <td>4</td>\n",
              "      <td>A124</td>\n",
              "      <td>53</td>\n",
              "      <td>A143</td>\n",
              "      <td>A153</td>\n",
              "      <td>2</td>\n",
              "      <td>A173</td>\n",
              "      <td>2</td>\n",
              "      <td>A191</td>\n",
              "      <td>A201</td>\n",
              "      <td>1</td>\n",
              "      <td>1</td>\n",
              "    </tr>\n",
              "  </tbody>\n",
              "</table>\n",
              "</div>"
            ],
            "text/plain": [
              "   Customer_ID Status_Checking_Acc  ...  Default_On_Payment Count\n",
              "0       100001                 A11  ...                   0     1\n",
              "1       100002                 A12  ...                   0     1\n",
              "2       100003                 A14  ...                   0     1\n",
              "3       100004                 A11  ...                   0     1\n",
              "4       100005                 A11  ...                   1     1\n",
              "\n",
              "[5 rows x 23 columns]"
            ]
          },
          "metadata": {
            "tags": []
          },
          "execution_count": 4
        }
      ]
    },
    {
      "cell_type": "markdown",
      "metadata": {
        "id": "0t-XhroDpPe4",
        "colab_type": "text"
      },
      "source": [
        "Let's check the shape"
      ]
    },
    {
      "cell_type": "code",
      "metadata": {
        "id": "a-WtSPhRpWr1",
        "colab_type": "code",
        "outputId": "2e1eeba5-4a78-4b1f-85df-25a67ede6032",
        "colab": {
          "base_uri": "https://localhost:8080/",
          "height": 34
        }
      },
      "source": [
        "loan_df.shape"
      ],
      "execution_count": 5,
      "outputs": [
        {
          "output_type": "execute_result",
          "data": {
            "text/plain": [
              "(5000, 23)"
            ]
          },
          "metadata": {
            "tags": []
          },
          "execution_count": 5
        }
      ]
    },
    {
      "cell_type": "markdown",
      "metadata": {
        "id": "NwSPvMJLphiQ",
        "colab_type": "text"
      },
      "source": [
        "Shape is 5000 rows and 23 columns. <br>Pay attention to the data, it has  a lot of alpha-numeric notations<br>The best bet is to open the data dictionary via this [link](https://www.kaggle.com/dataforyou/bankloan) to a browser so one can understand what each notation stands for.\n",
        "\n",
        ">>\n",
        "\n",
        "Let's check the info and dtypes"
      ]
    },
    {
      "cell_type": "code",
      "metadata": {
        "id": "RM0NWwkqqFPX",
        "colab_type": "code",
        "outputId": "59838aa5-827f-47e7-b667-f52f10681821",
        "colab": {
          "base_uri": "https://localhost:8080/",
          "height": 487
        }
      },
      "source": [
        "loan_df.info()"
      ],
      "execution_count": 6,
      "outputs": [
        {
          "output_type": "stream",
          "text": [
            "<class 'pandas.core.frame.DataFrame'>\n",
            "RangeIndex: 5000 entries, 0 to 4999\n",
            "Data columns (total 23 columns):\n",
            "Customer_ID                    5000 non-null int64\n",
            "Status_Checking_Acc            5000 non-null object\n",
            "Duration_in_Months             5000 non-null int64\n",
            "Credit_History                 5000 non-null object\n",
            "Purposre_Credit_Taken          5000 non-null object\n",
            "Credit_Amount                  5000 non-null int64\n",
            "Savings_Acc                    5000 non-null object\n",
            "Years_At_Present_Employment    5000 non-null object\n",
            "Inst_Rt_Income                 5000 non-null int64\n",
            "Marital_Status_Gender          5000 non-null object\n",
            "Other_Debtors_Guarantors       5000 non-null object\n",
            "Current_Address_Yrs            5000 non-null int64\n",
            "Property                       5000 non-null object\n",
            "Age                            5000 non-null int64\n",
            "Other_Inst_Plans               5000 non-null object\n",
            "Housing                        5000 non-null object\n",
            "Num_CC                         5000 non-null int64\n",
            "Job                            5000 non-null object\n",
            "Dependents                     5000 non-null int64\n",
            "Telephone                      5000 non-null object\n",
            "Foreign_Worker                 5000 non-null object\n",
            "Default_On_Payment             5000 non-null int64\n",
            "Count                          5000 non-null int64\n",
            "dtypes: int64(10), object(13)\n",
            "memory usage: 898.6+ KB\n"
          ],
          "name": "stdout"
        }
      ]
    },
    {
      "cell_type": "markdown",
      "metadata": {
        "id": "Uo_gigzLq7aM",
        "colab_type": "text"
      },
      "source": [
        "Let's check the stats for columns of object dtype and transpose it for readability"
      ]
    },
    {
      "cell_type": "code",
      "metadata": {
        "id": "ILF_NwsMqkz3",
        "colab_type": "code",
        "outputId": "796e1281-2e39-4dcf-bc96-c668cac2a35c",
        "colab": {
          "base_uri": "https://localhost:8080/",
          "height": 432
        }
      },
      "source": [
        "loan_df.describe(include=['object','category']).T"
      ],
      "execution_count": 7,
      "outputs": [
        {
          "output_type": "execute_result",
          "data": {
            "text/html": [
              "<div>\n",
              "<style scoped>\n",
              "    .dataframe tbody tr th:only-of-type {\n",
              "        vertical-align: middle;\n",
              "    }\n",
              "\n",
              "    .dataframe tbody tr th {\n",
              "        vertical-align: top;\n",
              "    }\n",
              "\n",
              "    .dataframe thead th {\n",
              "        text-align: right;\n",
              "    }\n",
              "</style>\n",
              "<table border=\"1\" class=\"dataframe\">\n",
              "  <thead>\n",
              "    <tr style=\"text-align: right;\">\n",
              "      <th></th>\n",
              "      <th>count</th>\n",
              "      <th>unique</th>\n",
              "      <th>top</th>\n",
              "      <th>freq</th>\n",
              "    </tr>\n",
              "  </thead>\n",
              "  <tbody>\n",
              "    <tr>\n",
              "      <th>Status_Checking_Acc</th>\n",
              "      <td>5000</td>\n",
              "      <td>4</td>\n",
              "      <td>A14</td>\n",
              "      <td>1970</td>\n",
              "    </tr>\n",
              "    <tr>\n",
              "      <th>Credit_History</th>\n",
              "      <td>5000</td>\n",
              "      <td>5</td>\n",
              "      <td>A32</td>\n",
              "      <td>2650</td>\n",
              "    </tr>\n",
              "    <tr>\n",
              "      <th>Purposre_Credit_Taken</th>\n",
              "      <td>5000</td>\n",
              "      <td>10</td>\n",
              "      <td>A43</td>\n",
              "      <td>1400</td>\n",
              "    </tr>\n",
              "    <tr>\n",
              "      <th>Savings_Acc</th>\n",
              "      <td>5000</td>\n",
              "      <td>5</td>\n",
              "      <td>A61</td>\n",
              "      <td>3015</td>\n",
              "    </tr>\n",
              "    <tr>\n",
              "      <th>Years_At_Present_Employment</th>\n",
              "      <td>5000</td>\n",
              "      <td>5</td>\n",
              "      <td>A73</td>\n",
              "      <td>1695</td>\n",
              "    </tr>\n",
              "    <tr>\n",
              "      <th>Marital_Status_Gender</th>\n",
              "      <td>5000</td>\n",
              "      <td>4</td>\n",
              "      <td>A93</td>\n",
              "      <td>2740</td>\n",
              "    </tr>\n",
              "    <tr>\n",
              "      <th>Other_Debtors_Guarantors</th>\n",
              "      <td>5000</td>\n",
              "      <td>3</td>\n",
              "      <td>A101</td>\n",
              "      <td>4535</td>\n",
              "    </tr>\n",
              "    <tr>\n",
              "      <th>Property</th>\n",
              "      <td>5000</td>\n",
              "      <td>4</td>\n",
              "      <td>A123</td>\n",
              "      <td>1660</td>\n",
              "    </tr>\n",
              "    <tr>\n",
              "      <th>Other_Inst_Plans</th>\n",
              "      <td>5000</td>\n",
              "      <td>3</td>\n",
              "      <td>A143</td>\n",
              "      <td>4070</td>\n",
              "    </tr>\n",
              "    <tr>\n",
              "      <th>Housing</th>\n",
              "      <td>5000</td>\n",
              "      <td>3</td>\n",
              "      <td>A152</td>\n",
              "      <td>3565</td>\n",
              "    </tr>\n",
              "    <tr>\n",
              "      <th>Job</th>\n",
              "      <td>5000</td>\n",
              "      <td>4</td>\n",
              "      <td>A173</td>\n",
              "      <td>3150</td>\n",
              "    </tr>\n",
              "    <tr>\n",
              "      <th>Telephone</th>\n",
              "      <td>5000</td>\n",
              "      <td>2</td>\n",
              "      <td>A191</td>\n",
              "      <td>2980</td>\n",
              "    </tr>\n",
              "    <tr>\n",
              "      <th>Foreign_Worker</th>\n",
              "      <td>5000</td>\n",
              "      <td>2</td>\n",
              "      <td>A201</td>\n",
              "      <td>4815</td>\n",
              "    </tr>\n",
              "  </tbody>\n",
              "</table>\n",
              "</div>"
            ],
            "text/plain": [
              "                            count unique   top  freq\n",
              "Status_Checking_Acc          5000      4   A14  1970\n",
              "Credit_History               5000      5   A32  2650\n",
              "Purposre_Credit_Taken        5000     10   A43  1400\n",
              "Savings_Acc                  5000      5   A61  3015\n",
              "Years_At_Present_Employment  5000      5   A73  1695\n",
              "Marital_Status_Gender        5000      4   A93  2740\n",
              "Other_Debtors_Guarantors     5000      3  A101  4535\n",
              "Property                     5000      4  A123  1660\n",
              "Other_Inst_Plans             5000      3  A143  4070\n",
              "Housing                      5000      3  A152  3565\n",
              "Job                          5000      4  A173  3150\n",
              "Telephone                    5000      2  A191  2980\n",
              "Foreign_Worker               5000      2  A201  4815"
            ]
          },
          "metadata": {
            "tags": []
          },
          "execution_count": 7
        }
      ]
    },
    {
      "cell_type": "markdown",
      "metadata": {
        "id": "-D8JlANlrJp1",
        "colab_type": "text"
      },
      "source": [
        "Now Let's check the stats for numeric  columns  and transpose it for readability"
      ]
    },
    {
      "cell_type": "code",
      "metadata": {
        "id": "i0heOSdFrOt4",
        "colab_type": "code",
        "outputId": "5572ec23-5779-4a27-e796-de1a8fd37840",
        "colab": {
          "base_uri": "https://localhost:8080/",
          "height": 343
        }
      },
      "source": [
        "loan_df.describe().T"
      ],
      "execution_count": 8,
      "outputs": [
        {
          "output_type": "execute_result",
          "data": {
            "text/html": [
              "<div>\n",
              "<style scoped>\n",
              "    .dataframe tbody tr th:only-of-type {\n",
              "        vertical-align: middle;\n",
              "    }\n",
              "\n",
              "    .dataframe tbody tr th {\n",
              "        vertical-align: top;\n",
              "    }\n",
              "\n",
              "    .dataframe thead th {\n",
              "        text-align: right;\n",
              "    }\n",
              "</style>\n",
              "<table border=\"1\" class=\"dataframe\">\n",
              "  <thead>\n",
              "    <tr style=\"text-align: right;\">\n",
              "      <th></th>\n",
              "      <th>count</th>\n",
              "      <th>mean</th>\n",
              "      <th>std</th>\n",
              "      <th>min</th>\n",
              "      <th>25%</th>\n",
              "      <th>50%</th>\n",
              "      <th>75%</th>\n",
              "      <th>max</th>\n",
              "    </tr>\n",
              "  </thead>\n",
              "  <tbody>\n",
              "    <tr>\n",
              "      <th>Customer_ID</th>\n",
              "      <td>5000.0</td>\n",
              "      <td>102500.500</td>\n",
              "      <td>1443.520003</td>\n",
              "      <td>100001.0</td>\n",
              "      <td>101250.75</td>\n",
              "      <td>102500.5</td>\n",
              "      <td>103750.25</td>\n",
              "      <td>105000.0</td>\n",
              "    </tr>\n",
              "    <tr>\n",
              "      <th>Duration_in_Months</th>\n",
              "      <td>5000.0</td>\n",
              "      <td>20.903</td>\n",
              "      <td>12.053989</td>\n",
              "      <td>4.0</td>\n",
              "      <td>12.00</td>\n",
              "      <td>18.0</td>\n",
              "      <td>24.00</td>\n",
              "      <td>72.0</td>\n",
              "    </tr>\n",
              "    <tr>\n",
              "      <th>Credit_Amount</th>\n",
              "      <td>5000.0</td>\n",
              "      <td>3271.258</td>\n",
              "      <td>2821.607329</td>\n",
              "      <td>250.0</td>\n",
              "      <td>1365.50</td>\n",
              "      <td>2319.5</td>\n",
              "      <td>3972.25</td>\n",
              "      <td>18424.0</td>\n",
              "    </tr>\n",
              "    <tr>\n",
              "      <th>Inst_Rt_Income</th>\n",
              "      <td>5000.0</td>\n",
              "      <td>2.973</td>\n",
              "      <td>1.118267</td>\n",
              "      <td>1.0</td>\n",
              "      <td>2.00</td>\n",
              "      <td>3.0</td>\n",
              "      <td>4.00</td>\n",
              "      <td>4.0</td>\n",
              "    </tr>\n",
              "    <tr>\n",
              "      <th>Current_Address_Yrs</th>\n",
              "      <td>5000.0</td>\n",
              "      <td>2.845</td>\n",
              "      <td>1.103276</td>\n",
              "      <td>1.0</td>\n",
              "      <td>2.00</td>\n",
              "      <td>3.0</td>\n",
              "      <td>4.00</td>\n",
              "      <td>4.0</td>\n",
              "    </tr>\n",
              "    <tr>\n",
              "      <th>Age</th>\n",
              "      <td>5000.0</td>\n",
              "      <td>35.546</td>\n",
              "      <td>11.370917</td>\n",
              "      <td>19.0</td>\n",
              "      <td>27.00</td>\n",
              "      <td>33.0</td>\n",
              "      <td>42.00</td>\n",
              "      <td>75.0</td>\n",
              "    </tr>\n",
              "    <tr>\n",
              "      <th>Num_CC</th>\n",
              "      <td>5000.0</td>\n",
              "      <td>1.407</td>\n",
              "      <td>0.577423</td>\n",
              "      <td>1.0</td>\n",
              "      <td>1.00</td>\n",
              "      <td>1.0</td>\n",
              "      <td>2.00</td>\n",
              "      <td>4.0</td>\n",
              "    </tr>\n",
              "    <tr>\n",
              "      <th>Dependents</th>\n",
              "      <td>5000.0</td>\n",
              "      <td>1.155</td>\n",
              "      <td>0.361941</td>\n",
              "      <td>1.0</td>\n",
              "      <td>1.00</td>\n",
              "      <td>1.0</td>\n",
              "      <td>1.00</td>\n",
              "      <td>2.0</td>\n",
              "    </tr>\n",
              "    <tr>\n",
              "      <th>Default_On_Payment</th>\n",
              "      <td>5000.0</td>\n",
              "      <td>0.299</td>\n",
              "      <td>0.457866</td>\n",
              "      <td>0.0</td>\n",
              "      <td>0.00</td>\n",
              "      <td>0.0</td>\n",
              "      <td>1.00</td>\n",
              "      <td>1.0</td>\n",
              "    </tr>\n",
              "    <tr>\n",
              "      <th>Count</th>\n",
              "      <td>5000.0</td>\n",
              "      <td>1.000</td>\n",
              "      <td>0.000000</td>\n",
              "      <td>1.0</td>\n",
              "      <td>1.00</td>\n",
              "      <td>1.0</td>\n",
              "      <td>1.00</td>\n",
              "      <td>1.0</td>\n",
              "    </tr>\n",
              "  </tbody>\n",
              "</table>\n",
              "</div>"
            ],
            "text/plain": [
              "                      count        mean  ...        75%       max\n",
              "Customer_ID          5000.0  102500.500  ...  103750.25  105000.0\n",
              "Duration_in_Months   5000.0      20.903  ...      24.00      72.0\n",
              "Credit_Amount        5000.0    3271.258  ...    3972.25   18424.0\n",
              "Inst_Rt_Income       5000.0       2.973  ...       4.00       4.0\n",
              "Current_Address_Yrs  5000.0       2.845  ...       4.00       4.0\n",
              "Age                  5000.0      35.546  ...      42.00      75.0\n",
              "Num_CC               5000.0       1.407  ...       2.00       4.0\n",
              "Dependents           5000.0       1.155  ...       1.00       2.0\n",
              "Default_On_Payment   5000.0       0.299  ...       1.00       1.0\n",
              "Count                5000.0       1.000  ...       1.00       1.0\n",
              "\n",
              "[10 rows x 8 columns]"
            ]
          },
          "metadata": {
            "tags": []
          },
          "execution_count": 8
        }
      ]
    },
    {
      "cell_type": "markdown",
      "metadata": {
        "id": "aMufdpyJsXKp",
        "colab_type": "text"
      },
      "source": [
        "No missing values atall  as both numeric and object dtype columns have complete 5000 records, but let's just confirm.<br>\n",
        "\n",
        "I also notice the count column seems to have only 1's in it and no reason why, let's consult the Data Dictionary to find out what it means  and deal with it as we pre-process the Data "
      ]
    },
    {
      "cell_type": "code",
      "metadata": {
        "id": "9bCA-zSqsgle",
        "colab_type": "code",
        "outputId": "7229542a-7d39-4359-f8af-fde7449afe21",
        "colab": {
          "base_uri": "https://localhost:8080/",
          "height": 34
        }
      },
      "source": [
        "loan_df.isna().any().all()  # checking if any missing values and checking if any true value in the response"
      ],
      "execution_count": 18,
      "outputs": [
        {
          "output_type": "execute_result",
          "data": {
            "text/plain": [
              "False"
            ]
          },
          "metadata": {
            "tags": []
          },
          "execution_count": 18
        }
      ]
    },
    {
      "cell_type": "markdown",
      "metadata": {
        "id": "Tr5dvEnxtULz",
        "colab_type": "text"
      },
      "source": [
        "For a data set of 5000 rows and 23 columns, we may need to reduce it's memory consumption as we know pandas stores all floats as float64 and all int as int64 let's reduce some columns to int8 or int16, especially columns with single or double digit entries like Age"
      ]
    },
    {
      "cell_type": "code",
      "metadata": {
        "id": "-_YmerVpuHz7",
        "colab_type": "code",
        "outputId": "69af030f-9f51-4dcd-9aaa-817a90acc33e",
        "colab": {
          "base_uri": "https://localhost:8080/",
          "height": 420
        }
      },
      "source": [
        "loan_df.dtypes"
      ],
      "execution_count": 10,
      "outputs": [
        {
          "output_type": "execute_result",
          "data": {
            "text/plain": [
              "Customer_ID                     int64\n",
              "Status_Checking_Acc            object\n",
              "Duration_in_Months              int64\n",
              "Credit_History                 object\n",
              "Purposre_Credit_Taken          object\n",
              "Credit_Amount                   int64\n",
              "Savings_Acc                    object\n",
              "Years_At_Present_Employment    object\n",
              "Inst_Rt_Income                  int64\n",
              "Marital_Status_Gender          object\n",
              "Other_Debtors_Guarantors       object\n",
              "Current_Address_Yrs             int64\n",
              "Property                       object\n",
              "Age                             int64\n",
              "Other_Inst_Plans               object\n",
              "Housing                        object\n",
              "Num_CC                          int64\n",
              "Job                            object\n",
              "Dependents                      int64\n",
              "Telephone                      object\n",
              "Foreign_Worker                 object\n",
              "Default_On_Payment              int64\n",
              "Count                           int64\n",
              "dtype: object"
            ]
          },
          "metadata": {
            "tags": []
          },
          "execution_count": 10
        }
      ]
    },
    {
      "cell_type": "code",
      "metadata": {
        "id": "GOxq3gHzt5l4",
        "colab_type": "code",
        "outputId": "f25da025-f139-49c0-b221-0dccd5879325",
        "colab": {
          "base_uri": "https://localhost:8080/",
          "height": 454
        }
      },
      "source": [
        "current_memory = loan_df.memory_usage().sum()\n",
        "print('Current memory is-', current_memory,'Bytes.')\n",
        "\n",
        "loan_df.memory_usage()"
      ],
      "execution_count": 11,
      "outputs": [
        {
          "output_type": "stream",
          "text": [
            "Current memory is- 920128 Bytes.\n"
          ],
          "name": "stdout"
        },
        {
          "output_type": "execute_result",
          "data": {
            "text/plain": [
              "Index                            128\n",
              "Customer_ID                    40000\n",
              "Status_Checking_Acc            40000\n",
              "Duration_in_Months             40000\n",
              "Credit_History                 40000\n",
              "Purposre_Credit_Taken          40000\n",
              "Credit_Amount                  40000\n",
              "Savings_Acc                    40000\n",
              "Years_At_Present_Employment    40000\n",
              "Inst_Rt_Income                 40000\n",
              "Marital_Status_Gender          40000\n",
              "Other_Debtors_Guarantors       40000\n",
              "Current_Address_Yrs            40000\n",
              "Property                       40000\n",
              "Age                            40000\n",
              "Other_Inst_Plans               40000\n",
              "Housing                        40000\n",
              "Num_CC                         40000\n",
              "Job                            40000\n",
              "Dependents                     40000\n",
              "Telephone                      40000\n",
              "Foreign_Worker                 40000\n",
              "Default_On_Payment             40000\n",
              "Count                          40000\n",
              "dtype: int64"
            ]
          },
          "metadata": {
            "tags": []
          },
          "execution_count": 11
        }
      ]
    },
    {
      "cell_type": "code",
      "metadata": {
        "id": "eBrWdiHWvWdm",
        "colab_type": "code",
        "outputId": "4cbf3432-b4a5-4a6f-d0a6-4d338868d5c3",
        "colab": {
          "base_uri": "https://localhost:8080/",
          "height": 454
        }
      },
      "source": [
        "# let's change all these columns with a max of 2 digits to int8 to save memory\n",
        "\n",
        "loan_df[['Duration_in_Months','Inst_Rt_Income','Current_Address_Yrs','Age','Num_CC','Dependents','Default_On_Payment','Count']] = \\\n",
        "loan_df[['Duration_in_Months','Inst_Rt_Income','Current_Address_Yrs','Age','Num_CC','Dependents','Default_On_Payment','Count']].astype('int8')\n",
        "\n",
        "# Let's change Credit_Amount to 1nt16 and Customer_ID to int32 to save memory\n",
        "\n",
        "loan_df['Customer_ID'] = loan_df['Customer_ID'].astype('int32')\n",
        "loan_df['Credit_Amount'] = loan_df['Credit_Amount'].astype('int16')\n",
        "new_memory = loan_df.memory_usage().sum()\n",
        "print('New memory is-', new_memory,'Bytes.')\n",
        "\n",
        "loan_df.memory_usage()"
      ],
      "execution_count": 19,
      "outputs": [
        {
          "output_type": "stream",
          "text": [
            "New memory is- 590128 Bytes.\n"
          ],
          "name": "stdout"
        },
        {
          "output_type": "execute_result",
          "data": {
            "text/plain": [
              "Index                            128\n",
              "Customer_ID                    20000\n",
              "Status_Checking_Acc            40000\n",
              "Duration_in_Months              5000\n",
              "Credit_History                 40000\n",
              "Purposre_Credit_Taken          40000\n",
              "Credit_Amount                  10000\n",
              "Savings_Acc                    40000\n",
              "Years_At_Present_Employment    40000\n",
              "Inst_Rt_Income                  5000\n",
              "Marital_Status_Gender          40000\n",
              "Other_Debtors_Guarantors       40000\n",
              "Current_Address_Yrs             5000\n",
              "Property                       40000\n",
              "Age                             5000\n",
              "Other_Inst_Plans               40000\n",
              "Housing                        40000\n",
              "Num_CC                          5000\n",
              "Job                            40000\n",
              "Dependents                      5000\n",
              "Telephone                      40000\n",
              "Foreign_Worker                 40000\n",
              "Default_On_Payment              5000\n",
              "Count                           5000\n",
              "dtype: int64"
            ]
          },
          "metadata": {
            "tags": []
          },
          "execution_count": 19
        }
      ]
    },
    {
      "cell_type": "markdown",
      "metadata": {
        "id": "iZfrkGqv0I4x",
        "colab_type": "text"
      },
      "source": [
        "Let's see how much memory we have saved"
      ]
    },
    {
      "cell_type": "code",
      "metadata": {
        "id": "ywON8i4uy6dR",
        "colab_type": "code",
        "outputId": "38f57f5e-048b-42ba-c7fa-3a72eb42bad3",
        "colab": {
          "base_uri": "https://localhost:8080/",
          "height": 34
        }
      },
      "source": [
        "current_memory - new_memory  # We've saved 330,000 Bytes just now."
      ],
      "execution_count": 20,
      "outputs": [
        {
          "output_type": "execute_result",
          "data": {
            "text/plain": [
              "330000"
            ]
          },
          "metadata": {
            "tags": []
          },
          "execution_count": 20
        }
      ]
    },
    {
      "cell_type": "markdown",
      "metadata": {
        "id": "I0ndbPIB0qwi",
        "colab_type": "text"
      },
      "source": [
        "Next we need to organise the Data into a more logical sequence before we start any computation.<br>\n",
        "This means we arrange columns of similar meta-data together starting with categorical, then continuous columns.<br>\n",
        "Except in case where it is more sensible to put a continuous variable before a categorical one."
      ]
    },
    {
      "cell_type": "code",
      "metadata": {
        "id": "4K8tc2RV1RE7",
        "colab_type": "code",
        "outputId": "ad855abf-e8a5-450e-e3d9-318261fde2e2",
        "colab": {
          "base_uri": "https://localhost:8080/",
          "height": 151
        }
      },
      "source": [
        "# Let's see the total columns in the data set\n",
        "\n",
        "loan_df.columns"
      ],
      "execution_count": 21,
      "outputs": [
        {
          "output_type": "execute_result",
          "data": {
            "text/plain": [
              "Index(['Customer_ID', 'Status_Checking_Acc', 'Duration_in_Months',\n",
              "       'Credit_History', 'Purposre_Credit_Taken', 'Credit_Amount',\n",
              "       'Savings_Acc', 'Years_At_Present_Employment', 'Inst_Rt_Income',\n",
              "       'Marital_Status_Gender', 'Other_Debtors_Guarantors',\n",
              "       'Current_Address_Yrs', 'Property', 'Age', 'Other_Inst_Plans ',\n",
              "       'Housing', 'Num_CC', 'Job', 'Dependents', 'Telephone', 'Foreign_Worker',\n",
              "       'Default_On_Payment', 'Count'],\n",
              "      dtype='object')"
            ]
          },
          "metadata": {
            "tags": []
          },
          "execution_count": 21
        }
      ]
    },
    {
      "cell_type": "markdown",
      "metadata": {
        "id": "6QXkfOA61tNQ",
        "colab_type": "text"
      },
      "source": [
        "Next, let's try to group them into subgroups using python lists. \n",
        "<br>\n",
        "For exanmple we can have a list for bio-data, one for financial date and so on"
      ]
    },
    {
      "cell_type": "code",
      "metadata": {
        "id": "LEf7hgrI1o5J",
        "colab_type": "code",
        "colab": {}
      },
      "source": [
        "customer_data = ['Customer_ID', 'Marital_Status_Gender', 'Age', 'Dependents', 'Housing','Telephone', 'Property','Current_Address_Yrs']\n",
        "\n",
        "job_and_personal_finance = ['Job', 'Foreign_Worker', 'Years_At_Present_Employment', 'Savings_Acc','Status_Checking_Acc', 'Credit_History']\n",
        "\n",
        "loan_credit_data = ['Credit_Amount', 'Purposre_Credit_Taken', 'Duration_in_Months','Inst_Rt_Income','Other_Debtors_Guarantors','Other_Inst_Plans ','Num_CC','Default_On_Payment', \"Count\"]"
      ],
      "execution_count": 0,
      "outputs": []
    },
    {
      "cell_type": "markdown",
      "metadata": {
        "id": "rAyfKQVX9bwN",
        "colab_type": "text"
      },
      "source": [
        "The above process is highly manual and subject to errors let's confirm we made no errors before assigning the order"
      ]
    },
    {
      "cell_type": "code",
      "metadata": {
        "id": "QNzePw-j9pgk",
        "colab_type": "code",
        "colab": {}
      },
      "source": [
        "# lets concatenate the lists\n",
        "\n",
        "new_columns = customer_data + job_and_personal_finance + loan_credit_data"
      ],
      "execution_count": 0,
      "outputs": []
    },
    {
      "cell_type": "markdown",
      "metadata": {
        "id": "n_zpaPeACcEP",
        "colab_type": "text"
      },
      "source": [
        "Next let's strip off white-spaces either at the beginning or end of all column names, incase we mistakenly left it during the manual process"
      ]
    },
    {
      "cell_type": "code",
      "metadata": {
        "id": "6xkTbWaB2cZg",
        "colab_type": "code",
        "outputId": "af27ff58-498e-47e5-85f6-0f7ba679a210",
        "colab": {
          "base_uri": "https://localhost:8080/",
          "height": 34
        }
      },
      "source": [
        "stripped_columns = [str.strip(x, ' ') for x in new_columns if x[0] or x[-1] == ' '] \n",
        "stripped_columns[:5]"
      ],
      "execution_count": 66,
      "outputs": [
        {
          "output_type": "execute_result",
          "data": {
            "text/plain": [
              "['Customer_ID', 'Marital_Status_Gender', 'Age', 'Dependents', 'Housing']"
            ]
          },
          "metadata": {
            "tags": []
          },
          "execution_count": 66
        }
      ]
    },
    {
      "cell_type": "markdown",
      "metadata": {
        "id": "jnNCGvHKYkZl",
        "colab_type": "text"
      },
      "source": [
        "Now let's confirm that all column names in our stripped_column is not different from the default loan_df columns"
      ]
    },
    {
      "cell_type": "code",
      "metadata": {
        "id": "qRHiLbC82b3_",
        "colab_type": "code",
        "colab": {
          "base_uri": "https://localhost:8080/",
          "height": 34
        },
        "outputId": "313ba910-de15-4580-b517-049433f4925c"
      },
      "source": [
        "set(loan_df.columns).difference(set(stripped_columns))"
      ],
      "execution_count": 67,
      "outputs": [
        {
          "output_type": "execute_result",
          "data": {
            "text/plain": [
              "set()"
            ]
          },
          "metadata": {
            "tags": []
          },
          "execution_count": 67
        }
      ]
    },
    {
      "cell_type": "markdown",
      "metadata": {
        "id": "Zw96ePb4Y5Jb",
        "colab_type": "text"
      },
      "source": [
        "The empty set above indicates no difference. Now we can go ahead and assign the new ordered and stripped off columns to loan_df"
      ]
    },
    {
      "cell_type": "code",
      "metadata": {
        "id": "JF_HeZqK5gyl",
        "colab_type": "code",
        "outputId": "7817dc30-b0a5-42e1-ecff-a90130a5bc26",
        "colab": {
          "base_uri": "https://localhost:8080/",
          "height": 156
        }
      },
      "source": [
        "loan_df = loan_df[stripped_columns]\n",
        "\n",
        "# let's see the first few rows\n",
        "loan_df.head(3)"
      ],
      "execution_count": 69,
      "outputs": [
        {
          "output_type": "execute_result",
          "data": {
            "text/html": [
              "<div>\n",
              "<style scoped>\n",
              "    .dataframe tbody tr th:only-of-type {\n",
              "        vertical-align: middle;\n",
              "    }\n",
              "\n",
              "    .dataframe tbody tr th {\n",
              "        vertical-align: top;\n",
              "    }\n",
              "\n",
              "    .dataframe thead th {\n",
              "        text-align: right;\n",
              "    }\n",
              "</style>\n",
              "<table border=\"1\" class=\"dataframe\">\n",
              "  <thead>\n",
              "    <tr style=\"text-align: right;\">\n",
              "      <th></th>\n",
              "      <th>Customer_ID</th>\n",
              "      <th>Marital_Status_Gender</th>\n",
              "      <th>Age</th>\n",
              "      <th>Dependents</th>\n",
              "      <th>Housing</th>\n",
              "      <th>Telephone</th>\n",
              "      <th>Property</th>\n",
              "      <th>Current_Address_Yrs</th>\n",
              "      <th>Job</th>\n",
              "      <th>Foreign_Worker</th>\n",
              "      <th>Years_At_Present_Employment</th>\n",
              "      <th>Savings_Acc</th>\n",
              "      <th>Status_Checking_Acc</th>\n",
              "      <th>Credit_History</th>\n",
              "      <th>Credit_Amount</th>\n",
              "      <th>Purposre_Credit_Taken</th>\n",
              "      <th>Duration_in_Months</th>\n",
              "      <th>Inst_Rt_Income</th>\n",
              "      <th>Other_Debtors_Guarantors</th>\n",
              "      <th>Other_Inst_Plans</th>\n",
              "      <th>Num_CC</th>\n",
              "      <th>Default_On_Payment</th>\n",
              "      <th>Count</th>\n",
              "    </tr>\n",
              "  </thead>\n",
              "  <tbody>\n",
              "    <tr>\n",
              "      <th>0</th>\n",
              "      <td>100001</td>\n",
              "      <td>A93</td>\n",
              "      <td>67</td>\n",
              "      <td>1</td>\n",
              "      <td>A152</td>\n",
              "      <td>A192</td>\n",
              "      <td>A121</td>\n",
              "      <td>4</td>\n",
              "      <td>A173</td>\n",
              "      <td>A201</td>\n",
              "      <td>A75</td>\n",
              "      <td>A65</td>\n",
              "      <td>A11</td>\n",
              "      <td>A34</td>\n",
              "      <td>1169</td>\n",
              "      <td>A43</td>\n",
              "      <td>6</td>\n",
              "      <td>4</td>\n",
              "      <td>A101</td>\n",
              "      <td>A143</td>\n",
              "      <td>2</td>\n",
              "      <td>0</td>\n",
              "      <td>1</td>\n",
              "    </tr>\n",
              "    <tr>\n",
              "      <th>1</th>\n",
              "      <td>100002</td>\n",
              "      <td>A92</td>\n",
              "      <td>22</td>\n",
              "      <td>1</td>\n",
              "      <td>A152</td>\n",
              "      <td>A191</td>\n",
              "      <td>A121</td>\n",
              "      <td>2</td>\n",
              "      <td>A173</td>\n",
              "      <td>A201</td>\n",
              "      <td>A73</td>\n",
              "      <td>A61</td>\n",
              "      <td>A12</td>\n",
              "      <td>A32</td>\n",
              "      <td>5951</td>\n",
              "      <td>A43</td>\n",
              "      <td>48</td>\n",
              "      <td>2</td>\n",
              "      <td>A101</td>\n",
              "      <td>A143</td>\n",
              "      <td>1</td>\n",
              "      <td>0</td>\n",
              "      <td>1</td>\n",
              "    </tr>\n",
              "    <tr>\n",
              "      <th>2</th>\n",
              "      <td>100003</td>\n",
              "      <td>A93</td>\n",
              "      <td>49</td>\n",
              "      <td>2</td>\n",
              "      <td>A152</td>\n",
              "      <td>A191</td>\n",
              "      <td>A121</td>\n",
              "      <td>3</td>\n",
              "      <td>A172</td>\n",
              "      <td>A201</td>\n",
              "      <td>A74</td>\n",
              "      <td>A61</td>\n",
              "      <td>A14</td>\n",
              "      <td>A34</td>\n",
              "      <td>2096</td>\n",
              "      <td>A46</td>\n",
              "      <td>12</td>\n",
              "      <td>2</td>\n",
              "      <td>A101</td>\n",
              "      <td>A143</td>\n",
              "      <td>1</td>\n",
              "      <td>0</td>\n",
              "      <td>1</td>\n",
              "    </tr>\n",
              "  </tbody>\n",
              "</table>\n",
              "</div>"
            ],
            "text/plain": [
              "   Customer_ID Marital_Status_Gender  Age  ...  Num_CC Default_On_Payment Count\n",
              "0       100001                   A93   67  ...       2                  0     1\n",
              "1       100002                   A92   22  ...       1                  0     1\n",
              "2       100003                   A93   49  ...       1                  0     1\n",
              "\n",
              "[3 rows x 23 columns]"
            ]
          },
          "metadata": {
            "tags": []
          },
          "execution_count": 69
        }
      ]
    },
    {
      "cell_type": "markdown",
      "metadata": {
        "id": "x-4XSnHb_S9G",
        "colab_type": "text"
      },
      "source": [
        "This is beautiful our loan_df columns are ordered in a logical fashion, let's start feature binarization and pre-processing"
      ]
    },
    {
      "cell_type": "markdown",
      "metadata": {
        "id": "ClelReV5e_Au",
        "colab_type": "text"
      },
      "source": [
        "### First Let's **visualize** The relationships between the categorical variables and Default on payments column (our target variable)"
      ]
    },
    {
      "cell_type": "code",
      "metadata": {
        "id": "VMxyXWX5Ekam",
        "colab_type": "code",
        "outputId": "612da996-cb37-48c9-b91c-ff632fb478a7",
        "colab": {
          "base_uri": "https://localhost:8080/",
          "height": 1000
        }
      },
      "source": [
        "import matplotlib.gridspec as gridspec\n",
        "\n",
        "fig = plt.figure(constrained_layout=True, figsize=(20,18))\n",
        "sns.set_style('ticks')\n",
        "\n",
        "specs = gridspec.GridSpec(ncols=3, nrows=5, figure=fig)\n",
        "ax1 = fig.add_subplot(specs[0, 0])\n",
        "ax2 = fig.add_subplot(specs[0, 1])\n",
        "ax3 = fig.add_subplot(specs[0, 2])\n",
        "ax4 = fig.add_subplot(specs[1, 0])\n",
        "ax5 = fig.add_subplot(specs[1, 1])\n",
        "ax6 = fig.add_subplot(specs[1, 2])\n",
        "ax7 = fig.add_subplot(specs[2, 0])\n",
        "ax8 = fig.add_subplot(specs[2, 1])\n",
        "ax9 = fig.add_subplot(specs[2, 2])\n",
        "ax10 = fig.add_subplot(specs[3, 0])\n",
        "ax11 = fig.add_subplot(specs[3, 1])\n",
        "ax12 = fig.add_subplot(specs[3, 2])\n",
        "ax13 = fig.add_subplot(specs[4, 0])\n",
        "# ax14 = fig.add_subplot(specs[4, 1])\n",
        "# ax15 = fig.add_subplot(specs[4, 2])\n",
        "\n",
        "plt.suptitle('Percentage of Defaulters Per Categorical Variable', fontsize=18, y=1.05)\n",
        "\n",
        "\n",
        "ax1 = sns.violinplot('Marital_Status_Gender', 'Default_On_Payment', data=loan_df, order=['A91','A92','A93','A94'], ax=ax1)\n",
        "ax1.set_title('Marital-Status-Gender % of Defaulters')\n",
        "yposlist = loan_df.groupby(['Marital_Status_Gender'])['Default_On_Payment'].value_counts(normalize=True).tolist()\n",
        "yposlist = [round(i,2) for i in yposlist[1::2]]\n",
        "xposlist = range(len(yposlist))\n",
        "for i in range(len(yposlist)):\n",
        "    ax1.text(xposlist[i], yposlist[i], str(round(yposlist[i], 2)), fontsize=14)\n",
        "\n",
        "\n",
        "ax2 = sns.violinplot('Housing', 'Default_On_Payment', data=loan_df, order=['A151','A152','A153'], ax=ax2)\n",
        "ax2.set_title('Housing-Conditions % of Defaulters')\n",
        "yposlist = loan_df.groupby(['Housing'])['Default_On_Payment'].value_counts(normalize=True).tolist()\n",
        "yposlist = [round(i,2) for i in yposlist[1::2]]\n",
        "xposlist = range(len(yposlist))\n",
        "for i in range(len(yposlist)):\n",
        "    ax2.text(xposlist[i], yposlist[i], str(round(yposlist[i], 2)), fontsize=14)\n",
        "\n",
        "\n",
        "ax3 = sns.violinplot('Telephone', 'Default_On_Payment', data=loan_df,order=['A191','A192'], ax=ax3)\n",
        "ax3.set_title('Registered-Telephone % of Defaulters')\n",
        "yposlist = loan_df.groupby(['Telephone'])['Default_On_Payment'].value_counts(normalize=True).tolist()\n",
        "yposlist = [round(i,2) for i in yposlist[1::2]]\n",
        "xposlist = range(len(yposlist))\n",
        "for i in range(len(yposlist)):\n",
        "    ax3.text(xposlist[i], yposlist[i], str(round(yposlist[i], 2)), fontsize=14)\n",
        "\n",
        "\n",
        "ax4 = sns.violinplot('Property', 'Default_On_Payment', data=loan_df,order=['A121','A122','A123','A124'], ax=ax4)\n",
        "ax4.set_title('Property-Type % of Defaulters')\n",
        "yposlist = loan_df.groupby(['Property'])['Default_On_Payment'].value_counts(normalize=True).tolist()\n",
        "yposlist = [round(i,2) for i in yposlist[1::2]]\n",
        "xposlist = range(len(yposlist))\n",
        "for i in range(len(yposlist)):\n",
        "    ax4.text(xposlist[i], yposlist[i], str(round(yposlist[i], 2)), fontsize=14)\n",
        "\n",
        "\n",
        "ax5 = sns.violinplot('Job', 'Default_On_Payment', data=loan_df, order=['A171','A172','A173','A174'], ax=ax5)\n",
        "ax5.set_title('Job-Status % of Defaulters')\n",
        "yposlist = loan_df.groupby(['Job'])['Default_On_Payment'].value_counts(normalize=True).tolist()\n",
        "yposlist = [round(i,2) for i in yposlist[1::2]]\n",
        "xposlist = range(len(yposlist))\n",
        "for i in range(len(yposlist)):\n",
        "    ax5.text(xposlist[i], yposlist[i], str(round(yposlist[i], 2)), fontsize=14)\n",
        "\n",
        "\n",
        "ax6 = sns.violinplot('Foreign_Worker', 'Default_On_Payment', data=loan_df, ax=ax6)\n",
        "ax6.set_title('Foreign-Worker-Status % of Defaulterst')\n",
        "yposlist = loan_df.groupby(['Foreign_Worker'])['Default_On_Payment'].value_counts(normalize=True).tolist()\n",
        "yposlist = [round(i,2) for i in yposlist[1::2]]\n",
        "xposlist = range(len(yposlist))\n",
        "for i in range(len(yposlist)):\n",
        "    ax6.text(xposlist[i], yposlist[i], str(round(yposlist[i], 2)), fontsize=14)\n",
        "\n",
        "\n",
        "ax7 = sns.violinplot('Years_At_Present_Employment', 'Default_On_Payment', order=['A71','A72','A73','A74','A75'], data=loan_df, ax=ax7)\n",
        "ax7.set_title('Years@Present-Employment % of Defaulters')\n",
        "yposlist = loan_df.groupby(['Years_At_Present_Employment'])['Default_On_Payment'].value_counts(normalize=True).tolist()\n",
        "yposlist = [round(i,2) for i in yposlist[1::2]]\n",
        "xposlist = range(len(yposlist))\n",
        "for i in range(len(yposlist)):\n",
        "    ax7.text(xposlist[i], yposlist[i], str(round(yposlist[i], 2)), fontsize=14)\n",
        "\n",
        "\n",
        "ax8 = sns.violinplot('Savings_Acc', 'Default_On_Payment', data=loan_df, order=['A61','A62','A63','A64','A65'], ax=ax8)\n",
        "ax8.set_title('Savings-Acc-Condition % of Defaulters')\n",
        "yposlist = loan_df.groupby(['Savings_Acc'])['Default_On_Payment'].value_counts(normalize=True).tolist()\n",
        "yposlist = [round(i,2) for i in yposlist[1::2]]\n",
        "xposlist = range(len(yposlist))\n",
        "for i in range(len(yposlist)):\n",
        "    ax8.text(xposlist[i], yposlist[i], str(round(yposlist[i], 2)), fontsize=14)\n",
        "\n",
        "\n",
        "ax9 = sns.violinplot('Status_Checking_Acc', 'Default_On_Payment', data=loan_df,order=['A11','A12','A13','A14'], ax=ax9)\n",
        "ax9.set_title('Status-Checking-Acc % of Defaulters')\n",
        "yposlist = loan_df.groupby(['Status_Checking_Acc'])['Default_On_Payment'].value_counts(normalize=True).tolist()\n",
        "yposlist = [round(i,2) for i in yposlist[1::2]]\n",
        "xposlist = range(len(yposlist))\n",
        "for i in range(len(yposlist)):\n",
        "    ax9.text(xposlist[i], yposlist[i], str(round(yposlist[i], 2)), fontsize=14)\n",
        "\n",
        "\n",
        "ax10 = sns.violinplot('Credit_History', 'Default_On_Payment', data=loan_df, order=['A30','A31','A32','A33','A34'], ax=ax10)\n",
        "ax10.set_title('Credit-History % of Defaulters')\n",
        "yposlist = loan_df.groupby(['Credit_History'])['Default_On_Payment'].value_counts(normalize=True).tolist()\n",
        "yposlist = [round(i,2) for i in yposlist[1::2]]\n",
        "xposlist = range(len(yposlist))\n",
        "for i in range(len(yposlist)):\n",
        "    ax10.text(xposlist[i], yposlist[i], str(round(yposlist[i], 2)), fontsize=14)\n",
        "\n",
        "\n",
        "ax11 = sns.violinplot('Other_Inst_Plans', 'Default_On_Payment', data=loan_df,order=['A141','A142','A143'], ax=ax11)\n",
        "ax11.set_title('Other-Inst-Plans % of Defaulters')\n",
        "yposlist = loan_df.groupby(['Other_Inst_Plans'])['Default_On_Payment'].value_counts(normalize=True).tolist()\n",
        "yposlist = [round(i,2) for i in yposlist[1::2]]\n",
        "xposlist = range(len(yposlist))\n",
        "for i in range(len(yposlist)):\n",
        "    ax11.text(xposlist[i], yposlist[i], str(round(yposlist[i], 2)), fontsize=14)\n",
        "\n",
        "\n",
        "ax12 = sns.violinplot('Other_Debtors_Guarantors', 'Default_On_Payment', data=loan_df, order=['A101','A102','A103'], ax=ax12)\n",
        "ax12.set_title('Other-Debtors-Guarantors % of Defaulters')\n",
        "yposlist = loan_df.groupby(['Other_Debtors_Guarantors'])['Default_On_Payment'].value_counts(normalize=True).tolist()\n",
        "yposlist = [round(i,2) for i in yposlist[1::2]]\n",
        "xposlist = range(len(yposlist))\n",
        "for i in range(len(yposlist)):\n",
        "    ax12.text(xposlist[i], yposlist[i], str(round(yposlist[i], 2)), fontsize=14)\n",
        "\n",
        "ax13 = sns.violinplot('Purposre_Credit_Taken', 'Default_On_Payment', data=loan_df, order=['A40','A41','A410','A42','A43','A44','A45','A46','A48','A49'], ax=ax13)\n",
        "ax13.set_title('Purposre_Credit_Taken % of Defaulters')\n",
        "yposlist = loan_df.groupby(['Purposre_Credit_Taken'])['Default_On_Payment'].value_counts(normalize=True).tolist()\n",
        "yposlist = [round(i,2) for i in yposlist[1::2]]\n",
        "xposlist = range(len(yposlist))\n",
        "for i in range(len(yposlist)):\n",
        "    plt.text(xposlist[i], yposlist[i], str(round(yposlist[i], 2)), fontsize=14)\n",
        "\n",
        "plt.show()"
      ],
      "execution_count": 95,
      "outputs": [
        {
          "output_type": "display_data",
          "data": {
            "image/png": "[encoded data removed]",
            "text/plain": [
              "<Figure size 1440x1296 with 13 Axes>"
            ]
          },
          "metadata": {
            "tags": []
          }
        }
      ]
    },
    {
      "cell_type": "markdown",
      "metadata": {
        "id": "2PKb_Iej-HZk",
        "colab_type": "text"
      },
      "source": [
        "The essence of visualizing the deafulting percentage of each categorical variable and sub variables is to identify the variables that may be useful for training our model.<br>These variables should not have around 50% chance of defaulting, this shows a weak relationship. Ideally we want variables that have less than 40% or more than 60% chance of defaulting to train our model.<br>\n",
        "\n",
        "My threshold is <br>\n",
        "\n",
        "###$defaulting <= 0.4\\: or\\: >= 0.6$<br>\n",
        "\n",
        "Thus, I will select only those categorical variables that indicate a defaulting score equal to or larger than 60% or less than or equal to 40%.<br>\n",
        "\n",
        "Note that for a given variable, a high Non-defaulting Variable score simply indicates  a low-Defaulting Variable score and Vice-Versa"
      ]
    },
    {
      "cell_type": "markdown",
      "metadata": {
        "id": "Six6q9Ug2MzV",
        "colab_type": "text"
      },
      "source": [
        "### Feature Binarization"
      ]
    },
    {
      "cell_type": "code",
      "metadata": {
        "id": "0VMhKoHmE_K-",
        "colab_type": "code",
        "outputId": "b20fc9bb-cbd3-4c6f-d134-4ebab242e545",
        "colab": {
          "base_uri": "https://localhost:8080/",
          "height": 156
        }
      },
      "source": [
        "loan_df.head(3)"
      ],
      "execution_count": 96,
      "outputs": [
        {
          "output_type": "execute_result",
          "data": {
            "text/html": [
              "<div>\n",
              "<style scoped>\n",
              "    .dataframe tbody tr th:only-of-type {\n",
              "        vertical-align: middle;\n",
              "    }\n",
              "\n",
              "    .dataframe tbody tr th {\n",
              "        vertical-align: top;\n",
              "    }\n",
              "\n",
              "    .dataframe thead th {\n",
              "        text-align: right;\n",
              "    }\n",
              "</style>\n",
              "<table border=\"1\" class=\"dataframe\">\n",
              "  <thead>\n",
              "    <tr style=\"text-align: right;\">\n",
              "      <th></th>\n",
              "      <th>Customer_ID</th>\n",
              "      <th>Marital_Status_Gender</th>\n",
              "      <th>Age</th>\n",
              "      <th>Dependents</th>\n",
              "      <th>Housing</th>\n",
              "      <th>Telephone</th>\n",
              "      <th>Property</th>\n",
              "      <th>Current_Address_Yrs</th>\n",
              "      <th>Job</th>\n",
              "      <th>Foreign_Worker</th>\n",
              "      <th>Years_At_Present_Employment</th>\n",
              "      <th>Savings_Acc</th>\n",
              "      <th>Status_Checking_Acc</th>\n",
              "      <th>Credit_History</th>\n",
              "      <th>Credit_Amount</th>\n",
              "      <th>Purposre_Credit_Taken</th>\n",
              "      <th>Duration_in_Months</th>\n",
              "      <th>Inst_Rt_Income</th>\n",
              "      <th>Other_Debtors_Guarantors</th>\n",
              "      <th>Other_Inst_Plans</th>\n",
              "      <th>Num_CC</th>\n",
              "      <th>Default_On_Payment</th>\n",
              "      <th>Count</th>\n",
              "    </tr>\n",
              "  </thead>\n",
              "  <tbody>\n",
              "    <tr>\n",
              "      <th>0</th>\n",
              "      <td>100001</td>\n",
              "      <td>A93</td>\n",
              "      <td>67</td>\n",
              "      <td>1</td>\n",
              "      <td>A152</td>\n",
              "      <td>A192</td>\n",
              "      <td>A121</td>\n",
              "      <td>4</td>\n",
              "      <td>A173</td>\n",
              "      <td>A201</td>\n",
              "      <td>A75</td>\n",
              "      <td>A65</td>\n",
              "      <td>A11</td>\n",
              "      <td>A34</td>\n",
              "      <td>1169</td>\n",
              "      <td>A43</td>\n",
              "      <td>6</td>\n",
              "      <td>4</td>\n",
              "      <td>A101</td>\n",
              "      <td>A143</td>\n",
              "      <td>2</td>\n",
              "      <td>0</td>\n",
              "      <td>1</td>\n",
              "    </tr>\n",
              "    <tr>\n",
              "      <th>1</th>\n",
              "      <td>100002</td>\n",
              "      <td>A92</td>\n",
              "      <td>22</td>\n",
              "      <td>1</td>\n",
              "      <td>A152</td>\n",
              "      <td>A191</td>\n",
              "      <td>A121</td>\n",
              "      <td>2</td>\n",
              "      <td>A173</td>\n",
              "      <td>A201</td>\n",
              "      <td>A73</td>\n",
              "      <td>A61</td>\n",
              "      <td>A12</td>\n",
              "      <td>A32</td>\n",
              "      <td>5951</td>\n",
              "      <td>A43</td>\n",
              "      <td>48</td>\n",
              "      <td>2</td>\n",
              "      <td>A101</td>\n",
              "      <td>A143</td>\n",
              "      <td>1</td>\n",
              "      <td>0</td>\n",
              "      <td>1</td>\n",
              "    </tr>\n",
              "    <tr>\n",
              "      <th>2</th>\n",
              "      <td>100003</td>\n",
              "      <td>A93</td>\n",
              "      <td>49</td>\n",
              "      <td>2</td>\n",
              "      <td>A152</td>\n",
              "      <td>A191</td>\n",
              "      <td>A121</td>\n",
              "      <td>3</td>\n",
              "      <td>A172</td>\n",
              "      <td>A201</td>\n",
              "      <td>A74</td>\n",
              "      <td>A61</td>\n",
              "      <td>A14</td>\n",
              "      <td>A34</td>\n",
              "      <td>2096</td>\n",
              "      <td>A46</td>\n",
              "      <td>12</td>\n",
              "      <td>2</td>\n",
              "      <td>A101</td>\n",
              "      <td>A143</td>\n",
              "      <td>1</td>\n",
              "      <td>0</td>\n",
              "      <td>1</td>\n",
              "    </tr>\n",
              "  </tbody>\n",
              "</table>\n",
              "</div>"
            ],
            "text/plain": [
              "   Customer_ID Marital_Status_Gender  Age  ...  Num_CC Default_On_Payment Count\n",
              "0       100001                   A93   67  ...       2                  0     1\n",
              "1       100002                   A92   22  ...       1                  0     1\n",
              "2       100003                   A93   49  ...       1                  0     1\n",
              "\n",
              "[3 rows x 23 columns]"
            ]
          },
          "metadata": {
            "tags": []
          },
          "execution_count": 96
        }
      ]
    },
    {
      "cell_type": "markdown",
      "metadata": {
        "id": "_xOB7uLVJDk4",
        "colab_type": "text"
      },
      "source": [
        "Let's binarize categorical variables below and save it in a new variable loan_df_dummies"
      ]
    },
    {
      "cell_type": "code",
      "metadata": {
        "id": "jvuwGVLWILsC",
        "colab_type": "code",
        "outputId": "6441265a-c6ed-4917-a6f0-407bb9fadceb",
        "colab": {
          "base_uri": "https://localhost:8080/",
          "height": 156
        }
      },
      "source": [
        "loan_df_dummies = pd.get_dummies(loan_df)\n",
        "loan_df_dummies.head(3)"
      ],
      "execution_count": 97,
      "outputs": [
        {
          "output_type": "execute_result",
          "data": {
            "text/html": [
              "<div>\n",
              "<style scoped>\n",
              "    .dataframe tbody tr th:only-of-type {\n",
              "        vertical-align: middle;\n",
              "    }\n",
              "\n",
              "    .dataframe tbody tr th {\n",
              "        vertical-align: top;\n",
              "    }\n",
              "\n",
              "    .dataframe thead th {\n",
              "        text-align: right;\n",
              "    }\n",
              "</style>\n",
              "<table border=\"1\" class=\"dataframe\">\n",
              "  <thead>\n",
              "    <tr style=\"text-align: right;\">\n",
              "      <th></th>\n",
              "      <th>Customer_ID</th>\n",
              "      <th>Age</th>\n",
              "      <th>Dependents</th>\n",
              "      <th>Current_Address_Yrs</th>\n",
              "      <th>Credit_Amount</th>\n",
              "      <th>Duration_in_Months</th>\n",
              "      <th>Inst_Rt_Income</th>\n",
              "      <th>Num_CC</th>\n",
              "      <th>Default_On_Payment</th>\n",
              "      <th>Count</th>\n",
              "      <th>Marital_Status_Gender_A91</th>\n",
              "      <th>Marital_Status_Gender_A92</th>\n",
              "      <th>Marital_Status_Gender_A93</th>\n",
              "      <th>Marital_Status_Gender_A94</th>\n",
              "      <th>Housing_A151</th>\n",
              "      <th>Housing_A152</th>\n",
              "      <th>Housing_A153</th>\n",
              "      <th>Telephone_A191</th>\n",
              "      <th>Telephone_A192</th>\n",
              "      <th>Property_A121</th>\n",
              "      <th>Property_A122</th>\n",
              "      <th>Property_A123</th>\n",
              "      <th>Property_A124</th>\n",
              "      <th>Job_A171</th>\n",
              "      <th>Job_A172</th>\n",
              "      <th>Job_A173</th>\n",
              "      <th>Job_A174</th>\n",
              "      <th>Foreign_Worker_A201</th>\n",
              "      <th>Foreign_Worker_A202</th>\n",
              "      <th>Years_At_Present_Employment_A71</th>\n",
              "      <th>Years_At_Present_Employment_A72</th>\n",
              "      <th>Years_At_Present_Employment_A73</th>\n",
              "      <th>Years_At_Present_Employment_A74</th>\n",
              "      <th>Years_At_Present_Employment_A75</th>\n",
              "      <th>Savings_Acc_A61</th>\n",
              "      <th>Savings_Acc_A62</th>\n",
              "      <th>Savings_Acc_A63</th>\n",
              "      <th>Savings_Acc_A64</th>\n",
              "      <th>Savings_Acc_A65</th>\n",
              "      <th>Status_Checking_Acc_A11</th>\n",
              "      <th>Status_Checking_Acc_A12</th>\n",
              "      <th>Status_Checking_Acc_A13</th>\n",
              "      <th>Status_Checking_Acc_A14</th>\n",
              "      <th>Credit_History_A30</th>\n",
              "      <th>Credit_History_A31</th>\n",
              "      <th>Credit_History_A32</th>\n",
              "      <th>Credit_History_A33</th>\n",
              "      <th>Credit_History_A34</th>\n",
              "      <th>Purposre_Credit_Taken_A40</th>\n",
              "      <th>Purposre_Credit_Taken_A41</th>\n",
              "      <th>Purposre_Credit_Taken_A410</th>\n",
              "      <th>Purposre_Credit_Taken_A42</th>\n",
              "      <th>Purposre_Credit_Taken_A43</th>\n",
              "      <th>Purposre_Credit_Taken_A44</th>\n",
              "      <th>Purposre_Credit_Taken_A45</th>\n",
              "      <th>Purposre_Credit_Taken_A46</th>\n",
              "      <th>Purposre_Credit_Taken_A48</th>\n",
              "      <th>Purposre_Credit_Taken_A49</th>\n",
              "      <th>Other_Debtors_Guarantors_A101</th>\n",
              "      <th>Other_Debtors_Guarantors_A102</th>\n",
              "      <th>Other_Debtors_Guarantors_A103</th>\n",
              "      <th>Other_Inst_Plans_A141</th>\n",
              "      <th>Other_Inst_Plans_A142</th>\n",
              "      <th>Other_Inst_Plans_A143</th>\n",
              "    </tr>\n",
              "  </thead>\n",
              "  <tbody>\n",
              "    <tr>\n",
              "      <th>0</th>\n",
              "      <td>100001</td>\n",
              "      <td>67</td>\n",
              "      <td>1</td>\n",
              "      <td>4</td>\n",
              "      <td>1169</td>\n",
              "      <td>6</td>\n",
              "      <td>4</td>\n",
              "      <td>2</td>\n",
              "      <td>0</td>\n",
              "      <td>1</td>\n",
              "      <td>0</td>\n",
              "      <td>0</td>\n",
              "      <td>1</td>\n",
              "      <td>0</td>\n",
              "      <td>0</td>\n",
              "      <td>1</td>\n",
              "      <td>0</td>\n",
              "      <td>0</td>\n",
              "      <td>1</td>\n",
              "      <td>1</td>\n",
              "      <td>0</td>\n",
              "      <td>0</td>\n",
              "      <td>0</td>\n",
              "      <td>0</td>\n",
              "      <td>0</td>\n",
              "      <td>1</td>\n",
              "      <td>0</td>\n",
              "      <td>1</td>\n",
              "      <td>0</td>\n",
              "      <td>0</td>\n",
              "      <td>0</td>\n",
              "      <td>0</td>\n",
              "      <td>0</td>\n",
              "      <td>1</td>\n",
              "      <td>0</td>\n",
              "      <td>0</td>\n",
              "      <td>0</td>\n",
              "      <td>0</td>\n",
              "      <td>1</td>\n",
              "      <td>1</td>\n",
              "      <td>0</td>\n",
              "      <td>0</td>\n",
              "      <td>0</td>\n",
              "      <td>0</td>\n",
              "      <td>0</td>\n",
              "      <td>0</td>\n",
              "      <td>0</td>\n",
              "      <td>1</td>\n",
              "      <td>0</td>\n",
              "      <td>0</td>\n",
              "      <td>0</td>\n",
              "      <td>0</td>\n",
              "      <td>1</td>\n",
              "      <td>0</td>\n",
              "      <td>0</td>\n",
              "      <td>0</td>\n",
              "      <td>0</td>\n",
              "      <td>0</td>\n",
              "      <td>1</td>\n",
              "      <td>0</td>\n",
              "      <td>0</td>\n",
              "      <td>0</td>\n",
              "      <td>0</td>\n",
              "      <td>1</td>\n",
              "    </tr>\n",
              "    <tr>\n",
              "      <th>1</th>\n",
              "      <td>100002</td>\n",
              "      <td>22</td>\n",
              "      <td>1</td>\n",
              "      <td>2</td>\n",
              "      <td>5951</td>\n",
              "      <td>48</td>\n",
              "      <td>2</td>\n",
              "      <td>1</td>\n",
              "      <td>0</td>\n",
              "      <td>1</td>\n",
              "      <td>0</td>\n",
              "      <td>1</td>\n",
              "      <td>0</td>\n",
              "      <td>0</td>\n",
              "      <td>0</td>\n",
              "      <td>1</td>\n",
              "      <td>0</td>\n",
              "      <td>1</td>\n",
              "      <td>0</td>\n",
              "      <td>1</td>\n",
              "      <td>0</td>\n",
              "      <td>0</td>\n",
              "      <td>0</td>\n",
              "      <td>0</td>\n",
              "      <td>0</td>\n",
              "      <td>1</td>\n",
              "      <td>0</td>\n",
              "      <td>1</td>\n",
              "      <td>0</td>\n",
              "      <td>0</td>\n",
              "      <td>0</td>\n",
              "      <td>1</td>\n",
              "      <td>0</td>\n",
              "      <td>0</td>\n",
              "      <td>1</td>\n",
              "      <td>0</td>\n",
              "      <td>0</td>\n",
              "      <td>0</td>\n",
              "      <td>0</td>\n",
              "      <td>0</td>\n",
              "      <td>1</td>\n",
              "      <td>0</td>\n",
              "      <td>0</td>\n",
              "      <td>0</td>\n",
              "      <td>0</td>\n",
              "      <td>1</td>\n",
              "      <td>0</td>\n",
              "      <td>0</td>\n",
              "      <td>0</td>\n",
              "      <td>0</td>\n",
              "      <td>0</td>\n",
              "      <td>0</td>\n",
              "      <td>1</td>\n",
              "      <td>0</td>\n",
              "      <td>0</td>\n",
              "      <td>0</td>\n",
              "      <td>0</td>\n",
              "      <td>0</td>\n",
              "      <td>1</td>\n",
              "      <td>0</td>\n",
              "      <td>0</td>\n",
              "      <td>0</td>\n",
              "      <td>0</td>\n",
              "      <td>1</td>\n",
              "    </tr>\n",
              "    <tr>\n",
              "      <th>2</th>\n",
              "      <td>100003</td>\n",
              "      <td>49</td>\n",
              "      <td>2</td>\n",
              "      <td>3</td>\n",
              "      <td>2096</td>\n",
              "      <td>12</td>\n",
              "      <td>2</td>\n",
              "      <td>1</td>\n",
              "      <td>0</td>\n",
              "      <td>1</td>\n",
              "      <td>0</td>\n",
              "      <td>0</td>\n",
              "      <td>1</td>\n",
              "      <td>0</td>\n",
              "      <td>0</td>\n",
              "      <td>1</td>\n",
              "      <td>0</td>\n",
              "      <td>1</td>\n",
              "      <td>0</td>\n",
              "      <td>1</td>\n",
              "      <td>0</td>\n",
              "      <td>0</td>\n",
              "      <td>0</td>\n",
              "      <td>0</td>\n",
              "      <td>1</td>\n",
              "      <td>0</td>\n",
              "      <td>0</td>\n",
              "      <td>1</td>\n",
              "      <td>0</td>\n",
              "      <td>0</td>\n",
              "      <td>0</td>\n",
              "      <td>0</td>\n",
              "      <td>1</td>\n",
              "      <td>0</td>\n",
              "      <td>1</td>\n",
              "      <td>0</td>\n",
              "      <td>0</td>\n",
              "      <td>0</td>\n",
              "      <td>0</td>\n",
              "      <td>0</td>\n",
              "      <td>0</td>\n",
              "      <td>0</td>\n",
              "      <td>1</td>\n",
              "      <td>0</td>\n",
              "      <td>0</td>\n",
              "      <td>0</td>\n",
              "      <td>0</td>\n",
              "      <td>1</td>\n",
              "      <td>0</td>\n",
              "      <td>0</td>\n",
              "      <td>0</td>\n",
              "      <td>0</td>\n",
              "      <td>0</td>\n",
              "      <td>0</td>\n",
              "      <td>0</td>\n",
              "      <td>1</td>\n",
              "      <td>0</td>\n",
              "      <td>0</td>\n",
              "      <td>1</td>\n",
              "      <td>0</td>\n",
              "      <td>0</td>\n",
              "      <td>0</td>\n",
              "      <td>0</td>\n",
              "      <td>1</td>\n",
              "    </tr>\n",
              "  </tbody>\n",
              "</table>\n",
              "</div>"
            ],
            "text/plain": [
              "   Customer_ID  Age  ...  Other_Inst_Plans_A142  Other_Inst_Plans_A143\n",
              "0       100001   67  ...                      0                      1\n",
              "1       100002   22  ...                      0                      1\n",
              "2       100003   49  ...                      0                      1\n",
              "\n",
              "[3 rows x 64 columns]"
            ]
          },
          "metadata": {
            "tags": []
          },
          "execution_count": 97
        }
      ]
    },
    {
      "cell_type": "markdown",
      "metadata": {
        "id": "8JAWgQNPaoKD",
        "colab_type": "text"
      },
      "source": [
        "Let's see howmany total columns we have in loan_df_dummies"
      ]
    },
    {
      "cell_type": "code",
      "metadata": {
        "id": "3srr0ZXRauwp",
        "colab_type": "code",
        "outputId": "75c60b2e-8bba-4804-dbdb-c89a5dc2fe1d",
        "colab": {
          "base_uri": "https://localhost:8080/",
          "height": 34
        }
      },
      "source": [
        "loan_df_dummies.shape  # we now have 64 total columns from 23 of before"
      ],
      "execution_count": 98,
      "outputs": [
        {
          "output_type": "execute_result",
          "data": {
            "text/plain": [
              "(5000, 64)"
            ]
          },
          "metadata": {
            "tags": []
          },
          "execution_count": 98
        }
      ]
    },
    {
      "cell_type": "markdown",
      "metadata": {
        "id": "cBsAtFWsJLG7",
        "colab_type": "text"
      },
      "source": [
        "Now let's select categorical columns whose elements are not  upto 40%  defaulters or above 60% as we visualized earlier"
      ]
    },
    {
      "cell_type": "code",
      "metadata": {
        "id": "oeRnMpbUU5pm",
        "colab_type": "code",
        "outputId": "135d903c-c917-47d3-e100-58bdc015bd04",
        "colab": {
          "base_uri": "https://localhost:8080/",
          "height": 101
        }
      },
      "source": [
        "categorical_cols = loan_df.select_dtypes(include ='object').columns\n",
        "categorical_cols"
      ],
      "execution_count": 99,
      "outputs": [
        {
          "output_type": "execute_result",
          "data": {
            "text/plain": [
              "Index(['Marital_Status_Gender', 'Housing', 'Telephone', 'Property', 'Job',\n",
              "       'Foreign_Worker', 'Years_At_Present_Employment', 'Savings_Acc',\n",
              "       'Status_Checking_Acc', 'Credit_History', 'Purposre_Credit_Taken',\n",
              "       'Other_Debtors_Guarantors', 'Other_Inst_Plans'],\n",
              "      dtype='object')"
            ]
          },
          "metadata": {
            "tags": []
          },
          "execution_count": 99
        }
      ]
    },
    {
      "cell_type": "markdown",
      "metadata": {
        "id": "-jHs_2VzZk7M",
        "colab_type": "text"
      },
      "source": [
        "Next let's loop through each categorical column and create a list of columns to be deleted whose elements do not show a relatively strong defaulting threshold."
      ]
    },
    {
      "cell_type": "code",
      "metadata": {
        "id": "oL_2BJ-7Jn-o",
        "colab_type": "code",
        "outputId": "912b0889-07a0-4819-b82c-67ef7c59dc97",
        "colab": {
          "base_uri": "https://localhost:8080/",
          "height": 218
        }
      },
      "source": [
        "# Let's define a simple column that we can use to sort out the features to delete\n",
        "\n",
        "def delete_categorical_feature(categorical_cols):\n",
        "    \"\"\" This method takes a pandas index object column and sorts it,\n",
        "    and returns a list of feature attributes to delete \"\"\"\n",
        "    \n",
        "    delete_list = []\n",
        "    for x in categorical_cols:\n",
        "        default_df = loan_df.groupby(x)['Default_On_Payment'].value_counts(normalize=True).to_frame()[1::2]\n",
        "        delete_feature = default_df[(default_df.Default_On_Payment >= 0.4) & (default_df.Default_On_Payment <= 0.6)]\n",
        "        delete = [delete_feature.index[i][0] for i in range(len(delete_feature))]\n",
        "        for i in range(len(delete)):\n",
        "            delete[i] = x + '_' + delete[i]\n",
        "        delete_list += delete\n",
        "    return delete_list\n",
        "\n",
        "delete_list = delete_categorical_feature(categorical_cols)\n",
        "print('Total cols to be deleted-', len(delete_list))\n",
        "delete_list"
      ],
      "execution_count": 135,
      "outputs": [
        {
          "output_type": "stream",
          "text": [
            "Total cols to be deleted- 11\n"
          ],
          "name": "stdout"
        },
        {
          "output_type": "execute_result",
          "data": {
            "text/plain": [
              "['Marital_Status_Gender_A91',\n",
              " 'Housing_A153',\n",
              " 'Property_A124',\n",
              " 'Years_At_Present_Employment_A72',\n",
              " 'Status_Checking_Acc_A11',\n",
              " 'Credit_History_A31',\n",
              " 'Purposre_Credit_Taken_A410',\n",
              " 'Purposre_Credit_Taken_A46',\n",
              " 'Other_Debtors_Guarantors_A102',\n",
              " 'Other_Inst_Plans_A141',\n",
              " 'Other_Inst_Plans_A142']"
            ]
          },
          "metadata": {
            "tags": []
          },
          "execution_count": 135
        }
      ]
    },
    {
      "cell_type": "markdown",
      "metadata": {
        "id": "yMLgsA97bCc1",
        "colab_type": "text"
      },
      "source": [
        "Now let's delete the weak relationship cols"
      ]
    },
    {
      "cell_type": "code",
      "metadata": {
        "id": "Ru9O720ZbHmS",
        "colab_type": "code",
        "colab": {}
      },
      "source": [
        "loan_df_dummies = loan_df_dummies.drop(delete_list, axis=1)"
      ],
      "execution_count": 0,
      "outputs": []
    },
    {
      "cell_type": "code",
      "metadata": {
        "id": "fb6zetXfbRKU",
        "colab_type": "code",
        "outputId": "04fab916-610a-4dbe-9cc6-1649c59f69db",
        "colab": {
          "base_uri": "https://localhost:8080/",
          "height": 34
        }
      },
      "source": [
        "loan_df_dummies.shape"
      ],
      "execution_count": 137,
      "outputs": [
        {
          "output_type": "execute_result",
          "data": {
            "text/plain": [
              "(5000, 53)"
            ]
          },
          "metadata": {
            "tags": []
          },
          "execution_count": 137
        }
      ]
    },
    {
      "cell_type": "code",
      "metadata": {
        "id": "c-_SDoIpdD6h",
        "colab_type": "code",
        "outputId": "2bf10f0a-d71f-4449-9609-57be60434c59",
        "colab": {
          "base_uri": "https://localhost:8080/",
          "height": 215
        }
      },
      "source": [
        "loan_df_dummies.head()"
      ],
      "execution_count": 138,
      "outputs": [
        {
          "output_type": "execute_result",
          "data": {
            "text/html": [
              "<div>\n",
              "<style scoped>\n",
              "    .dataframe tbody tr th:only-of-type {\n",
              "        vertical-align: middle;\n",
              "    }\n",
              "\n",
              "    .dataframe tbody tr th {\n",
              "        vertical-align: top;\n",
              "    }\n",
              "\n",
              "    .dataframe thead th {\n",
              "        text-align: right;\n",
              "    }\n",
              "</style>\n",
              "<table border=\"1\" class=\"dataframe\">\n",
              "  <thead>\n",
              "    <tr style=\"text-align: right;\">\n",
              "      <th></th>\n",
              "      <th>Customer_ID</th>\n",
              "      <th>Age</th>\n",
              "      <th>Dependents</th>\n",
              "      <th>Current_Address_Yrs</th>\n",
              "      <th>Credit_Amount</th>\n",
              "      <th>Duration_in_Months</th>\n",
              "      <th>Inst_Rt_Income</th>\n",
              "      <th>Num_CC</th>\n",
              "      <th>Default_On_Payment</th>\n",
              "      <th>Count</th>\n",
              "      <th>Marital_Status_Gender_A92</th>\n",
              "      <th>Marital_Status_Gender_A93</th>\n",
              "      <th>Marital_Status_Gender_A94</th>\n",
              "      <th>Housing_A151</th>\n",
              "      <th>Housing_A152</th>\n",
              "      <th>Telephone_A191</th>\n",
              "      <th>Telephone_A192</th>\n",
              "      <th>Property_A121</th>\n",
              "      <th>Property_A122</th>\n",
              "      <th>Property_A123</th>\n",
              "      <th>Job_A171</th>\n",
              "      <th>Job_A172</th>\n",
              "      <th>Job_A173</th>\n",
              "      <th>Job_A174</th>\n",
              "      <th>Foreign_Worker_A201</th>\n",
              "      <th>Foreign_Worker_A202</th>\n",
              "      <th>Years_At_Present_Employment_A71</th>\n",
              "      <th>Years_At_Present_Employment_A73</th>\n",
              "      <th>Years_At_Present_Employment_A74</th>\n",
              "      <th>Years_At_Present_Employment_A75</th>\n",
              "      <th>Savings_Acc_A61</th>\n",
              "      <th>Savings_Acc_A62</th>\n",
              "      <th>Savings_Acc_A63</th>\n",
              "      <th>Savings_Acc_A64</th>\n",
              "      <th>Savings_Acc_A65</th>\n",
              "      <th>Status_Checking_Acc_A12</th>\n",
              "      <th>Status_Checking_Acc_A13</th>\n",
              "      <th>Status_Checking_Acc_A14</th>\n",
              "      <th>Credit_History_A30</th>\n",
              "      <th>Credit_History_A32</th>\n",
              "      <th>Credit_History_A33</th>\n",
              "      <th>Credit_History_A34</th>\n",
              "      <th>Purposre_Credit_Taken_A40</th>\n",
              "      <th>Purposre_Credit_Taken_A41</th>\n",
              "      <th>Purposre_Credit_Taken_A42</th>\n",
              "      <th>Purposre_Credit_Taken_A43</th>\n",
              "      <th>Purposre_Credit_Taken_A44</th>\n",
              "      <th>Purposre_Credit_Taken_A45</th>\n",
              "      <th>Purposre_Credit_Taken_A48</th>\n",
              "      <th>Purposre_Credit_Taken_A49</th>\n",
              "      <th>Other_Debtors_Guarantors_A101</th>\n",
              "      <th>Other_Debtors_Guarantors_A103</th>\n",
              "      <th>Other_Inst_Plans_A143</th>\n",
              "    </tr>\n",
              "  </thead>\n",
              "  <tbody>\n",
              "    <tr>\n",
              "      <th>0</th>\n",
              "      <td>100001</td>\n",
              "      <td>67</td>\n",
              "      <td>1</td>\n",
              "      <td>4</td>\n",
              "      <td>1169</td>\n",
              "      <td>6</td>\n",
              "      <td>4</td>\n",
              "      <td>2</td>\n",
              "      <td>0</td>\n",
              "      <td>1</td>\n",
              "      <td>0</td>\n",
              "      <td>1</td>\n",
              "      <td>0</td>\n",
              "      <td>0</td>\n",
              "      <td>1</td>\n",
              "      <td>0</td>\n",
              "      <td>1</td>\n",
              "      <td>1</td>\n",
              "      <td>0</td>\n",
              "      <td>0</td>\n",
              "      <td>0</td>\n",
              "      <td>0</td>\n",
              "      <td>1</td>\n",
              "      <td>0</td>\n",
              "      <td>1</td>\n",
              "      <td>0</td>\n",
              "      <td>0</td>\n",
              "      <td>0</td>\n",
              "      <td>0</td>\n",
              "      <td>1</td>\n",
              "      <td>0</td>\n",
              "      <td>0</td>\n",
              "      <td>0</td>\n",
              "      <td>0</td>\n",
              "      <td>1</td>\n",
              "      <td>0</td>\n",
              "      <td>0</td>\n",
              "      <td>0</td>\n",
              "      <td>0</td>\n",
              "      <td>0</td>\n",
              "      <td>0</td>\n",
              "      <td>1</td>\n",
              "      <td>0</td>\n",
              "      <td>0</td>\n",
              "      <td>0</td>\n",
              "      <td>1</td>\n",
              "      <td>0</td>\n",
              "      <td>0</td>\n",
              "      <td>0</td>\n",
              "      <td>0</td>\n",
              "      <td>1</td>\n",
              "      <td>0</td>\n",
              "      <td>1</td>\n",
              "    </tr>\n",
              "    <tr>\n",
              "      <th>1</th>\n",
              "      <td>100002</td>\n",
              "      <td>22</td>\n",
              "      <td>1</td>\n",
              "      <td>2</td>\n",
              "      <td>5951</td>\n",
              "      <td>48</td>\n",
              "      <td>2</td>\n",
              "      <td>1</td>\n",
              "      <td>0</td>\n",
              "      <td>1</td>\n",
              "      <td>1</td>\n",
              "      <td>0</td>\n",
              "      <td>0</td>\n",
              "      <td>0</td>\n",
              "      <td>1</td>\n",
              "      <td>1</td>\n",
              "      <td>0</td>\n",
              "      <td>1</td>\n",
              "      <td>0</td>\n",
              "      <td>0</td>\n",
              "      <td>0</td>\n",
              "      <td>0</td>\n",
              "      <td>1</td>\n",
              "      <td>0</td>\n",
              "      <td>1</td>\n",
              "      <td>0</td>\n",
              "      <td>0</td>\n",
              "      <td>1</td>\n",
              "      <td>0</td>\n",
              "      <td>0</td>\n",
              "      <td>1</td>\n",
              "      <td>0</td>\n",
              "      <td>0</td>\n",
              "      <td>0</td>\n",
              "      <td>0</td>\n",
              "      <td>1</td>\n",
              "      <td>0</td>\n",
              "      <td>0</td>\n",
              "      <td>0</td>\n",
              "      <td>1</td>\n",
              "      <td>0</td>\n",
              "      <td>0</td>\n",
              "      <td>0</td>\n",
              "      <td>0</td>\n",
              "      <td>0</td>\n",
              "      <td>1</td>\n",
              "      <td>0</td>\n",
              "      <td>0</td>\n",
              "      <td>0</td>\n",
              "      <td>0</td>\n",
              "      <td>1</td>\n",
              "      <td>0</td>\n",
              "      <td>1</td>\n",
              "    </tr>\n",
              "    <tr>\n",
              "      <th>2</th>\n",
              "      <td>100003</td>\n",
              "      <td>49</td>\n",
              "      <td>2</td>\n",
              "      <td>3</td>\n",
              "      <td>2096</td>\n",
              "      <td>12</td>\n",
              "      <td>2</td>\n",
              "      <td>1</td>\n",
              "      <td>0</td>\n",
              "      <td>1</td>\n",
              "      <td>0</td>\n",
              "      <td>1</td>\n",
              "      <td>0</td>\n",
              "      <td>0</td>\n",
              "      <td>1</td>\n",
              "      <td>1</td>\n",
              "      <td>0</td>\n",
              "      <td>1</td>\n",
              "      <td>0</td>\n",
              "      <td>0</td>\n",
              "      <td>0</td>\n",
              "      <td>1</td>\n",
              "      <td>0</td>\n",
              "      <td>0</td>\n",
              "      <td>1</td>\n",
              "      <td>0</td>\n",
              "      <td>0</td>\n",
              "      <td>0</td>\n",
              "      <td>1</td>\n",
              "      <td>0</td>\n",
              "      <td>1</td>\n",
              "      <td>0</td>\n",
              "      <td>0</td>\n",
              "      <td>0</td>\n",
              "      <td>0</td>\n",
              "      <td>0</td>\n",
              "      <td>0</td>\n",
              "      <td>1</td>\n",
              "      <td>0</td>\n",
              "      <td>0</td>\n",
              "      <td>0</td>\n",
              "      <td>1</td>\n",
              "      <td>0</td>\n",
              "      <td>0</td>\n",
              "      <td>0</td>\n",
              "      <td>0</td>\n",
              "      <td>0</td>\n",
              "      <td>0</td>\n",
              "      <td>0</td>\n",
              "      <td>0</td>\n",
              "      <td>1</td>\n",
              "      <td>0</td>\n",
              "      <td>1</td>\n",
              "    </tr>\n",
              "    <tr>\n",
              "      <th>3</th>\n",
              "      <td>100004</td>\n",
              "      <td>45</td>\n",
              "      <td>2</td>\n",
              "      <td>4</td>\n",
              "      <td>7882</td>\n",
              "      <td>42</td>\n",
              "      <td>2</td>\n",
              "      <td>1</td>\n",
              "      <td>0</td>\n",
              "      <td>1</td>\n",
              "      <td>0</td>\n",
              "      <td>1</td>\n",
              "      <td>0</td>\n",
              "      <td>0</td>\n",
              "      <td>0</td>\n",
              "      <td>1</td>\n",
              "      <td>0</td>\n",
              "      <td>0</td>\n",
              "      <td>1</td>\n",
              "      <td>0</td>\n",
              "      <td>0</td>\n",
              "      <td>0</td>\n",
              "      <td>1</td>\n",
              "      <td>0</td>\n",
              "      <td>1</td>\n",
              "      <td>0</td>\n",
              "      <td>0</td>\n",
              "      <td>0</td>\n",
              "      <td>1</td>\n",
              "      <td>0</td>\n",
              "      <td>1</td>\n",
              "      <td>0</td>\n",
              "      <td>0</td>\n",
              "      <td>0</td>\n",
              "      <td>0</td>\n",
              "      <td>0</td>\n",
              "      <td>0</td>\n",
              "      <td>0</td>\n",
              "      <td>0</td>\n",
              "      <td>1</td>\n",
              "      <td>0</td>\n",
              "      <td>0</td>\n",
              "      <td>0</td>\n",
              "      <td>0</td>\n",
              "      <td>1</td>\n",
              "      <td>0</td>\n",
              "      <td>0</td>\n",
              "      <td>0</td>\n",
              "      <td>0</td>\n",
              "      <td>0</td>\n",
              "      <td>0</td>\n",
              "      <td>1</td>\n",
              "      <td>1</td>\n",
              "    </tr>\n",
              "    <tr>\n",
              "      <th>4</th>\n",
              "      <td>100005</td>\n",
              "      <td>53</td>\n",
              "      <td>2</td>\n",
              "      <td>4</td>\n",
              "      <td>4870</td>\n",
              "      <td>24</td>\n",
              "      <td>3</td>\n",
              "      <td>2</td>\n",
              "      <td>1</td>\n",
              "      <td>1</td>\n",
              "      <td>0</td>\n",
              "      <td>1</td>\n",
              "      <td>0</td>\n",
              "      <td>0</td>\n",
              "      <td>0</td>\n",
              "      <td>1</td>\n",
              "      <td>0</td>\n",
              "      <td>0</td>\n",
              "      <td>0</td>\n",
              "      <td>0</td>\n",
              "      <td>0</td>\n",
              "      <td>0</td>\n",
              "      <td>1</td>\n",
              "      <td>0</td>\n",
              "      <td>1</td>\n",
              "      <td>0</td>\n",
              "      <td>0</td>\n",
              "      <td>1</td>\n",
              "      <td>0</td>\n",
              "      <td>0</td>\n",
              "      <td>1</td>\n",
              "      <td>0</td>\n",
              "      <td>0</td>\n",
              "      <td>0</td>\n",
              "      <td>0</td>\n",
              "      <td>0</td>\n",
              "      <td>0</td>\n",
              "      <td>0</td>\n",
              "      <td>0</td>\n",
              "      <td>0</td>\n",
              "      <td>1</td>\n",
              "      <td>0</td>\n",
              "      <td>1</td>\n",
              "      <td>0</td>\n",
              "      <td>0</td>\n",
              "      <td>0</td>\n",
              "      <td>0</td>\n",
              "      <td>0</td>\n",
              "      <td>0</td>\n",
              "      <td>0</td>\n",
              "      <td>1</td>\n",
              "      <td>0</td>\n",
              "      <td>1</td>\n",
              "    </tr>\n",
              "  </tbody>\n",
              "</table>\n",
              "</div>"
            ],
            "text/plain": [
              "   Customer_ID  Age  ...  Other_Debtors_Guarantors_A103  Other_Inst_Plans_A143\n",
              "0       100001   67  ...                              0                      1\n",
              "1       100002   22  ...                              0                      1\n",
              "2       100003   49  ...                              0                      1\n",
              "3       100004   45  ...                              1                      1\n",
              "4       100005   53  ...                              0                      1\n",
              "\n",
              "[5 rows x 53 columns]"
            ]
          },
          "metadata": {
            "tags": []
          },
          "execution_count": 138
        }
      ]
    },
    {
      "cell_type": "markdown",
      "metadata": {
        "id": "afCah-_ihGjW",
        "colab_type": "text"
      },
      "source": [
        "Okay so back to the count column, I have checked the Data Dictionary and frankly do not see any mention of it, lemme investigate further"
      ]
    },
    {
      "cell_type": "code",
      "metadata": {
        "id": "XaHj4_gChUpW",
        "colab_type": "code",
        "outputId": "a756efcc-4189-4dd1-f89f-b43b652b53ba",
        "colab": {
          "base_uri": "https://localhost:8080/",
          "height": 34
        }
      },
      "source": [
        "loan_df_dummies.Count.nunique()\n",
        "\n",
        "# this shows it contains only one unique item which is 1,  5000 times.\n",
        "# I don't see any use for it and will delete it in the dummies data frame so it is not one of our features"
      ],
      "execution_count": 139,
      "outputs": [
        {
          "output_type": "execute_result",
          "data": {
            "text/plain": [
              "1"
            ]
          },
          "metadata": {
            "tags": []
          },
          "execution_count": 139
        }
      ]
    },
    {
      "cell_type": "markdown",
      "metadata": {
        "id": "F5yS16Qc2N0c",
        "colab_type": "text"
      },
      "source": [
        "Let's drop the Count column as well as the customer Id column"
      ]
    },
    {
      "cell_type": "code",
      "metadata": {
        "id": "pJ3oqgvzh62T",
        "colab_type": "code",
        "outputId": "2c1ccd2b-504c-4d6c-dd71-211af2024379",
        "colab": {
          "base_uri": "https://localhost:8080/",
          "height": 34
        }
      },
      "source": [
        "loan_df_dummies.drop(['Count', 'Customer_ID'], axis=1, inplace=True)\n",
        "\n",
        "# let's confirm that the delete is done.\n",
        "'Count' in loan_df_dummies.columns"
      ],
      "execution_count": 140,
      "outputs": [
        {
          "output_type": "execute_result",
          "data": {
            "text/plain": [
              "False"
            ]
          },
          "metadata": {
            "tags": []
          },
          "execution_count": 140
        }
      ]
    },
    {
      "cell_type": "markdown",
      "metadata": {
        "id": "fPNlF1fddfTS",
        "colab_type": "text"
      },
      "source": [
        "Then finally for this phase, let's reposition our target variable to the last column"
      ]
    },
    {
      "cell_type": "code",
      "metadata": {
        "id": "E1sUzUPPdpNi",
        "colab_type": "code",
        "outputId": "7dea2ca5-e04b-4553-e627-44ebefb5fed3",
        "colab": {
          "base_uri": "https://localhost:8080/",
          "height": 215
        }
      },
      "source": [
        "temp = loan_df_dummies.Default_On_Payment\n",
        "\n",
        "loan_df_dummies = loan_df_dummies.drop('Default_On_Payment', axis=1)\n",
        "\n",
        "loan_df_dummies['Default_On_Payment'] = temp\n",
        "\n",
        "loan_df_dummies.head()"
      ],
      "execution_count": 141,
      "outputs": [
        {
          "output_type": "execute_result",
          "data": {
            "text/html": [
              "<div>\n",
              "<style scoped>\n",
              "    .dataframe tbody tr th:only-of-type {\n",
              "        vertical-align: middle;\n",
              "    }\n",
              "\n",
              "    .dataframe tbody tr th {\n",
              "        vertical-align: top;\n",
              "    }\n",
              "\n",
              "    .dataframe thead th {\n",
              "        text-align: right;\n",
              "    }\n",
              "</style>\n",
              "<table border=\"1\" class=\"dataframe\">\n",
              "  <thead>\n",
              "    <tr style=\"text-align: right;\">\n",
              "      <th></th>\n",
              "      <th>Age</th>\n",
              "      <th>Dependents</th>\n",
              "      <th>Current_Address_Yrs</th>\n",
              "      <th>Credit_Amount</th>\n",
              "      <th>Duration_in_Months</th>\n",
              "      <th>Inst_Rt_Income</th>\n",
              "      <th>Num_CC</th>\n",
              "      <th>Marital_Status_Gender_A92</th>\n",
              "      <th>Marital_Status_Gender_A93</th>\n",
              "      <th>Marital_Status_Gender_A94</th>\n",
              "      <th>Housing_A151</th>\n",
              "      <th>Housing_A152</th>\n",
              "      <th>Telephone_A191</th>\n",
              "      <th>Telephone_A192</th>\n",
              "      <th>Property_A121</th>\n",
              "      <th>Property_A122</th>\n",
              "      <th>Property_A123</th>\n",
              "      <th>Job_A171</th>\n",
              "      <th>Job_A172</th>\n",
              "      <th>Job_A173</th>\n",
              "      <th>Job_A174</th>\n",
              "      <th>Foreign_Worker_A201</th>\n",
              "      <th>Foreign_Worker_A202</th>\n",
              "      <th>Years_At_Present_Employment_A71</th>\n",
              "      <th>Years_At_Present_Employment_A73</th>\n",
              "      <th>Years_At_Present_Employment_A74</th>\n",
              "      <th>Years_At_Present_Employment_A75</th>\n",
              "      <th>Savings_Acc_A61</th>\n",
              "      <th>Savings_Acc_A62</th>\n",
              "      <th>Savings_Acc_A63</th>\n",
              "      <th>Savings_Acc_A64</th>\n",
              "      <th>Savings_Acc_A65</th>\n",
              "      <th>Status_Checking_Acc_A12</th>\n",
              "      <th>Status_Checking_Acc_A13</th>\n",
              "      <th>Status_Checking_Acc_A14</th>\n",
              "      <th>Credit_History_A30</th>\n",
              "      <th>Credit_History_A32</th>\n",
              "      <th>Credit_History_A33</th>\n",
              "      <th>Credit_History_A34</th>\n",
              "      <th>Purposre_Credit_Taken_A40</th>\n",
              "      <th>Purposre_Credit_Taken_A41</th>\n",
              "      <th>Purposre_Credit_Taken_A42</th>\n",
              "      <th>Purposre_Credit_Taken_A43</th>\n",
              "      <th>Purposre_Credit_Taken_A44</th>\n",
              "      <th>Purposre_Credit_Taken_A45</th>\n",
              "      <th>Purposre_Credit_Taken_A48</th>\n",
              "      <th>Purposre_Credit_Taken_A49</th>\n",
              "      <th>Other_Debtors_Guarantors_A101</th>\n",
              "      <th>Other_Debtors_Guarantors_A103</th>\n",
              "      <th>Other_Inst_Plans_A143</th>\n",
              "      <th>Default_On_Payment</th>\n",
              "    </tr>\n",
              "  </thead>\n",
              "  <tbody>\n",
              "    <tr>\n",
              "      <th>0</th>\n",
              "      <td>67</td>\n",
              "      <td>1</td>\n",
              "      <td>4</td>\n",
              "      <td>1169</td>\n",
              "      <td>6</td>\n",
              "      <td>4</td>\n",
              "      <td>2</td>\n",
              "      <td>0</td>\n",
              "      <td>1</td>\n",
              "      <td>0</td>\n",
              "      <td>0</td>\n",
              "      <td>1</td>\n",
              "      <td>0</td>\n",
              "      <td>1</td>\n",
              "      <td>1</td>\n",
              "      <td>0</td>\n",
              "      <td>0</td>\n",
              "      <td>0</td>\n",
              "      <td>0</td>\n",
              "      <td>1</td>\n",
              "      <td>0</td>\n",
              "      <td>1</td>\n",
              "      <td>0</td>\n",
              "      <td>0</td>\n",
              "      <td>0</td>\n",
              "      <td>0</td>\n",
              "      <td>1</td>\n",
              "      <td>0</td>\n",
              "      <td>0</td>\n",
              "      <td>0</td>\n",
              "      <td>0</td>\n",
              "      <td>1</td>\n",
              "      <td>0</td>\n",
              "      <td>0</td>\n",
              "      <td>0</td>\n",
              "      <td>0</td>\n",
              "      <td>0</td>\n",
              "      <td>0</td>\n",
              "      <td>1</td>\n",
              "      <td>0</td>\n",
              "      <td>0</td>\n",
              "      <td>0</td>\n",
              "      <td>1</td>\n",
              "      <td>0</td>\n",
              "      <td>0</td>\n",
              "      <td>0</td>\n",
              "      <td>0</td>\n",
              "      <td>1</td>\n",
              "      <td>0</td>\n",
              "      <td>1</td>\n",
              "      <td>0</td>\n",
              "    </tr>\n",
              "    <tr>\n",
              "      <th>1</th>\n",
              "      <td>22</td>\n",
              "      <td>1</td>\n",
              "      <td>2</td>\n",
              "      <td>5951</td>\n",
              "      <td>48</td>\n",
              "      <td>2</td>\n",
              "      <td>1</td>\n",
              "      <td>1</td>\n",
              "      <td>0</td>\n",
              "      <td>0</td>\n",
              "      <td>0</td>\n",
              "      <td>1</td>\n",
              "      <td>1</td>\n",
              "      <td>0</td>\n",
              "      <td>1</td>\n",
              "      <td>0</td>\n",
              "      <td>0</td>\n",
              "      <td>0</td>\n",
              "      <td>0</td>\n",
              "      <td>1</td>\n",
              "      <td>0</td>\n",
              "      <td>1</td>\n",
              "      <td>0</td>\n",
              "      <td>0</td>\n",
              "      <td>1</td>\n",
              "      <td>0</td>\n",
              "      <td>0</td>\n",
              "      <td>1</td>\n",
              "      <td>0</td>\n",
              "      <td>0</td>\n",
              "      <td>0</td>\n",
              "      <td>0</td>\n",
              "      <td>1</td>\n",
              "      <td>0</td>\n",
              "      <td>0</td>\n",
              "      <td>0</td>\n",
              "      <td>1</td>\n",
              "      <td>0</td>\n",
              "      <td>0</td>\n",
              "      <td>0</td>\n",
              "      <td>0</td>\n",
              "      <td>0</td>\n",
              "      <td>1</td>\n",
              "      <td>0</td>\n",
              "      <td>0</td>\n",
              "      <td>0</td>\n",
              "      <td>0</td>\n",
              "      <td>1</td>\n",
              "      <td>0</td>\n",
              "      <td>1</td>\n",
              "      <td>0</td>\n",
              "    </tr>\n",
              "    <tr>\n",
              "      <th>2</th>\n",
              "      <td>49</td>\n",
              "      <td>2</td>\n",
              "      <td>3</td>\n",
              "      <td>2096</td>\n",
              "      <td>12</td>\n",
              "      <td>2</td>\n",
              "      <td>1</td>\n",
              "      <td>0</td>\n",
              "      <td>1</td>\n",
              "      <td>0</td>\n",
              "      <td>0</td>\n",
              "      <td>1</td>\n",
              "      <td>1</td>\n",
              "      <td>0</td>\n",
              "      <td>1</td>\n",
              "      <td>0</td>\n",
              "      <td>0</td>\n",
              "      <td>0</td>\n",
              "      <td>1</td>\n",
              "      <td>0</td>\n",
              "      <td>0</td>\n",
              "      <td>1</td>\n",
              "      <td>0</td>\n",
              "      <td>0</td>\n",
              "      <td>0</td>\n",
              "      <td>1</td>\n",
              "      <td>0</td>\n",
              "      <td>1</td>\n",
              "      <td>0</td>\n",
              "      <td>0</td>\n",
              "      <td>0</td>\n",
              "      <td>0</td>\n",
              "      <td>0</td>\n",
              "      <td>0</td>\n",
              "      <td>1</td>\n",
              "      <td>0</td>\n",
              "      <td>0</td>\n",
              "      <td>0</td>\n",
              "      <td>1</td>\n",
              "      <td>0</td>\n",
              "      <td>0</td>\n",
              "      <td>0</td>\n",
              "      <td>0</td>\n",
              "      <td>0</td>\n",
              "      <td>0</td>\n",
              "      <td>0</td>\n",
              "      <td>0</td>\n",
              "      <td>1</td>\n",
              "      <td>0</td>\n",
              "      <td>1</td>\n",
              "      <td>0</td>\n",
              "    </tr>\n",
              "    <tr>\n",
              "      <th>3</th>\n",
              "      <td>45</td>\n",
              "      <td>2</td>\n",
              "      <td>4</td>\n",
              "      <td>7882</td>\n",
              "      <td>42</td>\n",
              "      <td>2</td>\n",
              "      <td>1</td>\n",
              "      <td>0</td>\n",
              "      <td>1</td>\n",
              "      <td>0</td>\n",
              "      <td>0</td>\n",
              "      <td>0</td>\n",
              "      <td>1</td>\n",
              "      <td>0</td>\n",
              "      <td>0</td>\n",
              "      <td>1</td>\n",
              "      <td>0</td>\n",
              "      <td>0</td>\n",
              "      <td>0</td>\n",
              "      <td>1</td>\n",
              "      <td>0</td>\n",
              "      <td>1</td>\n",
              "      <td>0</td>\n",
              "      <td>0</td>\n",
              "      <td>0</td>\n",
              "      <td>1</td>\n",
              "      <td>0</td>\n",
              "      <td>1</td>\n",
              "      <td>0</td>\n",
              "      <td>0</td>\n",
              "      <td>0</td>\n",
              "      <td>0</td>\n",
              "      <td>0</td>\n",
              "      <td>0</td>\n",
              "      <td>0</td>\n",
              "      <td>0</td>\n",
              "      <td>1</td>\n",
              "      <td>0</td>\n",
              "      <td>0</td>\n",
              "      <td>0</td>\n",
              "      <td>0</td>\n",
              "      <td>1</td>\n",
              "      <td>0</td>\n",
              "      <td>0</td>\n",
              "      <td>0</td>\n",
              "      <td>0</td>\n",
              "      <td>0</td>\n",
              "      <td>0</td>\n",
              "      <td>1</td>\n",
              "      <td>1</td>\n",
              "      <td>0</td>\n",
              "    </tr>\n",
              "    <tr>\n",
              "      <th>4</th>\n",
              "      <td>53</td>\n",
              "      <td>2</td>\n",
              "      <td>4</td>\n",
              "      <td>4870</td>\n",
              "      <td>24</td>\n",
              "      <td>3</td>\n",
              "      <td>2</td>\n",
              "      <td>0</td>\n",
              "      <td>1</td>\n",
              "      <td>0</td>\n",
              "      <td>0</td>\n",
              "      <td>0</td>\n",
              "      <td>1</td>\n",
              "      <td>0</td>\n",
              "      <td>0</td>\n",
              "      <td>0</td>\n",
              "      <td>0</td>\n",
              "      <td>0</td>\n",
              "      <td>0</td>\n",
              "      <td>1</td>\n",
              "      <td>0</td>\n",
              "      <td>1</td>\n",
              "      <td>0</td>\n",
              "      <td>0</td>\n",
              "      <td>1</td>\n",
              "      <td>0</td>\n",
              "      <td>0</td>\n",
              "      <td>1</td>\n",
              "      <td>0</td>\n",
              "      <td>0</td>\n",
              "      <td>0</td>\n",
              "      <td>0</td>\n",
              "      <td>0</td>\n",
              "      <td>0</td>\n",
              "      <td>0</td>\n",
              "      <td>0</td>\n",
              "      <td>0</td>\n",
              "      <td>1</td>\n",
              "      <td>0</td>\n",
              "      <td>1</td>\n",
              "      <td>0</td>\n",
              "      <td>0</td>\n",
              "      <td>0</td>\n",
              "      <td>0</td>\n",
              "      <td>0</td>\n",
              "      <td>0</td>\n",
              "      <td>0</td>\n",
              "      <td>1</td>\n",
              "      <td>0</td>\n",
              "      <td>1</td>\n",
              "      <td>1</td>\n",
              "    </tr>\n",
              "  </tbody>\n",
              "</table>\n",
              "</div>"
            ],
            "text/plain": [
              "   Age  Dependents  ...  Other_Inst_Plans_A143  Default_On_Payment\n",
              "0   67           1  ...                      1                   0\n",
              "1   22           1  ...                      1                   0\n",
              "2   49           2  ...                      1                   0\n",
              "3   45           2  ...                      1                   0\n",
              "4   53           2  ...                      1                   1\n",
              "\n",
              "[5 rows x 51 columns]"
            ]
          },
          "metadata": {
            "tags": []
          },
          "execution_count": 141
        }
      ]
    },
    {
      "cell_type": "markdown",
      "metadata": {
        "id": "yg05Hc8pJqNm",
        "colab_type": "text"
      },
      "source": [
        "### How Balanced is our data?"
      ]
    },
    {
      "cell_type": "markdown",
      "metadata": {
        "id": "sPj77UizT2Ei",
        "colab_type": "text"
      },
      "source": [
        "Let's check the ratio of defaulters to non-defaulters in the data set. "
      ]
    },
    {
      "cell_type": "code",
      "metadata": {
        "id": "x7kilMc3Sbip",
        "colab_type": "code",
        "outputId": "3c4d7371-9b2a-4d57-bd91-38932237f5ae",
        "colab": {
          "base_uri": "https://localhost:8080/",
          "height": 67
        }
      },
      "source": [
        "loan_df.Default_On_Payment.value_counts(normalize=True)"
      ],
      "execution_count": 142,
      "outputs": [
        {
          "output_type": "execute_result",
          "data": {
            "text/plain": [
              "0    0.701\n",
              "1    0.299\n",
              "Name: Default_On_Payment, dtype: float64"
            ]
          },
          "metadata": {
            "tags": []
          },
          "execution_count": 142
        }
      ]
    },
    {
      "cell_type": "markdown",
      "metadata": {
        "id": "rPdk1vFVUAQv",
        "colab_type": "text"
      },
      "source": [
        "70% of the data set customers do not default and only 30% do.<br>\n",
        "So we have an imbalanced data set.\n",
        "\n",
        "An imbalanced Data set is one in which the elements within it are not evenly or fairly arranged.<br>\n",
        "Just as in this case, we have 70% of elements in Non-default-class and 30% in Default-class."
      ]
    },
    {
      "cell_type": "markdown",
      "metadata": {
        "id": "Yf78rGqSJwMy",
        "colab_type": "text"
      },
      "source": [
        "let's visualize that"
      ]
    },
    {
      "cell_type": "code",
      "metadata": {
        "id": "9NpCaEPkEuIq",
        "colab_type": "code",
        "outputId": "70908d97-d2ab-4728-9ed5-ee71bde03c3c",
        "colab": {
          "base_uri": "https://localhost:8080/",
          "height": 527
        }
      },
      "source": [
        "plt.figure(figsize=(8, 8))\n",
        "\n",
        "x = loan_df_dummies.Default_On_Payment.replace(to_replace=[0, 1], value=['Non-Defaulters','Defaulters'])\n",
        "sns.countplot(x)\n",
        "plt.title('Count of Defaulters and Non-Defaulters')\n",
        "plt.show()"
      ],
      "execution_count": 143,
      "outputs": [
        {
          "output_type": "display_data",
          "data": {
            "image/png": "[encoded data removed]",
            "text/plain": [
              "<Figure size 576x576 with 1 Axes>"
            ]
          },
          "metadata": {
            "tags": []
          }
        }
      ]
    },
    {
      "cell_type": "markdown",
      "metadata": {
        "id": "U9PTMVbOYXeG",
        "colab_type": "text"
      },
      "source": [
        "Let's see the correlation of variables in our data set"
      ]
    },
    {
      "cell_type": "code",
      "metadata": {
        "id": "Yi67iNG-YdOe",
        "colab_type": "code",
        "outputId": "975c6293-31a1-47f8-c072-88aed789c4dd",
        "colab": {
          "base_uri": "https://localhost:8080/",
          "height": 630
        }
      },
      "source": [
        "corr_data = loan_df.corr()\n",
        "\n",
        "# Lets visualize the correlation using a heat map from SNS\n",
        "plt.figure(figsize=(12,8))\n",
        "sns.heatmap(corr_data, annot=True, square=True, linewidths=2.5)\n",
        "plt.show()"
      ],
      "execution_count": 144,
      "outputs": [
        {
          "output_type": "display_data",
          "data": {
            "image/png": "[encoded data removed]",
            "text/plain": [
              "<Figure size 864x576 with 2 Axes>"
            ]
          },
          "metadata": {
            "tags": []
          }
        }
      ]
    },
    {
      "cell_type": "markdown",
      "metadata": {
        "id": "lb1FziTqMZLv",
        "colab_type": "text"
      },
      "source": [
        "### Now Let's balance The Data set by Over-Sampling"
      ]
    },
    {
      "cell_type": "markdown",
      "metadata": {
        "id": "K4p7012ekgZe",
        "colab_type": "text"
      },
      "source": [
        "We need to balance The Data set because in an imbalanced Data set Accuracy is not a reliable metric for the real performance of a classifier, because it will yield misleading results (that is, when the numbers of observations in different classes vary greatly).<br>\n",
        "For example, 70% non-defaulters and 30% defaulters, a particular classifier might classify all or most of the observations as Non-defaulters.<br> \n",
        "This is due to the classifier or model having a high recognition rate (sensitivity) for the dominant class.<br>\n",
        "[F1 score](https://scikit-learn.org/stable/modules/generated/sklearn.metrics.f1_score.html) too, would even be more unreliable in an imbalanced Data set.\n",
        "See [link](https://en.wikipedia.org/wiki/Confusion_matrix)"
      ]
    },
    {
      "cell_type": "code",
      "metadata": {
        "id": "brjQcpQKMssM",
        "colab_type": "code",
        "colab": {}
      },
      "source": [
        "from imblearn.over_sampling import SMOTE\n",
        "sm = SMOTE(sampling_strategy='minority', random_state=19, k_neighbors=5)"
      ],
      "execution_count": 0,
      "outputs": []
    },
    {
      "cell_type": "code",
      "metadata": {
        "id": "2RcwKxwtPr4R",
        "colab_type": "code",
        "colab": {
          "base_uri": "https://localhost:8080/",
          "height": 70
        },
        "outputId": "8a16d065-25f4-41e2-99bd-2a8284907212"
      },
      "source": [
        "over_sampled_features, over_sampled_target = sm.fit_resample(loan_df_dummies.drop('Default_On_Payment', axis=1), loan_df_dummies.Default_On_Payment)"
      ],
      "execution_count": 146,
      "outputs": [
        {
          "output_type": "stream",
          "text": [
            "/usr/local/lib/python3.6/dist-packages/sklearn/utils/deprecation.py:87: FutureWarning: Function safe_indexing is deprecated; safe_indexing is deprecated in version 0.22 and will be removed in version 0.24.\n",
            "  warnings.warn(msg, category=FutureWarning)\n"
          ],
          "name": "stderr"
        }
      ]
    },
    {
      "cell_type": "code",
      "metadata": {
        "id": "CekWebPwSnXd",
        "colab_type": "code",
        "outputId": "c3a6f047-d2b3-48cc-e280-b1d104362e49",
        "colab": {
          "base_uri": "https://localhost:8080/",
          "height": 50
        }
      },
      "source": [
        "print('Shape of resampled feature set is:',over_sampled_features.shape)\n",
        "print('Shape of resampled target data is:',over_sampled_target.shape)"
      ],
      "execution_count": 147,
      "outputs": [
        {
          "output_type": "stream",
          "text": [
            "Shape of resampled feature set is: (7010, 50)\n",
            "Shape of resampled target data is: (7010,)\n"
          ],
          "name": "stdout"
        }
      ]
    },
    {
      "cell_type": "markdown",
      "metadata": {
        "id": "clEjDC-ITuKH",
        "colab_type": "text"
      },
      "source": [
        "Let's concat the features and target back into one data frame"
      ]
    },
    {
      "cell_type": "code",
      "metadata": {
        "id": "ze6BEXjBZVpE",
        "colab_type": "code",
        "outputId": "03d65f3a-2c4a-48fe-c1ee-302f54b46a4d",
        "colab": {
          "base_uri": "https://localhost:8080/",
          "height": 126
        }
      },
      "source": [
        "over_sampled_features = pd.DataFrame(over_sampled_features)\n",
        "\n",
        "over_sampled_features['x'] = over_sampled_target\n",
        "\n",
        "resampled_data = over_sampled_features\n",
        "\n",
        "resampled_data.head(2)"
      ],
      "execution_count": 148,
      "outputs": [
        {
          "output_type": "execute_result",
          "data": {
            "text/html": [
              "<div>\n",
              "<style scoped>\n",
              "    .dataframe tbody tr th:only-of-type {\n",
              "        vertical-align: middle;\n",
              "    }\n",
              "\n",
              "    .dataframe tbody tr th {\n",
              "        vertical-align: top;\n",
              "    }\n",
              "\n",
              "    .dataframe thead th {\n",
              "        text-align: right;\n",
              "    }\n",
              "</style>\n",
              "<table border=\"1\" class=\"dataframe\">\n",
              "  <thead>\n",
              "    <tr style=\"text-align: right;\">\n",
              "      <th></th>\n",
              "      <th>0</th>\n",
              "      <th>1</th>\n",
              "      <th>2</th>\n",
              "      <th>3</th>\n",
              "      <th>4</th>\n",
              "      <th>5</th>\n",
              "      <th>6</th>\n",
              "      <th>7</th>\n",
              "      <th>8</th>\n",
              "      <th>9</th>\n",
              "      <th>10</th>\n",
              "      <th>11</th>\n",
              "      <th>12</th>\n",
              "      <th>13</th>\n",
              "      <th>14</th>\n",
              "      <th>15</th>\n",
              "      <th>16</th>\n",
              "      <th>17</th>\n",
              "      <th>18</th>\n",
              "      <th>19</th>\n",
              "      <th>20</th>\n",
              "      <th>21</th>\n",
              "      <th>22</th>\n",
              "      <th>23</th>\n",
              "      <th>24</th>\n",
              "      <th>25</th>\n",
              "      <th>26</th>\n",
              "      <th>27</th>\n",
              "      <th>28</th>\n",
              "      <th>29</th>\n",
              "      <th>30</th>\n",
              "      <th>31</th>\n",
              "      <th>32</th>\n",
              "      <th>33</th>\n",
              "      <th>34</th>\n",
              "      <th>35</th>\n",
              "      <th>36</th>\n",
              "      <th>37</th>\n",
              "      <th>38</th>\n",
              "      <th>39</th>\n",
              "      <th>40</th>\n",
              "      <th>41</th>\n",
              "      <th>42</th>\n",
              "      <th>43</th>\n",
              "      <th>44</th>\n",
              "      <th>45</th>\n",
              "      <th>46</th>\n",
              "      <th>47</th>\n",
              "      <th>48</th>\n",
              "      <th>49</th>\n",
              "      <th>x</th>\n",
              "    </tr>\n",
              "  </thead>\n",
              "  <tbody>\n",
              "    <tr>\n",
              "      <th>0</th>\n",
              "      <td>67</td>\n",
              "      <td>1</td>\n",
              "      <td>4</td>\n",
              "      <td>1169</td>\n",
              "      <td>6</td>\n",
              "      <td>4</td>\n",
              "      <td>2</td>\n",
              "      <td>0</td>\n",
              "      <td>1</td>\n",
              "      <td>0</td>\n",
              "      <td>0</td>\n",
              "      <td>1</td>\n",
              "      <td>0</td>\n",
              "      <td>1</td>\n",
              "      <td>1</td>\n",
              "      <td>0</td>\n",
              "      <td>0</td>\n",
              "      <td>0</td>\n",
              "      <td>0</td>\n",
              "      <td>1</td>\n",
              "      <td>0</td>\n",
              "      <td>1</td>\n",
              "      <td>0</td>\n",
              "      <td>0</td>\n",
              "      <td>0</td>\n",
              "      <td>0</td>\n",
              "      <td>1</td>\n",
              "      <td>0</td>\n",
              "      <td>0</td>\n",
              "      <td>0</td>\n",
              "      <td>0</td>\n",
              "      <td>1</td>\n",
              "      <td>0</td>\n",
              "      <td>0</td>\n",
              "      <td>0</td>\n",
              "      <td>0</td>\n",
              "      <td>0</td>\n",
              "      <td>0</td>\n",
              "      <td>1</td>\n",
              "      <td>0</td>\n",
              "      <td>0</td>\n",
              "      <td>0</td>\n",
              "      <td>1</td>\n",
              "      <td>0</td>\n",
              "      <td>0</td>\n",
              "      <td>0</td>\n",
              "      <td>0</td>\n",
              "      <td>1</td>\n",
              "      <td>0</td>\n",
              "      <td>1</td>\n",
              "      <td>0</td>\n",
              "    </tr>\n",
              "    <tr>\n",
              "      <th>1</th>\n",
              "      <td>22</td>\n",
              "      <td>1</td>\n",
              "      <td>2</td>\n",
              "      <td>5951</td>\n",
              "      <td>48</td>\n",
              "      <td>2</td>\n",
              "      <td>1</td>\n",
              "      <td>1</td>\n",
              "      <td>0</td>\n",
              "      <td>0</td>\n",
              "      <td>0</td>\n",
              "      <td>1</td>\n",
              "      <td>1</td>\n",
              "      <td>0</td>\n",
              "      <td>1</td>\n",
              "      <td>0</td>\n",
              "      <td>0</td>\n",
              "      <td>0</td>\n",
              "      <td>0</td>\n",
              "      <td>1</td>\n",
              "      <td>0</td>\n",
              "      <td>1</td>\n",
              "      <td>0</td>\n",
              "      <td>0</td>\n",
              "      <td>1</td>\n",
              "      <td>0</td>\n",
              "      <td>0</td>\n",
              "      <td>1</td>\n",
              "      <td>0</td>\n",
              "      <td>0</td>\n",
              "      <td>0</td>\n",
              "      <td>0</td>\n",
              "      <td>1</td>\n",
              "      <td>0</td>\n",
              "      <td>0</td>\n",
              "      <td>0</td>\n",
              "      <td>1</td>\n",
              "      <td>0</td>\n",
              "      <td>0</td>\n",
              "      <td>0</td>\n",
              "      <td>0</td>\n",
              "      <td>0</td>\n",
              "      <td>1</td>\n",
              "      <td>0</td>\n",
              "      <td>0</td>\n",
              "      <td>0</td>\n",
              "      <td>0</td>\n",
              "      <td>1</td>\n",
              "      <td>0</td>\n",
              "      <td>1</td>\n",
              "      <td>0</td>\n",
              "    </tr>\n",
              "  </tbody>\n",
              "</table>\n",
              "</div>"
            ],
            "text/plain": [
              "    0  1  2     3   4  5  6  7  8  9  ...  41  42  43  44  45  46  47  48  49  x\n",
              "0  67  1  4  1169   6  4  2  0  1  0  ...   0   1   0   0   0   0   1   0   1  0\n",
              "1  22  1  2  5951  48  2  1  1  0  0  ...   0   1   0   0   0   0   1   0   1  0\n",
              "\n",
              "[2 rows x 51 columns]"
            ]
          },
          "metadata": {
            "tags": []
          },
          "execution_count": 148
        }
      ]
    },
    {
      "cell_type": "markdown",
      "metadata": {
        "id": "60luVcdQk6Q4",
        "colab_type": "text"
      },
      "source": [
        "And let's input the column headers"
      ]
    },
    {
      "cell_type": "code",
      "metadata": {
        "id": "61T9Ml-dbaSo",
        "colab_type": "code",
        "outputId": "d9215bb7-ce09-47f7-e245-a46e6da0a888",
        "colab": {
          "base_uri": "https://localhost:8080/",
          "height": 215
        }
      },
      "source": [
        "resampled_data.columns = loan_df_dummies.columns\n",
        "\n",
        "resampled_data.head()"
      ],
      "execution_count": 149,
      "outputs": [
        {
          "output_type": "execute_result",
          "data": {
            "text/html": [
              "<div>\n",
              "<style scoped>\n",
              "    .dataframe tbody tr th:only-of-type {\n",
              "        vertical-align: middle;\n",
              "    }\n",
              "\n",
              "    .dataframe tbody tr th {\n",
              "        vertical-align: top;\n",
              "    }\n",
              "\n",
              "    .dataframe thead th {\n",
              "        text-align: right;\n",
              "    }\n",
              "</style>\n",
              "<table border=\"1\" class=\"dataframe\">\n",
              "  <thead>\n",
              "    <tr style=\"text-align: right;\">\n",
              "      <th></th>\n",
              "      <th>Age</th>\n",
              "      <th>Dependents</th>\n",
              "      <th>Current_Address_Yrs</th>\n",
              "      <th>Credit_Amount</th>\n",
              "      <th>Duration_in_Months</th>\n",
              "      <th>Inst_Rt_Income</th>\n",
              "      <th>Num_CC</th>\n",
              "      <th>Marital_Status_Gender_A92</th>\n",
              "      <th>Marital_Status_Gender_A93</th>\n",
              "      <th>Marital_Status_Gender_A94</th>\n",
              "      <th>Housing_A151</th>\n",
              "      <th>Housing_A152</th>\n",
              "      <th>Telephone_A191</th>\n",
              "      <th>Telephone_A192</th>\n",
              "      <th>Property_A121</th>\n",
              "      <th>Property_A122</th>\n",
              "      <th>Property_A123</th>\n",
              "      <th>Job_A171</th>\n",
              "      <th>Job_A172</th>\n",
              "      <th>Job_A173</th>\n",
              "      <th>Job_A174</th>\n",
              "      <th>Foreign_Worker_A201</th>\n",
              "      <th>Foreign_Worker_A202</th>\n",
              "      <th>Years_At_Present_Employment_A71</th>\n",
              "      <th>Years_At_Present_Employment_A73</th>\n",
              "      <th>Years_At_Present_Employment_A74</th>\n",
              "      <th>Years_At_Present_Employment_A75</th>\n",
              "      <th>Savings_Acc_A61</th>\n",
              "      <th>Savings_Acc_A62</th>\n",
              "      <th>Savings_Acc_A63</th>\n",
              "      <th>Savings_Acc_A64</th>\n",
              "      <th>Savings_Acc_A65</th>\n",
              "      <th>Status_Checking_Acc_A12</th>\n",
              "      <th>Status_Checking_Acc_A13</th>\n",
              "      <th>Status_Checking_Acc_A14</th>\n",
              "      <th>Credit_History_A30</th>\n",
              "      <th>Credit_History_A32</th>\n",
              "      <th>Credit_History_A33</th>\n",
              "      <th>Credit_History_A34</th>\n",
              "      <th>Purposre_Credit_Taken_A40</th>\n",
              "      <th>Purposre_Credit_Taken_A41</th>\n",
              "      <th>Purposre_Credit_Taken_A42</th>\n",
              "      <th>Purposre_Credit_Taken_A43</th>\n",
              "      <th>Purposre_Credit_Taken_A44</th>\n",
              "      <th>Purposre_Credit_Taken_A45</th>\n",
              "      <th>Purposre_Credit_Taken_A48</th>\n",
              "      <th>Purposre_Credit_Taken_A49</th>\n",
              "      <th>Other_Debtors_Guarantors_A101</th>\n",
              "      <th>Other_Debtors_Guarantors_A103</th>\n",
              "      <th>Other_Inst_Plans_A143</th>\n",
              "      <th>Default_On_Payment</th>\n",
              "    </tr>\n",
              "  </thead>\n",
              "  <tbody>\n",
              "    <tr>\n",
              "      <th>0</th>\n",
              "      <td>67</td>\n",
              "      <td>1</td>\n",
              "      <td>4</td>\n",
              "      <td>1169</td>\n",
              "      <td>6</td>\n",
              "      <td>4</td>\n",
              "      <td>2</td>\n",
              "      <td>0</td>\n",
              "      <td>1</td>\n",
              "      <td>0</td>\n",
              "      <td>0</td>\n",
              "      <td>1</td>\n",
              "      <td>0</td>\n",
              "      <td>1</td>\n",
              "      <td>1</td>\n",
              "      <td>0</td>\n",
              "      <td>0</td>\n",
              "      <td>0</td>\n",
              "      <td>0</td>\n",
              "      <td>1</td>\n",
              "      <td>0</td>\n",
              "      <td>1</td>\n",
              "      <td>0</td>\n",
              "      <td>0</td>\n",
              "      <td>0</td>\n",
              "      <td>0</td>\n",
              "      <td>1</td>\n",
              "      <td>0</td>\n",
              "      <td>0</td>\n",
              "      <td>0</td>\n",
              "      <td>0</td>\n",
              "      <td>1</td>\n",
              "      <td>0</td>\n",
              "      <td>0</td>\n",
              "      <td>0</td>\n",
              "      <td>0</td>\n",
              "      <td>0</td>\n",
              "      <td>0</td>\n",
              "      <td>1</td>\n",
              "      <td>0</td>\n",
              "      <td>0</td>\n",
              "      <td>0</td>\n",
              "      <td>1</td>\n",
              "      <td>0</td>\n",
              "      <td>0</td>\n",
              "      <td>0</td>\n",
              "      <td>0</td>\n",
              "      <td>1</td>\n",
              "      <td>0</td>\n",
              "      <td>1</td>\n",
              "      <td>0</td>\n",
              "    </tr>\n",
              "    <tr>\n",
              "      <th>1</th>\n",
              "      <td>22</td>\n",
              "      <td>1</td>\n",
              "      <td>2</td>\n",
              "      <td>5951</td>\n",
              "      <td>48</td>\n",
              "      <td>2</td>\n",
              "      <td>1</td>\n",
              "      <td>1</td>\n",
              "      <td>0</td>\n",
              "      <td>0</td>\n",
              "      <td>0</td>\n",
              "      <td>1</td>\n",
              "      <td>1</td>\n",
              "      <td>0</td>\n",
              "      <td>1</td>\n",
              "      <td>0</td>\n",
              "      <td>0</td>\n",
              "      <td>0</td>\n",
              "      <td>0</td>\n",
              "      <td>1</td>\n",
              "      <td>0</td>\n",
              "      <td>1</td>\n",
              "      <td>0</td>\n",
              "      <td>0</td>\n",
              "      <td>1</td>\n",
              "      <td>0</td>\n",
              "      <td>0</td>\n",
              "      <td>1</td>\n",
              "      <td>0</td>\n",
              "      <td>0</td>\n",
              "      <td>0</td>\n",
              "      <td>0</td>\n",
              "      <td>1</td>\n",
              "      <td>0</td>\n",
              "      <td>0</td>\n",
              "      <td>0</td>\n",
              "      <td>1</td>\n",
              "      <td>0</td>\n",
              "      <td>0</td>\n",
              "      <td>0</td>\n",
              "      <td>0</td>\n",
              "      <td>0</td>\n",
              "      <td>1</td>\n",
              "      <td>0</td>\n",
              "      <td>0</td>\n",
              "      <td>0</td>\n",
              "      <td>0</td>\n",
              "      <td>1</td>\n",
              "      <td>0</td>\n",
              "      <td>1</td>\n",
              "      <td>0</td>\n",
              "    </tr>\n",
              "    <tr>\n",
              "      <th>2</th>\n",
              "      <td>49</td>\n",
              "      <td>2</td>\n",
              "      <td>3</td>\n",
              "      <td>2096</td>\n",
              "      <td>12</td>\n",
              "      <td>2</td>\n",
              "      <td>1</td>\n",
              "      <td>0</td>\n",
              "      <td>1</td>\n",
              "      <td>0</td>\n",
              "      <td>0</td>\n",
              "      <td>1</td>\n",
              "      <td>1</td>\n",
              "      <td>0</td>\n",
              "      <td>1</td>\n",
              "      <td>0</td>\n",
              "      <td>0</td>\n",
              "      <td>0</td>\n",
              "      <td>1</td>\n",
              "      <td>0</td>\n",
              "      <td>0</td>\n",
              "      <td>1</td>\n",
              "      <td>0</td>\n",
              "      <td>0</td>\n",
              "      <td>0</td>\n",
              "      <td>1</td>\n",
              "      <td>0</td>\n",
              "      <td>1</td>\n",
              "      <td>0</td>\n",
              "      <td>0</td>\n",
              "      <td>0</td>\n",
              "      <td>0</td>\n",
              "      <td>0</td>\n",
              "      <td>0</td>\n",
              "      <td>1</td>\n",
              "      <td>0</td>\n",
              "      <td>0</td>\n",
              "      <td>0</td>\n",
              "      <td>1</td>\n",
              "      <td>0</td>\n",
              "      <td>0</td>\n",
              "      <td>0</td>\n",
              "      <td>0</td>\n",
              "      <td>0</td>\n",
              "      <td>0</td>\n",
              "      <td>0</td>\n",
              "      <td>0</td>\n",
              "      <td>1</td>\n",
              "      <td>0</td>\n",
              "      <td>1</td>\n",
              "      <td>0</td>\n",
              "    </tr>\n",
              "    <tr>\n",
              "      <th>3</th>\n",
              "      <td>45</td>\n",
              "      <td>2</td>\n",
              "      <td>4</td>\n",
              "      <td>7882</td>\n",
              "      <td>42</td>\n",
              "      <td>2</td>\n",
              "      <td>1</td>\n",
              "      <td>0</td>\n",
              "      <td>1</td>\n",
              "      <td>0</td>\n",
              "      <td>0</td>\n",
              "      <td>0</td>\n",
              "      <td>1</td>\n",
              "      <td>0</td>\n",
              "      <td>0</td>\n",
              "      <td>1</td>\n",
              "      <td>0</td>\n",
              "      <td>0</td>\n",
              "      <td>0</td>\n",
              "      <td>1</td>\n",
              "      <td>0</td>\n",
              "      <td>1</td>\n",
              "      <td>0</td>\n",
              "      <td>0</td>\n",
              "      <td>0</td>\n",
              "      <td>1</td>\n",
              "      <td>0</td>\n",
              "      <td>1</td>\n",
              "      <td>0</td>\n",
              "      <td>0</td>\n",
              "      <td>0</td>\n",
              "      <td>0</td>\n",
              "      <td>0</td>\n",
              "      <td>0</td>\n",
              "      <td>0</td>\n",
              "      <td>0</td>\n",
              "      <td>1</td>\n",
              "      <td>0</td>\n",
              "      <td>0</td>\n",
              "      <td>0</td>\n",
              "      <td>0</td>\n",
              "      <td>1</td>\n",
              "      <td>0</td>\n",
              "      <td>0</td>\n",
              "      <td>0</td>\n",
              "      <td>0</td>\n",
              "      <td>0</td>\n",
              "      <td>0</td>\n",
              "      <td>1</td>\n",
              "      <td>1</td>\n",
              "      <td>0</td>\n",
              "    </tr>\n",
              "    <tr>\n",
              "      <th>4</th>\n",
              "      <td>53</td>\n",
              "      <td>2</td>\n",
              "      <td>4</td>\n",
              "      <td>4870</td>\n",
              "      <td>24</td>\n",
              "      <td>3</td>\n",
              "      <td>2</td>\n",
              "      <td>0</td>\n",
              "      <td>1</td>\n",
              "      <td>0</td>\n",
              "      <td>0</td>\n",
              "      <td>0</td>\n",
              "      <td>1</td>\n",
              "      <td>0</td>\n",
              "      <td>0</td>\n",
              "      <td>0</td>\n",
              "      <td>0</td>\n",
              "      <td>0</td>\n",
              "      <td>0</td>\n",
              "      <td>1</td>\n",
              "      <td>0</td>\n",
              "      <td>1</td>\n",
              "      <td>0</td>\n",
              "      <td>0</td>\n",
              "      <td>1</td>\n",
              "      <td>0</td>\n",
              "      <td>0</td>\n",
              "      <td>1</td>\n",
              "      <td>0</td>\n",
              "      <td>0</td>\n",
              "      <td>0</td>\n",
              "      <td>0</td>\n",
              "      <td>0</td>\n",
              "      <td>0</td>\n",
              "      <td>0</td>\n",
              "      <td>0</td>\n",
              "      <td>0</td>\n",
              "      <td>1</td>\n",
              "      <td>0</td>\n",
              "      <td>1</td>\n",
              "      <td>0</td>\n",
              "      <td>0</td>\n",
              "      <td>0</td>\n",
              "      <td>0</td>\n",
              "      <td>0</td>\n",
              "      <td>0</td>\n",
              "      <td>0</td>\n",
              "      <td>1</td>\n",
              "      <td>0</td>\n",
              "      <td>1</td>\n",
              "      <td>1</td>\n",
              "    </tr>\n",
              "  </tbody>\n",
              "</table>\n",
              "</div>"
            ],
            "text/plain": [
              "   Age  Dependents  ...  Other_Inst_Plans_A143  Default_On_Payment\n",
              "0   67           1  ...                      1                   0\n",
              "1   22           1  ...                      1                   0\n",
              "2   49           2  ...                      1                   0\n",
              "3   45           2  ...                      1                   0\n",
              "4   53           2  ...                      1                   1\n",
              "\n",
              "[5 rows x 51 columns]"
            ]
          },
          "metadata": {
            "tags": []
          },
          "execution_count": 149
        }
      ]
    },
    {
      "cell_type": "markdown",
      "metadata": {
        "id": "Cm8zt0a8lWp2",
        "colab_type": "text"
      },
      "source": [
        "Let's revisualize the resampled target column that shows the number of Defaulters and Non-defaulters"
      ]
    },
    {
      "cell_type": "code",
      "metadata": {
        "id": "6fJTysgnizkX",
        "colab_type": "code",
        "outputId": "c1a0579f-bd5b-480f-918c-20788d9933a0",
        "colab": {
          "base_uri": "https://localhost:8080/",
          "height": 527
        }
      },
      "source": [
        "plt.figure(figsize=(8, 8))\n",
        "\n",
        "x = resampled_data.Default_On_Payment.replace(to_replace=[0, 1], value=['Non-Defaulters','Defaulters'])\n",
        "sns.countplot(x)\n",
        "plt.title('Count of Defaulters and Non-Defaulters- Balanced Data')\n",
        "plt.show()"
      ],
      "execution_count": 150,
      "outputs": [
        {
          "output_type": "display_data",
          "data": {
            "image/png": "[encoded data removed]",
            "text/plain": [
              "<Figure size 576x576 with 1 Axes>"
            ]
          },
          "metadata": {
            "tags": []
          }
        }
      ]
    },
    {
      "cell_type": "markdown",
      "metadata": {
        "id": "8eedcRMGiVYc",
        "colab_type": "text"
      },
      "source": [
        "## Splitting The Data set into Training, Validation and Testing sets\n",
        "\n",
        "\n",
        "We shall use 70% for training,  15% for validation and 15% reserved only for final testing "
      ]
    },
    {
      "cell_type": "markdown",
      "metadata": {
        "id": "6elWdwHIsePf",
        "colab_type": "text"
      },
      "source": [
        "**Let's define the Training sets**"
      ]
    },
    {
      "cell_type": "code",
      "metadata": {
        "id": "nDql7I1jsdAX",
        "colab_type": "code",
        "outputId": "9db36317-17c3-4531-a46c-07d45a7df900",
        "colab": {
          "base_uri": "https://localhost:8080/",
          "height": 50
        }
      },
      "source": [
        "X_train = resampled_data.sample(frac=0.7)\n",
        "\n",
        "y_train = X_train.Default_On_Payment\n",
        "\n",
        "X_train.drop('Default_On_Payment', axis=1, inplace=True)\n",
        "\n",
        "print('X_train shape is:', X_train.shape)\n",
        "print('y_train shape is:', y_train.shape)"
      ],
      "execution_count": 151,
      "outputs": [
        {
          "output_type": "stream",
          "text": [
            "X_train shape is: (4907, 50)\n",
            "y_train shape is: (4907,)\n"
          ],
          "name": "stdout"
        }
      ]
    },
    {
      "cell_type": "markdown",
      "metadata": {
        "id": "Qp5mlvzswg2J",
        "colab_type": "text"
      },
      "source": [
        "**Lets define the Validation set**"
      ]
    },
    {
      "cell_type": "code",
      "metadata": {
        "id": "7RSCRhKvwkya",
        "colab_type": "code",
        "outputId": "0f671e6b-ff24-44c1-a166-2c0c13fb84f3",
        "colab": {
          "base_uri": "https://localhost:8080/",
          "height": 173
        }
      },
      "source": [
        "Spare_set_index_df = resampled_data.iloc[list(set(resampled_data.index).difference(set(X_train.index))),]\n",
        "\n",
        "print(len(Spare_set_index_df))\n",
        "Spare_set_index_df.head(3)"
      ],
      "execution_count": 152,
      "outputs": [
        {
          "output_type": "stream",
          "text": [
            "2103\n"
          ],
          "name": "stdout"
        },
        {
          "output_type": "execute_result",
          "data": {
            "text/html": [
              "<div>\n",
              "<style scoped>\n",
              "    .dataframe tbody tr th:only-of-type {\n",
              "        vertical-align: middle;\n",
              "    }\n",
              "\n",
              "    .dataframe tbody tr th {\n",
              "        vertical-align: top;\n",
              "    }\n",
              "\n",
              "    .dataframe thead th {\n",
              "        text-align: right;\n",
              "    }\n",
              "</style>\n",
              "<table border=\"1\" class=\"dataframe\">\n",
              "  <thead>\n",
              "    <tr style=\"text-align: right;\">\n",
              "      <th></th>\n",
              "      <th>Age</th>\n",
              "      <th>Dependents</th>\n",
              "      <th>Current_Address_Yrs</th>\n",
              "      <th>Credit_Amount</th>\n",
              "      <th>Duration_in_Months</th>\n",
              "      <th>Inst_Rt_Income</th>\n",
              "      <th>Num_CC</th>\n",
              "      <th>Marital_Status_Gender_A92</th>\n",
              "      <th>Marital_Status_Gender_A93</th>\n",
              "      <th>Marital_Status_Gender_A94</th>\n",
              "      <th>Housing_A151</th>\n",
              "      <th>Housing_A152</th>\n",
              "      <th>Telephone_A191</th>\n",
              "      <th>Telephone_A192</th>\n",
              "      <th>Property_A121</th>\n",
              "      <th>Property_A122</th>\n",
              "      <th>Property_A123</th>\n",
              "      <th>Job_A171</th>\n",
              "      <th>Job_A172</th>\n",
              "      <th>Job_A173</th>\n",
              "      <th>Job_A174</th>\n",
              "      <th>Foreign_Worker_A201</th>\n",
              "      <th>Foreign_Worker_A202</th>\n",
              "      <th>Years_At_Present_Employment_A71</th>\n",
              "      <th>Years_At_Present_Employment_A73</th>\n",
              "      <th>Years_At_Present_Employment_A74</th>\n",
              "      <th>Years_At_Present_Employment_A75</th>\n",
              "      <th>Savings_Acc_A61</th>\n",
              "      <th>Savings_Acc_A62</th>\n",
              "      <th>Savings_Acc_A63</th>\n",
              "      <th>Savings_Acc_A64</th>\n",
              "      <th>Savings_Acc_A65</th>\n",
              "      <th>Status_Checking_Acc_A12</th>\n",
              "      <th>Status_Checking_Acc_A13</th>\n",
              "      <th>Status_Checking_Acc_A14</th>\n",
              "      <th>Credit_History_A30</th>\n",
              "      <th>Credit_History_A32</th>\n",
              "      <th>Credit_History_A33</th>\n",
              "      <th>Credit_History_A34</th>\n",
              "      <th>Purposre_Credit_Taken_A40</th>\n",
              "      <th>Purposre_Credit_Taken_A41</th>\n",
              "      <th>Purposre_Credit_Taken_A42</th>\n",
              "      <th>Purposre_Credit_Taken_A43</th>\n",
              "      <th>Purposre_Credit_Taken_A44</th>\n",
              "      <th>Purposre_Credit_Taken_A45</th>\n",
              "      <th>Purposre_Credit_Taken_A48</th>\n",
              "      <th>Purposre_Credit_Taken_A49</th>\n",
              "      <th>Other_Debtors_Guarantors_A101</th>\n",
              "      <th>Other_Debtors_Guarantors_A103</th>\n",
              "      <th>Other_Inst_Plans_A143</th>\n",
              "      <th>Default_On_Payment</th>\n",
              "    </tr>\n",
              "  </thead>\n",
              "  <tbody>\n",
              "    <tr>\n",
              "      <th>0</th>\n",
              "      <td>67</td>\n",
              "      <td>1</td>\n",
              "      <td>4</td>\n",
              "      <td>1169</td>\n",
              "      <td>6</td>\n",
              "      <td>4</td>\n",
              "      <td>2</td>\n",
              "      <td>0</td>\n",
              "      <td>1</td>\n",
              "      <td>0</td>\n",
              "      <td>0</td>\n",
              "      <td>1</td>\n",
              "      <td>0</td>\n",
              "      <td>1</td>\n",
              "      <td>1</td>\n",
              "      <td>0</td>\n",
              "      <td>0</td>\n",
              "      <td>0</td>\n",
              "      <td>0</td>\n",
              "      <td>1</td>\n",
              "      <td>0</td>\n",
              "      <td>1</td>\n",
              "      <td>0</td>\n",
              "      <td>0</td>\n",
              "      <td>0</td>\n",
              "      <td>0</td>\n",
              "      <td>1</td>\n",
              "      <td>0</td>\n",
              "      <td>0</td>\n",
              "      <td>0</td>\n",
              "      <td>0</td>\n",
              "      <td>1</td>\n",
              "      <td>0</td>\n",
              "      <td>0</td>\n",
              "      <td>0</td>\n",
              "      <td>0</td>\n",
              "      <td>0</td>\n",
              "      <td>0</td>\n",
              "      <td>1</td>\n",
              "      <td>0</td>\n",
              "      <td>0</td>\n",
              "      <td>0</td>\n",
              "      <td>1</td>\n",
              "      <td>0</td>\n",
              "      <td>0</td>\n",
              "      <td>0</td>\n",
              "      <td>0</td>\n",
              "      <td>1</td>\n",
              "      <td>0</td>\n",
              "      <td>1</td>\n",
              "      <td>0</td>\n",
              "    </tr>\n",
              "    <tr>\n",
              "      <th>1</th>\n",
              "      <td>22</td>\n",
              "      <td>1</td>\n",
              "      <td>2</td>\n",
              "      <td>5951</td>\n",
              "      <td>48</td>\n",
              "      <td>2</td>\n",
              "      <td>1</td>\n",
              "      <td>1</td>\n",
              "      <td>0</td>\n",
              "      <td>0</td>\n",
              "      <td>0</td>\n",
              "      <td>1</td>\n",
              "      <td>1</td>\n",
              "      <td>0</td>\n",
              "      <td>1</td>\n",
              "      <td>0</td>\n",
              "      <td>0</td>\n",
              "      <td>0</td>\n",
              "      <td>0</td>\n",
              "      <td>1</td>\n",
              "      <td>0</td>\n",
              "      <td>1</td>\n",
              "      <td>0</td>\n",
              "      <td>0</td>\n",
              "      <td>1</td>\n",
              "      <td>0</td>\n",
              "      <td>0</td>\n",
              "      <td>1</td>\n",
              "      <td>0</td>\n",
              "      <td>0</td>\n",
              "      <td>0</td>\n",
              "      <td>0</td>\n",
              "      <td>1</td>\n",
              "      <td>0</td>\n",
              "      <td>0</td>\n",
              "      <td>0</td>\n",
              "      <td>1</td>\n",
              "      <td>0</td>\n",
              "      <td>0</td>\n",
              "      <td>0</td>\n",
              "      <td>0</td>\n",
              "      <td>0</td>\n",
              "      <td>1</td>\n",
              "      <td>0</td>\n",
              "      <td>0</td>\n",
              "      <td>0</td>\n",
              "      <td>0</td>\n",
              "      <td>1</td>\n",
              "      <td>0</td>\n",
              "      <td>1</td>\n",
              "      <td>0</td>\n",
              "    </tr>\n",
              "    <tr>\n",
              "      <th>13</th>\n",
              "      <td>60</td>\n",
              "      <td>1</td>\n",
              "      <td>4</td>\n",
              "      <td>1199</td>\n",
              "      <td>24</td>\n",
              "      <td>4</td>\n",
              "      <td>2</td>\n",
              "      <td>0</td>\n",
              "      <td>1</td>\n",
              "      <td>0</td>\n",
              "      <td>0</td>\n",
              "      <td>1</td>\n",
              "      <td>1</td>\n",
              "      <td>0</td>\n",
              "      <td>0</td>\n",
              "      <td>0</td>\n",
              "      <td>1</td>\n",
              "      <td>0</td>\n",
              "      <td>1</td>\n",
              "      <td>0</td>\n",
              "      <td>0</td>\n",
              "      <td>1</td>\n",
              "      <td>0</td>\n",
              "      <td>0</td>\n",
              "      <td>0</td>\n",
              "      <td>0</td>\n",
              "      <td>1</td>\n",
              "      <td>1</td>\n",
              "      <td>0</td>\n",
              "      <td>0</td>\n",
              "      <td>0</td>\n",
              "      <td>0</td>\n",
              "      <td>0</td>\n",
              "      <td>0</td>\n",
              "      <td>0</td>\n",
              "      <td>0</td>\n",
              "      <td>0</td>\n",
              "      <td>0</td>\n",
              "      <td>1</td>\n",
              "      <td>1</td>\n",
              "      <td>0</td>\n",
              "      <td>0</td>\n",
              "      <td>0</td>\n",
              "      <td>0</td>\n",
              "      <td>0</td>\n",
              "      <td>0</td>\n",
              "      <td>0</td>\n",
              "      <td>1</td>\n",
              "      <td>0</td>\n",
              "      <td>1</td>\n",
              "      <td>1</td>\n",
              "    </tr>\n",
              "  </tbody>\n",
              "</table>\n",
              "</div>"
            ],
            "text/plain": [
              "    Age  Dependents  ...  Other_Inst_Plans_A143  Default_On_Payment\n",
              "0    67           1  ...                      1                   0\n",
              "1    22           1  ...                      1                   0\n",
              "13   60           1  ...                      1                   1\n",
              "\n",
              "[3 rows x 51 columns]"
            ]
          },
          "metadata": {
            "tags": []
          },
          "execution_count": 152
        }
      ]
    },
    {
      "cell_type": "code",
      "metadata": {
        "id": "TwEwZcUz4AB4",
        "colab_type": "code",
        "outputId": "2a969e15-b6fd-4619-8067-876fbed831bd",
        "colab": {
          "base_uri": "https://localhost:8080/",
          "height": 50
        }
      },
      "source": [
        "X_val_test = Spare_set_index_df.sample(frac=0.5)\n",
        "y_val_test = X_val_test.Default_On_Payment\n",
        "\n",
        "X_val_test.drop('Default_On_Payment', axis=1, inplace=True)\n",
        "\n",
        "print('X_val_test shape is:', X_val_test.shape)\n",
        "print('y_val_test shape is:', y_val_test.shape)"
      ],
      "execution_count": 153,
      "outputs": [
        {
          "output_type": "stream",
          "text": [
            "X_val_test shape is: (1052, 50)\n",
            "y_val_test shape is: (1052,)\n"
          ],
          "name": "stdout"
        }
      ]
    },
    {
      "cell_type": "markdown",
      "metadata": {
        "id": "iUBpT1fx3Mqf",
        "colab_type": "text"
      },
      "source": [
        "**Now let's define the Testing set**"
      ]
    },
    {
      "cell_type": "code",
      "metadata": {
        "id": "1TyzG9sEcK_x",
        "colab_type": "code",
        "outputId": "7abc206e-6ef0-44ce-c971-4908cada73b9",
        "colab": {
          "base_uri": "https://localhost:8080/",
          "height": 134
        }
      },
      "source": [
        "X_test_set = resampled_data.iloc[list(Spare_set_index_df.index.difference(X_val_test.index)),]\n",
        "\n",
        "y_test_set = X_test_set.Default_On_Payment\n",
        "\n",
        "X_test_set.drop('Default_On_Payment', axis=1, inplace=True)\n",
        "\n",
        "print('X_test_set shape is:', X_test_set.shape)\n",
        "print('y_test_set shape is:', y_test_set.shape)"
      ],
      "execution_count": 154,
      "outputs": [
        {
          "output_type": "stream",
          "text": [
            "X_test_set shape is: (1051, 50)\n",
            "y_test_set shape is: (1051,)\n"
          ],
          "name": "stdout"
        },
        {
          "output_type": "stream",
          "text": [
            "/usr/local/lib/python3.6/dist-packages/pandas/core/frame.py:4117: SettingWithCopyWarning: \n",
            "A value is trying to be set on a copy of a slice from a DataFrame\n",
            "\n",
            "See the caveats in the documentation: http://pandas.pydata.org/pandas-docs/stable/user_guide/indexing.html#returning-a-view-versus-a-copy\n",
            "  errors=errors,\n"
          ],
          "name": "stderr"
        }
      ]
    },
    {
      "cell_type": "markdown",
      "metadata": {
        "id": "qnoXH_waidrZ",
        "colab_type": "text"
      },
      "source": [
        "## **Feature Normalization**\n",
        "\n",
        "Let's simply divide each feature element by its max element. This will return a number between 0 and 1 for all features"
      ]
    },
    {
      "cell_type": "code",
      "metadata": {
        "id": "xSIR1-b_iiRY",
        "colab_type": "code",
        "colab": {}
      },
      "source": [
        "X_train = X_train / X_train.max()\n",
        "\n",
        "X_val_test = X_val_test / X_val_test.max()\n",
        "\n",
        "X_test_set = X_test_set / X_test_set.max()"
      ],
      "execution_count": 0,
      "outputs": []
    },
    {
      "cell_type": "code",
      "metadata": {
        "id": "dVd1dA5it_9N",
        "colab_type": "code",
        "outputId": "c2895216-d1be-46cd-d174-31bcae68517b",
        "colab": {
          "base_uri": "https://localhost:8080/",
          "height": 156
        }
      },
      "source": [
        "X_train.head(3)"
      ],
      "execution_count": 156,
      "outputs": [
        {
          "output_type": "execute_result",
          "data": {
            "text/html": [
              "<div>\n",
              "<style scoped>\n",
              "    .dataframe tbody tr th:only-of-type {\n",
              "        vertical-align: middle;\n",
              "    }\n",
              "\n",
              "    .dataframe tbody tr th {\n",
              "        vertical-align: top;\n",
              "    }\n",
              "\n",
              "    .dataframe thead th {\n",
              "        text-align: right;\n",
              "    }\n",
              "</style>\n",
              "<table border=\"1\" class=\"dataframe\">\n",
              "  <thead>\n",
              "    <tr style=\"text-align: right;\">\n",
              "      <th></th>\n",
              "      <th>Age</th>\n",
              "      <th>Dependents</th>\n",
              "      <th>Current_Address_Yrs</th>\n",
              "      <th>Credit_Amount</th>\n",
              "      <th>Duration_in_Months</th>\n",
              "      <th>Inst_Rt_Income</th>\n",
              "      <th>Num_CC</th>\n",
              "      <th>Marital_Status_Gender_A92</th>\n",
              "      <th>Marital_Status_Gender_A93</th>\n",
              "      <th>Marital_Status_Gender_A94</th>\n",
              "      <th>Housing_A151</th>\n",
              "      <th>Housing_A152</th>\n",
              "      <th>Telephone_A191</th>\n",
              "      <th>Telephone_A192</th>\n",
              "      <th>Property_A121</th>\n",
              "      <th>Property_A122</th>\n",
              "      <th>Property_A123</th>\n",
              "      <th>Job_A171</th>\n",
              "      <th>Job_A172</th>\n",
              "      <th>Job_A173</th>\n",
              "      <th>Job_A174</th>\n",
              "      <th>Foreign_Worker_A201</th>\n",
              "      <th>Foreign_Worker_A202</th>\n",
              "      <th>Years_At_Present_Employment_A71</th>\n",
              "      <th>Years_At_Present_Employment_A73</th>\n",
              "      <th>Years_At_Present_Employment_A74</th>\n",
              "      <th>Years_At_Present_Employment_A75</th>\n",
              "      <th>Savings_Acc_A61</th>\n",
              "      <th>Savings_Acc_A62</th>\n",
              "      <th>Savings_Acc_A63</th>\n",
              "      <th>Savings_Acc_A64</th>\n",
              "      <th>Savings_Acc_A65</th>\n",
              "      <th>Status_Checking_Acc_A12</th>\n",
              "      <th>Status_Checking_Acc_A13</th>\n",
              "      <th>Status_Checking_Acc_A14</th>\n",
              "      <th>Credit_History_A30</th>\n",
              "      <th>Credit_History_A32</th>\n",
              "      <th>Credit_History_A33</th>\n",
              "      <th>Credit_History_A34</th>\n",
              "      <th>Purposre_Credit_Taken_A40</th>\n",
              "      <th>Purposre_Credit_Taken_A41</th>\n",
              "      <th>Purposre_Credit_Taken_A42</th>\n",
              "      <th>Purposre_Credit_Taken_A43</th>\n",
              "      <th>Purposre_Credit_Taken_A44</th>\n",
              "      <th>Purposre_Credit_Taken_A45</th>\n",
              "      <th>Purposre_Credit_Taken_A48</th>\n",
              "      <th>Purposre_Credit_Taken_A49</th>\n",
              "      <th>Other_Debtors_Guarantors_A101</th>\n",
              "      <th>Other_Debtors_Guarantors_A103</th>\n",
              "      <th>Other_Inst_Plans_A143</th>\n",
              "    </tr>\n",
              "  </thead>\n",
              "  <tbody>\n",
              "    <tr>\n",
              "      <th>3075</th>\n",
              "      <td>0.880000</td>\n",
              "      <td>0.5</td>\n",
              "      <td>1.0</td>\n",
              "      <td>0.082827</td>\n",
              "      <td>0.166667</td>\n",
              "      <td>1.00</td>\n",
              "      <td>0.50</td>\n",
              "      <td>0.0</td>\n",
              "      <td>1.0</td>\n",
              "      <td>0.0</td>\n",
              "      <td>0.0</td>\n",
              "      <td>0.0</td>\n",
              "      <td>1.0</td>\n",
              "      <td>0.0</td>\n",
              "      <td>0.0</td>\n",
              "      <td>0.0</td>\n",
              "      <td>0.0</td>\n",
              "      <td>0.0</td>\n",
              "      <td>0.0</td>\n",
              "      <td>0.0</td>\n",
              "      <td>1.0</td>\n",
              "      <td>1.0</td>\n",
              "      <td>0.0</td>\n",
              "      <td>0.0</td>\n",
              "      <td>0.0</td>\n",
              "      <td>0.0</td>\n",
              "      <td>1.0</td>\n",
              "      <td>1.0</td>\n",
              "      <td>0.0</td>\n",
              "      <td>0.0</td>\n",
              "      <td>0.0</td>\n",
              "      <td>0.0</td>\n",
              "      <td>0.0</td>\n",
              "      <td>0.0</td>\n",
              "      <td>0.0</td>\n",
              "      <td>0.0</td>\n",
              "      <td>0.0</td>\n",
              "      <td>0.0</td>\n",
              "      <td>1.0</td>\n",
              "      <td>0.0</td>\n",
              "      <td>1.0</td>\n",
              "      <td>0.0</td>\n",
              "      <td>0.0</td>\n",
              "      <td>0.0</td>\n",
              "      <td>0.0</td>\n",
              "      <td>0.0</td>\n",
              "      <td>0.0</td>\n",
              "      <td>1.0</td>\n",
              "      <td>0.0</td>\n",
              "      <td>1.0</td>\n",
              "    </tr>\n",
              "    <tr>\n",
              "      <th>4246</th>\n",
              "      <td>0.693333</td>\n",
              "      <td>0.5</td>\n",
              "      <td>1.0</td>\n",
              "      <td>0.038917</td>\n",
              "      <td>0.166667</td>\n",
              "      <td>1.00</td>\n",
              "      <td>0.75</td>\n",
              "      <td>0.0</td>\n",
              "      <td>1.0</td>\n",
              "      <td>0.0</td>\n",
              "      <td>0.0</td>\n",
              "      <td>1.0</td>\n",
              "      <td>1.0</td>\n",
              "      <td>0.0</td>\n",
              "      <td>1.0</td>\n",
              "      <td>0.0</td>\n",
              "      <td>0.0</td>\n",
              "      <td>0.0</td>\n",
              "      <td>0.0</td>\n",
              "      <td>1.0</td>\n",
              "      <td>0.0</td>\n",
              "      <td>1.0</td>\n",
              "      <td>0.0</td>\n",
              "      <td>0.0</td>\n",
              "      <td>0.0</td>\n",
              "      <td>0.0</td>\n",
              "      <td>1.0</td>\n",
              "      <td>1.0</td>\n",
              "      <td>0.0</td>\n",
              "      <td>0.0</td>\n",
              "      <td>0.0</td>\n",
              "      <td>0.0</td>\n",
              "      <td>0.0</td>\n",
              "      <td>0.0</td>\n",
              "      <td>1.0</td>\n",
              "      <td>0.0</td>\n",
              "      <td>0.0</td>\n",
              "      <td>0.0</td>\n",
              "      <td>1.0</td>\n",
              "      <td>0.0</td>\n",
              "      <td>0.0</td>\n",
              "      <td>0.0</td>\n",
              "      <td>1.0</td>\n",
              "      <td>0.0</td>\n",
              "      <td>0.0</td>\n",
              "      <td>0.0</td>\n",
              "      <td>0.0</td>\n",
              "      <td>1.0</td>\n",
              "      <td>0.0</td>\n",
              "      <td>1.0</td>\n",
              "    </tr>\n",
              "    <tr>\n",
              "      <th>6502</th>\n",
              "      <td>0.626667</td>\n",
              "      <td>1.0</td>\n",
              "      <td>1.0</td>\n",
              "      <td>0.684542</td>\n",
              "      <td>0.500000</td>\n",
              "      <td>0.25</td>\n",
              "      <td>0.25</td>\n",
              "      <td>0.0</td>\n",
              "      <td>1.0</td>\n",
              "      <td>0.0</td>\n",
              "      <td>0.0</td>\n",
              "      <td>0.0</td>\n",
              "      <td>0.0</td>\n",
              "      <td>1.0</td>\n",
              "      <td>0.0</td>\n",
              "      <td>0.0</td>\n",
              "      <td>0.0</td>\n",
              "      <td>0.0</td>\n",
              "      <td>0.0</td>\n",
              "      <td>1.0</td>\n",
              "      <td>0.0</td>\n",
              "      <td>1.0</td>\n",
              "      <td>0.0</td>\n",
              "      <td>0.0</td>\n",
              "      <td>1.0</td>\n",
              "      <td>0.0</td>\n",
              "      <td>0.0</td>\n",
              "      <td>0.0</td>\n",
              "      <td>1.0</td>\n",
              "      <td>0.0</td>\n",
              "      <td>0.0</td>\n",
              "      <td>0.0</td>\n",
              "      <td>1.0</td>\n",
              "      <td>0.0</td>\n",
              "      <td>0.0</td>\n",
              "      <td>0.0</td>\n",
              "      <td>1.0</td>\n",
              "      <td>0.0</td>\n",
              "      <td>0.0</td>\n",
              "      <td>0.0</td>\n",
              "      <td>0.0</td>\n",
              "      <td>0.0</td>\n",
              "      <td>0.0</td>\n",
              "      <td>0.0</td>\n",
              "      <td>0.0</td>\n",
              "      <td>0.0</td>\n",
              "      <td>0.0</td>\n",
              "      <td>1.0</td>\n",
              "      <td>0.0</td>\n",
              "      <td>1.0</td>\n",
              "    </tr>\n",
              "  </tbody>\n",
              "</table>\n",
              "</div>"
            ],
            "text/plain": [
              "           Age  ...  Other_Inst_Plans_A143\n",
              "3075  0.880000  ...                    1.0\n",
              "4246  0.693333  ...                    1.0\n",
              "6502  0.626667  ...                    1.0\n",
              "\n",
              "[3 rows x 50 columns]"
            ]
          },
          "metadata": {
            "tags": []
          },
          "execution_count": 156
        }
      ]
    },
    {
      "cell_type": "code",
      "metadata": {
        "id": "DT7Ewo5nuFH7",
        "colab_type": "code",
        "outputId": "3dbcaafc-27a4-4fc4-f807-d95df988c003",
        "colab": {
          "base_uri": "https://localhost:8080/",
          "height": 156
        }
      },
      "source": [
        "X_val_test.head(3)"
      ],
      "execution_count": 157,
      "outputs": [
        {
          "output_type": "execute_result",
          "data": {
            "text/html": [
              "<div>\n",
              "<style scoped>\n",
              "    .dataframe tbody tr th:only-of-type {\n",
              "        vertical-align: middle;\n",
              "    }\n",
              "\n",
              "    .dataframe tbody tr th {\n",
              "        vertical-align: top;\n",
              "    }\n",
              "\n",
              "    .dataframe thead th {\n",
              "        text-align: right;\n",
              "    }\n",
              "</style>\n",
              "<table border=\"1\" class=\"dataframe\">\n",
              "  <thead>\n",
              "    <tr style=\"text-align: right;\">\n",
              "      <th></th>\n",
              "      <th>Age</th>\n",
              "      <th>Dependents</th>\n",
              "      <th>Current_Address_Yrs</th>\n",
              "      <th>Credit_Amount</th>\n",
              "      <th>Duration_in_Months</th>\n",
              "      <th>Inst_Rt_Income</th>\n",
              "      <th>Num_CC</th>\n",
              "      <th>Marital_Status_Gender_A92</th>\n",
              "      <th>Marital_Status_Gender_A93</th>\n",
              "      <th>Marital_Status_Gender_A94</th>\n",
              "      <th>Housing_A151</th>\n",
              "      <th>Housing_A152</th>\n",
              "      <th>Telephone_A191</th>\n",
              "      <th>Telephone_A192</th>\n",
              "      <th>Property_A121</th>\n",
              "      <th>Property_A122</th>\n",
              "      <th>Property_A123</th>\n",
              "      <th>Job_A171</th>\n",
              "      <th>Job_A172</th>\n",
              "      <th>Job_A173</th>\n",
              "      <th>Job_A174</th>\n",
              "      <th>Foreign_Worker_A201</th>\n",
              "      <th>Foreign_Worker_A202</th>\n",
              "      <th>Years_At_Present_Employment_A71</th>\n",
              "      <th>Years_At_Present_Employment_A73</th>\n",
              "      <th>Years_At_Present_Employment_A74</th>\n",
              "      <th>Years_At_Present_Employment_A75</th>\n",
              "      <th>Savings_Acc_A61</th>\n",
              "      <th>Savings_Acc_A62</th>\n",
              "      <th>Savings_Acc_A63</th>\n",
              "      <th>Savings_Acc_A64</th>\n",
              "      <th>Savings_Acc_A65</th>\n",
              "      <th>Status_Checking_Acc_A12</th>\n",
              "      <th>Status_Checking_Acc_A13</th>\n",
              "      <th>Status_Checking_Acc_A14</th>\n",
              "      <th>Credit_History_A30</th>\n",
              "      <th>Credit_History_A32</th>\n",
              "      <th>Credit_History_A33</th>\n",
              "      <th>Credit_History_A34</th>\n",
              "      <th>Purposre_Credit_Taken_A40</th>\n",
              "      <th>Purposre_Credit_Taken_A41</th>\n",
              "      <th>Purposre_Credit_Taken_A42</th>\n",
              "      <th>Purposre_Credit_Taken_A43</th>\n",
              "      <th>Purposre_Credit_Taken_A44</th>\n",
              "      <th>Purposre_Credit_Taken_A45</th>\n",
              "      <th>Purposre_Credit_Taken_A48</th>\n",
              "      <th>Purposre_Credit_Taken_A49</th>\n",
              "      <th>Other_Debtors_Guarantors_A101</th>\n",
              "      <th>Other_Debtors_Guarantors_A103</th>\n",
              "      <th>Other_Inst_Plans_A143</th>\n",
              "    </tr>\n",
              "  </thead>\n",
              "  <tbody>\n",
              "    <tr>\n",
              "      <th>2687</th>\n",
              "      <td>0.400000</td>\n",
              "      <td>0.5</td>\n",
              "      <td>0.75</td>\n",
              "      <td>0.155341</td>\n",
              "      <td>0.500000</td>\n",
              "      <td>1.0</td>\n",
              "      <td>0.25</td>\n",
              "      <td>0.0</td>\n",
              "      <td>1.0</td>\n",
              "      <td>0.0</td>\n",
              "      <td>0.0</td>\n",
              "      <td>0.0</td>\n",
              "      <td>1.0</td>\n",
              "      <td>0.0</td>\n",
              "      <td>0.0</td>\n",
              "      <td>0.0</td>\n",
              "      <td>0.0</td>\n",
              "      <td>0.0</td>\n",
              "      <td>0.0</td>\n",
              "      <td>1.0</td>\n",
              "      <td>0.0</td>\n",
              "      <td>1.0</td>\n",
              "      <td>0.0</td>\n",
              "      <td>0.0</td>\n",
              "      <td>0.0</td>\n",
              "      <td>0.0</td>\n",
              "      <td>1.0</td>\n",
              "      <td>0.0</td>\n",
              "      <td>1.0</td>\n",
              "      <td>0.0</td>\n",
              "      <td>0.0</td>\n",
              "      <td>0.0</td>\n",
              "      <td>1.0</td>\n",
              "      <td>0.0</td>\n",
              "      <td>0.0</td>\n",
              "      <td>0.0</td>\n",
              "      <td>0.0</td>\n",
              "      <td>1.0</td>\n",
              "      <td>0.0</td>\n",
              "      <td>1.0</td>\n",
              "      <td>0.0</td>\n",
              "      <td>0.0</td>\n",
              "      <td>0.0</td>\n",
              "      <td>0.0</td>\n",
              "      <td>0.0</td>\n",
              "      <td>0.0</td>\n",
              "      <td>0.0</td>\n",
              "      <td>1.0</td>\n",
              "      <td>0.0</td>\n",
              "      <td>1.0</td>\n",
              "    </tr>\n",
              "    <tr>\n",
              "      <th>1049</th>\n",
              "      <td>0.373333</td>\n",
              "      <td>0.5</td>\n",
              "      <td>0.50</td>\n",
              "      <td>0.112516</td>\n",
              "      <td>0.166667</td>\n",
              "      <td>1.0</td>\n",
              "      <td>0.25</td>\n",
              "      <td>1.0</td>\n",
              "      <td>0.0</td>\n",
              "      <td>0.0</td>\n",
              "      <td>0.0</td>\n",
              "      <td>1.0</td>\n",
              "      <td>1.0</td>\n",
              "      <td>0.0</td>\n",
              "      <td>1.0</td>\n",
              "      <td>0.0</td>\n",
              "      <td>0.0</td>\n",
              "      <td>0.0</td>\n",
              "      <td>0.0</td>\n",
              "      <td>1.0</td>\n",
              "      <td>0.0</td>\n",
              "      <td>1.0</td>\n",
              "      <td>0.0</td>\n",
              "      <td>0.0</td>\n",
              "      <td>1.0</td>\n",
              "      <td>0.0</td>\n",
              "      <td>0.0</td>\n",
              "      <td>0.0</td>\n",
              "      <td>1.0</td>\n",
              "      <td>0.0</td>\n",
              "      <td>0.0</td>\n",
              "      <td>0.0</td>\n",
              "      <td>0.0</td>\n",
              "      <td>0.0</td>\n",
              "      <td>1.0</td>\n",
              "      <td>0.0</td>\n",
              "      <td>1.0</td>\n",
              "      <td>0.0</td>\n",
              "      <td>0.0</td>\n",
              "      <td>0.0</td>\n",
              "      <td>0.0</td>\n",
              "      <td>0.0</td>\n",
              "      <td>1.0</td>\n",
              "      <td>0.0</td>\n",
              "      <td>0.0</td>\n",
              "      <td>0.0</td>\n",
              "      <td>0.0</td>\n",
              "      <td>0.0</td>\n",
              "      <td>0.0</td>\n",
              "      <td>1.0</td>\n",
              "    </tr>\n",
              "    <tr>\n",
              "      <th>6256</th>\n",
              "      <td>0.266667</td>\n",
              "      <td>0.5</td>\n",
              "      <td>0.25</td>\n",
              "      <td>0.036583</td>\n",
              "      <td>0.166667</td>\n",
              "      <td>1.0</td>\n",
              "      <td>0.25</td>\n",
              "      <td>0.0</td>\n",
              "      <td>0.0</td>\n",
              "      <td>1.0</td>\n",
              "      <td>0.0</td>\n",
              "      <td>1.0</td>\n",
              "      <td>1.0</td>\n",
              "      <td>0.0</td>\n",
              "      <td>0.0</td>\n",
              "      <td>1.0</td>\n",
              "      <td>0.0</td>\n",
              "      <td>0.0</td>\n",
              "      <td>0.0</td>\n",
              "      <td>1.0</td>\n",
              "      <td>0.0</td>\n",
              "      <td>1.0</td>\n",
              "      <td>0.0</td>\n",
              "      <td>0.0</td>\n",
              "      <td>0.0</td>\n",
              "      <td>1.0</td>\n",
              "      <td>0.0</td>\n",
              "      <td>0.0</td>\n",
              "      <td>1.0</td>\n",
              "      <td>0.0</td>\n",
              "      <td>0.0</td>\n",
              "      <td>0.0</td>\n",
              "      <td>0.0</td>\n",
              "      <td>0.0</td>\n",
              "      <td>0.0</td>\n",
              "      <td>0.0</td>\n",
              "      <td>1.0</td>\n",
              "      <td>0.0</td>\n",
              "      <td>0.0</td>\n",
              "      <td>0.0</td>\n",
              "      <td>0.0</td>\n",
              "      <td>0.0</td>\n",
              "      <td>1.0</td>\n",
              "      <td>0.0</td>\n",
              "      <td>0.0</td>\n",
              "      <td>0.0</td>\n",
              "      <td>0.0</td>\n",
              "      <td>1.0</td>\n",
              "      <td>0.0</td>\n",
              "      <td>1.0</td>\n",
              "    </tr>\n",
              "  </tbody>\n",
              "</table>\n",
              "</div>"
            ],
            "text/plain": [
              "           Age  ...  Other_Inst_Plans_A143\n",
              "2687  0.400000  ...                    1.0\n",
              "1049  0.373333  ...                    1.0\n",
              "6256  0.266667  ...                    1.0\n",
              "\n",
              "[3 rows x 50 columns]"
            ]
          },
          "metadata": {
            "tags": []
          },
          "execution_count": 157
        }
      ]
    },
    {
      "cell_type": "code",
      "metadata": {
        "id": "LGtdX7vHuLSs",
        "colab_type": "code",
        "outputId": "adf162e3-9e30-4512-f7e5-8e13934343a1",
        "colab": {
          "base_uri": "https://localhost:8080/",
          "height": 156
        }
      },
      "source": [
        "X_test_set.head(3)"
      ],
      "execution_count": 158,
      "outputs": [
        {
          "output_type": "execute_result",
          "data": {
            "text/html": [
              "<div>\n",
              "<style scoped>\n",
              "    .dataframe tbody tr th:only-of-type {\n",
              "        vertical-align: middle;\n",
              "    }\n",
              "\n",
              "    .dataframe tbody tr th {\n",
              "        vertical-align: top;\n",
              "    }\n",
              "\n",
              "    .dataframe thead th {\n",
              "        text-align: right;\n",
              "    }\n",
              "</style>\n",
              "<table border=\"1\" class=\"dataframe\">\n",
              "  <thead>\n",
              "    <tr style=\"text-align: right;\">\n",
              "      <th></th>\n",
              "      <th>Age</th>\n",
              "      <th>Dependents</th>\n",
              "      <th>Current_Address_Yrs</th>\n",
              "      <th>Credit_Amount</th>\n",
              "      <th>Duration_in_Months</th>\n",
              "      <th>Inst_Rt_Income</th>\n",
              "      <th>Num_CC</th>\n",
              "      <th>Marital_Status_Gender_A92</th>\n",
              "      <th>Marital_Status_Gender_A93</th>\n",
              "      <th>Marital_Status_Gender_A94</th>\n",
              "      <th>Housing_A151</th>\n",
              "      <th>Housing_A152</th>\n",
              "      <th>Telephone_A191</th>\n",
              "      <th>Telephone_A192</th>\n",
              "      <th>Property_A121</th>\n",
              "      <th>Property_A122</th>\n",
              "      <th>Property_A123</th>\n",
              "      <th>Job_A171</th>\n",
              "      <th>Job_A172</th>\n",
              "      <th>Job_A173</th>\n",
              "      <th>Job_A174</th>\n",
              "      <th>Foreign_Worker_A201</th>\n",
              "      <th>Foreign_Worker_A202</th>\n",
              "      <th>Years_At_Present_Employment_A71</th>\n",
              "      <th>Years_At_Present_Employment_A73</th>\n",
              "      <th>Years_At_Present_Employment_A74</th>\n",
              "      <th>Years_At_Present_Employment_A75</th>\n",
              "      <th>Savings_Acc_A61</th>\n",
              "      <th>Savings_Acc_A62</th>\n",
              "      <th>Savings_Acc_A63</th>\n",
              "      <th>Savings_Acc_A64</th>\n",
              "      <th>Savings_Acc_A65</th>\n",
              "      <th>Status_Checking_Acc_A12</th>\n",
              "      <th>Status_Checking_Acc_A13</th>\n",
              "      <th>Status_Checking_Acc_A14</th>\n",
              "      <th>Credit_History_A30</th>\n",
              "      <th>Credit_History_A32</th>\n",
              "      <th>Credit_History_A33</th>\n",
              "      <th>Credit_History_A34</th>\n",
              "      <th>Purposre_Credit_Taken_A40</th>\n",
              "      <th>Purposre_Credit_Taken_A41</th>\n",
              "      <th>Purposre_Credit_Taken_A42</th>\n",
              "      <th>Purposre_Credit_Taken_A43</th>\n",
              "      <th>Purposre_Credit_Taken_A44</th>\n",
              "      <th>Purposre_Credit_Taken_A45</th>\n",
              "      <th>Purposre_Credit_Taken_A48</th>\n",
              "      <th>Purposre_Credit_Taken_A49</th>\n",
              "      <th>Other_Debtors_Guarantors_A101</th>\n",
              "      <th>Other_Debtors_Guarantors_A103</th>\n",
              "      <th>Other_Inst_Plans_A143</th>\n",
              "    </tr>\n",
              "  </thead>\n",
              "  <tbody>\n",
              "    <tr>\n",
              "      <th>13</th>\n",
              "      <td>0.800000</td>\n",
              "      <td>0.5</td>\n",
              "      <td>1.00</td>\n",
              "      <td>0.065078</td>\n",
              "      <td>0.4</td>\n",
              "      <td>1.00</td>\n",
              "      <td>0.50</td>\n",
              "      <td>0.0</td>\n",
              "      <td>1.0</td>\n",
              "      <td>0.0</td>\n",
              "      <td>0.0</td>\n",
              "      <td>1.0</td>\n",
              "      <td>1.0</td>\n",
              "      <td>0.0</td>\n",
              "      <td>0.0</td>\n",
              "      <td>0.0</td>\n",
              "      <td>1.0</td>\n",
              "      <td>0.0</td>\n",
              "      <td>1.0</td>\n",
              "      <td>0.0</td>\n",
              "      <td>0.0</td>\n",
              "      <td>1.0</td>\n",
              "      <td>0.0</td>\n",
              "      <td>0.0</td>\n",
              "      <td>0.0</td>\n",
              "      <td>0.0</td>\n",
              "      <td>1.0</td>\n",
              "      <td>1.0</td>\n",
              "      <td>0.0</td>\n",
              "      <td>0.0</td>\n",
              "      <td>0.0</td>\n",
              "      <td>0.0</td>\n",
              "      <td>0.0</td>\n",
              "      <td>0.0</td>\n",
              "      <td>0.0</td>\n",
              "      <td>0.0</td>\n",
              "      <td>0.0</td>\n",
              "      <td>0.0</td>\n",
              "      <td>1.0</td>\n",
              "      <td>1.0</td>\n",
              "      <td>0.0</td>\n",
              "      <td>0.0</td>\n",
              "      <td>0.0</td>\n",
              "      <td>0.0</td>\n",
              "      <td>0.0</td>\n",
              "      <td>0.0</td>\n",
              "      <td>0.0</td>\n",
              "      <td>1.0</td>\n",
              "      <td>0.0</td>\n",
              "      <td>1.0</td>\n",
              "    </tr>\n",
              "    <tr>\n",
              "      <th>26</th>\n",
              "      <td>0.520000</td>\n",
              "      <td>0.5</td>\n",
              "      <td>1.00</td>\n",
              "      <td>0.023122</td>\n",
              "      <td>0.1</td>\n",
              "      <td>1.00</td>\n",
              "      <td>0.25</td>\n",
              "      <td>0.0</td>\n",
              "      <td>0.0</td>\n",
              "      <td>1.0</td>\n",
              "      <td>0.0</td>\n",
              "      <td>1.0</td>\n",
              "      <td>1.0</td>\n",
              "      <td>0.0</td>\n",
              "      <td>0.0</td>\n",
              "      <td>0.0</td>\n",
              "      <td>1.0</td>\n",
              "      <td>0.0</td>\n",
              "      <td>1.0</td>\n",
              "      <td>0.0</td>\n",
              "      <td>0.0</td>\n",
              "      <td>1.0</td>\n",
              "      <td>0.0</td>\n",
              "      <td>0.0</td>\n",
              "      <td>0.0</td>\n",
              "      <td>0.0</td>\n",
              "      <td>1.0</td>\n",
              "      <td>1.0</td>\n",
              "      <td>0.0</td>\n",
              "      <td>0.0</td>\n",
              "      <td>0.0</td>\n",
              "      <td>0.0</td>\n",
              "      <td>0.0</td>\n",
              "      <td>0.0</td>\n",
              "      <td>1.0</td>\n",
              "      <td>1.0</td>\n",
              "      <td>0.0</td>\n",
              "      <td>0.0</td>\n",
              "      <td>0.0</td>\n",
              "      <td>0.0</td>\n",
              "      <td>0.0</td>\n",
              "      <td>0.0</td>\n",
              "      <td>1.0</td>\n",
              "      <td>0.0</td>\n",
              "      <td>0.0</td>\n",
              "      <td>0.0</td>\n",
              "      <td>0.0</td>\n",
              "      <td>1.0</td>\n",
              "      <td>0.0</td>\n",
              "      <td>1.0</td>\n",
              "    </tr>\n",
              "    <tr>\n",
              "      <th>36</th>\n",
              "      <td>0.413333</td>\n",
              "      <td>0.5</td>\n",
              "      <td>0.75</td>\n",
              "      <td>0.331633</td>\n",
              "      <td>0.8</td>\n",
              "      <td>0.25</td>\n",
              "      <td>0.25</td>\n",
              "      <td>0.0</td>\n",
              "      <td>1.0</td>\n",
              "      <td>0.0</td>\n",
              "      <td>0.0</td>\n",
              "      <td>0.0</td>\n",
              "      <td>0.0</td>\n",
              "      <td>1.0</td>\n",
              "      <td>0.0</td>\n",
              "      <td>0.0</td>\n",
              "      <td>0.0</td>\n",
              "      <td>0.0</td>\n",
              "      <td>0.0</td>\n",
              "      <td>1.0</td>\n",
              "      <td>0.0</td>\n",
              "      <td>1.0</td>\n",
              "      <td>0.0</td>\n",
              "      <td>0.0</td>\n",
              "      <td>1.0</td>\n",
              "      <td>0.0</td>\n",
              "      <td>0.0</td>\n",
              "      <td>1.0</td>\n",
              "      <td>0.0</td>\n",
              "      <td>0.0</td>\n",
              "      <td>0.0</td>\n",
              "      <td>0.0</td>\n",
              "      <td>0.0</td>\n",
              "      <td>0.0</td>\n",
              "      <td>1.0</td>\n",
              "      <td>0.0</td>\n",
              "      <td>0.0</td>\n",
              "      <td>0.0</td>\n",
              "      <td>1.0</td>\n",
              "      <td>0.0</td>\n",
              "      <td>0.0</td>\n",
              "      <td>0.0</td>\n",
              "      <td>0.0</td>\n",
              "      <td>0.0</td>\n",
              "      <td>0.0</td>\n",
              "      <td>0.0</td>\n",
              "      <td>0.0</td>\n",
              "      <td>1.0</td>\n",
              "      <td>0.0</td>\n",
              "      <td>0.0</td>\n",
              "    </tr>\n",
              "  </tbody>\n",
              "</table>\n",
              "</div>"
            ],
            "text/plain": [
              "         Age  Dependents  ...  Other_Debtors_Guarantors_A103  Other_Inst_Plans_A143\n",
              "13  0.800000         0.5  ...                            0.0                    1.0\n",
              "26  0.520000         0.5  ...                            0.0                    1.0\n",
              "36  0.413333         0.5  ...                            0.0                    0.0\n",
              "\n",
              "[3 rows x 50 columns]"
            ]
          },
          "metadata": {
            "tags": []
          },
          "execution_count": 158
        }
      ]
    },
    {
      "cell_type": "code",
      "metadata": {
        "id": "ypER3GvG4Ahr",
        "colab_type": "code",
        "colab": {}
      },
      "source": [
        "from sklearn.tree import DecisionTreeClassifier\n",
        "from sklearn import metrics\n",
        "from sklearn.metrics import f1_score\n",
        "from sklearn.metrics import confusion_matrix\n",
        "from sklearn.metrics import log_loss"
      ],
      "execution_count": 0,
      "outputs": []
    },
    {
      "cell_type": "markdown",
      "metadata": {
        "id": "kico6L2HsWrb",
        "colab_type": "text"
      },
      "source": [
        "Let's define a function for plotting and visualizing The Confusion matrix"
      ]
    },
    {
      "cell_type": "code",
      "metadata": {
        "id": "nmQ0teQmjrDk",
        "colab_type": "code",
        "colab": {}
      },
      "source": [
        "from sklearn.metrics import classification_report\n",
        "\n",
        "\n",
        "def plot_confusion_matrix(cm, classes,\n",
        "                          normalize=False,\n",
        "                          title='Confusion matrix',\n",
        "                          cmap=plt.cm.Blues):\n",
        "    \"\"\"\n",
        "    This function prints and plots the confusion matrix.\n",
        "    Normalization can be applied by setting `normalize=True`.\n",
        "    \"\"\"\n",
        "    if normalize:\n",
        "        cm = cm.astype('float') / cm.sum(axis=1)[:, np.newaxis]\n",
        "        print(\"Normalized confusion matrix\")\n",
        "    else:\n",
        "        print('Confusion matrix, without normalization')\n",
        "\n",
        "    print(cm)\n",
        "\n",
        "    plt.imshow(cm, interpolation='nearest', cmap=cmap)\n",
        "    plt.title(title)\n",
        "    plt.colorbar()\n",
        "    tick_marks = np.arange(len(classes))\n",
        "    plt.xticks(tick_marks, classes, rotation=45)\n",
        "    plt.yticks(tick_marks, classes)\n",
        "\n",
        "    fmt = '.2f' if normalize else 'd'\n",
        "    thresh = cm.max() / 2.\n",
        "    for i, j in itertools.product(range(cm.shape[0]), range(cm.shape[1])):\n",
        "        plt.text(j, i, format(cm[i, j], fmt),\n",
        "                 horizontalalignment=\"center\",\n",
        "                 color=\"white\" if cm[i, j] > thresh else \"black\")\n",
        "\n",
        "    plt.tight_layout()\n",
        "    plt.ylabel('True label')\n",
        "    plt.xlabel('Predicted label')"
      ],
      "execution_count": 0,
      "outputs": []
    },
    {
      "cell_type": "markdown",
      "metadata": {
        "id": "S5-qx-aUBk5R",
        "colab_type": "text"
      },
      "source": [
        "## Decision Tree Classifier"
      ]
    },
    {
      "cell_type": "markdown",
      "metadata": {
        "id": "I3fQ6NMvsvsW",
        "colab_type": "text"
      },
      "source": [
        "Let's define a function that returns the best decison tree classifier model and outputs its parameters and  a plot of the confusion matrix"
      ]
    },
    {
      "cell_type": "code",
      "metadata": {
        "id": "_jhxn-mWi-GK",
        "colab_type": "code",
        "colab": {}
      },
      "source": [
        "# set max depth range limit for DTree model to iterate through from 1 to 100 to find best parameters\n",
        "max_depth = 100\n",
        "\n",
        "def decision_tree_classifier(max_depth, X_train, y_train, X_val_test, y_val_test):\n",
        "    \"\"\"Method takes max_depth an int, and X_train and y_train 2D/1D arrays,\n",
        "    as well as test data x_test and y_test, also arrays, and returns,\n",
        "    The best max_depth value, from 1 to max_depth, and its best test_accuracy score\"\"\"\n",
        "    \n",
        "    accuracy_dict={'max_depth':0, 'val_acc':0, 'f1_Score':0, 'log_loss':0}\n",
        "\n",
        "    \n",
        "    for i in range(1, max_depth+1):\n",
        "        # Let's instantiate a model\n",
        "        decision_model = DecisionTreeClassifier(criterion='entropy', max_depth = i)\n",
        "        \n",
        "        # Let's train the model\n",
        "        decision_model.fit(X_train, y_train)\n",
        "        \n",
        "        # Let's make prediction on the test data\n",
        "        y_hat = decision_model.predict(X_val_test)\n",
        "        \n",
        "        # Let's measure accuracy of predictions on test data\n",
        "        val_accu = round(metrics.accuracy_score(y_val_test, y_hat),4)\n",
        "        \n",
        "        # Let's Measure the F1 Score\n",
        "        val_f1 = round(f1_score(y_val_test, y_hat, average='weighted'),4)\n",
        "        \n",
        "        # Let's Measure Logloss\n",
        "        logloss = round(log_loss(y_val_test, y_hat, normalize=True),4)\n",
        "        \n",
        "        if accuracy_dict['val_acc'] < val_accu or accuracy_dict['f1_Score'] < val_f1:\n",
        "            accuracy_dict['max_depth'] = i\n",
        "            accuracy_dict['val_acc'] = val_accu\n",
        "            accuracy_dict['f1_Score'] = val_f1\n",
        "            accuracy_dict['log_loss'] = logloss\n",
        "            decision_model2 = decision_model\n",
        "            \n",
        "    print('Model Evaluation:')\n",
        "    print(accuracy_dict)\n",
        "    \n",
        "    # Compute confusion matrix\n",
        "    Dtrees_cnf_matrix = confusion_matrix(y_val_test, y_hat, labels=[1,0])\n",
        "    np.set_printoptions(precision=2)\n",
        "\n",
        "\n",
        "    # Plot non-normalized confusion matrix\n",
        "    plt.figure(figsize=(10, 6))\n",
        "    sns.set(font_scale=1.3)\n",
        "    plot_confusion_matrix(Dtrees_cnf_matrix, \n",
        "                          classes=['Default=1','Non-Default=0'],\n",
        "                          normalize= False,  \n",
        "                          title='Confusion Matrix for Decision-Tree-Classifier')\n",
        "\n",
        "    return decision_model2"
      ],
      "execution_count": 0,
      "outputs": []
    },
    {
      "cell_type": "code",
      "metadata": {
        "id": "CfWzSKck_vQe",
        "colab_type": "code",
        "outputId": "f130cd8b-080a-4afa-8b37-c1bdf8baf6be",
        "colab": {
          "base_uri": "https://localhost:8080/",
          "height": 633
        }
      },
      "source": [
        "Decision_Tree_Model = decision_tree_classifier(max_depth, X_train, y_train, X_val_test, y_val_test)\n",
        "Decision_Tree_Model"
      ],
      "execution_count": 162,
      "outputs": [
        {
          "output_type": "stream",
          "text": [
            "Model Evaluation:\n",
            "{'max_depth': 17, 'val_acc': 0.9971, 'f1_Score': 0.9971, 'log_loss': 0.0985}\n",
            "Confusion matrix, without normalization\n",
            "[[532   4]\n",
            " [  0 516]]\n"
          ],
          "name": "stdout"
        },
        {
          "output_type": "execute_result",
          "data": {
            "text/plain": [
              "DecisionTreeClassifier(ccp_alpha=0.0, class_weight=None, criterion='entropy',\n",
              "                       max_depth=17, max_features=None, max_leaf_nodes=None,\n",
              "                       min_impurity_decrease=0.0, min_impurity_split=None,\n",
              "                       min_samples_leaf=1, min_samples_split=2,\n",
              "                       min_weight_fraction_leaf=0.0, presort='deprecated',\n",
              "                       random_state=None, splitter='best')"
            ]
          },
          "metadata": {
            "tags": []
          },
          "execution_count": 162
        },
        {
          "output_type": "display_data",
          "data": {
            "image/png": "[encoded data removed]",
            "text/plain": [
              "<Figure size 720x432 with 2 Axes>"
            ]
          },
          "metadata": {
            "tags": []
          }
        }
      ]
    },
    {
      "cell_type": "markdown",
      "metadata": {
        "id": "GcNvxhbvMyD_",
        "colab_type": "text"
      },
      "source": [
        "Notice the following about these metrics:<br>\n",
        "• The Confusion Matrix shows the number of True Positives and True Negatives (cases\n",
        "correctly classified) and False Negatives and False Positives (cases incorrectly classified).<br>\n",
        "• The AUC (Area Under the Curve) is the area under the ROC (Receiver Operator Chart) curve. <br>\n",
        "A perfect classifier would have an AUC of 1.0, indicating no trade-off between True and False Positive Rates.<br>\n",
        "• Accuracy is the fraction of cases correctly classified.<br>\n",
        "• Recall, is the fraction of positive cases correctly classified which is $(TP / (TP + FN))$. Notice this fig is  0.99, or 99 percent accurate.\n",
        "which means the classifier misclassifies more than 4 of 10 diabetic patients as nondiabetic.<br>\n",
        "• Precision is the fraction of negative cases correctly classified which is $(TP / (TP + FP))$ which is 0.99 or 99% here."
      ]
    },
    {
      "cell_type": "code",
      "metadata": {
        "id": "vJft7RwjOWA6",
        "colab_type": "code",
        "outputId": "a33fb088-cd55-4338-e8e7-12a7b5ba81e0",
        "colab": {
          "base_uri": "https://localhost:8080/",
          "height": 34
        }
      },
      "source": [
        "recall = 514 / (514 + 0)\n",
        "recall"
      ],
      "execution_count": 163,
      "outputs": [
        {
          "output_type": "execute_result",
          "data": {
            "text/plain": [
              "1.0"
            ]
          },
          "metadata": {
            "tags": []
          },
          "execution_count": 163
        }
      ]
    }
  ]
}